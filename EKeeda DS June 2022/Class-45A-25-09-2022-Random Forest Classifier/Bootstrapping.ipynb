{
 "cells": [
  {
   "cell_type": "code",
   "execution_count": 7,
   "id": "8eaf03e2",
   "metadata": {
    "ExecuteTime": {
     "end_time": "2022-09-25T09:18:40.164958Z",
     "start_time": "2022-09-25T09:18:40.154038Z"
    }
   },
   "outputs": [],
   "source": [
    "import pandas as pd\n",
    "import random\n",
    "import numpy as np"
   ]
  },
  {
   "cell_type": "code",
   "execution_count": 2,
   "id": "523de6cc",
   "metadata": {
    "ExecuteTime": {
     "end_time": "2022-09-25T09:10:36.339202Z",
     "start_time": "2022-09-25T09:10:36.184399Z"
    }
   },
   "outputs": [],
   "source": [
    "data = pd.read_csv(\"./Churn_Modelling.csv\")"
   ]
  },
  {
   "cell_type": "code",
   "execution_count": 3,
   "id": "bb872dc1",
   "metadata": {
    "ExecuteTime": {
     "end_time": "2022-09-25T09:10:40.532267Z",
     "start_time": "2022-09-25T09:10:40.459235Z"
    }
   },
   "outputs": [
    {
     "data": {
      "text/html": [
       "<div>\n",
       "<style scoped>\n",
       "    .dataframe tbody tr th:only-of-type {\n",
       "        vertical-align: middle;\n",
       "    }\n",
       "\n",
       "    .dataframe tbody tr th {\n",
       "        vertical-align: top;\n",
       "    }\n",
       "\n",
       "    .dataframe thead th {\n",
       "        text-align: right;\n",
       "    }\n",
       "</style>\n",
       "<table border=\"1\" class=\"dataframe\">\n",
       "  <thead>\n",
       "    <tr style=\"text-align: right;\">\n",
       "      <th></th>\n",
       "      <th>RowNumber</th>\n",
       "      <th>CustomerId</th>\n",
       "      <th>Surname</th>\n",
       "      <th>CreditScore</th>\n",
       "      <th>Geography</th>\n",
       "      <th>Gender</th>\n",
       "      <th>Age</th>\n",
       "      <th>Tenure</th>\n",
       "      <th>Balance</th>\n",
       "      <th>NumOfProducts</th>\n",
       "      <th>HasCrCard</th>\n",
       "      <th>IsActiveMember</th>\n",
       "      <th>EstimatedSalary</th>\n",
       "      <th>Exited</th>\n",
       "    </tr>\n",
       "  </thead>\n",
       "  <tbody>\n",
       "    <tr>\n",
       "      <th>0</th>\n",
       "      <td>1</td>\n",
       "      <td>15634602</td>\n",
       "      <td>Hargrave</td>\n",
       "      <td>619</td>\n",
       "      <td>France</td>\n",
       "      <td>Female</td>\n",
       "      <td>42</td>\n",
       "      <td>2</td>\n",
       "      <td>0.00</td>\n",
       "      <td>1</td>\n",
       "      <td>1</td>\n",
       "      <td>1</td>\n",
       "      <td>101348.88</td>\n",
       "      <td>1</td>\n",
       "    </tr>\n",
       "    <tr>\n",
       "      <th>1</th>\n",
       "      <td>2</td>\n",
       "      <td>15647311</td>\n",
       "      <td>Hill</td>\n",
       "      <td>608</td>\n",
       "      <td>Spain</td>\n",
       "      <td>Female</td>\n",
       "      <td>41</td>\n",
       "      <td>1</td>\n",
       "      <td>83807.86</td>\n",
       "      <td>1</td>\n",
       "      <td>0</td>\n",
       "      <td>1</td>\n",
       "      <td>112542.58</td>\n",
       "      <td>0</td>\n",
       "    </tr>\n",
       "    <tr>\n",
       "      <th>2</th>\n",
       "      <td>3</td>\n",
       "      <td>15619304</td>\n",
       "      <td>Onio</td>\n",
       "      <td>502</td>\n",
       "      <td>France</td>\n",
       "      <td>Female</td>\n",
       "      <td>42</td>\n",
       "      <td>8</td>\n",
       "      <td>159660.80</td>\n",
       "      <td>3</td>\n",
       "      <td>1</td>\n",
       "      <td>0</td>\n",
       "      <td>113931.57</td>\n",
       "      <td>1</td>\n",
       "    </tr>\n",
       "    <tr>\n",
       "      <th>3</th>\n",
       "      <td>4</td>\n",
       "      <td>15701354</td>\n",
       "      <td>Boni</td>\n",
       "      <td>699</td>\n",
       "      <td>France</td>\n",
       "      <td>Female</td>\n",
       "      <td>39</td>\n",
       "      <td>1</td>\n",
       "      <td>0.00</td>\n",
       "      <td>2</td>\n",
       "      <td>0</td>\n",
       "      <td>0</td>\n",
       "      <td>93826.63</td>\n",
       "      <td>0</td>\n",
       "    </tr>\n",
       "    <tr>\n",
       "      <th>4</th>\n",
       "      <td>5</td>\n",
       "      <td>15737888</td>\n",
       "      <td>Mitchell</td>\n",
       "      <td>850</td>\n",
       "      <td>Spain</td>\n",
       "      <td>Female</td>\n",
       "      <td>43</td>\n",
       "      <td>2</td>\n",
       "      <td>125510.82</td>\n",
       "      <td>1</td>\n",
       "      <td>1</td>\n",
       "      <td>1</td>\n",
       "      <td>79084.10</td>\n",
       "      <td>0</td>\n",
       "    </tr>\n",
       "  </tbody>\n",
       "</table>\n",
       "</div>"
      ],
      "text/plain": [
       "   RowNumber  CustomerId   Surname  CreditScore Geography  Gender  Age  \\\n",
       "0          1    15634602  Hargrave          619    France  Female   42   \n",
       "1          2    15647311      Hill          608     Spain  Female   41   \n",
       "2          3    15619304      Onio          502    France  Female   42   \n",
       "3          4    15701354      Boni          699    France  Female   39   \n",
       "4          5    15737888  Mitchell          850     Spain  Female   43   \n",
       "\n",
       "   Tenure    Balance  NumOfProducts  HasCrCard  IsActiveMember  \\\n",
       "0       2       0.00              1          1               1   \n",
       "1       1   83807.86              1          0               1   \n",
       "2       8  159660.80              3          1               0   \n",
       "3       1       0.00              2          0               0   \n",
       "4       2  125510.82              1          1               1   \n",
       "\n",
       "   EstimatedSalary  Exited  \n",
       "0        101348.88       1  \n",
       "1        112542.58       0  \n",
       "2        113931.57       1  \n",
       "3         93826.63       0  \n",
       "4         79084.10       0  "
      ]
     },
     "execution_count": 3,
     "metadata": {},
     "output_type": "execute_result"
    }
   ],
   "source": [
    "data.head()"
   ]
  },
  {
   "cell_type": "code",
   "execution_count": 4,
   "id": "daf181fd",
   "metadata": {
    "ExecuteTime": {
     "end_time": "2022-09-25T09:11:07.266489Z",
     "start_time": "2022-09-25T09:11:07.201273Z"
    }
   },
   "outputs": [
    {
     "name": "stdout",
     "output_type": "stream",
     "text": [
      "<class 'pandas.core.frame.DataFrame'>\n",
      "RangeIndex: 10000 entries, 0 to 9999\n",
      "Data columns (total 14 columns):\n",
      " #   Column           Non-Null Count  Dtype  \n",
      "---  ------           --------------  -----  \n",
      " 0   RowNumber        10000 non-null  int64  \n",
      " 1   CustomerId       10000 non-null  int64  \n",
      " 2   Surname          10000 non-null  object \n",
      " 3   CreditScore      10000 non-null  int64  \n",
      " 4   Geography        10000 non-null  object \n",
      " 5   Gender           10000 non-null  object \n",
      " 6   Age              10000 non-null  int64  \n",
      " 7   Tenure           10000 non-null  int64  \n",
      " 8   Balance          10000 non-null  float64\n",
      " 9   NumOfProducts    10000 non-null  int64  \n",
      " 10  HasCrCard        10000 non-null  int64  \n",
      " 11  IsActiveMember   10000 non-null  int64  \n",
      " 12  EstimatedSalary  10000 non-null  float64\n",
      " 13  Exited           10000 non-null  int64  \n",
      "dtypes: float64(2), int64(9), object(3)\n",
      "memory usage: 1.1+ MB\n"
     ]
    }
   ],
   "source": [
    "data.info()"
   ]
  },
  {
   "cell_type": "code",
   "execution_count": 9,
   "id": "3189d41c",
   "metadata": {
    "ExecuteTime": {
     "end_time": "2022-09-25T09:21:57.925326Z",
     "start_time": "2022-09-25T09:21:57.890659Z"
    }
   },
   "outputs": [
    {
     "data": {
      "text/html": [
       "<div>\n",
       "<style scoped>\n",
       "    .dataframe tbody tr th:only-of-type {\n",
       "        vertical-align: middle;\n",
       "    }\n",
       "\n",
       "    .dataframe tbody tr th {\n",
       "        vertical-align: top;\n",
       "    }\n",
       "\n",
       "    .dataframe thead th {\n",
       "        text-align: right;\n",
       "    }\n",
       "</style>\n",
       "<table border=\"1\" class=\"dataframe\">\n",
       "  <thead>\n",
       "    <tr style=\"text-align: right;\">\n",
       "      <th></th>\n",
       "      <th>CustomerId</th>\n",
       "      <th>Surname</th>\n",
       "      <th>Gender</th>\n",
       "    </tr>\n",
       "  </thead>\n",
       "  <tbody>\n",
       "    <tr>\n",
       "      <th>0</th>\n",
       "      <td>15634602</td>\n",
       "      <td>Hargrave</td>\n",
       "      <td>Female</td>\n",
       "    </tr>\n",
       "    <tr>\n",
       "      <th>1</th>\n",
       "      <td>15647311</td>\n",
       "      <td>Hill</td>\n",
       "      <td>Female</td>\n",
       "    </tr>\n",
       "    <tr>\n",
       "      <th>3</th>\n",
       "      <td>15701354</td>\n",
       "      <td>Boni</td>\n",
       "      <td>Female</td>\n",
       "    </tr>\n",
       "  </tbody>\n",
       "</table>\n",
       "</div>"
      ],
      "text/plain": [
       "   CustomerId   Surname  Gender\n",
       "0    15634602  Hargrave  Female\n",
       "1    15647311      Hill  Female\n",
       "3    15701354      Boni  Female"
      ]
     },
     "execution_count": 9,
     "metadata": {},
     "output_type": "execute_result"
    }
   ],
   "source": [
    "data.iloc[[0,1,3],[1,2,5]]"
   ]
  },
  {
   "cell_type": "code",
   "execution_count": 12,
   "id": "b4a6b997",
   "metadata": {
    "ExecuteTime": {
     "end_time": "2022-09-25T09:24:08.976060Z",
     "start_time": "2022-09-25T09:24:08.956735Z"
    }
   },
   "outputs": [],
   "source": [
    "def bootstrap(data, row_sampling_ratio=0.8, col_sampling_ratio=0.8, number_of_samples=10):\n",
    "    no_of_rows, no_of_columns = data.shape\n",
    "    row_number_in_samples = int(no_of_rows * row_sampling_ratio)\n",
    "    col_number_in_samples = int(no_of_columns * col_sampling_ratio)\n",
    "    boot_strapped_samples = []\n",
    "    for i in range(number_of_samples):\n",
    "        cols = random.sample(list(np.arange(no_of_columns)), col_number_in_samples)\n",
    "        rows = random.sample(list(np.arange(no_of_rows)), row_number_in_samples)\n",
    "        sampled_data = data.iloc[rows, cols]\n",
    "        boot_strapped_samples.append(sampled_data)\n",
    "    return boot_strapped_samples"
   ]
  },
  {
   "cell_type": "code",
   "execution_count": 13,
   "id": "b0ee7620",
   "metadata": {
    "ExecuteTime": {
     "end_time": "2022-09-25T09:24:09.794064Z",
     "start_time": "2022-09-25T09:24:09.677524Z"
    }
   },
   "outputs": [],
   "source": [
    "sampled_data = bootstrap(data, row_sampling_ratio=0.7, col_sampling_ratio=0.5, number_of_samples=5)"
   ]
  },
  {
   "cell_type": "code",
   "execution_count": 15,
   "id": "c071b642",
   "metadata": {
    "ExecuteTime": {
     "end_time": "2022-09-25T09:24:42.453346Z",
     "start_time": "2022-09-25T09:24:42.423506Z"
    }
   },
   "outputs": [
    {
     "name": "stdout",
     "output_type": "stream",
     "text": [
      "<class 'pandas.core.frame.DataFrame'>\n",
      "Int64Index: 7000 entries, 3808 to 568\n",
      "Data columns (total 7 columns):\n",
      " #   Column          Non-Null Count  Dtype  \n",
      "---  ------          --------------  -----  \n",
      " 0   CustomerId      7000 non-null   int64  \n",
      " 1   NumOfProducts   7000 non-null   int64  \n",
      " 2   Exited          7000 non-null   int64  \n",
      " 3   Balance         7000 non-null   float64\n",
      " 4   Age             7000 non-null   int64  \n",
      " 5   IsActiveMember  7000 non-null   int64  \n",
      " 6   Surname         7000 non-null   object \n",
      "dtypes: float64(1), int64(5), object(1)\n",
      "memory usage: 437.5+ KB\n"
     ]
    }
   ],
   "source": [
    "sampled_data[0].info()"
   ]
  },
  {
   "cell_type": "code",
   "execution_count": 16,
   "id": "823a8410",
   "metadata": {
    "ExecuteTime": {
     "end_time": "2022-09-25T09:25:21.242941Z",
     "start_time": "2022-09-25T09:25:21.213989Z"
    }
   },
   "outputs": [
    {
     "name": "stdout",
     "output_type": "stream",
     "text": [
      "<class 'pandas.core.frame.DataFrame'>\n",
      "Int64Index: 7000 entries, 2351 to 9881\n",
      "Data columns (total 7 columns):\n",
      " #   Column           Non-Null Count  Dtype  \n",
      "---  ------           --------------  -----  \n",
      " 0   Surname          7000 non-null   object \n",
      " 1   EstimatedSalary  7000 non-null   float64\n",
      " 2   NumOfProducts    7000 non-null   int64  \n",
      " 3   Geography        7000 non-null   object \n",
      " 4   Gender           7000 non-null   object \n",
      " 5   Age              7000 non-null   int64  \n",
      " 6   RowNumber        7000 non-null   int64  \n",
      "dtypes: float64(1), int64(3), object(3)\n",
      "memory usage: 437.5+ KB\n"
     ]
    }
   ],
   "source": [
    "sampled_data[1].info()"
   ]
  },
  {
   "cell_type": "code",
   "execution_count": 17,
   "id": "04931621",
   "metadata": {
    "ExecuteTime": {
     "end_time": "2022-09-25T09:25:27.716407Z",
     "start_time": "2022-09-25T09:25:27.690652Z"
    }
   },
   "outputs": [
    {
     "name": "stdout",
     "output_type": "stream",
     "text": [
      "<class 'pandas.core.frame.DataFrame'>\n",
      "Int64Index: 7000 entries, 928 to 2602\n",
      "Data columns (total 7 columns):\n",
      " #   Column          Non-Null Count  Dtype  \n",
      "---  ------          --------------  -----  \n",
      " 0   Balance         7000 non-null   float64\n",
      " 1   CustomerId      7000 non-null   int64  \n",
      " 2   IsActiveMember  7000 non-null   int64  \n",
      " 3   NumOfProducts   7000 non-null   int64  \n",
      " 4   Geography       7000 non-null   object \n",
      " 5   Exited          7000 non-null   int64  \n",
      " 6   RowNumber       7000 non-null   int64  \n",
      "dtypes: float64(1), int64(5), object(1)\n",
      "memory usage: 437.5+ KB\n"
     ]
    }
   ],
   "source": [
    "sampled_data[2].info()"
   ]
  },
  {
   "cell_type": "code",
   "execution_count": 18,
   "id": "0b261190",
   "metadata": {
    "ExecuteTime": {
     "end_time": "2022-09-25T09:25:33.244328Z",
     "start_time": "2022-09-25T09:25:33.219212Z"
    }
   },
   "outputs": [
    {
     "name": "stdout",
     "output_type": "stream",
     "text": [
      "<class 'pandas.core.frame.DataFrame'>\n",
      "Int64Index: 7000 entries, 940 to 8639\n",
      "Data columns (total 7 columns):\n",
      " #   Column          Non-Null Count  Dtype \n",
      "---  ------          --------------  ----- \n",
      " 0   CreditScore     7000 non-null   int64 \n",
      " 1   Exited          7000 non-null   int64 \n",
      " 2   Surname         7000 non-null   object\n",
      " 3   RowNumber       7000 non-null   int64 \n",
      " 4   IsActiveMember  7000 non-null   int64 \n",
      " 5   NumOfProducts   7000 non-null   int64 \n",
      " 6   CustomerId      7000 non-null   int64 \n",
      "dtypes: int64(6), object(1)\n",
      "memory usage: 437.5+ KB\n"
     ]
    }
   ],
   "source": [
    "sampled_data[3].info()"
   ]
  },
  {
   "cell_type": "code",
   "execution_count": 19,
   "id": "16d01de2",
   "metadata": {
    "ExecuteTime": {
     "end_time": "2022-09-25T09:25:37.251619Z",
     "start_time": "2022-09-25T09:25:37.214249Z"
    }
   },
   "outputs": [
    {
     "name": "stdout",
     "output_type": "stream",
     "text": [
      "<class 'pandas.core.frame.DataFrame'>\n",
      "Int64Index: 7000 entries, 1759 to 6917\n",
      "Data columns (total 7 columns):\n",
      " #   Column           Non-Null Count  Dtype  \n",
      "---  ------           --------------  -----  \n",
      " 0   Age              7000 non-null   int64  \n",
      " 1   RowNumber        7000 non-null   int64  \n",
      " 2   EstimatedSalary  7000 non-null   float64\n",
      " 3   CustomerId       7000 non-null   int64  \n",
      " 4   CreditScore      7000 non-null   int64  \n",
      " 5   Geography        7000 non-null   object \n",
      " 6   NumOfProducts    7000 non-null   int64  \n",
      "dtypes: float64(1), int64(5), object(1)\n",
      "memory usage: 437.5+ KB\n"
     ]
    }
   ],
   "source": [
    "sampled_data[4].info()"
   ]
  },
  {
   "cell_type": "code",
   "execution_count": null,
   "id": "9406d4f6",
   "metadata": {},
   "outputs": [],
   "source": []
  }
 ],
 "metadata": {
  "kernelspec": {
   "display_name": "Python 3 (ipykernel)",
   "language": "python",
   "name": "python3"
  },
  "language_info": {
   "codemirror_mode": {
    "name": "ipython",
    "version": 3
   },
   "file_extension": ".py",
   "mimetype": "text/x-python",
   "name": "python",
   "nbconvert_exporter": "python",
   "pygments_lexer": "ipython3",
   "version": "3.9.7"
  },
  "toc": {
   "base_numbering": 1,
   "nav_menu": {},
   "number_sections": true,
   "sideBar": true,
   "skip_h1_title": true,
   "title_cell": "Table of Contents",
   "title_sidebar": "Contents",
   "toc_cell": false,
   "toc_position": {},
   "toc_section_display": true,
   "toc_window_display": false
  }
 },
 "nbformat": 4,
 "nbformat_minor": 5
}
