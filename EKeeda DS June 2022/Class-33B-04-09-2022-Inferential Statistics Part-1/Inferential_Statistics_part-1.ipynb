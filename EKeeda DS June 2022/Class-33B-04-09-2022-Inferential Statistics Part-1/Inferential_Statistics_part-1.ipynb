{
 "cells": [
  {
   "cell_type": "markdown",
   "id": "3ff0752c",
   "metadata": {},
   "source": [
    "## Gather data"
   ]
  },
  {
   "cell_type": "code",
   "execution_count": 1,
   "id": "6399c76a",
   "metadata": {
    "ExecuteTime": {
     "end_time": "2022-09-04T06:10:19.354532Z",
     "start_time": "2022-09-04T06:10:18.193668Z"
    }
   },
   "outputs": [],
   "source": [
    "import pandas as pd\n",
    "import numpy as np\n",
    "import matplotlib.pyplot as plt"
   ]
  },
  {
   "cell_type": "code",
   "execution_count": 46,
   "id": "99dbfbc8",
   "metadata": {
    "ExecuteTime": {
     "end_time": "2022-09-04T06:52:30.290335Z",
     "start_time": "2022-09-04T06:52:29.049319Z"
    }
   },
   "outputs": [],
   "source": [
    "import seaborn as sns"
   ]
  },
  {
   "cell_type": "code",
   "execution_count": 2,
   "id": "74e3649e",
   "metadata": {
    "ExecuteTime": {
     "end_time": "2022-09-04T06:10:43.473705Z",
     "start_time": "2022-09-04T06:10:43.435102Z"
    }
   },
   "outputs": [],
   "source": [
    "data = pd.read_csv(\"./weight-height.csv\")"
   ]
  },
  {
   "cell_type": "code",
   "execution_count": 3,
   "id": "44a76ec8",
   "metadata": {
    "ExecuteTime": {
     "end_time": "2022-09-04T06:10:46.724023Z",
     "start_time": "2022-09-04T06:10:46.688643Z"
    }
   },
   "outputs": [
    {
     "data": {
      "text/html": [
       "<div>\n",
       "<style scoped>\n",
       "    .dataframe tbody tr th:only-of-type {\n",
       "        vertical-align: middle;\n",
       "    }\n",
       "\n",
       "    .dataframe tbody tr th {\n",
       "        vertical-align: top;\n",
       "    }\n",
       "\n",
       "    .dataframe thead th {\n",
       "        text-align: right;\n",
       "    }\n",
       "</style>\n",
       "<table border=\"1\" class=\"dataframe\">\n",
       "  <thead>\n",
       "    <tr style=\"text-align: right;\">\n",
       "      <th></th>\n",
       "      <th>Gender</th>\n",
       "      <th>Height</th>\n",
       "      <th>Weight</th>\n",
       "    </tr>\n",
       "  </thead>\n",
       "  <tbody>\n",
       "    <tr>\n",
       "      <th>0</th>\n",
       "      <td>Male</td>\n",
       "      <td>73.847017</td>\n",
       "      <td>241.893563</td>\n",
       "    </tr>\n",
       "    <tr>\n",
       "      <th>1</th>\n",
       "      <td>Male</td>\n",
       "      <td>68.781904</td>\n",
       "      <td>162.310473</td>\n",
       "    </tr>\n",
       "    <tr>\n",
       "      <th>2</th>\n",
       "      <td>Male</td>\n",
       "      <td>74.110105</td>\n",
       "      <td>212.740856</td>\n",
       "    </tr>\n",
       "    <tr>\n",
       "      <th>3</th>\n",
       "      <td>Male</td>\n",
       "      <td>71.730978</td>\n",
       "      <td>220.042470</td>\n",
       "    </tr>\n",
       "    <tr>\n",
       "      <th>4</th>\n",
       "      <td>Male</td>\n",
       "      <td>69.881796</td>\n",
       "      <td>206.349801</td>\n",
       "    </tr>\n",
       "  </tbody>\n",
       "</table>\n",
       "</div>"
      ],
      "text/plain": [
       "  Gender     Height      Weight\n",
       "0   Male  73.847017  241.893563\n",
       "1   Male  68.781904  162.310473\n",
       "2   Male  74.110105  212.740856\n",
       "3   Male  71.730978  220.042470\n",
       "4   Male  69.881796  206.349801"
      ]
     },
     "execution_count": 3,
     "metadata": {},
     "output_type": "execute_result"
    }
   ],
   "source": [
    "data.head()"
   ]
  },
  {
   "cell_type": "code",
   "execution_count": 4,
   "id": "a93767b7",
   "metadata": {
    "ExecuteTime": {
     "end_time": "2022-09-04T06:11:25.320930Z",
     "start_time": "2022-09-04T06:11:25.301492Z"
    }
   },
   "outputs": [
    {
     "data": {
      "text/plain": [
       "(10000, 3)"
      ]
     },
     "execution_count": 4,
     "metadata": {},
     "output_type": "execute_result"
    }
   ],
   "source": [
    "data.shape"
   ]
  },
  {
   "cell_type": "markdown",
   "id": "72666091",
   "metadata": {},
   "source": [
    "Let's assume this is our population data. i.e. we have 10000 population whose height, weight and gender is known to us."
   ]
  },
  {
   "cell_type": "markdown",
   "id": "ab68dff4",
   "metadata": {},
   "source": [
    "## Population parameters"
   ]
  },
  {
   "cell_type": "code",
   "execution_count": 5,
   "id": "1670d7e2",
   "metadata": {
    "ExecuteTime": {
     "end_time": "2022-09-04T06:14:07.428947Z",
     "start_time": "2022-09-04T06:14:07.408495Z"
    }
   },
   "outputs": [],
   "source": [
    "male_population = data[data['Gender']=='Male']\n",
    "female_population = data[data['Gender']=='Female']"
   ]
  },
  {
   "cell_type": "code",
   "execution_count": 10,
   "id": "09454504",
   "metadata": {
    "ExecuteTime": {
     "end_time": "2022-09-04T06:16:13.657934Z",
     "start_time": "2022-09-04T06:16:13.641539Z"
    }
   },
   "outputs": [],
   "source": [
    "male_pop_height_mean = male_population['Height'].mean()\n",
    "male_pop_height_std_dev = male_population['Height'].std(ddof=0)"
   ]
  },
  {
   "cell_type": "code",
   "execution_count": 15,
   "id": "056c112a",
   "metadata": {
    "ExecuteTime": {
     "end_time": "2022-09-04T06:18:55.041214Z",
     "start_time": "2022-09-04T06:18:55.026067Z"
    }
   },
   "outputs": [
    {
     "name": "stdout",
     "output_type": "stream",
     "text": [
      "For Male heights: Population Mean = 69.03, Population std. dev = 2.86\n"
     ]
    }
   ],
   "source": [
    "print(f\"For Male heights: Population Mean = {np.round(male_pop_height_mean,2)}, Population std. dev = {np.round(male_pop_height_std_dev,2)}\")"
   ]
  },
  {
   "cell_type": "code",
   "execution_count": 13,
   "id": "7294a43c",
   "metadata": {
    "ExecuteTime": {
     "end_time": "2022-09-04T06:18:21.963797Z",
     "start_time": "2022-09-04T06:18:21.956017Z"
    }
   },
   "outputs": [],
   "source": [
    "female_pop_height_mean = female_population['Height'].mean()\n",
    "female_pop_height_std_dev = female_population['Height'].std(ddof=0)"
   ]
  },
  {
   "cell_type": "code",
   "execution_count": 16,
   "id": "37a22ac0",
   "metadata": {
    "ExecuteTime": {
     "end_time": "2022-09-04T06:18:57.236818Z",
     "start_time": "2022-09-04T06:18:57.232246Z"
    }
   },
   "outputs": [
    {
     "name": "stdout",
     "output_type": "stream",
     "text": [
      "For Female heights: Population Mean = 63.71, Population std. dev = 2.7\n"
     ]
    }
   ],
   "source": [
    "print(f\"For Female heights: Population Mean = {np.round(female_pop_height_mean,2)}, Population std. dev = {np.round(female_pop_height_std_dev,2)}\")"
   ]
  },
  {
   "cell_type": "markdown",
   "id": "ddc4949d",
   "metadata": {},
   "source": [
    "## Take a sample"
   ]
  },
  {
   "cell_type": "markdown",
   "id": "a458240a",
   "metadata": {},
   "source": [
    "Now, suppose I take a small sample (sample size = 200) from the data and observe its property"
   ]
  },
  {
   "cell_type": "code",
   "execution_count": 17,
   "id": "d20f7ebe",
   "metadata": {
    "ExecuteTime": {
     "end_time": "2022-09-04T06:22:04.202055Z",
     "start_time": "2022-09-04T06:22:04.193951Z"
    }
   },
   "outputs": [],
   "source": [
    "sample_male_data = male_population.sample(frac=0.04)"
   ]
  },
  {
   "cell_type": "code",
   "execution_count": 18,
   "id": "6f46ad9d",
   "metadata": {
    "ExecuteTime": {
     "end_time": "2022-09-04T06:22:07.955414Z",
     "start_time": "2022-09-04T06:22:07.933757Z"
    }
   },
   "outputs": [
    {
     "data": {
      "text/html": [
       "<div>\n",
       "<style scoped>\n",
       "    .dataframe tbody tr th:only-of-type {\n",
       "        vertical-align: middle;\n",
       "    }\n",
       "\n",
       "    .dataframe tbody tr th {\n",
       "        vertical-align: top;\n",
       "    }\n",
       "\n",
       "    .dataframe thead th {\n",
       "        text-align: right;\n",
       "    }\n",
       "</style>\n",
       "<table border=\"1\" class=\"dataframe\">\n",
       "  <thead>\n",
       "    <tr style=\"text-align: right;\">\n",
       "      <th></th>\n",
       "      <th>Gender</th>\n",
       "      <th>Height</th>\n",
       "      <th>Weight</th>\n",
       "    </tr>\n",
       "  </thead>\n",
       "  <tbody>\n",
       "    <tr>\n",
       "      <th>4132</th>\n",
       "      <td>Male</td>\n",
       "      <td>70.447792</td>\n",
       "      <td>199.383453</td>\n",
       "    </tr>\n",
       "    <tr>\n",
       "      <th>4736</th>\n",
       "      <td>Male</td>\n",
       "      <td>67.266736</td>\n",
       "      <td>178.634684</td>\n",
       "    </tr>\n",
       "    <tr>\n",
       "      <th>4993</th>\n",
       "      <td>Male</td>\n",
       "      <td>65.327337</td>\n",
       "      <td>171.762518</td>\n",
       "    </tr>\n",
       "    <tr>\n",
       "      <th>4355</th>\n",
       "      <td>Male</td>\n",
       "      <td>74.040780</td>\n",
       "      <td>217.122686</td>\n",
       "    </tr>\n",
       "    <tr>\n",
       "      <th>3630</th>\n",
       "      <td>Male</td>\n",
       "      <td>67.290283</td>\n",
       "      <td>187.001020</td>\n",
       "    </tr>\n",
       "    <tr>\n",
       "      <th>...</th>\n",
       "      <td>...</td>\n",
       "      <td>...</td>\n",
       "      <td>...</td>\n",
       "    </tr>\n",
       "    <tr>\n",
       "      <th>1732</th>\n",
       "      <td>Male</td>\n",
       "      <td>67.590168</td>\n",
       "      <td>174.009152</td>\n",
       "    </tr>\n",
       "    <tr>\n",
       "      <th>2797</th>\n",
       "      <td>Male</td>\n",
       "      <td>71.050918</td>\n",
       "      <td>200.734578</td>\n",
       "    </tr>\n",
       "    <tr>\n",
       "      <th>2792</th>\n",
       "      <td>Male</td>\n",
       "      <td>72.467025</td>\n",
       "      <td>208.294589</td>\n",
       "    </tr>\n",
       "    <tr>\n",
       "      <th>1739</th>\n",
       "      <td>Male</td>\n",
       "      <td>69.762879</td>\n",
       "      <td>189.828313</td>\n",
       "    </tr>\n",
       "    <tr>\n",
       "      <th>977</th>\n",
       "      <td>Male</td>\n",
       "      <td>73.122433</td>\n",
       "      <td>221.445902</td>\n",
       "    </tr>\n",
       "  </tbody>\n",
       "</table>\n",
       "<p>200 rows × 3 columns</p>\n",
       "</div>"
      ],
      "text/plain": [
       "     Gender     Height      Weight\n",
       "4132   Male  70.447792  199.383453\n",
       "4736   Male  67.266736  178.634684\n",
       "4993   Male  65.327337  171.762518\n",
       "4355   Male  74.040780  217.122686\n",
       "3630   Male  67.290283  187.001020\n",
       "...     ...        ...         ...\n",
       "1732   Male  67.590168  174.009152\n",
       "2797   Male  71.050918  200.734578\n",
       "2792   Male  72.467025  208.294589\n",
       "1739   Male  69.762879  189.828313\n",
       "977    Male  73.122433  221.445902\n",
       "\n",
       "[200 rows x 3 columns]"
      ]
     },
     "execution_count": 18,
     "metadata": {},
     "output_type": "execute_result"
    }
   ],
   "source": [
    "sample_male_data"
   ]
  },
  {
   "cell_type": "markdown",
   "id": "b26b1f28",
   "metadata": {},
   "source": [
    "## Calculate sample statistics"
   ]
  },
  {
   "cell_type": "code",
   "execution_count": 19,
   "id": "71fec6a8",
   "metadata": {
    "ExecuteTime": {
     "end_time": "2022-09-04T06:23:47.633031Z",
     "start_time": "2022-09-04T06:23:47.628031Z"
    }
   },
   "outputs": [],
   "source": [
    "male_sam_height_mean = sample_male_data['Height'].mean()\n",
    "male_sam_height_std_dev = sample_male_data['Height'].std(ddof=1)"
   ]
  },
  {
   "cell_type": "code",
   "execution_count": 20,
   "id": "548c9aa2",
   "metadata": {
    "ExecuteTime": {
     "end_time": "2022-09-04T06:25:17.566680Z",
     "start_time": "2022-09-04T06:25:17.556803Z"
    }
   },
   "outputs": [
    {
     "name": "stdout",
     "output_type": "stream",
     "text": [
      "For Male heights: sample mean = 69.18, sample std dev = 2.94\n"
     ]
    }
   ],
   "source": [
    "print(f\"For Male heights: sample mean = {np.round(male_sam_height_mean,2)}, sample std dev = {np.round(male_sam_height_std_dev,2)}\")"
   ]
  },
  {
   "cell_type": "markdown",
   "id": "1d7edc67",
   "metadata": {},
   "source": [
    "## Take multiple samples of the same population (male height) and observe the sample statistics"
   ]
  },
  {
   "cell_type": "code",
   "execution_count": 23,
   "id": "8409d3d8",
   "metadata": {
    "ExecuteTime": {
     "end_time": "2022-09-04T06:28:58.377231Z",
     "start_time": "2022-09-04T06:28:58.365777Z"
    }
   },
   "outputs": [],
   "source": [
    "population_size = len(male_population)"
   ]
  },
  {
   "cell_type": "code",
   "execution_count": 24,
   "id": "94e0ec94",
   "metadata": {
    "ExecuteTime": {
     "end_time": "2022-09-04T06:29:01.401902Z",
     "start_time": "2022-09-04T06:29:01.386336Z"
    }
   },
   "outputs": [
    {
     "data": {
      "text/plain": [
       "5000"
      ]
     },
     "execution_count": 24,
     "metadata": {},
     "output_type": "execute_result"
    }
   ],
   "source": [
    "population_size"
   ]
  },
  {
   "cell_type": "code",
   "execution_count": 21,
   "id": "5c03fc1c",
   "metadata": {
    "ExecuteTime": {
     "end_time": "2022-09-04T06:27:07.689667Z",
     "start_time": "2022-09-04T06:27:07.682077Z"
    }
   },
   "outputs": [],
   "source": [
    "no_of_samples = 100\n",
    "sample_size = 200"
   ]
  },
  {
   "cell_type": "code",
   "execution_count": 22,
   "id": "a0fc379f",
   "metadata": {
    "ExecuteTime": {
     "end_time": "2022-09-04T06:27:48.715002Z",
     "start_time": "2022-09-04T06:27:48.701357Z"
    }
   },
   "outputs": [],
   "source": [
    "male_sample_heights_mean = []\n",
    "male_sample_heights_std_dev = []"
   ]
  },
  {
   "cell_type": "code",
   "execution_count": 25,
   "id": "4ebc9797",
   "metadata": {
    "ExecuteTime": {
     "end_time": "2022-09-04T06:30:33.376115Z",
     "start_time": "2022-09-04T06:30:33.305964Z"
    }
   },
   "outputs": [],
   "source": [
    "for i in range(no_of_samples):\n",
    "    sample_data = male_population.sample(frac=sample_size/population_size)\n",
    "    m = sample_data['Height'].mean()\n",
    "    s = sample_data['Height'].std(ddof=1)\n",
    "    male_sample_heights_mean.append(m)\n",
    "    male_sample_heights_std_dev.append(s)"
   ]
  },
  {
   "cell_type": "markdown",
   "id": "2d8f7f83",
   "metadata": {},
   "source": [
    "## Mean of sample means"
   ]
  },
  {
   "cell_type": "code",
   "execution_count": 29,
   "id": "e0e1b183",
   "metadata": {
    "ExecuteTime": {
     "end_time": "2022-09-04T06:31:53.423742Z",
     "start_time": "2022-09-04T06:31:53.393692Z"
    }
   },
   "outputs": [
    {
     "data": {
      "text/plain": [
       "69.02241629252659"
      ]
     },
     "execution_count": 29,
     "metadata": {},
     "output_type": "execute_result"
    }
   ],
   "source": [
    "np.mean(male_sample_heights_mean)"
   ]
  },
  {
   "cell_type": "code",
   "execution_count": 30,
   "id": "a75d8251",
   "metadata": {
    "ExecuteTime": {
     "end_time": "2022-09-04T06:32:14.115949Z",
     "start_time": "2022-09-04T06:32:14.108411Z"
    }
   },
   "outputs": [
    {
     "data": {
      "text/plain": [
       "69.02634590621737"
      ]
     },
     "execution_count": 30,
     "metadata": {},
     "output_type": "execute_result"
    }
   ],
   "source": [
    "male_pop_height_mean"
   ]
  },
  {
   "cell_type": "markdown",
   "id": "c2b5baea",
   "metadata": {},
   "source": [
    "## Mean of sample std dev"
   ]
  },
  {
   "cell_type": "code",
   "execution_count": 31,
   "id": "b3a44615",
   "metadata": {
    "ExecuteTime": {
     "end_time": "2022-09-04T06:33:03.190352Z",
     "start_time": "2022-09-04T06:33:03.181351Z"
    }
   },
   "outputs": [
    {
     "data": {
      "text/plain": [
       "2.8763690099163113"
      ]
     },
     "execution_count": 31,
     "metadata": {},
     "output_type": "execute_result"
    }
   ],
   "source": [
    "np.mean(male_sample_heights_std_dev)"
   ]
  },
  {
   "cell_type": "code",
   "execution_count": 32,
   "id": "92de0715",
   "metadata": {
    "ExecuteTime": {
     "end_time": "2022-09-04T06:33:13.898228Z",
     "start_time": "2022-09-04T06:33:13.877583Z"
    }
   },
   "outputs": [
    {
     "data": {
      "text/plain": [
       "2.863075878119542"
      ]
     },
     "execution_count": 32,
     "metadata": {},
     "output_type": "execute_result"
    }
   ],
   "source": [
    "male_pop_height_std_dev"
   ]
  },
  {
   "cell_type": "markdown",
   "id": "600c2728",
   "metadata": {},
   "source": [
    "## Sampling distribution and Central Limit Theorem\n",
    "\n",
    "By **Sampling Distribution** we mean distribution of \"sample means\". i.e. If I take multiple samples from the same population and calculate the average for every sample and try to build a distrbution of those calculated sample means then that will create sampling distribution or distribution of sample means."
   ]
  },
  {
   "cell_type": "code",
   "execution_count": 48,
   "id": "c6cf9589",
   "metadata": {
    "ExecuteTime": {
     "end_time": "2022-09-04T06:59:15.518200Z",
     "start_time": "2022-09-04T06:59:15.512518Z"
    }
   },
   "outputs": [],
   "source": [
    "def sampling_distribution(sample_size=40, no_of_samples=500):\n",
    "    sample_means = []\n",
    "    sample_std_devs = []\n",
    "    for i in range(no_of_samples):\n",
    "        sample_data = male_population.sample(frac=sample_size/population_size)\n",
    "        m = sample_data['Height'].mean()\n",
    "        s = sample_data['Height'].std(ddof=1)\n",
    "        sample_means.append(m)\n",
    "        sample_std_devs.append(s)\n",
    "    print(f\"For sample means: average: {np.round(np.mean(sample_means),2)}, minimum: {np.round(min(sample_means), 2)}, maximum: {np.round(max(sample_means),2)}\")\n",
    "    return sample_means, sample_std_devs"
   ]
  },
  {
   "cell_type": "code",
   "execution_count": 62,
   "id": "3116130a",
   "metadata": {
    "ExecuteTime": {
     "end_time": "2022-09-04T07:04:40.882844Z",
     "start_time": "2022-09-04T07:04:40.875059Z"
    }
   },
   "outputs": [],
   "source": [
    "s = 200\n",
    "n = 1000"
   ]
  },
  {
   "cell_type": "code",
   "execution_count": 63,
   "id": "9e1b7547",
   "metadata": {
    "ExecuteTime": {
     "end_time": "2022-09-04T07:04:41.987579Z",
     "start_time": "2022-09-04T07:04:41.531331Z"
    }
   },
   "outputs": [
    {
     "name": "stdout",
     "output_type": "stream",
     "text": [
      "For sample means: average: 69.01, minimum: 68.29, maximum: 69.62\n"
     ]
    }
   ],
   "source": [
    "sam_means, sam_std_devs = sampling_distribution(sample_size=s, no_of_samples=n)"
   ]
  },
  {
   "cell_type": "code",
   "execution_count": 61,
   "id": "678efc83",
   "metadata": {
    "ExecuteTime": {
     "end_time": "2022-09-04T07:04:31.662039Z",
     "start_time": "2022-09-04T07:04:31.438263Z"
    }
   },
   "outputs": [
    {
     "data": {
      "image/png": "[encoded data removed]",
      "text/plain": [
       "<Figure size 720x576 with 1 Axes>"
      ]
     },
     "metadata": {
      "needs_background": "light"
     },
     "output_type": "display_data"
    }
   ],
   "source": [
    "plt.figure(figsize=(10,8))\n",
    "sns.histplot(data=sam_means, kde=True)\n",
    "plt.grid()\n",
    "plt.title(f\"Distribution of sample means. Sample size = {s}\")\n",
    "plt.show()"
   ]
  },
  {
   "cell_type": "markdown",
   "id": "3d6f3cb1",
   "metadata": {},
   "source": [
    "**Sample Mean Statistics**\n",
    "\n",
    "| Sample Size | Average of Sample Means | Lower Limit | Upper Limit |\n",
    "| :---------: | :---------------------: | :---------: | :---------: |\n",
    "| 25 | 69.02 | 67.22 | 70.58 |\n",
    "| 30 | 69.01 | 67.08 | 70.72 |\n",
    "| 40 | 69.03 | 67.53 | 70.42 |\n",
    "| 50 | 69.05 | 67.78 | 70.36 |\n",
    "| 100 | 69.03 | 68.19 | 70.12 |\n",
    "| 200 | 69.01 | 68.29 | 69.62 |"
   ]
  },
  {
   "cell_type": "code",
   "execution_count": 65,
   "id": "33900376",
   "metadata": {
    "ExecuteTime": {
     "end_time": "2022-09-04T07:05:49.172469Z",
     "start_time": "2022-09-04T07:05:49.151491Z"
    }
   },
   "outputs": [
    {
     "data": {
      "text/plain": [
       "69.03"
      ]
     },
     "execution_count": 65,
     "metadata": {},
     "output_type": "execute_result"
    }
   ],
   "source": [
    "np.round(male_pop_height_mean,2)"
   ]
  },
  {
   "cell_type": "markdown",
   "id": "f8b6bcf8",
   "metadata": {},
   "source": [
    "**Observations**\n",
    "\n",
    "1. Average of the sample means (for any sample size) is very close or exactly equal to the population mean\n",
    "2. As the sample size increases the range of the distribution (max - min) decreases\n",
    "3. For all the cases the sample distribution follow a normal distribustion (Gaussian distribution) "
   ]
  },
  {
   "cell_type": "code",
   "execution_count": null,
   "id": "d04f4fa1",
   "metadata": {},
   "outputs": [],
   "source": []
  }
 ],
 "metadata": {
  "kernelspec": {
   "display_name": "Python 3 (ipykernel)",
   "language": "python",
   "name": "python3"
  },
  "language_info": {
   "codemirror_mode": {
    "name": "ipython",
    "version": 3
   },
   "file_extension": ".py",
   "mimetype": "text/x-python",
   "name": "python",
   "nbconvert_exporter": "python",
   "pygments_lexer": "ipython3",
   "version": "3.9.7"
  },
  "toc": {
   "base_numbering": 1,
   "nav_menu": {},
   "number_sections": true,
   "sideBar": true,
   "skip_h1_title": true,
   "title_cell": "Table of Contents",
   "title_sidebar": "Contents",
   "toc_cell": false,
   "toc_position": {},
   "toc_section_display": true,
   "toc_window_display": false
  }
 },
 "nbformat": 4,
 "nbformat_minor": 5
}
