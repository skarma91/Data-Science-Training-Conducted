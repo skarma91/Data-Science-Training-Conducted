{
 "cells": [
  {
   "cell_type": "markdown",
   "id": "27a91a3f",
   "metadata": {},
   "source": [
    "# Hyperparameter Tuning\n",
    "\n",
    "In this notebook we will see how to use hyperparameter tuning for XGBoost model"
   ]
  },
  {
   "cell_type": "markdown",
   "id": "0c80e601",
   "metadata": {},
   "source": [
    "## Read and understand the dataset"
   ]
  },
  {
   "cell_type": "code",
   "execution_count": 1,
   "id": "daf3ef95",
   "metadata": {
    "ExecuteTime": {
     "end_time": "2022-11-05T15:54:07.525145Z",
     "start_time": "2022-11-05T15:54:04.652337Z"
    }
   },
   "outputs": [],
   "source": [
    "import pandas as pd\n",
    "import numpy as np\n",
    "import matplotlib.pyplot as plt"
   ]
  },
  {
   "cell_type": "code",
   "execution_count": 2,
   "id": "9152ccaf",
   "metadata": {
    "ExecuteTime": {
     "end_time": "2022-11-05T15:54:28.062808Z",
     "start_time": "2022-11-05T15:54:27.842692Z"
    }
   },
   "outputs": [],
   "source": [
    "data = pd.read_csv(\"./Churn_modelling_processed_data.csv\")"
   ]
  },
  {
   "cell_type": "code",
   "execution_count": 3,
   "id": "7543fca0",
   "metadata": {
    "ExecuteTime": {
     "end_time": "2022-11-05T15:54:32.182002Z",
     "start_time": "2022-11-05T15:54:32.113939Z"
    }
   },
   "outputs": [
    {
     "data": {
      "text/html": [
       "<div>\n",
       "<style scoped>\n",
       "    .dataframe tbody tr th:only-of-type {\n",
       "        vertical-align: middle;\n",
       "    }\n",
       "\n",
       "    .dataframe tbody tr th {\n",
       "        vertical-align: top;\n",
       "    }\n",
       "\n",
       "    .dataframe thead th {\n",
       "        text-align: right;\n",
       "    }\n",
       "</style>\n",
       "<table border=\"1\" class=\"dataframe\">\n",
       "  <thead>\n",
       "    <tr style=\"text-align: right;\">\n",
       "      <th></th>\n",
       "      <th>CreditScoreScaled</th>\n",
       "      <th>Germany</th>\n",
       "      <th>Spain</th>\n",
       "      <th>GenderCoded</th>\n",
       "      <th>AgeScaled</th>\n",
       "      <th>Tenure</th>\n",
       "      <th>BalanceScaled</th>\n",
       "      <th>NumOfProducts</th>\n",
       "      <th>HasCrCard</th>\n",
       "      <th>IsActiveMember</th>\n",
       "      <th>EstimatedSalaryScaled</th>\n",
       "      <th>Exited</th>\n",
       "    </tr>\n",
       "  </thead>\n",
       "  <tbody>\n",
       "    <tr>\n",
       "      <th>0</th>\n",
       "      <td>0.538</td>\n",
       "      <td>0</td>\n",
       "      <td>0</td>\n",
       "      <td>0</td>\n",
       "      <td>0.324324</td>\n",
       "      <td>2</td>\n",
       "      <td>0.000000</td>\n",
       "      <td>1</td>\n",
       "      <td>1</td>\n",
       "      <td>1</td>\n",
       "      <td>0.506735</td>\n",
       "      <td>1</td>\n",
       "    </tr>\n",
       "    <tr>\n",
       "      <th>1</th>\n",
       "      <td>0.516</td>\n",
       "      <td>0</td>\n",
       "      <td>1</td>\n",
       "      <td>0</td>\n",
       "      <td>0.310811</td>\n",
       "      <td>1</td>\n",
       "      <td>0.334031</td>\n",
       "      <td>1</td>\n",
       "      <td>0</td>\n",
       "      <td>1</td>\n",
       "      <td>0.562709</td>\n",
       "      <td>0</td>\n",
       "    </tr>\n",
       "    <tr>\n",
       "      <th>2</th>\n",
       "      <td>0.304</td>\n",
       "      <td>0</td>\n",
       "      <td>0</td>\n",
       "      <td>0</td>\n",
       "      <td>0.324324</td>\n",
       "      <td>8</td>\n",
       "      <td>0.636357</td>\n",
       "      <td>3</td>\n",
       "      <td>1</td>\n",
       "      <td>0</td>\n",
       "      <td>0.569654</td>\n",
       "      <td>1</td>\n",
       "    </tr>\n",
       "    <tr>\n",
       "      <th>3</th>\n",
       "      <td>0.698</td>\n",
       "      <td>0</td>\n",
       "      <td>0</td>\n",
       "      <td>0</td>\n",
       "      <td>0.283784</td>\n",
       "      <td>1</td>\n",
       "      <td>0.000000</td>\n",
       "      <td>2</td>\n",
       "      <td>0</td>\n",
       "      <td>0</td>\n",
       "      <td>0.469120</td>\n",
       "      <td>0</td>\n",
       "    </tr>\n",
       "    <tr>\n",
       "      <th>4</th>\n",
       "      <td>1.000</td>\n",
       "      <td>0</td>\n",
       "      <td>1</td>\n",
       "      <td>0</td>\n",
       "      <td>0.337838</td>\n",
       "      <td>2</td>\n",
       "      <td>0.500246</td>\n",
       "      <td>1</td>\n",
       "      <td>1</td>\n",
       "      <td>1</td>\n",
       "      <td>0.395400</td>\n",
       "      <td>0</td>\n",
       "    </tr>\n",
       "    <tr>\n",
       "      <th>5</th>\n",
       "      <td>0.590</td>\n",
       "      <td>0</td>\n",
       "      <td>1</td>\n",
       "      <td>1</td>\n",
       "      <td>0.351351</td>\n",
       "      <td>8</td>\n",
       "      <td>0.453394</td>\n",
       "      <td>2</td>\n",
       "      <td>1</td>\n",
       "      <td>0</td>\n",
       "      <td>0.748797</td>\n",
       "      <td>1</td>\n",
       "    </tr>\n",
       "    <tr>\n",
       "      <th>6</th>\n",
       "      <td>0.944</td>\n",
       "      <td>0</td>\n",
       "      <td>0</td>\n",
       "      <td>1</td>\n",
       "      <td>0.432432</td>\n",
       "      <td>7</td>\n",
       "      <td>0.000000</td>\n",
       "      <td>2</td>\n",
       "      <td>1</td>\n",
       "      <td>1</td>\n",
       "      <td>0.050261</td>\n",
       "      <td>0</td>\n",
       "    </tr>\n",
       "    <tr>\n",
       "      <th>7</th>\n",
       "      <td>0.052</td>\n",
       "      <td>1</td>\n",
       "      <td>0</td>\n",
       "      <td>0</td>\n",
       "      <td>0.148649</td>\n",
       "      <td>4</td>\n",
       "      <td>0.458540</td>\n",
       "      <td>4</td>\n",
       "      <td>1</td>\n",
       "      <td>0</td>\n",
       "      <td>0.596733</td>\n",
       "      <td>1</td>\n",
       "    </tr>\n",
       "    <tr>\n",
       "      <th>8</th>\n",
       "      <td>0.302</td>\n",
       "      <td>0</td>\n",
       "      <td>0</td>\n",
       "      <td>1</td>\n",
       "      <td>0.351351</td>\n",
       "      <td>4</td>\n",
       "      <td>0.566170</td>\n",
       "      <td>2</td>\n",
       "      <td>0</td>\n",
       "      <td>1</td>\n",
       "      <td>0.374680</td>\n",
       "      <td>0</td>\n",
       "    </tr>\n",
       "    <tr>\n",
       "      <th>9</th>\n",
       "      <td>0.668</td>\n",
       "      <td>0</td>\n",
       "      <td>0</td>\n",
       "      <td>1</td>\n",
       "      <td>0.121622</td>\n",
       "      <td>2</td>\n",
       "      <td>0.536488</td>\n",
       "      <td>1</td>\n",
       "      <td>1</td>\n",
       "      <td>1</td>\n",
       "      <td>0.358605</td>\n",
       "      <td>0</td>\n",
       "    </tr>\n",
       "  </tbody>\n",
       "</table>\n",
       "</div>"
      ],
      "text/plain": [
       "   CreditScoreScaled  Germany  Spain  GenderCoded  AgeScaled  Tenure  \\\n",
       "0              0.538        0      0            0   0.324324       2   \n",
       "1              0.516        0      1            0   0.310811       1   \n",
       "2              0.304        0      0            0   0.324324       8   \n",
       "3              0.698        0      0            0   0.283784       1   \n",
       "4              1.000        0      1            0   0.337838       2   \n",
       "5              0.590        0      1            1   0.351351       8   \n",
       "6              0.944        0      0            1   0.432432       7   \n",
       "7              0.052        1      0            0   0.148649       4   \n",
       "8              0.302        0      0            1   0.351351       4   \n",
       "9              0.668        0      0            1   0.121622       2   \n",
       "\n",
       "   BalanceScaled  NumOfProducts  HasCrCard  IsActiveMember  \\\n",
       "0       0.000000              1          1               1   \n",
       "1       0.334031              1          0               1   \n",
       "2       0.636357              3          1               0   \n",
       "3       0.000000              2          0               0   \n",
       "4       0.500246              1          1               1   \n",
       "5       0.453394              2          1               0   \n",
       "6       0.000000              2          1               1   \n",
       "7       0.458540              4          1               0   \n",
       "8       0.566170              2          0               1   \n",
       "9       0.536488              1          1               1   \n",
       "\n",
       "   EstimatedSalaryScaled  Exited  \n",
       "0               0.506735       1  \n",
       "1               0.562709       0  \n",
       "2               0.569654       1  \n",
       "3               0.469120       0  \n",
       "4               0.395400       0  \n",
       "5               0.748797       1  \n",
       "6               0.050261       0  \n",
       "7               0.596733       1  \n",
       "8               0.374680       0  \n",
       "9               0.358605       0  "
      ]
     },
     "execution_count": 3,
     "metadata": {},
     "output_type": "execute_result"
    }
   ],
   "source": [
    "data.head(10)"
   ]
  },
  {
   "cell_type": "code",
   "execution_count": 16,
   "id": "8e8b1c1e",
   "metadata": {
    "ExecuteTime": {
     "end_time": "2022-11-05T16:01:56.748726Z",
     "start_time": "2022-11-05T16:01:56.719469Z"
    }
   },
   "outputs": [
    {
     "data": {
      "text/plain": [
       "0    0.7963\n",
       "1    0.2037\n",
       "Name: Exited, dtype: float64"
      ]
     },
     "execution_count": 16,
     "metadata": {},
     "output_type": "execute_result"
    }
   ],
   "source": [
    "data['Exited'].value_counts(normalize=True)"
   ]
  },
  {
   "cell_type": "markdown",
   "id": "aa66bdd4",
   "metadata": {},
   "source": [
    "In this dataset '0' is majority (79.63%) and '1' is minority (20.37%). So we will not use accuracy as our metric. We will choose f1-score as our metric."
   ]
  },
  {
   "cell_type": "markdown",
   "id": "9857c519",
   "metadata": {},
   "source": [
    "## Selecting X and y"
   ]
  },
  {
   "cell_type": "code",
   "execution_count": 4,
   "id": "055f4496",
   "metadata": {
    "ExecuteTime": {
     "end_time": "2022-11-05T15:56:11.283053Z",
     "start_time": "2022-11-05T15:56:11.260600Z"
    }
   },
   "outputs": [
    {
     "data": {
      "text/plain": [
       "['CreditScoreScaled',\n",
       " 'Germany',\n",
       " 'Spain',\n",
       " 'GenderCoded',\n",
       " 'AgeScaled',\n",
       " 'Tenure',\n",
       " 'BalanceScaled',\n",
       " 'NumOfProducts',\n",
       " 'HasCrCard',\n",
       " 'IsActiveMember',\n",
       " 'EstimatedSalaryScaled']"
      ]
     },
     "execution_count": 4,
     "metadata": {},
     "output_type": "execute_result"
    }
   ],
   "source": [
    "features = data.columns.to_list()\n",
    "features.pop()\n",
    "\n",
    "features"
   ]
  },
  {
   "cell_type": "code",
   "execution_count": 5,
   "id": "4c80741d",
   "metadata": {
    "ExecuteTime": {
     "end_time": "2022-11-05T15:56:29.828816Z",
     "start_time": "2022-11-05T15:56:29.805629Z"
    }
   },
   "outputs": [],
   "source": [
    "target = ['Exited']"
   ]
  },
  {
   "cell_type": "code",
   "execution_count": 6,
   "id": "c4c37ec3",
   "metadata": {
    "ExecuteTime": {
     "end_time": "2022-11-05T15:56:44.790042Z",
     "start_time": "2022-11-05T15:56:44.752838Z"
    }
   },
   "outputs": [],
   "source": [
    "X = data[features].values\n",
    "y = data[target].values"
   ]
  },
  {
   "cell_type": "code",
   "execution_count": 7,
   "id": "997da1cf",
   "metadata": {
    "ExecuteTime": {
     "end_time": "2022-11-05T15:56:48.631762Z",
     "start_time": "2022-11-05T15:56:48.620375Z"
    }
   },
   "outputs": [
    {
     "data": {
      "text/plain": [
       "(10000, 11)"
      ]
     },
     "execution_count": 7,
     "metadata": {},
     "output_type": "execute_result"
    }
   ],
   "source": [
    "X.shape"
   ]
  },
  {
   "cell_type": "code",
   "execution_count": 8,
   "id": "98de1f84",
   "metadata": {
    "ExecuteTime": {
     "end_time": "2022-11-05T15:56:51.704712Z",
     "start_time": "2022-11-05T15:56:51.682444Z"
    }
   },
   "outputs": [
    {
     "data": {
      "text/plain": [
       "(10000, 1)"
      ]
     },
     "execution_count": 8,
     "metadata": {},
     "output_type": "execute_result"
    }
   ],
   "source": [
    "y.shape"
   ]
  },
  {
   "cell_type": "markdown",
   "id": "b0e3e09a",
   "metadata": {},
   "source": [
    "## Split the dataset into train and test"
   ]
  },
  {
   "cell_type": "code",
   "execution_count": 9,
   "id": "db5cff12",
   "metadata": {
    "ExecuteTime": {
     "end_time": "2022-11-05T15:57:40.457496Z",
     "start_time": "2022-11-05T15:57:40.445632Z"
    }
   },
   "outputs": [],
   "source": [
    "from sklearn.model_selection import train_test_split"
   ]
  },
  {
   "cell_type": "code",
   "execution_count": 10,
   "id": "96a0107e",
   "metadata": {
    "ExecuteTime": {
     "end_time": "2022-11-05T15:58:47.665179Z",
     "start_time": "2022-11-05T15:58:47.644318Z"
    }
   },
   "outputs": [],
   "source": [
    "X_train, X_test, y_train, y_test = train_test_split(X, y, test_size=0.2, random_state=1000)"
   ]
  },
  {
   "cell_type": "code",
   "execution_count": 11,
   "id": "9c7fe0f9",
   "metadata": {
    "ExecuteTime": {
     "end_time": "2022-11-05T15:58:53.281416Z",
     "start_time": "2022-11-05T15:58:53.266204Z"
    }
   },
   "outputs": [
    {
     "data": {
      "text/plain": [
       "(8000, 11)"
      ]
     },
     "execution_count": 11,
     "metadata": {},
     "output_type": "execute_result"
    }
   ],
   "source": [
    "X_train.shape"
   ]
  },
  {
   "cell_type": "code",
   "execution_count": 12,
   "id": "5a5fa234",
   "metadata": {
    "ExecuteTime": {
     "end_time": "2022-11-05T15:59:02.131519Z",
     "start_time": "2022-11-05T15:59:02.105299Z"
    }
   },
   "outputs": [
    {
     "data": {
      "text/plain": [
       "(2000, 11)"
      ]
     },
     "execution_count": 12,
     "metadata": {},
     "output_type": "execute_result"
    }
   ],
   "source": [
    "X_test.shape"
   ]
  },
  {
   "cell_type": "markdown",
   "id": "7d730b81",
   "metadata": {},
   "source": [
    "## Creating a baseline (with default hyperparameter) XGBoost model"
   ]
  },
  {
   "cell_type": "code",
   "execution_count": 13,
   "id": "855067a1",
   "metadata": {
    "ExecuteTime": {
     "end_time": "2022-11-05T16:00:24.181699Z",
     "start_time": "2022-11-05T16:00:24.169628Z"
    }
   },
   "outputs": [],
   "source": [
    "from xgboost import XGBClassifier"
   ]
  },
  {
   "cell_type": "code",
   "execution_count": 17,
   "id": "f84f55b5",
   "metadata": {
    "ExecuteTime": {
     "end_time": "2022-11-05T16:03:55.199125Z",
     "start_time": "2022-11-05T16:03:55.183578Z"
    }
   },
   "outputs": [],
   "source": [
    "xgb_baseline = XGBClassifier()  # Initiate XGBoost classifier with default set of hyperparameters"
   ]
  },
  {
   "cell_type": "code",
   "execution_count": 18,
   "id": "2eca8acd",
   "metadata": {
    "ExecuteTime": {
     "end_time": "2022-11-05T16:04:33.608940Z",
     "start_time": "2022-11-05T16:04:33.601668Z"
    }
   },
   "outputs": [
    {
     "data": {
      "text/plain": [
       "{'objective': 'binary:logistic',\n",
       " 'use_label_encoder': False,\n",
       " 'base_score': None,\n",
       " 'booster': None,\n",
       " 'callbacks': None,\n",
       " 'colsample_bylevel': None,\n",
       " 'colsample_bynode': None,\n",
       " 'colsample_bytree': None,\n",
       " 'early_stopping_rounds': None,\n",
       " 'enable_categorical': False,\n",
       " 'eval_metric': None,\n",
       " 'gamma': None,\n",
       " 'gpu_id': None,\n",
       " 'grow_policy': None,\n",
       " 'importance_type': None,\n",
       " 'interaction_constraints': None,\n",
       " 'learning_rate': None,\n",
       " 'max_bin': None,\n",
       " 'max_cat_to_onehot': None,\n",
       " 'max_delta_step': None,\n",
       " 'max_depth': None,\n",
       " 'max_leaves': None,\n",
       " 'min_child_weight': None,\n",
       " 'missing': nan,\n",
       " 'monotone_constraints': None,\n",
       " 'n_estimators': 100,\n",
       " 'n_jobs': None,\n",
       " 'num_parallel_tree': None,\n",
       " 'predictor': None,\n",
       " 'random_state': None,\n",
       " 'reg_alpha': None,\n",
       " 'reg_lambda': None,\n",
       " 'sampling_method': None,\n",
       " 'scale_pos_weight': None,\n",
       " 'subsample': None,\n",
       " 'tree_method': None,\n",
       " 'validate_parameters': None,\n",
       " 'verbosity': None}"
      ]
     },
     "execution_count": 18,
     "metadata": {},
     "output_type": "execute_result"
    }
   ],
   "source": [
    "xgb_baseline.get_params()"
   ]
  },
  {
   "cell_type": "markdown",
   "id": "9d4307b8",
   "metadata": {},
   "source": [
    "### Train the baseline model"
   ]
  },
  {
   "cell_type": "code",
   "execution_count": 19,
   "id": "4273be3a",
   "metadata": {
    "ExecuteTime": {
     "end_time": "2022-11-05T16:06:52.843352Z",
     "start_time": "2022-11-05T16:06:51.966724Z"
    }
   },
   "outputs": [],
   "source": [
    "xgb_baseline = XGBClassifier(seed=0).fit(X_train, y_train)"
   ]
  },
  {
   "cell_type": "markdown",
   "id": "95c1ecca",
   "metadata": {},
   "source": [
    "### Evaluate the model performance on test dataset"
   ]
  },
  {
   "cell_type": "code",
   "execution_count": 23,
   "id": "9c1f09e1",
   "metadata": {
    "ExecuteTime": {
     "end_time": "2022-11-05T16:08:52.446847Z",
     "start_time": "2022-11-05T16:08:52.430784Z"
    }
   },
   "outputs": [],
   "source": [
    "y_pred_prob_baseline = xgb_baseline.predict_proba(X_test)[:,1]"
   ]
  },
  {
   "cell_type": "code",
   "execution_count": 25,
   "id": "89336bd5",
   "metadata": {
    "ExecuteTime": {
     "end_time": "2022-11-05T16:10:11.190963Z",
     "start_time": "2022-11-05T16:10:11.161760Z"
    }
   },
   "outputs": [],
   "source": [
    "y_pred_baseline = xgb_baseline.predict(X_test)"
   ]
  },
  {
   "cell_type": "code",
   "execution_count": 37,
   "id": "c1b0b892",
   "metadata": {
    "ExecuteTime": {
     "end_time": "2022-11-05T16:15:35.187433Z",
     "start_time": "2022-11-05T16:15:35.182133Z"
    }
   },
   "outputs": [],
   "source": [
    "from sklearn.metrics import precision_recall_fscore_support as score\n",
    "from sklearn.metrics import plot_confusion_matrix\n",
    "from sklearn.metrics import accuracy_score"
   ]
  },
  {
   "cell_type": "code",
   "execution_count": 26,
   "id": "d3363253",
   "metadata": {
    "ExecuteTime": {
     "end_time": "2022-11-05T16:10:15.537567Z",
     "start_time": "2022-11-05T16:10:15.510207Z"
    }
   },
   "outputs": [],
   "source": [
    "precision, recall, f1_score, support = score(y_test, y_pred_baseline)"
   ]
  },
  {
   "cell_type": "code",
   "execution_count": 29,
   "id": "0591188f",
   "metadata": {
    "ExecuteTime": {
     "end_time": "2022-11-05T16:12:33.360347Z",
     "start_time": "2022-11-05T16:12:33.353215Z"
    }
   },
   "outputs": [
    {
     "name": "stdout",
     "output_type": "stream",
     "text": [
      "Baseline model performance:\n",
      "----------------------------\n",
      "Precision: 0.754\n",
      "Recall: 0.500\n",
      "f1_score: 0.601\n"
     ]
    }
   ],
   "source": [
    "print(f\"Baseline model performance:\\n----------------------------\\nPrecision: {precision[1]:.3f}\\nRecall: {recall[1]:.3f}\\nf1_score: {f1_score[1]:.3f}\")"
   ]
  },
  {
   "cell_type": "code",
   "execution_count": 32,
   "id": "5ce26259",
   "metadata": {
    "ExecuteTime": {
     "end_time": "2022-11-05T16:13:55.054575Z",
     "start_time": "2022-11-05T16:13:54.588559Z"
    }
   },
   "outputs": [
    {
     "data": {
      "text/plain": [
       "<sklearn.metrics._plot.confusion_matrix.ConfusionMatrixDisplay at 0x20f98fc6f70>"
      ]
     },
     "execution_count": 32,
     "metadata": {},
     "output_type": "execute_result"
    },
    {
     "data": {
      "image/png": "[encoded data removed]",
      "text/plain": [
       "<Figure size 432x288 with 2 Axes>"
      ]
     },
     "metadata": {
      "needs_background": "light"
     },
     "output_type": "display_data"
    }
   ],
   "source": [
    "plot_confusion_matrix(estimator=xgb_baseline, X=X_test, y_true=y_test)"
   ]
  },
  {
   "cell_type": "code",
   "execution_count": 38,
   "id": "faee0978",
   "metadata": {
    "ExecuteTime": {
     "end_time": "2022-11-05T16:15:55.005888Z",
     "start_time": "2022-11-05T16:15:54.983388Z"
    }
   },
   "outputs": [
    {
     "data": {
      "text/plain": [
       "0.8555"
      ]
     },
     "execution_count": 38,
     "metadata": {},
     "output_type": "execute_result"
    }
   ],
   "source": [
    "accuracy_score(y_true=y_test, y_pred=y_pred_baseline)"
   ]
  },
  {
   "cell_type": "markdown",
   "id": "f387018c",
   "metadata": {},
   "source": [
    "## Use Grid Search to find optimum hyperparameter"
   ]
  },
  {
   "cell_type": "code",
   "execution_count": 45,
   "id": "8ad5288a",
   "metadata": {
    "ExecuteTime": {
     "end_time": "2022-11-05T16:27:07.561193Z",
     "start_time": "2022-11-05T16:27:07.554100Z"
    }
   },
   "outputs": [],
   "source": [
    "param_grid = {\n",
    "    'n_estimators': [100, 150, 200, 250],  # number of estimators in the XGBoost model\n",
    "    'colsample_bytree': [0.5, 0.75, 1.0],  # Percentage of columns to be randomly samples for each tree.\n",
    "    'reg_alpha': [0, 0.5, 1, 5],           # reg_alpha provides l1 regularization to the weight \n",
    "    'reg_lambda': [0, 0.5, 1, 5]           # reg_alpha provides l2 regularization to the weight,\n",
    "}\n",
    "\n",
    "scoring = ['f1']"
   ]
  },
  {
   "cell_type": "code",
   "execution_count": 51,
   "id": "00df15e5",
   "metadata": {
    "ExecuteTime": {
     "end_time": "2022-11-05T16:28:20.477776Z",
     "start_time": "2022-11-05T16:28:20.469935Z"
    }
   },
   "outputs": [],
   "source": [
    "from sklearn.model_selection import GridSearchCV"
   ]
  },
  {
   "cell_type": "code",
   "execution_count": 52,
   "id": "47225835",
   "metadata": {
    "ExecuteTime": {
     "end_time": "2022-11-05T16:28:23.767440Z",
     "start_time": "2022-11-05T16:28:23.745801Z"
    }
   },
   "outputs": [],
   "source": [
    "grid_search = GridSearchCV(estimator=XGBClassifier(),\n",
    "                           param_grid=param_grid,\n",
    "                           scoring=scoring,\n",
    "                           refit='f1',\n",
    "                           n_jobs=-1,\n",
    "                           cv=3,\n",
    "                           verbose=3)"
   ]
  },
  {
   "cell_type": "code",
   "execution_count": 53,
   "id": "376dc296",
   "metadata": {
    "ExecuteTime": {
     "end_time": "2022-11-05T16:31:00.707866Z",
     "start_time": "2022-11-05T16:28:24.581875Z"
    }
   },
   "outputs": [
    {
     "name": "stdout",
     "output_type": "stream",
     "text": [
      "Fitting 3 folds for each of 192 candidates, totalling 576 fits\n"
     ]
    }
   ],
   "source": [
    "grid_result = grid_search.fit(X_train, y_train)"
   ]
  },
  {
   "cell_type": "code",
   "execution_count": 54,
   "id": "4293cecc",
   "metadata": {
    "ExecuteTime": {
     "end_time": "2022-11-05T16:31:12.423905Z",
     "start_time": "2022-11-05T16:31:12.377032Z"
    }
   },
   "outputs": [
    {
     "data": {
      "text/plain": [
       "GridSearchCV(cv=3,\n",
       "             estimator=XGBClassifier(base_score=None, booster=None,\n",
       "                                     callbacks=None, colsample_bylevel=None,\n",
       "                                     colsample_bynode=None,\n",
       "                                     colsample_bytree=None,\n",
       "                                     early_stopping_rounds=None,\n",
       "                                     enable_categorical=False, eval_metric=None,\n",
       "                                     gamma=None, gpu_id=None, grow_policy=None,\n",
       "                                     importance_type=None,\n",
       "                                     interaction_constraints=None,\n",
       "                                     learning_rate=None, max_bin=None,\n",
       "                                     max_ca...\n",
       "                                     max_leaves=None, min_child_weight=None,\n",
       "                                     missing=nan, monotone_constraints=None,\n",
       "                                     n_estimators=100, n_jobs=None,\n",
       "                                     num_parallel_tree=None, predictor=None,\n",
       "                                     random_state=None, reg_alpha=None,\n",
       "                                     reg_lambda=None, ...),\n",
       "             n_jobs=-1,\n",
       "             param_grid={'colsample_bytree': [0.5, 0.75, 1.0],\n",
       "                         'n_estimators': [100, 150, 200, 250],\n",
       "                         'reg_alpha': [0, 0.5, 1, 5],\n",
       "                         'reg_lambda': [0, 0.5, 1, 5]},\n",
       "             refit='f1', scoring=['f1'], verbose=3)"
      ]
     },
     "execution_count": 54,
     "metadata": {},
     "output_type": "execute_result"
    }
   ],
   "source": [
    "grid_result"
   ]
  },
  {
   "cell_type": "code",
   "execution_count": 55,
   "id": "d8a862de",
   "metadata": {
    "ExecuteTime": {
     "end_time": "2022-11-05T16:32:05.869318Z",
     "start_time": "2022-11-05T16:32:05.848025Z"
    }
   },
   "outputs": [
    {
     "name": "stdout",
     "output_type": "stream",
     "text": [
      "The best score: 0.578\n"
     ]
    }
   ],
   "source": [
    "print(f\"The best score: {grid_result.best_score_:0.3f}\")"
   ]
  },
  {
   "cell_type": "code",
   "execution_count": 56,
   "id": "e43ef53f",
   "metadata": {
    "ExecuteTime": {
     "end_time": "2022-11-05T16:32:50.223617Z",
     "start_time": "2022-11-05T16:32:50.210565Z"
    }
   },
   "outputs": [
    {
     "data": {
      "text/plain": [
       "{'colsample_bytree': 0.5, 'n_estimators': 100, 'reg_alpha': 5, 'reg_lambda': 0}"
      ]
     },
     "execution_count": 56,
     "metadata": {},
     "output_type": "execute_result"
    }
   ],
   "source": [
    "grid_result.best_params_"
   ]
  },
  {
   "cell_type": "code",
   "execution_count": 57,
   "id": "65ded3e6",
   "metadata": {
    "ExecuteTime": {
     "end_time": "2022-11-05T16:33:11.002684Z",
     "start_time": "2022-11-05T16:33:10.972147Z"
    }
   },
   "outputs": [
    {
     "data": {
      "text/plain": [
       "XGBClassifier(base_score=0.5, booster='gbtree', callbacks=None,\n",
       "              colsample_bylevel=1, colsample_bynode=1, colsample_bytree=0.5,\n",
       "              early_stopping_rounds=None, enable_categorical=False,\n",
       "              eval_metric=None, gamma=0, gpu_id=-1, grow_policy='depthwise',\n",
       "              importance_type=None, interaction_constraints='',\n",
       "              learning_rate=0.300000012, max_bin=256, max_cat_to_onehot=4,\n",
       "              max_delta_step=0, max_depth=6, max_leaves=0, min_child_weight=1,\n",
       "              missing=nan, monotone_constraints='()', n_estimators=100,\n",
       "              n_jobs=0, num_parallel_tree=1, predictor='auto', random_state=0,\n",
       "              reg_alpha=5, reg_lambda=0, ...)"
      ]
     },
     "execution_count": 57,
     "metadata": {},
     "output_type": "execute_result"
    }
   ],
   "source": [
    "grid_result.best_estimator_"
   ]
  },
  {
   "cell_type": "markdown",
   "id": "e44c57d8",
   "metadata": {},
   "source": [
    "## Use Random Search to find optimum hyperparameters"
   ]
  },
  {
   "cell_type": "code",
   "execution_count": 58,
   "id": "6f1b1bd9",
   "metadata": {
    "ExecuteTime": {
     "end_time": "2022-11-05T16:34:27.059140Z",
     "start_time": "2022-11-05T16:34:27.052569Z"
    }
   },
   "outputs": [],
   "source": [
    "from sklearn.model_selection import RandomizedSearchCV"
   ]
  },
  {
   "cell_type": "code",
   "execution_count": 62,
   "id": "f9eea954",
   "metadata": {
    "ExecuteTime": {
     "end_time": "2022-11-05T16:36:37.948227Z",
     "start_time": "2022-11-05T16:36:37.940014Z"
    }
   },
   "outputs": [],
   "source": [
    "random_search = RandomizedSearchCV(estimator=XGBClassifier(seed=0),\n",
    "                                   param_distributions=param_grid,\n",
    "                                   scoring=scoring,\n",
    "                                   refit='f1',\n",
    "                                   n_jobs=-1,\n",
    "                                   cv=3,\n",
    "                                   verbose=3,\n",
    "                                   n_iter=50)"
   ]
  },
  {
   "cell_type": "code",
   "execution_count": 63,
   "id": "9e3aa8ee",
   "metadata": {
    "ExecuteTime": {
     "end_time": "2022-11-05T16:38:18.343050Z",
     "start_time": "2022-11-05T16:37:38.336042Z"
    }
   },
   "outputs": [
    {
     "name": "stdout",
     "output_type": "stream",
     "text": [
      "Fitting 3 folds for each of 50 candidates, totalling 150 fits\n"
     ]
    }
   ],
   "source": [
    "random_result = random_search.fit(X_train, y_train)"
   ]
  },
  {
   "cell_type": "code",
   "execution_count": 64,
   "id": "fdb87096",
   "metadata": {
    "ExecuteTime": {
     "end_time": "2022-11-05T16:39:04.890175Z",
     "start_time": "2022-11-05T16:39:04.858496Z"
    }
   },
   "outputs": [
    {
     "data": {
      "text/plain": [
       "RandomizedSearchCV(cv=3,\n",
       "                   estimator=XGBClassifier(base_score=None, booster=None,\n",
       "                                           callbacks=None,\n",
       "                                           colsample_bylevel=None,\n",
       "                                           colsample_bynode=None,\n",
       "                                           colsample_bytree=None,\n",
       "                                           early_stopping_rounds=None,\n",
       "                                           enable_categorical=False,\n",
       "                                           eval_metric=None, gamma=None,\n",
       "                                           gpu_id=None, grow_policy=None,\n",
       "                                           importance_type=None,\n",
       "                                           interaction_constraints=None,\n",
       "                                           learning_rate=None, max_bin=None,...\n",
       "                                           min_child_weight=None, missing=nan,\n",
       "                                           monotone_constraints=None,\n",
       "                                           n_estimators=100, n_jobs=None,\n",
       "                                           num_parallel_tree=None,\n",
       "                                           predictor=None, random_state=None,\n",
       "                                           reg_alpha=None, reg_lambda=None, ...),\n",
       "                   n_iter=50, n_jobs=-1,\n",
       "                   param_distributions={'colsample_bytree': [0.5, 0.75, 1.0],\n",
       "                                        'n_estimators': [100, 150, 200, 250],\n",
       "                                        'reg_alpha': [0, 0.5, 1, 5],\n",
       "                                        'reg_lambda': [0, 0.5, 1, 5]},\n",
       "                   refit='f1', scoring=['f1'], verbose=3)"
      ]
     },
     "execution_count": 64,
     "metadata": {},
     "output_type": "execute_result"
    }
   ],
   "source": [
    "random_result"
   ]
  },
  {
   "cell_type": "code",
   "execution_count": 65,
   "id": "83631004",
   "metadata": {
    "ExecuteTime": {
     "end_time": "2022-11-05T16:39:16.070621Z",
     "start_time": "2022-11-05T16:39:16.058417Z"
    }
   },
   "outputs": [
    {
     "data": {
      "text/plain": [
       "0.5755146331971828"
      ]
     },
     "execution_count": 65,
     "metadata": {},
     "output_type": "execute_result"
    }
   ],
   "source": [
    "random_result.best_score_"
   ]
  },
  {
   "cell_type": "code",
   "execution_count": 66,
   "id": "74952486",
   "metadata": {
    "ExecuteTime": {
     "end_time": "2022-11-05T16:39:22.855547Z",
     "start_time": "2022-11-05T16:39:22.838077Z"
    }
   },
   "outputs": [
    {
     "data": {
      "text/plain": [
       "{'reg_lambda': 5, 'reg_alpha': 0, 'n_estimators': 100, 'colsample_bytree': 0.5}"
      ]
     },
     "execution_count": 66,
     "metadata": {},
     "output_type": "execute_result"
    }
   ],
   "source": [
    "random_result.best_params_"
   ]
  },
  {
   "cell_type": "code",
   "execution_count": null,
   "id": "3b64f0d4",
   "metadata": {},
   "outputs": [],
   "source": []
  }
 ],
 "metadata": {
  "kernelspec": {
   "display_name": "Python 3 (ipykernel)",
   "language": "python",
   "name": "python3"
  },
  "language_info": {
   "codemirror_mode": {
    "name": "ipython",
    "version": 3
   },
   "file_extension": ".py",
   "mimetype": "text/x-python",
   "name": "python",
   "nbconvert_exporter": "python",
   "pygments_lexer": "ipython3",
   "version": "3.9.7"
  },
  "toc": {
   "base_numbering": 1,
   "nav_menu": {},
   "number_sections": true,
   "sideBar": true,
   "skip_h1_title": true,
   "title_cell": "Table of Contents",
   "title_sidebar": "Contents",
   "toc_cell": false,
   "toc_position": {},
   "toc_section_display": true,
   "toc_window_display": true
  }
 },
 "nbformat": 4,
 "nbformat_minor": 5
}
