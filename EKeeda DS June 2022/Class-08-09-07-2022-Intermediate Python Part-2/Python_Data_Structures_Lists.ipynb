{
 "cells": [
  {
   "cell_type": "markdown",
   "id": "f6d8df51",
   "metadata": {},
   "source": [
    "## List"
   ]
  },
  {
   "cell_type": "code",
   "execution_count": 1,
   "id": "ea11aba6",
   "metadata": {},
   "outputs": [],
   "source": [
    "a = []  # empty list"
   ]
  },
  {
   "cell_type": "code",
   "execution_count": 2,
   "id": "ec94c450",
   "metadata": {},
   "outputs": [
    {
     "data": {
      "text/plain": [
       "list"
      ]
     },
     "execution_count": 2,
     "metadata": {},
     "output_type": "execute_result"
    }
   ],
   "source": [
    "type(a)"
   ]
  },
  {
   "cell_type": "code",
   "execution_count": 7,
   "id": "ed1a82db",
   "metadata": {},
   "outputs": [],
   "source": [
    "a = [1, 2, -34.67, 'c', 'Sharukh Khan', True, 10, 4.5, False]"
   ]
  },
  {
   "cell_type": "code",
   "execution_count": 4,
   "id": "6b2bf64d",
   "metadata": {},
   "outputs": [
    {
     "data": {
      "text/plain": [
       "list"
      ]
     },
     "execution_count": 4,
     "metadata": {},
     "output_type": "execute_result"
    }
   ],
   "source": [
    "type(a)"
   ]
  },
  {
   "cell_type": "markdown",
   "id": "d4c87264",
   "metadata": {},
   "source": [
    "### Length of the list"
   ]
  },
  {
   "cell_type": "code",
   "execution_count": 5,
   "id": "7878d0d3",
   "metadata": {},
   "outputs": [
    {
     "data": {
      "text/plain": [
       "9"
      ]
     },
     "execution_count": 5,
     "metadata": {},
     "output_type": "execute_result"
    }
   ],
   "source": [
    "len(a) # returns the length of list 'a'"
   ]
  },
  {
   "cell_type": "code",
   "execution_count": 6,
   "id": "f1382aee",
   "metadata": {},
   "outputs": [
    {
     "data": {
      "text/plain": [
       "0"
      ]
     },
     "execution_count": 6,
     "metadata": {},
     "output_type": "execute_result"
    }
   ],
   "source": [
    "b = []\n",
    "\n",
    "len(b)"
   ]
  },
  {
   "cell_type": "markdown",
   "id": "32d1490c",
   "metadata": {},
   "source": [
    "### Indexing of list"
   ]
  },
  {
   "cell_type": "code",
   "execution_count": 8,
   "id": "cdc4dde5",
   "metadata": {},
   "outputs": [
    {
     "data": {
      "text/plain": [
       "1"
      ]
     },
     "execution_count": 8,
     "metadata": {},
     "output_type": "execute_result"
    }
   ],
   "source": [
    "a[0]"
   ]
  },
  {
   "cell_type": "code",
   "execution_count": 9,
   "id": "1edb390f",
   "metadata": {},
   "outputs": [
    {
     "data": {
      "text/plain": [
       "True"
      ]
     },
     "execution_count": 9,
     "metadata": {},
     "output_type": "execute_result"
    }
   ],
   "source": [
    "a[5]"
   ]
  },
  {
   "cell_type": "code",
   "execution_count": 10,
   "id": "f7c487f1",
   "metadata": {},
   "outputs": [
    {
     "data": {
      "text/plain": [
       "False"
      ]
     },
     "execution_count": 10,
     "metadata": {},
     "output_type": "execute_result"
    }
   ],
   "source": [
    "a[8]"
   ]
  },
  {
   "cell_type": "code",
   "execution_count": 11,
   "id": "8f62c570",
   "metadata": {},
   "outputs": [
    {
     "ename": "IndexError",
     "evalue": "list index out of range",
     "output_type": "error",
     "traceback": [
      "\u001b[1;31m---------------------------------------------------------------------------\u001b[0m",
      "\u001b[1;31mIndexError\u001b[0m                                Traceback (most recent call last)",
      "\u001b[1;32mC:\\Users\\SOURAV~1\\AppData\\Local\\Temp/ipykernel_9184/3213923180.py\u001b[0m in \u001b[0;36m<module>\u001b[1;34m\u001b[0m\n\u001b[1;32m----> 1\u001b[1;33m \u001b[0ma\u001b[0m\u001b[1;33m[\u001b[0m\u001b[1;36m9\u001b[0m\u001b[1;33m]\u001b[0m\u001b[1;33m\u001b[0m\u001b[1;33m\u001b[0m\u001b[0m\n\u001b[0m",
      "\u001b[1;31mIndexError\u001b[0m: list index out of range"
     ]
    }
   ],
   "source": [
    "a[9]"
   ]
  },
  {
   "cell_type": "markdown",
   "id": "260e91c7",
   "metadata": {},
   "source": [
    "#### Negative indexing"
   ]
  },
  {
   "cell_type": "code",
   "execution_count": 12,
   "id": "be1680e9",
   "metadata": {},
   "outputs": [
    {
     "data": {
      "text/plain": [
       "False"
      ]
     },
     "execution_count": 12,
     "metadata": {},
     "output_type": "execute_result"
    }
   ],
   "source": [
    "a[-1]"
   ]
  },
  {
   "cell_type": "code",
   "execution_count": 13,
   "id": "c554cab8",
   "metadata": {},
   "outputs": [
    {
     "data": {
      "text/plain": [
       "True"
      ]
     },
     "execution_count": 13,
     "metadata": {},
     "output_type": "execute_result"
    }
   ],
   "source": [
    "a[-4]"
   ]
  },
  {
   "cell_type": "code",
   "execution_count": 14,
   "id": "f09a2861",
   "metadata": {},
   "outputs": [
    {
     "data": {
      "text/plain": [
       "1"
      ]
     },
     "execution_count": 14,
     "metadata": {},
     "output_type": "execute_result"
    }
   ],
   "source": [
    "a[-9]"
   ]
  },
  {
   "cell_type": "code",
   "execution_count": 15,
   "id": "be643842",
   "metadata": {},
   "outputs": [
    {
     "ename": "IndexError",
     "evalue": "list index out of range",
     "output_type": "error",
     "traceback": [
      "\u001b[1;31m---------------------------------------------------------------------------\u001b[0m",
      "\u001b[1;31mIndexError\u001b[0m                                Traceback (most recent call last)",
      "\u001b[1;32mC:\\Users\\SOURAV~1\\AppData\\Local\\Temp/ipykernel_9184/3402125542.py\u001b[0m in \u001b[0;36m<module>\u001b[1;34m\u001b[0m\n\u001b[1;32m----> 1\u001b[1;33m \u001b[0ma\u001b[0m\u001b[1;33m[\u001b[0m\u001b[1;33m-\u001b[0m\u001b[1;36m10\u001b[0m\u001b[1;33m]\u001b[0m\u001b[1;33m\u001b[0m\u001b[1;33m\u001b[0m\u001b[0m\n\u001b[0m",
      "\u001b[1;31mIndexError\u001b[0m: list index out of range"
     ]
    }
   ],
   "source": [
    "a[-10]"
   ]
  },
  {
   "cell_type": "markdown",
   "id": "2326ccb6",
   "metadata": {},
   "source": [
    "Retrieve second last element form the list"
   ]
  },
  {
   "cell_type": "code",
   "execution_count": 26,
   "id": "ad897b6a",
   "metadata": {},
   "outputs": [],
   "source": [
    "l = [2, -4, 7, 10, 8, -23, 78, -43]"
   ]
  },
  {
   "cell_type": "code",
   "execution_count": 27,
   "id": "e55cc37c",
   "metadata": {},
   "outputs": [
    {
     "data": {
      "text/plain": [
       "78"
      ]
     },
     "execution_count": 27,
     "metadata": {},
     "output_type": "execute_result"
    }
   ],
   "source": [
    "l[-2]"
   ]
  },
  {
   "cell_type": "code",
   "execution_count": 28,
   "id": "b216b6e9",
   "metadata": {},
   "outputs": [
    {
     "data": {
      "text/plain": [
       "78"
      ]
     },
     "execution_count": 28,
     "metadata": {},
     "output_type": "execute_result"
    }
   ],
   "source": [
    "l[len(l)-2]"
   ]
  },
  {
   "cell_type": "markdown",
   "id": "f7bf0f2a",
   "metadata": {},
   "source": [
    "### Slicing\n",
    "\n",
    "for a list 'L' slicing is done in following way\n",
    "\n",
    "```L[n1:n2:n3]```\n",
    "\n",
    "n1: starting index (included) {optional} | default = 0\n",
    "\n",
    "n2: ending index (excluded) {optional} | default = len(L)\n",
    "\n",
    "n3: step {optional} | default = 1\n",
    "\n",
    "**Example-1:**\n",
    "\n",
    "Suppose ```len(L) = 10```\n",
    "\n",
    "```L[3:8]``` it will produce a list with values ```L[3], L[4], L[5], L[6], L[7]```"
   ]
  },
  {
   "cell_type": "code",
   "execution_count": 31,
   "id": "e7396407",
   "metadata": {},
   "outputs": [
    {
     "data": {
      "text/plain": [
       "[-4, 7, 10]"
      ]
     },
     "execution_count": 31,
     "metadata": {},
     "output_type": "execute_result"
    }
   ],
   "source": [
    "l = [2, -4, 7, 10, 8, -23, 78, -43]\n",
    "\n",
    "l[1:4]    "
   ]
  },
  {
   "cell_type": "markdown",
   "id": "6aa708dc",
   "metadata": {},
   "source": [
    "**Example-2:**\n",
    "\n",
    "Suppose ```len(L) = 10```\n",
    "\n",
    "```L[1:8:2]``` it will produce a list with values ```L[1], L[3], L[5], L[7] ```"
   ]
  },
  {
   "cell_type": "code",
   "execution_count": 32,
   "id": "0b9e9210",
   "metadata": {},
   "outputs": [
    {
     "data": {
      "text/plain": [
       "[-4, 10, -23, -43]"
      ]
     },
     "execution_count": 32,
     "metadata": {},
     "output_type": "execute_result"
    }
   ],
   "source": [
    "l = [2, -4, 7, 10, 8, -23, 78, -43, 32]\n",
    "\n",
    "l[1:8:2]"
   ]
  },
  {
   "cell_type": "markdown",
   "id": "f3ab2256",
   "metadata": {},
   "source": [
    "**Example-3:**\n",
    "\n",
    "Suppose ```len(L) = 10```\n",
    "\n",
    "```L[:6]``` it will produce a list with values ```L[0], L[1], L[2], L[3], L[4], L[5]```\n",
    "\n",
    "```L[5:]``` it will produce a list with values ```L[5], L[6], L[7], L[8], L[9]```"
   ]
  },
  {
   "cell_type": "code",
   "execution_count": 33,
   "id": "d6a92217",
   "metadata": {},
   "outputs": [
    {
     "data": {
      "text/plain": [
       "[2, -4, 7, 10, 8]"
      ]
     },
     "execution_count": 33,
     "metadata": {},
     "output_type": "execute_result"
    }
   ],
   "source": [
    "l[:5]"
   ]
  },
  {
   "cell_type": "code",
   "execution_count": 34,
   "id": "0cd79a87",
   "metadata": {},
   "outputs": [
    {
     "data": {
      "text/plain": [
       "[78, -43, 32]"
      ]
     },
     "execution_count": 34,
     "metadata": {},
     "output_type": "execute_result"
    }
   ],
   "source": [
    "l[6:]"
   ]
  },
  {
   "cell_type": "markdown",
   "id": "179b834b",
   "metadata": {},
   "source": [
    "**Example-4:**\n",
    "\n",
    "```L[::]``` -> produce entire list\n",
    "\n",
    "```L[:]``` -> produce entire list"
   ]
  },
  {
   "cell_type": "code",
   "execution_count": 36,
   "id": "df769f80",
   "metadata": {},
   "outputs": [
    {
     "data": {
      "text/plain": [
       "[2, -4, 7, 10, 8, -23, 78, -43, 32]"
      ]
     },
     "execution_count": 36,
     "metadata": {},
     "output_type": "execute_result"
    }
   ],
   "source": [
    "l[::]"
   ]
  },
  {
   "cell_type": "markdown",
   "id": "2611c587",
   "metadata": {},
   "source": [
    "**Example-5:**\n",
    "\n",
    "```L[8:2:-1]``` it will produce a list ```L[8], L[7], L[6], L[5], L[4], L[3]```"
   ]
  },
  {
   "cell_type": "code",
   "execution_count": 37,
   "id": "ad96f9a8",
   "metadata": {},
   "outputs": [
    {
     "data": {
      "text/plain": [
       "[32, -43, 78, -23, 8, 10]"
      ]
     },
     "execution_count": 37,
     "metadata": {},
     "output_type": "execute_result"
    }
   ],
   "source": [
    "l[8:2:-1]"
   ]
  },
  {
   "cell_type": "code",
   "execution_count": 38,
   "id": "48e8d774",
   "metadata": {},
   "outputs": [
    {
     "data": {
      "text/plain": [
       "[-43, -23, 10]"
      ]
     },
     "execution_count": 38,
     "metadata": {},
     "output_type": "execute_result"
    }
   ],
   "source": [
    "l[7:1:-2]"
   ]
  },
  {
   "cell_type": "markdown",
   "id": "78210066",
   "metadata": {},
   "source": [
    "**Example-6:**\n",
    "\n",
    "```L[::-1]``` -> will produce list in reverse order"
   ]
  },
  {
   "cell_type": "code",
   "execution_count": 39,
   "id": "e59f3851",
   "metadata": {},
   "outputs": [
    {
     "data": {
      "text/plain": [
       "[32, -43, 78, -23, 8, 10, 7, -4, 2]"
      ]
     },
     "execution_count": 39,
     "metadata": {},
     "output_type": "execute_result"
    }
   ],
   "source": [
    "l[::-1]"
   ]
  },
  {
   "cell_type": "code",
   "execution_count": 40,
   "id": "e4ee0fc8",
   "metadata": {},
   "outputs": [
    {
     "name": "stdout",
     "output_type": "stream",
     "text": [
      "32 -43 78 -23 8 10 7 -4 2 "
     ]
    }
   ],
   "source": [
    "for i in range(len(l)-1,-1,-1):\n",
    "    print(l[i], end=\" \")"
   ]
  },
  {
   "cell_type": "markdown",
   "id": "9fe40cc8",
   "metadata": {},
   "source": [
    "### Printing the elements of a list"
   ]
  },
  {
   "cell_type": "code",
   "execution_count": 41,
   "id": "72768bd4",
   "metadata": {},
   "outputs": [],
   "source": [
    "my_list = ['apple', 'banana', 'kiwi', 'coconut', 'grapes']"
   ]
  },
  {
   "cell_type": "code",
   "execution_count": 42,
   "id": "a3fbaed0",
   "metadata": {},
   "outputs": [],
   "source": [
    "# method-1: using for loop and indexing"
   ]
  },
  {
   "cell_type": "code",
   "execution_count": 44,
   "id": "10a0930b",
   "metadata": {},
   "outputs": [
    {
     "name": "stdout",
     "output_type": "stream",
     "text": [
      "1  :  apple\n",
      "2  :  banana\n",
      "3  :  kiwi\n",
      "4  :  coconut\n",
      "5  :  grapes\n"
     ]
    }
   ],
   "source": [
    "for i in range(len(my_list)):\n",
    "    print(i+1, \" : \", my_list[i])"
   ]
  },
  {
   "cell_type": "code",
   "execution_count": 45,
   "id": "f4cefbee",
   "metadata": {},
   "outputs": [],
   "source": [
    "# method 2: using for loop and iterator"
   ]
  },
  {
   "cell_type": "code",
   "execution_count": 48,
   "id": "0a587db2",
   "metadata": {},
   "outputs": [
    {
     "name": "stdout",
     "output_type": "stream",
     "text": [
      "apple\n",
      "banana\n",
      "kiwi\n",
      "coconut\n",
      "grapes\n"
     ]
    }
   ],
   "source": [
    "for x in my_list:\n",
    "    print(x)"
   ]
  },
  {
   "cell_type": "markdown",
   "id": "431c2309",
   "metadata": {},
   "source": [
    "### Priniting elements of the list in reverse order"
   ]
  },
  {
   "cell_type": "code",
   "execution_count": 49,
   "id": "4e7683ad",
   "metadata": {},
   "outputs": [
    {
     "name": "stdout",
     "output_type": "stream",
     "text": [
      "grapes\n",
      "coconut\n",
      "kiwi\n",
      "banana\n",
      "apple\n"
     ]
    }
   ],
   "source": [
    "# method-1:\n",
    "\n",
    "for i in range(len(my_list)-1,-1,-1):\n",
    "    print(my_list[i])"
   ]
  },
  {
   "cell_type": "code",
   "execution_count": 50,
   "id": "93dad555",
   "metadata": {},
   "outputs": [
    {
     "name": "stdout",
     "output_type": "stream",
     "text": [
      "grapes\n",
      "coconut\n",
      "kiwi\n",
      "banana\n",
      "apple\n"
     ]
    }
   ],
   "source": [
    "# method-2:\n",
    "\n",
    "for x in my_list[::-1]:\n",
    "    print(x)"
   ]
  },
  {
   "cell_type": "markdown",
   "id": "52bb20e7",
   "metadata": {},
   "source": [
    "### List of Lists"
   ]
  },
  {
   "cell_type": "code",
   "execution_count": 51,
   "id": "6f2deb46",
   "metadata": {},
   "outputs": [],
   "source": [
    "a = [9, 10 ,-12]\n",
    "b = [True, False, 'c', \"Sherlock\", -34.56]\n",
    "c = []\n",
    "d = [-3.45]"
   ]
  },
  {
   "cell_type": "code",
   "execution_count": 52,
   "id": "60e4dcea",
   "metadata": {},
   "outputs": [],
   "source": [
    "my_list = [a, b, c, d]"
   ]
  },
  {
   "cell_type": "code",
   "execution_count": 53,
   "id": "ea1f8c3b",
   "metadata": {},
   "outputs": [
    {
     "data": {
      "text/plain": [
       "[[9, 10, -12], [True, False, 'c', 'Sherlock', -34.56], [], [-3.45]]"
      ]
     },
     "execution_count": 53,
     "metadata": {},
     "output_type": "execute_result"
    }
   ],
   "source": [
    "my_list"
   ]
  },
  {
   "cell_type": "code",
   "execution_count": 54,
   "id": "0e9dfb17",
   "metadata": {},
   "outputs": [
    {
     "data": {
      "text/plain": [
       "[9, 10, -12]"
      ]
     },
     "execution_count": 54,
     "metadata": {},
     "output_type": "execute_result"
    }
   ],
   "source": [
    "my_list[0]"
   ]
  },
  {
   "cell_type": "code",
   "execution_count": 55,
   "id": "623f346b",
   "metadata": {},
   "outputs": [
    {
     "data": {
      "text/plain": [
       "[]"
      ]
     },
     "execution_count": 55,
     "metadata": {},
     "output_type": "execute_result"
    }
   ],
   "source": [
    "my_list[2]"
   ]
  },
  {
   "cell_type": "code",
   "execution_count": 59,
   "id": "0a34e351",
   "metadata": {},
   "outputs": [
    {
     "data": {
      "text/plain": [
       "'Sherlock'"
      ]
     },
     "execution_count": 59,
     "metadata": {},
     "output_type": "execute_result"
    }
   ],
   "source": [
    "my_list[1][3]"
   ]
  },
  {
   "cell_type": "markdown",
   "id": "e1436538",
   "metadata": {},
   "source": [
    "### List Methods"
   ]
  },
  {
   "cell_type": "markdown",
   "id": "b6025bf7",
   "metadata": {},
   "source": [
    "#### append()\n",
    "```\n",
    "L = [1, 3, 5]\n",
    "\n",
    "L.append(7)\n",
    "```\n",
    "It will produce ```[1, 3, 5, 7]```"
   ]
  },
  {
   "cell_type": "code",
   "execution_count": 60,
   "id": "c0d6adc4",
   "metadata": {},
   "outputs": [],
   "source": [
    "l = [32, -43, 78, -23, 8, 10, 7, -4, 2]"
   ]
  },
  {
   "cell_type": "code",
   "execution_count": 61,
   "id": "652836af",
   "metadata": {},
   "outputs": [],
   "source": [
    "l.append(100)"
   ]
  },
  {
   "cell_type": "code",
   "execution_count": 62,
   "id": "196c7f4e",
   "metadata": {},
   "outputs": [
    {
     "name": "stdout",
     "output_type": "stream",
     "text": [
      "[32, -43, 78, -23, 8, 10, 7, -4, 2, 100]\n"
     ]
    }
   ],
   "source": [
    "print(l)"
   ]
  },
  {
   "cell_type": "code",
   "execution_count": 63,
   "id": "8acacfc2",
   "metadata": {},
   "outputs": [
    {
     "name": "stdout",
     "output_type": "stream",
     "text": [
      "[56]\n"
     ]
    }
   ],
   "source": [
    "a = []\n",
    "\n",
    "a.append(56)\n",
    "\n",
    "print(a)"
   ]
  },
  {
   "cell_type": "code",
   "execution_count": 65,
   "id": "a5c87a5c",
   "metadata": {},
   "outputs": [],
   "source": [
    "l.append(34)"
   ]
  },
  {
   "cell_type": "code",
   "execution_count": 66,
   "id": "5b5dec5a",
   "metadata": {},
   "outputs": [
    {
     "data": {
      "text/plain": [
       "[32, -43, 78, -23, 8, 10, 7, -4, 2, 100, 34]"
      ]
     },
     "execution_count": 66,
     "metadata": {},
     "output_type": "execute_result"
    }
   ],
   "source": [
    "l"
   ]
  },
  {
   "cell_type": "markdown",
   "id": "98013805",
   "metadata": {},
   "source": [
    "#### extend()\n",
    "\n",
    "```\n",
    "a = [1, 3, 5]\n",
    "\n",
    "b = [8, 10, 12]\n",
    "\n",
    "```\n",
    "If I do\n",
    "\n",
    "```\n",
    "a.extend(b)\n",
    "\n",
    "```\n",
    "\n",
    "then it will produce ```[1, 3, 5, 8, 10, 12]```"
   ]
  },
  {
   "cell_type": "code",
   "execution_count": 67,
   "id": "832d40a6",
   "metadata": {},
   "outputs": [],
   "source": [
    "a = [1, 3, 5]\n",
    "b = [8, 10, 12]\n",
    "\n",
    "a.extend(b)"
   ]
  },
  {
   "cell_type": "code",
   "execution_count": 68,
   "id": "8b47537d",
   "metadata": {},
   "outputs": [
    {
     "data": {
      "text/plain": [
       "[1, 3, 5, 8, 10, 12]"
      ]
     },
     "execution_count": 68,
     "metadata": {},
     "output_type": "execute_result"
    }
   ],
   "source": [
    "a"
   ]
  },
  {
   "cell_type": "code",
   "execution_count": 69,
   "id": "cfa49745",
   "metadata": {},
   "outputs": [
    {
     "data": {
      "text/plain": [
       "[8, 10, 12]"
      ]
     },
     "execution_count": 69,
     "metadata": {},
     "output_type": "execute_result"
    }
   ],
   "source": [
    "b"
   ]
  },
  {
   "cell_type": "markdown",
   "id": "fb1b3e75",
   "metadata": {},
   "source": [
    "#### pop()"
   ]
  },
  {
   "cell_type": "code",
   "execution_count": 70,
   "id": "be59f603",
   "metadata": {},
   "outputs": [],
   "source": [
    "a = [\"one\", \"two\", \"three\", \"four\"]"
   ]
  },
  {
   "cell_type": "code",
   "execution_count": 71,
   "id": "5a0ab736",
   "metadata": {},
   "outputs": [
    {
     "data": {
      "text/plain": [
       "'four'"
      ]
     },
     "execution_count": 71,
     "metadata": {},
     "output_type": "execute_result"
    }
   ],
   "source": [
    "a.pop() # return the last element and will remove that from list"
   ]
  },
  {
   "cell_type": "code",
   "execution_count": 72,
   "id": "9d791e0e",
   "metadata": {},
   "outputs": [
    {
     "data": {
      "text/plain": [
       "['one', 'two', 'three']"
      ]
     },
     "execution_count": 72,
     "metadata": {},
     "output_type": "execute_result"
    }
   ],
   "source": [
    "a"
   ]
  },
  {
   "cell_type": "code",
   "execution_count": 73,
   "id": "46a93261",
   "metadata": {},
   "outputs": [],
   "source": [
    "b = [\"mango\", \"banana\", \"palm\", \"apple\", \"orange\"]"
   ]
  },
  {
   "cell_type": "code",
   "execution_count": 74,
   "id": "8259daa1",
   "metadata": {},
   "outputs": [
    {
     "data": {
      "text/plain": [
       "'palm'"
      ]
     },
     "execution_count": 74,
     "metadata": {},
     "output_type": "execute_result"
    }
   ],
   "source": [
    "b.pop(2) # element at index 2 is returned and will be removed from the list"
   ]
  },
  {
   "cell_type": "code",
   "execution_count": 75,
   "id": "2e2435d7",
   "metadata": {},
   "outputs": [
    {
     "data": {
      "text/plain": [
       "['mango', 'banana', 'apple', 'orange']"
      ]
     },
     "execution_count": 75,
     "metadata": {},
     "output_type": "execute_result"
    }
   ],
   "source": [
    "b"
   ]
  },
  {
   "cell_type": "markdown",
   "id": "fd919d6b",
   "metadata": {},
   "source": [
    "#### insert()\n",
    "\n",
    "insert(index , value)"
   ]
  },
  {
   "cell_type": "code",
   "execution_count": 78,
   "id": "869a0139",
   "metadata": {},
   "outputs": [],
   "source": [
    "x = [4, 2, -9, -10.5, 24, 10, -3, 8.8]\n",
    "\n",
    "x.insert(4, 33.33)"
   ]
  },
  {
   "cell_type": "code",
   "execution_count": 79,
   "id": "8fe0234f",
   "metadata": {},
   "outputs": [
    {
     "data": {
      "text/plain": [
       "[4, 2, -9, -10.5, 33.33, 24, 10, -3, 8.8]"
      ]
     },
     "execution_count": 79,
     "metadata": {},
     "output_type": "execute_result"
    }
   ],
   "source": [
    "x"
   ]
  },
  {
   "cell_type": "code",
   "execution_count": 80,
   "id": "9cd0c915",
   "metadata": {},
   "outputs": [],
   "source": [
    "x.insert(-1, 45)"
   ]
  },
  {
   "cell_type": "code",
   "execution_count": 81,
   "id": "c8f89735",
   "metadata": {},
   "outputs": [
    {
     "data": {
      "text/plain": [
       "[4, 2, -9, -10.5, 33.33, 24, 10, -3, 45, 8.8]"
      ]
     },
     "execution_count": 81,
     "metadata": {},
     "output_type": "execute_result"
    }
   ],
   "source": [
    "x"
   ]
  },
  {
   "cell_type": "code",
   "execution_count": 82,
   "id": "0ee67398",
   "metadata": {},
   "outputs": [],
   "source": [
    "x.insert(len(x), 8192)"
   ]
  },
  {
   "cell_type": "code",
   "execution_count": 83,
   "id": "7de011ac",
   "metadata": {},
   "outputs": [
    {
     "data": {
      "text/plain": [
       "[4, 2, -9, -10.5, 33.33, 24, 10, -3, 45, 8.8, 8192]"
      ]
     },
     "execution_count": 83,
     "metadata": {},
     "output_type": "execute_result"
    }
   ],
   "source": [
    "x"
   ]
  },
  {
   "cell_type": "markdown",
   "id": "06bedb2d",
   "metadata": {},
   "source": [
    "Sum all the values of the list"
   ]
  },
  {
   "cell_type": "code",
   "execution_count": 84,
   "id": "418142d4",
   "metadata": {},
   "outputs": [
    {
     "name": "stdout",
     "output_type": "stream",
     "text": [
      "8296.63\n"
     ]
    }
   ],
   "source": [
    "s = 0\n",
    "\n",
    "for i in x:\n",
    "    s += i\n",
    "    \n",
    "print(s)"
   ]
  },
  {
   "cell_type": "code",
   "execution_count": 86,
   "id": "5d5b1e89",
   "metadata": {},
   "outputs": [
    {
     "data": {
      "text/plain": [
       "8296.63"
      ]
     },
     "execution_count": 86,
     "metadata": {},
     "output_type": "execute_result"
    }
   ],
   "source": [
    "sum(x)   # sum() is a in-built function in python -> whenever you put a list or any iterable it will produce the sum"
   ]
  },
  {
   "cell_type": "markdown",
   "id": "80a743af",
   "metadata": {},
   "source": [
    "#### sort()"
   ]
  },
  {
   "cell_type": "code",
   "execution_count": 87,
   "id": "c311a5f6",
   "metadata": {},
   "outputs": [],
   "source": [
    "y = [4, -2, 67, -54, 2, 27]"
   ]
  },
  {
   "cell_type": "code",
   "execution_count": 88,
   "id": "fa558d3f",
   "metadata": {},
   "outputs": [],
   "source": [
    "y.sort() # it will arrange the numbers in ascending order"
   ]
  },
  {
   "cell_type": "code",
   "execution_count": 89,
   "id": "bc80e938",
   "metadata": {},
   "outputs": [
    {
     "data": {
      "text/plain": [
       "[-54, -2, 2, 4, 27, 67]"
      ]
     },
     "execution_count": 89,
     "metadata": {},
     "output_type": "execute_result"
    }
   ],
   "source": [
    "y"
   ]
  },
  {
   "cell_type": "code",
   "execution_count": 94,
   "id": "60d4b1cd",
   "metadata": {},
   "outputs": [],
   "source": [
    "z = [4, -3, -1, 23, 90, -34]\n",
    "\n",
    "z.sort(reverse=True) # it will arrange the numbers in descending order"
   ]
  },
  {
   "cell_type": "code",
   "execution_count": 95,
   "id": "249fd525",
   "metadata": {},
   "outputs": [
    {
     "data": {
      "text/plain": [
       "[90, 23, 4, -1, -3, -34]"
      ]
     },
     "execution_count": 95,
     "metadata": {},
     "output_type": "execute_result"
    }
   ],
   "source": [
    "z"
   ]
  },
  {
   "cell_type": "code",
   "execution_count": 96,
   "id": "65d499e8",
   "metadata": {},
   "outputs": [],
   "source": [
    "b = [\"mango\", \"banana\", \"palm\", \"apple\", \"orange\"]"
   ]
  },
  {
   "cell_type": "code",
   "execution_count": 97,
   "id": "e098867c",
   "metadata": {},
   "outputs": [],
   "source": [
    "b.sort()  # it will be ordered alphabatically"
   ]
  },
  {
   "cell_type": "code",
   "execution_count": 98,
   "id": "4bb3b1cc",
   "metadata": {},
   "outputs": [
    {
     "data": {
      "text/plain": [
       "['apple', 'banana', 'mango', 'orange', 'palm']"
      ]
     },
     "execution_count": 98,
     "metadata": {},
     "output_type": "execute_result"
    }
   ],
   "source": [
    "b"
   ]
  },
  {
   "cell_type": "code",
   "execution_count": 99,
   "id": "0e022c29",
   "metadata": {},
   "outputs": [
    {
     "ename": "TypeError",
     "evalue": "'<' not supported between instances of 'str' and 'bool'",
     "output_type": "error",
     "traceback": [
      "\u001b[1;31m---------------------------------------------------------------------------\u001b[0m",
      "\u001b[1;31mTypeError\u001b[0m                                 Traceback (most recent call last)",
      "\u001b[1;32mC:\\Users\\SOURAV~1\\AppData\\Local\\Temp/ipykernel_9184/290309263.py\u001b[0m in \u001b[0;36m<module>\u001b[1;34m\u001b[0m\n\u001b[0;32m      1\u001b[0m \u001b[0mc\u001b[0m \u001b[1;33m=\u001b[0m \u001b[1;33m[\u001b[0m\u001b[1;32mTrue\u001b[0m\u001b[1;33m,\u001b[0m \u001b[1;32mFalse\u001b[0m\u001b[1;33m,\u001b[0m \u001b[1;34m'c'\u001b[0m\u001b[1;33m,\u001b[0m \u001b[1;34m\"Sherlock\"\u001b[0m\u001b[1;33m,\u001b[0m \u001b[1;33m-\u001b[0m\u001b[1;36m34.56\u001b[0m\u001b[1;33m]\u001b[0m\u001b[1;33m\u001b[0m\u001b[1;33m\u001b[0m\u001b[0m\n\u001b[0;32m      2\u001b[0m \u001b[1;33m\u001b[0m\u001b[0m\n\u001b[1;32m----> 3\u001b[1;33m \u001b[0mc\u001b[0m\u001b[1;33m.\u001b[0m\u001b[0msort\u001b[0m\u001b[1;33m(\u001b[0m\u001b[1;33m)\u001b[0m\u001b[1;33m\u001b[0m\u001b[1;33m\u001b[0m\u001b[0m\n\u001b[0m\u001b[0;32m      4\u001b[0m \u001b[1;33m\u001b[0m\u001b[0m\n\u001b[0;32m      5\u001b[0m \u001b[0mc\u001b[0m\u001b[1;33m\u001b[0m\u001b[1;33m\u001b[0m\u001b[0m\n",
      "\u001b[1;31mTypeError\u001b[0m: '<' not supported between instances of 'str' and 'bool'"
     ]
    }
   ],
   "source": [
    "c = [True, False, 'c', \"Sherlock\", -34.56]\n",
    "\n",
    "c.sort()\n",
    "\n",
    "c"
   ]
  },
  {
   "cell_type": "markdown",
   "id": "b5c5844c",
   "metadata": {},
   "source": [
    "## HW: Write your own code to sort a numeric list (without using the sort method)"
   ]
  },
  {
   "cell_type": "markdown",
   "id": "7b0dcb0d",
   "metadata": {},
   "source": [
    "### List operations"
   ]
  },
  {
   "cell_type": "code",
   "execution_count": 100,
   "id": "c297d67d",
   "metadata": {},
   "outputs": [
    {
     "data": {
      "text/plain": [
       "['mango', 'banana', 'apple', 'orange']"
      ]
     },
     "execution_count": 100,
     "metadata": {},
     "output_type": "execute_result"
    }
   ],
   "source": [
    "a = [\"mango\", \"banana\"]\n",
    "\n",
    "b = [\"apple\", \"orange\"]\n",
    "\n",
    "a+b"
   ]
  },
  {
   "cell_type": "code",
   "execution_count": 104,
   "id": "09a1b1f2",
   "metadata": {},
   "outputs": [
    {
     "data": {
      "text/plain": [
       "['mango', 'banana', 2]"
      ]
     },
     "execution_count": 104,
     "metadata": {},
     "output_type": "execute_result"
    }
   ],
   "source": [
    "a + [2]"
   ]
  },
  {
   "cell_type": "code",
   "execution_count": 105,
   "id": "f1513229",
   "metadata": {},
   "outputs": [
    {
     "data": {
      "text/plain": [
       "['mango', 'banana', 'mango', 'banana', 'mango', 'banana']"
      ]
     },
     "execution_count": 105,
     "metadata": {},
     "output_type": "execute_result"
    }
   ],
   "source": [
    "3 * a  # a + a + a"
   ]
  },
  {
   "cell_type": "code",
   "execution_count": 106,
   "id": "506e2143",
   "metadata": {},
   "outputs": [],
   "source": [
    "z = [None]  # it is not an empty list"
   ]
  },
  {
   "cell_type": "code",
   "execution_count": 110,
   "id": "b3e07aef",
   "metadata": {},
   "outputs": [
    {
     "data": {
      "text/plain": [
       "[None, None, None, None, None, None, None, None, None, None]"
      ]
     },
     "execution_count": 110,
     "metadata": {},
     "output_type": "execute_result"
    }
   ],
   "source": [
    "10*z"
   ]
  },
  {
   "cell_type": "code",
   "execution_count": 111,
   "id": "43710efe",
   "metadata": {},
   "outputs": [
    {
     "data": {
      "text/plain": [
       "[23, 56, 23, 56, 23, 56, 23, 56]"
      ]
     },
     "execution_count": 111,
     "metadata": {},
     "output_type": "execute_result"
    }
   ],
   "source": [
    "x = [23, 56]\n",
    "\n",
    "x * 4"
   ]
  },
  {
   "cell_type": "code",
   "execution_count": null,
   "id": "7dec15b5",
   "metadata": {},
   "outputs": [],
   "source": []
  }
 ],
 "metadata": {
  "kernelspec": {
   "display_name": "Python 3 (ipykernel)",
   "language": "python",
   "name": "python3"
  },
  "language_info": {
   "codemirror_mode": {
    "name": "ipython",
    "version": 3
   },
   "file_extension": ".py",
   "mimetype": "text/x-python",
   "name": "python",
   "nbconvert_exporter": "python",
   "pygments_lexer": "ipython3",
   "version": "3.9.7"
  }
 },
 "nbformat": 4,
 "nbformat_minor": 5
}
