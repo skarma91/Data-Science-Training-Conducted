{
 "cells": [
  {
   "cell_type": "markdown",
   "id": "fa3aaec5",
   "metadata": {},
   "source": [
    "## Load the processed data"
   ]
  },
  {
   "cell_type": "code",
   "execution_count": 8,
   "id": "27e7b55c",
   "metadata": {
    "ExecuteTime": {
     "end_time": "2022-10-14T16:52:42.232537Z",
     "start_time": "2022-10-14T16:52:41.784863Z"
    }
   },
   "outputs": [],
   "source": [
    "import pandas as pd\n",
    "import numpy as np\n",
    "import matplotlib.pyplot as plt"
   ]
  },
  {
   "cell_type": "code",
   "execution_count": 9,
   "id": "096e6b40",
   "metadata": {
    "ExecuteTime": {
     "end_time": "2022-10-14T16:53:44.788103Z",
     "start_time": "2022-10-14T16:53:44.678221Z"
    }
   },
   "outputs": [],
   "source": [
    "data = pd.read_csv(\"./Churn_modelling_processed_data.csv\")"
   ]
  },
  {
   "cell_type": "code",
   "execution_count": 10,
   "id": "c59e908a",
   "metadata": {
    "ExecuteTime": {
     "end_time": "2022-10-14T16:53:48.248017Z",
     "start_time": "2022-10-14T16:53:48.214400Z"
    }
   },
   "outputs": [
    {
     "data": {
      "text/html": [
       "<div>\n",
       "<style scoped>\n",
       "    .dataframe tbody tr th:only-of-type {\n",
       "        vertical-align: middle;\n",
       "    }\n",
       "\n",
       "    .dataframe tbody tr th {\n",
       "        vertical-align: top;\n",
       "    }\n",
       "\n",
       "    .dataframe thead th {\n",
       "        text-align: right;\n",
       "    }\n",
       "</style>\n",
       "<table border=\"1\" class=\"dataframe\">\n",
       "  <thead>\n",
       "    <tr style=\"text-align: right;\">\n",
       "      <th></th>\n",
       "      <th>CreditScoreScaled</th>\n",
       "      <th>Germany</th>\n",
       "      <th>Spain</th>\n",
       "      <th>GenderCoded</th>\n",
       "      <th>AgeScaled</th>\n",
       "      <th>Tenure</th>\n",
       "      <th>BalanceScaled</th>\n",
       "      <th>NumOfProducts</th>\n",
       "      <th>HasCrCard</th>\n",
       "      <th>IsActiveMember</th>\n",
       "      <th>EstimatedSalaryScaled</th>\n",
       "      <th>Exited</th>\n",
       "    </tr>\n",
       "  </thead>\n",
       "  <tbody>\n",
       "    <tr>\n",
       "      <th>0</th>\n",
       "      <td>0.538</td>\n",
       "      <td>0</td>\n",
       "      <td>0</td>\n",
       "      <td>0</td>\n",
       "      <td>0.324324</td>\n",
       "      <td>2</td>\n",
       "      <td>0.000000</td>\n",
       "      <td>1</td>\n",
       "      <td>1</td>\n",
       "      <td>1</td>\n",
       "      <td>0.506735</td>\n",
       "      <td>1</td>\n",
       "    </tr>\n",
       "    <tr>\n",
       "      <th>1</th>\n",
       "      <td>0.516</td>\n",
       "      <td>0</td>\n",
       "      <td>1</td>\n",
       "      <td>0</td>\n",
       "      <td>0.310811</td>\n",
       "      <td>1</td>\n",
       "      <td>0.334031</td>\n",
       "      <td>1</td>\n",
       "      <td>0</td>\n",
       "      <td>1</td>\n",
       "      <td>0.562709</td>\n",
       "      <td>0</td>\n",
       "    </tr>\n",
       "    <tr>\n",
       "      <th>2</th>\n",
       "      <td>0.304</td>\n",
       "      <td>0</td>\n",
       "      <td>0</td>\n",
       "      <td>0</td>\n",
       "      <td>0.324324</td>\n",
       "      <td>8</td>\n",
       "      <td>0.636357</td>\n",
       "      <td>3</td>\n",
       "      <td>1</td>\n",
       "      <td>0</td>\n",
       "      <td>0.569654</td>\n",
       "      <td>1</td>\n",
       "    </tr>\n",
       "    <tr>\n",
       "      <th>3</th>\n",
       "      <td>0.698</td>\n",
       "      <td>0</td>\n",
       "      <td>0</td>\n",
       "      <td>0</td>\n",
       "      <td>0.283784</td>\n",
       "      <td>1</td>\n",
       "      <td>0.000000</td>\n",
       "      <td>2</td>\n",
       "      <td>0</td>\n",
       "      <td>0</td>\n",
       "      <td>0.469120</td>\n",
       "      <td>0</td>\n",
       "    </tr>\n",
       "    <tr>\n",
       "      <th>4</th>\n",
       "      <td>1.000</td>\n",
       "      <td>0</td>\n",
       "      <td>1</td>\n",
       "      <td>0</td>\n",
       "      <td>0.337838</td>\n",
       "      <td>2</td>\n",
       "      <td>0.500246</td>\n",
       "      <td>1</td>\n",
       "      <td>1</td>\n",
       "      <td>1</td>\n",
       "      <td>0.395400</td>\n",
       "      <td>0</td>\n",
       "    </tr>\n",
       "  </tbody>\n",
       "</table>\n",
       "</div>"
      ],
      "text/plain": [
       "   CreditScoreScaled  Germany  Spain  GenderCoded  AgeScaled  Tenure  \\\n",
       "0              0.538        0      0            0   0.324324       2   \n",
       "1              0.516        0      1            0   0.310811       1   \n",
       "2              0.304        0      0            0   0.324324       8   \n",
       "3              0.698        0      0            0   0.283784       1   \n",
       "4              1.000        0      1            0   0.337838       2   \n",
       "\n",
       "   BalanceScaled  NumOfProducts  HasCrCard  IsActiveMember  \\\n",
       "0       0.000000              1          1               1   \n",
       "1       0.334031              1          0               1   \n",
       "2       0.636357              3          1               0   \n",
       "3       0.000000              2          0               0   \n",
       "4       0.500246              1          1               1   \n",
       "\n",
       "   EstimatedSalaryScaled  Exited  \n",
       "0               0.506735       1  \n",
       "1               0.562709       0  \n",
       "2               0.569654       1  \n",
       "3               0.469120       0  \n",
       "4               0.395400       0  "
      ]
     },
     "execution_count": 10,
     "metadata": {},
     "output_type": "execute_result"
    }
   ],
   "source": [
    "data.head()"
   ]
  },
  {
   "cell_type": "markdown",
   "id": "e6a9cf53",
   "metadata": {},
   "source": [
    "## Predictors and Target"
   ]
  },
  {
   "cell_type": "code",
   "execution_count": 11,
   "id": "c9d88538",
   "metadata": {
    "ExecuteTime": {
     "end_time": "2022-10-14T16:54:26.393004Z",
     "start_time": "2022-10-14T16:54:26.385695Z"
    }
   },
   "outputs": [],
   "source": [
    "features = data.columns.to_list()"
   ]
  },
  {
   "cell_type": "code",
   "execution_count": 12,
   "id": "a0bb22a3",
   "metadata": {
    "ExecuteTime": {
     "end_time": "2022-10-14T16:54:32.768577Z",
     "start_time": "2022-10-14T16:54:32.757475Z"
    }
   },
   "outputs": [],
   "source": [
    "target = 'Exited'"
   ]
  },
  {
   "cell_type": "code",
   "execution_count": 13,
   "id": "b495665b",
   "metadata": {
    "ExecuteTime": {
     "end_time": "2022-10-14T16:54:56.502502Z",
     "start_time": "2022-10-14T16:54:56.487357Z"
    }
   },
   "outputs": [],
   "source": [
    "features.remove(target)"
   ]
  },
  {
   "cell_type": "code",
   "execution_count": 14,
   "id": "ea83a55b",
   "metadata": {
    "ExecuteTime": {
     "end_time": "2022-10-14T16:55:26.430964Z",
     "start_time": "2022-10-14T16:55:26.422561Z"
    }
   },
   "outputs": [],
   "source": [
    "X = data[features].values"
   ]
  },
  {
   "cell_type": "code",
   "execution_count": 15,
   "id": "cdbcffda",
   "metadata": {
    "ExecuteTime": {
     "end_time": "2022-10-14T16:55:27.379398Z",
     "start_time": "2022-10-14T16:55:27.375210Z"
    }
   },
   "outputs": [],
   "source": [
    "y = data[target].values"
   ]
  },
  {
   "cell_type": "markdown",
   "id": "d792453b",
   "metadata": {},
   "source": [
    "## Split the dataset into train and test"
   ]
  },
  {
   "cell_type": "code",
   "execution_count": 16,
   "id": "32b8f95b",
   "metadata": {
    "ExecuteTime": {
     "end_time": "2022-10-14T16:55:58.395435Z",
     "start_time": "2022-10-14T16:55:57.653629Z"
    }
   },
   "outputs": [],
   "source": [
    "from sklearn.model_selection import train_test_split"
   ]
  },
  {
   "cell_type": "code",
   "execution_count": 17,
   "id": "e1ada3a8",
   "metadata": {
    "ExecuteTime": {
     "end_time": "2022-10-14T16:56:06.734008Z",
     "start_time": "2022-10-14T16:56:06.717789Z"
    }
   },
   "outputs": [],
   "source": [
    "X_train, X_test, y_train, y_test = train_test_split(X, y, test_size=0.25, random_state=2022)"
   ]
  },
  {
   "cell_type": "markdown",
   "id": "3574dcc2",
   "metadata": {},
   "source": [
    "## Build random forest classifier"
   ]
  },
  {
   "cell_type": "code",
   "execution_count": 18,
   "id": "74fb0b0e",
   "metadata": {
    "ExecuteTime": {
     "end_time": "2022-10-14T16:56:51.989050Z",
     "start_time": "2022-10-14T16:56:51.980708Z"
    }
   },
   "outputs": [],
   "source": [
    "from sklearn.ensemble import RandomForestClassifier"
   ]
  },
  {
   "cell_type": "code",
   "execution_count": 33,
   "id": "da49e6ef",
   "metadata": {
    "ExecuteTime": {
     "end_time": "2022-10-14T17:02:33.818815Z",
     "start_time": "2022-10-14T17:02:33.813546Z"
    }
   },
   "outputs": [],
   "source": [
    "rf_clf = RandomForestClassifier(n_estimators=50, min_samples_leaf=20)"
   ]
  },
  {
   "cell_type": "code",
   "execution_count": 34,
   "id": "ab58e792",
   "metadata": {
    "ExecuteTime": {
     "end_time": "2022-10-14T17:02:34.681140Z",
     "start_time": "2022-10-14T17:02:34.367283Z"
    }
   },
   "outputs": [
    {
     "data": {
      "text/plain": [
       "RandomForestClassifier(min_samples_leaf=20, n_estimators=50)"
      ]
     },
     "execution_count": 34,
     "metadata": {},
     "output_type": "execute_result"
    }
   ],
   "source": [
    "rf_clf.fit(X_train, y_train)   # training the random forest classifier"
   ]
  },
  {
   "cell_type": "markdown",
   "id": "51238d9e",
   "metadata": {},
   "source": [
    "**Check the model performance**"
   ]
  },
  {
   "cell_type": "code",
   "execution_count": 29,
   "id": "ed17205e",
   "metadata": {
    "ExecuteTime": {
     "end_time": "2022-10-14T17:01:55.886876Z",
     "start_time": "2022-10-14T17:01:55.878169Z"
    }
   },
   "outputs": [],
   "source": [
    "from sklearn.metrics import accuracy_score, f1_score, classification_report, confusion_matrix"
   ]
  },
  {
   "cell_type": "code",
   "execution_count": 35,
   "id": "d875de3c",
   "metadata": {
    "ExecuteTime": {
     "end_time": "2022-10-14T17:02:37.062005Z",
     "start_time": "2022-10-14T17:02:37.029210Z"
    }
   },
   "outputs": [],
   "source": [
    "y_pred = rf_clf.predict(X_test)"
   ]
  },
  {
   "cell_type": "code",
   "execution_count": 36,
   "id": "aa1b189f",
   "metadata": {
    "ExecuteTime": {
     "end_time": "2022-10-14T17:02:37.526754Z",
     "start_time": "2022-10-14T17:02:37.509506Z"
    }
   },
   "outputs": [
    {
     "data": {
      "text/plain": [
       "0.864"
      ]
     },
     "execution_count": 36,
     "metadata": {},
     "output_type": "execute_result"
    }
   ],
   "source": [
    "accuracy_score(y_true=y_test, y_pred=y_pred)"
   ]
  },
  {
   "cell_type": "code",
   "execution_count": 37,
   "id": "b800b767",
   "metadata": {
    "ExecuteTime": {
     "end_time": "2022-10-14T17:02:38.872586Z",
     "start_time": "2022-10-14T17:02:38.850748Z"
    }
   },
   "outputs": [
    {
     "data": {
      "text/plain": [
       "0.569620253164557"
      ]
     },
     "execution_count": 37,
     "metadata": {},
     "output_type": "execute_result"
    }
   ],
   "source": [
    "f1_score(y_test, y_pred)"
   ]
  },
  {
   "cell_type": "code",
   "execution_count": 25,
   "id": "11763640",
   "metadata": {
    "ExecuteTime": {
     "end_time": "2022-10-14T17:00:33.626172Z",
     "start_time": "2022-10-14T17:00:33.605173Z"
    }
   },
   "outputs": [
    {
     "name": "stdout",
     "output_type": "stream",
     "text": [
      "              precision    recall  f1-score   support\n",
      "\n",
      "           0       0.88      0.96      0.92      1988\n",
      "           1       0.76      0.49      0.60       512\n",
      "\n",
      "    accuracy                           0.86      2500\n",
      "   macro avg       0.82      0.73      0.76      2500\n",
      "weighted avg       0.86      0.86      0.85      2500\n",
      "\n"
     ]
    }
   ],
   "source": [
    "print(classification_report(y_test, y_pred))"
   ]
  },
  {
   "cell_type": "code",
   "execution_count": 26,
   "id": "c95257cb",
   "metadata": {
    "ExecuteTime": {
     "end_time": "2022-10-14T17:00:52.135927Z",
     "start_time": "2022-10-14T17:00:52.114462Z"
    }
   },
   "outputs": [
    {
     "data": {
      "text/html": [
       "<div>\n",
       "<style scoped>\n",
       "    .dataframe tbody tr th:only-of-type {\n",
       "        vertical-align: middle;\n",
       "    }\n",
       "\n",
       "    .dataframe tbody tr th {\n",
       "        vertical-align: top;\n",
       "    }\n",
       "\n",
       "    .dataframe thead th {\n",
       "        text-align: right;\n",
       "    }\n",
       "</style>\n",
       "<table border=\"1\" class=\"dataframe\">\n",
       "  <thead>\n",
       "    <tr style=\"text-align: right;\">\n",
       "      <th></th>\n",
       "      <th>Predicted-0</th>\n",
       "      <th>Predicted-1</th>\n",
       "    </tr>\n",
       "  </thead>\n",
       "  <tbody>\n",
       "    <tr>\n",
       "      <th>Actual-0</th>\n",
       "      <td>1909</td>\n",
       "      <td>79</td>\n",
       "    </tr>\n",
       "    <tr>\n",
       "      <th>Actual-1</th>\n",
       "      <td>261</td>\n",
       "      <td>251</td>\n",
       "    </tr>\n",
       "  </tbody>\n",
       "</table>\n",
       "</div>"
      ],
      "text/plain": [
       "          Predicted-0  Predicted-1\n",
       "Actual-0         1909           79\n",
       "Actual-1          261          251"
      ]
     },
     "execution_count": 26,
     "metadata": {},
     "output_type": "execute_result"
    }
   ],
   "source": [
    "pd.DataFrame(confusion_matrix(y_true=y_test, y_pred=y_pred), index=['Actual-0', 'Actual-1'], columns=['Predicted-0','Predicted-1'])"
   ]
  },
  {
   "cell_type": "markdown",
   "id": "794e1dda",
   "metadata": {},
   "source": [
    "## AdaBoost Classifier"
   ]
  },
  {
   "cell_type": "markdown",
   "id": "3a4ca89c",
   "metadata": {},
   "source": [
    "**Influence vs error rate in AdaBoost Classifer**"
   ]
  },
  {
   "cell_type": "code",
   "execution_count": 2,
   "id": "b79a1282",
   "metadata": {
    "ExecuteTime": {
     "end_time": "2022-10-14T16:12:29.754094Z",
     "start_time": "2022-10-14T16:12:29.738152Z"
    }
   },
   "outputs": [],
   "source": [
    "error_rate = np.arange(0.001, 0.999, 0.001)"
   ]
  },
  {
   "cell_type": "code",
   "execution_count": 3,
   "id": "39adf859",
   "metadata": {
    "ExecuteTime": {
     "end_time": "2022-10-14T16:13:18.510225Z",
     "start_time": "2022-10-14T16:13:18.505223Z"
    }
   },
   "outputs": [],
   "source": [
    "influence = 0.5 * np.log((1 - error_rate) / error_rate)"
   ]
  },
  {
   "cell_type": "code",
   "execution_count": 7,
   "id": "b2de873d",
   "metadata": {
    "ExecuteTime": {
     "end_time": "2022-10-14T16:14:44.808919Z",
     "start_time": "2022-10-14T16:14:44.666124Z"
    }
   },
   "outputs": [
    {
     "data": {
      "image/png": "[encoded data removed]",
      "text/plain": [
       "<Figure size 576x432 with 1 Axes>"
      ]
     },
     "metadata": {
      "needs_background": "light"
     },
     "output_type": "display_data"
    }
   ],
   "source": [
    "plt.figure(figsize=(8,6))\n",
    "plt.plot(error_rate, influence)\n",
    "plt.grid()\n",
    "plt.xlabel(\"Error Rate\")\n",
    "plt.ylabel(\"Influence\")\n",
    "plt.show()"
   ]
  },
  {
   "cell_type": "code",
   "execution_count": 38,
   "id": "a8cfb745",
   "metadata": {
    "ExecuteTime": {
     "end_time": "2022-10-14T17:03:34.649813Z",
     "start_time": "2022-10-14T17:03:34.637194Z"
    }
   },
   "outputs": [],
   "source": [
    "from sklearn.ensemble import AdaBoostClassifier"
   ]
  },
  {
   "cell_type": "code",
   "execution_count": 39,
   "id": "24eb303c",
   "metadata": {
    "ExecuteTime": {
     "end_time": "2022-10-14T17:04:26.591603Z",
     "start_time": "2022-10-14T17:04:26.584623Z"
    }
   },
   "outputs": [],
   "source": [
    "adb_clf = AdaBoostClassifier()"
   ]
  },
  {
   "cell_type": "code",
   "execution_count": 40,
   "id": "c11fe36f",
   "metadata": {
    "ExecuteTime": {
     "end_time": "2022-10-14T17:04:37.368541Z",
     "start_time": "2022-10-14T17:04:37.052471Z"
    }
   },
   "outputs": [
    {
     "data": {
      "text/plain": [
       "AdaBoostClassifier()"
      ]
     },
     "execution_count": 40,
     "metadata": {},
     "output_type": "execute_result"
    }
   ],
   "source": [
    "adb_clf.fit(X_train, y_train)"
   ]
  },
  {
   "cell_type": "markdown",
   "id": "9e340d33",
   "metadata": {},
   "source": [
    "**Check the performance of the model**"
   ]
  },
  {
   "cell_type": "code",
   "execution_count": 41,
   "id": "716fd527",
   "metadata": {
    "ExecuteTime": {
     "end_time": "2022-10-14T17:05:15.361694Z",
     "start_time": "2022-10-14T17:05:15.329523Z"
    }
   },
   "outputs": [],
   "source": [
    "y_pred = adb_clf.predict(X_test)"
   ]
  },
  {
   "cell_type": "code",
   "execution_count": 42,
   "id": "8f74c1be",
   "metadata": {
    "ExecuteTime": {
     "end_time": "2022-10-14T17:05:29.063891Z",
     "start_time": "2022-10-14T17:05:29.042131Z"
    }
   },
   "outputs": [
    {
     "data": {
      "text/plain": [
       "0.8592"
      ]
     },
     "execution_count": 42,
     "metadata": {},
     "output_type": "execute_result"
    }
   ],
   "source": [
    "accuracy_score(y_test, y_pred)"
   ]
  },
  {
   "cell_type": "code",
   "execution_count": 43,
   "id": "9e3941d9",
   "metadata": {
    "ExecuteTime": {
     "end_time": "2022-10-14T17:05:42.319484Z",
     "start_time": "2022-10-14T17:05:42.310561Z"
    }
   },
   "outputs": [
    {
     "data": {
      "text/plain": [
       "0.5717761557177616"
      ]
     },
     "execution_count": 43,
     "metadata": {},
     "output_type": "execute_result"
    }
   ],
   "source": [
    "f1_score(y_test, y_pred)"
   ]
  },
  {
   "cell_type": "code",
   "execution_count": 45,
   "id": "2a72ae28",
   "metadata": {
    "ExecuteTime": {
     "end_time": "2022-10-14T17:06:04.452567Z",
     "start_time": "2022-10-14T17:06:04.426846Z"
    }
   },
   "outputs": [
    {
     "name": "stdout",
     "output_type": "stream",
     "text": [
      "              precision    recall  f1-score   support\n",
      "\n",
      "           0       0.87      0.96      0.92      1988\n",
      "           1       0.76      0.46      0.57       512\n",
      "\n",
      "    accuracy                           0.86      2500\n",
      "   macro avg       0.82      0.71      0.74      2500\n",
      "weighted avg       0.85      0.86      0.85      2500\n",
      "\n"
     ]
    }
   ],
   "source": [
    "print(classification_report(y_test, y_pred))"
   ]
  },
  {
   "cell_type": "code",
   "execution_count": 46,
   "id": "85c4317e",
   "metadata": {
    "ExecuteTime": {
     "end_time": "2022-10-14T17:06:17.349549Z",
     "start_time": "2022-10-14T17:06:17.327264Z"
    }
   },
   "outputs": [
    {
     "data": {
      "text/html": [
       "<div>\n",
       "<style scoped>\n",
       "    .dataframe tbody tr th:only-of-type {\n",
       "        vertical-align: middle;\n",
       "    }\n",
       "\n",
       "    .dataframe tbody tr th {\n",
       "        vertical-align: top;\n",
       "    }\n",
       "\n",
       "    .dataframe thead th {\n",
       "        text-align: right;\n",
       "    }\n",
       "</style>\n",
       "<table border=\"1\" class=\"dataframe\">\n",
       "  <thead>\n",
       "    <tr style=\"text-align: right;\">\n",
       "      <th></th>\n",
       "      <th>Predicted-0</th>\n",
       "      <th>Predicted-1</th>\n",
       "    </tr>\n",
       "  </thead>\n",
       "  <tbody>\n",
       "    <tr>\n",
       "      <th>Actual-0</th>\n",
       "      <td>1913</td>\n",
       "      <td>75</td>\n",
       "    </tr>\n",
       "    <tr>\n",
       "      <th>Actual-1</th>\n",
       "      <td>277</td>\n",
       "      <td>235</td>\n",
       "    </tr>\n",
       "  </tbody>\n",
       "</table>\n",
       "</div>"
      ],
      "text/plain": [
       "          Predicted-0  Predicted-1\n",
       "Actual-0         1913           75\n",
       "Actual-1          277          235"
      ]
     },
     "execution_count": 46,
     "metadata": {},
     "output_type": "execute_result"
    }
   ],
   "source": [
    "pd.DataFrame(confusion_matrix(y_true=y_test, y_pred=y_pred), index=['Actual-0', 'Actual-1'], columns=['Predicted-0','Predicted-1'])"
   ]
  },
  {
   "cell_type": "code",
   "execution_count": null,
   "id": "d26ebe78",
   "metadata": {},
   "outputs": [],
   "source": []
  }
 ],
 "metadata": {
  "kernelspec": {
   "display_name": "Python 3 (ipykernel)",
   "language": "python",
   "name": "python3"
  },
  "language_info": {
   "codemirror_mode": {
    "name": "ipython",
    "version": 3
   },
   "file_extension": ".py",
   "mimetype": "text/x-python",
   "name": "python",
   "nbconvert_exporter": "python",
   "pygments_lexer": "ipython3",
   "version": "3.9.7"
  },
  "toc": {
   "base_numbering": 1,
   "nav_menu": {},
   "number_sections": true,
   "sideBar": true,
   "skip_h1_title": true,
   "title_cell": "Table of Contents",
   "title_sidebar": "Contents",
   "toc_cell": false,
   "toc_position": {},
   "toc_section_display": true,
   "toc_window_display": true
  }
 },
 "nbformat": 4,
 "nbformat_minor": 5
}
