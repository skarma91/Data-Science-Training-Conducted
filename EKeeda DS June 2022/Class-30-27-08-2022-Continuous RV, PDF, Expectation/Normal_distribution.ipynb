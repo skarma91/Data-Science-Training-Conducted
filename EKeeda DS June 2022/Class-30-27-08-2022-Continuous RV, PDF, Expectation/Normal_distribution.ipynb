{
 "cells": [
  {
   "cell_type": "code",
   "execution_count": 1,
   "id": "a551f037",
   "metadata": {
    "ExecuteTime": {
     "end_time": "2022-08-27T16:21:24.687217Z",
     "start_time": "2022-08-27T16:21:23.117442Z"
    }
   },
   "outputs": [],
   "source": [
    "import pandas as pd\n",
    "import numpy as np\n",
    "import matplotlib.pyplot as plt"
   ]
  },
  {
   "cell_type": "code",
   "execution_count": 2,
   "id": "8affc2d9",
   "metadata": {
    "ExecuteTime": {
     "end_time": "2022-08-27T16:21:38.859965Z",
     "start_time": "2022-08-27T16:21:38.780436Z"
    }
   },
   "outputs": [],
   "source": [
    "data = pd.read_csv(\"./weight-height.csv\")"
   ]
  },
  {
   "cell_type": "code",
   "execution_count": 3,
   "id": "95917b29",
   "metadata": {
    "ExecuteTime": {
     "end_time": "2022-08-27T16:21:43.175644Z",
     "start_time": "2022-08-27T16:21:43.128685Z"
    }
   },
   "outputs": [
    {
     "data": {
      "text/html": [
       "<div>\n",
       "<style scoped>\n",
       "    .dataframe tbody tr th:only-of-type {\n",
       "        vertical-align: middle;\n",
       "    }\n",
       "\n",
       "    .dataframe tbody tr th {\n",
       "        vertical-align: top;\n",
       "    }\n",
       "\n",
       "    .dataframe thead th {\n",
       "        text-align: right;\n",
       "    }\n",
       "</style>\n",
       "<table border=\"1\" class=\"dataframe\">\n",
       "  <thead>\n",
       "    <tr style=\"text-align: right;\">\n",
       "      <th></th>\n",
       "      <th>Gender</th>\n",
       "      <th>Height</th>\n",
       "      <th>Weight</th>\n",
       "    </tr>\n",
       "  </thead>\n",
       "  <tbody>\n",
       "    <tr>\n",
       "      <th>0</th>\n",
       "      <td>Male</td>\n",
       "      <td>73.847017</td>\n",
       "      <td>241.893563</td>\n",
       "    </tr>\n",
       "    <tr>\n",
       "      <th>1</th>\n",
       "      <td>Male</td>\n",
       "      <td>68.781904</td>\n",
       "      <td>162.310473</td>\n",
       "    </tr>\n",
       "    <tr>\n",
       "      <th>2</th>\n",
       "      <td>Male</td>\n",
       "      <td>74.110105</td>\n",
       "      <td>212.740856</td>\n",
       "    </tr>\n",
       "    <tr>\n",
       "      <th>3</th>\n",
       "      <td>Male</td>\n",
       "      <td>71.730978</td>\n",
       "      <td>220.042470</td>\n",
       "    </tr>\n",
       "    <tr>\n",
       "      <th>4</th>\n",
       "      <td>Male</td>\n",
       "      <td>69.881796</td>\n",
       "      <td>206.349801</td>\n",
       "    </tr>\n",
       "  </tbody>\n",
       "</table>\n",
       "</div>"
      ],
      "text/plain": [
       "  Gender     Height      Weight\n",
       "0   Male  73.847017  241.893563\n",
       "1   Male  68.781904  162.310473\n",
       "2   Male  74.110105  212.740856\n",
       "3   Male  71.730978  220.042470\n",
       "4   Male  69.881796  206.349801"
      ]
     },
     "execution_count": 3,
     "metadata": {},
     "output_type": "execute_result"
    }
   ],
   "source": [
    "data.head()"
   ]
  },
  {
   "cell_type": "code",
   "execution_count": 4,
   "id": "cc3fdd1e",
   "metadata": {
    "ExecuteTime": {
     "end_time": "2022-08-27T16:22:29.820451Z",
     "start_time": "2022-08-27T16:22:29.790036Z"
    }
   },
   "outputs": [],
   "source": [
    "height_data_male = data[data['Gender'] == 'Male']['Height'].values"
   ]
  },
  {
   "cell_type": "code",
   "execution_count": 5,
   "id": "d9557524",
   "metadata": {
    "ExecuteTime": {
     "end_time": "2022-08-27T16:22:32.823135Z",
     "start_time": "2022-08-27T16:22:32.801517Z"
    }
   },
   "outputs": [
    {
     "data": {
      "text/plain": [
       "array([73.84701702, 68.78190405, 74.11010539, ..., 67.01379497,\n",
       "       71.55771849, 70.35187988])"
      ]
     },
     "execution_count": 5,
     "metadata": {},
     "output_type": "execute_result"
    }
   ],
   "source": [
    "height_data_male"
   ]
  },
  {
   "cell_type": "code",
   "execution_count": 9,
   "id": "c18c68d4",
   "metadata": {
    "ExecuteTime": {
     "end_time": "2022-08-27T16:24:08.831284Z",
     "start_time": "2022-08-27T16:24:08.575989Z"
    }
   },
   "outputs": [
    {
     "data": {
      "image/png": "[encoded data removed]",
      "text/plain": [
       "<Figure size 576x432 with 1 Axes>"
      ]
     },
     "metadata": {
      "needs_background": "light"
     },
     "output_type": "display_data"
    }
   ],
   "source": [
    "plt.figure(figsize=(8,6))\n",
    "plt.hist(height_data_male, bins=100)\n",
    "plt.grid()\n",
    "plt.title(\"Histogram of male heights\")\n",
    "plt.show()"
   ]
  },
  {
   "cell_type": "code",
   "execution_count": 12,
   "id": "063092ca",
   "metadata": {
    "ExecuteTime": {
     "end_time": "2022-08-27T16:25:27.277182Z",
     "start_time": "2022-08-27T16:25:27.265713Z"
    }
   },
   "outputs": [],
   "source": [
    "mean = height_data_male.mean()"
   ]
  },
  {
   "cell_type": "code",
   "execution_count": 13,
   "id": "319d58c7",
   "metadata": {
    "ExecuteTime": {
     "end_time": "2022-08-27T16:25:31.154019Z",
     "start_time": "2022-08-27T16:25:31.145915Z"
    }
   },
   "outputs": [],
   "source": [
    "std = height_data_male.std()"
   ]
  },
  {
   "cell_type": "code",
   "execution_count": 16,
   "id": "d0a07b36",
   "metadata": {
    "ExecuteTime": {
     "end_time": "2022-08-27T16:26:48.672962Z",
     "start_time": "2022-08-27T16:26:48.659427Z"
    }
   },
   "outputs": [
    {
     "name": "stdout",
     "output_type": "stream",
     "text": [
      "The mean = 69.02634590621741 and std dev = 2.863075878119538\n"
     ]
    }
   ],
   "source": [
    "print(\"The mean = {} and std dev = {}\".format(mean, std))"
   ]
  },
  {
   "cell_type": "code",
   "execution_count": 17,
   "id": "ed3094f3",
   "metadata": {
    "ExecuteTime": {
     "end_time": "2022-08-27T16:27:31.730893Z",
     "start_time": "2022-08-27T16:27:31.714565Z"
    }
   },
   "outputs": [],
   "source": [
    "std_height_male = (height_data_male - mean)/std"
   ]
  },
  {
   "cell_type": "code",
   "execution_count": 18,
   "id": "9c6a6cf6",
   "metadata": {
    "ExecuteTime": {
     "end_time": "2022-08-27T16:27:54.866734Z",
     "start_time": "2022-08-27T16:27:54.573495Z"
    }
   },
   "outputs": [
    {
     "data": {
      "image/png": "[encoded data removed]",
      "text/plain": [
       "<Figure size 576x432 with 1 Axes>"
      ]
     },
     "metadata": {
      "needs_background": "light"
     },
     "output_type": "display_data"
    }
   ],
   "source": [
    "plt.figure(figsize=(8,6))\n",
    "plt.hist(std_height_male, bins=100)\n",
    "plt.grid()\n",
    "plt.title(\"Histogram of male heights\")\n",
    "plt.show()"
   ]
  },
  {
   "cell_type": "code",
   "execution_count": 20,
   "id": "09baf31a",
   "metadata": {
    "ExecuteTime": {
     "end_time": "2022-08-27T16:28:17.087503Z",
     "start_time": "2022-08-27T16:28:17.075464Z"
    }
   },
   "outputs": [
    {
     "data": {
      "text/plain": [
       "0.0"
      ]
     },
     "execution_count": 20,
     "metadata": {},
     "output_type": "execute_result"
    }
   ],
   "source": [
    "round(std_height_male.mean(), 6)"
   ]
  },
  {
   "cell_type": "code",
   "execution_count": 21,
   "id": "ce4211c4",
   "metadata": {
    "ExecuteTime": {
     "end_time": "2022-08-27T16:28:27.717597Z",
     "start_time": "2022-08-27T16:28:27.699296Z"
    }
   },
   "outputs": [
    {
     "data": {
      "text/plain": [
       "1.0"
      ]
     },
     "execution_count": 21,
     "metadata": {},
     "output_type": "execute_result"
    }
   ],
   "source": [
    "std_height_male.std()"
   ]
  },
  {
   "cell_type": "code",
   "execution_count": null,
   "id": "d4fda640",
   "metadata": {},
   "outputs": [],
   "source": []
  }
 ],
 "metadata": {
  "kernelspec": {
   "display_name": "Python 3 (ipykernel)",
   "language": "python",
   "name": "python3"
  },
  "language_info": {
   "codemirror_mode": {
    "name": "ipython",
    "version": 3
   },
   "file_extension": ".py",
   "mimetype": "text/x-python",
   "name": "python",
   "nbconvert_exporter": "python",
   "pygments_lexer": "ipython3",
   "version": "3.9.7"
  },
  "toc": {
   "base_numbering": 1,
   "nav_menu": {},
   "number_sections": true,
   "sideBar": true,
   "skip_h1_title": true,
   "title_cell": "Table of Contents",
   "title_sidebar": "Contents",
   "toc_cell": false,
   "toc_position": {},
   "toc_section_display": true,
   "toc_window_display": false
  }
 },
 "nbformat": 4,
 "nbformat_minor": 5
}
