{
 "cells": [
  {
   "cell_type": "markdown",
   "id": "fcd60ed5",
   "metadata": {},
   "source": [
    "## Coin toss experiment"
   ]
  },
  {
   "cell_type": "code",
   "execution_count": 1,
   "id": "0b4c220c",
   "metadata": {
    "ExecuteTime": {
     "end_time": "2022-08-27T13:52:44.007137Z",
     "start_time": "2022-08-27T13:52:43.981630Z"
    }
   },
   "outputs": [],
   "source": [
    "import random"
   ]
  },
  {
   "cell_type": "code",
   "execution_count": 6,
   "id": "401f6e98",
   "metadata": {
    "ExecuteTime": {
     "end_time": "2022-08-27T13:54:46.143435Z",
     "start_time": "2022-08-27T13:54:46.131975Z"
    }
   },
   "outputs": [],
   "source": [
    "def singleCoinToss():\n",
    "    i = random.randint(0,1)\n",
    "    outcomes = ['H', 'T']\n",
    "    return outcomes[i]"
   ]
  },
  {
   "cell_type": "code",
   "execution_count": 9,
   "id": "ad6c6478",
   "metadata": {
    "ExecuteTime": {
     "end_time": "2022-08-27T13:56:21.453056Z",
     "start_time": "2022-08-27T13:56:21.438501Z"
    }
   },
   "outputs": [],
   "source": [
    "def multipleCoinToss(n = 5):\n",
    "    op = []\n",
    "    for i in range(n):\n",
    "        op.append(singleCoinToss())\n",
    "    return op"
   ]
  },
  {
   "cell_type": "markdown",
   "id": "c368b309",
   "metadata": {
    "ExecuteTime": {
     "end_time": "2022-08-27T13:57:13.181967Z",
     "start_time": "2022-08-27T13:57:13.165067Z"
    }
   },
   "source": [
    "Definintion of RV:\n",
    "\n",
    "X = number of times a 'H' occurs in n successive cointoss"
   ]
  },
  {
   "cell_type": "markdown",
   "id": "bddeb945",
   "metadata": {},
   "source": [
    "Suppose n = 5"
   ]
  },
  {
   "cell_type": "code",
   "execution_count": 34,
   "id": "fece2d63",
   "metadata": {
    "ExecuteTime": {
     "end_time": "2022-08-27T14:06:27.053191Z",
     "start_time": "2022-08-27T14:06:27.029742Z"
    }
   },
   "outputs": [],
   "source": [
    "def repeatExperiment(r = 1000):\n",
    "    oplist = []\n",
    "    for i in range(r):\n",
    "        X = multipleCoinToss(n=5).count('H')\n",
    "        oplist.append(X)\n",
    "    return oplist"
   ]
  },
  {
   "cell_type": "code",
   "execution_count": 35,
   "id": "1226dc25",
   "metadata": {
    "ExecuteTime": {
     "end_time": "2022-08-27T14:06:42.717936Z",
     "start_time": "2022-08-27T14:06:27.949839Z"
    }
   },
   "outputs": [],
   "source": [
    "outcome = repeatExperiment(1000000)"
   ]
  },
  {
   "cell_type": "markdown",
   "id": "6afeb0ef",
   "metadata": {},
   "source": [
    "Expected value"
   ]
  },
  {
   "cell_type": "code",
   "execution_count": 36,
   "id": "b97eb98a",
   "metadata": {
    "ExecuteTime": {
     "end_time": "2022-08-27T14:06:45.851648Z",
     "start_time": "2022-08-27T14:06:45.814658Z"
    }
   },
   "outputs": [
    {
     "data": {
      "text/plain": [
       "2.502858"
      ]
     },
     "execution_count": 36,
     "metadata": {},
     "output_type": "execute_result"
    }
   ],
   "source": [
    "sum(outcome)/len(outcome)"
   ]
  },
  {
   "cell_type": "markdown",
   "id": "f0585c50",
   "metadata": {},
   "source": [
    "## Dice throwing experiment"
   ]
  },
  {
   "cell_type": "code",
   "execution_count": 37,
   "id": "e24ef375",
   "metadata": {
    "ExecuteTime": {
     "end_time": "2022-08-27T14:09:48.782011Z",
     "start_time": "2022-08-27T14:09:48.761457Z"
    }
   },
   "outputs": [],
   "source": [
    "def singleDiceThrow():\n",
    "    i = random.randint(1, 6)\n",
    "    return i"
   ]
  },
  {
   "cell_type": "code",
   "execution_count": 38,
   "id": "b4b7ad4f",
   "metadata": {
    "ExecuteTime": {
     "end_time": "2022-08-27T14:10:43.514747Z",
     "start_time": "2022-08-27T14:10:43.507232Z"
    }
   },
   "outputs": [],
   "source": [
    "def multipleDiceThrow(n=2):\n",
    "    op = []\n",
    "    for i in range(n):\n",
    "        op.append(singleDiceThrow())\n",
    "    return op"
   ]
  },
  {
   "cell_type": "code",
   "execution_count": 43,
   "id": "e56a2d0b",
   "metadata": {
    "ExecuteTime": {
     "end_time": "2022-08-27T14:10:59.780935Z",
     "start_time": "2022-08-27T14:10:59.767727Z"
    }
   },
   "outputs": [
    {
     "data": {
      "text/plain": [
       "[5, 6]"
      ]
     },
     "execution_count": 43,
     "metadata": {},
     "output_type": "execute_result"
    }
   ],
   "source": [
    "multipleDiceThrow()"
   ]
  },
  {
   "cell_type": "markdown",
   "id": "b23294e9",
   "metadata": {},
   "source": [
    "If outcome of the experiment is [a,b] then the RV is defined as:\n",
    "\n",
    "X = a+b"
   ]
  },
  {
   "cell_type": "code",
   "execution_count": 44,
   "id": "5facf04d",
   "metadata": {
    "ExecuteTime": {
     "end_time": "2022-08-27T14:13:12.358743Z",
     "start_time": "2022-08-27T14:13:12.352048Z"
    }
   },
   "outputs": [],
   "source": [
    "def repeatDiceExperiment(r = 1000):\n",
    "    oplist = []\n",
    "    for i in range(r):\n",
    "        X = sum(multipleDiceThrow(n=2))\n",
    "        oplist.append(X)\n",
    "    return oplist"
   ]
  },
  {
   "cell_type": "code",
   "execution_count": 50,
   "id": "80d86154",
   "metadata": {
    "ExecuteTime": {
     "end_time": "2022-08-27T14:14:26.805252Z",
     "start_time": "2022-08-27T14:14:26.112889Z"
    }
   },
   "outputs": [],
   "source": [
    "oc = repeatDiceExperiment(100000)"
   ]
  },
  {
   "cell_type": "markdown",
   "id": "5b9b5b8a",
   "metadata": {},
   "source": [
    "Expected Value"
   ]
  },
  {
   "cell_type": "code",
   "execution_count": 51,
   "id": "c6133fc3",
   "metadata": {
    "ExecuteTime": {
     "end_time": "2022-08-27T14:14:27.857678Z",
     "start_time": "2022-08-27T14:14:27.842862Z"
    }
   },
   "outputs": [
    {
     "data": {
      "text/plain": [
       "6.99379"
      ]
     },
     "execution_count": 51,
     "metadata": {},
     "output_type": "execute_result"
    }
   ],
   "source": [
    "sum(oc)/len(oc)"
   ]
  },
  {
   "cell_type": "code",
   "execution_count": null,
   "id": "d6fd9306",
   "metadata": {},
   "outputs": [],
   "source": []
  }
 ],
 "metadata": {
  "kernelspec": {
   "display_name": "Python 3 (ipykernel)",
   "language": "python",
   "name": "python3"
  },
  "language_info": {
   "codemirror_mode": {
    "name": "ipython",
    "version": 3
   },
   "file_extension": ".py",
   "mimetype": "text/x-python",
   "name": "python",
   "nbconvert_exporter": "python",
   "pygments_lexer": "ipython3",
   "version": "3.9.7"
  },
  "toc": {
   "base_numbering": 1,
   "nav_menu": {},
   "number_sections": true,
   "sideBar": true,
   "skip_h1_title": true,
   "title_cell": "Table of Contents",
   "title_sidebar": "Contents",
   "toc_cell": false,
   "toc_position": {},
   "toc_section_display": true,
   "toc_window_display": false
  }
 },
 "nbformat": 4,
 "nbformat_minor": 5
}
