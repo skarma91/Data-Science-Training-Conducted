{
 "cells": [
  {
   "cell_type": "markdown",
   "id": "2af4b267",
   "metadata": {},
   "source": [
    "### Find whether a string is pallindrome or not\n",
    "\n",
    "Pallindromic strings are same when written in reverse\n",
    "\n",
    "Example: \"madam\", \"abbcbba\""
   ]
  },
  {
   "cell_type": "code",
   "execution_count": 1,
   "id": "3b99b081",
   "metadata": {},
   "outputs": [],
   "source": [
    "def check_pallindrome(s):\n",
    "    n = len(s)\n",
    "    mid = n // 2\n",
    "    start = 0\n",
    "    end = n-1\n",
    "    while (start < mid):\n",
    "        if s[start] == s[end]:\n",
    "            start += 1\n",
    "            end -= 1\n",
    "        else:\n",
    "            return False\n",
    "    return True"
   ]
  },
  {
   "cell_type": "code",
   "execution_count": 2,
   "id": "c75738da",
   "metadata": {},
   "outputs": [
    {
     "data": {
      "text/plain": [
       "True"
      ]
     },
     "execution_count": 2,
     "metadata": {},
     "output_type": "execute_result"
    }
   ],
   "source": [
    "check_pallindrome(\"madam\")"
   ]
  },
  {
   "cell_type": "code",
   "execution_count": 4,
   "id": "809e6325",
   "metadata": {},
   "outputs": [
    {
     "data": {
      "text/plain": [
       "True"
      ]
     },
     "execution_count": 4,
     "metadata": {},
     "output_type": "execute_result"
    }
   ],
   "source": [
    "check_pallindrome(\"abccba\")"
   ]
  },
  {
   "cell_type": "code",
   "execution_count": 5,
   "id": "dd921dad",
   "metadata": {},
   "outputs": [
    {
     "data": {
      "text/plain": [
       "False"
      ]
     },
     "execution_count": 5,
     "metadata": {},
     "output_type": "execute_result"
    }
   ],
   "source": [
    "check_pallindrome(\"xyzzyy\")"
   ]
  },
  {
   "cell_type": "code",
   "execution_count": 7,
   "id": "e5d2d83b",
   "metadata": {},
   "outputs": [],
   "source": [
    "s = \"abcda\""
   ]
  },
  {
   "cell_type": "code",
   "execution_count": 8,
   "id": "046285a4",
   "metadata": {},
   "outputs": [
    {
     "data": {
      "text/plain": [
       "'adcba'"
      ]
     },
     "execution_count": 8,
     "metadata": {},
     "output_type": "execute_result"
    }
   ],
   "source": [
    "s[::-1]"
   ]
  },
  {
   "cell_type": "code",
   "execution_count": 9,
   "id": "e8c63de6",
   "metadata": {},
   "outputs": [],
   "source": [
    "def check_pallindrome_easy(s):\n",
    "    if s == s[::-1]:\n",
    "        return True\n",
    "    else:\n",
    "        return False"
   ]
  },
  {
   "cell_type": "code",
   "execution_count": 10,
   "id": "a3a8f4f1",
   "metadata": {},
   "outputs": [
    {
     "data": {
      "text/plain": [
       "True"
      ]
     },
     "execution_count": 10,
     "metadata": {},
     "output_type": "execute_result"
    }
   ],
   "source": [
    "check_pallindrome_easy(\"madam\")"
   ]
  },
  {
   "cell_type": "code",
   "execution_count": 11,
   "id": "1569eb52",
   "metadata": {},
   "outputs": [
    {
     "data": {
      "text/plain": [
       "False"
      ]
     },
     "execution_count": 11,
     "metadata": {},
     "output_type": "execute_result"
    }
   ],
   "source": [
    "check_pallindrome_easy(\"sister\")"
   ]
  },
  {
   "cell_type": "markdown",
   "id": "b264f728",
   "metadata": {},
   "source": [
    "### Find whether is a string is symmetric or not\n",
    "\n",
    "example: \"abcabc\" , \"xyzxyz\""
   ]
  },
  {
   "cell_type": "code",
   "execution_count": 12,
   "id": "f9343460",
   "metadata": {},
   "outputs": [],
   "source": [
    "def check_symmetry(s):\n",
    "    n = len(s)\n",
    "    mid = n//2\n",
    "    i = 0\n",
    "    while (i < mid):\n",
    "        if s[i] == s[mid+i]:\n",
    "            i += 1\n",
    "        else:\n",
    "            return False\n",
    "    return True"
   ]
  },
  {
   "cell_type": "code",
   "execution_count": 13,
   "id": "67e0fbc8",
   "metadata": {},
   "outputs": [
    {
     "data": {
      "text/plain": [
       "True"
      ]
     },
     "execution_count": 13,
     "metadata": {},
     "output_type": "execute_result"
    }
   ],
   "source": [
    "check_symmetry(\"abcabc\")"
   ]
  },
  {
   "cell_type": "code",
   "execution_count": null,
   "id": "c8144d6d",
   "metadata": {},
   "outputs": [],
   "source": []
  }
 ],
 "metadata": {
  "kernelspec": {
   "display_name": "Python 3 (ipykernel)",
   "language": "python",
   "name": "python3"
  },
  "language_info": {
   "codemirror_mode": {
    "name": "ipython",
    "version": 3
   },
   "file_extension": ".py",
   "mimetype": "text/x-python",
   "name": "python",
   "nbconvert_exporter": "python",
   "pygments_lexer": "ipython3",
   "version": "3.9.7"
  }
 },
 "nbformat": 4,
 "nbformat_minor": 5
}
