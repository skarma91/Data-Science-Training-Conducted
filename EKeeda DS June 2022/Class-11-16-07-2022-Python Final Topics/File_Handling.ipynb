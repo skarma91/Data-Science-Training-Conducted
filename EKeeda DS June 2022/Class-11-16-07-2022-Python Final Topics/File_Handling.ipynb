{
 "cells": [
  {
   "cell_type": "markdown",
   "id": "fc032ce6",
   "metadata": {},
   "source": [
    "## File Handling in Python\n",
    "\n",
    "We can do following operations on file\n",
    "\n",
    "- We can read content of a existing file\n",
    "\n",
    "- We can open an existing file and write something on it or append something to it."
   ]
  },
  {
   "cell_type": "markdown",
   "id": "b1171d28",
   "metadata": {},
   "source": [
    "### open() function\n",
    "\n",
    "This function opens a file and return the file object.\n",
    "\n",
    "```\n",
    "open(file_path, mode)\n",
    "```\n",
    "\n",
    "mode in the open() function can have following values:\n",
    "\n",
    "- r : reading mode (read any existing file)\n",
    "\n",
    "- w : write mode (write on any existing file, if there are data in the existing file it will be overwritten)\n",
    "\n",
    "- r+ : read-write mode (Read  the existing file, overwrite the content of the existing file)\n",
    "\n",
    "- w+ : write-read mode (overwrite the content or read the content of the existing file)\n",
    "\n",
    "- a: append mode (it will append at the end of existing content)\n",
    "\n",
    "- a+ : append-read mode (it will append at the end of existing content or read the content of existing file)"
   ]
  },
  {
   "cell_type": "markdown",
   "id": "a25a9751",
   "metadata": {},
   "source": [
    "### Reading from a text file (.txt)"
   ]
  },
  {
   "cell_type": "code",
   "execution_count": 6,
   "id": "9c6952f5",
   "metadata": {},
   "outputs": [],
   "source": [
    "file = open(\"./sample.txt\", \"r\")"
   ]
  },
  {
   "cell_type": "code",
   "execution_count": 3,
   "id": "26f3db1e",
   "metadata": {},
   "outputs": [
    {
     "name": "stdout",
     "output_type": "stream",
     "text": [
      "I am Sourav\n",
      "\n",
      "I am a data science instructor at Ekeeda\n"
     ]
    }
   ],
   "source": [
    "for x in file:  # This will print each line one by one\n",
    "    print(x)"
   ]
  },
  {
   "cell_type": "code",
   "execution_count": 9,
   "id": "22266107",
   "metadata": {},
   "outputs": [
    {
     "data": {
      "text/plain": [
       "'cience instructor '"
      ]
     },
     "execution_count": 9,
     "metadata": {},
     "output_type": "execute_result"
    }
   ],
   "source": [
    "file.read(18)"
   ]
  },
  {
   "cell_type": "code",
   "execution_count": 10,
   "id": "34022955",
   "metadata": {},
   "outputs": [],
   "source": [
    "file.close()"
   ]
  },
  {
   "cell_type": "markdown",
   "id": "a3d1ebb6",
   "metadata": {},
   "source": [
    "### Writing to a text file"
   ]
  },
  {
   "cell_type": "code",
   "execution_count": 11,
   "id": "4455168c",
   "metadata": {},
   "outputs": [],
   "source": [
    "file = open(\"./sample.txt\", 'w')"
   ]
  },
  {
   "cell_type": "code",
   "execution_count": 12,
   "id": "21727689",
   "metadata": {},
   "outputs": [
    {
     "data": {
      "text/plain": [
       "19"
      ]
     },
     "execution_count": 12,
     "metadata": {},
     "output_type": "execute_result"
    }
   ],
   "source": [
    "file.write(\"Hello, how are you?\")"
   ]
  },
  {
   "cell_type": "code",
   "execution_count": 13,
   "id": "fbe0edcd",
   "metadata": {},
   "outputs": [
    {
     "data": {
      "text/plain": [
       "27"
      ]
     },
     "execution_count": 13,
     "metadata": {},
     "output_type": "execute_result"
    }
   ],
   "source": [
    "file.write(\"\\nPlease learn data science.\")"
   ]
  },
  {
   "cell_type": "code",
   "execution_count": 14,
   "id": "8e7aba2d",
   "metadata": {},
   "outputs": [],
   "source": [
    "file.close()"
   ]
  },
  {
   "cell_type": "markdown",
   "id": "0008261d",
   "metadata": {},
   "source": [
    "### appending to a text file"
   ]
  },
  {
   "cell_type": "code",
   "execution_count": 15,
   "id": "e1b1aa6b",
   "metadata": {},
   "outputs": [],
   "source": [
    "file = open(\"./sample.txt\", 'a')"
   ]
  },
  {
   "cell_type": "code",
   "execution_count": 16,
   "id": "e1c69dc7",
   "metadata": {},
   "outputs": [
    {
     "data": {
      "text/plain": [
       "32"
      ]
     },
     "execution_count": 16,
     "metadata": {},
     "output_type": "execute_result"
    }
   ],
   "source": [
    "file.write(\"\\nCurrently I am learning python.\")"
   ]
  },
  {
   "cell_type": "code",
   "execution_count": 17,
   "id": "564949be",
   "metadata": {},
   "outputs": [],
   "source": [
    "file.close()"
   ]
  },
  {
   "cell_type": "markdown",
   "id": "8e4139a8",
   "metadata": {},
   "source": [
    "### WAP to read content of the numbers.txt file and return the sum of the numbers"
   ]
  },
  {
   "cell_type": "code",
   "execution_count": 18,
   "id": "52951840",
   "metadata": {},
   "outputs": [],
   "source": [
    "number_file = open(\"./numbers.txt\", 'r')"
   ]
  },
  {
   "cell_type": "code",
   "execution_count": 19,
   "id": "49b5a864",
   "metadata": {},
   "outputs": [],
   "source": [
    "sum_of_numbers = 0\n",
    "\n",
    "for x in number_file:\n",
    "    sum_of_numbers += float(x)\n",
    "    \n",
    "number_file.close()"
   ]
  },
  {
   "cell_type": "code",
   "execution_count": 20,
   "id": "54be8179",
   "metadata": {},
   "outputs": [
    {
     "data": {
      "text/plain": [
       "91.04"
      ]
     },
     "execution_count": 20,
     "metadata": {},
     "output_type": "execute_result"
    }
   ],
   "source": [
    "sum_of_numbers"
   ]
  },
  {
   "cell_type": "markdown",
   "id": "77268ffc",
   "metadata": {},
   "source": [
    "### WAP to read content of the numbers.txt file and write the sum of the numbers at end of the file"
   ]
  },
  {
   "cell_type": "code",
   "execution_count": 1,
   "id": "a3194f9e",
   "metadata": {},
   "outputs": [],
   "source": [
    "number_file = open(\"./numbers.txt\", 'r')\n",
    "\n",
    "sum_of_numbers = 0\n",
    "\n",
    "for x in number_file:\n",
    "    sum_of_numbers += float(x)\n",
    "    \n",
    "number_file.close()"
   ]
  },
  {
   "cell_type": "code",
   "execution_count": 2,
   "id": "db4e0970",
   "metadata": {},
   "outputs": [],
   "source": [
    "number_file = open(\"./numbers.txt\", 'a')\n",
    "\n",
    "number_file.write(\"\\n\"+str(sum_of_numbers))\n",
    "\n",
    "number_file.close()"
   ]
  },
  {
   "cell_type": "code",
   "execution_count": null,
   "id": "98de0541",
   "metadata": {},
   "outputs": [],
   "source": []
  }
 ],
 "metadata": {
  "kernelspec": {
   "display_name": "Python 3 (ipykernel)",
   "language": "python",
   "name": "python3"
  },
  "language_info": {
   "codemirror_mode": {
    "name": "ipython",
    "version": 3
   },
   "file_extension": ".py",
   "mimetype": "text/x-python",
   "name": "python",
   "nbconvert_exporter": "python",
   "pygments_lexer": "ipython3",
   "version": "3.9.7"
  }
 },
 "nbformat": 4,
 "nbformat_minor": 5
}
