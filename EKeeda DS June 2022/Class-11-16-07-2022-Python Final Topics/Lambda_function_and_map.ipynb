{
 "cells": [
  {
   "cell_type": "markdown",
   "id": "52019f7d",
   "metadata": {},
   "source": [
    "## Lambda function in Python\n",
    "\n",
    "Small anonymous function in python"
   ]
  },
  {
   "cell_type": "markdown",
   "id": "0806071e",
   "metadata": {},
   "source": [
    "### given a number return its square"
   ]
  },
  {
   "cell_type": "code",
   "execution_count": 1,
   "id": "b6d484c6",
   "metadata": {},
   "outputs": [],
   "source": [
    "x = lambda a : a**2"
   ]
  },
  {
   "cell_type": "code",
   "execution_count": 2,
   "id": "8bde4bf3",
   "metadata": {},
   "outputs": [
    {
     "data": {
      "text/plain": [
       "25"
      ]
     },
     "execution_count": 2,
     "metadata": {},
     "output_type": "execute_result"
    }
   ],
   "source": [
    "x(5)"
   ]
  },
  {
   "cell_type": "code",
   "execution_count": 3,
   "id": "cb883f2e",
   "metadata": {},
   "outputs": [],
   "source": [
    "y = lambda a,b : a**b"
   ]
  },
  {
   "cell_type": "code",
   "execution_count": 4,
   "id": "fe69775f",
   "metadata": {},
   "outputs": [
    {
     "data": {
      "text/plain": [
       "8"
      ]
     },
     "execution_count": 4,
     "metadata": {},
     "output_type": "execute_result"
    }
   ],
   "source": [
    "y(2,3)"
   ]
  },
  {
   "cell_type": "markdown",
   "id": "d754fd10",
   "metadata": {},
   "source": [
    "## List comprehension"
   ]
  },
  {
   "cell_type": "code",
   "execution_count": 5,
   "id": "12df7a99",
   "metadata": {},
   "outputs": [],
   "source": [
    "L = [2, 3, 4, 1, 5]"
   ]
  },
  {
   "cell_type": "markdown",
   "id": "6c84246c",
   "metadata": {},
   "source": [
    "### Add 5 to all the elements in the list"
   ]
  },
  {
   "cell_type": "code",
   "execution_count": 6,
   "id": "73f46ae1",
   "metadata": {},
   "outputs": [
    {
     "data": {
      "text/plain": [
       "[7, 8, 9, 6, 10]"
      ]
     },
     "execution_count": 6,
     "metadata": {},
     "output_type": "execute_result"
    }
   ],
   "source": [
    "result = []\n",
    "\n",
    "for x in L:\n",
    "    result.append(x+5)\n",
    "    \n",
    "result"
   ]
  },
  {
   "cell_type": "code",
   "execution_count": 7,
   "id": "061c096d",
   "metadata": {},
   "outputs": [
    {
     "data": {
      "text/plain": [
       "[7, 8, 9, 6, 10]"
      ]
     },
     "execution_count": 7,
     "metadata": {},
     "output_type": "execute_result"
    }
   ],
   "source": [
    "[x+5 for x in L]"
   ]
  },
  {
   "cell_type": "markdown",
   "id": "d20a88b8",
   "metadata": {},
   "source": [
    "List comprehension has three part\n",
    "\n",
    "```python\n",
    "[<operations> <looping> <conditionals with if> (optional)] \n",
    "\n",
    "[<operations>  <conditionals with if and else> <looping> (optional)]\n",
    "```"
   ]
  },
  {
   "cell_type": "code",
   "execution_count": 10,
   "id": "de3cd15a",
   "metadata": {},
   "outputs": [],
   "source": [
    "L = list(range(100))  # list of all numbers from 0 to 99"
   ]
  },
  {
   "cell_type": "code",
   "execution_count": 11,
   "id": "985b69af",
   "metadata": {},
   "outputs": [
    {
     "data": {
      "text/plain": [
       "[1,\n",
       " 3,\n",
       " 5,\n",
       " 7,\n",
       " 9,\n",
       " 11,\n",
       " 13,\n",
       " 15,\n",
       " 17,\n",
       " 19,\n",
       " 21,\n",
       " 23,\n",
       " 25,\n",
       " 27,\n",
       " 29,\n",
       " 31,\n",
       " 33,\n",
       " 35,\n",
       " 37,\n",
       " 39,\n",
       " 41,\n",
       " 43,\n",
       " 45,\n",
       " 47,\n",
       " 49,\n",
       " 51,\n",
       " 53,\n",
       " 55,\n",
       " 57,\n",
       " 59,\n",
       " 61,\n",
       " 63,\n",
       " 65,\n",
       " 67,\n",
       " 69,\n",
       " 71,\n",
       " 73,\n",
       " 75,\n",
       " 77,\n",
       " 79,\n",
       " 81,\n",
       " 83,\n",
       " 85,\n",
       " 87,\n",
       " 89,\n",
       " 91,\n",
       " 93,\n",
       " 95,\n",
       " 97,\n",
       " 99]"
      ]
     },
     "execution_count": 11,
     "metadata": {},
     "output_type": "execute_result"
    }
   ],
   "source": [
    "odd_numbers = []\n",
    "\n",
    "for x in L:\n",
    "    if x % 2 != 0:\n",
    "        odd_numbers.append(x)\n",
    "        \n",
    "odd_numbers"
   ]
  },
  {
   "cell_type": "code",
   "execution_count": 13,
   "id": "fd30e49e",
   "metadata": {},
   "outputs": [
    {
     "data": {
      "text/plain": [
       "[1,\n",
       " 3,\n",
       " 5,\n",
       " 7,\n",
       " 9,\n",
       " 11,\n",
       " 13,\n",
       " 15,\n",
       " 17,\n",
       " 19,\n",
       " 21,\n",
       " 23,\n",
       " 25,\n",
       " 27,\n",
       " 29,\n",
       " 31,\n",
       " 33,\n",
       " 35,\n",
       " 37,\n",
       " 39,\n",
       " 41,\n",
       " 43,\n",
       " 45,\n",
       " 47,\n",
       " 49,\n",
       " 51,\n",
       " 53,\n",
       " 55,\n",
       " 57,\n",
       " 59,\n",
       " 61,\n",
       " 63,\n",
       " 65,\n",
       " 67,\n",
       " 69,\n",
       " 71,\n",
       " 73,\n",
       " 75,\n",
       " 77,\n",
       " 79,\n",
       " 81,\n",
       " 83,\n",
       " 85,\n",
       " 87,\n",
       " 89,\n",
       " 91,\n",
       " 93,\n",
       " 95,\n",
       " 97,\n",
       " 99]"
      ]
     },
     "execution_count": 13,
     "metadata": {},
     "output_type": "execute_result"
    }
   ],
   "source": [
    "[x for x in L if x%2 != 0]"
   ]
  },
  {
   "cell_type": "markdown",
   "id": "51e66f5b",
   "metadata": {},
   "source": [
    "### Given a list of numbers return another boolean valued list where it will be True if the number is even, False if the number is odd (using list comprehension)\n",
    "\n",
    "```\n",
    "input_list = [3, 1, 9, 4, 5, 6]\n",
    "output_list = [False, False, False, True, False, True]\n",
    "```"
   ]
  },
  {
   "cell_type": "code",
   "execution_count": 15,
   "id": "9b83de28",
   "metadata": {},
   "outputs": [
    {
     "data": {
      "text/plain": [
       "[False, False, False, True, False, True]"
      ]
     },
     "execution_count": 15,
     "metadata": {},
     "output_type": "execute_result"
    }
   ],
   "source": [
    "out_list = []\n",
    "input_list = [3, 1, 9, 4, 5, 6]\n",
    "\n",
    "for x in input_list:\n",
    "    if x%2 == 0:\n",
    "        out_list.append(True)\n",
    "    else:\n",
    "        out_list.append(False)\n",
    "        \n",
    "out_list"
   ]
  },
  {
   "cell_type": "code",
   "execution_count": 16,
   "id": "97c4c7a6",
   "metadata": {},
   "outputs": [
    {
     "data": {
      "text/plain": [
       "[False, False, False, True, False, True]"
      ]
     },
     "execution_count": 16,
     "metadata": {},
     "output_type": "execute_result"
    }
   ],
   "source": [
    "[True if x%2 == 0 else False for x in input_list]"
   ]
  },
  {
   "cell_type": "markdown",
   "id": "62c20bfa",
   "metadata": {},
   "source": [
    "## map() function in python"
   ]
  },
  {
   "cell_type": "markdown",
   "id": "72306195",
   "metadata": {},
   "source": [
    "function:\n",
    "\n",
    "```python\n",
    "def my_function(value):\n",
    "    <some codes>\n",
    "    return output\n",
    "\n",
    "my_list = [v1, v2, v3, ...., vn]\n",
    "\n",
    "x = map(my_function, my_list) # return a map object\n",
    "\n",
    "x = list(map(my_function, my_list)) # another list with the function applied on each values of my_list\n",
    "```"
   ]
  },
  {
   "cell_type": "code",
   "execution_count": 17,
   "id": "0cabc44b",
   "metadata": {},
   "outputs": [],
   "source": [
    "def func(v):\n",
    "    return v+3"
   ]
  },
  {
   "cell_type": "code",
   "execution_count": 18,
   "id": "4daeecf1",
   "metadata": {},
   "outputs": [
    {
     "data": {
      "text/plain": [
       "7"
      ]
     },
     "execution_count": 18,
     "metadata": {},
     "output_type": "execute_result"
    }
   ],
   "source": [
    "func(4)"
   ]
  },
  {
   "cell_type": "code",
   "execution_count": 19,
   "id": "27989cf2",
   "metadata": {},
   "outputs": [
    {
     "data": {
      "text/plain": [
       "0"
      ]
     },
     "execution_count": 19,
     "metadata": {},
     "output_type": "execute_result"
    }
   ],
   "source": [
    "func(-3)"
   ]
  },
  {
   "cell_type": "code",
   "execution_count": 20,
   "id": "9b6cc671",
   "metadata": {},
   "outputs": [],
   "source": [
    "L = [2, -4, 0, 1, 6]"
   ]
  },
  {
   "cell_type": "code",
   "execution_count": 21,
   "id": "b99c759c",
   "metadata": {},
   "outputs": [],
   "source": [
    "x = map(func, L)"
   ]
  },
  {
   "cell_type": "code",
   "execution_count": 23,
   "id": "02d4d0b9",
   "metadata": {},
   "outputs": [
    {
     "data": {
      "text/plain": [
       "[5, -1, 3, 4, 9]"
      ]
     },
     "execution_count": 23,
     "metadata": {},
     "output_type": "execute_result"
    }
   ],
   "source": [
    "list(x)"
   ]
  },
  {
   "cell_type": "markdown",
   "id": "38e32fcb",
   "metadata": {},
   "source": [
    "### Suppose you are given a list of strings. You want to return the length of each string.\n",
    "\n",
    "```\n",
    "L = ['abc','xyzjk','tuvdws']\n",
    "\n",
    "output = [3, 5, 6]\n",
    "```"
   ]
  },
  {
   "cell_type": "code",
   "execution_count": 24,
   "id": "e88dbf3b",
   "metadata": {},
   "outputs": [
    {
     "data": {
      "text/plain": [
       "[3, 5, 6]"
      ]
     },
     "execution_count": 24,
     "metadata": {},
     "output_type": "execute_result"
    }
   ],
   "source": [
    "my_list = ['abc','xyzjk','tuvdws']\n",
    "\n",
    "list(map(len, my_list))"
   ]
  },
  {
   "cell_type": "markdown",
   "id": "f012fdc9",
   "metadata": {},
   "source": []
  }
 ],
 "metadata": {
  "kernelspec": {
   "display_name": "Python 3 (ipykernel)",
   "language": "python",
   "name": "python3"
  },
  "language_info": {
   "codemirror_mode": {
    "name": "ipython",
    "version": 3
   },
   "file_extension": ".py",
   "mimetype": "text/x-python",
   "name": "python",
   "nbconvert_exporter": "python",
   "pygments_lexer": "ipython3",
   "version": "3.9.7"
  }
 },
 "nbformat": 4,
 "nbformat_minor": 5
}
