{
 "cells": [
  {
   "cell_type": "markdown",
   "id": "af07ddcd",
   "metadata": {},
   "source": [
    "## String manipulation"
   ]
  },
  {
   "cell_type": "code",
   "execution_count": 1,
   "id": "1fdbb079",
   "metadata": {},
   "outputs": [],
   "source": [
    "str1 = \"Sachin Tendulkar\""
   ]
  },
  {
   "cell_type": "code",
   "execution_count": 2,
   "id": "c9639e44",
   "metadata": {},
   "outputs": [
    {
     "data": {
      "text/plain": [
       "'S'"
      ]
     },
     "execution_count": 2,
     "metadata": {},
     "output_type": "execute_result"
    }
   ],
   "source": [
    "str1[0]"
   ]
  },
  {
   "cell_type": "code",
   "execution_count": 3,
   "id": "5d155207",
   "metadata": {},
   "outputs": [
    {
     "data": {
      "text/plain": [
       "'c'"
      ]
     },
     "execution_count": 3,
     "metadata": {},
     "output_type": "execute_result"
    }
   ],
   "source": [
    "str1[2]"
   ]
  },
  {
   "cell_type": "code",
   "execution_count": 4,
   "id": "67cb49ec",
   "metadata": {},
   "outputs": [
    {
     "data": {
      "text/plain": [
       "' '"
      ]
     },
     "execution_count": 4,
     "metadata": {},
     "output_type": "execute_result"
    }
   ],
   "source": [
    "str1[6]"
   ]
  },
  {
   "cell_type": "code",
   "execution_count": 5,
   "id": "eb9e0f78",
   "metadata": {},
   "outputs": [
    {
     "data": {
      "text/plain": [
       "16"
      ]
     },
     "execution_count": 5,
     "metadata": {},
     "output_type": "execute_result"
    }
   ],
   "source": [
    "len(str1)"
   ]
  },
  {
   "cell_type": "code",
   "execution_count": 6,
   "id": "20df99fa",
   "metadata": {},
   "outputs": [
    {
     "name": "stdout",
     "output_type": "stream",
     "text": [
      "S\n",
      "a\n",
      "c\n",
      "h\n",
      "i\n",
      "n\n",
      " \n",
      "T\n",
      "e\n",
      "n\n",
      "d\n",
      "u\n",
      "l\n",
      "k\n",
      "a\n",
      "r\n"
     ]
    }
   ],
   "source": [
    "for i in range(len(str1)):\n",
    "    print(str1[i])"
   ]
  },
  {
   "cell_type": "code",
   "execution_count": 7,
   "id": "ae0e7716",
   "metadata": {},
   "outputs": [
    {
     "data": {
      "text/plain": [
       "'in Ten'"
      ]
     },
     "execution_count": 7,
     "metadata": {},
     "output_type": "execute_result"
    }
   ],
   "source": [
    "str1[4:10]"
   ]
  },
  {
   "cell_type": "code",
   "execution_count": 8,
   "id": "22dd8699",
   "metadata": {},
   "outputs": [
    {
     "data": {
      "text/plain": [
       "'n Tendulkar'"
      ]
     },
     "execution_count": 8,
     "metadata": {},
     "output_type": "execute_result"
    }
   ],
   "source": [
    "str1[5:]"
   ]
  },
  {
   "cell_type": "code",
   "execution_count": 9,
   "id": "6919dbea",
   "metadata": {},
   "outputs": [
    {
     "data": {
      "text/plain": [
       "'Sachin Ten'"
      ]
     },
     "execution_count": 9,
     "metadata": {},
     "output_type": "execute_result"
    }
   ],
   "source": [
    "str1[:10]"
   ]
  },
  {
   "cell_type": "markdown",
   "id": "3b576a77",
   "metadata": {},
   "source": [
    "### Converts a string to a list"
   ]
  },
  {
   "cell_type": "code",
   "execution_count": 10,
   "id": "43247172",
   "metadata": {},
   "outputs": [],
   "source": [
    "L = list(str1)"
   ]
  },
  {
   "cell_type": "code",
   "execution_count": 11,
   "id": "54f48077",
   "metadata": {},
   "outputs": [
    {
     "data": {
      "text/plain": [
       "['S',\n",
       " 'a',\n",
       " 'c',\n",
       " 'h',\n",
       " 'i',\n",
       " 'n',\n",
       " ' ',\n",
       " 'T',\n",
       " 'e',\n",
       " 'n',\n",
       " 'd',\n",
       " 'u',\n",
       " 'l',\n",
       " 'k',\n",
       " 'a',\n",
       " 'r']"
      ]
     },
     "execution_count": 11,
     "metadata": {},
     "output_type": "execute_result"
    }
   ],
   "source": [
    "L"
   ]
  },
  {
   "cell_type": "code",
   "execution_count": 12,
   "id": "0c0e87af",
   "metadata": {},
   "outputs": [
    {
     "data": {
      "text/plain": [
       "\"['S', 'a', 'c', 'h', 'i', 'n', ' ', 'T', 'e', 'n', 'd', 'u', 'l', 'k', 'a', 'r']\""
      ]
     },
     "execution_count": 12,
     "metadata": {},
     "output_type": "execute_result"
    }
   ],
   "source": [
    "str(L)"
   ]
  },
  {
   "cell_type": "markdown",
   "id": "a424b562",
   "metadata": {},
   "source": [
    "### Find a character inside the string. Return the first index if found else return -1"
   ]
  },
  {
   "cell_type": "code",
   "execution_count": 13,
   "id": "c80694c2",
   "metadata": {},
   "outputs": [],
   "source": [
    "def find_character(string, ch):\n",
    "    if len(string) > 0:\n",
    "        for i in range(len(string)):\n",
    "            if ch == string[i]:\n",
    "                return i\n",
    "    return -1"
   ]
  },
  {
   "cell_type": "code",
   "execution_count": 14,
   "id": "95b3d9eb",
   "metadata": {},
   "outputs": [
    {
     "data": {
      "text/plain": [
       "2"
      ]
     },
     "execution_count": 14,
     "metadata": {},
     "output_type": "execute_result"
    }
   ],
   "source": [
    "find_character(str1, 'c')"
   ]
  },
  {
   "cell_type": "code",
   "execution_count": 15,
   "id": "f6365214",
   "metadata": {},
   "outputs": [
    {
     "data": {
      "text/plain": [
       "-1"
      ]
     },
     "execution_count": 15,
     "metadata": {},
     "output_type": "execute_result"
    }
   ],
   "source": [
    "find_character(str1, 'w')"
   ]
  },
  {
   "cell_type": "code",
   "execution_count": 16,
   "id": "f7b957ff",
   "metadata": {},
   "outputs": [
    {
     "data": {
      "text/plain": [
       "5"
      ]
     },
     "execution_count": 16,
     "metadata": {},
     "output_type": "execute_result"
    }
   ],
   "source": [
    "find_character(str1, 'n')"
   ]
  },
  {
   "cell_type": "code",
   "execution_count": 21,
   "id": "a5aa14c5",
   "metadata": {},
   "outputs": [],
   "source": [
    "def divide_name(name):\n",
    "    idx = find_character(name, ' ')\n",
    "    if idx != -1:\n",
    "        firstname = name[:idx]\n",
    "        lastname = name[idx+1:]\n",
    "        return firstname, lastname\n",
    "    else:\n",
    "        return name, None"
   ]
  },
  {
   "cell_type": "code",
   "execution_count": 25,
   "id": "a99902db",
   "metadata": {},
   "outputs": [
    {
     "data": {
      "text/plain": [
       "('Sourav', 'Kumar Ganguly')"
      ]
     },
     "execution_count": 25,
     "metadata": {},
     "output_type": "execute_result"
    }
   ],
   "source": [
    "divide_name(\"Vangipurapu Venkat Sai Laxman\")"
   ]
  },
  {
   "cell_type": "code",
   "execution_count": 44,
   "id": "69e40d58",
   "metadata": {},
   "outputs": [],
   "source": [
    "def find_character_modifed(string, ch):\n",
    "    index_list = []\n",
    "    if len(string) > 0:\n",
    "        for i in range(len(string)):\n",
    "            if ch == string[i]:\n",
    "                index_list.append(i)\n",
    "    return index_list"
   ]
  },
  {
   "cell_type": "code",
   "execution_count": 31,
   "id": "4e485ece",
   "metadata": {},
   "outputs": [
    {
     "data": {
      "text/plain": [
       "[10]"
      ]
     },
     "execution_count": 31,
     "metadata": {},
     "output_type": "execute_result"
    }
   ],
   "source": [
    "find_character_modifed(\"Sourav Ganguly\", 'g')"
   ]
  },
  {
   "cell_type": "code",
   "execution_count": 34,
   "id": "cbc53bf3",
   "metadata": {},
   "outputs": [],
   "source": [
    "my_string = \"Vangipurapu Venkat Sai Laxman\""
   ]
  },
  {
   "cell_type": "code",
   "execution_count": 35,
   "id": "a4442e2b",
   "metadata": {},
   "outputs": [
    {
     "data": {
      "text/plain": [
       "[11, 18, 22]"
      ]
     },
     "execution_count": 35,
     "metadata": {},
     "output_type": "execute_result"
    }
   ],
   "source": [
    "find_character_modifed(my_string, ' ')"
   ]
  },
  {
   "cell_type": "code",
   "execution_count": 36,
   "id": "f8364a34",
   "metadata": {},
   "outputs": [
    {
     "data": {
      "text/plain": [
       "'Vangipurapu'"
      ]
     },
     "execution_count": 36,
     "metadata": {},
     "output_type": "execute_result"
    }
   ],
   "source": [
    "my_string[0:11]"
   ]
  },
  {
   "cell_type": "code",
   "execution_count": 37,
   "id": "8d2682c0",
   "metadata": {},
   "outputs": [
    {
     "data": {
      "text/plain": [
       "'Venkat'"
      ]
     },
     "execution_count": 37,
     "metadata": {},
     "output_type": "execute_result"
    }
   ],
   "source": [
    "my_string[12:18]"
   ]
  },
  {
   "cell_type": "code",
   "execution_count": 39,
   "id": "924a291c",
   "metadata": {},
   "outputs": [
    {
     "data": {
      "text/plain": [
       "'Sai'"
      ]
     },
     "execution_count": 39,
     "metadata": {},
     "output_type": "execute_result"
    }
   ],
   "source": [
    "my_string[19:22]"
   ]
  },
  {
   "cell_type": "code",
   "execution_count": 40,
   "id": "c1839756",
   "metadata": {},
   "outputs": [
    {
     "data": {
      "text/plain": [
       "'Laxman'"
      ]
     },
     "execution_count": 40,
     "metadata": {},
     "output_type": "execute_result"
    }
   ],
   "source": [
    "my_string[23:]"
   ]
  },
  {
   "cell_type": "code",
   "execution_count": 47,
   "id": "5f2a6925",
   "metadata": {},
   "outputs": [],
   "source": [
    "def divide_string(string):\n",
    "    index_list = find_character_modifed(string, ' ')\n",
    "    if len(index_list) > 0:\n",
    "        list_of_strings = [string[0:index_list[0]]]\n",
    "        for i in range(0, len(index_list)-1):\n",
    "            list_of_strings.append(string[index_list[i]+1:index_list[i+1]])\n",
    "        list_of_strings.append(string[index_list[-1]+1:])\n",
    "        return list_of_strings\n",
    "    return string"
   ]
  },
  {
   "cell_type": "code",
   "execution_count": 48,
   "id": "c87e1da5",
   "metadata": {},
   "outputs": [
    {
     "data": {
      "text/plain": [
       "['Vangipurapu', 'Venkat', 'Sai', 'Laxman']"
      ]
     },
     "execution_count": 48,
     "metadata": {},
     "output_type": "execute_result"
    }
   ],
   "source": [
    "divide_string(my_string)"
   ]
  },
  {
   "cell_type": "code",
   "execution_count": 54,
   "id": "f360f509",
   "metadata": {},
   "outputs": [
    {
     "data": {
      "text/plain": [
       "['asdsad', 'dsapidjd', 'njwenfsdokd', 'skdmsd', 'jdnsjdnj']"
      ]
     },
     "execution_count": 54,
     "metadata": {},
     "output_type": "execute_result"
    }
   ],
   "source": [
    "divide_string(\"asdsad dsapidjd njwenfsdokd skdmsd jdnsjdnj\")"
   ]
  },
  {
   "cell_type": "markdown",
   "id": "4590dfc4",
   "metadata": {},
   "source": [
    "### Pythonic way: Use split() method"
   ]
  },
  {
   "cell_type": "code",
   "execution_count": 61,
   "id": "4d9c9879",
   "metadata": {},
   "outputs": [],
   "source": [
    "my_string = \"asdsad;dsapidjd njwenfsdokd;skdmsd;jdnsjdnj iejenjn ksdsdks;jdnjsndnd\""
   ]
  },
  {
   "cell_type": "code",
   "execution_count": 65,
   "id": "974e21f7",
   "metadata": {},
   "outputs": [],
   "source": [
    "splitted_list = my_string.split(';')"
   ]
  },
  {
   "cell_type": "code",
   "execution_count": 67,
   "id": "5136faa1",
   "metadata": {},
   "outputs": [
    {
     "name": "stdout",
     "output_type": "stream",
     "text": [
      "['asdsad']\n",
      "['dsapidjd', 'njwenfsdokd']\n",
      "['skdmsd']\n",
      "['jdnsjdnj', 'iejenjn', 'ksdsdks']\n",
      "['jdnjsndnd']\n"
     ]
    }
   ],
   "source": [
    "for s in splitted_list:\n",
    "    print(s.split(' '))"
   ]
  },
  {
   "cell_type": "markdown",
   "id": "4cc53b8e",
   "metadata": {},
   "source": [
    "### Reverse the string"
   ]
  },
  {
   "cell_type": "code",
   "execution_count": 68,
   "id": "3d51636e",
   "metadata": {},
   "outputs": [],
   "source": [
    "my_list = [4, 3, 1, 2, 9]"
   ]
  },
  {
   "cell_type": "code",
   "execution_count": 69,
   "id": "52aeb72d",
   "metadata": {},
   "outputs": [
    {
     "data": {
      "text/plain": [
       "[9, 2, 1, 3, 4]"
      ]
     },
     "execution_count": 69,
     "metadata": {},
     "output_type": "execute_result"
    }
   ],
   "source": [
    "my_list[::-1]"
   ]
  },
  {
   "cell_type": "code",
   "execution_count": 70,
   "id": "42974b65",
   "metadata": {},
   "outputs": [],
   "source": [
    "my_string = \"asndjsnd\""
   ]
  },
  {
   "cell_type": "code",
   "execution_count": 71,
   "id": "8f086a6a",
   "metadata": {},
   "outputs": [
    {
     "data": {
      "text/plain": [
       "'dnsjdnsa'"
      ]
     },
     "execution_count": 71,
     "metadata": {},
     "output_type": "execute_result"
    }
   ],
   "source": [
    "my_string[::-1]"
   ]
  },
  {
   "cell_type": "markdown",
   "id": "837ab92b",
   "metadata": {},
   "source": [
    "### Captalize first letter of words in a string\n",
    "\n",
    "\"aman mittal\" -> \"Aman Mittal\""
   ]
  },
  {
   "cell_type": "code",
   "execution_count": 74,
   "id": "17a7240f",
   "metadata": {},
   "outputs": [
    {
     "data": {
      "text/plain": [
       "'Aman mittal'"
      ]
     },
     "execution_count": 74,
     "metadata": {},
     "output_type": "execute_result"
    }
   ],
   "source": [
    "\"aman mittal\".capitalize()   # only first element of the string will be capitilized"
   ]
  },
  {
   "cell_type": "code",
   "execution_count": 75,
   "id": "73df98e9",
   "metadata": {},
   "outputs": [
    {
     "data": {
      "text/plain": [
       "'Aman Mittal'"
      ]
     },
     "execution_count": 75,
     "metadata": {},
     "output_type": "execute_result"
    }
   ],
   "source": [
    "\"aman mittal\".title() # capitilize the first element of each word"
   ]
  },
  {
   "cell_type": "code",
   "execution_count": 76,
   "id": "3ce6ea21",
   "metadata": {},
   "outputs": [
    {
     "data": {
      "text/plain": [
       "'Venkat Sai Laxman'"
      ]
     },
     "execution_count": 76,
     "metadata": {},
     "output_type": "execute_result"
    }
   ],
   "source": [
    "\"venkat sai laxman\".title()"
   ]
  },
  {
   "cell_type": "markdown",
   "id": "e6ea69dd",
   "metadata": {},
   "source": [
    "### find() method"
   ]
  },
  {
   "cell_type": "code",
   "execution_count": 77,
   "id": "da803141",
   "metadata": {},
   "outputs": [],
   "source": [
    "my_string = \"My name is Sachin. I play for India.\""
   ]
  },
  {
   "cell_type": "code",
   "execution_count": 80,
   "id": "419dedc8",
   "metadata": {},
   "outputs": [
    {
     "data": {
      "text/plain": [
       "6"
      ]
     },
     "execution_count": 80,
     "metadata": {},
     "output_type": "execute_result"
    }
   ],
   "source": [
    "my_string.find('e')"
   ]
  },
  {
   "cell_type": "markdown",
   "id": "d993bca3",
   "metadata": {},
   "source": [
    "### count()"
   ]
  },
  {
   "cell_type": "code",
   "execution_count": 81,
   "id": "db339b97",
   "metadata": {},
   "outputs": [
    {
     "data": {
      "text/plain": [
       "3"
      ]
     },
     "execution_count": 81,
     "metadata": {},
     "output_type": "execute_result"
    }
   ],
   "source": [
    "my_string.count('n')"
   ]
  },
  {
   "cell_type": "code",
   "execution_count": 82,
   "id": "14e1eda6",
   "metadata": {},
   "outputs": [
    {
     "data": {
      "text/plain": [
       "7"
      ]
     },
     "execution_count": 82,
     "metadata": {},
     "output_type": "execute_result"
    }
   ],
   "source": [
    "my_string.count(' ')"
   ]
  },
  {
   "cell_type": "code",
   "execution_count": 83,
   "id": "bbd8566f",
   "metadata": {},
   "outputs": [
    {
     "data": {
      "text/plain": [
       "0"
      ]
     },
     "execution_count": 83,
     "metadata": {},
     "output_type": "execute_result"
    }
   ],
   "source": [
    "my_string.count('z')"
   ]
  },
  {
   "cell_type": "markdown",
   "id": "93ac1579",
   "metadata": {},
   "source": [
    "### join() method"
   ]
  },
  {
   "cell_type": "code",
   "execution_count": 87,
   "id": "8582ffa4",
   "metadata": {},
   "outputs": [
    {
     "data": {
      "text/plain": [
       "'Sachin Tendulkar'"
      ]
     },
     "execution_count": 87,
     "metadata": {},
     "output_type": "execute_result"
    }
   ],
   "source": [
    "' '.join(['Sachin','Tendulkar'])"
   ]
  },
  {
   "cell_type": "code",
   "execution_count": 88,
   "id": "615c51a1",
   "metadata": {},
   "outputs": [],
   "source": [
    "my_string = \"Sourav Ganguly\""
   ]
  },
  {
   "cell_type": "code",
   "execution_count": 89,
   "id": "95434e30",
   "metadata": {},
   "outputs": [],
   "source": [
    "L = list(my_string)"
   ]
  },
  {
   "cell_type": "code",
   "execution_count": 90,
   "id": "da8bc579",
   "metadata": {},
   "outputs": [
    {
     "data": {
      "text/plain": [
       "['S', 'o', 'u', 'r', 'a', 'v', ' ', 'G', 'a', 'n', 'g', 'u', 'l', 'y']"
      ]
     },
     "execution_count": 90,
     "metadata": {},
     "output_type": "execute_result"
    }
   ],
   "source": [
    "L"
   ]
  },
  {
   "cell_type": "code",
   "execution_count": 91,
   "id": "680f007a",
   "metadata": {},
   "outputs": [
    {
     "data": {
      "text/plain": [
       "\"['S', 'o', 'u', 'r', 'a', 'v', ' ', 'G', 'a', 'n', 'g', 'u', 'l', 'y']\""
      ]
     },
     "execution_count": 91,
     "metadata": {},
     "output_type": "execute_result"
    }
   ],
   "source": [
    "str(L)"
   ]
  },
  {
   "cell_type": "code",
   "execution_count": 92,
   "id": "0456f44f",
   "metadata": {},
   "outputs": [
    {
     "data": {
      "text/plain": [
       "'Sourav Ganguly'"
      ]
     },
     "execution_count": 92,
     "metadata": {},
     "output_type": "execute_result"
    }
   ],
   "source": [
    "''.join(L)"
   ]
  },
  {
   "cell_type": "code",
   "execution_count": 93,
   "id": "0cac3316",
   "metadata": {},
   "outputs": [],
   "source": [
    "list_of_strings = ['abc','def','ghikdsd']"
   ]
  },
  {
   "cell_type": "code",
   "execution_count": 94,
   "id": "50ad13eb",
   "metadata": {},
   "outputs": [
    {
     "data": {
      "text/plain": [
       "'abc def ghikdsd'"
      ]
     },
     "execution_count": 94,
     "metadata": {},
     "output_type": "execute_result"
    }
   ],
   "source": [
    "' '.join(list_of_strings)"
   ]
  },
  {
   "cell_type": "code",
   "execution_count": 95,
   "id": "4dd99cc2",
   "metadata": {},
   "outputs": [
    {
     "data": {
      "text/plain": [
       "'Venkat Sai Laxman'"
      ]
     },
     "execution_count": 95,
     "metadata": {},
     "output_type": "execute_result"
    }
   ],
   "source": [
    "' '.join(['Venkat','Sai','Laxman'])"
   ]
  },
  {
   "cell_type": "code",
   "execution_count": 96,
   "id": "cac5ff29",
   "metadata": {},
   "outputs": [
    {
     "data": {
      "text/plain": [
       "'Venkat-Sai-Laxman'"
      ]
     },
     "execution_count": 96,
     "metadata": {},
     "output_type": "execute_result"
    }
   ],
   "source": [
    "'-'.join(['Venkat','Sai','Laxman'])"
   ]
  },
  {
   "cell_type": "code",
   "execution_count": 98,
   "id": "9deae2f0",
   "metadata": {},
   "outputs": [
    {
     "data": {
      "text/plain": [
       "'Venkat; Sai; Laxman'"
      ]
     },
     "execution_count": 98,
     "metadata": {},
     "output_type": "execute_result"
    }
   ],
   "source": [
    "'; '.join(['Venkat','Sai','Laxman'])"
   ]
  },
  {
   "cell_type": "markdown",
   "id": "ce79c87d",
   "metadata": {},
   "source": [
    "### lower()"
   ]
  },
  {
   "cell_type": "code",
   "execution_count": 99,
   "id": "7db76fd8",
   "metadata": {},
   "outputs": [],
   "source": [
    "my_string = \"My name is Sachin. I play for India.\""
   ]
  },
  {
   "cell_type": "code",
   "execution_count": 100,
   "id": "36e1f3d7",
   "metadata": {},
   "outputs": [
    {
     "data": {
      "text/plain": [
       "3"
      ]
     },
     "execution_count": 100,
     "metadata": {},
     "output_type": "execute_result"
    }
   ],
   "source": [
    "my_string.count('i')"
   ]
  },
  {
   "cell_type": "code",
   "execution_count": 101,
   "id": "22ad6251",
   "metadata": {},
   "outputs": [
    {
     "data": {
      "text/plain": [
       "'my name is sachin. i play for india.'"
      ]
     },
     "execution_count": 101,
     "metadata": {},
     "output_type": "execute_result"
    }
   ],
   "source": [
    "my_string.lower()"
   ]
  },
  {
   "cell_type": "code",
   "execution_count": 102,
   "id": "81f5e60f",
   "metadata": {},
   "outputs": [
    {
     "data": {
      "text/plain": [
       "5"
      ]
     },
     "execution_count": 102,
     "metadata": {},
     "output_type": "execute_result"
    }
   ],
   "source": [
    "my_string.lower().count('i')"
   ]
  },
  {
   "cell_type": "markdown",
   "id": "47c8b5b2",
   "metadata": {},
   "source": [
    "### upper()"
   ]
  },
  {
   "cell_type": "code",
   "execution_count": 104,
   "id": "19f22130",
   "metadata": {},
   "outputs": [
    {
     "data": {
      "text/plain": [
       "'MY NAME IS SACHIN. I PLAY FOR INDIA.'"
      ]
     },
     "execution_count": 104,
     "metadata": {},
     "output_type": "execute_result"
    }
   ],
   "source": [
    "my_string.upper()"
   ]
  },
  {
   "cell_type": "markdown",
   "id": "87f3742c",
   "metadata": {},
   "source": [
    "### index()"
   ]
  },
  {
   "cell_type": "code",
   "execution_count": 105,
   "id": "60090523",
   "metadata": {},
   "outputs": [
    {
     "data": {
      "text/plain": [
       "8"
      ]
     },
     "execution_count": 105,
     "metadata": {},
     "output_type": "execute_result"
    }
   ],
   "source": [
    "my_string.index('i')"
   ]
  },
  {
   "cell_type": "markdown",
   "id": "cfad95ac",
   "metadata": {},
   "source": [
    "### strip()"
   ]
  },
  {
   "cell_type": "code",
   "execution_count": 112,
   "id": "98944366",
   "metadata": {},
   "outputs": [],
   "source": [
    "test_string = \"  Sachin Tendulkar \""
   ]
  },
  {
   "cell_type": "code",
   "execution_count": 113,
   "id": "424fdfa0",
   "metadata": {},
   "outputs": [
    {
     "data": {
      "text/plain": [
       "'Sachin Tendulkar'"
      ]
     },
     "execution_count": 113,
     "metadata": {},
     "output_type": "execute_result"
    }
   ],
   "source": [
    "test_string.strip()"
   ]
  },
  {
   "cell_type": "markdown",
   "id": "2b6e1781",
   "metadata": {},
   "source": [
    "### lstrip()"
   ]
  },
  {
   "cell_type": "code",
   "execution_count": 114,
   "id": "35a72cc6",
   "metadata": {},
   "outputs": [
    {
     "data": {
      "text/plain": [
       "'Sachin Tendulkar '"
      ]
     },
     "execution_count": 114,
     "metadata": {},
     "output_type": "execute_result"
    }
   ],
   "source": [
    "test_string.lstrip()"
   ]
  },
  {
   "cell_type": "markdown",
   "id": "78e76082",
   "metadata": {},
   "source": [
    "### rstrip()"
   ]
  },
  {
   "cell_type": "code",
   "execution_count": 115,
   "id": "2ff07d68",
   "metadata": {},
   "outputs": [
    {
     "data": {
      "text/plain": [
       "'  Sachin Tendulkar'"
      ]
     },
     "execution_count": 115,
     "metadata": {},
     "output_type": "execute_result"
    }
   ],
   "source": [
    "test_string.rstrip()"
   ]
  },
  {
   "cell_type": "markdown",
   "id": "a7268588",
   "metadata": {},
   "source": [
    "### String concatenation"
   ]
  },
  {
   "cell_type": "code",
   "execution_count": 116,
   "id": "44b54087",
   "metadata": {},
   "outputs": [],
   "source": [
    "str1 = \"Delhi\"\n",
    "str2 = \"Capital\""
   ]
  },
  {
   "cell_type": "code",
   "execution_count": 118,
   "id": "61736894",
   "metadata": {},
   "outputs": [
    {
     "data": {
      "text/plain": [
       "'Delhi Capital'"
      ]
     },
     "execution_count": 118,
     "metadata": {},
     "output_type": "execute_result"
    }
   ],
   "source": [
    "str1 + \" \" + str2"
   ]
  },
  {
   "cell_type": "code",
   "execution_count": 120,
   "id": "077963db",
   "metadata": {},
   "outputs": [],
   "source": [
    "L = ['sds','dsdsd','hduihwq','atsiac','pwejnd']  # -> 'sds dsdsd hduihwq atsiac pwejnd'"
   ]
  },
  {
   "cell_type": "code",
   "execution_count": 121,
   "id": "354dd66f",
   "metadata": {},
   "outputs": [
    {
     "data": {
      "text/plain": [
       "'sds dsdsd hduihwq atsiac pwejnd'"
      ]
     },
     "execution_count": 121,
     "metadata": {},
     "output_type": "execute_result"
    }
   ],
   "source": [
    "' '.join(L)"
   ]
  },
  {
   "cell_type": "code",
   "execution_count": 124,
   "id": "3aad6e0a",
   "metadata": {},
   "outputs": [],
   "source": [
    "concat_list = ''\n",
    "\n",
    "for x in L:\n",
    "    concat_list += x\n",
    "    concat_list += ' '"
   ]
  },
  {
   "cell_type": "code",
   "execution_count": 125,
   "id": "7209fda2",
   "metadata": {},
   "outputs": [
    {
     "data": {
      "text/plain": [
       "'sds dsdsd hduihwq atsiac pwejnd '"
      ]
     },
     "execution_count": 125,
     "metadata": {},
     "output_type": "execute_result"
    }
   ],
   "source": [
    "concat_list"
   ]
  },
  {
   "cell_type": "code",
   "execution_count": null,
   "id": "72045bee",
   "metadata": {},
   "outputs": [],
   "source": []
  }
 ],
 "metadata": {
  "kernelspec": {
   "display_name": "Python 3 (ipykernel)",
   "language": "python",
   "name": "python3"
  },
  "language_info": {
   "codemirror_mode": {
    "name": "ipython",
    "version": 3
   },
   "file_extension": ".py",
   "mimetype": "text/x-python",
   "name": "python",
   "nbconvert_exporter": "python",
   "pygments_lexer": "ipython3",
   "version": "3.9.7"
  }
 },
 "nbformat": 4,
 "nbformat_minor": 5
}
