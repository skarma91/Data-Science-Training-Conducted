{
 "cells": [
  {
   "cell_type": "markdown",
   "id": "39a7d5b5",
   "metadata": {},
   "source": [
    "# Heading-1\n",
    "## Heading-2\n",
    "### Heading-3\n",
    "#### Heading-4\n",
    "##### Heading-5"
   ]
  },
  {
   "cell_type": "markdown",
   "id": "3bf4a29a",
   "metadata": {},
   "source": [
    "This is an example of simple notes written for better understanding of the program"
   ]
  },
  {
   "cell_type": "markdown",
   "id": "9c519c44",
   "metadata": {},
   "source": [
    "Emphasize: *This is emphasized / italicized text*"
   ]
  },
  {
   "cell_type": "markdown",
   "id": "a0acc3a7",
   "metadata": {},
   "source": [
    "Bold font: **This is bold statement**"
   ]
  },
  {
   "cell_type": "markdown",
   "id": "5f83a0df",
   "metadata": {},
   "source": [
    "Bullet Points (Unorderd list)\n",
    "\n",
    "* Item-1\n",
    "* Item-2\n",
    "\n",
    "- Item-3\n",
    "- Item-4"
   ]
  },
  {
   "cell_type": "markdown",
   "id": "470c67fb",
   "metadata": {},
   "source": [
    "Ordered list (Numbered list)\n",
    "\n",
    "1. Item-1\n",
    "1. Item-2\n",
    "1. Forgotten item\n",
    "1. Next Item\n",
    "1. Another item"
   ]
  },
  {
   "cell_type": "markdown",
   "id": "9ec0d022",
   "metadata": {},
   "source": [
    "To know more about anaconda please click [this link](https://www.anaconda.com/)."
   ]
  },
  {
   "cell_type": "markdown",
   "id": "9f291298",
   "metadata": {},
   "source": [
    "**Lord Voldemort:** A *dark wizard*. To know more about him please click this [link](https://en.wikipedia.org/wiki/Lord_Voldemort)."
   ]
  },
  {
   "cell_type": "markdown",
   "id": "b6839810",
   "metadata": {},
   "source": [
    "Insert Image inside markdown\n",
    "\n",
    "![Python Logo](https://logos-world.net/wp-content/uploads/2021/10/Python-Symbol.png)"
   ]
  },
  {
   "cell_type": "markdown",
   "id": "470c82b1",
   "metadata": {},
   "source": [
    "Insert Image from your computer\n",
    "\n",
    "![harry potter](./images/harry_potter.jpg)"
   ]
  },
  {
   "attachments": {
    "harry_potter.jpg": {
     "image/jpeg": "[encoded data removed]"
    }
   },
   "cell_type": "markdown",
   "id": "393cdbdc",
   "metadata": {},
   "source": [
    "![harry_potter.jpg](attachment:harry_potter.jpg)"
   ]
  },
  {
   "cell_type": "code",
   "execution_count": null,
   "id": "58500878",
   "metadata": {},
   "outputs": [],
   "source": []
  }
 ],
 "metadata": {
  "kernelspec": {
   "display_name": "Python 3 (ipykernel)",
   "language": "python",
   "name": "python3"
  },
  "language_info": {
   "codemirror_mode": {
    "name": "ipython",
    "version": 3
   },
   "file_extension": ".py",
   "mimetype": "text/x-python",
   "name": "python",
   "nbconvert_exporter": "python",
   "pygments_lexer": "ipython3",
   "version": "3.9.7"
  }
 },
 "nbformat": 4,
 "nbformat_minor": 5
}
