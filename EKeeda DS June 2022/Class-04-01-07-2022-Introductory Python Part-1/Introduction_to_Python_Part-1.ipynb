{
 "cells": [
  {
   "cell_type": "markdown",
   "id": "ddc14a39",
   "metadata": {},
   "source": [
    "# My first Python program : Hello World"
   ]
  },
  {
   "cell_type": "code",
   "execution_count": 1,
   "id": "459c295d",
   "metadata": {},
   "outputs": [
    {
     "name": "stdout",
     "output_type": "stream",
     "text": [
      "Hello World\n"
     ]
    }
   ],
   "source": [
    "# comment line, this will not executed by python interpreter\n",
    "\n",
    "# print() function\n",
    "\n",
    "print(\"Hello World\")"
   ]
  },
  {
   "cell_type": "code",
   "execution_count": 2,
   "id": "767c3c41",
   "metadata": {},
   "outputs": [
    {
     "name": "stdout",
     "output_type": "stream",
     "text": [
      "Hello World again\n"
     ]
    }
   ],
   "source": [
    "print(\"Hello World again\")"
   ]
  },
  {
   "cell_type": "code",
   "execution_count": 3,
   "id": "fe834b5a",
   "metadata": {},
   "outputs": [
    {
     "name": "stdout",
     "output_type": "stream",
     "text": [
      "Oh hello\n"
     ]
    }
   ],
   "source": [
    "print(\"Oh hello\")"
   ]
  },
  {
   "cell_type": "code",
   "execution_count": 4,
   "id": "9c5ebca2",
   "metadata": {},
   "outputs": [
    {
     "name": "stdout",
     "output_type": "stream",
     "text": [
      "Statement-1\n",
      "Statement-2\n"
     ]
    }
   ],
   "source": [
    "print(\"Statement-1\")\n",
    "print(\"Statement-2\")"
   ]
  },
  {
   "cell_type": "markdown",
   "id": "178793ef",
   "metadata": {},
   "source": [
    "## print() function in python"
   ]
  },
  {
   "cell_type": "code",
   "execution_count": 5,
   "id": "c8936135",
   "metadata": {},
   "outputs": [
    {
     "name": "stdout",
     "output_type": "stream",
     "text": [
      "My name is: Sourav\tYour name is: Sachin\n"
     ]
    }
   ],
   "source": [
    "# print statement with end\n",
    "\n",
    "print(\"My name is: Sourav\", end=\"\\t\") # '\\n' stands for newline, '\\t' stands for tab\n",
    "print(\"Your name is: Sachin\")"
   ]
  },
  {
   "cell_type": "markdown",
   "id": "0fcee5ac",
   "metadata": {},
   "source": [
    "## Variables"
   ]
  },
  {
   "cell_type": "markdown",
   "id": "7fdb39d0",
   "metadata": {},
   "source": [
    "A Variable is nothing but a memory location in computer, where you can store value"
   ]
  },
  {
   "cell_type": "code",
   "execution_count": 6,
   "id": "72ab9489",
   "metadata": {},
   "outputs": [],
   "source": [
    "a = 5"
   ]
  },
  {
   "cell_type": "code",
   "execution_count": 7,
   "id": "a1c3fef2",
   "metadata": {},
   "outputs": [
    {
     "name": "stdout",
     "output_type": "stream",
     "text": [
      "5\n"
     ]
    }
   ],
   "source": [
    "print(a)"
   ]
  },
  {
   "cell_type": "code",
   "execution_count": 8,
   "id": "661e7f1c",
   "metadata": {},
   "outputs": [
    {
     "data": {
      "text/plain": [
       "5"
      ]
     },
     "execution_count": 8,
     "metadata": {},
     "output_type": "execute_result"
    }
   ],
   "source": [
    "a"
   ]
  },
  {
   "cell_type": "code",
   "execution_count": 9,
   "id": "800cb664",
   "metadata": {},
   "outputs": [
    {
     "data": {
      "text/plain": [
       "int"
      ]
     },
     "execution_count": 9,
     "metadata": {},
     "output_type": "execute_result"
    }
   ],
   "source": [
    "type(a)"
   ]
  },
  {
   "cell_type": "code",
   "execution_count": 10,
   "id": "e13c07b9",
   "metadata": {},
   "outputs": [
    {
     "data": {
      "text/plain": [
       "float"
      ]
     },
     "execution_count": 10,
     "metadata": {},
     "output_type": "execute_result"
    }
   ],
   "source": [
    "a = 92.381\n",
    "\n",
    "type(a)"
   ]
  },
  {
   "cell_type": "code",
   "execution_count": 11,
   "id": "a4767608",
   "metadata": {},
   "outputs": [
    {
     "data": {
      "text/plain": [
       "str"
      ]
     },
     "execution_count": 11,
     "metadata": {},
     "output_type": "execute_result"
    }
   ],
   "source": [
    "a = 'happy new year'\n",
    "\n",
    "type(a)"
   ]
  },
  {
   "cell_type": "code",
   "execution_count": 12,
   "id": "674f7ffa",
   "metadata": {},
   "outputs": [
    {
     "name": "stdout",
     "output_type": "stream",
     "text": [
      "happy new year\n"
     ]
    }
   ],
   "source": [
    "print(a)"
   ]
  },
  {
   "cell_type": "markdown",
   "id": "400dc726",
   "metadata": {},
   "source": [
    "## Data Types\n",
    "\n",
    "So we have seen there are primarily 3 tyoes of data in Python\n",
    "\n",
    "- Integer\n",
    "- Floating Point\n",
    "- String"
   ]
  },
  {
   "cell_type": "markdown",
   "id": "8b25a72a",
   "metadata": {},
   "source": [
    "A variable name:\n",
    "\n",
    "- Can't contain spaces\n",
    "- Can't contain any special character other than 'underscore' _\n",
    "- Can be started / ended with underscore\n",
    "- Can contain alphanumeric characters\n",
    "- Can't start with a number"
   ]
  },
  {
   "cell_type": "code",
   "execution_count": 20,
   "id": "e221e82a",
   "metadata": {},
   "outputs": [],
   "source": [
    "my_name = \"Sourav\" "
   ]
  },
  {
   "cell_type": "markdown",
   "id": "f9109a03",
   "metadata": {},
   "source": [
    "## Arithmatic Operators"
   ]
  },
  {
   "cell_type": "code",
   "execution_count": 23,
   "id": "77af2548",
   "metadata": {},
   "outputs": [],
   "source": [
    "a = 3\n",
    "b = 5.6\n",
    "c = 45"
   ]
  },
  {
   "cell_type": "markdown",
   "id": "b33c513b",
   "metadata": {},
   "source": [
    "### Addition"
   ]
  },
  {
   "cell_type": "code",
   "execution_count": 25,
   "id": "2529f056",
   "metadata": {},
   "outputs": [
    {
     "name": "stdout",
     "output_type": "stream",
     "text": [
      "8.6\n"
     ]
    }
   ],
   "source": [
    "d = a+b\n",
    "print(d)"
   ]
  },
  {
   "cell_type": "markdown",
   "id": "d8cd98f6",
   "metadata": {},
   "source": [
    "### Subtraction"
   ]
  },
  {
   "cell_type": "code",
   "execution_count": 26,
   "id": "222a39d8",
   "metadata": {},
   "outputs": [
    {
     "data": {
      "text/plain": [
       "39.4"
      ]
     },
     "execution_count": 26,
     "metadata": {},
     "output_type": "execute_result"
    }
   ],
   "source": [
    "c - b"
   ]
  },
  {
   "cell_type": "code",
   "execution_count": 30,
   "id": "22898494",
   "metadata": {},
   "outputs": [
    {
     "data": {
      "text/plain": [
       "2.5999999999999996"
      ]
     },
     "execution_count": 30,
     "metadata": {},
     "output_type": "execute_result"
    }
   ],
   "source": [
    "b - a"
   ]
  },
  {
   "cell_type": "code",
   "execution_count": 31,
   "id": "2a796c02",
   "metadata": {},
   "outputs": [
    {
     "name": "stdout",
     "output_type": "stream",
     "text": [
      "6.0\n"
     ]
    }
   ],
   "source": [
    "e = 8.5 - 2.5\n",
    "\n",
    "print(e)"
   ]
  },
  {
   "cell_type": "markdown",
   "id": "c28ec791",
   "metadata": {},
   "source": [
    "### Multiplication"
   ]
  },
  {
   "cell_type": "code",
   "execution_count": 32,
   "id": "adbc0fb0",
   "metadata": {},
   "outputs": [
    {
     "data": {
      "text/plain": [
       "18.0"
      ]
     },
     "execution_count": 32,
     "metadata": {},
     "output_type": "execute_result"
    }
   ],
   "source": [
    "a * e"
   ]
  },
  {
   "cell_type": "markdown",
   "id": "3939cb27",
   "metadata": {},
   "source": [
    "### Division"
   ]
  },
  {
   "cell_type": "code",
   "execution_count": 33,
   "id": "38bc35ab",
   "metadata": {},
   "outputs": [
    {
     "data": {
      "text/plain": [
       "15.0"
      ]
     },
     "execution_count": 33,
     "metadata": {},
     "output_type": "execute_result"
    }
   ],
   "source": [
    "c / a"
   ]
  },
  {
   "cell_type": "markdown",
   "id": "29efe550",
   "metadata": {},
   "source": [
    "### Integer division (Quotient)"
   ]
  },
  {
   "cell_type": "code",
   "execution_count": 34,
   "id": "216964e5",
   "metadata": {},
   "outputs": [
    {
     "data": {
      "text/plain": [
       "15"
      ]
     },
     "execution_count": 34,
     "metadata": {},
     "output_type": "execute_result"
    }
   ],
   "source": [
    "c // a"
   ]
  },
  {
   "cell_type": "code",
   "execution_count": 35,
   "id": "907e03e6",
   "metadata": {},
   "outputs": [
    {
     "data": {
      "text/plain": [
       "9"
      ]
     },
     "execution_count": 35,
     "metadata": {},
     "output_type": "execute_result"
    }
   ],
   "source": [
    "f = 67\n",
    "g = 7\n",
    "\n",
    "f // g"
   ]
  },
  {
   "cell_type": "code",
   "execution_count": 36,
   "id": "2cf83f6e",
   "metadata": {},
   "outputs": [
    {
     "data": {
      "text/plain": [
       "27.0"
      ]
     },
     "execution_count": 36,
     "metadata": {},
     "output_type": "execute_result"
    }
   ],
   "source": [
    "f = 95.34\n",
    "\n",
    "g = 3.45\n",
    "\n",
    "f // g"
   ]
  },
  {
   "cell_type": "code",
   "execution_count": 37,
   "id": "d0571b29",
   "metadata": {},
   "outputs": [
    {
     "data": {
      "text/plain": [
       "27.63478260869565"
      ]
     },
     "execution_count": 37,
     "metadata": {},
     "output_type": "execute_result"
    }
   ],
   "source": [
    "f / g"
   ]
  },
  {
   "cell_type": "markdown",
   "id": "bc09263e",
   "metadata": {},
   "source": [
    "### Modulo division (Remainder)"
   ]
  },
  {
   "cell_type": "code",
   "execution_count": 38,
   "id": "960f6389",
   "metadata": {},
   "outputs": [
    {
     "data": {
      "text/plain": [
       "3"
      ]
     },
     "execution_count": 38,
     "metadata": {},
     "output_type": "execute_result"
    }
   ],
   "source": [
    "x = 45\n",
    "y = 7\n",
    "\n",
    "x % y"
   ]
  },
  {
   "cell_type": "code",
   "execution_count": 42,
   "id": "24677adb",
   "metadata": {},
   "outputs": [
    {
     "data": {
      "text/plain": [
       "0.08000000000000007"
      ]
     },
     "execution_count": 42,
     "metadata": {},
     "output_type": "execute_result"
    }
   ],
   "source": [
    "x = 34.79\n",
    "y = 2.67\n",
    "\n",
    "x % y"
   ]
  },
  {
   "cell_type": "markdown",
   "id": "6e85eefe",
   "metadata": {},
   "source": [
    "### Exponentiation"
   ]
  },
  {
   "cell_type": "code",
   "execution_count": 43,
   "id": "057139cc",
   "metadata": {},
   "outputs": [
    {
     "data": {
      "text/plain": [
       "64"
      ]
     },
     "execution_count": 43,
     "metadata": {},
     "output_type": "execute_result"
    }
   ],
   "source": [
    "4**3"
   ]
  },
  {
   "cell_type": "code",
   "execution_count": 44,
   "id": "36e1ad65",
   "metadata": {},
   "outputs": [
    {
     "data": {
      "text/plain": [
       "27.0"
      ]
     },
     "execution_count": 44,
     "metadata": {},
     "output_type": "execute_result"
    }
   ],
   "source": [
    "x = 9\n",
    "y = (3/2)\n",
    "\n",
    "x ** y"
   ]
  },
  {
   "cell_type": "code",
   "execution_count": null,
   "id": "96c25a68",
   "metadata": {},
   "outputs": [],
   "source": []
  }
 ],
 "metadata": {
  "kernelspec": {
   "display_name": "Python 3 (ipykernel)",
   "language": "python",
   "name": "python3"
  },
  "language_info": {
   "codemirror_mode": {
    "name": "ipython",
    "version": 3
   },
   "file_extension": ".py",
   "mimetype": "text/x-python",
   "name": "python",
   "nbconvert_exporter": "python",
   "pygments_lexer": "ipython3",
   "version": "3.9.7"
  }
 },
 "nbformat": 4,
 "nbformat_minor": 5
}
