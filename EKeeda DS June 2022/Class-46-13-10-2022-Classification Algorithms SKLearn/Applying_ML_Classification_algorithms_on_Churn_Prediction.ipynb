{
 "cells": [
  {
   "cell_type": "markdown",
   "id": "137af9f9",
   "metadata": {},
   "source": [
    "## Load the processed data"
   ]
  },
  {
   "cell_type": "code",
   "execution_count": 1,
   "id": "6e9ac5a8",
   "metadata": {
    "ExecuteTime": {
     "end_time": "2022-10-14T14:34:16.428254Z",
     "start_time": "2022-10-14T14:34:13.335733Z"
    }
   },
   "outputs": [],
   "source": [
    "import pandas as pd\n",
    "import numpy as np\n",
    "import matplotlib.pyplot as plt"
   ]
  },
  {
   "cell_type": "code",
   "execution_count": 2,
   "id": "1a805cca",
   "metadata": {
    "ExecuteTime": {
     "end_time": "2022-10-14T14:34:16.598293Z",
     "start_time": "2022-10-14T14:34:16.433376Z"
    }
   },
   "outputs": [],
   "source": [
    "data = pd.read_csv(\"./Churn_modelling_processed_data.csv\")"
   ]
  },
  {
   "cell_type": "code",
   "execution_count": 3,
   "id": "84fa97fa",
   "metadata": {
    "ExecuteTime": {
     "end_time": "2022-10-14T14:34:16.637868Z",
     "start_time": "2022-10-14T14:34:16.600296Z"
    }
   },
   "outputs": [
    {
     "data": {
      "text/html": [
       "<div>\n",
       "<style scoped>\n",
       "    .dataframe tbody tr th:only-of-type {\n",
       "        vertical-align: middle;\n",
       "    }\n",
       "\n",
       "    .dataframe tbody tr th {\n",
       "        vertical-align: top;\n",
       "    }\n",
       "\n",
       "    .dataframe thead th {\n",
       "        text-align: right;\n",
       "    }\n",
       "</style>\n",
       "<table border=\"1\" class=\"dataframe\">\n",
       "  <thead>\n",
       "    <tr style=\"text-align: right;\">\n",
       "      <th></th>\n",
       "      <th>CreditScoreScaled</th>\n",
       "      <th>Germany</th>\n",
       "      <th>Spain</th>\n",
       "      <th>GenderCoded</th>\n",
       "      <th>AgeScaled</th>\n",
       "      <th>Tenure</th>\n",
       "      <th>BalanceScaled</th>\n",
       "      <th>NumOfProducts</th>\n",
       "      <th>HasCrCard</th>\n",
       "      <th>IsActiveMember</th>\n",
       "      <th>EstimatedSalaryScaled</th>\n",
       "      <th>Exited</th>\n",
       "    </tr>\n",
       "  </thead>\n",
       "  <tbody>\n",
       "    <tr>\n",
       "      <th>0</th>\n",
       "      <td>0.538</td>\n",
       "      <td>0</td>\n",
       "      <td>0</td>\n",
       "      <td>0</td>\n",
       "      <td>0.324324</td>\n",
       "      <td>2</td>\n",
       "      <td>0.000000</td>\n",
       "      <td>1</td>\n",
       "      <td>1</td>\n",
       "      <td>1</td>\n",
       "      <td>0.506735</td>\n",
       "      <td>1</td>\n",
       "    </tr>\n",
       "    <tr>\n",
       "      <th>1</th>\n",
       "      <td>0.516</td>\n",
       "      <td>0</td>\n",
       "      <td>1</td>\n",
       "      <td>0</td>\n",
       "      <td>0.310811</td>\n",
       "      <td>1</td>\n",
       "      <td>0.334031</td>\n",
       "      <td>1</td>\n",
       "      <td>0</td>\n",
       "      <td>1</td>\n",
       "      <td>0.562709</td>\n",
       "      <td>0</td>\n",
       "    </tr>\n",
       "    <tr>\n",
       "      <th>2</th>\n",
       "      <td>0.304</td>\n",
       "      <td>0</td>\n",
       "      <td>0</td>\n",
       "      <td>0</td>\n",
       "      <td>0.324324</td>\n",
       "      <td>8</td>\n",
       "      <td>0.636357</td>\n",
       "      <td>3</td>\n",
       "      <td>1</td>\n",
       "      <td>0</td>\n",
       "      <td>0.569654</td>\n",
       "      <td>1</td>\n",
       "    </tr>\n",
       "    <tr>\n",
       "      <th>3</th>\n",
       "      <td>0.698</td>\n",
       "      <td>0</td>\n",
       "      <td>0</td>\n",
       "      <td>0</td>\n",
       "      <td>0.283784</td>\n",
       "      <td>1</td>\n",
       "      <td>0.000000</td>\n",
       "      <td>2</td>\n",
       "      <td>0</td>\n",
       "      <td>0</td>\n",
       "      <td>0.469120</td>\n",
       "      <td>0</td>\n",
       "    </tr>\n",
       "    <tr>\n",
       "      <th>4</th>\n",
       "      <td>1.000</td>\n",
       "      <td>0</td>\n",
       "      <td>1</td>\n",
       "      <td>0</td>\n",
       "      <td>0.337838</td>\n",
       "      <td>2</td>\n",
       "      <td>0.500246</td>\n",
       "      <td>1</td>\n",
       "      <td>1</td>\n",
       "      <td>1</td>\n",
       "      <td>0.395400</td>\n",
       "      <td>0</td>\n",
       "    </tr>\n",
       "  </tbody>\n",
       "</table>\n",
       "</div>"
      ],
      "text/plain": [
       "   CreditScoreScaled  Germany  Spain  GenderCoded  AgeScaled  Tenure  \\\n",
       "0              0.538        0      0            0   0.324324       2   \n",
       "1              0.516        0      1            0   0.310811       1   \n",
       "2              0.304        0      0            0   0.324324       8   \n",
       "3              0.698        0      0            0   0.283784       1   \n",
       "4              1.000        0      1            0   0.337838       2   \n",
       "\n",
       "   BalanceScaled  NumOfProducts  HasCrCard  IsActiveMember  \\\n",
       "0       0.000000              1          1               1   \n",
       "1       0.334031              1          0               1   \n",
       "2       0.636357              3          1               0   \n",
       "3       0.000000              2          0               0   \n",
       "4       0.500246              1          1               1   \n",
       "\n",
       "   EstimatedSalaryScaled  Exited  \n",
       "0               0.506735       1  \n",
       "1               0.562709       0  \n",
       "2               0.569654       1  \n",
       "3               0.469120       0  \n",
       "4               0.395400       0  "
      ]
     },
     "execution_count": 3,
     "metadata": {},
     "output_type": "execute_result"
    }
   ],
   "source": [
    "data.head()"
   ]
  },
  {
   "cell_type": "markdown",
   "id": "9ae94931",
   "metadata": {},
   "source": [
    "## Predictors and Target"
   ]
  },
  {
   "cell_type": "code",
   "execution_count": 4,
   "id": "069a3f81",
   "metadata": {
    "ExecuteTime": {
     "end_time": "2022-10-14T14:34:16.654173Z",
     "start_time": "2022-10-14T14:34:16.640868Z"
    }
   },
   "outputs": [],
   "source": [
    "columns = data.columns.to_list()"
   ]
  },
  {
   "cell_type": "code",
   "execution_count": 5,
   "id": "ba087ce5",
   "metadata": {
    "ExecuteTime": {
     "end_time": "2022-10-14T14:34:16.670021Z",
     "start_time": "2022-10-14T14:34:16.657944Z"
    }
   },
   "outputs": [],
   "source": [
    "target = 'Exited'"
   ]
  },
  {
   "cell_type": "code",
   "execution_count": 6,
   "id": "4517f2b4",
   "metadata": {
    "ExecuteTime": {
     "end_time": "2022-10-14T14:34:16.692697Z",
     "start_time": "2022-10-14T14:34:16.675458Z"
    }
   },
   "outputs": [],
   "source": [
    "columns.remove(target)"
   ]
  },
  {
   "cell_type": "code",
   "execution_count": 7,
   "id": "bf143f9a",
   "metadata": {
    "ExecuteTime": {
     "end_time": "2022-10-14T14:34:16.723604Z",
     "start_time": "2022-10-14T14:34:16.695674Z"
    }
   },
   "outputs": [],
   "source": [
    "X = data[columns].values"
   ]
  },
  {
   "cell_type": "code",
   "execution_count": 8,
   "id": "18793248",
   "metadata": {
    "ExecuteTime": {
     "end_time": "2022-10-14T14:34:16.739123Z",
     "start_time": "2022-10-14T14:34:16.729119Z"
    }
   },
   "outputs": [],
   "source": [
    "y = data[target].values"
   ]
  },
  {
   "cell_type": "code",
   "execution_count": 9,
   "id": "9499c8bf",
   "metadata": {
    "ExecuteTime": {
     "end_time": "2022-10-14T14:34:16.764294Z",
     "start_time": "2022-10-14T14:34:16.746305Z"
    }
   },
   "outputs": [
    {
     "data": {
      "text/plain": [
       "(10000, 11)"
      ]
     },
     "execution_count": 9,
     "metadata": {},
     "output_type": "execute_result"
    }
   ],
   "source": [
    "X.shape"
   ]
  },
  {
   "cell_type": "code",
   "execution_count": 10,
   "id": "f0aa75e5",
   "metadata": {
    "ExecuteTime": {
     "end_time": "2022-10-14T14:34:16.805158Z",
     "start_time": "2022-10-14T14:34:16.777076Z"
    }
   },
   "outputs": [
    {
     "data": {
      "text/plain": [
       "(10000,)"
      ]
     },
     "execution_count": 10,
     "metadata": {},
     "output_type": "execute_result"
    }
   ],
   "source": [
    "y.shape"
   ]
  },
  {
   "cell_type": "markdown",
   "id": "cba71a28",
   "metadata": {},
   "source": [
    "## Split the data into train and test"
   ]
  },
  {
   "cell_type": "code",
   "execution_count": 11,
   "id": "72ce0015",
   "metadata": {
    "ExecuteTime": {
     "end_time": "2022-10-14T14:34:19.498141Z",
     "start_time": "2022-10-14T14:34:16.811130Z"
    }
   },
   "outputs": [],
   "source": [
    "from sklearn.model_selection import train_test_split"
   ]
  },
  {
   "cell_type": "code",
   "execution_count": 12,
   "id": "7789de5a",
   "metadata": {
    "ExecuteTime": {
     "end_time": "2022-10-14T14:34:19.522994Z",
     "start_time": "2022-10-14T14:34:19.503542Z"
    }
   },
   "outputs": [],
   "source": [
    "X_train, X_test, y_train, y_test = train_test_split(X, y, test_size=0.25, random_state=2022)"
   ]
  },
  {
   "cell_type": "code",
   "execution_count": 13,
   "id": "ed60dc0b",
   "metadata": {
    "ExecuteTime": {
     "end_time": "2022-10-14T14:34:19.553594Z",
     "start_time": "2022-10-14T14:34:19.530167Z"
    }
   },
   "outputs": [
    {
     "data": {
      "text/plain": [
       "(7500, 11)"
      ]
     },
     "execution_count": 13,
     "metadata": {},
     "output_type": "execute_result"
    }
   ],
   "source": [
    "X_train.shape"
   ]
  },
  {
   "cell_type": "code",
   "execution_count": 14,
   "id": "2ca39390",
   "metadata": {
    "ExecuteTime": {
     "end_time": "2022-10-14T14:34:19.577563Z",
     "start_time": "2022-10-14T14:34:19.561636Z"
    }
   },
   "outputs": [
    {
     "data": {
      "text/plain": [
       "(2500, 11)"
      ]
     },
     "execution_count": 14,
     "metadata": {},
     "output_type": "execute_result"
    }
   ],
   "source": [
    "X_test.shape"
   ]
  },
  {
   "cell_type": "code",
   "execution_count": 15,
   "id": "92b51317",
   "metadata": {
    "ExecuteTime": {
     "end_time": "2022-10-14T14:34:19.600814Z",
     "start_time": "2022-10-14T14:34:19.585672Z"
    }
   },
   "outputs": [
    {
     "data": {
      "text/plain": [
       "(7500,)"
      ]
     },
     "execution_count": 15,
     "metadata": {},
     "output_type": "execute_result"
    }
   ],
   "source": [
    "y_train.shape"
   ]
  },
  {
   "cell_type": "code",
   "execution_count": 16,
   "id": "7617790c",
   "metadata": {
    "ExecuteTime": {
     "end_time": "2022-10-14T14:34:19.616042Z",
     "start_time": "2022-10-14T14:34:19.607145Z"
    }
   },
   "outputs": [
    {
     "data": {
      "text/plain": [
       "(2500,)"
      ]
     },
     "execution_count": 16,
     "metadata": {},
     "output_type": "execute_result"
    }
   ],
   "source": [
    "y_test.shape"
   ]
  },
  {
   "cell_type": "markdown",
   "id": "00f8645e",
   "metadata": {},
   "source": [
    "## Building ML model"
   ]
  },
  {
   "cell_type": "markdown",
   "id": "410cb32d",
   "metadata": {},
   "source": [
    "### Logistic Regression Model"
   ]
  },
  {
   "cell_type": "code",
   "execution_count": 17,
   "id": "514a7619",
   "metadata": {
    "ExecuteTime": {
     "end_time": "2022-10-14T14:34:26.498498Z",
     "start_time": "2022-10-14T14:34:26.203208Z"
    }
   },
   "outputs": [],
   "source": [
    "from sklearn.linear_model import LogisticRegression"
   ]
  },
  {
   "cell_type": "code",
   "execution_count": 18,
   "id": "2ac3b4c1",
   "metadata": {
    "ExecuteTime": {
     "end_time": "2022-10-14T14:34:27.289161Z",
     "start_time": "2022-10-14T14:34:27.275462Z"
    }
   },
   "outputs": [],
   "source": [
    "logistic_regression_clf = LogisticRegression()  # defining the LR classifier"
   ]
  },
  {
   "cell_type": "code",
   "execution_count": 19,
   "id": "133d0578",
   "metadata": {
    "ExecuteTime": {
     "end_time": "2022-10-14T14:34:28.143253Z",
     "start_time": "2022-10-14T14:34:27.848141Z"
    }
   },
   "outputs": [
    {
     "data": {
      "text/plain": [
       "LogisticRegression()"
      ]
     },
     "execution_count": 19,
     "metadata": {},
     "output_type": "execute_result"
    }
   ],
   "source": [
    "logistic_regression_clf.fit(X_train, y_train)   # training the LR classifier"
   ]
  },
  {
   "cell_type": "markdown",
   "id": "137b4b9b",
   "metadata": {},
   "source": [
    "**Check performance on test dataset**"
   ]
  },
  {
   "cell_type": "code",
   "execution_count": 21,
   "id": "37aa501c",
   "metadata": {
    "ExecuteTime": {
     "end_time": "2022-10-14T14:37:41.644907Z",
     "start_time": "2022-10-14T14:37:41.623252Z"
    }
   },
   "outputs": [],
   "source": [
    "y_pred = logistic_regression_clf.predict(X_test)"
   ]
  },
  {
   "cell_type": "code",
   "execution_count": 22,
   "id": "35995d19",
   "metadata": {
    "ExecuteTime": {
     "end_time": "2022-10-14T14:37:42.371047Z",
     "start_time": "2022-10-14T14:37:42.358326Z"
    }
   },
   "outputs": [],
   "source": [
    "from sklearn.metrics import accuracy_score, classification_report, f1_score"
   ]
  },
  {
   "cell_type": "markdown",
   "id": "5fbb2565",
   "metadata": {},
   "source": [
    "**Accuracy Score**"
   ]
  },
  {
   "cell_type": "code",
   "execution_count": 23,
   "id": "b63de94e",
   "metadata": {
    "ExecuteTime": {
     "end_time": "2022-10-14T14:37:44.173398Z",
     "start_time": "2022-10-14T14:37:44.138248Z"
    }
   },
   "outputs": [
    {
     "data": {
      "text/plain": [
       "0.8164"
      ]
     },
     "execution_count": 23,
     "metadata": {},
     "output_type": "execute_result"
    }
   ],
   "source": [
    "accuracy_score(y_true=y_test, y_pred=y_pred)"
   ]
  },
  {
   "cell_type": "markdown",
   "id": "66847c9b",
   "metadata": {},
   "source": [
    "**f1-Score**"
   ]
  },
  {
   "cell_type": "code",
   "execution_count": 24,
   "id": "a8b05623",
   "metadata": {
    "ExecuteTime": {
     "end_time": "2022-10-14T14:37:45.586850Z",
     "start_time": "2022-10-14T14:37:45.558422Z"
    }
   },
   "outputs": [
    {
     "data": {
      "text/plain": [
       "0.31594634873323396"
      ]
     },
     "execution_count": 24,
     "metadata": {},
     "output_type": "execute_result"
    }
   ],
   "source": [
    "f1_score(y_test, y_pred)"
   ]
  },
  {
   "cell_type": "markdown",
   "id": "8c62aec6",
   "metadata": {},
   "source": [
    "**Classification report on the test dataset**"
   ]
  },
  {
   "cell_type": "code",
   "execution_count": 25,
   "id": "f4fd651b",
   "metadata": {
    "ExecuteTime": {
     "end_time": "2022-10-14T14:37:47.550153Z",
     "start_time": "2022-10-14T14:37:47.521241Z"
    }
   },
   "outputs": [
    {
     "name": "stdout",
     "output_type": "stream",
     "text": [
      "              precision    recall  f1-score   support\n",
      "\n",
      "           0       0.83      0.97      0.89      1988\n",
      "           1       0.67      0.21      0.32       512\n",
      "\n",
      "    accuracy                           0.82      2500\n",
      "   macro avg       0.75      0.59      0.60      2500\n",
      "weighted avg       0.79      0.82      0.78      2500\n",
      "\n"
     ]
    }
   ],
   "source": [
    "print(classification_report(y_true=y_test, y_pred=y_pred))"
   ]
  },
  {
   "cell_type": "markdown",
   "id": "7c26f8dd",
   "metadata": {},
   "source": [
    "**Confusion Matrix**"
   ]
  },
  {
   "cell_type": "code",
   "execution_count": 43,
   "id": "d2d206bb",
   "metadata": {
    "ExecuteTime": {
     "end_time": "2022-10-14T14:47:35.642542Z",
     "start_time": "2022-10-14T14:47:35.631447Z"
    }
   },
   "outputs": [],
   "source": [
    "def create_confusion_matrix(y_true, y_pred):\n",
    "    cm = np.zeros((2,2), dtype='int')\n",
    "    for i in range(len(y_true)):\n",
    "        if y_true[i] == 0:\n",
    "            if y_pred[i] == 0:\n",
    "                cm[0,0] += 1\n",
    "            else:\n",
    "                cm[1,0] += 1\n",
    "        else:\n",
    "            if y_pred[i] == 0:\n",
    "                cm[0,1] += 1\n",
    "            else:\n",
    "                cm[1,1] += 1\n",
    "    cm_df = pd.DataFrame(cm, index=['Predicted-0','Predicted-1'], columns=['Actual-0', 'Actual-1'])\n",
    "    return cm_df"
   ]
  },
  {
   "cell_type": "code",
   "execution_count": 44,
   "id": "4ddc5255",
   "metadata": {
    "ExecuteTime": {
     "end_time": "2022-10-14T14:47:41.770834Z",
     "start_time": "2022-10-14T14:47:41.752679Z"
    }
   },
   "outputs": [],
   "source": [
    "cf_mat = create_confusion_matrix(y_true=y_test, y_pred=y_pred)"
   ]
  },
  {
   "cell_type": "code",
   "execution_count": 45,
   "id": "671376d2",
   "metadata": {
    "ExecuteTime": {
     "end_time": "2022-10-14T14:47:43.333025Z",
     "start_time": "2022-10-14T14:47:43.301563Z"
    }
   },
   "outputs": [
    {
     "data": {
      "text/html": [
       "<div>\n",
       "<style scoped>\n",
       "    .dataframe tbody tr th:only-of-type {\n",
       "        vertical-align: middle;\n",
       "    }\n",
       "\n",
       "    .dataframe tbody tr th {\n",
       "        vertical-align: top;\n",
       "    }\n",
       "\n",
       "    .dataframe thead th {\n",
       "        text-align: right;\n",
       "    }\n",
       "</style>\n",
       "<table border=\"1\" class=\"dataframe\">\n",
       "  <thead>\n",
       "    <tr style=\"text-align: right;\">\n",
       "      <th></th>\n",
       "      <th>Actual-0</th>\n",
       "      <th>Actual-1</th>\n",
       "    </tr>\n",
       "  </thead>\n",
       "  <tbody>\n",
       "    <tr>\n",
       "      <th>Predicted-0</th>\n",
       "      <td>1935</td>\n",
       "      <td>406</td>\n",
       "    </tr>\n",
       "    <tr>\n",
       "      <th>Predicted-1</th>\n",
       "      <td>53</td>\n",
       "      <td>106</td>\n",
       "    </tr>\n",
       "  </tbody>\n",
       "</table>\n",
       "</div>"
      ],
      "text/plain": [
       "             Actual-0  Actual-1\n",
       "Predicted-0      1935       406\n",
       "Predicted-1        53       106"
      ]
     },
     "execution_count": 45,
     "metadata": {},
     "output_type": "execute_result"
    }
   ],
   "source": [
    "cf_mat"
   ]
  },
  {
   "cell_type": "code",
   "execution_count": 46,
   "id": "ca9ffb5c",
   "metadata": {
    "ExecuteTime": {
     "end_time": "2022-10-14T14:47:43.826311Z",
     "start_time": "2022-10-14T14:47:43.812136Z"
    }
   },
   "outputs": [],
   "source": [
    "total = cf_mat.values.sum()"
   ]
  },
  {
   "cell_type": "code",
   "execution_count": 47,
   "id": "27953c19",
   "metadata": {
    "ExecuteTime": {
     "end_time": "2022-10-14T14:47:44.438408Z",
     "start_time": "2022-10-14T14:47:44.428324Z"
    }
   },
   "outputs": [],
   "source": [
    "correct = 0\n",
    "\n",
    "for i in range(len(cf_mat)):\n",
    "    correct += cf_mat.values[i,i]"
   ]
  },
  {
   "cell_type": "code",
   "execution_count": 48,
   "id": "3c7da585",
   "metadata": {
    "ExecuteTime": {
     "end_time": "2022-10-14T14:47:44.777571Z",
     "start_time": "2022-10-14T14:47:44.762723Z"
    }
   },
   "outputs": [
    {
     "data": {
      "text/plain": [
       "2041"
      ]
     },
     "execution_count": 48,
     "metadata": {},
     "output_type": "execute_result"
    }
   ],
   "source": [
    "correct"
   ]
  },
  {
   "cell_type": "code",
   "execution_count": 49,
   "id": "0c86b160",
   "metadata": {
    "ExecuteTime": {
     "end_time": "2022-10-14T14:47:44.998753Z",
     "start_time": "2022-10-14T14:47:44.992794Z"
    }
   },
   "outputs": [],
   "source": [
    "accuracy = correct / total"
   ]
  },
  {
   "cell_type": "code",
   "execution_count": 50,
   "id": "bd7e30e9",
   "metadata": {
    "ExecuteTime": {
     "end_time": "2022-10-14T14:47:45.460362Z",
     "start_time": "2022-10-14T14:47:45.445854Z"
    }
   },
   "outputs": [
    {
     "data": {
      "text/plain": [
       "0.8164"
      ]
     },
     "execution_count": 50,
     "metadata": {},
     "output_type": "execute_result"
    }
   ],
   "source": [
    "accuracy"
   ]
  },
  {
   "cell_type": "code",
   "execution_count": 51,
   "id": "565f96b4",
   "metadata": {
    "ExecuteTime": {
     "end_time": "2022-10-14T14:47:46.314624Z",
     "start_time": "2022-10-14T14:47:46.305189Z"
    }
   },
   "outputs": [],
   "source": [
    "from sklearn.metrics import confusion_matrix"
   ]
  },
  {
   "cell_type": "code",
   "execution_count": 52,
   "id": "8785af52",
   "metadata": {
    "ExecuteTime": {
     "end_time": "2022-10-14T14:48:09.621549Z",
     "start_time": "2022-10-14T14:48:09.584265Z"
    }
   },
   "outputs": [
    {
     "data": {
      "text/plain": [
       "array([[1935,   53],\n",
       "       [ 406,  106]], dtype=int64)"
      ]
     },
     "execution_count": 52,
     "metadata": {},
     "output_type": "execute_result"
    }
   ],
   "source": [
    "confusion_matrix(y_true=y_test, y_pred=y_pred)"
   ]
  },
  {
   "cell_type": "code",
   "execution_count": 54,
   "id": "55b2cba3",
   "metadata": {
    "ExecuteTime": {
     "end_time": "2022-10-14T14:49:41.190822Z",
     "start_time": "2022-10-14T14:49:41.159182Z"
    }
   },
   "outputs": [
    {
     "data": {
      "text/html": [
       "<div>\n",
       "<style scoped>\n",
       "    .dataframe tbody tr th:only-of-type {\n",
       "        vertical-align: middle;\n",
       "    }\n",
       "\n",
       "    .dataframe tbody tr th {\n",
       "        vertical-align: top;\n",
       "    }\n",
       "\n",
       "    .dataframe thead th {\n",
       "        text-align: right;\n",
       "    }\n",
       "</style>\n",
       "<table border=\"1\" class=\"dataframe\">\n",
       "  <thead>\n",
       "    <tr style=\"text-align: right;\">\n",
       "      <th></th>\n",
       "      <th>Predicted-0</th>\n",
       "      <th>Predicted-1</th>\n",
       "    </tr>\n",
       "  </thead>\n",
       "  <tbody>\n",
       "    <tr>\n",
       "      <th>Actual-0</th>\n",
       "      <td>1935</td>\n",
       "      <td>53</td>\n",
       "    </tr>\n",
       "    <tr>\n",
       "      <th>Actual-1</th>\n",
       "      <td>406</td>\n",
       "      <td>106</td>\n",
       "    </tr>\n",
       "  </tbody>\n",
       "</table>\n",
       "</div>"
      ],
      "text/plain": [
       "          Predicted-0  Predicted-1\n",
       "Actual-0         1935           53\n",
       "Actual-1          406          106"
      ]
     },
     "execution_count": 54,
     "metadata": {},
     "output_type": "execute_result"
    }
   ],
   "source": [
    "pd.DataFrame(confusion_matrix(y_true=y_test, y_pred=y_pred), index=['Actual-0', 'Actual-1'], columns=['Predicted-0','Predicted-1'])"
   ]
  },
  {
   "cell_type": "markdown",
   "id": "e94e0502",
   "metadata": {},
   "source": [
    "### k-NN Classifier"
   ]
  },
  {
   "cell_type": "code",
   "execution_count": 55,
   "id": "940a4ca6",
   "metadata": {
    "ExecuteTime": {
     "end_time": "2022-10-14T14:50:20.934613Z",
     "start_time": "2022-10-14T14:50:20.761470Z"
    }
   },
   "outputs": [],
   "source": [
    "from sklearn.neighbors import KNeighborsClassifier"
   ]
  },
  {
   "cell_type": "code",
   "execution_count": 56,
   "id": "573020f4",
   "metadata": {
    "ExecuteTime": {
     "end_time": "2022-10-14T14:50:21.184667Z",
     "start_time": "2022-10-14T14:50:21.163511Z"
    }
   },
   "outputs": [],
   "source": [
    "kNNclf = KNeighborsClassifier(n_neighbors=5)  # specifying kNN classifier with 5 neighbors"
   ]
  },
  {
   "cell_type": "code",
   "execution_count": 57,
   "id": "40ea52de",
   "metadata": {
    "ExecuteTime": {
     "end_time": "2022-10-14T14:50:21.678471Z",
     "start_time": "2022-10-14T14:50:21.588926Z"
    }
   },
   "outputs": [
    {
     "data": {
      "text/plain": [
       "KNeighborsClassifier()"
      ]
     },
     "execution_count": 57,
     "metadata": {},
     "output_type": "execute_result"
    }
   ],
   "source": [
    "kNNclf.fit(X_train, y_train)  # training the kNN classifier"
   ]
  },
  {
   "cell_type": "markdown",
   "id": "5f05c2f6",
   "metadata": {},
   "source": [
    "**Check Performance**"
   ]
  },
  {
   "cell_type": "code",
   "execution_count": 58,
   "id": "bc48f541",
   "metadata": {
    "ExecuteTime": {
     "end_time": "2022-10-14T14:50:22.798366Z",
     "start_time": "2022-10-14T14:50:22.485564Z"
    }
   },
   "outputs": [],
   "source": [
    "y_pred = kNNclf.predict(X_test)"
   ]
  },
  {
   "cell_type": "code",
   "execution_count": 59,
   "id": "2b5013ba",
   "metadata": {
    "ExecuteTime": {
     "end_time": "2022-10-14T14:50:23.189433Z",
     "start_time": "2022-10-14T14:50:23.175444Z"
    }
   },
   "outputs": [
    {
     "data": {
      "text/plain": [
       "0.8036"
      ]
     },
     "execution_count": 59,
     "metadata": {},
     "output_type": "execute_result"
    }
   ],
   "source": [
    "accuracy_score(y_test, y_pred)"
   ]
  },
  {
   "cell_type": "code",
   "execution_count": 60,
   "id": "0194ba53",
   "metadata": {
    "ExecuteTime": {
     "end_time": "2022-10-14T14:50:23.682732Z",
     "start_time": "2022-10-14T14:50:23.660694Z"
    }
   },
   "outputs": [
    {
     "data": {
      "text/plain": [
       "0.347941567065073"
      ]
     },
     "execution_count": 60,
     "metadata": {},
     "output_type": "execute_result"
    }
   ],
   "source": [
    "f1_score(y_test, y_pred)"
   ]
  },
  {
   "cell_type": "code",
   "execution_count": 61,
   "id": "5b18fa41",
   "metadata": {
    "ExecuteTime": {
     "end_time": "2022-10-14T14:50:24.608263Z",
     "start_time": "2022-10-14T14:50:24.570822Z"
    }
   },
   "outputs": [
    {
     "name": "stdout",
     "output_type": "stream",
     "text": [
      "              precision    recall  f1-score   support\n",
      "\n",
      "           0       0.83      0.94      0.88      1988\n",
      "           1       0.54      0.26      0.35       512\n",
      "\n",
      "    accuracy                           0.80      2500\n",
      "   macro avg       0.69      0.60      0.62      2500\n",
      "weighted avg       0.77      0.80      0.77      2500\n",
      "\n"
     ]
    }
   ],
   "source": [
    "print(classification_report(y_test, y_pred))"
   ]
  },
  {
   "cell_type": "code",
   "execution_count": 62,
   "id": "ad376f7a",
   "metadata": {
    "ExecuteTime": {
     "end_time": "2022-10-14T14:50:25.326857Z",
     "start_time": "2022-10-14T14:50:25.307690Z"
    }
   },
   "outputs": [
    {
     "data": {
      "text/plain": [
       "0    7963\n",
       "1    2037\n",
       "Name: Exited, dtype: int64"
      ]
     },
     "execution_count": 62,
     "metadata": {},
     "output_type": "execute_result"
    }
   ],
   "source": [
    "data['Exited'].value_counts()"
   ]
  },
  {
   "cell_type": "code",
   "execution_count": 63,
   "id": "829b9590",
   "metadata": {
    "ExecuteTime": {
     "end_time": "2022-10-14T14:51:29.893919Z",
     "start_time": "2022-10-14T14:51:29.873514Z"
    }
   },
   "outputs": [
    {
     "data": {
      "text/html": [
       "<div>\n",
       "<style scoped>\n",
       "    .dataframe tbody tr th:only-of-type {\n",
       "        vertical-align: middle;\n",
       "    }\n",
       "\n",
       "    .dataframe tbody tr th {\n",
       "        vertical-align: top;\n",
       "    }\n",
       "\n",
       "    .dataframe thead th {\n",
       "        text-align: right;\n",
       "    }\n",
       "</style>\n",
       "<table border=\"1\" class=\"dataframe\">\n",
       "  <thead>\n",
       "    <tr style=\"text-align: right;\">\n",
       "      <th></th>\n",
       "      <th>Predicted-0</th>\n",
       "      <th>Predicted-1</th>\n",
       "    </tr>\n",
       "  </thead>\n",
       "  <tbody>\n",
       "    <tr>\n",
       "      <th>Actual-0</th>\n",
       "      <td>1878</td>\n",
       "      <td>110</td>\n",
       "    </tr>\n",
       "    <tr>\n",
       "      <th>Actual-1</th>\n",
       "      <td>381</td>\n",
       "      <td>131</td>\n",
       "    </tr>\n",
       "  </tbody>\n",
       "</table>\n",
       "</div>"
      ],
      "text/plain": [
       "          Predicted-0  Predicted-1\n",
       "Actual-0         1878          110\n",
       "Actual-1          381          131"
      ]
     },
     "execution_count": 63,
     "metadata": {},
     "output_type": "execute_result"
    }
   ],
   "source": [
    "pd.DataFrame(confusion_matrix(y_true=y_test, y_pred=y_pred), index=['Actual-0', 'Actual-1'], columns=['Predicted-0','Predicted-1'])"
   ]
  },
  {
   "cell_type": "markdown",
   "id": "71b349df",
   "metadata": {},
   "source": [
    "### Decision Tree Classifier"
   ]
  },
  {
   "cell_type": "code",
   "execution_count": 64,
   "id": "24872e67",
   "metadata": {
    "ExecuteTime": {
     "end_time": "2022-10-14T14:51:49.858606Z",
     "start_time": "2022-10-14T14:51:49.762819Z"
    }
   },
   "outputs": [],
   "source": [
    "from sklearn.tree import DecisionTreeClassifier"
   ]
  },
  {
   "cell_type": "code",
   "execution_count": 65,
   "id": "97499673",
   "metadata": {
    "ExecuteTime": {
     "end_time": "2022-10-14T14:51:49.974448Z",
     "start_time": "2022-10-14T14:51:49.961402Z"
    }
   },
   "outputs": [],
   "source": [
    "dtclf = DecisionTreeClassifier(min_samples_leaf=20)   # defining the Decision Tree classifier"
   ]
  },
  {
   "cell_type": "code",
   "execution_count": 66,
   "id": "6fd4bfb2",
   "metadata": {
    "ExecuteTime": {
     "end_time": "2022-10-14T14:51:50.293500Z",
     "start_time": "2022-10-14T14:51:50.198466Z"
    }
   },
   "outputs": [
    {
     "data": {
      "text/plain": [
       "DecisionTreeClassifier(min_samples_leaf=20)"
      ]
     },
     "execution_count": 66,
     "metadata": {},
     "output_type": "execute_result"
    }
   ],
   "source": [
    "dtclf.fit(X_train, y_train)  # training decision tree model"
   ]
  },
  {
   "cell_type": "markdown",
   "id": "ea12ca72",
   "metadata": {},
   "source": [
    "**Check the performance**"
   ]
  },
  {
   "cell_type": "code",
   "execution_count": 67,
   "id": "76c437e0",
   "metadata": {
    "ExecuteTime": {
     "end_time": "2022-10-14T14:51:50.890204Z",
     "start_time": "2022-10-14T14:51:50.870527Z"
    }
   },
   "outputs": [],
   "source": [
    "y_pred = dtclf.predict(X_test)"
   ]
  },
  {
   "cell_type": "code",
   "execution_count": 68,
   "id": "65d2ffe1",
   "metadata": {
    "ExecuteTime": {
     "end_time": "2022-10-14T14:51:51.255985Z",
     "start_time": "2022-10-14T14:51:51.235281Z"
    }
   },
   "outputs": [
    {
     "data": {
      "text/plain": [
       "0.8556"
      ]
     },
     "execution_count": 68,
     "metadata": {},
     "output_type": "execute_result"
    }
   ],
   "source": [
    "accuracy_score(y_test, y_pred)"
   ]
  },
  {
   "cell_type": "code",
   "execution_count": 69,
   "id": "27130572",
   "metadata": {
    "ExecuteTime": {
     "end_time": "2022-10-14T14:51:51.768433Z",
     "start_time": "2022-10-14T14:51:51.746176Z"
    }
   },
   "outputs": [
    {
     "data": {
      "text/plain": [
       "0.5930101465614431"
      ]
     },
     "execution_count": 69,
     "metadata": {},
     "output_type": "execute_result"
    }
   ],
   "source": [
    "f1_score(y_test, y_pred)"
   ]
  },
  {
   "cell_type": "code",
   "execution_count": 70,
   "id": "76f305bd",
   "metadata": {
    "ExecuteTime": {
     "end_time": "2022-10-14T14:51:53.478443Z",
     "start_time": "2022-10-14T14:51:53.442264Z"
    }
   },
   "outputs": [
    {
     "name": "stdout",
     "output_type": "stream",
     "text": [
      "              precision    recall  f1-score   support\n",
      "\n",
      "           0       0.88      0.94      0.91      1988\n",
      "           1       0.70      0.51      0.59       512\n",
      "\n",
      "    accuracy                           0.86      2500\n",
      "   macro avg       0.79      0.73      0.75      2500\n",
      "weighted avg       0.85      0.86      0.85      2500\n",
      "\n"
     ]
    }
   ],
   "source": [
    "print(classification_report(y_test, y_pred))"
   ]
  },
  {
   "cell_type": "code",
   "execution_count": 71,
   "id": "9facb127",
   "metadata": {
    "ExecuteTime": {
     "end_time": "2022-10-14T14:51:56.656688Z",
     "start_time": "2022-10-14T14:51:56.634762Z"
    }
   },
   "outputs": [
    {
     "data": {
      "text/html": [
       "<div>\n",
       "<style scoped>\n",
       "    .dataframe tbody tr th:only-of-type {\n",
       "        vertical-align: middle;\n",
       "    }\n",
       "\n",
       "    .dataframe tbody tr th {\n",
       "        vertical-align: top;\n",
       "    }\n",
       "\n",
       "    .dataframe thead th {\n",
       "        text-align: right;\n",
       "    }\n",
       "</style>\n",
       "<table border=\"1\" class=\"dataframe\">\n",
       "  <thead>\n",
       "    <tr style=\"text-align: right;\">\n",
       "      <th></th>\n",
       "      <th>Predicted-0</th>\n",
       "      <th>Predicted-1</th>\n",
       "    </tr>\n",
       "  </thead>\n",
       "  <tbody>\n",
       "    <tr>\n",
       "      <th>Actual-0</th>\n",
       "      <td>1876</td>\n",
       "      <td>112</td>\n",
       "    </tr>\n",
       "    <tr>\n",
       "      <th>Actual-1</th>\n",
       "      <td>249</td>\n",
       "      <td>263</td>\n",
       "    </tr>\n",
       "  </tbody>\n",
       "</table>\n",
       "</div>"
      ],
      "text/plain": [
       "          Predicted-0  Predicted-1\n",
       "Actual-0         1876          112\n",
       "Actual-1          249          263"
      ]
     },
     "execution_count": 71,
     "metadata": {},
     "output_type": "execute_result"
    }
   ],
   "source": [
    "pd.DataFrame(confusion_matrix(y_true=y_test, y_pred=y_pred), index=['Actual-0', 'Actual-1'], columns=['Predicted-0','Predicted-1'])"
   ]
  },
  {
   "cell_type": "markdown",
   "id": "0fe83464",
   "metadata": {},
   "source": [
    "### SVM classifier"
   ]
  },
  {
   "cell_type": "code",
   "execution_count": 72,
   "id": "1992bd1f",
   "metadata": {
    "ExecuteTime": {
     "end_time": "2022-10-14T14:52:13.954607Z",
     "start_time": "2022-10-14T14:52:13.941434Z"
    }
   },
   "outputs": [],
   "source": [
    "from sklearn.svm import SVC"
   ]
  },
  {
   "cell_type": "code",
   "execution_count": 73,
   "id": "df0d3b0d",
   "metadata": {
    "ExecuteTime": {
     "end_time": "2022-10-14T14:52:14.133405Z",
     "start_time": "2022-10-14T14:52:14.120956Z"
    }
   },
   "outputs": [],
   "source": [
    "SVCclf = SVC()"
   ]
  },
  {
   "cell_type": "code",
   "execution_count": 74,
   "id": "2a2514ac",
   "metadata": {
    "ExecuteTime": {
     "end_time": "2022-10-14T14:52:18.083072Z",
     "start_time": "2022-10-14T14:52:14.361326Z"
    }
   },
   "outputs": [
    {
     "data": {
      "text/plain": [
       "SVC()"
      ]
     },
     "execution_count": 74,
     "metadata": {},
     "output_type": "execute_result"
    }
   ],
   "source": [
    "SVCclf.fit(X_train, y_train)   # training SVC model"
   ]
  },
  {
   "cell_type": "markdown",
   "id": "89520d79",
   "metadata": {},
   "source": [
    "**Check the performance**"
   ]
  },
  {
   "cell_type": "code",
   "execution_count": 75,
   "id": "b05d091b",
   "metadata": {
    "ExecuteTime": {
     "end_time": "2022-10-14T14:52:19.688621Z",
     "start_time": "2022-10-14T14:52:18.088822Z"
    }
   },
   "outputs": [],
   "source": [
    "y_pred = SVCclf.predict(X_test)"
   ]
  },
  {
   "cell_type": "code",
   "execution_count": 76,
   "id": "80d75755",
   "metadata": {
    "ExecuteTime": {
     "end_time": "2022-10-14T14:52:19.712993Z",
     "start_time": "2022-10-14T14:52:19.691623Z"
    }
   },
   "outputs": [
    {
     "data": {
      "text/plain": [
       "0.8004"
      ]
     },
     "execution_count": 76,
     "metadata": {},
     "output_type": "execute_result"
    }
   ],
   "source": [
    "accuracy_score(y_test, y_pred)"
   ]
  },
  {
   "cell_type": "code",
   "execution_count": 77,
   "id": "c15789b1",
   "metadata": {
    "ExecuteTime": {
     "end_time": "2022-10-14T14:52:19.746388Z",
     "start_time": "2022-10-14T14:52:19.718996Z"
    }
   },
   "outputs": [
    {
     "data": {
      "text/plain": [
       "0.049523809523809526"
      ]
     },
     "execution_count": 77,
     "metadata": {},
     "output_type": "execute_result"
    }
   ],
   "source": [
    "f1_score(y_test, y_pred)"
   ]
  },
  {
   "cell_type": "code",
   "execution_count": 78,
   "id": "2c54426c",
   "metadata": {
    "ExecuteTime": {
     "end_time": "2022-10-14T14:52:19.786143Z",
     "start_time": "2022-10-14T14:52:19.751711Z"
    }
   },
   "outputs": [
    {
     "name": "stdout",
     "output_type": "stream",
     "text": [
      "              precision    recall  f1-score   support\n",
      "\n",
      "           0       0.80      1.00      0.89      1988\n",
      "           1       1.00      0.03      0.05       512\n",
      "\n",
      "    accuracy                           0.80      2500\n",
      "   macro avg       0.90      0.51      0.47      2500\n",
      "weighted avg       0.84      0.80      0.72      2500\n",
      "\n"
     ]
    }
   ],
   "source": [
    "print(classification_report(y_test, y_pred))"
   ]
  },
  {
   "cell_type": "code",
   "execution_count": 79,
   "id": "027f2f31",
   "metadata": {
    "ExecuteTime": {
     "end_time": "2022-10-14T14:52:28.276645Z",
     "start_time": "2022-10-14T14:52:28.241057Z"
    }
   },
   "outputs": [
    {
     "data": {
      "text/html": [
       "<div>\n",
       "<style scoped>\n",
       "    .dataframe tbody tr th:only-of-type {\n",
       "        vertical-align: middle;\n",
       "    }\n",
       "\n",
       "    .dataframe tbody tr th {\n",
       "        vertical-align: top;\n",
       "    }\n",
       "\n",
       "    .dataframe thead th {\n",
       "        text-align: right;\n",
       "    }\n",
       "</style>\n",
       "<table border=\"1\" class=\"dataframe\">\n",
       "  <thead>\n",
       "    <tr style=\"text-align: right;\">\n",
       "      <th></th>\n",
       "      <th>Predicted-0</th>\n",
       "      <th>Predicted-1</th>\n",
       "    </tr>\n",
       "  </thead>\n",
       "  <tbody>\n",
       "    <tr>\n",
       "      <th>Actual-0</th>\n",
       "      <td>1988</td>\n",
       "      <td>0</td>\n",
       "    </tr>\n",
       "    <tr>\n",
       "      <th>Actual-1</th>\n",
       "      <td>499</td>\n",
       "      <td>13</td>\n",
       "    </tr>\n",
       "  </tbody>\n",
       "</table>\n",
       "</div>"
      ],
      "text/plain": [
       "          Predicted-0  Predicted-1\n",
       "Actual-0         1988            0\n",
       "Actual-1          499           13"
      ]
     },
     "execution_count": 79,
     "metadata": {},
     "output_type": "execute_result"
    }
   ],
   "source": [
    "pd.DataFrame(confusion_matrix(y_true=y_test, y_pred=y_pred), index=['Actual-0', 'Actual-1'], columns=['Predicted-0','Predicted-1'])"
   ]
  },
  {
   "cell_type": "markdown",
   "id": "1d4c3528",
   "metadata": {},
   "source": [
    "## Conclusion"
   ]
  },
  {
   "cell_type": "markdown",
   "id": "84defbc9",
   "metadata": {},
   "source": [
    "After this exercise we can say that Decision Tree classifier is performing well out of these 4 classifiers we have trained in this particular dataset."
   ]
  },
  {
   "cell_type": "code",
   "execution_count": null,
   "id": "969c9204",
   "metadata": {},
   "outputs": [],
   "source": []
  }
 ],
 "metadata": {
  "kernelspec": {
   "display_name": "Python 3 (ipykernel)",
   "language": "python",
   "name": "python3"
  },
  "language_info": {
   "codemirror_mode": {
    "name": "ipython",
    "version": 3
   },
   "file_extension": ".py",
   "mimetype": "text/x-python",
   "name": "python",
   "nbconvert_exporter": "python",
   "pygments_lexer": "ipython3",
   "version": "3.9.7"
  },
  "toc": {
   "base_numbering": 1,
   "nav_menu": {},
   "number_sections": true,
   "sideBar": true,
   "skip_h1_title": true,
   "title_cell": "Table of Contents",
   "title_sidebar": "Contents",
   "toc_cell": false,
   "toc_position": {},
   "toc_section_display": true,
   "toc_window_display": true
  }
 },
 "nbformat": 4,
 "nbformat_minor": 5
}
