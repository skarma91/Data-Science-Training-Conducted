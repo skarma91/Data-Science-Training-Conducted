{
 "cells": [
  {
   "cell_type": "markdown",
   "id": "d19fbdac",
   "metadata": {},
   "source": [
    "# Principal Component Analysis\n",
    "\n",
    "Linear Feature Extraction Technique"
   ]
  },
  {
   "cell_type": "markdown",
   "id": "1b9c392f",
   "metadata": {},
   "source": [
    "## Read the dataset"
   ]
  },
  {
   "cell_type": "code",
   "execution_count": 1,
   "id": "5e765c3a",
   "metadata": {
    "ExecuteTime": {
     "end_time": "2022-10-21T16:16:13.252589Z",
     "start_time": "2022-10-21T16:16:11.519975Z"
    }
   },
   "outputs": [],
   "source": [
    "import pandas as pd\n",
    "import numpy as np\n",
    "import matplotlib.pyplot as plt"
   ]
  },
  {
   "cell_type": "code",
   "execution_count": 6,
   "id": "e92ffd55",
   "metadata": {
    "ExecuteTime": {
     "end_time": "2022-10-21T16:19:03.502148Z",
     "start_time": "2022-10-21T16:19:03.475438Z"
    }
   },
   "outputs": [],
   "source": [
    "data = pd.read_csv(\"./wisconsin_breast_cancer_dataset.csv\")"
   ]
  },
  {
   "cell_type": "code",
   "execution_count": 7,
   "id": "6c83e1e3",
   "metadata": {
    "ExecuteTime": {
     "end_time": "2022-10-21T16:19:04.200432Z",
     "start_time": "2022-10-21T16:19:04.167443Z"
    }
   },
   "outputs": [
    {
     "data": {
      "text/html": [
       "<div>\n",
       "<style scoped>\n",
       "    .dataframe tbody tr th:only-of-type {\n",
       "        vertical-align: middle;\n",
       "    }\n",
       "\n",
       "    .dataframe tbody tr th {\n",
       "        vertical-align: top;\n",
       "    }\n",
       "\n",
       "    .dataframe thead th {\n",
       "        text-align: right;\n",
       "    }\n",
       "</style>\n",
       "<table border=\"1\" class=\"dataframe\">\n",
       "  <thead>\n",
       "    <tr style=\"text-align: right;\">\n",
       "      <th></th>\n",
       "      <th>id</th>\n",
       "      <th>diagnosis</th>\n",
       "      <th>radius_mean</th>\n",
       "      <th>texture_mean</th>\n",
       "      <th>perimeter_mean</th>\n",
       "      <th>area_mean</th>\n",
       "      <th>smoothness_mean</th>\n",
       "      <th>compactness_mean</th>\n",
       "      <th>concavity_mean</th>\n",
       "      <th>concave points_mean</th>\n",
       "      <th>...</th>\n",
       "      <th>radius_worst</th>\n",
       "      <th>texture_worst</th>\n",
       "      <th>perimeter_worst</th>\n",
       "      <th>area_worst</th>\n",
       "      <th>smoothness_worst</th>\n",
       "      <th>compactness_worst</th>\n",
       "      <th>concavity_worst</th>\n",
       "      <th>concave points_worst</th>\n",
       "      <th>symmetry_worst</th>\n",
       "      <th>fractal_dimension_worst</th>\n",
       "    </tr>\n",
       "  </thead>\n",
       "  <tbody>\n",
       "    <tr>\n",
       "      <th>0</th>\n",
       "      <td>842302</td>\n",
       "      <td>M</td>\n",
       "      <td>17.99</td>\n",
       "      <td>10.38</td>\n",
       "      <td>122.80</td>\n",
       "      <td>1001.0</td>\n",
       "      <td>0.11840</td>\n",
       "      <td>0.27760</td>\n",
       "      <td>0.30010</td>\n",
       "      <td>0.14710</td>\n",
       "      <td>...</td>\n",
       "      <td>25.38</td>\n",
       "      <td>17.33</td>\n",
       "      <td>184.60</td>\n",
       "      <td>2019.0</td>\n",
       "      <td>0.1622</td>\n",
       "      <td>0.6656</td>\n",
       "      <td>0.7119</td>\n",
       "      <td>0.2654</td>\n",
       "      <td>0.4601</td>\n",
       "      <td>0.11890</td>\n",
       "    </tr>\n",
       "    <tr>\n",
       "      <th>1</th>\n",
       "      <td>842517</td>\n",
       "      <td>M</td>\n",
       "      <td>20.57</td>\n",
       "      <td>17.77</td>\n",
       "      <td>132.90</td>\n",
       "      <td>1326.0</td>\n",
       "      <td>0.08474</td>\n",
       "      <td>0.07864</td>\n",
       "      <td>0.08690</td>\n",
       "      <td>0.07017</td>\n",
       "      <td>...</td>\n",
       "      <td>24.99</td>\n",
       "      <td>23.41</td>\n",
       "      <td>158.80</td>\n",
       "      <td>1956.0</td>\n",
       "      <td>0.1238</td>\n",
       "      <td>0.1866</td>\n",
       "      <td>0.2416</td>\n",
       "      <td>0.1860</td>\n",
       "      <td>0.2750</td>\n",
       "      <td>0.08902</td>\n",
       "    </tr>\n",
       "    <tr>\n",
       "      <th>2</th>\n",
       "      <td>84300903</td>\n",
       "      <td>M</td>\n",
       "      <td>19.69</td>\n",
       "      <td>21.25</td>\n",
       "      <td>130.00</td>\n",
       "      <td>1203.0</td>\n",
       "      <td>0.10960</td>\n",
       "      <td>0.15990</td>\n",
       "      <td>0.19740</td>\n",
       "      <td>0.12790</td>\n",
       "      <td>...</td>\n",
       "      <td>23.57</td>\n",
       "      <td>25.53</td>\n",
       "      <td>152.50</td>\n",
       "      <td>1709.0</td>\n",
       "      <td>0.1444</td>\n",
       "      <td>0.4245</td>\n",
       "      <td>0.4504</td>\n",
       "      <td>0.2430</td>\n",
       "      <td>0.3613</td>\n",
       "      <td>0.08758</td>\n",
       "    </tr>\n",
       "    <tr>\n",
       "      <th>3</th>\n",
       "      <td>84348301</td>\n",
       "      <td>M</td>\n",
       "      <td>11.42</td>\n",
       "      <td>20.38</td>\n",
       "      <td>77.58</td>\n",
       "      <td>386.1</td>\n",
       "      <td>0.14250</td>\n",
       "      <td>0.28390</td>\n",
       "      <td>0.24140</td>\n",
       "      <td>0.10520</td>\n",
       "      <td>...</td>\n",
       "      <td>14.91</td>\n",
       "      <td>26.50</td>\n",
       "      <td>98.87</td>\n",
       "      <td>567.7</td>\n",
       "      <td>0.2098</td>\n",
       "      <td>0.8663</td>\n",
       "      <td>0.6869</td>\n",
       "      <td>0.2575</td>\n",
       "      <td>0.6638</td>\n",
       "      <td>0.17300</td>\n",
       "    </tr>\n",
       "    <tr>\n",
       "      <th>4</th>\n",
       "      <td>84358402</td>\n",
       "      <td>M</td>\n",
       "      <td>20.29</td>\n",
       "      <td>14.34</td>\n",
       "      <td>135.10</td>\n",
       "      <td>1297.0</td>\n",
       "      <td>0.10030</td>\n",
       "      <td>0.13280</td>\n",
       "      <td>0.19800</td>\n",
       "      <td>0.10430</td>\n",
       "      <td>...</td>\n",
       "      <td>22.54</td>\n",
       "      <td>16.67</td>\n",
       "      <td>152.20</td>\n",
       "      <td>1575.0</td>\n",
       "      <td>0.1374</td>\n",
       "      <td>0.2050</td>\n",
       "      <td>0.4000</td>\n",
       "      <td>0.1625</td>\n",
       "      <td>0.2364</td>\n",
       "      <td>0.07678</td>\n",
       "    </tr>\n",
       "    <tr>\n",
       "      <th>5</th>\n",
       "      <td>843786</td>\n",
       "      <td>M</td>\n",
       "      <td>12.45</td>\n",
       "      <td>15.70</td>\n",
       "      <td>82.57</td>\n",
       "      <td>477.1</td>\n",
       "      <td>0.12780</td>\n",
       "      <td>0.17000</td>\n",
       "      <td>0.15780</td>\n",
       "      <td>0.08089</td>\n",
       "      <td>...</td>\n",
       "      <td>15.47</td>\n",
       "      <td>23.75</td>\n",
       "      <td>103.40</td>\n",
       "      <td>741.6</td>\n",
       "      <td>0.1791</td>\n",
       "      <td>0.5249</td>\n",
       "      <td>0.5355</td>\n",
       "      <td>0.1741</td>\n",
       "      <td>0.3985</td>\n",
       "      <td>0.12440</td>\n",
       "    </tr>\n",
       "    <tr>\n",
       "      <th>6</th>\n",
       "      <td>844359</td>\n",
       "      <td>M</td>\n",
       "      <td>18.25</td>\n",
       "      <td>19.98</td>\n",
       "      <td>119.60</td>\n",
       "      <td>1040.0</td>\n",
       "      <td>0.09463</td>\n",
       "      <td>0.10900</td>\n",
       "      <td>0.11270</td>\n",
       "      <td>0.07400</td>\n",
       "      <td>...</td>\n",
       "      <td>22.88</td>\n",
       "      <td>27.66</td>\n",
       "      <td>153.20</td>\n",
       "      <td>1606.0</td>\n",
       "      <td>0.1442</td>\n",
       "      <td>0.2576</td>\n",
       "      <td>0.3784</td>\n",
       "      <td>0.1932</td>\n",
       "      <td>0.3063</td>\n",
       "      <td>0.08368</td>\n",
       "    </tr>\n",
       "    <tr>\n",
       "      <th>7</th>\n",
       "      <td>84458202</td>\n",
       "      <td>M</td>\n",
       "      <td>13.71</td>\n",
       "      <td>20.83</td>\n",
       "      <td>90.20</td>\n",
       "      <td>577.9</td>\n",
       "      <td>0.11890</td>\n",
       "      <td>0.16450</td>\n",
       "      <td>0.09366</td>\n",
       "      <td>0.05985</td>\n",
       "      <td>...</td>\n",
       "      <td>17.06</td>\n",
       "      <td>28.14</td>\n",
       "      <td>110.60</td>\n",
       "      <td>897.0</td>\n",
       "      <td>0.1654</td>\n",
       "      <td>0.3682</td>\n",
       "      <td>0.2678</td>\n",
       "      <td>0.1556</td>\n",
       "      <td>0.3196</td>\n",
       "      <td>0.11510</td>\n",
       "    </tr>\n",
       "    <tr>\n",
       "      <th>8</th>\n",
       "      <td>844981</td>\n",
       "      <td>M</td>\n",
       "      <td>13.00</td>\n",
       "      <td>21.82</td>\n",
       "      <td>87.50</td>\n",
       "      <td>519.8</td>\n",
       "      <td>0.12730</td>\n",
       "      <td>0.19320</td>\n",
       "      <td>0.18590</td>\n",
       "      <td>0.09353</td>\n",
       "      <td>...</td>\n",
       "      <td>15.49</td>\n",
       "      <td>30.73</td>\n",
       "      <td>106.20</td>\n",
       "      <td>739.3</td>\n",
       "      <td>0.1703</td>\n",
       "      <td>0.5401</td>\n",
       "      <td>0.5390</td>\n",
       "      <td>0.2060</td>\n",
       "      <td>0.4378</td>\n",
       "      <td>0.10720</td>\n",
       "    </tr>\n",
       "    <tr>\n",
       "      <th>9</th>\n",
       "      <td>84501001</td>\n",
       "      <td>M</td>\n",
       "      <td>12.46</td>\n",
       "      <td>24.04</td>\n",
       "      <td>83.97</td>\n",
       "      <td>475.9</td>\n",
       "      <td>0.11860</td>\n",
       "      <td>0.23960</td>\n",
       "      <td>0.22730</td>\n",
       "      <td>0.08543</td>\n",
       "      <td>...</td>\n",
       "      <td>15.09</td>\n",
       "      <td>40.68</td>\n",
       "      <td>97.65</td>\n",
       "      <td>711.4</td>\n",
       "      <td>0.1853</td>\n",
       "      <td>1.0580</td>\n",
       "      <td>1.1050</td>\n",
       "      <td>0.2210</td>\n",
       "      <td>0.4366</td>\n",
       "      <td>0.20750</td>\n",
       "    </tr>\n",
       "  </tbody>\n",
       "</table>\n",
       "<p>10 rows × 32 columns</p>\n",
       "</div>"
      ],
      "text/plain": [
       "         id diagnosis  radius_mean  texture_mean  perimeter_mean  area_mean  \\\n",
       "0    842302         M        17.99         10.38          122.80     1001.0   \n",
       "1    842517         M        20.57         17.77          132.90     1326.0   \n",
       "2  84300903         M        19.69         21.25          130.00     1203.0   \n",
       "3  84348301         M        11.42         20.38           77.58      386.1   \n",
       "4  84358402         M        20.29         14.34          135.10     1297.0   \n",
       "5    843786         M        12.45         15.70           82.57      477.1   \n",
       "6    844359         M        18.25         19.98          119.60     1040.0   \n",
       "7  84458202         M        13.71         20.83           90.20      577.9   \n",
       "8    844981         M        13.00         21.82           87.50      519.8   \n",
       "9  84501001         M        12.46         24.04           83.97      475.9   \n",
       "\n",
       "   smoothness_mean  compactness_mean  concavity_mean  concave points_mean  \\\n",
       "0          0.11840           0.27760         0.30010              0.14710   \n",
       "1          0.08474           0.07864         0.08690              0.07017   \n",
       "2          0.10960           0.15990         0.19740              0.12790   \n",
       "3          0.14250           0.28390         0.24140              0.10520   \n",
       "4          0.10030           0.13280         0.19800              0.10430   \n",
       "5          0.12780           0.17000         0.15780              0.08089   \n",
       "6          0.09463           0.10900         0.11270              0.07400   \n",
       "7          0.11890           0.16450         0.09366              0.05985   \n",
       "8          0.12730           0.19320         0.18590              0.09353   \n",
       "9          0.11860           0.23960         0.22730              0.08543   \n",
       "\n",
       "   ...  radius_worst  texture_worst  perimeter_worst  area_worst  \\\n",
       "0  ...         25.38          17.33           184.60      2019.0   \n",
       "1  ...         24.99          23.41           158.80      1956.0   \n",
       "2  ...         23.57          25.53           152.50      1709.0   \n",
       "3  ...         14.91          26.50            98.87       567.7   \n",
       "4  ...         22.54          16.67           152.20      1575.0   \n",
       "5  ...         15.47          23.75           103.40       741.6   \n",
       "6  ...         22.88          27.66           153.20      1606.0   \n",
       "7  ...         17.06          28.14           110.60       897.0   \n",
       "8  ...         15.49          30.73           106.20       739.3   \n",
       "9  ...         15.09          40.68            97.65       711.4   \n",
       "\n",
       "   smoothness_worst  compactness_worst  concavity_worst  concave points_worst  \\\n",
       "0            0.1622             0.6656           0.7119                0.2654   \n",
       "1            0.1238             0.1866           0.2416                0.1860   \n",
       "2            0.1444             0.4245           0.4504                0.2430   \n",
       "3            0.2098             0.8663           0.6869                0.2575   \n",
       "4            0.1374             0.2050           0.4000                0.1625   \n",
       "5            0.1791             0.5249           0.5355                0.1741   \n",
       "6            0.1442             0.2576           0.3784                0.1932   \n",
       "7            0.1654             0.3682           0.2678                0.1556   \n",
       "8            0.1703             0.5401           0.5390                0.2060   \n",
       "9            0.1853             1.0580           1.1050                0.2210   \n",
       "\n",
       "   symmetry_worst  fractal_dimension_worst  \n",
       "0          0.4601                  0.11890  \n",
       "1          0.2750                  0.08902  \n",
       "2          0.3613                  0.08758  \n",
       "3          0.6638                  0.17300  \n",
       "4          0.2364                  0.07678  \n",
       "5          0.3985                  0.12440  \n",
       "6          0.3063                  0.08368  \n",
       "7          0.3196                  0.11510  \n",
       "8          0.4378                  0.10720  \n",
       "9          0.4366                  0.20750  \n",
       "\n",
       "[10 rows x 32 columns]"
      ]
     },
     "execution_count": 7,
     "metadata": {},
     "output_type": "execute_result"
    }
   ],
   "source": [
    "data.head(10)"
   ]
  },
  {
   "cell_type": "markdown",
   "id": "aaca8192",
   "metadata": {},
   "source": [
    "## Information about the data"
   ]
  },
  {
   "cell_type": "code",
   "execution_count": 8,
   "id": "d85930d6",
   "metadata": {
    "ExecuteTime": {
     "end_time": "2022-10-21T16:19:35.755336Z",
     "start_time": "2022-10-21T16:19:35.720698Z"
    }
   },
   "outputs": [
    {
     "name": "stdout",
     "output_type": "stream",
     "text": [
      "<class 'pandas.core.frame.DataFrame'>\n",
      "RangeIndex: 569 entries, 0 to 568\n",
      "Data columns (total 32 columns):\n",
      " #   Column                   Non-Null Count  Dtype  \n",
      "---  ------                   --------------  -----  \n",
      " 0   id                       569 non-null    int64  \n",
      " 1   diagnosis                569 non-null    object \n",
      " 2   radius_mean              569 non-null    float64\n",
      " 3   texture_mean             569 non-null    float64\n",
      " 4   perimeter_mean           569 non-null    float64\n",
      " 5   area_mean                569 non-null    float64\n",
      " 6   smoothness_mean          569 non-null    float64\n",
      " 7   compactness_mean         569 non-null    float64\n",
      " 8   concavity_mean           569 non-null    float64\n",
      " 9   concave points_mean      569 non-null    float64\n",
      " 10  symmetry_mean            569 non-null    float64\n",
      " 11  fractal_dimension_mean   569 non-null    float64\n",
      " 12  radius_se                569 non-null    float64\n",
      " 13  texture_se               569 non-null    float64\n",
      " 14  perimeter_se             569 non-null    float64\n",
      " 15  area_se                  569 non-null    float64\n",
      " 16  smoothness_se            569 non-null    float64\n",
      " 17  compactness_se           569 non-null    float64\n",
      " 18  concavity_se             569 non-null    float64\n",
      " 19  concave points_se        569 non-null    float64\n",
      " 20  symmetry_se              569 non-null    float64\n",
      " 21  fractal_dimension_se     569 non-null    float64\n",
      " 22  radius_worst             569 non-null    float64\n",
      " 23  texture_worst            569 non-null    float64\n",
      " 24  perimeter_worst          569 non-null    float64\n",
      " 25  area_worst               569 non-null    float64\n",
      " 26  smoothness_worst         569 non-null    float64\n",
      " 27  compactness_worst        569 non-null    float64\n",
      " 28  concavity_worst          569 non-null    float64\n",
      " 29  concave points_worst     569 non-null    float64\n",
      " 30  symmetry_worst           569 non-null    float64\n",
      " 31  fractal_dimension_worst  569 non-null    float64\n",
      "dtypes: float64(30), int64(1), object(1)\n",
      "memory usage: 142.4+ KB\n"
     ]
    }
   ],
   "source": [
    "data.info()"
   ]
  },
  {
   "cell_type": "code",
   "execution_count": 9,
   "id": "aea06ff7",
   "metadata": {
    "ExecuteTime": {
     "end_time": "2022-10-21T16:20:36.544036Z",
     "start_time": "2022-10-21T16:20:36.531076Z"
    }
   },
   "outputs": [],
   "source": [
    "y_values = data['diagnosis'].values"
   ]
  },
  {
   "cell_type": "code",
   "execution_count": 12,
   "id": "5c9eb000",
   "metadata": {
    "ExecuteTime": {
     "end_time": "2022-10-21T16:22:50.141959Z",
     "start_time": "2022-10-21T16:22:50.129573Z"
    }
   },
   "outputs": [],
   "source": [
    "X_values = data.iloc[:,2:].values"
   ]
  },
  {
   "cell_type": "code",
   "execution_count": 14,
   "id": "08b8c3c2",
   "metadata": {
    "ExecuteTime": {
     "end_time": "2022-10-21T16:22:59.151515Z",
     "start_time": "2022-10-21T16:22:59.142421Z"
    }
   },
   "outputs": [
    {
     "data": {
      "text/plain": [
       "(569, 30)"
      ]
     },
     "execution_count": 14,
     "metadata": {},
     "output_type": "execute_result"
    }
   ],
   "source": [
    "X_values.shape"
   ]
  },
  {
   "cell_type": "markdown",
   "id": "ab68f214",
   "metadata": {},
   "source": [
    "## Standardize the features"
   ]
  },
  {
   "cell_type": "code",
   "execution_count": 20,
   "id": "fa1ad77c",
   "metadata": {
    "ExecuteTime": {
     "end_time": "2022-10-21T16:25:39.090062Z",
     "start_time": "2022-10-21T16:25:39.078065Z"
    }
   },
   "outputs": [],
   "source": [
    "means = X_values.mean(axis = 0)"
   ]
  },
  {
   "cell_type": "code",
   "execution_count": 19,
   "id": "1b648a1f",
   "metadata": {
    "ExecuteTime": {
     "end_time": "2022-10-21T16:25:36.075263Z",
     "start_time": "2022-10-21T16:25:36.057120Z"
    }
   },
   "outputs": [],
   "source": [
    "std_devs = X_values.std(axis = 0)"
   ]
  },
  {
   "cell_type": "code",
   "execution_count": 28,
   "id": "731dddb7",
   "metadata": {
    "ExecuteTime": {
     "end_time": "2022-10-21T16:27:38.793243Z",
     "start_time": "2022-10-21T16:27:38.773932Z"
    }
   },
   "outputs": [],
   "source": [
    "X_std = (X_values - means)/std_devs"
   ]
  },
  {
   "cell_type": "code",
   "execution_count": 30,
   "id": "a44969b5",
   "metadata": {
    "ExecuteTime": {
     "end_time": "2022-10-21T16:27:47.575205Z",
     "start_time": "2022-10-21T16:27:47.556830Z"
    }
   },
   "outputs": [
    {
     "data": {
      "text/plain": [
       "(569, 30)"
      ]
     },
     "execution_count": 30,
     "metadata": {},
     "output_type": "execute_result"
    }
   ],
   "source": [
    "X_std.shape"
   ]
  },
  {
   "cell_type": "code",
   "execution_count": 32,
   "id": "e083b54e",
   "metadata": {
    "ExecuteTime": {
     "end_time": "2022-10-21T16:28:03.383205Z",
     "start_time": "2022-10-21T16:28:03.372040Z"
    }
   },
   "outputs": [
    {
     "data": {
      "text/plain": [
       "array([-0.,  0., -0., -0., -0.,  0.,  0., -0.,  0.,  0.,  0., -0., -0.,\n",
       "       -0., -0.,  0.,  0.,  0.,  0., -0., -0.,  0., -0.,  0., -0., -0.,\n",
       "        0.,  0.,  0., -0.])"
      ]
     },
     "execution_count": 32,
     "metadata": {},
     "output_type": "execute_result"
    }
   ],
   "source": [
    "np.round(X_std.mean(axis = 0))"
   ]
  },
  {
   "cell_type": "code",
   "execution_count": 33,
   "id": "e9a00dd7",
   "metadata": {
    "ExecuteTime": {
     "end_time": "2022-10-21T16:28:17.286489Z",
     "start_time": "2022-10-21T16:28:17.272257Z"
    }
   },
   "outputs": [
    {
     "data": {
      "text/plain": [
       "array([1., 1., 1., 1., 1., 1., 1., 1., 1., 1., 1., 1., 1., 1., 1., 1., 1.,\n",
       "       1., 1., 1., 1., 1., 1., 1., 1., 1., 1., 1., 1., 1.])"
      ]
     },
     "execution_count": 33,
     "metadata": {},
     "output_type": "execute_result"
    }
   ],
   "source": [
    "np.round(X_std.std(axis=0))"
   ]
  },
  {
   "cell_type": "markdown",
   "id": "4f29114a",
   "metadata": {},
   "source": [
    "## Calculate the covariance matrix"
   ]
  },
  {
   "cell_type": "code",
   "execution_count": 37,
   "id": "30bfa238",
   "metadata": {
    "ExecuteTime": {
     "end_time": "2022-10-21T16:31:11.531410Z",
     "start_time": "2022-10-21T16:31:11.522138Z"
    }
   },
   "outputs": [],
   "source": [
    "C = np.corrcoef(X_std.T)"
   ]
  },
  {
   "cell_type": "code",
   "execution_count": 39,
   "id": "9ffa346e",
   "metadata": {
    "ExecuteTime": {
     "end_time": "2022-10-21T16:31:40.567268Z",
     "start_time": "2022-10-21T16:31:40.395969Z"
    }
   },
   "outputs": [
    {
     "data": {
      "image/png": "[encoded data removed]",
      "text/plain": [
       "<Figure size 720x720 with 1 Axes>"
      ]
     },
     "metadata": {
      "needs_background": "light"
     },
     "output_type": "display_data"
    }
   ],
   "source": [
    "plt.figure(figsize=(10,10))\n",
    "plt.imshow(C, cmap='gray', interpolation='nearest')\n",
    "plt.show()"
   ]
  },
  {
   "cell_type": "code",
   "execution_count": 41,
   "id": "73919a7c",
   "metadata": {
    "ExecuteTime": {
     "end_time": "2022-10-21T16:32:41.225926Z",
     "start_time": "2022-10-21T16:32:41.047944Z"
    }
   },
   "outputs": [
    {
     "data": {
      "image/png": "[encoded data removed]",
      "text/plain": [
       "<Figure size 720x720 with 1 Axes>"
      ]
     },
     "metadata": {
      "needs_background": "light"
     },
     "output_type": "display_data"
    }
   ],
   "source": [
    "plt.figure(figsize=(10,10))\n",
    "plt.imshow(np.corrcoef(X_values.T), cmap='gray', interpolation='nearest')\n",
    "plt.show()"
   ]
  },
  {
   "cell_type": "code",
   "execution_count": 42,
   "id": "92bc46da",
   "metadata": {
    "ExecuteTime": {
     "end_time": "2022-10-21T16:34:49.721171Z",
     "start_time": "2022-10-21T16:34:49.703194Z"
    }
   },
   "outputs": [
    {
     "data": {
      "text/plain": [
       "True"
      ]
     },
     "execution_count": 42,
     "metadata": {},
     "output_type": "execute_result"
    }
   ],
   "source": [
    "np.allclose(np.corrcoef(X_std.T), np.corrcoef(X_values.T))"
   ]
  },
  {
   "cell_type": "markdown",
   "id": "b3328178",
   "metadata": {},
   "source": [
    "## Calculate the Eigen values and Eigen Vectors of Covariance Matrix"
   ]
  },
  {
   "cell_type": "code",
   "execution_count": 43,
   "id": "7afffc71",
   "metadata": {
    "ExecuteTime": {
     "end_time": "2022-10-21T16:36:36.358611Z",
     "start_time": "2022-10-21T16:36:36.327582Z"
    }
   },
   "outputs": [],
   "source": [
    "w, v = np.linalg.eig(C)"
   ]
  },
  {
   "cell_type": "code",
   "execution_count": 49,
   "id": "8f3f11ea",
   "metadata": {
    "ExecuteTime": {
     "end_time": "2022-10-21T16:37:59.430360Z",
     "start_time": "2022-10-21T16:37:59.418563Z"
    }
   },
   "outputs": [
    {
     "data": {
      "text/plain": [
       "(30, 30)"
      ]
     },
     "execution_count": 49,
     "metadata": {},
     "output_type": "execute_result"
    }
   ],
   "source": [
    "v.shape"
   ]
  },
  {
   "cell_type": "markdown",
   "id": "9eb755b0",
   "metadata": {},
   "source": [
    "## Scree plot (with normalized values of eigen values)"
   ]
  },
  {
   "cell_type": "code",
   "execution_count": 50,
   "id": "93ae37f7",
   "metadata": {
    "ExecuteTime": {
     "end_time": "2022-10-21T16:39:29.280846Z",
     "start_time": "2022-10-21T16:39:29.261644Z"
    }
   },
   "outputs": [],
   "source": [
    "sum_of_eig_values = np.sum(w)"
   ]
  },
  {
   "cell_type": "code",
   "execution_count": 52,
   "id": "aab81d5c",
   "metadata": {
    "ExecuteTime": {
     "end_time": "2022-10-21T16:39:45.555779Z",
     "start_time": "2022-10-21T16:39:45.546294Z"
    }
   },
   "outputs": [],
   "source": [
    "w_norm = w / sum_of_eig_values"
   ]
  },
  {
   "cell_type": "code",
   "execution_count": 55,
   "id": "805b0ca4",
   "metadata": {
    "ExecuteTime": {
     "end_time": "2022-10-21T16:41:37.268664Z",
     "start_time": "2022-10-21T16:41:37.259118Z"
    }
   },
   "outputs": [],
   "source": [
    "explained_variance = np.cumsum(w_norm)"
   ]
  },
  {
   "cell_type": "code",
   "execution_count": 63,
   "id": "9660775f",
   "metadata": {
    "ExecuteTime": {
     "end_time": "2022-10-21T16:46:49.265872Z",
     "start_time": "2022-10-21T16:46:49.079195Z"
    }
   },
   "outputs": [
    {
     "data": {
      "image/png": "[encoded data removed]",
      "text/plain": [
       "<Figure size 720x576 with 1 Axes>"
      ]
     },
     "metadata": {
      "needs_background": "light"
     },
     "output_type": "display_data"
    }
   ],
   "source": [
    "plt.figure(figsize=(10,8))\n",
    "plt.plot(np.arange(1, len(w_norm)+1), w_norm, 'ro-', label='Normalized Eignevalues')\n",
    "plt.plot(np.arange(1, len(w_norm)+1), explained_variance, 'b*-', label='Explained Variance')\n",
    "plt.grid()\n",
    "plt.title(\"Scree Plot\", fontsize=16)\n",
    "plt.xlabel(\"Principal Components\", fontsize=12)\n",
    "plt.plot(np.arange(1, len(w_norm)+1), [0.9]*len(w_norm), linestyle='dashed', color='m')\n",
    "plt.legend()\n",
    "plt.show()"
   ]
  },
  {
   "cell_type": "markdown",
   "id": "1db965a1",
   "metadata": {},
   "source": [
    "## Select the number of components"
   ]
  },
  {
   "cell_type": "markdown",
   "id": "e0edf5dc",
   "metadata": {},
   "source": [
    "From the scree plot we can see that first 7 eigen values will explain more than 90% of the variance in the dataset."
   ]
  },
  {
   "cell_type": "markdown",
   "id": "05901eef",
   "metadata": {},
   "source": [
    "k = 7"
   ]
  },
  {
   "cell_type": "code",
   "execution_count": 70,
   "id": "68ac9b60",
   "metadata": {
    "ExecuteTime": {
     "end_time": "2022-10-21T16:50:16.584154Z",
     "start_time": "2022-10-21T16:50:16.574052Z"
    }
   },
   "outputs": [],
   "source": [
    "k = 7\n",
    "\n",
    "U = v[:,:k]"
   ]
  },
  {
   "cell_type": "code",
   "execution_count": 71,
   "id": "04051c1a",
   "metadata": {
    "ExecuteTime": {
     "end_time": "2022-10-21T16:50:17.498452Z",
     "start_time": "2022-10-21T16:50:17.483271Z"
    }
   },
   "outputs": [
    {
     "data": {
      "text/plain": [
       "(30, 7)"
      ]
     },
     "execution_count": 71,
     "metadata": {},
     "output_type": "execute_result"
    }
   ],
   "source": [
    "U.shape"
   ]
  },
  {
   "cell_type": "markdown",
   "id": "6dde2026",
   "metadata": {},
   "source": [
    "## Transform the dataset"
   ]
  },
  {
   "cell_type": "code",
   "execution_count": 72,
   "id": "a6865d48",
   "metadata": {
    "ExecuteTime": {
     "end_time": "2022-10-21T16:50:19.732216Z",
     "start_time": "2022-10-21T16:50:19.726121Z"
    }
   },
   "outputs": [],
   "source": [
    "X_transform = np.dot(X_std, U)"
   ]
  },
  {
   "cell_type": "code",
   "execution_count": 73,
   "id": "0ac2139a",
   "metadata": {
    "ExecuteTime": {
     "end_time": "2022-10-21T16:50:20.788438Z",
     "start_time": "2022-10-21T16:50:20.776064Z"
    }
   },
   "outputs": [
    {
     "data": {
      "text/plain": [
       "(569, 7)"
      ]
     },
     "execution_count": 73,
     "metadata": {},
     "output_type": "execute_result"
    }
   ],
   "source": [
    "X_transform.shape"
   ]
  },
  {
   "cell_type": "markdown",
   "id": "afe3fbd1",
   "metadata": {},
   "source": [
    "This X_transform we can use for further downstream tasks (classification)"
   ]
  },
  {
   "cell_type": "markdown",
   "id": "eb8fae49",
   "metadata": {},
   "source": [
    "## Visualize the data in 2D"
   ]
  },
  {
   "cell_type": "markdown",
   "id": "dcefa62a",
   "metadata": {},
   "source": [
    "We will take first two principal components and project the data along these two components"
   ]
  },
  {
   "cell_type": "code",
   "execution_count": 74,
   "id": "fa479b4f",
   "metadata": {
    "ExecuteTime": {
     "end_time": "2022-10-21T16:51:51.869302Z",
     "start_time": "2022-10-21T16:51:51.863175Z"
    }
   },
   "outputs": [],
   "source": [
    "X_tr_viz = np.dot(X_std, v[:,:2])"
   ]
  },
  {
   "cell_type": "code",
   "execution_count": 76,
   "id": "08655f33",
   "metadata": {
    "ExecuteTime": {
     "end_time": "2022-10-21T16:55:39.503057Z",
     "start_time": "2022-10-21T16:55:39.323941Z"
    }
   },
   "outputs": [
    {
     "data": {
      "image/png": "[encoded data removed]",
      "text/plain": [
       "<Figure size 720x720 with 1 Axes>"
      ]
     },
     "metadata": {
      "needs_background": "light"
     },
     "output_type": "display_data"
    }
   ],
   "source": [
    "plt.figure(figsize=(10,10))\n",
    "plt.scatter(X_tr_viz[:,0], X_tr_viz[:,1])\n",
    "plt.grid()\n",
    "plt.title(\"2D representation of Wisconsin Breast Cancer Dataset\", fontsize=14)\n",
    "plt.show()"
   ]
  },
  {
   "cell_type": "code",
   "execution_count": 77,
   "id": "fb90d0c6",
   "metadata": {
    "ExecuteTime": {
     "end_time": "2022-10-21T16:56:05.720438Z",
     "start_time": "2022-10-21T16:56:04.723389Z"
    }
   },
   "outputs": [],
   "source": [
    "import seaborn as sns"
   ]
  },
  {
   "cell_type": "code",
   "execution_count": 79,
   "id": "e0b1d6bf",
   "metadata": {
    "ExecuteTime": {
     "end_time": "2022-10-21T16:56:56.486333Z",
     "start_time": "2022-10-21T16:56:56.261107Z"
    }
   },
   "outputs": [
    {
     "data": {
      "image/png": "[encoded data removed]",
      "text/plain": [
       "<Figure size 720x720 with 1 Axes>"
      ]
     },
     "metadata": {
      "needs_background": "light"
     },
     "output_type": "display_data"
    }
   ],
   "source": [
    "plt.figure(figsize=(10,10))\n",
    "sns.scatterplot(x=X_tr_viz[:,0], y=X_tr_viz[:,1], hue=y_values)\n",
    "plt.grid()\n",
    "plt.title(\"2D representation of Wisconsin Breast Cancer Dataset\", fontsize=14)\n",
    "plt.show()"
   ]
  },
  {
   "cell_type": "code",
   "execution_count": null,
   "id": "c261a1e9",
   "metadata": {},
   "outputs": [],
   "source": []
  }
 ],
 "metadata": {
  "kernelspec": {
   "display_name": "Python 3 (ipykernel)",
   "language": "python",
   "name": "python3"
  },
  "language_info": {
   "codemirror_mode": {
    "name": "ipython",
    "version": 3
   },
   "file_extension": ".py",
   "mimetype": "text/x-python",
   "name": "python",
   "nbconvert_exporter": "python",
   "pygments_lexer": "ipython3",
   "version": "3.9.7"
  },
  "toc": {
   "base_numbering": 1,
   "nav_menu": {},
   "number_sections": true,
   "sideBar": true,
   "skip_h1_title": true,
   "title_cell": "Table of Contents",
   "title_sidebar": "Contents",
   "toc_cell": false,
   "toc_position": {},
   "toc_section_display": true,
   "toc_window_display": true
  }
 },
 "nbformat": 4,
 "nbformat_minor": 5
}
