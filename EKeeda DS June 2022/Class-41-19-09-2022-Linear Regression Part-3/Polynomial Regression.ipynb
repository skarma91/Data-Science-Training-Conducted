{
 "cells": [
  {
   "cell_type": "markdown",
   "id": "4e1b6a47",
   "metadata": {},
   "source": [
    "# Polynomial Regression\n",
    "\n",
    "Here we shall discuss how polynomial regression does better job in identifying true relationship among variables."
   ]
  },
  {
   "cell_type": "markdown",
   "id": "5cfd1921",
   "metadata": {},
   "source": [
    "## Data\n",
    "\n",
    "The data is a sample of height, weight, age and gender of peoples of Kung-San tribe in the Kalahari desert of Africa. "
   ]
  },
  {
   "cell_type": "code",
   "execution_count": 1,
   "id": "f84c01fa",
   "metadata": {
    "ExecuteTime": {
     "end_time": "2022-09-19T16:52:04.847939Z",
     "start_time": "2022-09-19T16:52:00.515740Z"
    }
   },
   "outputs": [],
   "source": [
    "import pandas as pd\n",
    "import numpy as np\n",
    "import matplotlib.pyplot as plt\n",
    "import seaborn as sns"
   ]
  },
  {
   "cell_type": "code",
   "execution_count": 2,
   "id": "d8233e06",
   "metadata": {
    "ExecuteTime": {
     "end_time": "2022-09-19T16:52:04.894307Z",
     "start_time": "2022-09-19T16:52:04.851365Z"
    }
   },
   "outputs": [],
   "source": [
    "data = pd.read_csv(\"./height_weight_kung_san_people.csv\", sep=',')"
   ]
  },
  {
   "cell_type": "code",
   "execution_count": 3,
   "id": "432362f2",
   "metadata": {
    "ExecuteTime": {
     "end_time": "2022-09-19T16:52:05.000802Z",
     "start_time": "2022-09-19T16:52:04.897307Z"
    }
   },
   "outputs": [
    {
     "data": {
      "text/html": [
       "<div>\n",
       "<style scoped>\n",
       "    .dataframe tbody tr th:only-of-type {\n",
       "        vertical-align: middle;\n",
       "    }\n",
       "\n",
       "    .dataframe tbody tr th {\n",
       "        vertical-align: top;\n",
       "    }\n",
       "\n",
       "    .dataframe thead th {\n",
       "        text-align: right;\n",
       "    }\n",
       "</style>\n",
       "<table border=\"1\" class=\"dataframe\">\n",
       "  <thead>\n",
       "    <tr style=\"text-align: right;\">\n",
       "      <th></th>\n",
       "      <th>height</th>\n",
       "      <th>weight</th>\n",
       "      <th>age</th>\n",
       "      <th>male</th>\n",
       "    </tr>\n",
       "  </thead>\n",
       "  <tbody>\n",
       "    <tr>\n",
       "      <th>0</th>\n",
       "      <td>151.765</td>\n",
       "      <td>47.825606</td>\n",
       "      <td>63.0</td>\n",
       "      <td>1</td>\n",
       "    </tr>\n",
       "    <tr>\n",
       "      <th>1</th>\n",
       "      <td>139.700</td>\n",
       "      <td>36.485807</td>\n",
       "      <td>63.0</td>\n",
       "      <td>0</td>\n",
       "    </tr>\n",
       "    <tr>\n",
       "      <th>2</th>\n",
       "      <td>136.525</td>\n",
       "      <td>31.864838</td>\n",
       "      <td>65.0</td>\n",
       "      <td>0</td>\n",
       "    </tr>\n",
       "    <tr>\n",
       "      <th>3</th>\n",
       "      <td>156.845</td>\n",
       "      <td>53.041914</td>\n",
       "      <td>41.0</td>\n",
       "      <td>1</td>\n",
       "    </tr>\n",
       "    <tr>\n",
       "      <th>4</th>\n",
       "      <td>145.415</td>\n",
       "      <td>41.276872</td>\n",
       "      <td>51.0</td>\n",
       "      <td>0</td>\n",
       "    </tr>\n",
       "  </tbody>\n",
       "</table>\n",
       "</div>"
      ],
      "text/plain": [
       "    height     weight   age  male\n",
       "0  151.765  47.825606  63.0     1\n",
       "1  139.700  36.485807  63.0     0\n",
       "2  136.525  31.864838  65.0     0\n",
       "3  156.845  53.041914  41.0     1\n",
       "4  145.415  41.276872  51.0     0"
      ]
     },
     "execution_count": 3,
     "metadata": {},
     "output_type": "execute_result"
    }
   ],
   "source": [
    "data.head()"
   ]
  },
  {
   "cell_type": "code",
   "execution_count": 4,
   "id": "68ac8a30",
   "metadata": {
    "ExecuteTime": {
     "end_time": "2022-09-19T16:52:05.016646Z",
     "start_time": "2022-09-19T16:52:05.003696Z"
    }
   },
   "outputs": [
    {
     "data": {
      "text/plain": [
       "(544, 4)"
      ]
     },
     "execution_count": 4,
     "metadata": {},
     "output_type": "execute_result"
    }
   ],
   "source": [
    "data.shape"
   ]
  },
  {
   "cell_type": "code",
   "execution_count": 5,
   "id": "05107d03",
   "metadata": {
    "ExecuteTime": {
     "end_time": "2022-09-19T16:52:05.047819Z",
     "start_time": "2022-09-19T16:52:05.017564Z"
    }
   },
   "outputs": [
    {
     "name": "stdout",
     "output_type": "stream",
     "text": [
      "<class 'pandas.core.frame.DataFrame'>\n",
      "RangeIndex: 544 entries, 0 to 543\n",
      "Data columns (total 4 columns):\n",
      " #   Column  Non-Null Count  Dtype  \n",
      "---  ------  --------------  -----  \n",
      " 0   height  544 non-null    float64\n",
      " 1   weight  544 non-null    float64\n",
      " 2   age     544 non-null    float64\n",
      " 3   male    544 non-null    int64  \n",
      "dtypes: float64(3), int64(1)\n",
      "memory usage: 17.1 KB\n"
     ]
    }
   ],
   "source": [
    "data.info()"
   ]
  },
  {
   "cell_type": "markdown",
   "id": "6f16a4bd",
   "metadata": {},
   "source": [
    "We shall try to find a relationship between the weight and height of Kung San people using this data.\n",
    "\n",
    "Here *weight* is our target variable."
   ]
  },
  {
   "cell_type": "markdown",
   "id": "aa73e147",
   "metadata": {},
   "source": [
    "## Plotting"
   ]
  },
  {
   "cell_type": "code",
   "execution_count": 6,
   "id": "2218fbc6",
   "metadata": {
    "ExecuteTime": {
     "end_time": "2022-09-19T16:52:05.480692Z",
     "start_time": "2022-09-19T16:52:05.050257Z"
    }
   },
   "outputs": [
    {
     "data": {
      "image/png": "[encoded data removed]",
      "text/plain": [
       "<Figure size 864x720 with 1 Axes>"
      ]
     },
     "metadata": {
      "needs_background": "light"
     },
     "output_type": "display_data"
    }
   ],
   "source": [
    "plt.figure(figsize=(12,10))\n",
    "sns.scatterplot(data=data, x='height', y='weight')\n",
    "plt.grid()\n",
    "#plt.legend()\n",
    "plt.title(\"Weight vs Height\", fontsize=16)\n",
    "plt.xlabel(\"Height\", fontsize=14)\n",
    "plt.ylabel(\"Weight\", fontsize=14)\n",
    "plt.show()"
   ]
  },
  {
   "cell_type": "markdown",
   "id": "78dc1271",
   "metadata": {},
   "source": [
    "## Polynomial Regression of order 1 (i.e. simple linear regression)\n",
    "\n",
    "i.e. we are trying fit the equation:\n",
    "\n",
    "$$ y = \\hat{\\theta}_0 + \\hat{\\theta}_1 x $$\n",
    "\n",
    "Where $x$ is *height* and $y$ is *weight*"
   ]
  },
  {
   "cell_type": "code",
   "execution_count": 7,
   "id": "6d07b26d",
   "metadata": {
    "ExecuteTime": {
     "end_time": "2022-09-19T16:52:06.195274Z",
     "start_time": "2022-09-19T16:52:05.486111Z"
    }
   },
   "outputs": [],
   "source": [
    "from sklearn.linear_model import LinearRegression"
   ]
  },
  {
   "cell_type": "markdown",
   "id": "2189d71c",
   "metadata": {},
   "source": [
    "### Fit the model"
   ]
  },
  {
   "cell_type": "code",
   "execution_count": 8,
   "id": "e4d04a3f",
   "metadata": {
    "ExecuteTime": {
     "end_time": "2022-09-19T16:52:06.210451Z",
     "start_time": "2022-09-19T16:52:06.198938Z"
    }
   },
   "outputs": [],
   "source": [
    "first_order_model = LinearRegression()"
   ]
  },
  {
   "cell_type": "code",
   "execution_count": 9,
   "id": "d1db9766",
   "metadata": {
    "ExecuteTime": {
     "end_time": "2022-09-19T16:52:06.304112Z",
     "start_time": "2022-09-19T16:52:06.215160Z"
    }
   },
   "outputs": [
    {
     "data": {
      "text/plain": [
       "LinearRegression()"
      ]
     },
     "execution_count": 9,
     "metadata": {},
     "output_type": "execute_result"
    }
   ],
   "source": [
    "first_order_model.fit(X=data['height'].values.reshape(-1,1), y=data['weight'].values)"
   ]
  },
  {
   "cell_type": "markdown",
   "id": "d27107ec",
   "metadata": {},
   "source": [
    "### Model parameters"
   ]
  },
  {
   "cell_type": "code",
   "execution_count": 10,
   "id": "c1163cf5",
   "metadata": {
    "ExecuteTime": {
     "end_time": "2022-09-19T16:52:06.335174Z",
     "start_time": "2022-09-19T16:52:06.313413Z"
    }
   },
   "outputs": [
    {
     "data": {
      "text/plain": [
       "-33.75613690832983"
      ]
     },
     "execution_count": 10,
     "metadata": {},
     "output_type": "execute_result"
    }
   ],
   "source": [
    "first_order_model.intercept_"
   ]
  },
  {
   "cell_type": "code",
   "execution_count": 11,
   "id": "42bdcc57",
   "metadata": {
    "ExecuteTime": {
     "end_time": "2022-09-19T16:52:06.351055Z",
     "start_time": "2022-09-19T16:52:06.339598Z"
    }
   },
   "outputs": [
    {
     "data": {
      "text/plain": [
       "array([0.50169934])"
      ]
     },
     "execution_count": 11,
     "metadata": {},
     "output_type": "execute_result"
    }
   ],
   "source": [
    "first_order_model.coef_"
   ]
  },
  {
   "cell_type": "markdown",
   "id": "29efbcfe",
   "metadata": {},
   "source": [
    "The model looks like:\n",
    "\n",
    "$$ \\hat{weight} = -33.756 + 0.502 \\times height$$"
   ]
  },
  {
   "cell_type": "markdown",
   "id": "758adcad",
   "metadata": {},
   "source": [
    "### The model output"
   ]
  },
  {
   "cell_type": "code",
   "execution_count": 12,
   "id": "a2b458bd",
   "metadata": {
    "ExecuteTime": {
     "end_time": "2022-09-19T16:52:06.367599Z",
     "start_time": "2022-09-19T16:52:06.354088Z"
    }
   },
   "outputs": [],
   "source": [
    "x_min = data['height'].min()\n",
    "x_max = data['height'].max()\n",
    "x_values = np.linspace(x_min, x_max, 100)\n",
    "y_values_first_order = first_order_model.predict(x_values.reshape(-1,1))"
   ]
  },
  {
   "cell_type": "code",
   "execution_count": 13,
   "id": "091a3436",
   "metadata": {
    "ExecuteTime": {
     "end_time": "2022-09-19T16:52:06.749519Z",
     "start_time": "2022-09-19T16:52:06.369603Z"
    }
   },
   "outputs": [
    {
     "data": {
      "image/png": "[encoded data removed]",
      "text/plain": [
       "<Figure size 864x720 with 1 Axes>"
      ]
     },
     "metadata": {
      "needs_background": "light"
     },
     "output_type": "display_data"
    }
   ],
   "source": [
    "plt.figure(figsize=(12,10))\n",
    "sns.scatterplot(data=data, x='height', y='weight')\n",
    "plt.plot(x_values, y_values_first_order, color='r', label='Regression Line')\n",
    "plt.legend()\n",
    "plt.grid()\n",
    "plt.title(\"Weight vs Height\", fontsize=16)\n",
    "plt.xlabel(\"Height\", fontsize=14)\n",
    "plt.ylabel(\"Weight\", fontsize=14)\n",
    "plt.show()"
   ]
  },
  {
   "cell_type": "markdown",
   "id": "cab3f6ff",
   "metadata": {},
   "source": [
    "As we can see from the above graph that the \"first order regression line\" doesn't fit well to the data.\n",
    "We can use higher order polynomials to describe the relationship."
   ]
  },
  {
   "cell_type": "markdown",
   "id": "16b42bda",
   "metadata": {},
   "source": [
    "### Calculate coefficient of determination"
   ]
  },
  {
   "cell_type": "code",
   "execution_count": 14,
   "id": "ac2d93b7",
   "metadata": {
    "ExecuteTime": {
     "end_time": "2022-09-19T16:52:06.765747Z",
     "start_time": "2022-09-19T16:52:06.753896Z"
    }
   },
   "outputs": [],
   "source": [
    "from sklearn.metrics import r2_score"
   ]
  },
  {
   "cell_type": "code",
   "execution_count": 15,
   "id": "ac87d68b",
   "metadata": {
    "ExecuteTime": {
     "end_time": "2022-09-19T16:52:06.796776Z",
     "start_time": "2022-09-19T16:52:06.771868Z"
    }
   },
   "outputs": [],
   "source": [
    "y_p_1 = first_order_model.predict(data['height'].values.reshape(-1,1))"
   ]
  },
  {
   "cell_type": "code",
   "execution_count": 38,
   "id": "6e163c25",
   "metadata": {
    "ExecuteTime": {
     "end_time": "2022-09-19T16:53:48.935632Z",
     "start_time": "2022-09-19T16:53:48.921449Z"
    }
   },
   "outputs": [
    {
     "name": "stdout",
     "output_type": "stream",
     "text": [
      "Coefficient of determination for first order polynomial: 0.8851464200503394\n"
     ]
    }
   ],
   "source": [
    "r2_1 = r2_score(y_true=data['weight'].values, y_pred=y_p_1)\n",
    "\n",
    "print(f\"Coefficient of determination for first order polynomial: {r2_1}\")"
   ]
  },
  {
   "cell_type": "markdown",
   "id": "301c2cb2",
   "metadata": {},
   "source": [
    "### Calculate adjusted R-squared"
   ]
  },
  {
   "cell_type": "code",
   "execution_count": 66,
   "id": "2271a67a",
   "metadata": {
    "ExecuteTime": {
     "end_time": "2022-09-19T16:59:23.072218Z",
     "start_time": "2022-09-19T16:59:23.051453Z"
    }
   },
   "outputs": [],
   "source": [
    "def adjusted_R_squared(m, k, r2):\n",
    "    return (1 - ((m-1)*(1-r2)/(m-k-1)))"
   ]
  },
  {
   "cell_type": "code",
   "execution_count": 67,
   "id": "d37f8e2d",
   "metadata": {
    "ExecuteTime": {
     "end_time": "2022-09-19T16:59:23.648589Z",
     "start_time": "2022-09-19T16:59:23.637493Z"
    }
   },
   "outputs": [],
   "source": [
    "m = len(data)\n",
    "k = 1"
   ]
  },
  {
   "cell_type": "code",
   "execution_count": 68,
   "id": "19fe08be",
   "metadata": {
    "ExecuteTime": {
     "end_time": "2022-09-19T16:59:24.210471Z",
     "start_time": "2022-09-19T16:59:24.197913Z"
    }
   },
   "outputs": [
    {
     "data": {
      "text/plain": [
       "0.8849345130762625"
      ]
     },
     "execution_count": 68,
     "metadata": {},
     "output_type": "execute_result"
    }
   ],
   "source": [
    "adjusted_R_squared(m, k, r2_1)"
   ]
  },
  {
   "cell_type": "markdown",
   "id": "0b646e02",
   "metadata": {},
   "source": [
    "## Second order Polynomial Regression\n",
    "\n",
    "\n",
    "i.e. we are trying fit the equation:\n",
    "\n",
    "$$ y = \\hat{\\theta}_0 + \\hat{\\theta}_1 x + \\hat{\\theta}_2 x^2 $$\n",
    "\n",
    "Where $x$ is *height* and $y$ is *weight*.\n",
    "\n",
    "So, in order to achieve that:\n",
    "\n",
    "- $x_1 = x$\n",
    "\n",
    "- $x_2 = x^2$\n",
    "\n",
    "Then the equation becomes\n",
    "\n",
    "$$ y = \\hat{\\theta}_0 + \\hat{\\theta}_1 x_1 + \\hat{\\theta}_2 x_2 $$\n",
    "\n",
    "Which can now be solved using Multiple Linear Regression"
   ]
  },
  {
   "cell_type": "markdown",
   "id": "98c6447b",
   "metadata": {},
   "source": [
    "### Prepare the data"
   ]
  },
  {
   "cell_type": "code",
   "execution_count": 17,
   "id": "57238648",
   "metadata": {
    "ExecuteTime": {
     "end_time": "2022-09-19T16:52:06.829769Z",
     "start_time": "2022-09-19T16:52:06.819847Z"
    }
   },
   "outputs": [],
   "source": [
    "x1 = data['height'].values\n",
    "x2 = np.square(x1)"
   ]
  },
  {
   "cell_type": "markdown",
   "id": "20fa7c94",
   "metadata": {},
   "source": [
    "$$ X = [x1, x2] $$"
   ]
  },
  {
   "cell_type": "code",
   "execution_count": 18,
   "id": "eba2dcde",
   "metadata": {
    "ExecuteTime": {
     "end_time": "2022-09-19T16:52:06.845519Z",
     "start_time": "2022-09-19T16:52:06.835909Z"
    }
   },
   "outputs": [],
   "source": [
    "X = np.hstack((x1.reshape(-1,1), x2.reshape(-1,1)))"
   ]
  },
  {
   "cell_type": "code",
   "execution_count": 19,
   "id": "3411cdd4",
   "metadata": {
    "ExecuteTime": {
     "end_time": "2022-09-19T16:52:06.885108Z",
     "start_time": "2022-09-19T16:52:06.852533Z"
    }
   },
   "outputs": [
    {
     "data": {
      "text/html": [
       "<div>\n",
       "<style scoped>\n",
       "    .dataframe tbody tr th:only-of-type {\n",
       "        vertical-align: middle;\n",
       "    }\n",
       "\n",
       "    .dataframe tbody tr th {\n",
       "        vertical-align: top;\n",
       "    }\n",
       "\n",
       "    .dataframe thead th {\n",
       "        text-align: right;\n",
       "    }\n",
       "</style>\n",
       "<table border=\"1\" class=\"dataframe\">\n",
       "  <thead>\n",
       "    <tr style=\"text-align: right;\">\n",
       "      <th></th>\n",
       "      <th>height</th>\n",
       "      <th>height_square</th>\n",
       "    </tr>\n",
       "  </thead>\n",
       "  <tbody>\n",
       "    <tr>\n",
       "      <th>0</th>\n",
       "      <td>151.765</td>\n",
       "      <td>23032.615225</td>\n",
       "    </tr>\n",
       "    <tr>\n",
       "      <th>1</th>\n",
       "      <td>139.700</td>\n",
       "      <td>19516.090000</td>\n",
       "    </tr>\n",
       "    <tr>\n",
       "      <th>2</th>\n",
       "      <td>136.525</td>\n",
       "      <td>18639.075625</td>\n",
       "    </tr>\n",
       "    <tr>\n",
       "      <th>3</th>\n",
       "      <td>156.845</td>\n",
       "      <td>24600.354025</td>\n",
       "    </tr>\n",
       "    <tr>\n",
       "      <th>4</th>\n",
       "      <td>145.415</td>\n",
       "      <td>21145.522225</td>\n",
       "    </tr>\n",
       "    <tr>\n",
       "      <th>...</th>\n",
       "      <td>...</td>\n",
       "      <td>...</td>\n",
       "    </tr>\n",
       "    <tr>\n",
       "      <th>539</th>\n",
       "      <td>145.415</td>\n",
       "      <td>21145.522225</td>\n",
       "    </tr>\n",
       "    <tr>\n",
       "      <th>540</th>\n",
       "      <td>162.560</td>\n",
       "      <td>26425.753600</td>\n",
       "    </tr>\n",
       "    <tr>\n",
       "      <th>541</th>\n",
       "      <td>156.210</td>\n",
       "      <td>24401.564100</td>\n",
       "    </tr>\n",
       "    <tr>\n",
       "      <th>542</th>\n",
       "      <td>71.120</td>\n",
       "      <td>5058.054400</td>\n",
       "    </tr>\n",
       "    <tr>\n",
       "      <th>543</th>\n",
       "      <td>158.750</td>\n",
       "      <td>25201.562500</td>\n",
       "    </tr>\n",
       "  </tbody>\n",
       "</table>\n",
       "<p>544 rows × 2 columns</p>\n",
       "</div>"
      ],
      "text/plain": [
       "      height  height_square\n",
       "0    151.765   23032.615225\n",
       "1    139.700   19516.090000\n",
       "2    136.525   18639.075625\n",
       "3    156.845   24600.354025\n",
       "4    145.415   21145.522225\n",
       "..       ...            ...\n",
       "539  145.415   21145.522225\n",
       "540  162.560   26425.753600\n",
       "541  156.210   24401.564100\n",
       "542   71.120    5058.054400\n",
       "543  158.750   25201.562500\n",
       "\n",
       "[544 rows x 2 columns]"
      ]
     },
     "execution_count": 19,
     "metadata": {},
     "output_type": "execute_result"
    }
   ],
   "source": [
    "pd.DataFrame(X, columns=['height', 'height_square'])"
   ]
  },
  {
   "cell_type": "markdown",
   "id": "d6bd1cba",
   "metadata": {},
   "source": [
    "### Standardization"
   ]
  },
  {
   "cell_type": "code",
   "execution_count": 20,
   "id": "d4c1722a",
   "metadata": {
    "ExecuteTime": {
     "end_time": "2022-09-19T16:52:06.900880Z",
     "start_time": "2022-09-19T16:52:06.889471Z"
    }
   },
   "outputs": [],
   "source": [
    "from sklearn.preprocessing import StandardScaler"
   ]
  },
  {
   "cell_type": "code",
   "execution_count": 21,
   "id": "4f8bf3b5",
   "metadata": {
    "ExecuteTime": {
     "end_time": "2022-09-19T16:52:06.909802Z",
     "start_time": "2022-09-19T16:52:06.904093Z"
    }
   },
   "outputs": [],
   "source": [
    "scaler = StandardScaler()"
   ]
  },
  {
   "cell_type": "code",
   "execution_count": 22,
   "id": "a44f36d3",
   "metadata": {
    "ExecuteTime": {
     "end_time": "2022-09-19T16:52:06.941785Z",
     "start_time": "2022-09-19T16:52:06.913829Z"
    }
   },
   "outputs": [
    {
     "data": {
      "text/plain": [
       "StandardScaler()"
      ]
     },
     "execution_count": 22,
     "metadata": {},
     "output_type": "execute_result"
    }
   ],
   "source": [
    "scaler.fit(X=X)"
   ]
  },
  {
   "cell_type": "code",
   "execution_count": 23,
   "id": "7ed990a0",
   "metadata": {
    "ExecuteTime": {
     "end_time": "2022-09-19T16:52:06.957643Z",
     "start_time": "2022-09-19T16:52:06.945825Z"
    }
   },
   "outputs": [],
   "source": [
    "X_std = scaler.transform(X)"
   ]
  },
  {
   "cell_type": "code",
   "execution_count": 24,
   "id": "623aab2c",
   "metadata": {
    "ExecuteTime": {
     "end_time": "2022-09-19T16:52:06.982063Z",
     "start_time": "2022-09-19T16:52:06.964385Z"
    }
   },
   "outputs": [
    {
     "data": {
      "text/plain": [
       "(-3.05647439422663, 1.4797224464253014)"
      ]
     },
     "execution_count": 24,
     "metadata": {},
     "output_type": "execute_result"
    }
   ],
   "source": [
    "X_std[:,0].min() , X_std[:,0].max()"
   ]
  },
  {
   "cell_type": "code",
   "execution_count": 25,
   "id": "0cc08b34",
   "metadata": {
    "ExecuteTime": {
     "end_time": "2022-09-19T16:52:06.997597Z",
     "start_time": "2022-09-19T16:52:06.985928Z"
    }
   },
   "outputs": [
    {
     "data": {
      "text/plain": [
       "(-2.5288189559873486, 1.8169717368547482)"
      ]
     },
     "execution_count": 25,
     "metadata": {},
     "output_type": "execute_result"
    }
   ],
   "source": [
    "X_std[:,1].min() , X_std[:,1].max()"
   ]
  },
  {
   "cell_type": "markdown",
   "id": "145a5f3f",
   "metadata": {},
   "source": [
    "### fit the model"
   ]
  },
  {
   "cell_type": "code",
   "execution_count": 26,
   "id": "d38716fc",
   "metadata": {
    "ExecuteTime": {
     "end_time": "2022-09-19T16:52:07.013360Z",
     "start_time": "2022-09-19T16:52:07.001017Z"
    }
   },
   "outputs": [],
   "source": [
    "second_order_model = LinearRegression()"
   ]
  },
  {
   "cell_type": "code",
   "execution_count": 27,
   "id": "37ccb1ab",
   "metadata": {
    "ExecuteTime": {
     "end_time": "2022-09-19T16:52:07.029014Z",
     "start_time": "2022-09-19T16:52:07.017340Z"
    }
   },
   "outputs": [
    {
     "data": {
      "text/plain": [
       "LinearRegression()"
      ]
     },
     "execution_count": 27,
     "metadata": {},
     "output_type": "execute_result"
    }
   ],
   "source": [
    "second_order_model.fit(X_std, y=data['weight'].values)"
   ]
  },
  {
   "cell_type": "markdown",
   "id": "0fdd1d80",
   "metadata": {},
   "source": [
    "### Model parameters"
   ]
  },
  {
   "cell_type": "code",
   "execution_count": 28,
   "id": "980fba7f",
   "metadata": {
    "ExecuteTime": {
     "end_time": "2022-09-19T16:52:07.052302Z",
     "start_time": "2022-09-19T16:52:07.036016Z"
    }
   },
   "outputs": [
    {
     "data": {
      "text/plain": [
       "35.610617592463214"
      ]
     },
     "execution_count": 28,
     "metadata": {},
     "output_type": "execute_result"
    }
   ],
   "source": [
    "second_order_model.intercept_"
   ]
  },
  {
   "cell_type": "code",
   "execution_count": 29,
   "id": "5bcb55f5",
   "metadata": {
    "ExecuteTime": {
     "end_time": "2022-09-19T16:52:07.076195Z",
     "start_time": "2022-09-19T16:52:07.055964Z"
    }
   },
   "outputs": [
    {
     "data": {
      "text/plain": [
       "array([-13.04264336,  27.05203396])"
      ]
     },
     "execution_count": 29,
     "metadata": {},
     "output_type": "execute_result"
    }
   ],
   "source": [
    "second_order_model.coef_"
   ]
  },
  {
   "cell_type": "markdown",
   "id": "d62b6797",
   "metadata": {},
   "source": [
    "The model looks like:\n",
    "\n",
    "$$\\hat{weight} = 35.611 + (-13.043) \\times height\\_std + (27.052) \\times height^{2}\\_std$$"
   ]
  },
  {
   "cell_type": "markdown",
   "id": "7ba12841",
   "metadata": {},
   "source": [
    "### Model output"
   ]
  },
  {
   "cell_type": "code",
   "execution_count": 30,
   "id": "7692d357",
   "metadata": {
    "ExecuteTime": {
     "end_time": "2022-09-19T16:52:07.091779Z",
     "start_time": "2022-09-19T16:52:07.078197Z"
    }
   },
   "outputs": [],
   "source": [
    "x_min = data['height'].min()\n",
    "x_max = data['height'].max()\n",
    "in_between_values = np.linspace(x_min, x_max, 100)"
   ]
  },
  {
   "cell_type": "code",
   "execution_count": 31,
   "id": "dc0bec51",
   "metadata": {
    "ExecuteTime": {
     "end_time": "2022-09-19T16:52:07.101895Z",
     "start_time": "2022-09-19T16:52:07.092782Z"
    }
   },
   "outputs": [],
   "source": [
    "x_values = np.hstack((in_between_values.reshape(-1,1), np.square(in_between_values).reshape(-1,1)))"
   ]
  },
  {
   "cell_type": "code",
   "execution_count": 32,
   "id": "09547a25",
   "metadata": {
    "ExecuteTime": {
     "end_time": "2022-09-19T16:52:11.804051Z",
     "start_time": "2022-09-19T16:52:11.798779Z"
    }
   },
   "outputs": [],
   "source": [
    "x_values_std = scaler.transform(x_values)"
   ]
  },
  {
   "cell_type": "code",
   "execution_count": 33,
   "id": "2455d0eb",
   "metadata": {
    "ExecuteTime": {
     "end_time": "2022-09-19T16:52:12.150735Z",
     "start_time": "2022-09-19T16:52:12.129571Z"
    }
   },
   "outputs": [],
   "source": [
    "y_values_second_order = second_order_model.predict(x_values_std)"
   ]
  },
  {
   "cell_type": "code",
   "execution_count": 34,
   "id": "c3da936b",
   "metadata": {
    "ExecuteTime": {
     "end_time": "2022-09-19T16:52:13.207841Z",
     "start_time": "2022-09-19T16:52:12.659839Z"
    }
   },
   "outputs": [
    {
     "data": {
      "image/png": "[encoded data removed]",
      "text/plain": [
       "<Figure size 864x720 with 1 Axes>"
      ]
     },
     "metadata": {
      "needs_background": "light"
     },
     "output_type": "display_data"
    }
   ],
   "source": [
    "plt.figure(figsize=(12,10))\n",
    "sns.scatterplot(data=data, x='height', y='weight')\n",
    "plt.plot(in_between_values, y_values_first_order, 'g--', label='First order Polynomial')\n",
    "plt.plot(in_between_values, y_values_second_order, color='r', label='Second order Polynomial')\n",
    "plt.legend()\n",
    "plt.grid()\n",
    "plt.title(\"Weight vs Height\", fontsize=16)\n",
    "plt.xlabel(\"Height\", fontsize=14)\n",
    "plt.ylabel(\"Weight\", fontsize=14)\n",
    "plt.show()"
   ]
  },
  {
   "cell_type": "markdown",
   "id": "17ba77e3",
   "metadata": {},
   "source": [
    "### Calculate coefficient of determination"
   ]
  },
  {
   "cell_type": "code",
   "execution_count": 36,
   "id": "d201f588",
   "metadata": {
    "ExecuteTime": {
     "end_time": "2022-09-19T16:52:41.154945Z",
     "start_time": "2022-09-19T16:52:41.144066Z"
    }
   },
   "outputs": [],
   "source": [
    "y_p_2 = second_order_model.predict(X_std)"
   ]
  },
  {
   "cell_type": "code",
   "execution_count": 39,
   "id": "9d5c1fbe",
   "metadata": {
    "ExecuteTime": {
     "end_time": "2022-09-19T16:54:21.574899Z",
     "start_time": "2022-09-19T16:54:21.567581Z"
    }
   },
   "outputs": [
    {
     "name": "stdout",
     "output_type": "stream",
     "text": [
      "Coefficient of determination for second order polynomial: 0.9285373880898893\n"
     ]
    }
   ],
   "source": [
    "r2_2 = r2_score(y_true=data['weight'].values, y_pred=y_p_2)\n",
    "\n",
    "print(f\"Coefficient of determination for second order polynomial: {r2_2}\")"
   ]
  },
  {
   "cell_type": "code",
   "execution_count": 70,
   "id": "19b792f2",
   "metadata": {
    "ExecuteTime": {
     "end_time": "2022-09-19T17:00:13.831743Z",
     "start_time": "2022-09-19T17:00:13.818289Z"
    }
   },
   "outputs": [
    {
     "data": {
      "text/plain": [
       "0.9282732009848611"
      ]
     },
     "execution_count": 70,
     "metadata": {},
     "output_type": "execute_result"
    }
   ],
   "source": [
    "adjusted_R_squared(m, k=2, r2=r2_2)"
   ]
  },
  {
   "cell_type": "markdown",
   "id": "d59e90be",
   "metadata": {},
   "source": [
    "## Third order polynomial"
   ]
  },
  {
   "cell_type": "markdown",
   "id": "7cb24fc8",
   "metadata": {},
   "source": [
    "i.e. we are trying fit the equation:\n",
    "\n",
    "$$ y = \\hat{\\theta}_0 + \\hat{\\theta}_1 x + \\hat{\\theta}_2 x^2 + \\hat{\\theta}_3 x^3 $$\n",
    "\n",
    "Where $x$ is *height* and $y$ is *weight*.\n",
    "\n",
    "So, in order to achieve that:\n",
    "\n",
    "- $x_1 = x$\n",
    "\n",
    "- $x_2 = x^2$\n",
    "\n",
    "- $x_3 = x^3$\n",
    "\n",
    "Then the equation becomes\n",
    "\n",
    "$$ y = \\hat{\\theta}_0 + \\hat{\\theta}_1 x_1 + \\hat{\\theta}_2 x_2 + \\hat{\\theta}_3 x_3 $$\n",
    "\n",
    "Which can now be solved using Multiple Linear Regression"
   ]
  },
  {
   "cell_type": "markdown",
   "id": "1bddad21",
   "metadata": {},
   "source": [
    "### Prepare the data"
   ]
  },
  {
   "cell_type": "code",
   "execution_count": 40,
   "id": "505dc929",
   "metadata": {
    "ExecuteTime": {
     "end_time": "2022-09-19T16:54:28.001651Z",
     "start_time": "2022-09-19T16:54:27.990351Z"
    }
   },
   "outputs": [],
   "source": [
    "x1 = data['height'].values\n",
    "x2 = np.square(x1)\n",
    "x3 = np.power(x1, 3)"
   ]
  },
  {
   "cell_type": "markdown",
   "id": "440014fc",
   "metadata": {},
   "source": [
    "$$X = [x1, x2, x3] $$"
   ]
  },
  {
   "cell_type": "code",
   "execution_count": 41,
   "id": "74d879c6",
   "metadata": {
    "ExecuteTime": {
     "end_time": "2022-09-19T16:54:28.731455Z",
     "start_time": "2022-09-19T16:54:28.720252Z"
    }
   },
   "outputs": [],
   "source": [
    "X = np.hstack((x1.reshape(-1,1), x2.reshape(-1,1), x3.reshape(-1,1)))"
   ]
  },
  {
   "cell_type": "code",
   "execution_count": 42,
   "id": "3c4847c7",
   "metadata": {
    "ExecuteTime": {
     "end_time": "2022-09-19T16:54:29.102992Z",
     "start_time": "2022-09-19T16:54:29.077469Z"
    }
   },
   "outputs": [
    {
     "data": {
      "text/html": [
       "<div>\n",
       "<style scoped>\n",
       "    .dataframe tbody tr th:only-of-type {\n",
       "        vertical-align: middle;\n",
       "    }\n",
       "\n",
       "    .dataframe tbody tr th {\n",
       "        vertical-align: top;\n",
       "    }\n",
       "\n",
       "    .dataframe thead th {\n",
       "        text-align: right;\n",
       "    }\n",
       "</style>\n",
       "<table border=\"1\" class=\"dataframe\">\n",
       "  <thead>\n",
       "    <tr style=\"text-align: right;\">\n",
       "      <th></th>\n",
       "      <th>height</th>\n",
       "      <th>height_square</th>\n",
       "      <th>height_cube</th>\n",
       "    </tr>\n",
       "  </thead>\n",
       "  <tbody>\n",
       "    <tr>\n",
       "      <th>0</th>\n",
       "      <td>151.765</td>\n",
       "      <td>23032.615225</td>\n",
       "      <td>3.495545e+06</td>\n",
       "    </tr>\n",
       "    <tr>\n",
       "      <th>1</th>\n",
       "      <td>139.700</td>\n",
       "      <td>19516.090000</td>\n",
       "      <td>2.726398e+06</td>\n",
       "    </tr>\n",
       "    <tr>\n",
       "      <th>2</th>\n",
       "      <td>136.525</td>\n",
       "      <td>18639.075625</td>\n",
       "      <td>2.544700e+06</td>\n",
       "    </tr>\n",
       "    <tr>\n",
       "      <th>3</th>\n",
       "      <td>156.845</td>\n",
       "      <td>24600.354025</td>\n",
       "      <td>3.858443e+06</td>\n",
       "    </tr>\n",
       "    <tr>\n",
       "      <th>4</th>\n",
       "      <td>145.415</td>\n",
       "      <td>21145.522225</td>\n",
       "      <td>3.074876e+06</td>\n",
       "    </tr>\n",
       "    <tr>\n",
       "      <th>...</th>\n",
       "      <td>...</td>\n",
       "      <td>...</td>\n",
       "      <td>...</td>\n",
       "    </tr>\n",
       "    <tr>\n",
       "      <th>539</th>\n",
       "      <td>145.415</td>\n",
       "      <td>21145.522225</td>\n",
       "      <td>3.074876e+06</td>\n",
       "    </tr>\n",
       "    <tr>\n",
       "      <th>540</th>\n",
       "      <td>162.560</td>\n",
       "      <td>26425.753600</td>\n",
       "      <td>4.295771e+06</td>\n",
       "    </tr>\n",
       "    <tr>\n",
       "      <th>541</th>\n",
       "      <td>156.210</td>\n",
       "      <td>24401.564100</td>\n",
       "      <td>3.811768e+06</td>\n",
       "    </tr>\n",
       "    <tr>\n",
       "      <th>542</th>\n",
       "      <td>71.120</td>\n",
       "      <td>5058.054400</td>\n",
       "      <td>3.597288e+05</td>\n",
       "    </tr>\n",
       "    <tr>\n",
       "      <th>543</th>\n",
       "      <td>158.750</td>\n",
       "      <td>25201.562500</td>\n",
       "      <td>4.000748e+06</td>\n",
       "    </tr>\n",
       "  </tbody>\n",
       "</table>\n",
       "<p>544 rows × 3 columns</p>\n",
       "</div>"
      ],
      "text/plain": [
       "      height  height_square   height_cube\n",
       "0    151.765   23032.615225  3.495545e+06\n",
       "1    139.700   19516.090000  2.726398e+06\n",
       "2    136.525   18639.075625  2.544700e+06\n",
       "3    156.845   24600.354025  3.858443e+06\n",
       "4    145.415   21145.522225  3.074876e+06\n",
       "..       ...            ...           ...\n",
       "539  145.415   21145.522225  3.074876e+06\n",
       "540  162.560   26425.753600  4.295771e+06\n",
       "541  156.210   24401.564100  3.811768e+06\n",
       "542   71.120    5058.054400  3.597288e+05\n",
       "543  158.750   25201.562500  4.000748e+06\n",
       "\n",
       "[544 rows x 3 columns]"
      ]
     },
     "execution_count": 42,
     "metadata": {},
     "output_type": "execute_result"
    }
   ],
   "source": [
    "pd.DataFrame(X, columns=['height', 'height_square', 'height_cube'])"
   ]
  },
  {
   "cell_type": "markdown",
   "id": "fa780d9a",
   "metadata": {},
   "source": [
    "### Standardization"
   ]
  },
  {
   "cell_type": "code",
   "execution_count": 43,
   "id": "5646babe",
   "metadata": {
    "ExecuteTime": {
     "end_time": "2022-09-19T16:54:29.972623Z",
     "start_time": "2022-09-19T16:54:29.967150Z"
    }
   },
   "outputs": [],
   "source": [
    "scaler = StandardScaler()"
   ]
  },
  {
   "cell_type": "code",
   "execution_count": 44,
   "id": "9e587ffb",
   "metadata": {
    "ExecuteTime": {
     "end_time": "2022-09-19T16:54:30.253289Z",
     "start_time": "2022-09-19T16:54:30.236266Z"
    }
   },
   "outputs": [
    {
     "data": {
      "text/plain": [
       "StandardScaler()"
      ]
     },
     "execution_count": 44,
     "metadata": {},
     "output_type": "execute_result"
    }
   ],
   "source": [
    "scaler.fit(X)"
   ]
  },
  {
   "cell_type": "code",
   "execution_count": 45,
   "id": "066b7659",
   "metadata": {
    "ExecuteTime": {
     "end_time": "2022-09-19T16:54:30.487461Z",
     "start_time": "2022-09-19T16:54:30.477377Z"
    }
   },
   "outputs": [],
   "source": [
    "X_std = scaler.transform(X)"
   ]
  },
  {
   "cell_type": "code",
   "execution_count": 46,
   "id": "48047eb1",
   "metadata": {
    "ExecuteTime": {
     "end_time": "2022-09-19T16:54:30.767291Z",
     "start_time": "2022-09-19T16:54:30.728419Z"
    }
   },
   "outputs": [
    {
     "data": {
      "text/html": [
       "<div>\n",
       "<style scoped>\n",
       "    .dataframe tbody tr th:only-of-type {\n",
       "        vertical-align: middle;\n",
       "    }\n",
       "\n",
       "    .dataframe tbody tr th {\n",
       "        vertical-align: top;\n",
       "    }\n",
       "\n",
       "    .dataframe thead th {\n",
       "        text-align: right;\n",
       "    }\n",
       "</style>\n",
       "<table border=\"1\" class=\"dataframe\">\n",
       "  <thead>\n",
       "    <tr style=\"text-align: right;\">\n",
       "      <th></th>\n",
       "      <th>height</th>\n",
       "      <th>height_square_std</th>\n",
       "      <th>height_cube_std</th>\n",
       "    </tr>\n",
       "  </thead>\n",
       "  <tbody>\n",
       "    <tr>\n",
       "      <th>0</th>\n",
       "      <td>0.489588</td>\n",
       "      <td>0.470359</td>\n",
       "      <td>0.437671</td>\n",
       "    </tr>\n",
       "    <tr>\n",
       "      <th>1</th>\n",
       "      <td>0.052087</td>\n",
       "      <td>-0.053848</td>\n",
       "      <td>-0.159800</td>\n",
       "    </tr>\n",
       "    <tr>\n",
       "      <th>2</th>\n",
       "      <td>-0.063045</td>\n",
       "      <td>-0.184584</td>\n",
       "      <td>-0.300942</td>\n",
       "    </tr>\n",
       "    <tr>\n",
       "      <th>3</th>\n",
       "      <td>0.673799</td>\n",
       "      <td>0.704061</td>\n",
       "      <td>0.719568</td>\n",
       "    </tr>\n",
       "    <tr>\n",
       "      <th>4</th>\n",
       "      <td>0.259324</td>\n",
       "      <td>0.189051</td>\n",
       "      <td>0.110897</td>\n",
       "    </tr>\n",
       "    <tr>\n",
       "      <th>...</th>\n",
       "      <td>...</td>\n",
       "      <td>...</td>\n",
       "      <td>...</td>\n",
       "    </tr>\n",
       "    <tr>\n",
       "      <th>539</th>\n",
       "      <td>0.259324</td>\n",
       "      <td>0.189051</td>\n",
       "      <td>0.110897</td>\n",
       "    </tr>\n",
       "    <tr>\n",
       "      <th>540</th>\n",
       "      <td>0.881037</td>\n",
       "      <td>0.976173</td>\n",
       "      <td>1.059283</td>\n",
       "    </tr>\n",
       "    <tr>\n",
       "      <th>541</th>\n",
       "      <td>0.650773</td>\n",
       "      <td>0.674428</td>\n",
       "      <td>0.683312</td>\n",
       "    </tr>\n",
       "    <tr>\n",
       "      <th>542</th>\n",
       "      <td>-2.434762</td>\n",
       "      <td>-2.209101</td>\n",
       "      <td>-1.998219</td>\n",
       "    </tr>\n",
       "    <tr>\n",
       "      <th>543</th>\n",
       "      <td>0.742878</td>\n",
       "      <td>0.793683</td>\n",
       "      <td>0.830111</td>\n",
       "    </tr>\n",
       "  </tbody>\n",
       "</table>\n",
       "<p>544 rows × 3 columns</p>\n",
       "</div>"
      ],
      "text/plain": [
       "       height  height_square_std  height_cube_std\n",
       "0    0.489588           0.470359         0.437671\n",
       "1    0.052087          -0.053848        -0.159800\n",
       "2   -0.063045          -0.184584        -0.300942\n",
       "3    0.673799           0.704061         0.719568\n",
       "4    0.259324           0.189051         0.110897\n",
       "..        ...                ...              ...\n",
       "539  0.259324           0.189051         0.110897\n",
       "540  0.881037           0.976173         1.059283\n",
       "541  0.650773           0.674428         0.683312\n",
       "542 -2.434762          -2.209101        -1.998219\n",
       "543  0.742878           0.793683         0.830111\n",
       "\n",
       "[544 rows x 3 columns]"
      ]
     },
     "execution_count": 46,
     "metadata": {},
     "output_type": "execute_result"
    }
   ],
   "source": [
    "pd.DataFrame(X_std, columns=['height', 'height_square_std', 'height_cube_std'])"
   ]
  },
  {
   "cell_type": "markdown",
   "id": "00761c47",
   "metadata": {},
   "source": [
    "### fit the model"
   ]
  },
  {
   "cell_type": "code",
   "execution_count": 47,
   "id": "5d762cd0",
   "metadata": {
    "ExecuteTime": {
     "end_time": "2022-09-19T16:54:31.127873Z",
     "start_time": "2022-09-19T16:54:31.120540Z"
    }
   },
   "outputs": [],
   "source": [
    "third_order_model = LinearRegression()"
   ]
  },
  {
   "cell_type": "code",
   "execution_count": 48,
   "id": "fe742b2a",
   "metadata": {
    "ExecuteTime": {
     "end_time": "2022-09-19T16:54:31.322894Z",
     "start_time": "2022-09-19T16:54:31.306485Z"
    }
   },
   "outputs": [
    {
     "data": {
      "text/plain": [
       "LinearRegression()"
      ]
     },
     "execution_count": 48,
     "metadata": {},
     "output_type": "execute_result"
    }
   ],
   "source": [
    "third_order_model.fit(X_std, y = data['weight'].values)"
   ]
  },
  {
   "cell_type": "markdown",
   "id": "eda60e53",
   "metadata": {},
   "source": [
    "### Model parameters"
   ]
  },
  {
   "cell_type": "code",
   "execution_count": 49,
   "id": "acd8b401",
   "metadata": {
    "ExecuteTime": {
     "end_time": "2022-09-19T16:54:31.932029Z",
     "start_time": "2022-09-19T16:54:31.923117Z"
    }
   },
   "outputs": [
    {
     "data": {
      "text/plain": [
       "35.61061759246321"
      ]
     },
     "execution_count": 49,
     "metadata": {},
     "output_type": "execute_result"
    }
   ],
   "source": [
    "third_order_model.intercept_"
   ]
  },
  {
   "cell_type": "code",
   "execution_count": 50,
   "id": "a7654f3c",
   "metadata": {
    "ExecuteTime": {
     "end_time": "2022-09-19T16:54:32.310909Z",
     "start_time": "2022-09-19T16:54:32.291736Z"
    }
   },
   "outputs": [
    {
     "data": {
      "text/plain": [
       "array([-25.68210297,  54.17561278, -14.63828595])"
      ]
     },
     "execution_count": 50,
     "metadata": {},
     "output_type": "execute_result"
    }
   ],
   "source": [
    "third_order_model.coef_"
   ]
  },
  {
   "cell_type": "markdown",
   "id": "b14c63c9",
   "metadata": {},
   "source": [
    "So the model looks like:\n",
    "\n",
    "$$\\hat{weight} = 35.61 + (-25.68) \\times height_{std} + (54.18) \\times height^2_{std} + (-14.64) \\times height^3_{std}$$"
   ]
  },
  {
   "cell_type": "markdown",
   "id": "d7331796",
   "metadata": {},
   "source": [
    "### Model output"
   ]
  },
  {
   "cell_type": "code",
   "execution_count": 51,
   "id": "e7c99609",
   "metadata": {
    "ExecuteTime": {
     "end_time": "2022-09-19T16:54:33.502424Z",
     "start_time": "2022-09-19T16:54:33.494494Z"
    }
   },
   "outputs": [],
   "source": [
    "x_min = data['height'].min()\n",
    "x_max = data['height'].max()\n",
    "in_between_values = np.linspace(x_min, x_max, 100)"
   ]
  },
  {
   "cell_type": "code",
   "execution_count": 52,
   "id": "057e1250",
   "metadata": {
    "ExecuteTime": {
     "end_time": "2022-09-19T16:54:34.810834Z",
     "start_time": "2022-09-19T16:54:34.791381Z"
    }
   },
   "outputs": [],
   "source": [
    "square_values = np.square(in_between_values)\n",
    "cube_values = np.power(in_between_values, 3)"
   ]
  },
  {
   "cell_type": "code",
   "execution_count": 53,
   "id": "5545bcda",
   "metadata": {
    "ExecuteTime": {
     "end_time": "2022-09-19T16:54:35.351674Z",
     "start_time": "2022-09-19T16:54:35.341336Z"
    }
   },
   "outputs": [],
   "source": [
    "x_values = np.hstack((in_between_values.reshape(-1,1), square_values.reshape(-1,1), cube_values.reshape(-1,1)))"
   ]
  },
  {
   "cell_type": "code",
   "execution_count": 54,
   "id": "5c6106c7",
   "metadata": {
    "ExecuteTime": {
     "end_time": "2022-09-19T16:54:35.829370Z",
     "start_time": "2022-09-19T16:54:35.819373Z"
    }
   },
   "outputs": [],
   "source": [
    "x_values_std = scaler.transform(x_values)"
   ]
  },
  {
   "cell_type": "code",
   "execution_count": 55,
   "id": "878cb6ca",
   "metadata": {
    "ExecuteTime": {
     "end_time": "2022-09-19T16:54:37.119549Z",
     "start_time": "2022-09-19T16:54:37.110451Z"
    }
   },
   "outputs": [],
   "source": [
    "y_values_third_order = third_order_model.predict(x_values_std)"
   ]
  },
  {
   "cell_type": "code",
   "execution_count": 56,
   "id": "69b2a60a",
   "metadata": {
    "ExecuteTime": {
     "end_time": "2022-09-19T16:54:46.680520Z",
     "start_time": "2022-09-19T16:54:45.970236Z"
    }
   },
   "outputs": [
    {
     "data": {
      "image/png": "[encoded data removed]",
      "text/plain": [
       "<Figure size 864x720 with 1 Axes>"
      ]
     },
     "metadata": {
      "needs_background": "light"
     },
     "output_type": "display_data"
    }
   ],
   "source": [
    "plt.figure(figsize=(12,10))\n",
    "sns.scatterplot(data=data, x='height', y='weight')\n",
    "plt.plot(in_between_values, y_values_first_order, 'y--', label='First order Polynomial')\n",
    "plt.plot(in_between_values, y_values_second_order, 'g--', label='Second order Polynomial')\n",
    "plt.plot(in_between_values, y_values_third_order, color='r', label='Third order Polynomial')\n",
    "plt.legend()\n",
    "plt.grid()\n",
    "plt.title(\"Weight vs Height\", fontsize=16)\n",
    "plt.xlabel(\"Height\", fontsize=14)\n",
    "plt.ylabel(\"Weight\", fontsize=14)\n",
    "plt.show()"
   ]
  },
  {
   "cell_type": "markdown",
   "id": "0269c0a5",
   "metadata": {},
   "source": [
    "### Calculate coefficient of determination"
   ]
  },
  {
   "cell_type": "code",
   "execution_count": 57,
   "id": "0cae4bc9",
   "metadata": {
    "ExecuteTime": {
     "end_time": "2022-09-19T16:55:35.063223Z",
     "start_time": "2022-09-19T16:55:35.056310Z"
    }
   },
   "outputs": [],
   "source": [
    "y_p_3 = third_order_model.predict(X_std)"
   ]
  },
  {
   "cell_type": "code",
   "execution_count": 58,
   "id": "fed3bc16",
   "metadata": {
    "ExecuteTime": {
     "end_time": "2022-09-19T16:55:58.319584Z",
     "start_time": "2022-09-19T16:55:58.304453Z"
    }
   },
   "outputs": [
    {
     "name": "stdout",
     "output_type": "stream",
     "text": [
      "Coefficient of determination for second order polynomial: 0.9289058038853012\n"
     ]
    }
   ],
   "source": [
    "r2_3 = r2_score(y_true=data['weight'].values, y_pred=y_p_3)\n",
    "\n",
    "print(f\"Coefficient of determination for second order polynomial: {r2_3}\")"
   ]
  },
  {
   "cell_type": "code",
   "execution_count": 71,
   "id": "43715823",
   "metadata": {
    "ExecuteTime": {
     "end_time": "2022-09-19T17:00:42.121795Z",
     "start_time": "2022-09-19T17:00:42.102559Z"
    }
   },
   "outputs": [
    {
     "data": {
      "text/plain": [
       "0.9285108361291085"
      ]
     },
     "execution_count": 71,
     "metadata": {},
     "output_type": "execute_result"
    }
   ],
   "source": [
    "adjusted_R_squared(m, k=3, r2=r2_3)"
   ]
  },
  {
   "cell_type": "markdown",
   "id": "d2ef426c",
   "metadata": {},
   "source": [
    "## Observations\n",
    "\n",
    "- The first order polynomial doesn't decribe the data well.\n",
    "\n",
    "- The second order polynomial does a good job in describing the data.\n",
    "\n",
    "- The third order polynomial is as good as second order polynomial in terms of fiiting the data. \n",
    "\n",
    "So we shall restrict ourselves to second order polynomial for this particular dataset."
   ]
  },
  {
   "cell_type": "code",
   "execution_count": null,
   "id": "c28d545b",
   "metadata": {},
   "outputs": [],
   "source": []
  }
 ],
 "metadata": {
  "kernelspec": {
   "display_name": "Python 3 (ipykernel)",
   "language": "python",
   "name": "python3"
  },
  "language_info": {
   "codemirror_mode": {
    "name": "ipython",
    "version": 3
   },
   "file_extension": ".py",
   "mimetype": "text/x-python",
   "name": "python",
   "nbconvert_exporter": "python",
   "pygments_lexer": "ipython3",
   "version": "3.9.7"
  },
  "toc": {
   "base_numbering": 1,
   "nav_menu": {},
   "number_sections": true,
   "sideBar": true,
   "skip_h1_title": true,
   "title_cell": "Table of Contents",
   "title_sidebar": "Contents",
   "toc_cell": false,
   "toc_position": {
    "height": "calc(100% - 180px)",
    "left": "10px",
    "top": "150px",
    "width": "304.475px"
   },
   "toc_section_display": true,
   "toc_window_display": true
  }
 },
 "nbformat": 4,
 "nbformat_minor": 5
}
