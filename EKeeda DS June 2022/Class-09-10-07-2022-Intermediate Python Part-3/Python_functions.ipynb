{
 "cells": [
  {
   "cell_type": "markdown",
   "id": "0c3efe7f",
   "metadata": {},
   "source": [
    "## Functions in python\n",
    "\n",
    "```python\n",
    "\n",
    "def add_numbers(a, b):\n",
    "    c = a+b\n",
    "    return c\n",
    "```"
   ]
  },
  {
   "cell_type": "code",
   "execution_count": 1,
   "id": "9bba7a70",
   "metadata": {},
   "outputs": [],
   "source": [
    "def add_numbers(a, b):\n",
    "    \n",
    "    c = a+b\n",
    "    \n",
    "    return c"
   ]
  },
  {
   "cell_type": "code",
   "execution_count": 2,
   "id": "79e76f87",
   "metadata": {},
   "outputs": [
    {
     "data": {
      "text/plain": [
       "9"
      ]
     },
     "execution_count": 2,
     "metadata": {},
     "output_type": "execute_result"
    }
   ],
   "source": [
    "add_numbers(3, 6)"
   ]
  },
  {
   "cell_type": "markdown",
   "id": "07bbe634",
   "metadata": {},
   "source": [
    "### Write a function that will take a list and will sort its value in ascending order"
   ]
  },
  {
   "cell_type": "code",
   "execution_count": 3,
   "id": "a29b32fa",
   "metadata": {},
   "outputs": [],
   "source": [
    "def my_sort(my_list):\n",
    "    \n",
    "    n = len(my_list)\n",
    "    for i in range(n-1):\n",
    "        for j in range(n-i-1):\n",
    "            if my_list[j] > my_list[j+1]:\n",
    "                temp = my_list[j]\n",
    "                my_list[j] = my_list[j+1]\n",
    "                my_list[j+1] = temp\n",
    "                \n",
    "    return my_list"
   ]
  },
  {
   "cell_type": "code",
   "execution_count": 4,
   "id": "cd7d56b5",
   "metadata": {},
   "outputs": [
    {
     "data": {
      "text/plain": [
       "[-5, -3, 2, 12, 34]"
      ]
     },
     "execution_count": 4,
     "metadata": {},
     "output_type": "execute_result"
    }
   ],
   "source": [
    "my_sort([-3, 12, -5, 34, 2])"
   ]
  },
  {
   "cell_type": "code",
   "execution_count": 5,
   "id": "2b85b0d4",
   "metadata": {},
   "outputs": [
    {
     "data": {
      "text/plain": [
       "11"
      ]
     },
     "execution_count": 5,
     "metadata": {},
     "output_type": "execute_result"
    }
   ],
   "source": [
    "max([9, 2, 7, 11])"
   ]
  },
  {
   "cell_type": "code",
   "execution_count": 6,
   "id": "480f09b3",
   "metadata": {},
   "outputs": [
    {
     "data": {
      "text/plain": [
       "-3"
      ]
     },
     "execution_count": 6,
     "metadata": {},
     "output_type": "execute_result"
    }
   ],
   "source": [
    "min([4, 1, -3, 21])"
   ]
  },
  {
   "cell_type": "code",
   "execution_count": 8,
   "id": "374272f0",
   "metadata": {},
   "outputs": [
    {
     "data": {
      "text/plain": [
       "[-3, 1, 4, 12]"
      ]
     },
     "execution_count": 8,
     "metadata": {},
     "output_type": "execute_result"
    }
   ],
   "source": [
    "sorted([4, 1, -3, 12])"
   ]
  },
  {
   "cell_type": "markdown",
   "id": "589647bd",
   "metadata": {},
   "source": [
    "### Write a function that will return maximum and minimum values from a list"
   ]
  },
  {
   "cell_type": "code",
   "execution_count": 31,
   "id": "1454618d",
   "metadata": {},
   "outputs": [],
   "source": [
    "def find_max_min(my_list):\n",
    "    if len(my_list) != 0:\n",
    "        max_value = my_list[0]\n",
    "        min_value = my_list[0]\n",
    "        for i in range(1, len(my_list)):\n",
    "            if max_value < my_list[i]:\n",
    "                max_value = my_list[i]\n",
    "            if min_value > my_list[i]:\n",
    "                min_value = my_list[i]\n",
    "\n",
    "        return max_value, min_value\n",
    "    else:\n",
    "        print(\"The list is empty\")\n",
    "        return None, None"
   ]
  },
  {
   "cell_type": "code",
   "execution_count": 32,
   "id": "ed21fd24",
   "metadata": {},
   "outputs": [],
   "source": [
    "max_v, min_v = find_max_min([4, 1, -3, 21])"
   ]
  },
  {
   "cell_type": "code",
   "execution_count": 33,
   "id": "add53bba",
   "metadata": {},
   "outputs": [
    {
     "data": {
      "text/plain": [
       "21"
      ]
     },
     "execution_count": 33,
     "metadata": {},
     "output_type": "execute_result"
    }
   ],
   "source": [
    "max_v"
   ]
  },
  {
   "cell_type": "code",
   "execution_count": 34,
   "id": "8171aac3",
   "metadata": {},
   "outputs": [
    {
     "data": {
      "text/plain": [
       "-3"
      ]
     },
     "execution_count": 34,
     "metadata": {},
     "output_type": "execute_result"
    }
   ],
   "source": [
    "min_v"
   ]
  },
  {
   "cell_type": "code",
   "execution_count": 35,
   "id": "9f80d7bf",
   "metadata": {},
   "outputs": [
    {
     "name": "stdout",
     "output_type": "stream",
     "text": [
      "The list is empty\n"
     ]
    },
    {
     "data": {
      "text/plain": [
       "(None, None)"
      ]
     },
     "execution_count": 35,
     "metadata": {},
     "output_type": "execute_result"
    }
   ],
   "source": [
    "find_max_min([])"
   ]
  },
  {
   "cell_type": "code",
   "execution_count": null,
   "id": "5000dec1",
   "metadata": {},
   "outputs": [],
   "source": []
  }
 ],
 "metadata": {
  "kernelspec": {
   "display_name": "Python 3 (ipykernel)",
   "language": "python",
   "name": "python3"
  },
  "language_info": {
   "codemirror_mode": {
    "name": "ipython",
    "version": 3
   },
   "file_extension": ".py",
   "mimetype": "text/x-python",
   "name": "python",
   "nbconvert_exporter": "python",
   "pygments_lexer": "ipython3",
   "version": "3.9.7"
  }
 },
 "nbformat": 4,
 "nbformat_minor": 5
}
