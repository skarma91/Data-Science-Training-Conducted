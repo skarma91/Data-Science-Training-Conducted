{
 "cells": [
  {
   "cell_type": "markdown",
   "id": "e7f50f36",
   "metadata": {},
   "source": [
    "## HW Problem: WAP to sort a list (don't use inbuilt sort method)"
   ]
  },
  {
   "cell_type": "code",
   "execution_count": 1,
   "id": "73a7c261",
   "metadata": {},
   "outputs": [],
   "source": [
    "my_list = [23, 3, -2, 4, 12]"
   ]
  },
  {
   "cell_type": "code",
   "execution_count": 3,
   "id": "1cdf2f2b",
   "metadata": {},
   "outputs": [],
   "source": [
    "n = len(my_list)\n",
    "\n",
    "for i in range(n-1):\n",
    "    for j in range(n-i-1):\n",
    "        if my_list[j] > my_list[j+1]:\n",
    "            temp = my_list[j]\n",
    "            my_list[j] = my_list[j+1]\n",
    "            my_list[j+1] = temp"
   ]
  },
  {
   "cell_type": "code",
   "execution_count": 4,
   "id": "a5a8f743",
   "metadata": {},
   "outputs": [
    {
     "data": {
      "text/plain": [
       "[-2, 3, 4, 12, 23]"
      ]
     },
     "execution_count": 4,
     "metadata": {},
     "output_type": "execute_result"
    }
   ],
   "source": [
    "my_list"
   ]
  },
  {
   "cell_type": "markdown",
   "id": "d1f52daf",
   "metadata": {},
   "source": [
    "## More aout list"
   ]
  },
  {
   "cell_type": "code",
   "execution_count": 11,
   "id": "fbc687a0",
   "metadata": {},
   "outputs": [],
   "source": [
    "l = [3, -1, 4, 3, 9, 10, 9, 9, 4]"
   ]
  },
  {
   "cell_type": "code",
   "execution_count": 14,
   "id": "11672b9a",
   "metadata": {},
   "outputs": [
    {
     "data": {
      "text/plain": [
       "2"
      ]
     },
     "execution_count": 14,
     "metadata": {},
     "output_type": "execute_result"
    }
   ],
   "source": [
    "l.index(4)"
   ]
  },
  {
   "cell_type": "code",
   "execution_count": 12,
   "id": "e2b66c21",
   "metadata": {},
   "outputs": [
    {
     "data": {
      "text/plain": [
       "3"
      ]
     },
     "execution_count": 12,
     "metadata": {},
     "output_type": "execute_result"
    }
   ],
   "source": [
    "l.count(9)"
   ]
  },
  {
   "cell_type": "markdown",
   "id": "799347bf",
   "metadata": {},
   "source": [
    "### WAP to print the elements and their counts in the list \n",
    "\n",
    "input: ```l = [3, -1, 4, 3, 9, 10, 9, 9, 4]```\n",
    "\n",
    "output: \n",
    "\n",
    "```\n",
    "3 : 2\n",
    "-1 : 1\n",
    "4: 2\n",
    "9: 3\n",
    "10: 1\n",
    "\n",
    "```"
   ]
  },
  {
   "cell_type": "code",
   "execution_count": 15,
   "id": "346eff22",
   "metadata": {},
   "outputs": [
    {
     "data": {
      "text/plain": [
       "[0, 1, 2, 3, 4, 5, 6, 7, 8, 9]"
      ]
     },
     "execution_count": 15,
     "metadata": {},
     "output_type": "execute_result"
    }
   ],
   "source": [
    "list(range(0,10))"
   ]
  },
  {
   "cell_type": "markdown",
   "id": "49ba8af9",
   "metadata": {},
   "source": [
    "## Tuple\n",
    "\n",
    "Tuple is another data structure in python similar to list but there are some differences between list and tuple.\n",
    "\n",
    "List is mutable\n",
    "\n",
    "but tuple is not mutable"
   ]
  },
  {
   "cell_type": "code",
   "execution_count": 18,
   "id": "f75b757e",
   "metadata": {},
   "outputs": [],
   "source": [
    "a = 2, 5, 6"
   ]
  },
  {
   "cell_type": "code",
   "execution_count": 19,
   "id": "586fef17",
   "metadata": {},
   "outputs": [
    {
     "data": {
      "text/plain": [
       "tuple"
      ]
     },
     "execution_count": 19,
     "metadata": {},
     "output_type": "execute_result"
    }
   ],
   "source": [
    "type(a)"
   ]
  },
  {
   "cell_type": "code",
   "execution_count": 20,
   "id": "76992ad5",
   "metadata": {},
   "outputs": [
    {
     "data": {
      "text/plain": [
       "2"
      ]
     },
     "execution_count": 20,
     "metadata": {},
     "output_type": "execute_result"
    }
   ],
   "source": [
    "a[0]"
   ]
  },
  {
   "cell_type": "code",
   "execution_count": 21,
   "id": "322590d2",
   "metadata": {},
   "outputs": [
    {
     "data": {
      "text/plain": [
       "5"
      ]
     },
     "execution_count": 21,
     "metadata": {},
     "output_type": "execute_result"
    }
   ],
   "source": [
    "a[1]"
   ]
  },
  {
   "cell_type": "code",
   "execution_count": 22,
   "id": "bdd6727a",
   "metadata": {},
   "outputs": [
    {
     "data": {
      "text/plain": [
       "6"
      ]
     },
     "execution_count": 22,
     "metadata": {},
     "output_type": "execute_result"
    }
   ],
   "source": [
    "a[2]"
   ]
  },
  {
   "cell_type": "code",
   "execution_count": 23,
   "id": "c24e347b",
   "metadata": {},
   "outputs": [
    {
     "data": {
      "text/plain": [
       "(2,)"
      ]
     },
     "execution_count": 23,
     "metadata": {},
     "output_type": "execute_result"
    }
   ],
   "source": [
    "a[:1]"
   ]
  },
  {
   "cell_type": "code",
   "execution_count": 24,
   "id": "6a1aec17",
   "metadata": {},
   "outputs": [],
   "source": [
    "a = (2, 1, 5, 6, 2, 7)"
   ]
  },
  {
   "cell_type": "code",
   "execution_count": 25,
   "id": "1b0ac485",
   "metadata": {},
   "outputs": [
    {
     "data": {
      "text/plain": [
       "(5, 6, 2, 7)"
      ]
     },
     "execution_count": 25,
     "metadata": {},
     "output_type": "execute_result"
    }
   ],
   "source": [
    "a[2:]"
   ]
  },
  {
   "cell_type": "code",
   "execution_count": 26,
   "id": "782a3136",
   "metadata": {},
   "outputs": [
    {
     "data": {
      "text/plain": [
       "(2, 1, 5, 6, 2, 7)"
      ]
     },
     "execution_count": 26,
     "metadata": {},
     "output_type": "execute_result"
    }
   ],
   "source": [
    "a[::]"
   ]
  },
  {
   "cell_type": "code",
   "execution_count": 27,
   "id": "b897115c",
   "metadata": {},
   "outputs": [
    {
     "data": {
      "text/plain": [
       "(2, 1, 5, 6, 2)"
      ]
     },
     "execution_count": 27,
     "metadata": {},
     "output_type": "execute_result"
    }
   ],
   "source": [
    "a[:5]"
   ]
  },
  {
   "cell_type": "code",
   "execution_count": 28,
   "id": "248a2476",
   "metadata": {},
   "outputs": [],
   "source": [
    "my_list = ['a', 34, -42.6, True]\n",
    "\n",
    "my_tuple = ('a', 34, -42.6, True)"
   ]
  },
  {
   "cell_type": "code",
   "execution_count": 29,
   "id": "388485e1",
   "metadata": {},
   "outputs": [],
   "source": [
    "my_list[0] = 'b'"
   ]
  },
  {
   "cell_type": "code",
   "execution_count": 30,
   "id": "0cb9b7ac",
   "metadata": {},
   "outputs": [
    {
     "data": {
      "text/plain": [
       "['b', 34, -42.6, True]"
      ]
     },
     "execution_count": 30,
     "metadata": {},
     "output_type": "execute_result"
    }
   ],
   "source": [
    "my_list"
   ]
  },
  {
   "cell_type": "code",
   "execution_count": 31,
   "id": "3faa76e4",
   "metadata": {},
   "outputs": [
    {
     "ename": "TypeError",
     "evalue": "'tuple' object does not support item assignment",
     "output_type": "error",
     "traceback": [
      "\u001b[1;31m---------------------------------------------------------------------------\u001b[0m",
      "\u001b[1;31mTypeError\u001b[0m                                 Traceback (most recent call last)",
      "\u001b[1;32mC:\\Users\\SOURAV~1\\AppData\\Local\\Temp/ipykernel_23520/1230362431.py\u001b[0m in \u001b[0;36m<module>\u001b[1;34m\u001b[0m\n\u001b[1;32m----> 1\u001b[1;33m \u001b[0mmy_tuple\u001b[0m\u001b[1;33m[\u001b[0m\u001b[1;36m0\u001b[0m\u001b[1;33m]\u001b[0m \u001b[1;33m=\u001b[0m \u001b[1;34m'b'\u001b[0m\u001b[1;33m\u001b[0m\u001b[1;33m\u001b[0m\u001b[0m\n\u001b[0m",
      "\u001b[1;31mTypeError\u001b[0m: 'tuple' object does not support item assignment"
     ]
    }
   ],
   "source": [
    "my_tuple[0] = 'b'"
   ]
  },
  {
   "cell_type": "markdown",
   "id": "395de151",
   "metadata": {},
   "source": [
    "## Set\n",
    "\n",
    "Set is a data structure which contains unique ordered values.\n",
    "\n",
    "Set are not indexable or sliceable "
   ]
  },
  {
   "cell_type": "code",
   "execution_count": 32,
   "id": "9f04d4a2",
   "metadata": {},
   "outputs": [],
   "source": [
    "my_list = [3, -2, 4, 5, 2, 3, 4, -2, 4]"
   ]
  },
  {
   "cell_type": "code",
   "execution_count": 33,
   "id": "c0be1651",
   "metadata": {},
   "outputs": [
    {
     "data": {
      "text/plain": [
       "{-2, 2, 3, 4, 5}"
      ]
     },
     "execution_count": 33,
     "metadata": {},
     "output_type": "execute_result"
    }
   ],
   "source": [
    "set(my_list)"
   ]
  },
  {
   "cell_type": "code",
   "execution_count": 37,
   "id": "8e017e1c",
   "metadata": {},
   "outputs": [],
   "source": [
    "A = {3, 6, 9, 12, 15, 18, 21, 24, 27, 30} # all the values between 1 to 30 which are divisble by 3\n",
    "B = {5, 10, 15, 20, 25, 30} # all the values between 1 to 30 which are divisible by 5"
   ]
  },
  {
   "cell_type": "markdown",
   "id": "21612eb7",
   "metadata": {},
   "source": [
    "#### Set Methods"
   ]
  },
  {
   "cell_type": "code",
   "execution_count": 38,
   "id": "f646ddb5",
   "metadata": {},
   "outputs": [
    {
     "data": {
      "text/plain": [
       "{15, 30}"
      ]
     },
     "execution_count": 38,
     "metadata": {},
     "output_type": "execute_result"
    }
   ],
   "source": [
    "A.intersection(B)"
   ]
  },
  {
   "cell_type": "code",
   "execution_count": 39,
   "id": "adc05da6",
   "metadata": {},
   "outputs": [
    {
     "data": {
      "text/plain": [
       "{3, 5, 6, 9, 10, 12, 15, 18, 20, 21, 24, 25, 27, 30}"
      ]
     },
     "execution_count": 39,
     "metadata": {},
     "output_type": "execute_result"
    }
   ],
   "source": [
    "A.union(B)"
   ]
  },
  {
   "cell_type": "code",
   "execution_count": 40,
   "id": "86e9a48c",
   "metadata": {},
   "outputs": [
    {
     "data": {
      "text/plain": [
       "{3, 6, 9, 12, 18, 21, 24, 27}"
      ]
     },
     "execution_count": 40,
     "metadata": {},
     "output_type": "execute_result"
    }
   ],
   "source": [
    "A.difference(B)"
   ]
  },
  {
   "cell_type": "code",
   "execution_count": 41,
   "id": "a8fb3b3e",
   "metadata": {},
   "outputs": [
    {
     "data": {
      "text/plain": [
       "{5, 10, 20, 25}"
      ]
     },
     "execution_count": 41,
     "metadata": {},
     "output_type": "execute_result"
    }
   ],
   "source": [
    "B.difference(A)"
   ]
  },
  {
   "cell_type": "code",
   "execution_count": 42,
   "id": "42973c33",
   "metadata": {},
   "outputs": [
    {
     "data": {
      "text/plain": [
       "{3, 5, 6, 9, 10, 12, 18, 20, 21, 24, 25, 27}"
      ]
     },
     "execution_count": 42,
     "metadata": {},
     "output_type": "execute_result"
    }
   ],
   "source": [
    "A.symmetric_difference(B)"
   ]
  },
  {
   "cell_type": "code",
   "execution_count": 43,
   "id": "9eae6a21",
   "metadata": {},
   "outputs": [],
   "source": [
    "C = {\"apple\", \"banana\", \"orange\"}\n",
    "\n",
    "D = {\"apple\", \"banana\", \"orange\", \"guava\", \"pineapple\", \"coconut\"}"
   ]
  },
  {
   "cell_type": "code",
   "execution_count": 44,
   "id": "ce0455ec",
   "metadata": {},
   "outputs": [
    {
     "data": {
      "text/plain": [
       "False"
      ]
     },
     "execution_count": 44,
     "metadata": {},
     "output_type": "execute_result"
    }
   ],
   "source": [
    "D.issubset(C)"
   ]
  },
  {
   "cell_type": "code",
   "execution_count": 45,
   "id": "92f4c89d",
   "metadata": {},
   "outputs": [
    {
     "data": {
      "text/plain": [
       "True"
      ]
     },
     "execution_count": 45,
     "metadata": {},
     "output_type": "execute_result"
    }
   ],
   "source": [
    "C.issubset(D)"
   ]
  },
  {
   "cell_type": "code",
   "execution_count": 47,
   "id": "6cfc34e9",
   "metadata": {},
   "outputs": [
    {
     "data": {
      "text/plain": [
       "True"
      ]
     },
     "execution_count": 47,
     "metadata": {},
     "output_type": "execute_result"
    }
   ],
   "source": [
    "D.issuperset(C)"
   ]
  },
  {
   "cell_type": "code",
   "execution_count": 48,
   "id": "1768ffd1",
   "metadata": {},
   "outputs": [
    {
     "data": {
      "text/plain": [
       "True"
      ]
     },
     "execution_count": 48,
     "metadata": {},
     "output_type": "execute_result"
    }
   ],
   "source": [
    "C.issubset(C)"
   ]
  },
  {
   "cell_type": "code",
   "execution_count": 49,
   "id": "16e74264",
   "metadata": {},
   "outputs": [
    {
     "data": {
      "text/plain": [
       "True"
      ]
     },
     "execution_count": 49,
     "metadata": {},
     "output_type": "execute_result"
    }
   ],
   "source": [
    "C.issuperset(C)"
   ]
  },
  {
   "cell_type": "code",
   "execution_count": 50,
   "id": "25364791",
   "metadata": {},
   "outputs": [
    {
     "data": {
      "text/plain": [
       "True"
      ]
     },
     "execution_count": 50,
     "metadata": {},
     "output_type": "execute_result"
    }
   ],
   "source": [
    "C.isdisjoint(B)"
   ]
  },
  {
   "cell_type": "code",
   "execution_count": 51,
   "id": "66695556",
   "metadata": {},
   "outputs": [
    {
     "data": {
      "text/plain": [
       "False"
      ]
     },
     "execution_count": 51,
     "metadata": {},
     "output_type": "execute_result"
    }
   ],
   "source": [
    "C.isdisjoint(D)"
   ]
  },
  {
   "cell_type": "code",
   "execution_count": 53,
   "id": "0715b579",
   "metadata": {},
   "outputs": [
    {
     "data": {
      "text/plain": [
       "False"
      ]
     },
     "execution_count": 53,
     "metadata": {},
     "output_type": "execute_result"
    }
   ],
   "source": [
    "A.isdisjoint(B)"
   ]
  },
  {
   "cell_type": "code",
   "execution_count": 54,
   "id": "f5e7bc16",
   "metadata": {},
   "outputs": [
    {
     "data": {
      "text/plain": [
       "set()"
      ]
     },
     "execution_count": 54,
     "metadata": {},
     "output_type": "execute_result"
    }
   ],
   "source": [
    "A.intersection(C)"
   ]
  },
  {
   "cell_type": "markdown",
   "id": "2f3d90b8",
   "metadata": {},
   "source": [
    "```\n",
    "[] -> Empty list\n",
    "\n",
    "() -> Empty tuple\n",
    "\n",
    "set() -> Empty set\n",
    "\n",
    "{} -> Empty dictionary\n",
    "```"
   ]
  },
  {
   "cell_type": "markdown",
   "id": "61e7474f",
   "metadata": {},
   "source": [
    "## Dictionary\n",
    "\n",
    "It contains key, value pairs"
   ]
  },
  {
   "cell_type": "code",
   "execution_count": 55,
   "id": "f8299790",
   "metadata": {},
   "outputs": [],
   "source": [
    "fruits = {'apple': 80, 'banana': 200, 'mango': 100, 'pineapple': 30}"
   ]
  },
  {
   "cell_type": "code",
   "execution_count": 56,
   "id": "985aad73",
   "metadata": {},
   "outputs": [
    {
     "data": {
      "text/plain": [
       "{'apple': 80, 'banana': 200, 'mango': 100, 'pineapple': 30}"
      ]
     },
     "execution_count": 56,
     "metadata": {},
     "output_type": "execute_result"
    }
   ],
   "source": [
    "fruits"
   ]
  },
  {
   "cell_type": "code",
   "execution_count": 57,
   "id": "c01f0299",
   "metadata": {},
   "outputs": [
    {
     "data": {
      "text/plain": [
       "dict"
      ]
     },
     "execution_count": 57,
     "metadata": {},
     "output_type": "execute_result"
    }
   ],
   "source": [
    "type(fruits)"
   ]
  },
  {
   "cell_type": "code",
   "execution_count": 58,
   "id": "a651f20a",
   "metadata": {},
   "outputs": [
    {
     "data": {
      "text/plain": [
       "80"
      ]
     },
     "execution_count": 58,
     "metadata": {},
     "output_type": "execute_result"
    }
   ],
   "source": [
    "fruits['apple']"
   ]
  },
  {
   "cell_type": "code",
   "execution_count": 59,
   "id": "af5f9a59",
   "metadata": {},
   "outputs": [],
   "source": [
    "fruits['apple'] = 75"
   ]
  },
  {
   "cell_type": "code",
   "execution_count": 60,
   "id": "96b91453",
   "metadata": {},
   "outputs": [
    {
     "data": {
      "text/plain": [
       "{'apple': 75, 'banana': 200, 'mango': 100, 'pineapple': 30}"
      ]
     },
     "execution_count": 60,
     "metadata": {},
     "output_type": "execute_result"
    }
   ],
   "source": [
    "fruits"
   ]
  },
  {
   "cell_type": "code",
   "execution_count": 61,
   "id": "9fc60174",
   "metadata": {},
   "outputs": [],
   "source": [
    "d = {1: 'apple', 2: 'banana', 3: 'mango', 4: 'pineapple'}"
   ]
  },
  {
   "cell_type": "code",
   "execution_count": 62,
   "id": "92b5290b",
   "metadata": {},
   "outputs": [
    {
     "data": {
      "text/plain": [
       "'apple'"
      ]
     },
     "execution_count": 62,
     "metadata": {},
     "output_type": "execute_result"
    }
   ],
   "source": [
    "d[1]"
   ]
  },
  {
   "cell_type": "code",
   "execution_count": 63,
   "id": "11ebf404",
   "metadata": {},
   "outputs": [
    {
     "data": {
      "text/plain": [
       "'mango'"
      ]
     },
     "execution_count": 63,
     "metadata": {},
     "output_type": "execute_result"
    }
   ],
   "source": [
    "d[3]"
   ]
  },
  {
   "cell_type": "code",
   "execution_count": 64,
   "id": "39495d27",
   "metadata": {},
   "outputs": [
    {
     "ename": "KeyError",
     "evalue": "8",
     "output_type": "error",
     "traceback": [
      "\u001b[1;31m---------------------------------------------------------------------------\u001b[0m",
      "\u001b[1;31mKeyError\u001b[0m                                  Traceback (most recent call last)",
      "\u001b[1;32mC:\\Users\\SOURAV~1\\AppData\\Local\\Temp/ipykernel_23520/3406827475.py\u001b[0m in \u001b[0;36m<module>\u001b[1;34m\u001b[0m\n\u001b[1;32m----> 1\u001b[1;33m \u001b[0md\u001b[0m\u001b[1;33m[\u001b[0m\u001b[1;36m8\u001b[0m\u001b[1;33m]\u001b[0m\u001b[1;33m\u001b[0m\u001b[1;33m\u001b[0m\u001b[0m\n\u001b[0m",
      "\u001b[1;31mKeyError\u001b[0m: 8"
     ]
    }
   ],
   "source": [
    "d[8]"
   ]
  },
  {
   "cell_type": "code",
   "execution_count": 72,
   "id": "9f81b899",
   "metadata": {},
   "outputs": [],
   "source": [
    "s = {1: 35, 3.5: 'Sachin', 'Sourav' : 'Dada', 20: 'Kumble'}"
   ]
  },
  {
   "cell_type": "code",
   "execution_count": 66,
   "id": "3a13f313",
   "metadata": {},
   "outputs": [
    {
     "data": {
      "text/plain": [
       "35"
      ]
     },
     "execution_count": 66,
     "metadata": {},
     "output_type": "execute_result"
    }
   ],
   "source": [
    "s[1]"
   ]
  },
  {
   "cell_type": "code",
   "execution_count": 70,
   "id": "b473a0ee",
   "metadata": {},
   "outputs": [
    {
     "data": {
      "text/plain": [
       "'Kumble'"
      ]
     },
     "execution_count": 70,
     "metadata": {},
     "output_type": "execute_result"
    }
   ],
   "source": [
    "s[20]"
   ]
  },
  {
   "cell_type": "code",
   "execution_count": 73,
   "id": "cf95b19b",
   "metadata": {},
   "outputs": [
    {
     "data": {
      "text/plain": [
       "'Sachin'"
      ]
     },
     "execution_count": 73,
     "metadata": {},
     "output_type": "execute_result"
    }
   ],
   "source": [
    "s[3.5]"
   ]
  },
  {
   "cell_type": "code",
   "execution_count": 74,
   "id": "eda61a0c",
   "metadata": {},
   "outputs": [
    {
     "name": "stdout",
     "output_type": "stream",
     "text": [
      "{1: 35, 3.5: 'Sachin', 'Sourav': 'Dada', 20: 'Kumble'}\n"
     ]
    }
   ],
   "source": [
    "print(s)"
   ]
  },
  {
   "cell_type": "markdown",
   "id": "4ad1d5f7",
   "metadata": {},
   "source": [
    "#### How to create dictionary"
   ]
  },
  {
   "cell_type": "code",
   "execution_count": 88,
   "id": "90afbd93",
   "metadata": {},
   "outputs": [],
   "source": [
    "list_of_fruits = ['apple', 'mango', 'banana', 'pineapple', 'orange']\n",
    "\n",
    "price_per_kilo = [180, 120, 40, 80, 75]"
   ]
  },
  {
   "cell_type": "code",
   "execution_count": 89,
   "id": "206ae289",
   "metadata": {},
   "outputs": [
    {
     "name": "stdout",
     "output_type": "stream",
     "text": [
      "('apple', 180)\n",
      "('mango', 120)\n",
      "('banana', 40)\n",
      "('pineapple', 80)\n",
      "('orange', 75)\n"
     ]
    }
   ],
   "source": [
    "for x in zip(list_of_fruits, price_per_kilo):\n",
    "    print(x)"
   ]
  },
  {
   "cell_type": "code",
   "execution_count": 90,
   "id": "3c9922cc",
   "metadata": {},
   "outputs": [],
   "source": [
    "fruit_price = dict(zip(list_of_fruits, price_per_kilo))"
   ]
  },
  {
   "cell_type": "code",
   "execution_count": 91,
   "id": "ce426641",
   "metadata": {},
   "outputs": [
    {
     "data": {
      "text/plain": [
       "{'apple': 180, 'mango': 120, 'banana': 40, 'pineapple': 80, 'orange': 75}"
      ]
     },
     "execution_count": 91,
     "metadata": {},
     "output_type": "execute_result"
    }
   ],
   "source": [
    "fruit_price"
   ]
  },
  {
   "cell_type": "code",
   "execution_count": 95,
   "id": "a79f69de",
   "metadata": {},
   "outputs": [],
   "source": [
    "city_pincode = [('Delhi', [100000, 500000]), ('Mumbai', 200000), ('Chennai', 400000), ('Kolkata',700000)]"
   ]
  },
  {
   "cell_type": "code",
   "execution_count": 96,
   "id": "fa49a35d",
   "metadata": {},
   "outputs": [],
   "source": [
    "pincode = dict(city_pincode)"
   ]
  },
  {
   "cell_type": "code",
   "execution_count": 97,
   "id": "ac0d20fb",
   "metadata": {},
   "outputs": [
    {
     "data": {
      "text/plain": [
       "{'Delhi': [100000, 500000],\n",
       " 'Mumbai': 200000,\n",
       " 'Chennai': 400000,\n",
       " 'Kolkata': 700000}"
      ]
     },
     "execution_count": 97,
     "metadata": {},
     "output_type": "execute_result"
    }
   ],
   "source": [
    "pincode"
   ]
  },
  {
   "cell_type": "code",
   "execution_count": 98,
   "id": "9f663bfb",
   "metadata": {},
   "outputs": [],
   "source": [
    "market_1 = {'apple':180, 'mango':120, 'banana': 40}\n",
    "market_2 = {'mango': 115, 'banana': 45, 'pineapple': 75}\n",
    "market_3 = {'pineapple': 80, 'apple': 160, 'mango': 130}"
   ]
  },
  {
   "cell_type": "code",
   "execution_count": 99,
   "id": "b55ccdda",
   "metadata": {},
   "outputs": [],
   "source": [
    "market_price = {'market-1':market_1, 'market-2':market_2, 'market-3':market_3}"
   ]
  },
  {
   "cell_type": "code",
   "execution_count": 100,
   "id": "5ef8ec76",
   "metadata": {},
   "outputs": [
    {
     "data": {
      "text/plain": [
       "{'market-1': {'apple': 180, 'mango': 120, 'banana': 40},\n",
       " 'market-2': {'mango': 115, 'banana': 45, 'pineapple': 75},\n",
       " 'market-3': {'pineapple': 80, 'apple': 160, 'mango': 130}}"
      ]
     },
     "execution_count": 100,
     "metadata": {},
     "output_type": "execute_result"
    }
   ],
   "source": [
    "market_price"
   ]
  },
  {
   "cell_type": "markdown",
   "id": "426be939",
   "metadata": {},
   "source": [
    "#### Dictionary Methods"
   ]
  },
  {
   "cell_type": "code",
   "execution_count": 75,
   "id": "356f670f",
   "metadata": {},
   "outputs": [],
   "source": [
    "s.clear()"
   ]
  },
  {
   "cell_type": "code",
   "execution_count": 76,
   "id": "8f881633",
   "metadata": {},
   "outputs": [
    {
     "data": {
      "text/plain": [
       "{}"
      ]
     },
     "execution_count": 76,
     "metadata": {},
     "output_type": "execute_result"
    }
   ],
   "source": [
    "s"
   ]
  },
  {
   "cell_type": "code",
   "execution_count": 77,
   "id": "1e38e085",
   "metadata": {},
   "outputs": [
    {
     "data": {
      "text/plain": [
       "{'apple': 75, 'banana': 200, 'mango': 100, 'pineapple': 30}"
      ]
     },
     "execution_count": 77,
     "metadata": {},
     "output_type": "execute_result"
    }
   ],
   "source": [
    "fruits"
   ]
  },
  {
   "cell_type": "code",
   "execution_count": 78,
   "id": "f3b487c9",
   "metadata": {},
   "outputs": [
    {
     "data": {
      "text/plain": [
       "75"
      ]
     },
     "execution_count": 78,
     "metadata": {},
     "output_type": "execute_result"
    }
   ],
   "source": [
    "fruits['apple']"
   ]
  },
  {
   "cell_type": "code",
   "execution_count": 80,
   "id": "18753a70",
   "metadata": {},
   "outputs": [
    {
     "data": {
      "text/plain": [
       "200"
      ]
     },
     "execution_count": 80,
     "metadata": {},
     "output_type": "execute_result"
    }
   ],
   "source": [
    "fruits.get('banana')"
   ]
  },
  {
   "cell_type": "code",
   "execution_count": 81,
   "id": "44a53dc8",
   "metadata": {},
   "outputs": [
    {
     "data": {
      "text/plain": [
       "dict_keys(['apple', 'banana', 'mango', 'pineapple'])"
      ]
     },
     "execution_count": 81,
     "metadata": {},
     "output_type": "execute_result"
    }
   ],
   "source": [
    "fruits.keys()"
   ]
  },
  {
   "cell_type": "code",
   "execution_count": 101,
   "id": "80cee7ad",
   "metadata": {},
   "outputs": [
    {
     "data": {
      "text/plain": [
       "dict_items([('apple', 75), ('banana', 200), ('mango', 100), ('pineapple', 30)])"
      ]
     },
     "execution_count": 101,
     "metadata": {},
     "output_type": "execute_result"
    }
   ],
   "source": [
    "fruits.items()"
   ]
  },
  {
   "cell_type": "code",
   "execution_count": 102,
   "id": "c44ff2a9",
   "metadata": {},
   "outputs": [
    {
     "name": "stdout",
     "output_type": "stream",
     "text": [
      "price of apple is Rs.75/kg\n",
      "price of banana is Rs.200/kg\n",
      "price of mango is Rs.100/kg\n",
      "price of pineapple is Rs.30/kg\n"
     ]
    }
   ],
   "source": [
    "for a,b in fruits.items():\n",
    "    print(f\"price of {a} is Rs.{b}/kg\")"
   ]
  },
  {
   "cell_type": "code",
   "execution_count": 103,
   "id": "1bc86416",
   "metadata": {},
   "outputs": [
    {
     "data": {
      "text/plain": [
       "{'market-1': {'apple': 180, 'mango': 120, 'banana': 40},\n",
       " 'market-2': {'mango': 115, 'banana': 45, 'pineapple': 75},\n",
       " 'market-3': {'pineapple': 80, 'apple': 160, 'mango': 130}}"
      ]
     },
     "execution_count": 103,
     "metadata": {},
     "output_type": "execute_result"
    }
   ],
   "source": [
    "market_price"
   ]
  },
  {
   "cell_type": "code",
   "execution_count": 104,
   "id": "04c14c58",
   "metadata": {},
   "outputs": [
    {
     "data": {
      "text/plain": [
       "{'apple': 75, 'banana': 200, 'mango': 100, 'pineapple': 30}"
      ]
     },
     "execution_count": 104,
     "metadata": {},
     "output_type": "execute_result"
    }
   ],
   "source": [
    "fruits"
   ]
  },
  {
   "cell_type": "code",
   "execution_count": 105,
   "id": "eb716635",
   "metadata": {},
   "outputs": [
    {
     "data": {
      "text/plain": [
       "True"
      ]
     },
     "execution_count": 105,
     "metadata": {},
     "output_type": "execute_result"
    }
   ],
   "source": [
    "'apple' in fruits"
   ]
  },
  {
   "cell_type": "code",
   "execution_count": 106,
   "id": "97229ada",
   "metadata": {},
   "outputs": [
    {
     "data": {
      "text/plain": [
       "False"
      ]
     },
     "execution_count": 106,
     "metadata": {},
     "output_type": "execute_result"
    }
   ],
   "source": [
    "'orange' in fruits"
   ]
  },
  {
   "cell_type": "markdown",
   "id": "a22a2126",
   "metadata": {},
   "source": [
    "### find the market where mango is cheapest and also find the cheapest price"
   ]
  },
  {
   "cell_type": "code",
   "execution_count": 107,
   "id": "8d3dd8cb",
   "metadata": {},
   "outputs": [
    {
     "name": "stdout",
     "output_type": "stream",
     "text": [
      "Cheapest mango price is : 115 and it is available in : market-2\n"
     ]
    }
   ],
   "source": [
    "cheapest_mango_price = 999999999 # arbitrarily high number \n",
    "\n",
    "for m, f in market_price.items():\n",
    "    if 'mango' in f:\n",
    "        v = f.get('mango')\n",
    "        if v < cheapest_mango_price:\n",
    "            cheapest_mango_price = v\n",
    "            market = m\n",
    "            \n",
    "print(f\"Cheapest mango price is : {cheapest_mango_price} and it is available in : {market}\")"
   ]
  },
  {
   "cell_type": "code",
   "execution_count": 108,
   "id": "38b735b1",
   "metadata": {},
   "outputs": [
    {
     "data": {
      "text/plain": [
       "dict_values([75, 200, 100, 30])"
      ]
     },
     "execution_count": 108,
     "metadata": {},
     "output_type": "execute_result"
    }
   ],
   "source": [
    "fruits.values()"
   ]
  },
  {
   "cell_type": "code",
   "execution_count": 110,
   "id": "5fe00fdb",
   "metadata": {},
   "outputs": [
    {
     "data": {
      "text/plain": [
       "200"
      ]
     },
     "execution_count": 110,
     "metadata": {},
     "output_type": "execute_result"
    }
   ],
   "source": [
    "fruits.pop('banana')"
   ]
  },
  {
   "cell_type": "code",
   "execution_count": 111,
   "id": "bb8ed5a0",
   "metadata": {},
   "outputs": [
    {
     "data": {
      "text/plain": [
       "{'apple': 75, 'mango': 100, 'pineapple': 30}"
      ]
     },
     "execution_count": 111,
     "metadata": {},
     "output_type": "execute_result"
    }
   ],
   "source": [
    "fruits"
   ]
  },
  {
   "cell_type": "code",
   "execution_count": null,
   "id": "fdd170b5",
   "metadata": {},
   "outputs": [],
   "source": []
  }
 ],
 "metadata": {
  "kernelspec": {
   "display_name": "Python 3 (ipykernel)",
   "language": "python",
   "name": "python3"
  },
  "language_info": {
   "codemirror_mode": {
    "name": "ipython",
    "version": 3
   },
   "file_extension": ".py",
   "mimetype": "text/x-python",
   "name": "python",
   "nbconvert_exporter": "python",
   "pygments_lexer": "ipython3",
   "version": "3.9.7"
  }
 },
 "nbformat": 4,
 "nbformat_minor": 5
}
