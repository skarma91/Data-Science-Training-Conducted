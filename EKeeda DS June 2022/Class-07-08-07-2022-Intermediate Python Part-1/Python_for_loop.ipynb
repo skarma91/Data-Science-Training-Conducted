{
 "cells": [
  {
   "cell_type": "markdown",
   "id": "82ad8ab1",
   "metadata": {},
   "source": [
    "## Range function\n",
    "\n",
    "Gives values within the range of two numbers\n",
    "\n",
    "The structure of range() function is following\n",
    "\n",
    "```python\n",
    "range(start, stop, step)\n",
    "    \n",
    "```\n",
    "\n",
    "start -> The number from where you want to start (optional), defalt value is 0\n",
    "\n",
    "stop -> the number where you want to stop, **excluded** (required)\n",
    "\n",
    "step -> the number specifies the increment (optional), default value is 1"
   ]
  },
  {
   "cell_type": "markdown",
   "id": "28129ec6",
   "metadata": {},
   "source": [
    "## For Loop\n",
    "\n",
    "```python\n",
    "\n",
    "for i in iterable:\n",
    "    code to follow\n",
    "```\n",
    "\n",
    "i is an iterator (you can use any variable name instead of 'i')\n",
    "\n",
    "iterable is an object in python on which we can iterate"
   ]
  },
  {
   "cell_type": "code",
   "execution_count": 2,
   "id": "8a20da50",
   "metadata": {},
   "outputs": [
    {
     "name": "stdout",
     "output_type": "stream",
     "text": [
      "range(0, 20)\n"
     ]
    }
   ],
   "source": [
    "x = range(20)\n",
    "\n",
    "print(x)"
   ]
  },
  {
   "cell_type": "code",
   "execution_count": 3,
   "id": "af76c91e",
   "metadata": {},
   "outputs": [
    {
     "name": "stdout",
     "output_type": "stream",
     "text": [
      "0\n",
      "1\n",
      "2\n",
      "3\n",
      "4\n",
      "5\n",
      "6\n",
      "7\n",
      "8\n",
      "9\n",
      "10\n",
      "11\n",
      "12\n",
      "13\n",
      "14\n",
      "15\n",
      "16\n",
      "17\n",
      "18\n",
      "19\n"
     ]
    }
   ],
   "source": [
    "for i in x:\n",
    "    print(i)"
   ]
  },
  {
   "cell_type": "code",
   "execution_count": 4,
   "id": "985b1f97",
   "metadata": {},
   "outputs": [
    {
     "name": "stdout",
     "output_type": "stream",
     "text": [
      "5\n",
      "6\n",
      "7\n",
      "8\n",
      "9\n",
      "10\n",
      "11\n",
      "12\n",
      "13\n",
      "14\n"
     ]
    }
   ],
   "source": [
    "y = range(5, 15)\n",
    "\n",
    "for i in y:\n",
    "    print(i)"
   ]
  },
  {
   "cell_type": "code",
   "execution_count": 6,
   "id": "e509a1a4",
   "metadata": {},
   "outputs": [
    {
     "name": "stdout",
     "output_type": "stream",
     "text": [
      "5\n",
      "7\n",
      "9\n",
      "11\n",
      "13\n",
      "15\n",
      "17\n",
      "19\n",
      "21\n",
      "23\n",
      "25\n",
      "27\n",
      "29\n"
     ]
    }
   ],
   "source": [
    "for i in range(5, 30, 2):\n",
    "    print(i)"
   ]
  },
  {
   "cell_type": "markdown",
   "id": "2713bea5",
   "metadata": {},
   "source": [
    "### print all the odd numbers between a range given by user"
   ]
  },
  {
   "cell_type": "code",
   "execution_count": 7,
   "id": "d42afbf2",
   "metadata": {},
   "outputs": [
    {
     "name": "stdout",
     "output_type": "stream",
     "text": [
      "Enter the starting number: 10\n",
      "Enter the ending number: 50\n"
     ]
    }
   ],
   "source": [
    "start = int(input(\"Enter the starting number: \"))\n",
    "\n",
    "stop = int(input(\"Enter the ending number: \"))"
   ]
  },
  {
   "cell_type": "code",
   "execution_count": 12,
   "id": "80e7b57c",
   "metadata": {},
   "outputs": [
    {
     "name": "stdout",
     "output_type": "stream",
     "text": [
      "11\n",
      "13\n",
      "15\n",
      "17\n",
      "19\n",
      "21\n",
      "23\n",
      "25\n",
      "27\n",
      "29\n",
      "31\n",
      "33\n",
      "35\n",
      "37\n",
      "39\n",
      "41\n",
      "43\n",
      "45\n",
      "47\n",
      "49\n"
     ]
    }
   ],
   "source": [
    "for i in range(start, stop+1, 1):\n",
    "    if i % 2 != 0:\n",
    "        print(i)"
   ]
  },
  {
   "cell_type": "markdown",
   "id": "c2488811",
   "metadata": {},
   "source": [
    "### Find all the divisors of a given positive number (excluding that number)\n",
    "\n",
    "For example: if the given number is 12, then it should print 1, 2, 3, 4, 6"
   ]
  },
  {
   "cell_type": "code",
   "execution_count": 23,
   "id": "0d00cac8",
   "metadata": {},
   "outputs": [
    {
     "name": "stdout",
     "output_type": "stream",
     "text": [
      "Enter the number: 28\n"
     ]
    }
   ],
   "source": [
    "n = int(input(\"Enter the number: \"))"
   ]
  },
  {
   "cell_type": "code",
   "execution_count": 25,
   "id": "fa0780bb",
   "metadata": {},
   "outputs": [
    {
     "name": "stdout",
     "output_type": "stream",
     "text": [
      "1\n",
      "2\n",
      "4\n",
      "7\n",
      "14\n"
     ]
    }
   ],
   "source": [
    "for i in range(1, n//2 + 1):\n",
    "    if n % i == 0:\n",
    "        print(i)"
   ]
  },
  {
   "cell_type": "markdown",
   "id": "dc260017",
   "metadata": {},
   "source": [
    "### Perfect number: A perfect number is sum of its postive divisors (excluding that number)\n",
    "\n",
    "example: 6\n",
    "\n",
    "The positive factors / divisors of 6 are 1, 2, 3\n",
    "\n",
    "1 + 2 + 3 = 6\n",
    "\n",
    "So 6 is a perfect number\n",
    "\n",
    "### WAP to check whether a number is perfect number or not"
   ]
  },
  {
   "cell_type": "code",
   "execution_count": 21,
   "id": "d84c4a78",
   "metadata": {},
   "outputs": [
    {
     "name": "stdout",
     "output_type": "stream",
     "text": [
      "Enter the number: 28\n"
     ]
    }
   ],
   "source": [
    "n = int(input(\"Enter the number: \"))"
   ]
  },
  {
   "cell_type": "code",
   "execution_count": 26,
   "id": "34041ae7",
   "metadata": {},
   "outputs": [
    {
     "name": "stdout",
     "output_type": "stream",
     "text": [
      "28 is a perfect number.\n"
     ]
    }
   ],
   "source": [
    "s = 0 # s is a variable which will store the sum of the factors\n",
    "\n",
    "for i in range(1, n//2 + 1):\n",
    "    if n % i == 0:\n",
    "        s = s+i   # 'i' is added with present value of s and get stored in s\n",
    "        \n",
    "if (s == n):\n",
    "    print(f\"{n} is a perfect number.\")\n",
    "else:\n",
    "    print(f\"{n} is not a perfect number.\")"
   ]
  },
  {
   "cell_type": "markdown",
   "id": "d89df6e9",
   "metadata": {},
   "source": [
    "### Nested Loops\n",
    "\n",
    "```python\n",
    "for i in range(0, 25):\n",
    "    for j in range(i, 30):\n",
    "        print(j)\n",
    "```"
   ]
  },
  {
   "cell_type": "markdown",
   "id": "64d662b5",
   "metadata": {},
   "source": [
    "### Print the multiplication table of all numbers upto 5."
   ]
  },
  {
   "cell_type": "code",
   "execution_count": 29,
   "id": "0427a91c",
   "metadata": {},
   "outputs": [
    {
     "name": "stdout",
     "output_type": "stream",
     "text": [
      "Multiplication table of 1\n",
      "\n",
      "1 * 1 = 1\n",
      "1 * 2 = 2\n",
      "1 * 3 = 3\n",
      "1 * 4 = 4\n",
      "1 * 5 = 5\n",
      "1 * 6 = 6\n",
      "1 * 7 = 7\n",
      "1 * 8 = 8\n",
      "1 * 9 = 9\n",
      "1 * 10 = 10\n",
      "\n",
      "\n",
      "\n",
      "Multiplication table of 2\n",
      "\n",
      "2 * 1 = 2\n",
      "2 * 2 = 4\n",
      "2 * 3 = 6\n",
      "2 * 4 = 8\n",
      "2 * 5 = 10\n",
      "2 * 6 = 12\n",
      "2 * 7 = 14\n",
      "2 * 8 = 16\n",
      "2 * 9 = 18\n",
      "2 * 10 = 20\n",
      "\n",
      "\n",
      "\n",
      "Multiplication table of 3\n",
      "\n",
      "3 * 1 = 3\n",
      "3 * 2 = 6\n",
      "3 * 3 = 9\n",
      "3 * 4 = 12\n",
      "3 * 5 = 15\n",
      "3 * 6 = 18\n",
      "3 * 7 = 21\n",
      "3 * 8 = 24\n",
      "3 * 9 = 27\n",
      "3 * 10 = 30\n",
      "\n",
      "\n",
      "\n",
      "Multiplication table of 4\n",
      "\n",
      "4 * 1 = 4\n",
      "4 * 2 = 8\n",
      "4 * 3 = 12\n",
      "4 * 4 = 16\n",
      "4 * 5 = 20\n",
      "4 * 6 = 24\n",
      "4 * 7 = 28\n",
      "4 * 8 = 32\n",
      "4 * 9 = 36\n",
      "4 * 10 = 40\n",
      "\n",
      "\n",
      "\n",
      "Multiplication table of 5\n",
      "\n",
      "5 * 1 = 5\n",
      "5 * 2 = 10\n",
      "5 * 3 = 15\n",
      "5 * 4 = 20\n",
      "5 * 5 = 25\n",
      "5 * 6 = 30\n",
      "5 * 7 = 35\n",
      "5 * 8 = 40\n",
      "5 * 9 = 45\n",
      "5 * 10 = 50\n",
      "\n",
      "\n",
      "\n"
     ]
    }
   ],
   "source": [
    "for i in range(1, 6):\n",
    "    print(f\"Multiplication table of {i}\\n\")\n",
    "    for j in range(1, 11):\n",
    "        print(f\"{i} * {j} = {i*j}\")\n",
    "    print(\"\\n\\n\")"
   ]
  },
  {
   "cell_type": "markdown",
   "id": "e97c0a6b",
   "metadata": {},
   "source": [
    "### Print all the prime numbers between a given range"
   ]
  },
  {
   "cell_type": "code",
   "execution_count": 32,
   "id": "8b425631",
   "metadata": {},
   "outputs": [
    {
     "name": "stdout",
     "output_type": "stream",
     "text": [
      "Enter the starting number: 10\n",
      "Enter the ending number: 100\n",
      "11\n",
      "13\n",
      "17\n",
      "19\n",
      "23\n",
      "29\n",
      "31\n",
      "37\n",
      "41\n",
      "43\n",
      "47\n",
      "53\n",
      "59\n",
      "61\n",
      "67\n",
      "71\n",
      "73\n",
      "79\n",
      "83\n",
      "89\n",
      "97\n"
     ]
    }
   ],
   "source": [
    "start = int(input(\"Enter the starting number: \"))\n",
    "end = int(input(\"Enter the ending number: \"))\n",
    "\n",
    "for i in range(start, end+1):\n",
    "    flag = 0\n",
    "    for j in range(2, i//2 + 1):\n",
    "        if i % j == 0:\n",
    "            flag = 1\n",
    "            break\n",
    "    if flag == 0:\n",
    "        print(i)        "
   ]
  },
  {
   "cell_type": "markdown",
   "id": "b023307f",
   "metadata": {},
   "source": [
    "### Print the following pattern: number of lines is an input from user\n",
    "\n",
    "```\n",
    "*\n",
    "* *\n",
    "* * *\n",
    "* * * *\n",
    "* * * * *\n",
    "```"
   ]
  },
  {
   "cell_type": "code",
   "execution_count": 38,
   "id": "9ea6e16f",
   "metadata": {},
   "outputs": [
    {
     "name": "stdout",
     "output_type": "stream",
     "text": [
      "Enter number of lines: 10\n",
      "* \n",
      "\n",
      "* * \n",
      "\n",
      "* * * \n",
      "\n",
      "* * * * \n",
      "\n",
      "* * * * * \n",
      "\n",
      "* * * * * * \n",
      "\n",
      "* * * * * * * \n",
      "\n",
      "* * * * * * * * \n",
      "\n",
      "* * * * * * * * * \n",
      "\n",
      "* * * * * * * * * * \n",
      "\n"
     ]
    }
   ],
   "source": [
    "n = int(input(\"Enter number of lines: \"))\n",
    "\n",
    "for i in range(1, n+1):\n",
    "    for j in range(i):\n",
    "        print(\"*\", end = \" \")\n",
    "    print(\"\\n\")"
   ]
  },
  {
   "cell_type": "code",
   "execution_count": null,
   "id": "ea2cf989",
   "metadata": {},
   "outputs": [],
   "source": []
  }
 ],
 "metadata": {
  "kernelspec": {
   "display_name": "Python 3 (ipykernel)",
   "language": "python",
   "name": "python3"
  },
  "language_info": {
   "codemirror_mode": {
    "name": "ipython",
    "version": 3
   },
   "file_extension": ".py",
   "mimetype": "text/x-python",
   "name": "python",
   "nbconvert_exporter": "python",
   "pygments_lexer": "ipython3",
   "version": "3.9.7"
  }
 },
 "nbformat": 4,
 "nbformat_minor": 5
}
