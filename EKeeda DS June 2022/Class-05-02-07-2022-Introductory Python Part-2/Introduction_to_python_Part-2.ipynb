{
 "cells": [
  {
   "cell_type": "markdown",
   "id": "18c9658a",
   "metadata": {},
   "source": [
    "## Input function"
   ]
  },
  {
   "cell_type": "code",
   "execution_count": 1,
   "id": "1abbba9b",
   "metadata": {},
   "outputs": [
    {
     "name": "stdout",
     "output_type": "stream",
     "text": [
      "Enter a value: 45.56\n"
     ]
    }
   ],
   "source": [
    "a = float(input(\"Enter a value: \"))"
   ]
  },
  {
   "cell_type": "code",
   "execution_count": 2,
   "id": "71e9510c",
   "metadata": {},
   "outputs": [
    {
     "data": {
      "text/plain": [
       "float"
      ]
     },
     "execution_count": 2,
     "metadata": {},
     "output_type": "execute_result"
    }
   ],
   "source": [
    "type(a)"
   ]
  },
  {
   "cell_type": "code",
   "execution_count": 3,
   "id": "5e1d7a37",
   "metadata": {},
   "outputs": [
    {
     "name": "stdout",
     "output_type": "stream",
     "text": [
      "45.56\n"
     ]
    }
   ],
   "source": [
    "print(a)"
   ]
  },
  {
   "cell_type": "markdown",
   "id": "4c0cc81a",
   "metadata": {},
   "source": [
    "## Type conversion"
   ]
  },
  {
   "cell_type": "code",
   "execution_count": 4,
   "id": "13073ac5",
   "metadata": {},
   "outputs": [],
   "source": [
    "x = 32.567\n",
    "\n",
    "y = 85\n",
    "\n",
    "z = 'I love India'"
   ]
  },
  {
   "cell_type": "code",
   "execution_count": 5,
   "id": "c3a174cd",
   "metadata": {},
   "outputs": [
    {
     "data": {
      "text/plain": [
       "32"
      ]
     },
     "execution_count": 5,
     "metadata": {},
     "output_type": "execute_result"
    }
   ],
   "source": [
    "int(x)  # Conversion of float to integer -> The decimal part will be truncated"
   ]
  },
  {
   "cell_type": "code",
   "execution_count": 6,
   "id": "aea56945",
   "metadata": {},
   "outputs": [
    {
     "data": {
      "text/plain": [
       "int"
      ]
     },
     "execution_count": 6,
     "metadata": {},
     "output_type": "execute_result"
    }
   ],
   "source": [
    "type(y)"
   ]
  },
  {
   "cell_type": "code",
   "execution_count": 7,
   "id": "68557cc1",
   "metadata": {},
   "outputs": [
    {
     "data": {
      "text/plain": [
       "85.0"
      ]
     },
     "execution_count": 7,
     "metadata": {},
     "output_type": "execute_result"
    }
   ],
   "source": [
    "float(y)"
   ]
  },
  {
   "cell_type": "code",
   "execution_count": 8,
   "id": "bb741ddd",
   "metadata": {},
   "outputs": [
    {
     "data": {
      "text/plain": [
       "'32.567'"
      ]
     },
     "execution_count": 8,
     "metadata": {},
     "output_type": "execute_result"
    }
   ],
   "source": [
    "str(x)"
   ]
  },
  {
   "cell_type": "code",
   "execution_count": 9,
   "id": "d7fac1d1",
   "metadata": {},
   "outputs": [
    {
     "data": {
      "text/plain": [
       "'85'"
      ]
     },
     "execution_count": 9,
     "metadata": {},
     "output_type": "execute_result"
    }
   ],
   "source": [
    "str(y)"
   ]
  },
  {
   "cell_type": "code",
   "execution_count": 12,
   "id": "94404ce4",
   "metadata": {},
   "outputs": [
    {
     "ename": "ValueError",
     "evalue": "invalid literal for int() with base 10: '54.564'",
     "output_type": "error",
     "traceback": [
      "\u001b[1;31m---------------------------------------------------------------------------\u001b[0m",
      "\u001b[1;31mValueError\u001b[0m                                Traceback (most recent call last)",
      "\u001b[1;32mC:\\Users\\SOURAV~1\\AppData\\Local\\Temp/ipykernel_22664/3695941499.py\u001b[0m in \u001b[0;36m<module>\u001b[1;34m\u001b[0m\n\u001b[1;32m----> 1\u001b[1;33m \u001b[0mint\u001b[0m\u001b[1;33m(\u001b[0m\u001b[1;34m'54.564'\u001b[0m\u001b[1;33m)\u001b[0m\u001b[1;33m\u001b[0m\u001b[1;33m\u001b[0m\u001b[0m\n\u001b[0m",
      "\u001b[1;31mValueError\u001b[0m: invalid literal for int() with base 10: '54.564'"
     ]
    }
   ],
   "source": [
    "int('54.564')"
   ]
  },
  {
   "cell_type": "code",
   "execution_count": 14,
   "id": "305c9c30",
   "metadata": {},
   "outputs": [
    {
     "data": {
      "text/plain": [
       "54.564"
      ]
     },
     "execution_count": 14,
     "metadata": {},
     "output_type": "execute_result"
    }
   ],
   "source": [
    "float('54.564')"
   ]
  },
  {
   "cell_type": "code",
   "execution_count": 15,
   "id": "4f1d7e4b",
   "metadata": {},
   "outputs": [
    {
     "data": {
      "text/plain": [
       "54"
      ]
     },
     "execution_count": 15,
     "metadata": {},
     "output_type": "execute_result"
    }
   ],
   "source": [
    "int(float('54.564'))"
   ]
  },
  {
   "cell_type": "markdown",
   "id": "b1bfca39",
   "metadata": {},
   "source": [
    "**Rules of type conversion:**\n",
    "\n",
    "- We can convert from float to int, the decimal part of the float will be truncated\n",
    "- We can convert from int to float, a decimal point and a zero will be added\n",
    "- We can convert float / int to string\n",
    "- We can't convert strings like '34.567' to int, but we can convert it to float\n",
    "- We can convert strings like '27' to int"
   ]
  },
  {
   "cell_type": "markdown",
   "id": "2e1d15d9",
   "metadata": {},
   "source": [
    "### Write a code to take input of two numbers from user and produce there sum"
   ]
  },
  {
   "cell_type": "code",
   "execution_count": 16,
   "id": "3d886f85",
   "metadata": {},
   "outputs": [
    {
     "name": "stdout",
     "output_type": "stream",
     "text": [
      "Enter first number: -34.5\n"
     ]
    }
   ],
   "source": [
    "a = float(input(\"Enter first number: \"))"
   ]
  },
  {
   "cell_type": "code",
   "execution_count": 17,
   "id": "e3adb8bd",
   "metadata": {},
   "outputs": [
    {
     "name": "stdout",
     "output_type": "stream",
     "text": [
      "Enter second number: 89\n"
     ]
    }
   ],
   "source": [
    "b = float(input(\"Enter second number: \"))"
   ]
  },
  {
   "cell_type": "code",
   "execution_count": 18,
   "id": "1651a47c",
   "metadata": {},
   "outputs": [],
   "source": [
    "c = a+b"
   ]
  },
  {
   "cell_type": "code",
   "execution_count": 22,
   "id": "a75fc3c2",
   "metadata": {},
   "outputs": [
    {
     "name": "stdout",
     "output_type": "stream",
     "text": [
      "-34.5 + 89.0 = 54.5\n"
     ]
    }
   ],
   "source": [
    "print(a,\"+\", b,\"=\", c)"
   ]
  },
  {
   "cell_type": "markdown",
   "id": "82b8b679",
   "metadata": {},
   "source": [
    "## Formatted print statement"
   ]
  },
  {
   "cell_type": "code",
   "execution_count": 31,
   "id": "8bc75099",
   "metadata": {},
   "outputs": [
    {
     "data": {
      "text/plain": [
       "'My Name is Akash'"
      ]
     },
     "execution_count": 31,
     "metadata": {},
     "output_type": "execute_result"
    }
   ],
   "source": [
    "\"My Name is {}\".format('Akash')"
   ]
  },
  {
   "cell_type": "code",
   "execution_count": 28,
   "id": "33c63405",
   "metadata": {},
   "outputs": [
    {
     "data": {
      "text/plain": [
       "'-34.5 + 89.0 = 54.5'"
      ]
     },
     "execution_count": 28,
     "metadata": {},
     "output_type": "execute_result"
    }
   ],
   "source": [
    "\"{} + {} = {}\".format(a, b, c)"
   ]
  },
  {
   "cell_type": "code",
   "execution_count": 29,
   "id": "6c797b1d",
   "metadata": {},
   "outputs": [
    {
     "name": "stdout",
     "output_type": "stream",
     "text": [
      "-34.5 + 89.0 = 54.5\n"
     ]
    }
   ],
   "source": [
    "print(\"{} + {} = {}\".format(a, b, c))"
   ]
  },
  {
   "cell_type": "code",
   "execution_count": 30,
   "id": "3786daed",
   "metadata": {},
   "outputs": [
    {
     "name": "stdout",
     "output_type": "stream",
     "text": [
      "The sum of -34.5 and 89.0 is 54.5\n"
     ]
    }
   ],
   "source": [
    "print(\"The sum of {} and {} is {}\".format(a, b, c))"
   ]
  },
  {
   "cell_type": "code",
   "execution_count": 32,
   "id": "f1ddf424",
   "metadata": {},
   "outputs": [
    {
     "name": "stdout",
     "output_type": "stream",
     "text": [
      "The sum of -34.5 and 89.0 is 54.5\n"
     ]
    }
   ],
   "source": [
    "print(f\"The sum of {a} and {b} is {c}\") # f-string"
   ]
  },
  {
   "cell_type": "markdown",
   "id": "882ce44d",
   "metadata": {},
   "source": [
    "## Take three sides of a trinagle and produce the area of the triangle"
   ]
  },
  {
   "cell_type": "markdown",
   "id": "f6c47fbe",
   "metadata": {},
   "source": [
    "$ The~sides~are~denoted~by~a,~b,~c $\n",
    "\n",
    "$ Semi-perimeter ~~ s = \\frac{1}{2}\\times(a+b+c) $\n",
    "\n",
    "$ Area = \\sqrt{s(s-a)(s-b)(s-c)}$"
   ]
  },
  {
   "cell_type": "code",
   "execution_count": 37,
   "id": "1cff288e",
   "metadata": {},
   "outputs": [
    {
     "name": "stdout",
     "output_type": "stream",
     "text": [
      "Side-1: 10\n",
      "Side-2: 8\n",
      "Side-3: 6\n"
     ]
    }
   ],
   "source": [
    "a = float(input(\"Side-1: \"))\n",
    "b = float(input(\"Side-2: \"))\n",
    "c = float(input(\"Side-3: \"))"
   ]
  },
  {
   "cell_type": "code",
   "execution_count": 39,
   "id": "73540127",
   "metadata": {},
   "outputs": [],
   "source": [
    "s = 0.5*(a+b+c)"
   ]
  },
  {
   "cell_type": "markdown",
   "id": "be06f94a",
   "metadata": {},
   "source": [
    "$ x^{0.5} = \\sqrt x $"
   ]
  },
  {
   "cell_type": "code",
   "execution_count": 41,
   "id": "264a18b7",
   "metadata": {},
   "outputs": [],
   "source": [
    "area = (s * (s - a) * (s - b) * (s - c))**0.5"
   ]
  },
  {
   "cell_type": "code",
   "execution_count": 42,
   "id": "4d06dce7",
   "metadata": {},
   "outputs": [
    {
     "name": "stdout",
     "output_type": "stream",
     "text": [
      "Area of the triangle is: 24.0\n"
     ]
    }
   ],
   "source": [
    "print(f\"Area of the triangle is: {area}\")"
   ]
  },
  {
   "cell_type": "markdown",
   "id": "4add9367",
   "metadata": {},
   "source": [
    "## String concatenation (addition) and Multiplication"
   ]
  },
  {
   "cell_type": "code",
   "execution_count": 43,
   "id": "ce9c813c",
   "metadata": {},
   "outputs": [],
   "source": [
    "s = \"I am Indian\""
   ]
  },
  {
   "cell_type": "code",
   "execution_count": 44,
   "id": "7a7344a7",
   "metadata": {},
   "outputs": [],
   "source": [
    "x = \"I love my country\""
   ]
  },
  {
   "cell_type": "code",
   "execution_count": 47,
   "id": "2d9da519",
   "metadata": {},
   "outputs": [
    {
     "data": {
      "text/plain": [
       "'I am Indian. I love my country'"
      ]
     },
     "execution_count": 47,
     "metadata": {},
     "output_type": "execute_result"
    }
   ],
   "source": [
    "s + \". \" + x"
   ]
  },
  {
   "cell_type": "code",
   "execution_count": 53,
   "id": "12b6ef0c",
   "metadata": {},
   "outputs": [
    {
     "data": {
      "text/plain": [
       "'I am IndianI am IndianI am IndianI am IndianI am Indian'"
      ]
     },
     "execution_count": 53,
     "metadata": {},
     "output_type": "execute_result"
    }
   ],
   "source": [
    "5 * s"
   ]
  },
  {
   "cell_type": "code",
   "execution_count": 54,
   "id": "aaf8a900",
   "metadata": {},
   "outputs": [
    {
     "data": {
      "text/plain": [
       "'I am IndianI am IndianI am IndianI am IndianI am Indian'"
      ]
     },
     "execution_count": 54,
     "metadata": {},
     "output_type": "execute_result"
    }
   ],
   "source": [
    "s + s + s + s + s"
   ]
  },
  {
   "cell_type": "code",
   "execution_count": 55,
   "id": "c9c68bbf",
   "metadata": {},
   "outputs": [
    {
     "name": "stdout",
     "output_type": "stream",
     "text": [
      "Enter the number: 54\n"
     ]
    }
   ],
   "source": [
    "a = int(input(\"Enter the number: \"))"
   ]
  },
  {
   "cell_type": "markdown",
   "id": "1a251fe1",
   "metadata": {},
   "source": [
    "## Boolean type variable\n",
    "\n",
    "It can take only two values, True or False"
   ]
  },
  {
   "cell_type": "code",
   "execution_count": 59,
   "id": "a01f48d6",
   "metadata": {},
   "outputs": [],
   "source": [
    "b = True"
   ]
  },
  {
   "cell_type": "code",
   "execution_count": 60,
   "id": "da849b5f",
   "metadata": {},
   "outputs": [
    {
     "data": {
      "text/plain": [
       "bool"
      ]
     },
     "execution_count": 60,
     "metadata": {},
     "output_type": "execute_result"
    }
   ],
   "source": [
    "type(b)"
   ]
  },
  {
   "cell_type": "code",
   "execution_count": 62,
   "id": "b2667394",
   "metadata": {},
   "outputs": [],
   "source": [
    "c = False"
   ]
  },
  {
   "cell_type": "code",
   "execution_count": 63,
   "id": "6339b136",
   "metadata": {},
   "outputs": [
    {
     "name": "stdout",
     "output_type": "stream",
     "text": [
      "False\n"
     ]
    }
   ],
   "source": [
    "print(c)"
   ]
  },
  {
   "cell_type": "markdown",
   "id": "1c5805aa",
   "metadata": {},
   "source": [
    "### OR operation"
   ]
  },
  {
   "cell_type": "code",
   "execution_count": 65,
   "id": "f980a5b2",
   "metadata": {},
   "outputs": [
    {
     "data": {
      "text/plain": [
       "True"
      ]
     },
     "execution_count": 65,
     "metadata": {},
     "output_type": "execute_result"
    }
   ],
   "source": [
    "b or c"
   ]
  },
  {
   "cell_type": "markdown",
   "id": "e8095d62",
   "metadata": {},
   "source": [
    "### AND operation"
   ]
  },
  {
   "cell_type": "code",
   "execution_count": 66,
   "id": "231099f8",
   "metadata": {},
   "outputs": [
    {
     "data": {
      "text/plain": [
       "False"
      ]
     },
     "execution_count": 66,
     "metadata": {},
     "output_type": "execute_result"
    }
   ],
   "source": [
    "b and c"
   ]
  },
  {
   "cell_type": "markdown",
   "id": "2bc3ecbd",
   "metadata": {},
   "source": [
    "### NOT operation"
   ]
  },
  {
   "cell_type": "code",
   "execution_count": 68,
   "id": "c0bf2a8b",
   "metadata": {},
   "outputs": [
    {
     "data": {
      "text/plain": [
       "False"
      ]
     },
     "execution_count": 68,
     "metadata": {},
     "output_type": "execute_result"
    }
   ],
   "source": [
    "not b"
   ]
  },
  {
   "cell_type": "code",
   "execution_count": 69,
   "id": "b3558b63",
   "metadata": {},
   "outputs": [
    {
     "data": {
      "text/plain": [
       "True"
      ]
     },
     "execution_count": 69,
     "metadata": {},
     "output_type": "execute_result"
    }
   ],
   "source": [
    "(not b) or (not c)"
   ]
  }
 ],
 "metadata": {
  "kernelspec": {
   "display_name": "Python 3 (ipykernel)",
   "language": "python",
   "name": "python3"
  },
  "language_info": {
   "codemirror_mode": {
    "name": "ipython",
    "version": 3
   },
   "file_extension": ".py",
   "mimetype": "text/x-python",
   "name": "python",
   "nbconvert_exporter": "python",
   "pygments_lexer": "ipython3",
   "version": "3.9.7"
  }
 },
 "nbformat": 4,
 "nbformat_minor": 5
}
