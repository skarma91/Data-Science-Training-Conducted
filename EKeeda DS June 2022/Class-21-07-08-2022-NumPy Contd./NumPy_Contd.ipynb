{
 "cells": [
  {
   "cell_type": "markdown",
   "id": "511db558",
   "metadata": {},
   "source": [
    "## In the previous lecture\n",
    "\n",
    "We have covered:\n",
    "- what is numpy\n",
    "- how to install (pip install numpy) and import numpy (import numpy as np)\n",
    "- different ways of creating numpy array (numpy.array, numpy.asarray, numpy.linspace, numpy.arange, numpy.zeros, numpy.zeros_like, numpy.ones, numpy.ones_like, numpy.empty, numpy.empty_like, numpy.eye, numpy.identity)\n",
    "- datatypes (int64, int32, int8, float32, float64, bool)\n",
    "- shapes and axes\n",
    "- swaping axes\n",
    "- reshaping an array\n",
    "- indexing and slicing"
   ]
  },
  {
   "cell_type": "code",
   "execution_count": 2,
   "id": "37bf6428",
   "metadata": {},
   "outputs": [],
   "source": [
    "import numpy as np"
   ]
  },
  {
   "cell_type": "markdown",
   "id": "17ec405b",
   "metadata": {},
   "source": [
    "## Arithmatic operations on array"
   ]
  },
  {
   "cell_type": "markdown",
   "id": "fb8bf9a5",
   "metadata": {},
   "source": [
    "### Addition"
   ]
  },
  {
   "cell_type": "markdown",
   "id": "798c402a",
   "metadata": {},
   "source": [
    "#### adding a scaler to a ndarray"
   ]
  },
  {
   "cell_type": "code",
   "execution_count": 3,
   "id": "8e0e9180",
   "metadata": {},
   "outputs": [],
   "source": [
    "x = np.array([[1, 2, 3], [4, 5, 6], [7, 8, 9]])"
   ]
  },
  {
   "cell_type": "code",
   "execution_count": 4,
   "id": "779e49b1",
   "metadata": {},
   "outputs": [
    {
     "name": "stdout",
     "output_type": "stream",
     "text": [
      "[[1 2 3]\n",
      " [4 5 6]\n",
      " [7 8 9]]\n"
     ]
    }
   ],
   "source": [
    "print(x)"
   ]
  },
  {
   "cell_type": "code",
   "execution_count": 5,
   "id": "4d8626ea",
   "metadata": {},
   "outputs": [
    {
     "data": {
      "text/plain": [
       "array([[ 4,  5,  6],\n",
       "       [ 7,  8,  9],\n",
       "       [10, 11, 12]])"
      ]
     },
     "execution_count": 5,
     "metadata": {},
     "output_type": "execute_result"
    }
   ],
   "source": [
    "x + 3   # it will add 3 to all the elements of x. this is called scaler broadcasting. "
   ]
  },
  {
   "cell_type": "code",
   "execution_count": 6,
   "id": "29a22072",
   "metadata": {},
   "outputs": [],
   "source": [
    "x2 = np.array([[3, 4, 5],[6, 7, 8],[9, 10 ,11]])"
   ]
  },
  {
   "cell_type": "code",
   "execution_count": 7,
   "id": "154f2ef4",
   "metadata": {},
   "outputs": [
    {
     "name": "stdout",
     "output_type": "stream",
     "text": [
      "[[ 3  4  5]\n",
      " [ 6  7  8]\n",
      " [ 9 10 11]]\n"
     ]
    }
   ],
   "source": [
    "print(x2)"
   ]
  },
  {
   "cell_type": "markdown",
   "id": "6fa060b8",
   "metadata": {},
   "source": [
    "#### Element wise addition"
   ]
  },
  {
   "cell_type": "code",
   "execution_count": 8,
   "id": "6cb17f74",
   "metadata": {},
   "outputs": [
    {
     "data": {
      "text/plain": [
       "array([[ 4,  6,  8],\n",
       "       [10, 12, 14],\n",
       "       [16, 18, 20]])"
      ]
     },
     "execution_count": 8,
     "metadata": {},
     "output_type": "execute_result"
    }
   ],
   "source": [
    "x + x2   # element wise addition "
   ]
  },
  {
   "cell_type": "code",
   "execution_count": 9,
   "id": "9115a569",
   "metadata": {},
   "outputs": [],
   "source": [
    "x3 = np.array([[2, 3, 4], [-1, 0, -2]])"
   ]
  },
  {
   "cell_type": "code",
   "execution_count": 10,
   "id": "d1a7e525",
   "metadata": {},
   "outputs": [
    {
     "name": "stdout",
     "output_type": "stream",
     "text": [
      "[[ 2  3  4]\n",
      " [-1  0 -2]]\n"
     ]
    }
   ],
   "source": [
    "print(x3)"
   ]
  },
  {
   "cell_type": "code",
   "execution_count": 11,
   "id": "13f41f34",
   "metadata": {},
   "outputs": [
    {
     "ename": "ValueError",
     "evalue": "operands could not be broadcast together with shapes (3,3) (2,3) ",
     "output_type": "error",
     "traceback": [
      "\u001b[1;31m---------------------------------------------------------------------------\u001b[0m",
      "\u001b[1;31mValueError\u001b[0m                                Traceback (most recent call last)",
      "\u001b[1;32mC:\\Users\\SOURAV~1\\AppData\\Local\\Temp/ipykernel_7460/1198662428.py\u001b[0m in \u001b[0;36m<module>\u001b[1;34m\u001b[0m\n\u001b[1;32m----> 1\u001b[1;33m \u001b[0mx\u001b[0m \u001b[1;33m+\u001b[0m \u001b[0mx3\u001b[0m\u001b[1;33m\u001b[0m\u001b[1;33m\u001b[0m\u001b[0m\n\u001b[0m",
      "\u001b[1;31mValueError\u001b[0m: operands could not be broadcast together with shapes (3,3) (2,3) "
     ]
    }
   ],
   "source": [
    "x + x3  # this will produce error"
   ]
  },
  {
   "cell_type": "markdown",
   "id": "5377aa2b",
   "metadata": {},
   "source": [
    "To have elementwise addition the shapes of the two multi-dimensional array should be same"
   ]
  },
  {
   "cell_type": "code",
   "execution_count": 12,
   "id": "dbf8617a",
   "metadata": {},
   "outputs": [
    {
     "data": {
      "text/plain": [
       "array([[ 3,  5,  7],\n",
       "       [ 6,  8, 10],\n",
       "       [ 9, 11, 13]])"
      ]
     },
     "execution_count": 12,
     "metadata": {},
     "output_type": "execute_result"
    }
   ],
   "source": [
    "x + x3[0,:]    # broadcasting"
   ]
  },
  {
   "cell_type": "code",
   "execution_count": 14,
   "id": "a450f98d",
   "metadata": {},
   "outputs": [
    {
     "data": {
      "text/plain": [
       "array([2, 3, 4])"
      ]
     },
     "execution_count": 14,
     "metadata": {},
     "output_type": "execute_result"
    }
   ],
   "source": [
    "x3[0,:]"
   ]
  },
  {
   "cell_type": "markdown",
   "id": "72374bc0",
   "metadata": {},
   "source": [
    "### subtraction"
   ]
  },
  {
   "cell_type": "markdown",
   "id": "178b6521",
   "metadata": {},
   "source": [
    "#### subtracting a scaler"
   ]
  },
  {
   "cell_type": "code",
   "execution_count": 16,
   "id": "f2e33c4c",
   "metadata": {},
   "outputs": [
    {
     "data": {
      "text/plain": [
       "array([[1, 2, 3],\n",
       "       [4, 5, 6],\n",
       "       [7, 8, 9]])"
      ]
     },
     "execution_count": 16,
     "metadata": {},
     "output_type": "execute_result"
    }
   ],
   "source": [
    "x"
   ]
  },
  {
   "cell_type": "code",
   "execution_count": 15,
   "id": "fdb6a1e2",
   "metadata": {},
   "outputs": [
    {
     "data": {
      "text/plain": [
       "array([[-2, -1,  0],\n",
       "       [ 1,  2,  3],\n",
       "       [ 4,  5,  6]])"
      ]
     },
     "execution_count": 15,
     "metadata": {},
     "output_type": "execute_result"
    }
   ],
   "source": [
    "x - 3"
   ]
  },
  {
   "cell_type": "markdown",
   "id": "b7297c24",
   "metadata": {},
   "source": [
    "#### subtracting a multidimensonal array "
   ]
  },
  {
   "cell_type": "code",
   "execution_count": 17,
   "id": "fb782dd0",
   "metadata": {},
   "outputs": [
    {
     "data": {
      "text/plain": [
       "array([[ 3,  4,  5],\n",
       "       [ 6,  7,  8],\n",
       "       [ 9, 10, 11]])"
      ]
     },
     "execution_count": 17,
     "metadata": {},
     "output_type": "execute_result"
    }
   ],
   "source": [
    "x2"
   ]
  },
  {
   "cell_type": "code",
   "execution_count": 18,
   "id": "ae363d2d",
   "metadata": {},
   "outputs": [
    {
     "data": {
      "text/plain": [
       "array([[2, 2, 2],\n",
       "       [2, 2, 2],\n",
       "       [2, 2, 2]])"
      ]
     },
     "execution_count": 18,
     "metadata": {},
     "output_type": "execute_result"
    }
   ],
   "source": [
    "x2 - x  # element wise subtraction"
   ]
  },
  {
   "cell_type": "markdown",
   "id": "99f518f3",
   "metadata": {},
   "source": [
    "### Multiplication and division"
   ]
  },
  {
   "cell_type": "code",
   "execution_count": 19,
   "id": "69dbedc3",
   "metadata": {},
   "outputs": [
    {
     "data": {
      "text/plain": [
       "array([[1, 2, 3],\n",
       "       [4, 5, 6],\n",
       "       [7, 8, 9]])"
      ]
     },
     "execution_count": 19,
     "metadata": {},
     "output_type": "execute_result"
    }
   ],
   "source": [
    "x"
   ]
  },
  {
   "cell_type": "code",
   "execution_count": 20,
   "id": "c8178292",
   "metadata": {},
   "outputs": [
    {
     "data": {
      "text/plain": [
       "array([[ 2.5,  5. ,  7.5],\n",
       "       [10. , 12.5, 15. ],\n",
       "       [17.5, 20. , 22.5]])"
      ]
     },
     "execution_count": 20,
     "metadata": {},
     "output_type": "execute_result"
    }
   ],
   "source": [
    "x * 2.5  # broadcasting"
   ]
  },
  {
   "cell_type": "code",
   "execution_count": 21,
   "id": "c10ebb96",
   "metadata": {},
   "outputs": [
    {
     "data": {
      "text/plain": [
       "array([[0.5, 1. , 1.5],\n",
       "       [2. , 2.5, 3. ],\n",
       "       [3.5, 4. , 4.5]])"
      ]
     },
     "execution_count": 21,
     "metadata": {},
     "output_type": "execute_result"
    }
   ],
   "source": [
    "x / 2"
   ]
  },
  {
   "cell_type": "code",
   "execution_count": null,
   "id": "6ce91b87",
   "metadata": {},
   "outputs": [],
   "source": []
  },
  {
   "cell_type": "markdown",
   "id": "8338f0f0",
   "metadata": {},
   "source": [
    "## Array methods"
   ]
  },
  {
   "cell_type": "markdown",
   "id": "4f7946fd",
   "metadata": {},
   "source": [
    "### sort"
   ]
  },
  {
   "cell_type": "code",
   "execution_count": 54,
   "id": "3b0e1f1f",
   "metadata": {},
   "outputs": [],
   "source": [
    "x = np.array([3, -1, 4, 8, 0, 2])"
   ]
  },
  {
   "cell_type": "code",
   "execution_count": 55,
   "id": "80adf23d",
   "metadata": {},
   "outputs": [],
   "source": [
    "x.sort()  # by default the sort method will sort the array in ascending order "
   ]
  },
  {
   "cell_type": "code",
   "execution_count": 56,
   "id": "45f4c135",
   "metadata": {},
   "outputs": [
    {
     "data": {
      "text/plain": [
       "array([-1,  0,  2,  3,  4,  8])"
      ]
     },
     "execution_count": 56,
     "metadata": {},
     "output_type": "execute_result"
    }
   ],
   "source": [
    "x"
   ]
  },
  {
   "cell_type": "code",
   "execution_count": 62,
   "id": "03f90963",
   "metadata": {},
   "outputs": [],
   "source": [
    "y = np.array([3, -1, 4, 2, 6, 3, 8, 0])"
   ]
  },
  {
   "cell_type": "code",
   "execution_count": 63,
   "id": "d8e95270",
   "metadata": {},
   "outputs": [
    {
     "data": {
      "text/plain": [
       "array([ 8,  6,  4,  3,  3,  2,  0, -1])"
      ]
     },
     "execution_count": 63,
     "metadata": {},
     "output_type": "execute_result"
    }
   ],
   "source": [
    "y.sort()\n",
    "y = y[::-1]\n",
    "y"
   ]
  },
  {
   "cell_type": "code",
   "execution_count": 64,
   "id": "6882bee7",
   "metadata": {},
   "outputs": [],
   "source": [
    "z = np.array([[2, 4, 1],[4, 6, 8],[-1, 0, 6], [3, 5, 2]])"
   ]
  },
  {
   "cell_type": "code",
   "execution_count": 66,
   "id": "ce2eef7b",
   "metadata": {},
   "outputs": [
    {
     "data": {
      "text/plain": [
       "array([[ 2,  4,  1],\n",
       "       [ 4,  6,  8],\n",
       "       [-1,  0,  6],\n",
       "       [ 3,  5,  2]])"
      ]
     },
     "execution_count": 66,
     "metadata": {},
     "output_type": "execute_result"
    }
   ],
   "source": [
    "z"
   ]
  },
  {
   "cell_type": "code",
   "execution_count": 67,
   "id": "ec14e083",
   "metadata": {},
   "outputs": [],
   "source": [
    "z.sort(axis=0)  # sort column wise"
   ]
  },
  {
   "cell_type": "code",
   "execution_count": 68,
   "id": "d7bdffbd",
   "metadata": {},
   "outputs": [
    {
     "data": {
      "text/plain": [
       "array([[-1,  0,  1],\n",
       "       [ 2,  4,  2],\n",
       "       [ 3,  5,  6],\n",
       "       [ 4,  6,  8]])"
      ]
     },
     "execution_count": 68,
     "metadata": {},
     "output_type": "execute_result"
    }
   ],
   "source": [
    "z"
   ]
  },
  {
   "cell_type": "code",
   "execution_count": 69,
   "id": "2e2330a5",
   "metadata": {},
   "outputs": [],
   "source": [
    "z = np.array([[2, 4, 1],[4, 6, 8],[-1, 0, 6], [3, 5, 2]])"
   ]
  },
  {
   "cell_type": "code",
   "execution_count": 70,
   "id": "83d1aa40",
   "metadata": {},
   "outputs": [],
   "source": [
    "z.sort(axis=1) # sort row wise "
   ]
  },
  {
   "cell_type": "code",
   "execution_count": 72,
   "id": "7da03cc3",
   "metadata": {},
   "outputs": [
    {
     "data": {
      "text/plain": [
       "array([[ 1,  2,  4],\n",
       "       [ 4,  6,  8],\n",
       "       [-1,  0,  6],\n",
       "       [ 2,  3,  5]])"
      ]
     },
     "execution_count": 72,
     "metadata": {},
     "output_type": "execute_result"
    }
   ],
   "source": [
    "z"
   ]
  },
  {
   "cell_type": "code",
   "execution_count": 73,
   "id": "71fcac1d",
   "metadata": {},
   "outputs": [],
   "source": [
    "z = np.array([[2, 4, 1],[4, 6, 8],[-1, 0, 6], [3, 5, 2]])"
   ]
  },
  {
   "cell_type": "code",
   "execution_count": 74,
   "id": "b45dfe9b",
   "metadata": {},
   "outputs": [],
   "source": [
    "z.sort() # by default it will consider the last axis (here last axis is axis = 1)"
   ]
  },
  {
   "cell_type": "code",
   "execution_count": 75,
   "id": "5815ef9c",
   "metadata": {},
   "outputs": [
    {
     "data": {
      "text/plain": [
       "array([[ 1,  2,  4],\n",
       "       [ 4,  6,  8],\n",
       "       [-1,  0,  6],\n",
       "       [ 2,  3,  5]])"
      ]
     },
     "execution_count": 75,
     "metadata": {},
     "output_type": "execute_result"
    }
   ],
   "source": [
    "z"
   ]
  },
  {
   "cell_type": "markdown",
   "id": "232fba20",
   "metadata": {},
   "source": [
    "### argsort"
   ]
  },
  {
   "cell_type": "code",
   "execution_count": 76,
   "id": "24493ff6",
   "metadata": {},
   "outputs": [],
   "source": [
    "x = np.array([0, 2, -3, -1, 4, 3])"
   ]
  },
  {
   "cell_type": "code",
   "execution_count": 78,
   "id": "1bfcef05",
   "metadata": {},
   "outputs": [
    {
     "data": {
      "text/plain": [
       "array([2, 3, 0, 1, 5, 4], dtype=int64)"
      ]
     },
     "execution_count": 78,
     "metadata": {},
     "output_type": "execute_result"
    }
   ],
   "source": [
    "x.argsort()"
   ]
  },
  {
   "cell_type": "code",
   "execution_count": 79,
   "id": "8bc98ed4",
   "metadata": {},
   "outputs": [],
   "source": [
    "z = np.array([[2, 4, 1],[4, 6, 8],[-1, 0, 6], [3, 5, 2]])"
   ]
  },
  {
   "cell_type": "code",
   "execution_count": 80,
   "id": "ea6c6833",
   "metadata": {},
   "outputs": [
    {
     "data": {
      "text/plain": [
       "array([[ 2,  4,  1],\n",
       "       [ 4,  6,  8],\n",
       "       [-1,  0,  6],\n",
       "       [ 3,  5,  2]])"
      ]
     },
     "execution_count": 80,
     "metadata": {},
     "output_type": "execute_result"
    }
   ],
   "source": [
    "z"
   ]
  },
  {
   "cell_type": "code",
   "execution_count": 81,
   "id": "8ea44147",
   "metadata": {},
   "outputs": [
    {
     "data": {
      "text/plain": [
       "array([[2, 2, 0],\n",
       "       [0, 0, 3],\n",
       "       [3, 3, 2],\n",
       "       [1, 1, 1]], dtype=int64)"
      ]
     },
     "execution_count": 81,
     "metadata": {},
     "output_type": "execute_result"
    }
   ],
   "source": [
    "z.argsort(axis = 0) # column wise"
   ]
  },
  {
   "cell_type": "code",
   "execution_count": 82,
   "id": "fc196e80",
   "metadata": {},
   "outputs": [
    {
     "data": {
      "text/plain": [
       "array([[2, 0, 1],\n",
       "       [0, 1, 2],\n",
       "       [0, 1, 2],\n",
       "       [2, 0, 1]], dtype=int64)"
      ]
     },
     "execution_count": 82,
     "metadata": {},
     "output_type": "execute_result"
    }
   ],
   "source": [
    "z.argsort(axis = 1) # row wise"
   ]
  },
  {
   "cell_type": "code",
   "execution_count": 83,
   "id": "25de27cb",
   "metadata": {},
   "outputs": [
    {
     "data": {
      "text/plain": [
       "array([[2, 0, 1],\n",
       "       [0, 1, 2],\n",
       "       [0, 1, 2],\n",
       "       [2, 0, 1]], dtype=int64)"
      ]
     },
     "execution_count": 83,
     "metadata": {},
     "output_type": "execute_result"
    }
   ],
   "source": [
    "z.argsort() # by default it will consider the last axis, axis = 1"
   ]
  },
  {
   "cell_type": "markdown",
   "id": "3fde0126",
   "metadata": {},
   "source": [
    "### sum"
   ]
  },
  {
   "cell_type": "code",
   "execution_count": 84,
   "id": "8540a531",
   "metadata": {},
   "outputs": [],
   "source": [
    "M = np.arange(1,31,2).reshape(5,3)"
   ]
  },
  {
   "cell_type": "code",
   "execution_count": 85,
   "id": "83e411b2",
   "metadata": {},
   "outputs": [
    {
     "data": {
      "text/plain": [
       "array([[ 1,  3,  5],\n",
       "       [ 7,  9, 11],\n",
       "       [13, 15, 17],\n",
       "       [19, 21, 23],\n",
       "       [25, 27, 29]])"
      ]
     },
     "execution_count": 85,
     "metadata": {},
     "output_type": "execute_result"
    }
   ],
   "source": [
    "M"
   ]
  },
  {
   "cell_type": "code",
   "execution_count": 86,
   "id": "40efceaf",
   "metadata": {},
   "outputs": [
    {
     "data": {
      "text/plain": [
       "225"
      ]
     },
     "execution_count": 86,
     "metadata": {},
     "output_type": "execute_result"
    }
   ],
   "source": [
    "M.sum()  # sum over all the elements of multidimesnional array M"
   ]
  },
  {
   "cell_type": "code",
   "execution_count": 87,
   "id": "89d2d771",
   "metadata": {},
   "outputs": [
    {
     "data": {
      "text/plain": [
       "array([65, 75, 85])"
      ]
     },
     "execution_count": 87,
     "metadata": {},
     "output_type": "execute_result"
    }
   ],
   "source": [
    "M.sum(axis = 0) # column wise sum"
   ]
  },
  {
   "cell_type": "code",
   "execution_count": 88,
   "id": "2f66345c",
   "metadata": {},
   "outputs": [
    {
     "data": {
      "text/plain": [
       "array([ 9, 27, 45, 63, 81])"
      ]
     },
     "execution_count": 88,
     "metadata": {},
     "output_type": "execute_result"
    }
   ],
   "source": [
    "M.sum(axis = 1) # row wise sum"
   ]
  },
  {
   "cell_type": "markdown",
   "id": "8d535854",
   "metadata": {},
   "source": [
    "### average / mean"
   ]
  },
  {
   "cell_type": "code",
   "execution_count": 89,
   "id": "e52bd1cc",
   "metadata": {},
   "outputs": [
    {
     "data": {
      "text/plain": [
       "15.0"
      ]
     },
     "execution_count": 89,
     "metadata": {},
     "output_type": "execute_result"
    }
   ],
   "source": [
    "M.mean() # average / mean of all the numbers"
   ]
  },
  {
   "cell_type": "code",
   "execution_count": 90,
   "id": "af8dd0a4",
   "metadata": {},
   "outputs": [
    {
     "data": {
      "text/plain": [
       "array([13., 15., 17.])"
      ]
     },
     "execution_count": 90,
     "metadata": {},
     "output_type": "execute_result"
    }
   ],
   "source": [
    "M.mean(axis = 0)  # column wise mean"
   ]
  },
  {
   "cell_type": "code",
   "execution_count": 91,
   "id": "133b239b",
   "metadata": {},
   "outputs": [
    {
     "data": {
      "text/plain": [
       "array([ 3.,  9., 15., 21., 27.])"
      ]
     },
     "execution_count": 91,
     "metadata": {},
     "output_type": "execute_result"
    }
   ],
   "source": [
    "M.mean(axis = 1) # row wise mean"
   ]
  },
  {
   "cell_type": "markdown",
   "id": "c015cab8",
   "metadata": {},
   "source": [
    "### max"
   ]
  },
  {
   "cell_type": "code",
   "execution_count": 92,
   "id": "695548d9",
   "metadata": {},
   "outputs": [
    {
     "data": {
      "text/plain": [
       "29"
      ]
     },
     "execution_count": 92,
     "metadata": {},
     "output_type": "execute_result"
    }
   ],
   "source": [
    "M.max()  # maximum of all the value in M"
   ]
  },
  {
   "cell_type": "code",
   "execution_count": 93,
   "id": "48f7a175",
   "metadata": {},
   "outputs": [
    {
     "data": {
      "text/plain": [
       "array([25, 27, 29])"
      ]
     },
     "execution_count": 93,
     "metadata": {},
     "output_type": "execute_result"
    }
   ],
   "source": [
    "M.max(axis=0) # column wise max"
   ]
  },
  {
   "cell_type": "code",
   "execution_count": 94,
   "id": "abeb197d",
   "metadata": {},
   "outputs": [
    {
     "data": {
      "text/plain": [
       "array([ 5, 11, 17, 23, 29])"
      ]
     },
     "execution_count": 94,
     "metadata": {},
     "output_type": "execute_result"
    }
   ],
   "source": [
    "M.max(axis=1) # row wise max "
   ]
  },
  {
   "cell_type": "markdown",
   "id": "10b6ccd7",
   "metadata": {},
   "source": [
    "### argmax"
   ]
  },
  {
   "cell_type": "code",
   "execution_count": 95,
   "id": "e482c67f",
   "metadata": {},
   "outputs": [
    {
     "data": {
      "text/plain": [
       "14"
      ]
     },
     "execution_count": 95,
     "metadata": {},
     "output_type": "execute_result"
    }
   ],
   "source": [
    "M.argmax()"
   ]
  },
  {
   "cell_type": "code",
   "execution_count": 96,
   "id": "83712c1e",
   "metadata": {},
   "outputs": [
    {
     "data": {
      "text/plain": [
       "array([4, 4, 4], dtype=int64)"
      ]
     },
     "execution_count": 96,
     "metadata": {},
     "output_type": "execute_result"
    }
   ],
   "source": [
    "M.argmax(axis = 0)"
   ]
  },
  {
   "cell_type": "code",
   "execution_count": 98,
   "id": "1d479682",
   "metadata": {},
   "outputs": [
    {
     "data": {
      "text/plain": [
       "array([2, 2, 2, 2, 2], dtype=int64)"
      ]
     },
     "execution_count": 98,
     "metadata": {},
     "output_type": "execute_result"
    }
   ],
   "source": [
    "M.argmax(axis = 1)"
   ]
  },
  {
   "cell_type": "code",
   "execution_count": 99,
   "id": "d10fad32",
   "metadata": {},
   "outputs": [],
   "source": [
    "z = np.array([[2, 4, 1],[4, 6, 8],[-1, 0, 6], [3, 5, 2]])"
   ]
  },
  {
   "cell_type": "code",
   "execution_count": 100,
   "id": "6b0d6005",
   "metadata": {},
   "outputs": [
    {
     "data": {
      "text/plain": [
       "array([[ 2,  4,  1],\n",
       "       [ 4,  6,  8],\n",
       "       [-1,  0,  6],\n",
       "       [ 3,  5,  2]])"
      ]
     },
     "execution_count": 100,
     "metadata": {},
     "output_type": "execute_result"
    }
   ],
   "source": [
    "z"
   ]
  },
  {
   "cell_type": "code",
   "execution_count": 101,
   "id": "5a705f7b",
   "metadata": {},
   "outputs": [
    {
     "data": {
      "text/plain": [
       "5"
      ]
     },
     "execution_count": 101,
     "metadata": {},
     "output_type": "execute_result"
    }
   ],
   "source": [
    "z.argmax()"
   ]
  },
  {
   "cell_type": "code",
   "execution_count": 102,
   "id": "c8b93eab",
   "metadata": {},
   "outputs": [
    {
     "data": {
      "text/plain": [
       "array([1, 1, 1], dtype=int64)"
      ]
     },
     "execution_count": 102,
     "metadata": {},
     "output_type": "execute_result"
    }
   ],
   "source": [
    "z.argmax(axis = 0)"
   ]
  },
  {
   "cell_type": "code",
   "execution_count": 103,
   "id": "72a1cb49",
   "metadata": {},
   "outputs": [
    {
     "data": {
      "text/plain": [
       "array([1, 2, 2, 1], dtype=int64)"
      ]
     },
     "execution_count": 103,
     "metadata": {},
     "output_type": "execute_result"
    }
   ],
   "source": [
    "z.argmax(axis = 1)"
   ]
  },
  {
   "cell_type": "markdown",
   "id": "d34c40a6",
   "metadata": {},
   "source": [
    "### min"
   ]
  },
  {
   "cell_type": "code",
   "execution_count": 104,
   "id": "a550c267",
   "metadata": {},
   "outputs": [
    {
     "data": {
      "text/plain": [
       "-1"
      ]
     },
     "execution_count": 104,
     "metadata": {},
     "output_type": "execute_result"
    }
   ],
   "source": [
    "z.min()"
   ]
  },
  {
   "cell_type": "code",
   "execution_count": 105,
   "id": "9e25d9ee",
   "metadata": {},
   "outputs": [
    {
     "data": {
      "text/plain": [
       "array([-1,  0,  1])"
      ]
     },
     "execution_count": 105,
     "metadata": {},
     "output_type": "execute_result"
    }
   ],
   "source": [
    "z.min(axis = 0)"
   ]
  },
  {
   "cell_type": "code",
   "execution_count": 106,
   "id": "ee19051e",
   "metadata": {},
   "outputs": [
    {
     "data": {
      "text/plain": [
       "array([ 1,  4, -1,  2])"
      ]
     },
     "execution_count": 106,
     "metadata": {},
     "output_type": "execute_result"
    }
   ],
   "source": [
    "z.min(axis = 1)"
   ]
  },
  {
   "cell_type": "markdown",
   "id": "6ffc3d27",
   "metadata": {},
   "source": [
    "### argmin"
   ]
  },
  {
   "cell_type": "code",
   "execution_count": 107,
   "id": "a3134bfb",
   "metadata": {},
   "outputs": [
    {
     "data": {
      "text/plain": [
       "6"
      ]
     },
     "execution_count": 107,
     "metadata": {},
     "output_type": "execute_result"
    }
   ],
   "source": [
    "z.argmin()"
   ]
  },
  {
   "cell_type": "code",
   "execution_count": 108,
   "id": "429a1c96",
   "metadata": {},
   "outputs": [
    {
     "data": {
      "text/plain": [
       "array([2, 2, 0], dtype=int64)"
      ]
     },
     "execution_count": 108,
     "metadata": {},
     "output_type": "execute_result"
    }
   ],
   "source": [
    "z.argmin(axis = 0) # column wise "
   ]
  },
  {
   "cell_type": "code",
   "execution_count": 109,
   "id": "5a289a6c",
   "metadata": {},
   "outputs": [
    {
     "data": {
      "text/plain": [
       "array([2, 0, 0, 2], dtype=int64)"
      ]
     },
     "execution_count": 109,
     "metadata": {},
     "output_type": "execute_result"
    }
   ],
   "source": [
    "z.argmin(axis = 1) # row wise"
   ]
  },
  {
   "cell_type": "markdown",
   "id": "ff0029b0",
   "metadata": {},
   "source": [
    "### Cumulative sum"
   ]
  },
  {
   "cell_type": "code",
   "execution_count": 110,
   "id": "5fe7fea4",
   "metadata": {},
   "outputs": [],
   "source": [
    "x = np.array([2, 3, 1, 5, 9, 0, 4])"
   ]
  },
  {
   "cell_type": "code",
   "execution_count": 111,
   "id": "9b49e38e",
   "metadata": {},
   "outputs": [
    {
     "data": {
      "text/plain": [
       "array([2, 3, 1, 5, 9, 0, 4])"
      ]
     },
     "execution_count": 111,
     "metadata": {},
     "output_type": "execute_result"
    }
   ],
   "source": [
    "x"
   ]
  },
  {
   "cell_type": "code",
   "execution_count": 112,
   "id": "0fde3fd2",
   "metadata": {},
   "outputs": [
    {
     "data": {
      "text/plain": [
       "array([ 2,  5,  6, 11, 20, 20, 24], dtype=int32)"
      ]
     },
     "execution_count": 112,
     "metadata": {},
     "output_type": "execute_result"
    }
   ],
   "source": [
    "x.cumsum()"
   ]
  },
  {
   "cell_type": "code",
   "execution_count": 113,
   "id": "3a33bc41",
   "metadata": {},
   "outputs": [
    {
     "data": {
      "text/plain": [
       "array([ 2,  5,  6, 11, 20, 20, 24], dtype=int32)"
      ]
     },
     "execution_count": 113,
     "metadata": {},
     "output_type": "execute_result"
    }
   ],
   "source": [
    "np.cumsum(x)"
   ]
  },
  {
   "cell_type": "markdown",
   "id": "615548d6",
   "metadata": {},
   "source": [
    "### Cumulative product"
   ]
  },
  {
   "cell_type": "code",
   "execution_count": 114,
   "id": "ef103d9d",
   "metadata": {},
   "outputs": [
    {
     "data": {
      "text/plain": [
       "array([2, 3, 1, 5, 9, 0, 4])"
      ]
     },
     "execution_count": 114,
     "metadata": {},
     "output_type": "execute_result"
    }
   ],
   "source": [
    "x"
   ]
  },
  {
   "cell_type": "code",
   "execution_count": 115,
   "id": "95a57812",
   "metadata": {},
   "outputs": [
    {
     "data": {
      "text/plain": [
       "array([  2,   6,   6,  30, 270,   0,   0], dtype=int32)"
      ]
     },
     "execution_count": 115,
     "metadata": {},
     "output_type": "execute_result"
    }
   ],
   "source": [
    "x.cumprod()"
   ]
  },
  {
   "cell_type": "markdown",
   "id": "ae53da17",
   "metadata": {},
   "source": [
    "### Standard Deviation"
   ]
  },
  {
   "cell_type": "code",
   "execution_count": 116,
   "id": "e591756d",
   "metadata": {},
   "outputs": [
    {
     "data": {
      "text/plain": [
       "2.7701027756664733"
      ]
     },
     "execution_count": 116,
     "metadata": {},
     "output_type": "execute_result"
    }
   ],
   "source": [
    "x.std()"
   ]
  },
  {
   "cell_type": "code",
   "execution_count": 117,
   "id": "1a3b35a6",
   "metadata": {},
   "outputs": [
    {
     "data": {
      "text/plain": [
       "array([[ 2,  4,  1],\n",
       "       [ 4,  6,  8],\n",
       "       [-1,  0,  6],\n",
       "       [ 3,  5,  2]])"
      ]
     },
     "execution_count": 117,
     "metadata": {},
     "output_type": "execute_result"
    }
   ],
   "source": [
    "z"
   ]
  },
  {
   "cell_type": "code",
   "execution_count": 118,
   "id": "09f10520",
   "metadata": {},
   "outputs": [
    {
     "data": {
      "text/plain": [
       "array([1.87082869, 2.27760839, 2.86138079])"
      ]
     },
     "execution_count": 118,
     "metadata": {},
     "output_type": "execute_result"
    }
   ],
   "source": [
    "z.std(axis = 0) # columnwise"
   ]
  },
  {
   "cell_type": "code",
   "execution_count": 119,
   "id": "a185a640",
   "metadata": {},
   "outputs": [
    {
     "data": {
      "text/plain": [
       "array([1.24721913, 1.63299316, 3.09120617, 1.24721913])"
      ]
     },
     "execution_count": 119,
     "metadata": {},
     "output_type": "execute_result"
    }
   ],
   "source": [
    "z.std(axis = 1) # row wise"
   ]
  },
  {
   "cell_type": "markdown",
   "id": "8da5addc",
   "metadata": {},
   "source": [
    "### variance"
   ]
  },
  {
   "cell_type": "code",
   "execution_count": 120,
   "id": "ee71664c",
   "metadata": {},
   "outputs": [
    {
     "data": {
      "text/plain": [
       "7.673469387755101"
      ]
     },
     "execution_count": 120,
     "metadata": {},
     "output_type": "execute_result"
    }
   ],
   "source": [
    "x.var()"
   ]
  },
  {
   "cell_type": "code",
   "execution_count": 121,
   "id": "cb7893ae",
   "metadata": {},
   "outputs": [
    {
     "data": {
      "text/plain": [
       "array([3.5   , 5.1875, 8.1875])"
      ]
     },
     "execution_count": 121,
     "metadata": {},
     "output_type": "execute_result"
    }
   ],
   "source": [
    "z.var(axis = 0) # column wise"
   ]
  },
  {
   "cell_type": "code",
   "execution_count": 122,
   "id": "617c682d",
   "metadata": {},
   "outputs": [
    {
     "data": {
      "text/plain": [
       "array([1.55555556, 2.66666667, 9.55555556, 1.55555556])"
      ]
     },
     "execution_count": 122,
     "metadata": {},
     "output_type": "execute_result"
    }
   ],
   "source": [
    "z.var(axis = 1) # row wise"
   ]
  },
  {
   "cell_type": "markdown",
   "id": "f6c5201d",
   "metadata": {},
   "source": [
    "## Mutability and copy of the numpy array"
   ]
  },
  {
   "cell_type": "code",
   "execution_count": 123,
   "id": "9cd7a915",
   "metadata": {},
   "outputs": [],
   "source": [
    "x = np.array([1, -1, 2, 4, -5, 6])"
   ]
  },
  {
   "cell_type": "code",
   "execution_count": 124,
   "id": "1dbb7853",
   "metadata": {},
   "outputs": [],
   "source": [
    "y = x # both y and x will point to the same memory location"
   ]
  },
  {
   "cell_type": "code",
   "execution_count": 125,
   "id": "cf6152b4",
   "metadata": {},
   "outputs": [
    {
     "data": {
      "text/plain": [
       "array([ 1, -1,  2,  4, -5,  6])"
      ]
     },
     "execution_count": 125,
     "metadata": {},
     "output_type": "execute_result"
    }
   ],
   "source": [
    "y"
   ]
  },
  {
   "cell_type": "code",
   "execution_count": 126,
   "id": "9e84bee4",
   "metadata": {},
   "outputs": [],
   "source": [
    "y[2] = 8"
   ]
  },
  {
   "cell_type": "code",
   "execution_count": 127,
   "id": "1b13c9a8",
   "metadata": {},
   "outputs": [
    {
     "data": {
      "text/plain": [
       "array([ 1, -1,  8,  4, -5,  6])"
      ]
     },
     "execution_count": 127,
     "metadata": {},
     "output_type": "execute_result"
    }
   ],
   "source": [
    "y"
   ]
  },
  {
   "cell_type": "code",
   "execution_count": 128,
   "id": "aba48af1",
   "metadata": {},
   "outputs": [
    {
     "data": {
      "text/plain": [
       "array([ 1, -1,  8,  4, -5,  6])"
      ]
     },
     "execution_count": 128,
     "metadata": {},
     "output_type": "execute_result"
    }
   ],
   "source": [
    "x   # note that x has also changed"
   ]
  },
  {
   "cell_type": "code",
   "execution_count": 129,
   "id": "86c93ead",
   "metadata": {},
   "outputs": [],
   "source": [
    "z = x.copy() # creates a separate copy of x in memory"
   ]
  },
  {
   "cell_type": "code",
   "execution_count": 130,
   "id": "76ac0ad7",
   "metadata": {},
   "outputs": [
    {
     "data": {
      "text/plain": [
       "array([ 1, -1,  8,  4, -5,  6])"
      ]
     },
     "execution_count": 130,
     "metadata": {},
     "output_type": "execute_result"
    }
   ],
   "source": [
    "z"
   ]
  },
  {
   "cell_type": "code",
   "execution_count": 131,
   "id": "ce3905b5",
   "metadata": {},
   "outputs": [],
   "source": [
    "z[4] = 10"
   ]
  },
  {
   "cell_type": "code",
   "execution_count": 132,
   "id": "94b415b6",
   "metadata": {},
   "outputs": [
    {
     "data": {
      "text/plain": [
       "array([ 1, -1,  8,  4, 10,  6])"
      ]
     },
     "execution_count": 132,
     "metadata": {},
     "output_type": "execute_result"
    }
   ],
   "source": [
    "z"
   ]
  },
  {
   "cell_type": "code",
   "execution_count": 133,
   "id": "28fb201b",
   "metadata": {},
   "outputs": [
    {
     "data": {
      "text/plain": [
       "array([ 1, -1,  8,  4, -5,  6])"
      ]
     },
     "execution_count": 133,
     "metadata": {},
     "output_type": "execute_result"
    }
   ],
   "source": [
    "x # notice that the change in z has not reflected in x"
   ]
  },
  {
   "cell_type": "markdown",
   "id": "ec324e47",
   "metadata": {},
   "source": [
    "## Concatenation and Stacking"
   ]
  },
  {
   "cell_type": "code",
   "execution_count": 134,
   "id": "34ad4e2e",
   "metadata": {},
   "outputs": [],
   "source": [
    "X = np.array([[1, 2, 3, 4], [-1, 7, -3, 9]])"
   ]
  },
  {
   "cell_type": "code",
   "execution_count": 135,
   "id": "ec85e442",
   "metadata": {},
   "outputs": [
    {
     "data": {
      "text/plain": [
       "array([[ 1,  2,  3,  4],\n",
       "       [-1,  7, -3,  9]])"
      ]
     },
     "execution_count": 135,
     "metadata": {},
     "output_type": "execute_result"
    }
   ],
   "source": [
    "X"
   ]
  },
  {
   "cell_type": "code",
   "execution_count": 136,
   "id": "09c287fc",
   "metadata": {},
   "outputs": [],
   "source": [
    "Y = np.arange(3, 25, 3).reshape(2,4)"
   ]
  },
  {
   "cell_type": "code",
   "execution_count": 137,
   "id": "69f51ab5",
   "metadata": {},
   "outputs": [
    {
     "data": {
      "text/plain": [
       "array([[ 3,  6,  9, 12],\n",
       "       [15, 18, 21, 24]])"
      ]
     },
     "execution_count": 137,
     "metadata": {},
     "output_type": "execute_result"
    }
   ],
   "source": [
    "Y"
   ]
  },
  {
   "cell_type": "code",
   "execution_count": 139,
   "id": "943d6569",
   "metadata": {},
   "outputs": [],
   "source": [
    "Z = np.stack((X,Y), axis = 0)   # horizontal stacking"
   ]
  },
  {
   "cell_type": "code",
   "execution_count": 140,
   "id": "f70b2537",
   "metadata": {},
   "outputs": [
    {
     "data": {
      "text/plain": [
       "(2, 2, 4)"
      ]
     },
     "execution_count": 140,
     "metadata": {},
     "output_type": "execute_result"
    }
   ],
   "source": [
    "Z.shape"
   ]
  },
  {
   "cell_type": "code",
   "execution_count": 141,
   "id": "b501676e",
   "metadata": {},
   "outputs": [
    {
     "data": {
      "text/plain": [
       "array([[[ 1,  2,  3,  4],\n",
       "        [-1,  7, -3,  9]],\n",
       "\n",
       "       [[ 3,  6,  9, 12],\n",
       "        [15, 18, 21, 24]]])"
      ]
     },
     "execution_count": 141,
     "metadata": {},
     "output_type": "execute_result"
    }
   ],
   "source": [
    "Z"
   ]
  },
  {
   "cell_type": "code",
   "execution_count": 142,
   "id": "4aed72c6",
   "metadata": {},
   "outputs": [],
   "source": [
    "W = np.stack((X,Y), axis = 1) "
   ]
  },
  {
   "cell_type": "code",
   "execution_count": 143,
   "id": "1e24319e",
   "metadata": {},
   "outputs": [
    {
     "data": {
      "text/plain": [
       "(2, 2, 4)"
      ]
     },
     "execution_count": 143,
     "metadata": {},
     "output_type": "execute_result"
    }
   ],
   "source": [
    "W.shape"
   ]
  },
  {
   "cell_type": "code",
   "execution_count": 144,
   "id": "3754efce",
   "metadata": {},
   "outputs": [
    {
     "data": {
      "text/plain": [
       "array([[[ 1,  2,  3,  4],\n",
       "        [ 3,  6,  9, 12]],\n",
       "\n",
       "       [[-1,  7, -3,  9],\n",
       "        [15, 18, 21, 24]]])"
      ]
     },
     "execution_count": 144,
     "metadata": {},
     "output_type": "execute_result"
    }
   ],
   "source": [
    "W"
   ]
  },
  {
   "cell_type": "code",
   "execution_count": 145,
   "id": "63084b37",
   "metadata": {},
   "outputs": [
    {
     "data": {
      "text/plain": [
       "array([[ 1,  2,  3,  4],\n",
       "       [-1,  7, -3,  9],\n",
       "       [ 3,  6,  9, 12],\n",
       "       [15, 18, 21, 24]])"
      ]
     },
     "execution_count": 145,
     "metadata": {},
     "output_type": "execute_result"
    }
   ],
   "source": [
    "np.concatenate((X,Y), axis = 0)"
   ]
  },
  {
   "cell_type": "code",
   "execution_count": 146,
   "id": "71c0bb14",
   "metadata": {},
   "outputs": [
    {
     "data": {
      "text/plain": [
       "array([[ 1,  2,  3,  4,  3,  6,  9, 12],\n",
       "       [-1,  7, -3,  9, 15, 18, 21, 24]])"
      ]
     },
     "execution_count": 146,
     "metadata": {},
     "output_type": "execute_result"
    }
   ],
   "source": [
    "np.concatenate((X,Y), axis = 1)"
   ]
  },
  {
   "cell_type": "code",
   "execution_count": 147,
   "id": "2ab88d73",
   "metadata": {},
   "outputs": [
    {
     "data": {
      "text/plain": [
       "array([[ 1,  2,  3,  4,  3,  6,  9, 12],\n",
       "       [-1,  7, -3,  9, 15, 18, 21, 24]])"
      ]
     },
     "execution_count": 147,
     "metadata": {},
     "output_type": "execute_result"
    }
   ],
   "source": [
    "np.hstack((X,Y))   # concatenate along axis = 1"
   ]
  },
  {
   "cell_type": "code",
   "execution_count": 148,
   "id": "3b454f73",
   "metadata": {},
   "outputs": [
    {
     "data": {
      "text/plain": [
       "array([[ 1,  2,  3,  4],\n",
       "       [-1,  7, -3,  9],\n",
       "       [ 3,  6,  9, 12],\n",
       "       [15, 18, 21, 24]])"
      ]
     },
     "execution_count": 148,
     "metadata": {},
     "output_type": "execute_result"
    }
   ],
   "source": [
    "np.vstack((X,Y)) # concatenate along axis = 0"
   ]
  },
  {
   "cell_type": "markdown",
   "id": "f6f3c0db",
   "metadata": {},
   "source": [
    "## Vector, matrix operations"
   ]
  },
  {
   "cell_type": "markdown",
   "id": "d286461f",
   "metadata": {},
   "source": [
    "### transpose of matrix"
   ]
  },
  {
   "cell_type": "code",
   "execution_count": 22,
   "id": "49e17707",
   "metadata": {},
   "outputs": [],
   "source": [
    "y = np.array([[1, 2, 3, 4],[5, 6, 7, 8]])"
   ]
  },
  {
   "cell_type": "code",
   "execution_count": 23,
   "id": "22ea7c30",
   "metadata": {},
   "outputs": [
    {
     "data": {
      "text/plain": [
       "(2, 4)"
      ]
     },
     "execution_count": 23,
     "metadata": {},
     "output_type": "execute_result"
    }
   ],
   "source": [
    "y.shape"
   ]
  },
  {
   "cell_type": "code",
   "execution_count": 25,
   "id": "9d18db5c",
   "metadata": {},
   "outputs": [
    {
     "name": "stdout",
     "output_type": "stream",
     "text": [
      "[[1 2 3 4]\n",
      " [5 6 7 8]]\n"
     ]
    }
   ],
   "source": [
    "print(y)"
   ]
  },
  {
   "cell_type": "code",
   "execution_count": 26,
   "id": "cf50315f",
   "metadata": {},
   "outputs": [
    {
     "data": {
      "text/plain": [
       "array([[1, 5],\n",
       "       [2, 6],\n",
       "       [3, 7],\n",
       "       [4, 8]])"
      ]
     },
     "execution_count": 26,
     "metadata": {},
     "output_type": "execute_result"
    }
   ],
   "source": [
    "y.T"
   ]
  },
  {
   "cell_type": "code",
   "execution_count": 28,
   "id": "8a5fecb2",
   "metadata": {},
   "outputs": [
    {
     "data": {
      "text/plain": [
       "(4, 2)"
      ]
     },
     "execution_count": 28,
     "metadata": {},
     "output_type": "execute_result"
    }
   ],
   "source": [
    "y.T.shape"
   ]
  },
  {
   "cell_type": "markdown",
   "id": "9be50205",
   "metadata": {},
   "source": [
    "### Elementwise product (Hadamard product)"
   ]
  },
  {
   "cell_type": "code",
   "execution_count": 29,
   "id": "5fa3f146",
   "metadata": {},
   "outputs": [
    {
     "data": {
      "text/plain": [
       "array([[1, 2, 3],\n",
       "       [4, 5, 6],\n",
       "       [7, 8, 9]])"
      ]
     },
     "execution_count": 29,
     "metadata": {},
     "output_type": "execute_result"
    }
   ],
   "source": [
    "x"
   ]
  },
  {
   "cell_type": "code",
   "execution_count": 30,
   "id": "abc7f184",
   "metadata": {},
   "outputs": [
    {
     "data": {
      "text/plain": [
       "array([[ 3,  4,  5],\n",
       "       [ 6,  7,  8],\n",
       "       [ 9, 10, 11]])"
      ]
     },
     "execution_count": 30,
     "metadata": {},
     "output_type": "execute_result"
    }
   ],
   "source": [
    "x2"
   ]
  },
  {
   "cell_type": "code",
   "execution_count": 31,
   "id": "21592629",
   "metadata": {},
   "outputs": [
    {
     "data": {
      "text/plain": [
       "array([[ 3,  8, 15],\n",
       "       [24, 35, 48],\n",
       "       [63, 80, 99]])"
      ]
     },
     "execution_count": 31,
     "metadata": {},
     "output_type": "execute_result"
    }
   ],
   "source": [
    "x * x2"
   ]
  },
  {
   "cell_type": "markdown",
   "id": "32872c0d",
   "metadata": {},
   "source": [
    "### Vector inner product or dot product (scaler product)"
   ]
  },
  {
   "cell_type": "code",
   "execution_count": 32,
   "id": "530fa601",
   "metadata": {},
   "outputs": [],
   "source": [
    "v1 = np.array([1, 2, 3, 4])"
   ]
  },
  {
   "cell_type": "code",
   "execution_count": 33,
   "id": "92fb55d8",
   "metadata": {},
   "outputs": [],
   "source": [
    "v2 = np.array([-2, 3, -1, 5])"
   ]
  },
  {
   "cell_type": "code",
   "execution_count": 35,
   "id": "0fa44889",
   "metadata": {},
   "outputs": [
    {
     "data": {
      "text/plain": [
       "(array([1, 2, 3, 4]), array([-2,  3, -1,  5]))"
      ]
     },
     "execution_count": 35,
     "metadata": {},
     "output_type": "execute_result"
    }
   ],
   "source": [
    "v1, v2"
   ]
  },
  {
   "cell_type": "code",
   "execution_count": 36,
   "id": "ef77816a",
   "metadata": {},
   "outputs": [
    {
     "data": {
      "text/plain": [
       "21"
      ]
     },
     "execution_count": 36,
     "metadata": {},
     "output_type": "execute_result"
    }
   ],
   "source": [
    "np.dot(v1, v2)"
   ]
  },
  {
   "cell_type": "code",
   "execution_count": 38,
   "id": "4059f8fc",
   "metadata": {},
   "outputs": [
    {
     "data": {
      "text/plain": [
       "21"
      ]
     },
     "execution_count": 38,
     "metadata": {},
     "output_type": "execute_result"
    }
   ],
   "source": [
    "v1 @ v2"
   ]
  },
  {
   "cell_type": "markdown",
   "id": "54fff503",
   "metadata": {},
   "source": [
    "### Vector matrix multiplication"
   ]
  },
  {
   "cell_type": "code",
   "execution_count": 39,
   "id": "9435a0ca",
   "metadata": {},
   "outputs": [],
   "source": [
    "M = np.array([[10, 9], [12, 7], [13, 8]])"
   ]
  },
  {
   "cell_type": "code",
   "execution_count": 40,
   "id": "374f92c0",
   "metadata": {},
   "outputs": [],
   "source": [
    "v = np.array([1, 2, 3])"
   ]
  },
  {
   "cell_type": "code",
   "execution_count": 41,
   "id": "ca1a5749",
   "metadata": {},
   "outputs": [
    {
     "data": {
      "text/plain": [
       "array([73, 47])"
      ]
     },
     "execution_count": 41,
     "metadata": {},
     "output_type": "execute_result"
    }
   ],
   "source": [
    "v @ M"
   ]
  },
  {
   "cell_type": "code",
   "execution_count": 42,
   "id": "9e997e5d",
   "metadata": {},
   "outputs": [
    {
     "data": {
      "text/plain": [
       "array([73, 47])"
      ]
     },
     "execution_count": 42,
     "metadata": {},
     "output_type": "execute_result"
    }
   ],
   "source": [
    "np.dot(v, M)"
   ]
  },
  {
   "cell_type": "markdown",
   "id": "92e3f02f",
   "metadata": {},
   "source": [
    "### Matrix Matrix multiplication"
   ]
  },
  {
   "cell_type": "code",
   "execution_count": 43,
   "id": "21ba786a",
   "metadata": {},
   "outputs": [
    {
     "data": {
      "text/plain": [
       "array([[3, 2, 1, 5],\n",
       "       [4, 2, 8, 9]])"
      ]
     },
     "execution_count": 43,
     "metadata": {},
     "output_type": "execute_result"
    }
   ],
   "source": [
    "M1 = np.array([[3, 2, 1, 5],[4, 2, 8, 9]])\n",
    "\n",
    "M1"
   ]
  },
  {
   "cell_type": "code",
   "execution_count": 44,
   "id": "8463596d",
   "metadata": {},
   "outputs": [],
   "source": [
    "M2 = np.array([[3, 4, 5],[6, 7, 8], [10, 12, 14], [1, 2, 3]])"
   ]
  },
  {
   "cell_type": "code",
   "execution_count": 45,
   "id": "ad74dabf",
   "metadata": {},
   "outputs": [
    {
     "data": {
      "text/plain": [
       "array([[ 3,  4,  5],\n",
       "       [ 6,  7,  8],\n",
       "       [10, 12, 14],\n",
       "       [ 1,  2,  3]])"
      ]
     },
     "execution_count": 45,
     "metadata": {},
     "output_type": "execute_result"
    }
   ],
   "source": [
    "M2"
   ]
  },
  {
   "cell_type": "code",
   "execution_count": 46,
   "id": "0f7b0816",
   "metadata": {},
   "outputs": [
    {
     "data": {
      "text/plain": [
       "(2, 4)"
      ]
     },
     "execution_count": 46,
     "metadata": {},
     "output_type": "execute_result"
    }
   ],
   "source": [
    "M1.shape"
   ]
  },
  {
   "cell_type": "code",
   "execution_count": 47,
   "id": "bdecf167",
   "metadata": {},
   "outputs": [
    {
     "data": {
      "text/plain": [
       "(4, 3)"
      ]
     },
     "execution_count": 47,
     "metadata": {},
     "output_type": "execute_result"
    }
   ],
   "source": [
    "M2.shape"
   ]
  },
  {
   "cell_type": "code",
   "execution_count": 48,
   "id": "0645ce15",
   "metadata": {},
   "outputs": [
    {
     "data": {
      "text/plain": [
       "array([[ 36,  48,  60],\n",
       "       [113, 144, 175]])"
      ]
     },
     "execution_count": 48,
     "metadata": {},
     "output_type": "execute_result"
    }
   ],
   "source": [
    "M1 @ M2"
   ]
  },
  {
   "cell_type": "code",
   "execution_count": 49,
   "id": "2d30fac0",
   "metadata": {},
   "outputs": [
    {
     "data": {
      "text/plain": [
       "array([[ 36,  48,  60],\n",
       "       [113, 144, 175]])"
      ]
     },
     "execution_count": 49,
     "metadata": {},
     "output_type": "execute_result"
    }
   ],
   "source": [
    "np.dot(M1, M2)"
   ]
  },
  {
   "cell_type": "code",
   "execution_count": 50,
   "id": "f252c73b",
   "metadata": {},
   "outputs": [
    {
     "data": {
      "text/plain": [
       "array([[ 36,  48,  60],\n",
       "       [113, 144, 175]])"
      ]
     },
     "execution_count": 50,
     "metadata": {},
     "output_type": "execute_result"
    }
   ],
   "source": [
    "np.matmul(M1, M2)"
   ]
  },
  {
   "cell_type": "code",
   "execution_count": 51,
   "id": "1a0d9f1f",
   "metadata": {},
   "outputs": [
    {
     "data": {
      "text/plain": [
       "array([[ 3,  4,  5],\n",
       "       [ 6,  7,  8],\n",
       "       [10, 12, 14]])"
      ]
     },
     "execution_count": 51,
     "metadata": {},
     "output_type": "execute_result"
    }
   ],
   "source": [
    "M3 = M2[:3,:]\n",
    "\n",
    "M3"
   ]
  },
  {
   "cell_type": "code",
   "execution_count": 52,
   "id": "fbec3d6d",
   "metadata": {},
   "outputs": [
    {
     "data": {
      "text/plain": [
       "(3, 3)"
      ]
     },
     "execution_count": 52,
     "metadata": {},
     "output_type": "execute_result"
    }
   ],
   "source": [
    "M3.shape"
   ]
  },
  {
   "cell_type": "code",
   "execution_count": 53,
   "id": "24abd5b3",
   "metadata": {},
   "outputs": [
    {
     "ename": "ValueError",
     "evalue": "shapes (2,4) and (3,3) not aligned: 4 (dim 1) != 3 (dim 0)",
     "output_type": "error",
     "traceback": [
      "\u001b[1;31m---------------------------------------------------------------------------\u001b[0m",
      "\u001b[1;31mValueError\u001b[0m                                Traceback (most recent call last)",
      "\u001b[1;32mC:\\Users\\SOURAV~1\\AppData\\Local\\Temp/ipykernel_7460/1947713671.py\u001b[0m in \u001b[0;36m<module>\u001b[1;34m\u001b[0m\n\u001b[1;32m----> 1\u001b[1;33m \u001b[0mnp\u001b[0m\u001b[1;33m.\u001b[0m\u001b[0mdot\u001b[0m\u001b[1;33m(\u001b[0m\u001b[0mM1\u001b[0m\u001b[1;33m,\u001b[0m \u001b[0mM3\u001b[0m\u001b[1;33m)\u001b[0m\u001b[1;33m\u001b[0m\u001b[1;33m\u001b[0m\u001b[0m\n\u001b[0m",
      "\u001b[1;32m<__array_function__ internals>\u001b[0m in \u001b[0;36mdot\u001b[1;34m(*args, **kwargs)\u001b[0m\n",
      "\u001b[1;31mValueError\u001b[0m: shapes (2,4) and (3,3) not aligned: 4 (dim 1) != 3 (dim 0)"
     ]
    }
   ],
   "source": [
    "np.dot(M1, M3)  # this will produce error"
   ]
  },
  {
   "cell_type": "markdown",
   "id": "75dea548",
   "metadata": {},
   "source": [
    "## Linear algebra"
   ]
  },
  {
   "cell_type": "markdown",
   "id": "62651535",
   "metadata": {},
   "source": [
    "We will use `numpy.linalg` submodule for linear algebra related operations"
   ]
  },
  {
   "cell_type": "code",
   "execution_count": 149,
   "id": "c4fcb552",
   "metadata": {},
   "outputs": [],
   "source": [
    "X = np.array([[3, 2, 4], [2, 4, 9], [9, 2, 6]])"
   ]
  },
  {
   "cell_type": "code",
   "execution_count": 150,
   "id": "5db291dd",
   "metadata": {},
   "outputs": [
    {
     "data": {
      "text/plain": [
       "array([[3, 2, 4],\n",
       "       [2, 4, 9],\n",
       "       [9, 2, 6]])"
      ]
     },
     "execution_count": 150,
     "metadata": {},
     "output_type": "execute_result"
    }
   ],
   "source": [
    "X"
   ]
  },
  {
   "cell_type": "code",
   "execution_count": 151,
   "id": "5458355a",
   "metadata": {},
   "outputs": [
    {
     "data": {
      "text/plain": [
       "(3, 3)"
      ]
     },
     "execution_count": 151,
     "metadata": {},
     "output_type": "execute_result"
    }
   ],
   "source": [
    "X.shape"
   ]
  },
  {
   "cell_type": "markdown",
   "id": "ee9c2750",
   "metadata": {},
   "source": [
    "### determinant value of square matrix"
   ]
  },
  {
   "cell_type": "code",
   "execution_count": 152,
   "id": "bf714527",
   "metadata": {},
   "outputs": [
    {
     "data": {
      "text/plain": [
       "28.00000000000001"
      ]
     },
     "execution_count": 152,
     "metadata": {},
     "output_type": "execute_result"
    }
   ],
   "source": [
    "np.linalg.det(X)"
   ]
  },
  {
   "cell_type": "markdown",
   "id": "994c9cdc",
   "metadata": {},
   "source": [
    "### Inverse of a square matrix"
   ]
  },
  {
   "cell_type": "code",
   "execution_count": 154,
   "id": "46f20232",
   "metadata": {},
   "outputs": [],
   "source": [
    "Y = np.linalg.inv(X)"
   ]
  },
  {
   "cell_type": "code",
   "execution_count": 155,
   "id": "430be01a",
   "metadata": {},
   "outputs": [
    {
     "data": {
      "text/plain": [
       "array([[ 0.21428571, -0.14285714,  0.07142857],\n",
       "       [ 2.46428571, -0.64285714, -0.67857143],\n",
       "       [-1.14285714,  0.42857143,  0.28571429]])"
      ]
     },
     "execution_count": 155,
     "metadata": {},
     "output_type": "execute_result"
    }
   ],
   "source": [
    "Y"
   ]
  },
  {
   "cell_type": "code",
   "execution_count": 157,
   "id": "81a18c5f",
   "metadata": {},
   "outputs": [
    {
     "data": {
      "text/plain": [
       "array([[ 1.,  0.,  0.],\n",
       "       [ 0.,  1., -0.],\n",
       "       [-0.,  0.,  1.]])"
      ]
     },
     "execution_count": 157,
     "metadata": {},
     "output_type": "execute_result"
    }
   ],
   "source": [
    "np.round(Y @ X)"
   ]
  },
  {
   "cell_type": "code",
   "execution_count": 160,
   "id": "3347c76c",
   "metadata": {},
   "outputs": [],
   "source": [
    "W = np.arange(3,28,3).reshape(3,3)"
   ]
  },
  {
   "cell_type": "code",
   "execution_count": 161,
   "id": "99cc9ec2",
   "metadata": {},
   "outputs": [
    {
     "data": {
      "text/plain": [
       "array([[ 3,  6,  9],\n",
       "       [12, 15, 18],\n",
       "       [21, 24, 27]])"
      ]
     },
     "execution_count": 161,
     "metadata": {},
     "output_type": "execute_result"
    }
   ],
   "source": [
    "W"
   ]
  },
  {
   "cell_type": "code",
   "execution_count": 162,
   "id": "fc29b9e3",
   "metadata": {},
   "outputs": [
    {
     "data": {
      "text/plain": [
       "(3, 3)"
      ]
     },
     "execution_count": 162,
     "metadata": {},
     "output_type": "execute_result"
    }
   ],
   "source": [
    "W.shape"
   ]
  },
  {
   "cell_type": "code",
   "execution_count": 163,
   "id": "57aac9e4",
   "metadata": {},
   "outputs": [
    {
     "data": {
      "text/plain": [
       "0.0"
      ]
     },
     "execution_count": 163,
     "metadata": {},
     "output_type": "execute_result"
    }
   ],
   "source": [
    "np.linalg.det(W)"
   ]
  },
  {
   "cell_type": "markdown",
   "id": "b32deca9",
   "metadata": {},
   "source": [
    "If a square matrix has determinant value = 0, it is called **singular matrix**.\n",
    "\n",
    "We can't find inverse of a singular matrix"
   ]
  },
  {
   "cell_type": "code",
   "execution_count": 164,
   "id": "2f9b3b62",
   "metadata": {},
   "outputs": [
    {
     "ename": "LinAlgError",
     "evalue": "Singular matrix",
     "output_type": "error",
     "traceback": [
      "\u001b[1;31m---------------------------------------------------------------------------\u001b[0m",
      "\u001b[1;31mLinAlgError\u001b[0m                               Traceback (most recent call last)",
      "\u001b[1;32mC:\\Users\\SOURAV~1\\AppData\\Local\\Temp/ipykernel_7460/3435251512.py\u001b[0m in \u001b[0;36m<module>\u001b[1;34m\u001b[0m\n\u001b[1;32m----> 1\u001b[1;33m \u001b[0mnp\u001b[0m\u001b[1;33m.\u001b[0m\u001b[0mlinalg\u001b[0m\u001b[1;33m.\u001b[0m\u001b[0minv\u001b[0m\u001b[1;33m(\u001b[0m\u001b[0mW\u001b[0m\u001b[1;33m)\u001b[0m\u001b[1;33m\u001b[0m\u001b[1;33m\u001b[0m\u001b[0m\n\u001b[0m",
      "\u001b[1;32m<__array_function__ internals>\u001b[0m in \u001b[0;36minv\u001b[1;34m(*args, **kwargs)\u001b[0m\n",
      "\u001b[1;32m~\\anaconda3\\lib\\site-packages\\numpy\\linalg\\linalg.py\u001b[0m in \u001b[0;36minv\u001b[1;34m(a)\u001b[0m\n\u001b[0;32m    543\u001b[0m     \u001b[0msignature\u001b[0m \u001b[1;33m=\u001b[0m \u001b[1;34m'D->D'\u001b[0m \u001b[1;32mif\u001b[0m \u001b[0misComplexType\u001b[0m\u001b[1;33m(\u001b[0m\u001b[0mt\u001b[0m\u001b[1;33m)\u001b[0m \u001b[1;32melse\u001b[0m \u001b[1;34m'd->d'\u001b[0m\u001b[1;33m\u001b[0m\u001b[1;33m\u001b[0m\u001b[0m\n\u001b[0;32m    544\u001b[0m     \u001b[0mextobj\u001b[0m \u001b[1;33m=\u001b[0m \u001b[0mget_linalg_error_extobj\u001b[0m\u001b[1;33m(\u001b[0m\u001b[0m_raise_linalgerror_singular\u001b[0m\u001b[1;33m)\u001b[0m\u001b[1;33m\u001b[0m\u001b[1;33m\u001b[0m\u001b[0m\n\u001b[1;32m--> 545\u001b[1;33m     \u001b[0mainv\u001b[0m \u001b[1;33m=\u001b[0m \u001b[0m_umath_linalg\u001b[0m\u001b[1;33m.\u001b[0m\u001b[0minv\u001b[0m\u001b[1;33m(\u001b[0m\u001b[0ma\u001b[0m\u001b[1;33m,\u001b[0m \u001b[0msignature\u001b[0m\u001b[1;33m=\u001b[0m\u001b[0msignature\u001b[0m\u001b[1;33m,\u001b[0m \u001b[0mextobj\u001b[0m\u001b[1;33m=\u001b[0m\u001b[0mextobj\u001b[0m\u001b[1;33m)\u001b[0m\u001b[1;33m\u001b[0m\u001b[1;33m\u001b[0m\u001b[0m\n\u001b[0m\u001b[0;32m    546\u001b[0m     \u001b[1;32mreturn\u001b[0m \u001b[0mwrap\u001b[0m\u001b[1;33m(\u001b[0m\u001b[0mainv\u001b[0m\u001b[1;33m.\u001b[0m\u001b[0mastype\u001b[0m\u001b[1;33m(\u001b[0m\u001b[0mresult_t\u001b[0m\u001b[1;33m,\u001b[0m \u001b[0mcopy\u001b[0m\u001b[1;33m=\u001b[0m\u001b[1;32mFalse\u001b[0m\u001b[1;33m)\u001b[0m\u001b[1;33m)\u001b[0m\u001b[1;33m\u001b[0m\u001b[1;33m\u001b[0m\u001b[0m\n\u001b[0;32m    547\u001b[0m \u001b[1;33m\u001b[0m\u001b[0m\n",
      "\u001b[1;32m~\\anaconda3\\lib\\site-packages\\numpy\\linalg\\linalg.py\u001b[0m in \u001b[0;36m_raise_linalgerror_singular\u001b[1;34m(err, flag)\u001b[0m\n\u001b[0;32m     86\u001b[0m \u001b[1;33m\u001b[0m\u001b[0m\n\u001b[0;32m     87\u001b[0m \u001b[1;32mdef\u001b[0m \u001b[0m_raise_linalgerror_singular\u001b[0m\u001b[1;33m(\u001b[0m\u001b[0merr\u001b[0m\u001b[1;33m,\u001b[0m \u001b[0mflag\u001b[0m\u001b[1;33m)\u001b[0m\u001b[1;33m:\u001b[0m\u001b[1;33m\u001b[0m\u001b[1;33m\u001b[0m\u001b[0m\n\u001b[1;32m---> 88\u001b[1;33m     \u001b[1;32mraise\u001b[0m \u001b[0mLinAlgError\u001b[0m\u001b[1;33m(\u001b[0m\u001b[1;34m\"Singular matrix\"\u001b[0m\u001b[1;33m)\u001b[0m\u001b[1;33m\u001b[0m\u001b[1;33m\u001b[0m\u001b[0m\n\u001b[0m\u001b[0;32m     89\u001b[0m \u001b[1;33m\u001b[0m\u001b[0m\n\u001b[0;32m     90\u001b[0m \u001b[1;32mdef\u001b[0m \u001b[0m_raise_linalgerror_nonposdef\u001b[0m\u001b[1;33m(\u001b[0m\u001b[0merr\u001b[0m\u001b[1;33m,\u001b[0m \u001b[0mflag\u001b[0m\u001b[1;33m)\u001b[0m\u001b[1;33m:\u001b[0m\u001b[1;33m\u001b[0m\u001b[1;33m\u001b[0m\u001b[0m\n",
      "\u001b[1;31mLinAlgError\u001b[0m: Singular matrix"
     ]
    }
   ],
   "source": [
    "np.linalg.inv(W) # this will produce error"
   ]
  },
  {
   "cell_type": "code",
   "execution_count": 166,
   "id": "1658891d",
   "metadata": {},
   "outputs": [],
   "source": [
    "L = np.arange(3, 25, 3).reshape(4,2)"
   ]
  },
  {
   "cell_type": "code",
   "execution_count": 167,
   "id": "6d4192d0",
   "metadata": {},
   "outputs": [
    {
     "data": {
      "text/plain": [
       "(4, 2)"
      ]
     },
     "execution_count": 167,
     "metadata": {},
     "output_type": "execute_result"
    }
   ],
   "source": [
    "L.shape"
   ]
  },
  {
   "cell_type": "code",
   "execution_count": 168,
   "id": "c4123758",
   "metadata": {
    "scrolled": false
   },
   "outputs": [
    {
     "ename": "LinAlgError",
     "evalue": "Last 2 dimensions of the array must be square",
     "output_type": "error",
     "traceback": [
      "\u001b[1;31m---------------------------------------------------------------------------\u001b[0m",
      "\u001b[1;31mLinAlgError\u001b[0m                               Traceback (most recent call last)",
      "\u001b[1;32mC:\\Users\\SOURAV~1\\AppData\\Local\\Temp/ipykernel_7460/1978233112.py\u001b[0m in \u001b[0;36m<module>\u001b[1;34m\u001b[0m\n\u001b[1;32m----> 1\u001b[1;33m \u001b[0mnp\u001b[0m\u001b[1;33m.\u001b[0m\u001b[0mlinalg\u001b[0m\u001b[1;33m.\u001b[0m\u001b[0mdet\u001b[0m\u001b[1;33m(\u001b[0m\u001b[0mL\u001b[0m\u001b[1;33m)\u001b[0m \u001b[1;31m# it will produce error\u001b[0m\u001b[1;33m\u001b[0m\u001b[1;33m\u001b[0m\u001b[0m\n\u001b[0m",
      "\u001b[1;32m<__array_function__ internals>\u001b[0m in \u001b[0;36mdet\u001b[1;34m(*args, **kwargs)\u001b[0m\n",
      "\u001b[1;32m~\\anaconda3\\lib\\site-packages\\numpy\\linalg\\linalg.py\u001b[0m in \u001b[0;36mdet\u001b[1;34m(a)\u001b[0m\n\u001b[0;32m   2153\u001b[0m     \u001b[0ma\u001b[0m \u001b[1;33m=\u001b[0m \u001b[0masarray\u001b[0m\u001b[1;33m(\u001b[0m\u001b[0ma\u001b[0m\u001b[1;33m)\u001b[0m\u001b[1;33m\u001b[0m\u001b[1;33m\u001b[0m\u001b[0m\n\u001b[0;32m   2154\u001b[0m     \u001b[0m_assert_stacked_2d\u001b[0m\u001b[1;33m(\u001b[0m\u001b[0ma\u001b[0m\u001b[1;33m)\u001b[0m\u001b[1;33m\u001b[0m\u001b[1;33m\u001b[0m\u001b[0m\n\u001b[1;32m-> 2155\u001b[1;33m     \u001b[0m_assert_stacked_square\u001b[0m\u001b[1;33m(\u001b[0m\u001b[0ma\u001b[0m\u001b[1;33m)\u001b[0m\u001b[1;33m\u001b[0m\u001b[1;33m\u001b[0m\u001b[0m\n\u001b[0m\u001b[0;32m   2156\u001b[0m     \u001b[0mt\u001b[0m\u001b[1;33m,\u001b[0m \u001b[0mresult_t\u001b[0m \u001b[1;33m=\u001b[0m \u001b[0m_commonType\u001b[0m\u001b[1;33m(\u001b[0m\u001b[0ma\u001b[0m\u001b[1;33m)\u001b[0m\u001b[1;33m\u001b[0m\u001b[1;33m\u001b[0m\u001b[0m\n\u001b[0;32m   2157\u001b[0m     \u001b[0msignature\u001b[0m \u001b[1;33m=\u001b[0m \u001b[1;34m'D->D'\u001b[0m \u001b[1;32mif\u001b[0m \u001b[0misComplexType\u001b[0m\u001b[1;33m(\u001b[0m\u001b[0mt\u001b[0m\u001b[1;33m)\u001b[0m \u001b[1;32melse\u001b[0m \u001b[1;34m'd->d'\u001b[0m\u001b[1;33m\u001b[0m\u001b[1;33m\u001b[0m\u001b[0m\n",
      "\u001b[1;32m~\\anaconda3\\lib\\site-packages\\numpy\\linalg\\linalg.py\u001b[0m in \u001b[0;36m_assert_stacked_square\u001b[1;34m(*arrays)\u001b[0m\n\u001b[0;32m    201\u001b[0m         \u001b[0mm\u001b[0m\u001b[1;33m,\u001b[0m \u001b[0mn\u001b[0m \u001b[1;33m=\u001b[0m \u001b[0ma\u001b[0m\u001b[1;33m.\u001b[0m\u001b[0mshape\u001b[0m\u001b[1;33m[\u001b[0m\u001b[1;33m-\u001b[0m\u001b[1;36m2\u001b[0m\u001b[1;33m:\u001b[0m\u001b[1;33m]\u001b[0m\u001b[1;33m\u001b[0m\u001b[1;33m\u001b[0m\u001b[0m\n\u001b[0;32m    202\u001b[0m         \u001b[1;32mif\u001b[0m \u001b[0mm\u001b[0m \u001b[1;33m!=\u001b[0m \u001b[0mn\u001b[0m\u001b[1;33m:\u001b[0m\u001b[1;33m\u001b[0m\u001b[1;33m\u001b[0m\u001b[0m\n\u001b[1;32m--> 203\u001b[1;33m             \u001b[1;32mraise\u001b[0m \u001b[0mLinAlgError\u001b[0m\u001b[1;33m(\u001b[0m\u001b[1;34m'Last 2 dimensions of the array must be square'\u001b[0m\u001b[1;33m)\u001b[0m\u001b[1;33m\u001b[0m\u001b[1;33m\u001b[0m\u001b[0m\n\u001b[0m\u001b[0;32m    204\u001b[0m \u001b[1;33m\u001b[0m\u001b[0m\n\u001b[0;32m    205\u001b[0m \u001b[1;32mdef\u001b[0m \u001b[0m_assert_finite\u001b[0m\u001b[1;33m(\u001b[0m\u001b[1;33m*\u001b[0m\u001b[0marrays\u001b[0m\u001b[1;33m)\u001b[0m\u001b[1;33m:\u001b[0m\u001b[1;33m\u001b[0m\u001b[1;33m\u001b[0m\u001b[0m\n",
      "\u001b[1;31mLinAlgError\u001b[0m: Last 2 dimensions of the array must be square"
     ]
    }
   ],
   "source": [
    "np.linalg.det(L) # it will produce error"
   ]
  },
  {
   "cell_type": "markdown",
   "id": "dcb300ca",
   "metadata": {},
   "source": [
    "### Eigen values and Eigen vectors"
   ]
  },
  {
   "cell_type": "code",
   "execution_count": 169,
   "id": "6f9dd7d6",
   "metadata": {},
   "outputs": [
    {
     "data": {
      "text/plain": [
       "array([[3, 2, 4],\n",
       "       [2, 4, 9],\n",
       "       [9, 2, 6]])"
      ]
     },
     "execution_count": 169,
     "metadata": {},
     "output_type": "execute_result"
    }
   ],
   "source": [
    "X"
   ]
  },
  {
   "cell_type": "code",
   "execution_count": 170,
   "id": "66e0a712",
   "metadata": {},
   "outputs": [],
   "source": [
    "v, A = np.linalg.eig(X)"
   ]
  },
  {
   "cell_type": "code",
   "execution_count": 171,
   "id": "3531f227",
   "metadata": {},
   "outputs": [
    {
     "data": {
      "text/plain": [
       "array([13.45208328+0.j        , -0.22604164+1.42490953j,\n",
       "       -0.22604164-1.42490953j])"
      ]
     },
     "execution_count": 171,
     "metadata": {},
     "output_type": "execute_result"
    }
   ],
   "source": [
    "v  # eigen values"
   ]
  },
  {
   "cell_type": "code",
   "execution_count": 172,
   "id": "6484019d",
   "metadata": {},
   "outputs": [
    {
     "data": {
      "text/plain": [
       "array([[ 0.37190273+0.j        ,  0.07132351-0.1908992j ,\n",
       "         0.07132351+0.1908992j ],\n",
       "       [ 0.68017884+0.j        ,  0.86498673+0.j        ,\n",
       "         0.86498673-0.j        ],\n",
       "       [ 0.63170017+0.j        , -0.42201299+0.17936958j,\n",
       "        -0.42201299-0.17936958j]])"
      ]
     },
     "execution_count": 172,
     "metadata": {},
     "output_type": "execute_result"
    }
   ],
   "source": [
    "A  # eigen vectors"
   ]
  },
  {
   "cell_type": "code",
   "execution_count": 173,
   "id": "fdfcf963",
   "metadata": {},
   "outputs": [],
   "source": [
    "Y = np.array([[4, -1], [2, 1]])"
   ]
  },
  {
   "cell_type": "code",
   "execution_count": 174,
   "id": "797971b3",
   "metadata": {},
   "outputs": [],
   "source": [
    "v, A = np.linalg.eig(Y)"
   ]
  },
  {
   "cell_type": "code",
   "execution_count": 175,
   "id": "6d225968",
   "metadata": {},
   "outputs": [
    {
     "data": {
      "text/plain": [
       "array([3., 2.])"
      ]
     },
     "execution_count": 175,
     "metadata": {},
     "output_type": "execute_result"
    }
   ],
   "source": [
    "v"
   ]
  },
  {
   "cell_type": "code",
   "execution_count": 176,
   "id": "ccb7c478",
   "metadata": {},
   "outputs": [
    {
     "data": {
      "text/plain": [
       "array([[0.70710678, 0.4472136 ],\n",
       "       [0.70710678, 0.89442719]])"
      ]
     },
     "execution_count": 176,
     "metadata": {},
     "output_type": "execute_result"
    }
   ],
   "source": [
    "A"
   ]
  },
  {
   "cell_type": "markdown",
   "id": "52ff6839",
   "metadata": {},
   "source": [
    "## random numbers"
   ]
  },
  {
   "cell_type": "markdown",
   "id": "a6cded61",
   "metadata": {},
   "source": [
    "For this we will use `numpy.random` submodule"
   ]
  },
  {
   "cell_type": "code",
   "execution_count": 180,
   "id": "df01a84f",
   "metadata": {},
   "outputs": [
    {
     "data": {
      "text/plain": [
       "array([[9, 2],\n",
       "       [6, 4],\n",
       "       [8, 3]])"
      ]
     },
     "execution_count": 180,
     "metadata": {},
     "output_type": "execute_result"
    }
   ],
   "source": [
    "np.random.randint(low=0, high=10,size=(3,2)) \n",
    "\n",
    "# generate 6 random integers between 0 (low) [included] to 10 (high) [excluded]\n",
    "# arange them in a 3 X 2 matrix"
   ]
  },
  {
   "cell_type": "code",
   "execution_count": 181,
   "id": "c18290b6",
   "metadata": {},
   "outputs": [
    {
     "data": {
      "text/plain": [
       "array([[33, 43, 46, 28, 30, 38],\n",
       "       [26, 30, 33, 45, 26, 44],\n",
       "       [43, 30, 48, 27, 21, 44],\n",
       "       [22, 41, 26, 37, 29, 49],\n",
       "       [36, 47, 41, 38, 33, 49]])"
      ]
     },
     "execution_count": 181,
     "metadata": {},
     "output_type": "execute_result"
    }
   ],
   "source": [
    "np.random.randint(20, 50, (5, 6))"
   ]
  },
  {
   "cell_type": "code",
   "execution_count": 182,
   "id": "ff75807c",
   "metadata": {},
   "outputs": [
    {
     "data": {
      "text/plain": [
       "array([[ 0.39272432, -0.16873547,  0.68350084,  0.57424125, -0.66187685],\n",
       "       [-0.29898128, -0.89165809,  0.58174134,  0.66723204, -0.57871042],\n",
       "       [ 0.55604638, -0.62278481,  1.14577468,  1.09089614,  1.06832846],\n",
       "       [-0.14241631, -0.02492223, -0.13444664,  0.75910923,  0.44523129]])"
      ]
     },
     "execution_count": 182,
     "metadata": {},
     "output_type": "execute_result"
    }
   ],
   "source": [
    "np.random.randn(4,5)  # a matrix of size 4 X 5 where each element is taken from standard normal distribution"
   ]
  },
  {
   "cell_type": "code",
   "execution_count": 188,
   "id": "d82fd647",
   "metadata": {},
   "outputs": [],
   "source": [
    "a = np.arange(1,21)"
   ]
  },
  {
   "cell_type": "code",
   "execution_count": 189,
   "id": "6fc103fc",
   "metadata": {},
   "outputs": [
    {
     "data": {
      "text/plain": [
       "array([ 1,  2,  3,  4,  5,  6,  7,  8,  9, 10, 11, 12, 13, 14, 15, 16, 17,\n",
       "       18, 19, 20])"
      ]
     },
     "execution_count": 189,
     "metadata": {},
     "output_type": "execute_result"
    }
   ],
   "source": [
    "a"
   ]
  },
  {
   "cell_type": "code",
   "execution_count": 190,
   "id": "dcab2664",
   "metadata": {},
   "outputs": [
    {
     "data": {
      "text/plain": [
       "array([11, 11, 12,  2, 15])"
      ]
     },
     "execution_count": 190,
     "metadata": {},
     "output_type": "execute_result"
    }
   ],
   "source": [
    "np.random.choice(a, size=5, replace=True) # sample with replacement"
   ]
  },
  {
   "cell_type": "code",
   "execution_count": 191,
   "id": "2ab512e8",
   "metadata": {},
   "outputs": [
    {
     "data": {
      "text/plain": [
       "array([ 7,  5,  8, 12, 18])"
      ]
     },
     "execution_count": 191,
     "metadata": {},
     "output_type": "execute_result"
    }
   ],
   "source": [
    "np.random.choice(a, size=5, replace=False) # sample without replacement"
   ]
  },
  {
   "cell_type": "markdown",
   "id": "64852e4c",
   "metadata": {},
   "source": [
    "## Vectorized functions"
   ]
  },
  {
   "cell_type": "code",
   "execution_count": 192,
   "id": "cbe8971f",
   "metadata": {},
   "outputs": [],
   "source": [
    "arr1 = np.array([2, 4, 3, 1])\n",
    "arr2 = np.array([3, 1, 2, 6])"
   ]
  },
  {
   "cell_type": "markdown",
   "id": "dc2f975b",
   "metadata": {},
   "source": [
    "I want to retrun an array `[max(arr1[0],arr2[0]), max(arr1[1],arr2[1]), max(arr1[2],arr2[2]), max(arr1[3],arr2[3])]`"
   ]
  },
  {
   "cell_type": "code",
   "execution_count": 193,
   "id": "2bf4fd7a",
   "metadata": {},
   "outputs": [
    {
     "ename": "ValueError",
     "evalue": "The truth value of an array with more than one element is ambiguous. Use a.any() or a.all()",
     "output_type": "error",
     "traceback": [
      "\u001b[1;31m---------------------------------------------------------------------------\u001b[0m",
      "\u001b[1;31mValueError\u001b[0m                                Traceback (most recent call last)",
      "\u001b[1;32mC:\\Users\\SOURAV~1\\AppData\\Local\\Temp/ipykernel_7460/1648845664.py\u001b[0m in \u001b[0;36m<module>\u001b[1;34m\u001b[0m\n\u001b[1;32m----> 1\u001b[1;33m \u001b[0mmax\u001b[0m\u001b[1;33m(\u001b[0m\u001b[0marr1\u001b[0m\u001b[1;33m,\u001b[0m \u001b[0marr2\u001b[0m\u001b[1;33m)\u001b[0m\u001b[1;33m\u001b[0m\u001b[1;33m\u001b[0m\u001b[0m\n\u001b[0m",
      "\u001b[1;31mValueError\u001b[0m: The truth value of an array with more than one element is ambiguous. Use a.any() or a.all()"
     ]
    }
   ],
   "source": [
    "max(arr1, arr2)"
   ]
  },
  {
   "cell_type": "code",
   "execution_count": 194,
   "id": "91c630c9",
   "metadata": {},
   "outputs": [
    {
     "data": {
      "text/plain": [
       "4"
      ]
     },
     "execution_count": 194,
     "metadata": {},
     "output_type": "execute_result"
    }
   ],
   "source": [
    "max(3, 4)"
   ]
  },
  {
   "cell_type": "code",
   "execution_count": 195,
   "id": "b29b1720",
   "metadata": {},
   "outputs": [],
   "source": [
    "vect_max = np.vectorize(max)"
   ]
  },
  {
   "cell_type": "code",
   "execution_count": 196,
   "id": "13cc758d",
   "metadata": {},
   "outputs": [
    {
     "data": {
      "text/plain": [
       "<numpy.vectorize at 0x23c970c6df0>"
      ]
     },
     "execution_count": 196,
     "metadata": {},
     "output_type": "execute_result"
    }
   ],
   "source": [
    "vect_max"
   ]
  },
  {
   "cell_type": "code",
   "execution_count": 197,
   "id": "47f29c62",
   "metadata": {},
   "outputs": [
    {
     "data": {
      "text/plain": [
       "array([3, 4, 3, 6])"
      ]
     },
     "execution_count": 197,
     "metadata": {},
     "output_type": "execute_result"
    }
   ],
   "source": [
    "vect_max(arr1, arr2)"
   ]
  },
  {
   "cell_type": "code",
   "execution_count": 198,
   "id": "e621617b",
   "metadata": {},
   "outputs": [],
   "source": [
    "def factorial(x):\n",
    "    f = 1\n",
    "    for i in range(2,x+1):\n",
    "        f *= i\n",
    "    return f"
   ]
  },
  {
   "cell_type": "code",
   "execution_count": 199,
   "id": "942c96f0",
   "metadata": {},
   "outputs": [
    {
     "data": {
      "text/plain": [
       "120"
      ]
     },
     "execution_count": 199,
     "metadata": {},
     "output_type": "execute_result"
    }
   ],
   "source": [
    "factorial(5)"
   ]
  },
  {
   "cell_type": "code",
   "execution_count": 200,
   "id": "5b0e30a3",
   "metadata": {},
   "outputs": [
    {
     "data": {
      "text/plain": [
       "3628800"
      ]
     },
     "execution_count": 200,
     "metadata": {},
     "output_type": "execute_result"
    }
   ],
   "source": [
    "factorial(10)"
   ]
  },
  {
   "cell_type": "code",
   "execution_count": 201,
   "id": "1a5b8512",
   "metadata": {},
   "outputs": [],
   "source": [
    "arr = np.array([3, 7, 2, 6])"
   ]
  },
  {
   "cell_type": "code",
   "execution_count": 202,
   "id": "2ce71d1b",
   "metadata": {},
   "outputs": [
    {
     "ename": "TypeError",
     "evalue": "only integer scalar arrays can be converted to a scalar index",
     "output_type": "error",
     "traceback": [
      "\u001b[1;31m---------------------------------------------------------------------------\u001b[0m",
      "\u001b[1;31mTypeError\u001b[0m                                 Traceback (most recent call last)",
      "\u001b[1;32mC:\\Users\\SOURAV~1\\AppData\\Local\\Temp/ipykernel_7460/3403423764.py\u001b[0m in \u001b[0;36m<module>\u001b[1;34m\u001b[0m\n\u001b[1;32m----> 1\u001b[1;33m \u001b[0mfactorial\u001b[0m\u001b[1;33m(\u001b[0m\u001b[0marr\u001b[0m\u001b[1;33m)\u001b[0m\u001b[1;33m\u001b[0m\u001b[1;33m\u001b[0m\u001b[0m\n\u001b[0m",
      "\u001b[1;32mC:\\Users\\SOURAV~1\\AppData\\Local\\Temp/ipykernel_7460/4222782050.py\u001b[0m in \u001b[0;36mfactorial\u001b[1;34m(x)\u001b[0m\n\u001b[0;32m      1\u001b[0m \u001b[1;32mdef\u001b[0m \u001b[0mfactorial\u001b[0m\u001b[1;33m(\u001b[0m\u001b[0mx\u001b[0m\u001b[1;33m)\u001b[0m\u001b[1;33m:\u001b[0m\u001b[1;33m\u001b[0m\u001b[1;33m\u001b[0m\u001b[0m\n\u001b[0;32m      2\u001b[0m     \u001b[0mf\u001b[0m \u001b[1;33m=\u001b[0m \u001b[1;36m1\u001b[0m\u001b[1;33m\u001b[0m\u001b[1;33m\u001b[0m\u001b[0m\n\u001b[1;32m----> 3\u001b[1;33m     \u001b[1;32mfor\u001b[0m \u001b[0mi\u001b[0m \u001b[1;32min\u001b[0m \u001b[0mrange\u001b[0m\u001b[1;33m(\u001b[0m\u001b[1;36m2\u001b[0m\u001b[1;33m,\u001b[0m\u001b[0mx\u001b[0m\u001b[1;33m+\u001b[0m\u001b[1;36m1\u001b[0m\u001b[1;33m)\u001b[0m\u001b[1;33m:\u001b[0m\u001b[1;33m\u001b[0m\u001b[1;33m\u001b[0m\u001b[0m\n\u001b[0m\u001b[0;32m      4\u001b[0m         \u001b[0mf\u001b[0m \u001b[1;33m*=\u001b[0m \u001b[0mi\u001b[0m\u001b[1;33m\u001b[0m\u001b[1;33m\u001b[0m\u001b[0m\n\u001b[0;32m      5\u001b[0m     \u001b[1;32mreturn\u001b[0m \u001b[0mf\u001b[0m\u001b[1;33m\u001b[0m\u001b[1;33m\u001b[0m\u001b[0m\n",
      "\u001b[1;31mTypeError\u001b[0m: only integer scalar arrays can be converted to a scalar index"
     ]
    }
   ],
   "source": [
    "factorial(arr)"
   ]
  },
  {
   "cell_type": "code",
   "execution_count": 203,
   "id": "88d347e5",
   "metadata": {},
   "outputs": [],
   "source": [
    "vect_factorial = np.vectorize(factorial)"
   ]
  },
  {
   "cell_type": "code",
   "execution_count": 204,
   "id": "2218bfb5",
   "metadata": {},
   "outputs": [
    {
     "data": {
      "text/plain": [
       "array([   6, 5040,    2,  720])"
      ]
     },
     "execution_count": 204,
     "metadata": {},
     "output_type": "execute_result"
    }
   ],
   "source": [
    "vect_factorial(arr)"
   ]
  },
  {
   "cell_type": "markdown",
   "id": "4b360679",
   "metadata": {},
   "source": [
    "Exercise: Create an 8 x 8 array with a checkerboard pattern of zeros and ones."
   ]
  },
  {
   "cell_type": "code",
   "execution_count": 211,
   "id": "fe9b1121",
   "metadata": {},
   "outputs": [],
   "source": [
    "import matplotlib.pyplot as plt"
   ]
  },
  {
   "cell_type": "code",
   "execution_count": 212,
   "id": "1dc6251c",
   "metadata": {},
   "outputs": [],
   "source": [
    "m = np.zeros((8,8))"
   ]
  },
  {
   "cell_type": "code",
   "execution_count": 213,
   "id": "8098fb95",
   "metadata": {},
   "outputs": [
    {
     "data": {
      "text/plain": [
       "array([[0., 0., 0., 0., 0., 0., 0., 0.],\n",
       "       [0., 0., 0., 0., 0., 0., 0., 0.],\n",
       "       [0., 0., 0., 0., 0., 0., 0., 0.],\n",
       "       [0., 0., 0., 0., 0., 0., 0., 0.],\n",
       "       [0., 0., 0., 0., 0., 0., 0., 0.],\n",
       "       [0., 0., 0., 0., 0., 0., 0., 0.],\n",
       "       [0., 0., 0., 0., 0., 0., 0., 0.],\n",
       "       [0., 0., 0., 0., 0., 0., 0., 0.]])"
      ]
     },
     "execution_count": 213,
     "metadata": {},
     "output_type": "execute_result"
    }
   ],
   "source": [
    "m"
   ]
  },
  {
   "cell_type": "code",
   "execution_count": 215,
   "id": "905b8297",
   "metadata": {},
   "outputs": [
    {
     "data": {
      "text/plain": [
       "<matplotlib.image.AxesImage at 0x23c99fbe340>"
      ]
     },
     "execution_count": 215,
     "metadata": {},
     "output_type": "execute_result"
    },
    {
     "data": {
      "image/png": "[encoded data removed]",
      "text/plain": [
       "<Figure size 432x288 with 1 Axes>"
      ]
     },
     "metadata": {
      "needs_background": "light"
     },
     "output_type": "display_data"
    }
   ],
   "source": [
    "plt.imshow(m, cmap='gray')"
   ]
  },
  {
   "cell_type": "code",
   "execution_count": 216,
   "id": "26e4ab7c",
   "metadata": {},
   "outputs": [],
   "source": [
    "m[::2, ::2] = 1"
   ]
  },
  {
   "cell_type": "code",
   "execution_count": 217,
   "id": "1fb99823",
   "metadata": {},
   "outputs": [
    {
     "data": {
      "text/plain": [
       "array([[1., 0., 1., 0., 1., 0., 1., 0.],\n",
       "       [0., 0., 0., 0., 0., 0., 0., 0.],\n",
       "       [1., 0., 1., 0., 1., 0., 1., 0.],\n",
       "       [0., 0., 0., 0., 0., 0., 0., 0.],\n",
       "       [1., 0., 1., 0., 1., 0., 1., 0.],\n",
       "       [0., 0., 0., 0., 0., 0., 0., 0.],\n",
       "       [1., 0., 1., 0., 1., 0., 1., 0.],\n",
       "       [0., 0., 0., 0., 0., 0., 0., 0.]])"
      ]
     },
     "execution_count": 217,
     "metadata": {},
     "output_type": "execute_result"
    }
   ],
   "source": [
    "m"
   ]
  },
  {
   "cell_type": "code",
   "execution_count": 218,
   "id": "cfdf8b2f",
   "metadata": {},
   "outputs": [
    {
     "data": {
      "text/plain": [
       "<matplotlib.image.AxesImage at 0x23c99fd3bb0>"
      ]
     },
     "execution_count": 218,
     "metadata": {},
     "output_type": "execute_result"
    },
    {
     "data": {
      "image/png": "[encoded data removed]",
      "text/plain": [
       "<Figure size 432x288 with 1 Axes>"
      ]
     },
     "metadata": {
      "needs_background": "light"
     },
     "output_type": "display_data"
    }
   ],
   "source": [
    "plt.imshow(m, cmap='gray')"
   ]
  },
  {
   "cell_type": "code",
   "execution_count": 219,
   "id": "2fe835df",
   "metadata": {},
   "outputs": [],
   "source": [
    "m[1::2,1::2]=1"
   ]
  },
  {
   "cell_type": "code",
   "execution_count": 220,
   "id": "14ec132a",
   "metadata": {},
   "outputs": [
    {
     "data": {
      "text/plain": [
       "array([[1., 0., 1., 0., 1., 0., 1., 0.],\n",
       "       [0., 1., 0., 1., 0., 1., 0., 1.],\n",
       "       [1., 0., 1., 0., 1., 0., 1., 0.],\n",
       "       [0., 1., 0., 1., 0., 1., 0., 1.],\n",
       "       [1., 0., 1., 0., 1., 0., 1., 0.],\n",
       "       [0., 1., 0., 1., 0., 1., 0., 1.],\n",
       "       [1., 0., 1., 0., 1., 0., 1., 0.],\n",
       "       [0., 1., 0., 1., 0., 1., 0., 1.]])"
      ]
     },
     "execution_count": 220,
     "metadata": {},
     "output_type": "execute_result"
    }
   ],
   "source": [
    "m"
   ]
  },
  {
   "cell_type": "code",
   "execution_count": 221,
   "id": "9eef4c89",
   "metadata": {},
   "outputs": [
    {
     "data": {
      "text/plain": [
       "<matplotlib.image.AxesImage at 0x23c9a337e80>"
      ]
     },
     "execution_count": 221,
     "metadata": {},
     "output_type": "execute_result"
    },
    {
     "data": {
      "image/png": "[encoded data removed]",
      "text/plain": [
       "<Figure size 432x288 with 1 Axes>"
      ]
     },
     "metadata": {
      "needs_background": "light"
     },
     "output_type": "display_data"
    }
   ],
   "source": [
    "plt.imshow(m, cmap='gray')"
   ]
  },
  {
   "cell_type": "code",
   "execution_count": null,
   "id": "52c64fba",
   "metadata": {},
   "outputs": [],
   "source": []
  }
 ],
 "metadata": {
  "kernelspec": {
   "display_name": "Python 3 (ipykernel)",
   "language": "python",
   "name": "python3"
  },
  "language_info": {
   "codemirror_mode": {
    "name": "ipython",
    "version": 3
   },
   "file_extension": ".py",
   "mimetype": "text/x-python",
   "name": "python",
   "nbconvert_exporter": "python",
   "pygments_lexer": "ipython3",
   "version": "3.9.7"
  },
  "toc": {
   "base_numbering": 1,
   "nav_menu": {},
   "number_sections": true,
   "sideBar": true,
   "skip_h1_title": true,
   "title_cell": "Table of Contents",
   "title_sidebar": "Contents",
   "toc_cell": false,
   "toc_position": {},
   "toc_section_display": true,
   "toc_window_display": true
  }
 },
 "nbformat": 4,
 "nbformat_minor": 5
}
