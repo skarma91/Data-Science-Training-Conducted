{
 "cells": [
  {
   "cell_type": "markdown",
   "id": "f6b192fd",
   "metadata": {},
   "source": [
    "## Vectors\n",
    "\n",
    "Here we shall use python's list to describe the vector"
   ]
  },
  {
   "cell_type": "code",
   "execution_count": 4,
   "id": "7d9e32a1",
   "metadata": {},
   "outputs": [],
   "source": [
    "x = [3, 4, 5, 6, 1]"
   ]
  },
  {
   "cell_type": "markdown",
   "id": "5f076a8c",
   "metadata": {},
   "source": [
    "### Find the dimenstion of the vector"
   ]
  },
  {
   "cell_type": "code",
   "execution_count": 5,
   "id": "ae2cc3c5",
   "metadata": {},
   "outputs": [],
   "source": [
    "dim = len(x)"
   ]
  },
  {
   "cell_type": "code",
   "execution_count": 6,
   "id": "3e1a1973",
   "metadata": {},
   "outputs": [
    {
     "name": "stdout",
     "output_type": "stream",
     "text": [
      "The dimension of vector is 5\n"
     ]
    }
   ],
   "source": [
    "print(f\"The dimension of vector is {dim}\")"
   ]
  },
  {
   "cell_type": "markdown",
   "id": "71081067",
   "metadata": {},
   "source": [
    "### Addition of two vectors"
   ]
  },
  {
   "cell_type": "code",
   "execution_count": 7,
   "id": "7f6c3f47",
   "metadata": {},
   "outputs": [],
   "source": [
    "def add_vectors(x, y):\n",
    "    \"\"\"\n",
    "    Addition of two vectors x and y\n",
    "    Input:\n",
    "        - x: list of numbers\n",
    "        - y: list of numbers\n",
    "    Output:\n",
    "        - another list resulting vector addition of x and y\n",
    "    \"\"\"\n",
    "    if len(x) != len(y):\n",
    "        print(\"The vectors are of different dimensions. Hence can't be added\")\n",
    "        return None\n",
    "        \n",
    "    result = []\n",
    "    \n",
    "    for i in range(len(x)):\n",
    "        result.append(x[i] + y[i])\n",
    "        \n",
    "    return result"
   ]
  },
  {
   "cell_type": "code",
   "execution_count": 8,
   "id": "99dfa2fb",
   "metadata": {},
   "outputs": [],
   "source": [
    "x = [1 , 4, -3]\n",
    "y = [3, 0.5, 2]"
   ]
  },
  {
   "cell_type": "code",
   "execution_count": 9,
   "id": "fcd2d848",
   "metadata": {},
   "outputs": [
    {
     "data": {
      "text/plain": [
       "[4, 4.5, -1]"
      ]
     },
     "execution_count": 9,
     "metadata": {},
     "output_type": "execute_result"
    }
   ],
   "source": [
    "add_vectors(x,y)"
   ]
  },
  {
   "cell_type": "markdown",
   "id": "fc4518d7",
   "metadata": {},
   "source": [
    "### Scalar multiplication of a vector"
   ]
  },
  {
   "cell_type": "code",
   "execution_count": 12,
   "id": "219ae6e6",
   "metadata": {},
   "outputs": [],
   "source": [
    "def scalar_multiplication(v, k):\n",
    "    \"\"\"\n",
    "    v: list, denotes the vector\n",
    "    k: float, denotes the scalar with which we will multiply\n",
    "    \"\"\"\n",
    "    result = []\n",
    "    for x in v:\n",
    "        result.append(k*x)\n",
    "    return result"
   ]
  },
  {
   "cell_type": "code",
   "execution_count": 14,
   "id": "e2b4d84f",
   "metadata": {},
   "outputs": [
    {
     "data": {
      "text/plain": [
       "[0.45, 1.35, 1.8]"
      ]
     },
     "execution_count": 14,
     "metadata": {},
     "output_type": "execute_result"
    }
   ],
   "source": [
    "scalar_multiplication([1, 3, 4], 0.45)"
   ]
  },
  {
   "cell_type": "code",
   "execution_count": 15,
   "id": "2c7c4755",
   "metadata": {},
   "outputs": [
    {
     "data": {
      "text/plain": [
       "[0, 0, 0]"
      ]
     },
     "execution_count": 15,
     "metadata": {},
     "output_type": "execute_result"
    }
   ],
   "source": [
    "scalar_multiplication([3, 2, -1], 0)"
   ]
  },
  {
   "cell_type": "markdown",
   "id": "a996acb5",
   "metadata": {},
   "source": [
    "### Magnitude of a vector"
   ]
  },
  {
   "cell_type": "code",
   "execution_count": 16,
   "id": "dc347fc5",
   "metadata": {},
   "outputs": [],
   "source": [
    "def magnitude(x):\n",
    "    S = 0\n",
    "    for i in x:\n",
    "        S += i**2\n",
    "    return S**0.5"
   ]
  },
  {
   "cell_type": "code",
   "execution_count": 17,
   "id": "e6e2ca8d",
   "metadata": {},
   "outputs": [
    {
     "data": {
      "text/plain": [
       "13.0"
      ]
     },
     "execution_count": 17,
     "metadata": {},
     "output_type": "execute_result"
    }
   ],
   "source": [
    "magnitude([3, 4, 12])"
   ]
  },
  {
   "cell_type": "markdown",
   "id": "0f0c911f",
   "metadata": {},
   "source": [
    "### Inner Product of two vectors"
   ]
  },
  {
   "cell_type": "code",
   "execution_count": 18,
   "id": "612d4f9f",
   "metadata": {},
   "outputs": [],
   "source": [
    "def inner_product(x, y):\n",
    "    \"\"\"\n",
    "    x: list\n",
    "    y: list\n",
    "    result: inner product of vectors x and y\n",
    "    \"\"\"\n",
    "    if len(x) != len(y):\n",
    "        print(\"The dimensions of x and y are different.\")\n",
    "        return None\n",
    "    \n",
    "    S = 0\n",
    "    for i in range(len(x)):\n",
    "        S += (x[i]*y[i])\n",
    "        \n",
    "    return S"
   ]
  },
  {
   "cell_type": "code",
   "execution_count": 19,
   "id": "26254eed",
   "metadata": {},
   "outputs": [
    {
     "data": {
      "text/plain": [
       "33"
      ]
     },
     "execution_count": 19,
     "metadata": {},
     "output_type": "execute_result"
    }
   ],
   "source": [
    "inner_product([1, 3, 4], [2, 5, 4])"
   ]
  },
  {
   "cell_type": "code",
   "execution_count": 21,
   "id": "d5c68f86",
   "metadata": {},
   "outputs": [
    {
     "data": {
      "text/plain": [
       "169"
      ]
     },
     "execution_count": 21,
     "metadata": {},
     "output_type": "execute_result"
    }
   ],
   "source": [
    "inner_product([3, 4, 12], [3, 4, 12])"
   ]
  },
  {
   "cell_type": "markdown",
   "id": "952d22c1",
   "metadata": {},
   "source": [
    "## Matrices\n",
    "\n",
    "Here we will take matrices as list of list"
   ]
  },
  {
   "cell_type": "markdown",
   "id": "cc6c65fd",
   "metadata": {},
   "source": [
    "### find the rows and colums of a matrix"
   ]
  },
  {
   "cell_type": "code",
   "execution_count": 24,
   "id": "eb2f0858",
   "metadata": {},
   "outputs": [],
   "source": [
    "def find_rows_and_columns(M):\n",
    "    return len(M), len(M[0])"
   ]
  },
  {
   "cell_type": "code",
   "execution_count": 26,
   "id": "4e017f90",
   "metadata": {},
   "outputs": [],
   "source": [
    "M = [[1, 2, 3, 5], [3, 5, 6, 2], [7, 8, 9, 1]]"
   ]
  },
  {
   "cell_type": "code",
   "execution_count": 27,
   "id": "9eb7b318",
   "metadata": {},
   "outputs": [
    {
     "data": {
      "text/plain": [
       "(3, 4)"
      ]
     },
     "execution_count": 27,
     "metadata": {},
     "output_type": "execute_result"
    }
   ],
   "source": [
    "find_rows_and_columns(M)"
   ]
  },
  {
   "cell_type": "markdown",
   "id": "a6c1b721",
   "metadata": {},
   "source": [
    "### print matrix"
   ]
  },
  {
   "cell_type": "code",
   "execution_count": 28,
   "id": "086bb216",
   "metadata": {},
   "outputs": [
    {
     "name": "stdout",
     "output_type": "stream",
     "text": [
      "[[1, 2, 3, 5], [3, 5, 6, 2], [7, 8, 9, 1]]\n"
     ]
    }
   ],
   "source": [
    "print(M)"
   ]
  },
  {
   "cell_type": "markdown",
   "id": "4a6f3244",
   "metadata": {},
   "source": [
    "But we want in the format\n",
    "\n",
    "1 2 3 5\n",
    "\n",
    "3 5 6 2\n",
    "\n",
    "7 8 9 1"
   ]
  },
  {
   "cell_type": "code",
   "execution_count": 34,
   "id": "8ef29a85",
   "metadata": {},
   "outputs": [],
   "source": [
    "def print_matrix(M):\n",
    "    rows, cols = find_rows_and_columns(M)\n",
    "    for r in range(rows):\n",
    "        for c in range(cols):\n",
    "            print(M[r][c],end=\" \")\n",
    "        print(\"\\n\")"
   ]
  },
  {
   "cell_type": "code",
   "execution_count": 35,
   "id": "ca8b325c",
   "metadata": {},
   "outputs": [
    {
     "name": "stdout",
     "output_type": "stream",
     "text": [
      "1 2 3 5 \n",
      "\n",
      "3 5 6 2 \n",
      "\n",
      "7 8 9 1 \n",
      "\n"
     ]
    }
   ],
   "source": [
    "print_matrix(M)"
   ]
  },
  {
   "cell_type": "markdown",
   "id": "45988f39",
   "metadata": {},
   "source": [
    "### Check whether a matrix is square or not"
   ]
  },
  {
   "cell_type": "code",
   "execution_count": 36,
   "id": "d55fe912",
   "metadata": {},
   "outputs": [],
   "source": [
    "rows, cols = find_rows_and_columns(M)"
   ]
  },
  {
   "cell_type": "code",
   "execution_count": 37,
   "id": "2f1736f9",
   "metadata": {},
   "outputs": [
    {
     "name": "stdout",
     "output_type": "stream",
     "text": [
      "Not square\n"
     ]
    }
   ],
   "source": [
    "if rows == cols:\n",
    "    print(\"Square\")\n",
    "else:\n",
    "    print(\"Not square\")"
   ]
  },
  {
   "cell_type": "code",
   "execution_count": 38,
   "id": "b81f0d82",
   "metadata": {},
   "outputs": [],
   "source": [
    "def check_square(M):\n",
    "    rows, cols = find_rows_and_columns(M)\n",
    "    if rows == cols:\n",
    "        return True\n",
    "    else:\n",
    "        return False"
   ]
  },
  {
   "cell_type": "code",
   "execution_count": 39,
   "id": "6e011e0a",
   "metadata": {},
   "outputs": [
    {
     "data": {
      "text/plain": [
       "False"
      ]
     },
     "execution_count": 39,
     "metadata": {},
     "output_type": "execute_result"
    }
   ],
   "source": [
    "check_square(M)"
   ]
  },
  {
   "cell_type": "markdown",
   "id": "3c5dc449",
   "metadata": {},
   "source": [
    "### Create a diagonal matrix\n",
    "\n",
    "You will be provided with the diagonal elements in the form of a list\n",
    "\n",
    "`d = [1, 3, 5]`\n",
    "\n",
    "Now you have to print\n",
    "\n",
    "```\n",
    "1 0 0\n",
    "0 3 0\n",
    "0 0 5\n",
    "```"
   ]
  },
  {
   "cell_type": "code",
   "execution_count": 42,
   "id": "ddb4f753",
   "metadata": {},
   "outputs": [],
   "source": [
    "def create_diagonal(d):\n",
    "    n = len(d)\n",
    "    M = []\n",
    "    for i in range(n):\n",
    "        row = []\n",
    "        for j in range(n):\n",
    "            if i == j:\n",
    "                row.append(d[i])\n",
    "            else:\n",
    "                row.append(0)\n",
    "        M.append(row)\n",
    "        \n",
    "    return M"
   ]
  },
  {
   "cell_type": "code",
   "execution_count": 43,
   "id": "a8f6d343",
   "metadata": {},
   "outputs": [],
   "source": [
    "D = create_diagonal([2, 4, 1, 6])"
   ]
  },
  {
   "cell_type": "code",
   "execution_count": 44,
   "id": "d1be37ae",
   "metadata": {},
   "outputs": [
    {
     "name": "stdout",
     "output_type": "stream",
     "text": [
      "2 0 0 0 \n",
      "\n",
      "0 4 0 0 \n",
      "\n",
      "0 0 1 0 \n",
      "\n",
      "0 0 0 6 \n",
      "\n"
     ]
    }
   ],
   "source": [
    "print_matrix(D)"
   ]
  },
  {
   "cell_type": "markdown",
   "id": "bd52638e",
   "metadata": {},
   "source": [
    "### Create identity matrix of given order\n",
    "\n",
    "if I give order = 3, It should give me\n",
    "\n",
    "```\n",
    "1 0 0\n",
    "0 1 0\n",
    "0 0 1\n",
    "```"
   ]
  },
  {
   "cell_type": "code",
   "execution_count": 49,
   "id": "420d8886",
   "metadata": {},
   "outputs": [
    {
     "name": "stdout",
     "output_type": "stream",
     "text": [
      "Give the order of identity matrix: 5\n"
     ]
    }
   ],
   "source": [
    "n = int(input(\"Give the order of identity matrix: \"))"
   ]
  },
  {
   "cell_type": "code",
   "execution_count": 50,
   "id": "872c6e48",
   "metadata": {},
   "outputs": [],
   "source": [
    "I = create_diagonal(d = n*[1])"
   ]
  },
  {
   "cell_type": "code",
   "execution_count": 51,
   "id": "c7299afd",
   "metadata": {},
   "outputs": [
    {
     "name": "stdout",
     "output_type": "stream",
     "text": [
      "1 0 0 0 0 \n",
      "\n",
      "0 1 0 0 0 \n",
      "\n",
      "0 0 1 0 0 \n",
      "\n",
      "0 0 0 1 0 \n",
      "\n",
      "0 0 0 0 1 \n",
      "\n"
     ]
    }
   ],
   "source": [
    "print_matrix(I)"
   ]
  },
  {
   "cell_type": "markdown",
   "id": "7175a7fb",
   "metadata": {},
   "source": [
    "### Transpose of a matrix"
   ]
  },
  {
   "cell_type": "code",
   "execution_count": 58,
   "id": "5bfb3e19",
   "metadata": {},
   "outputs": [],
   "source": [
    "def transpose(M):\n",
    "    rows, cols = find_rows_and_columns(M)\n",
    "    M_t = []\n",
    "    for i in range(cols):\n",
    "        r = []\n",
    "        for j in range(rows):\n",
    "            r.append(M[j][i])\n",
    "        M_t.append(r)\n",
    "    return M_t"
   ]
  },
  {
   "cell_type": "code",
   "execution_count": 59,
   "id": "a435f2c4",
   "metadata": {},
   "outputs": [
    {
     "data": {
      "text/plain": [
       "[[1, 2, 3, 5], [3, 5, 6, 2], [7, 8, 9, 1]]"
      ]
     },
     "execution_count": 59,
     "metadata": {},
     "output_type": "execute_result"
    }
   ],
   "source": [
    "M"
   ]
  },
  {
   "cell_type": "code",
   "execution_count": 61,
   "id": "a839d3b0",
   "metadata": {},
   "outputs": [
    {
     "name": "stdout",
     "output_type": "stream",
     "text": [
      "1 2 3 5 \n",
      "\n",
      "3 5 6 2 \n",
      "\n",
      "7 8 9 1 \n",
      "\n"
     ]
    }
   ],
   "source": [
    "print_matrix(M)"
   ]
  },
  {
   "cell_type": "code",
   "execution_count": 60,
   "id": "33b29477",
   "metadata": {},
   "outputs": [],
   "source": [
    "M_t = transpose(M)"
   ]
  },
  {
   "cell_type": "code",
   "execution_count": 62,
   "id": "05dcc8e7",
   "metadata": {},
   "outputs": [
    {
     "name": "stdout",
     "output_type": "stream",
     "text": [
      "1 3 7 \n",
      "\n",
      "2 5 8 \n",
      "\n",
      "3 6 9 \n",
      "\n",
      "5 2 1 \n",
      "\n"
     ]
    }
   ],
   "source": [
    "print_matrix(M_t)"
   ]
  },
  {
   "cell_type": "markdown",
   "id": "563f3570",
   "metadata": {},
   "source": [
    "### Frobenious norm of a matrix"
   ]
  },
  {
   "cell_type": "code",
   "execution_count": 63,
   "id": "850e36e1",
   "metadata": {},
   "outputs": [],
   "source": [
    "def calculate_frobenius_norm(M):\n",
    "    rows, cols = find_rows_and_columns(M)\n",
    "    S = 0\n",
    "    for i in range(rows):\n",
    "        for j in range(cols):\n",
    "            S += (M[i][j])**2\n",
    "    return S**0.5"
   ]
  },
  {
   "cell_type": "code",
   "execution_count": 64,
   "id": "3b799022",
   "metadata": {},
   "outputs": [
    {
     "name": "stdout",
     "output_type": "stream",
     "text": [
      "1 2 3 5 \n",
      "\n",
      "3 5 6 2 \n",
      "\n",
      "7 8 9 1 \n",
      "\n"
     ]
    }
   ],
   "source": [
    "print_matrix(M)"
   ]
  },
  {
   "cell_type": "code",
   "execution_count": 65,
   "id": "cbb6fd77",
   "metadata": {},
   "outputs": [
    {
     "data": {
      "text/plain": [
       "17.549928774784245"
      ]
     },
     "execution_count": 65,
     "metadata": {},
     "output_type": "execute_result"
    }
   ],
   "source": [
    "calculate_frobenius_norm(M)"
   ]
  },
  {
   "cell_type": "markdown",
   "id": "59fe7aec",
   "metadata": {},
   "source": [
    "### Addition of two matrices"
   ]
  },
  {
   "cell_type": "code",
   "execution_count": 66,
   "id": "5265d004",
   "metadata": {},
   "outputs": [],
   "source": [
    "def add_matrices(mat1, mat2):\n",
    "    r1, c1 = find_rows_and_columns(mat1)\n",
    "    r2, c2 = find_rows_and_columns(mat2)\n",
    "    if r1 != r2 or c1 != c2:\n",
    "        print(\"The dimensions of the matrices are different. Hence, they can't be added.\")\n",
    "        return None\n",
    "    result = []\n",
    "    for i in range(r1):\n",
    "        row = []\n",
    "        for j in range(c1):\n",
    "            row.append(mat1[i][j]+mat2[i][j])\n",
    "        result.append(row)\n",
    "    return result"
   ]
  },
  {
   "cell_type": "code",
   "execution_count": 67,
   "id": "458b2808",
   "metadata": {},
   "outputs": [],
   "source": [
    "mat1 = [[2, 3, 4], [4, 1, 7]]\n",
    "mat2 = [[1, 1, -1], [-4, 0, 0.5]]"
   ]
  },
  {
   "cell_type": "code",
   "execution_count": 68,
   "id": "b99772d1",
   "metadata": {},
   "outputs": [
    {
     "name": "stdout",
     "output_type": "stream",
     "text": [
      "2 3 4 \n",
      "\n",
      "4 1 7 \n",
      "\n"
     ]
    }
   ],
   "source": [
    "print_matrix(mat1)"
   ]
  },
  {
   "cell_type": "code",
   "execution_count": 69,
   "id": "6078dad9",
   "metadata": {},
   "outputs": [
    {
     "name": "stdout",
     "output_type": "stream",
     "text": [
      "1 1 -1 \n",
      "\n",
      "-4 0 0.5 \n",
      "\n"
     ]
    }
   ],
   "source": [
    "print_matrix(mat2)"
   ]
  },
  {
   "cell_type": "code",
   "execution_count": 70,
   "id": "73d90387",
   "metadata": {},
   "outputs": [],
   "source": [
    "result = add_matrices(mat1, mat2)"
   ]
  },
  {
   "cell_type": "code",
   "execution_count": 71,
   "id": "48ae98c2",
   "metadata": {},
   "outputs": [
    {
     "name": "stdout",
     "output_type": "stream",
     "text": [
      "3 4 3 \n",
      "\n",
      "0 1 7.5 \n",
      "\n"
     ]
    }
   ],
   "source": [
    "print_matrix(result)"
   ]
  },
  {
   "cell_type": "markdown",
   "id": "c8a82a7a",
   "metadata": {},
   "source": [
    "### Scalar multiplication of matrix"
   ]
  },
  {
   "cell_type": "code",
   "execution_count": 76,
   "id": "56b74134",
   "metadata": {},
   "outputs": [],
   "source": [
    "def scalar_matrix_mult(mat, k):\n",
    "    result = []\n",
    "    rows, cols = find_rows_and_columns(mat)\n",
    "    for i in range(rows):\n",
    "        r = []\n",
    "        for j in range(cols):\n",
    "            r.append(k*mat[i][j])\n",
    "        result.append(r)\n",
    "    return result"
   ]
  },
  {
   "cell_type": "code",
   "execution_count": 74,
   "id": "d0f21fa1",
   "metadata": {},
   "outputs": [
    {
     "name": "stdout",
     "output_type": "stream",
     "text": [
      "1 2 3 5 \n",
      "\n",
      "3 5 6 2 \n",
      "\n",
      "7 8 9 1 \n",
      "\n"
     ]
    }
   ],
   "source": [
    "print_matrix(M)"
   ]
  },
  {
   "cell_type": "code",
   "execution_count": 77,
   "id": "0e96d423",
   "metadata": {},
   "outputs": [],
   "source": [
    "result = scalar_matrix_mult(M, 2.5)"
   ]
  },
  {
   "cell_type": "code",
   "execution_count": 78,
   "id": "40998c5b",
   "metadata": {},
   "outputs": [
    {
     "name": "stdout",
     "output_type": "stream",
     "text": [
      "2.5 5.0 7.5 12.5 \n",
      "\n",
      "7.5 12.5 15.0 5.0 \n",
      "\n",
      "17.5 20.0 22.5 2.5 \n",
      "\n"
     ]
    }
   ],
   "source": [
    "print_matrix(result)"
   ]
  },
  {
   "cell_type": "code",
   "execution_count": null,
   "id": "84956349",
   "metadata": {},
   "outputs": [],
   "source": []
  }
 ],
 "metadata": {
  "kernelspec": {
   "display_name": "Python 3 (ipykernel)",
   "language": "python",
   "name": "python3"
  },
  "language_info": {
   "codemirror_mode": {
    "name": "ipython",
    "version": 3
   },
   "file_extension": ".py",
   "mimetype": "text/x-python",
   "name": "python",
   "nbconvert_exporter": "python",
   "pygments_lexer": "ipython3",
   "version": "3.9.7"
  }
 },
 "nbformat": 4,
 "nbformat_minor": 5
}
