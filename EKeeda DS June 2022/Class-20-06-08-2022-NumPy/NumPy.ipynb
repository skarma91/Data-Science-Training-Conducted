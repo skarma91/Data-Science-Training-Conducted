{
 "cells": [
  {
   "cell_type": "markdown",
   "id": "15f773b8",
   "metadata": {},
   "source": [
    "## Importing numpy"
   ]
  },
  {
   "cell_type": "code",
   "execution_count": 1,
   "id": "cc87e6cc",
   "metadata": {},
   "outputs": [],
   "source": [
    "import numpy as np"
   ]
  },
  {
   "cell_type": "markdown",
   "id": "daa4ac28",
   "metadata": {},
   "source": [
    "Whenever we use any library we have refer its namespace. Here `np` is an alias of `numpy`"
   ]
  },
  {
   "cell_type": "markdown",
   "id": "d841bc00",
   "metadata": {},
   "source": [
    "## NumPy Arrays"
   ]
  },
  {
   "cell_type": "markdown",
   "id": "0599eeaa",
   "metadata": {},
   "source": [
    "### Creating NumPy array from list"
   ]
  },
  {
   "cell_type": "markdown",
   "id": "a62621c0",
   "metadata": {},
   "source": [
    "#### 1-D list"
   ]
  },
  {
   "cell_type": "code",
   "execution_count": 2,
   "id": "3d0d8890",
   "metadata": {},
   "outputs": [],
   "source": [
    "list_1 = [2, 3, 4, 9, 10.5]"
   ]
  },
  {
   "cell_type": "code",
   "execution_count": 3,
   "id": "7372bfab",
   "metadata": {},
   "outputs": [
    {
     "name": "stdout",
     "output_type": "stream",
     "text": [
      "[2, 3, 4, 9, 10.5]\n"
     ]
    }
   ],
   "source": [
    "print(list_1)"
   ]
  },
  {
   "cell_type": "markdown",
   "id": "e7743f8b",
   "metadata": {},
   "source": [
    "We shall use `np.array` to convert lists to numpy array"
   ]
  },
  {
   "cell_type": "code",
   "execution_count": 4,
   "id": "0ee0bcf4",
   "metadata": {},
   "outputs": [],
   "source": [
    "x = np.array(list_1)"
   ]
  },
  {
   "cell_type": "code",
   "execution_count": 9,
   "id": "cf43e373",
   "metadata": {},
   "outputs": [
    {
     "name": "stdout",
     "output_type": "stream",
     "text": [
      "[ 2.   3.   4.   9.  10.5]\n"
     ]
    }
   ],
   "source": [
    "print(x)"
   ]
  },
  {
   "cell_type": "code",
   "execution_count": 5,
   "id": "32143ae1",
   "metadata": {},
   "outputs": [
    {
     "data": {
      "text/plain": [
       "numpy.ndarray"
      ]
     },
     "execution_count": 5,
     "metadata": {},
     "output_type": "execute_result"
    }
   ],
   "source": [
    "type(x)"
   ]
  },
  {
   "cell_type": "markdown",
   "id": "0fd60be3",
   "metadata": {},
   "source": [
    "#### From 2-D list"
   ]
  },
  {
   "cell_type": "code",
   "execution_count": 6,
   "id": "697692ef",
   "metadata": {},
   "outputs": [],
   "source": [
    "list_2 = [[1,2,3],[4,5,6],[7,8,9]]"
   ]
  },
  {
   "cell_type": "code",
   "execution_count": 7,
   "id": "50afbdfa",
   "metadata": {},
   "outputs": [],
   "source": [
    "x2 = np.array(list_2)"
   ]
  },
  {
   "cell_type": "code",
   "execution_count": 8,
   "id": "b188325a",
   "metadata": {},
   "outputs": [
    {
     "name": "stdout",
     "output_type": "stream",
     "text": [
      "[[1 2 3]\n",
      " [4 5 6]\n",
      " [7 8 9]]\n"
     ]
    }
   ],
   "source": [
    "print(x2)"
   ]
  },
  {
   "cell_type": "markdown",
   "id": "c5da6e96",
   "metadata": {},
   "source": [
    "#### From 3-D list\n",
    "\n",
    "We shall get an n-d array where n > 2 [tensor]"
   ]
  },
  {
   "cell_type": "code",
   "execution_count": 10,
   "id": "937d9219",
   "metadata": {},
   "outputs": [],
   "source": [
    "list_3 = [[[1,2,3],[3,4,5],[5,6,7]],[[-1,-2,-4],[4,9,5],[7, 7, 8]]]"
   ]
  },
  {
   "cell_type": "code",
   "execution_count": 11,
   "id": "177cf16a",
   "metadata": {},
   "outputs": [
    {
     "name": "stdout",
     "output_type": "stream",
     "text": [
      "[[[1, 2, 3], [3, 4, 5], [5, 6, 7]], [[-1, -2, -4], [4, 9, 5], [7, 7, 8]]]\n"
     ]
    }
   ],
   "source": [
    "print(list_3)"
   ]
  },
  {
   "cell_type": "code",
   "execution_count": 12,
   "id": "e68d7add",
   "metadata": {},
   "outputs": [],
   "source": [
    "x3 = np.array(list_3)"
   ]
  },
  {
   "cell_type": "code",
   "execution_count": 13,
   "id": "d7739a29",
   "metadata": {},
   "outputs": [
    {
     "name": "stdout",
     "output_type": "stream",
     "text": [
      "[[[ 1  2  3]\n",
      "  [ 3  4  5]\n",
      "  [ 5  6  7]]\n",
      "\n",
      " [[-1 -2 -4]\n",
      "  [ 4  9  5]\n",
      "  [ 7  7  8]]]\n"
     ]
    }
   ],
   "source": [
    "print(x3)"
   ]
  },
  {
   "cell_type": "markdown",
   "id": "bb3ad458",
   "metadata": {},
   "source": [
    "### Data Type"
   ]
  },
  {
   "cell_type": "markdown",
   "id": "89ce416a",
   "metadata": {},
   "source": [
    "- The fundamental data structure in NumPy is `numpy.ndarray`\n",
    "- Difference between numpy.ndarray and python list\n",
    "  1. In numpy.ndarray the data must be homogenous (all the data should have same data type)\n",
    "  2. These data types must be one of the data types (dtypes) provided by NumPy"
   ]
  },
  {
   "cell_type": "code",
   "execution_count": 14,
   "id": "6184d88e",
   "metadata": {},
   "outputs": [],
   "source": [
    "homogenous_list = [1, 2, 3.5, 4, 5]"
   ]
  },
  {
   "cell_type": "code",
   "execution_count": 15,
   "id": "7c5e031f",
   "metadata": {},
   "outputs": [
    {
     "data": {
      "text/plain": [
       "array([1. , 2. , 3.5, 4. , 5. ])"
      ]
     },
     "execution_count": 15,
     "metadata": {},
     "output_type": "execute_result"
    }
   ],
   "source": [
    "np.array(homogenous_list)"
   ]
  },
  {
   "cell_type": "code",
   "execution_count": 16,
   "id": "ae7a66e6",
   "metadata": {},
   "outputs": [],
   "source": [
    "heterogenous_list = [True, 'c', 32.5]"
   ]
  },
  {
   "cell_type": "code",
   "execution_count": 17,
   "id": "cef68420",
   "metadata": {},
   "outputs": [
    {
     "data": {
      "text/plain": [
       "array(['True', 'c', '32.5'], dtype='<U32')"
      ]
     },
     "execution_count": 17,
     "metadata": {},
     "output_type": "execute_result"
    }
   ],
   "source": [
    "np.array(heterogenous_list)"
   ]
  },
  {
   "cell_type": "code",
   "execution_count": 18,
   "id": "cfaf880c",
   "metadata": {},
   "outputs": [],
   "source": [
    "z = np.array([1, 2, 3])"
   ]
  },
  {
   "cell_type": "code",
   "execution_count": 19,
   "id": "2419cdc7",
   "metadata": {},
   "outputs": [
    {
     "data": {
      "text/plain": [
       "numpy.ndarray"
      ]
     },
     "execution_count": 19,
     "metadata": {},
     "output_type": "execute_result"
    }
   ],
   "source": [
    "type(z)"
   ]
  },
  {
   "cell_type": "code",
   "execution_count": 20,
   "id": "56dfba5d",
   "metadata": {},
   "outputs": [
    {
     "data": {
      "text/plain": [
       "numpy.int32"
      ]
     },
     "execution_count": 20,
     "metadata": {},
     "output_type": "execute_result"
    }
   ],
   "source": [
    "type(z[0])"
   ]
  },
  {
   "cell_type": "code",
   "execution_count": 21,
   "id": "c860c770",
   "metadata": {},
   "outputs": [],
   "source": [
    "z = np.array([1, 2, 3], dtype = 'float')"
   ]
  },
  {
   "cell_type": "code",
   "execution_count": 22,
   "id": "b97a48ae",
   "metadata": {},
   "outputs": [
    {
     "data": {
      "text/plain": [
       "numpy.ndarray"
      ]
     },
     "execution_count": 22,
     "metadata": {},
     "output_type": "execute_result"
    }
   ],
   "source": [
    "type(z)"
   ]
  },
  {
   "cell_type": "code",
   "execution_count": 23,
   "id": "dd36c201",
   "metadata": {},
   "outputs": [
    {
     "data": {
      "text/plain": [
       "numpy.float64"
      ]
     },
     "execution_count": 23,
     "metadata": {},
     "output_type": "execute_result"
    }
   ],
   "source": [
    "type(z[0])"
   ]
  },
  {
   "cell_type": "code",
   "execution_count": 24,
   "id": "01cc1171",
   "metadata": {},
   "outputs": [],
   "source": [
    "z = np.array([1, 2, 3], dtype = np.int8)"
   ]
  },
  {
   "cell_type": "code",
   "execution_count": 25,
   "id": "ce3acbe3",
   "metadata": {},
   "outputs": [
    {
     "data": {
      "text/plain": [
       "numpy.int8"
      ]
     },
     "execution_count": 25,
     "metadata": {},
     "output_type": "execute_result"
    }
   ],
   "source": [
    "type(z[0])"
   ]
  },
  {
   "cell_type": "markdown",
   "id": "a5bac0ac",
   "metadata": {},
   "source": [
    "- float64: 64 bit floating point number\n",
    "- int64: 64 bit integer\n",
    "- int32: 32 bit integer\n",
    "- int8: 8 bit integer\n",
    "- bool: 8 bit True or False"
   ]
  },
  {
   "cell_type": "markdown",
   "id": "f5a48785",
   "metadata": {},
   "source": [
    "### Creating NumPy from linearly spaced data using numpy.linspace"
   ]
  },
  {
   "cell_type": "code",
   "execution_count": 30,
   "id": "0c471765",
   "metadata": {},
   "outputs": [
    {
     "data": {
      "text/plain": [
       "array([ 0.,  2.,  4.,  6.,  8., 10., 12., 14., 16., 18., 20.])"
      ]
     },
     "execution_count": 30,
     "metadata": {},
     "output_type": "execute_result"
    }
   ],
   "source": [
    "np.linspace(start=0, stop=20, num=11)    # d = (stop - start)/(num - 1)"
   ]
  },
  {
   "cell_type": "code",
   "execution_count": 28,
   "id": "9978148a",
   "metadata": {},
   "outputs": [
    {
     "data": {
      "text/plain": [
       "array([100.,  95.,  90.,  85.,  80.,  75.,  70.,  65.,  60.,  55.,  50.,\n",
       "        45.,  40.,  35.,  30.,  25.,  20.,  15.,  10.,   5.,   0.])"
      ]
     },
     "execution_count": 28,
     "metadata": {},
     "output_type": "execute_result"
    }
   ],
   "source": [
    "np.linspace(start=100, stop=0, num=21)"
   ]
  },
  {
   "cell_type": "code",
   "execution_count": 29,
   "id": "e4915254",
   "metadata": {},
   "outputs": [
    {
     "data": {
      "text/plain": [
       "-5.0"
      ]
     },
     "execution_count": 29,
     "metadata": {},
     "output_type": "execute_result"
    }
   ],
   "source": [
    "0 - 100 / 20"
   ]
  },
  {
   "cell_type": "markdown",
   "id": "0fb92adf",
   "metadata": {},
   "source": [
    "### Boolean Array"
   ]
  },
  {
   "cell_type": "code",
   "execution_count": 34,
   "id": "9527b099",
   "metadata": {},
   "outputs": [],
   "source": [
    "b = np.array([0, 1, 1, 0, 1], dtype = bool)"
   ]
  },
  {
   "cell_type": "code",
   "execution_count": 35,
   "id": "897b3565",
   "metadata": {},
   "outputs": [
    {
     "data": {
      "text/plain": [
       "numpy.bool_"
      ]
     },
     "execution_count": 35,
     "metadata": {},
     "output_type": "execute_result"
    }
   ],
   "source": [
    "type(b[0])"
   ]
  },
  {
   "cell_type": "code",
   "execution_count": 36,
   "id": "e6da1776",
   "metadata": {},
   "outputs": [
    {
     "data": {
      "text/plain": [
       "array([False,  True,  True, False,  True])"
      ]
     },
     "execution_count": 36,
     "metadata": {},
     "output_type": "execute_result"
    }
   ],
   "source": [
    "b"
   ]
  },
  {
   "cell_type": "markdown",
   "id": "e752c7bc",
   "metadata": {},
   "source": [
    "### numpy.asarray and its difference with numpy.array"
   ]
  },
  {
   "cell_type": "code",
   "execution_count": 37,
   "id": "115dab3c",
   "metadata": {},
   "outputs": [],
   "source": [
    "x = [1, 3 ,5, 7]"
   ]
  },
  {
   "cell_type": "code",
   "execution_count": 38,
   "id": "3e7fbc54",
   "metadata": {},
   "outputs": [],
   "source": [
    "arr1 = np.array(x)"
   ]
  },
  {
   "cell_type": "code",
   "execution_count": 45,
   "id": "70c38936",
   "metadata": {},
   "outputs": [],
   "source": [
    "arr2 = np.asarray(x)"
   ]
  },
  {
   "cell_type": "code",
   "execution_count": 41,
   "id": "d3145397",
   "metadata": {},
   "outputs": [
    {
     "data": {
      "text/plain": [
       "array([1, 3, 5, 7])"
      ]
     },
     "execution_count": 41,
     "metadata": {},
     "output_type": "execute_result"
    }
   ],
   "source": [
    "arr1"
   ]
  },
  {
   "cell_type": "code",
   "execution_count": 48,
   "id": "b3b52e8f",
   "metadata": {},
   "outputs": [
    {
     "data": {
      "text/plain": [
       "array([1, 3, 5, 7])"
      ]
     },
     "execution_count": 48,
     "metadata": {},
     "output_type": "execute_result"
    }
   ],
   "source": [
    "arr2"
   ]
  },
  {
   "cell_type": "code",
   "execution_count": 47,
   "id": "754018a3",
   "metadata": {},
   "outputs": [
    {
     "data": {
      "text/plain": [
       "False"
      ]
     },
     "execution_count": 47,
     "metadata": {},
     "output_type": "execute_result"
    }
   ],
   "source": [
    "arr1 is x"
   ]
  },
  {
   "cell_type": "code",
   "execution_count": 46,
   "id": "9391dce5",
   "metadata": {},
   "outputs": [
    {
     "data": {
      "text/plain": [
       "False"
      ]
     },
     "execution_count": 46,
     "metadata": {},
     "output_type": "execute_result"
    }
   ],
   "source": [
    "arr2 is x"
   ]
  },
  {
   "cell_type": "markdown",
   "id": "77791d1d",
   "metadata": {},
   "source": [
    "np.asarry and np.array can be used alternatively"
   ]
  },
  {
   "cell_type": "markdown",
   "id": "68c9e801",
   "metadata": {},
   "source": [
    "### Creating arrays with all zero"
   ]
  },
  {
   "cell_type": "markdown",
   "id": "0c6a1288",
   "metadata": {},
   "source": [
    "```python\n",
    "\n",
    "np.zeros(shape=(a,b,...))\n",
    "```"
   ]
  },
  {
   "cell_type": "code",
   "execution_count": 53,
   "id": "9950615e",
   "metadata": {},
   "outputs": [
    {
     "data": {
      "text/plain": [
       "array([[0, 0, 0, 0],\n",
       "       [0, 0, 0, 0],\n",
       "       [0, 0, 0, 0],\n",
       "       [0, 0, 0, 0],\n",
       "       [0, 0, 0, 0]], dtype=int8)"
      ]
     },
     "execution_count": 53,
     "metadata": {},
     "output_type": "execute_result"
    }
   ],
   "source": [
    "np.zeros(shape=(5,4), dtype=np.int8)"
   ]
  },
  {
   "cell_type": "markdown",
   "id": "2257c4a5",
   "metadata": {},
   "source": [
    "### Empty (uninitialized) array"
   ]
  },
  {
   "cell_type": "code",
   "execution_count": 56,
   "id": "d1414f0c",
   "metadata": {},
   "outputs": [
    {
     "data": {
      "text/plain": [
       "array([[0., 0., 0., 0., 0.],\n",
       "       [0., 0., 0., 0., 0.],\n",
       "       [0., 0., 0., 0., 0.]])"
      ]
     },
     "execution_count": 56,
     "metadata": {},
     "output_type": "execute_result"
    }
   ],
   "source": [
    "np.empty(shape=(3,5))"
   ]
  },
  {
   "cell_type": "markdown",
   "id": "8a0f9d71",
   "metadata": {},
   "source": [
    "### zeros_like and empty_like"
   ]
  },
  {
   "cell_type": "code",
   "execution_count": 57,
   "id": "a318a1b7",
   "metadata": {},
   "outputs": [],
   "source": [
    "A = np.array([[1,2],[3,4],[5,6]])"
   ]
  },
  {
   "cell_type": "code",
   "execution_count": 58,
   "id": "cbcf0db9",
   "metadata": {},
   "outputs": [
    {
     "data": {
      "text/plain": [
       "array([[1, 2],\n",
       "       [3, 4],\n",
       "       [5, 6]])"
      ]
     },
     "execution_count": 58,
     "metadata": {},
     "output_type": "execute_result"
    }
   ],
   "source": [
    "A"
   ]
  },
  {
   "cell_type": "markdown",
   "id": "ce7442bf",
   "metadata": {},
   "source": [
    "Create an array which is of exact shape (exact numer of rows / columns) as array A.\n",
    "But all elements are initialized to zero (0)"
   ]
  },
  {
   "cell_type": "code",
   "execution_count": 59,
   "id": "0ce93275",
   "metadata": {},
   "outputs": [
    {
     "data": {
      "text/plain": [
       "array([[0, 0],\n",
       "       [0, 0],\n",
       "       [0, 0]])"
      ]
     },
     "execution_count": 59,
     "metadata": {},
     "output_type": "execute_result"
    }
   ],
   "source": [
    "np.zeros_like(A)"
   ]
  },
  {
   "cell_type": "markdown",
   "id": "9426b168",
   "metadata": {},
   "source": [
    "Create an uninitialized array of exact shape as array A."
   ]
  },
  {
   "cell_type": "code",
   "execution_count": 61,
   "id": "9b3c0f55",
   "metadata": {},
   "outputs": [
    {
     "data": {
      "text/plain": [
       "array([[-1015484656,         395],\n",
       "       [          0,           0],\n",
       "       [          1,       32767]])"
      ]
     },
     "execution_count": 61,
     "metadata": {},
     "output_type": "execute_result"
    }
   ],
   "source": [
    "np.empty_like(A)"
   ]
  },
  {
   "cell_type": "code",
   "execution_count": 62,
   "id": "78c14a3e",
   "metadata": {},
   "outputs": [],
   "source": [
    "k = np.empty_like(A)"
   ]
  },
  {
   "cell_type": "code",
   "execution_count": 63,
   "id": "1017dd88",
   "metadata": {},
   "outputs": [
    {
     "data": {
      "text/plain": [
       "array([[       1095,   538970724],\n",
       "       [-1012669840,         395],\n",
       "       [         37,   538976288]])"
      ]
     },
     "execution_count": 63,
     "metadata": {},
     "output_type": "execute_result"
    }
   ],
   "source": [
    "k"
   ]
  },
  {
   "cell_type": "code",
   "execution_count": 64,
   "id": "93467fb6",
   "metadata": {},
   "outputs": [],
   "source": [
    "k[0] = 34"
   ]
  },
  {
   "cell_type": "code",
   "execution_count": 65,
   "id": "4ad33b7e",
   "metadata": {},
   "outputs": [
    {
     "data": {
      "text/plain": [
       "array([[         34,          34],\n",
       "       [-1012669840,         395],\n",
       "       [         37,   538976288]])"
      ]
     },
     "execution_count": 65,
     "metadata": {},
     "output_type": "execute_result"
    }
   ],
   "source": [
    "k"
   ]
  },
  {
   "cell_type": "markdown",
   "id": "44a279f9",
   "metadata": {},
   "source": [
    "### Creating arrays with all ones"
   ]
  },
  {
   "cell_type": "code",
   "execution_count": 66,
   "id": "7ee992f4",
   "metadata": {},
   "outputs": [
    {
     "data": {
      "text/plain": [
       "array([[1., 1., 1., 1.],\n",
       "       [1., 1., 1., 1.],\n",
       "       [1., 1., 1., 1.]])"
      ]
     },
     "execution_count": 66,
     "metadata": {},
     "output_type": "execute_result"
    }
   ],
   "source": [
    "np.ones(shape=(3,4))"
   ]
  },
  {
   "cell_type": "code",
   "execution_count": 67,
   "id": "b18dc99a",
   "metadata": {},
   "outputs": [
    {
     "data": {
      "text/plain": [
       "array([[1, 1],\n",
       "       [1, 1],\n",
       "       [1, 1]])"
      ]
     },
     "execution_count": 67,
     "metadata": {},
     "output_type": "execute_result"
    }
   ],
   "source": [
    "np.ones_like(A)"
   ]
  },
  {
   "cell_type": "markdown",
   "id": "da4cb189",
   "metadata": {},
   "source": [
    "### Identity matrix"
   ]
  },
  {
   "cell_type": "code",
   "execution_count": 68,
   "id": "700e6d8d",
   "metadata": {},
   "outputs": [
    {
     "data": {
      "text/plain": [
       "array([[1., 0., 0., 0., 0.],\n",
       "       [0., 1., 0., 0., 0.],\n",
       "       [0., 0., 1., 0., 0.],\n",
       "       [0., 0., 0., 1., 0.],\n",
       "       [0., 0., 0., 0., 1.]])"
      ]
     },
     "execution_count": 68,
     "metadata": {},
     "output_type": "execute_result"
    }
   ],
   "source": [
    "np.eye(5)  ### eye name is actually borrowed from MATLAB"
   ]
  },
  {
   "cell_type": "code",
   "execution_count": 69,
   "id": "2e5568b3",
   "metadata": {},
   "outputs": [
    {
     "data": {
      "text/plain": [
       "array([[1., 0., 0., 0., 0., 0., 0., 0.],\n",
       "       [0., 1., 0., 0., 0., 0., 0., 0.],\n",
       "       [0., 0., 1., 0., 0., 0., 0., 0.],\n",
       "       [0., 0., 0., 1., 0., 0., 0., 0.],\n",
       "       [0., 0., 0., 0., 1., 0., 0., 0.],\n",
       "       [0., 0., 0., 0., 0., 1., 0., 0.],\n",
       "       [0., 0., 0., 0., 0., 0., 1., 0.],\n",
       "       [0., 0., 0., 0., 0., 0., 0., 1.]])"
      ]
     },
     "execution_count": 69,
     "metadata": {},
     "output_type": "execute_result"
    }
   ],
   "source": [
    "np.identity(8)"
   ]
  },
  {
   "cell_type": "markdown",
   "id": "950b66ff",
   "metadata": {},
   "source": [
    "### np.arange\n",
    "\n",
    "start is included but stop is excluded"
   ]
  },
  {
   "cell_type": "code",
   "execution_count": 71,
   "id": "f608598c",
   "metadata": {},
   "outputs": [
    {
     "data": {
      "text/plain": [
       "array([ 4,  6,  8, 10, 12, 14, 16, 18, 20, 22, 24])"
      ]
     },
     "execution_count": 71,
     "metadata": {},
     "output_type": "execute_result"
    }
   ],
   "source": [
    "np.arange(4, 25, 2)"
   ]
  },
  {
   "cell_type": "code",
   "execution_count": 72,
   "id": "535e43f6",
   "metadata": {},
   "outputs": [
    {
     "data": {
      "text/plain": [
       "array([100,  80,  60,  40,  20])"
      ]
     },
     "execution_count": 72,
     "metadata": {},
     "output_type": "execute_result"
    }
   ],
   "source": [
    "np.arange(start=100,stop=0,step=-20)"
   ]
  },
  {
   "cell_type": "code",
   "execution_count": 73,
   "id": "504dc9e2",
   "metadata": {},
   "outputs": [
    {
     "name": "stdout",
     "output_type": "stream",
     "text": [
      "1\n",
      "2\n",
      "3\n",
      "4\n",
      "5\n",
      "6\n",
      "7\n",
      "8\n",
      "9\n"
     ]
    }
   ],
   "source": [
    "for x in range(1,10,1):\n",
    "    print(x)"
   ]
  },
  {
   "cell_type": "markdown",
   "id": "de70197b",
   "metadata": {},
   "source": [
    "## Shape and Axes"
   ]
  },
  {
   "cell_type": "code",
   "execution_count": 83,
   "id": "b4137d0f",
   "metadata": {},
   "outputs": [],
   "source": [
    "x2d = np.array([[2,3,4],[9,8,7]])"
   ]
  },
  {
   "cell_type": "code",
   "execution_count": 84,
   "id": "b08572ef",
   "metadata": {},
   "outputs": [
    {
     "data": {
      "text/plain": [
       "array([[2, 3, 4],\n",
       "       [9, 8, 7]])"
      ]
     },
     "execution_count": 84,
     "metadata": {},
     "output_type": "execute_result"
    }
   ],
   "source": [
    "x2d"
   ]
  },
  {
   "cell_type": "code",
   "execution_count": 85,
   "id": "aabc9d34",
   "metadata": {},
   "outputs": [
    {
     "data": {
      "text/plain": [
       "(2, 3)"
      ]
     },
     "execution_count": 85,
     "metadata": {},
     "output_type": "execute_result"
    }
   ],
   "source": [
    "x2d.shape"
   ]
  },
  {
   "cell_type": "code",
   "execution_count": 86,
   "id": "2d9cd6d2",
   "metadata": {},
   "outputs": [],
   "source": [
    "x1d = np.array([1,2,3,6])"
   ]
  },
  {
   "cell_type": "code",
   "execution_count": 87,
   "id": "54c36f3d",
   "metadata": {},
   "outputs": [
    {
     "data": {
      "text/plain": [
       "(4,)"
      ]
     },
     "execution_count": 87,
     "metadata": {},
     "output_type": "execute_result"
    }
   ],
   "source": [
    "x1d.shape"
   ]
  },
  {
   "cell_type": "code",
   "execution_count": 88,
   "id": "3814fd4c",
   "metadata": {},
   "outputs": [],
   "source": [
    "x3d = np.array([[[1,4],[2,5],[3,6]],[[7,10],[8,11],[9,12]]])"
   ]
  },
  {
   "cell_type": "code",
   "execution_count": 89,
   "id": "3c875797",
   "metadata": {},
   "outputs": [
    {
     "data": {
      "text/plain": [
       "(2, 3, 2)"
      ]
     },
     "execution_count": 89,
     "metadata": {},
     "output_type": "execute_result"
    }
   ],
   "source": [
    "x3d.shape"
   ]
  },
  {
   "cell_type": "markdown",
   "id": "4f693d2d",
   "metadata": {},
   "source": [
    "### Reshaping an array"
   ]
  },
  {
   "cell_type": "code",
   "execution_count": 90,
   "id": "81823dbd",
   "metadata": {},
   "outputs": [
    {
     "data": {
      "text/plain": [
       "array([[2, 3, 4],\n",
       "       [9, 8, 7]])"
      ]
     },
     "execution_count": 90,
     "metadata": {},
     "output_type": "execute_result"
    }
   ],
   "source": [
    "x2d"
   ]
  },
  {
   "cell_type": "code",
   "execution_count": 91,
   "id": "9a6461a1",
   "metadata": {},
   "outputs": [
    {
     "data": {
      "text/plain": [
       "(2, 3)"
      ]
     },
     "execution_count": 91,
     "metadata": {},
     "output_type": "execute_result"
    }
   ],
   "source": [
    "x2d.shape"
   ]
  },
  {
   "cell_type": "code",
   "execution_count": 93,
   "id": "9def6ff2",
   "metadata": {},
   "outputs": [],
   "source": [
    "y = x2d.reshape(3, 2)"
   ]
  },
  {
   "cell_type": "code",
   "execution_count": 94,
   "id": "7eac42d1",
   "metadata": {},
   "outputs": [
    {
     "data": {
      "text/plain": [
       "(3, 2)"
      ]
     },
     "execution_count": 94,
     "metadata": {},
     "output_type": "execute_result"
    }
   ],
   "source": [
    "y.shape"
   ]
  },
  {
   "cell_type": "code",
   "execution_count": 95,
   "id": "6784d2c1",
   "metadata": {},
   "outputs": [
    {
     "data": {
      "text/plain": [
       "array([[2, 3],\n",
       "       [4, 9],\n",
       "       [8, 7]])"
      ]
     },
     "execution_count": 95,
     "metadata": {},
     "output_type": "execute_result"
    }
   ],
   "source": [
    "y"
   ]
  },
  {
   "cell_type": "code",
   "execution_count": 96,
   "id": "b9951d5d",
   "metadata": {},
   "outputs": [],
   "source": [
    "z = np.linspace(0,28,15)"
   ]
  },
  {
   "cell_type": "code",
   "execution_count": 97,
   "id": "41fa8b1d",
   "metadata": {},
   "outputs": [
    {
     "data": {
      "text/plain": [
       "array([ 0.,  2.,  4.,  6.,  8., 10., 12., 14., 16., 18., 20., 22., 24.,\n",
       "       26., 28.])"
      ]
     },
     "execution_count": 97,
     "metadata": {},
     "output_type": "execute_result"
    }
   ],
   "source": [
    "z"
   ]
  },
  {
   "cell_type": "code",
   "execution_count": 98,
   "id": "0630d8c8",
   "metadata": {},
   "outputs": [
    {
     "data": {
      "text/plain": [
       "(15,)"
      ]
     },
     "execution_count": 98,
     "metadata": {},
     "output_type": "execute_result"
    }
   ],
   "source": [
    "z.shape"
   ]
  },
  {
   "cell_type": "code",
   "execution_count": 99,
   "id": "e45ca5b3",
   "metadata": {},
   "outputs": [],
   "source": [
    "z1 = z.reshape((3,5))"
   ]
  },
  {
   "cell_type": "code",
   "execution_count": 100,
   "id": "f24b2296",
   "metadata": {},
   "outputs": [],
   "source": [
    "z2 = z.reshape((5,3))"
   ]
  },
  {
   "cell_type": "code",
   "execution_count": 101,
   "id": "6f23eb10",
   "metadata": {},
   "outputs": [
    {
     "data": {
      "text/plain": [
       "array([[ 0.,  2.,  4.,  6.,  8.],\n",
       "       [10., 12., 14., 16., 18.],\n",
       "       [20., 22., 24., 26., 28.]])"
      ]
     },
     "execution_count": 101,
     "metadata": {},
     "output_type": "execute_result"
    }
   ],
   "source": [
    "z1"
   ]
  },
  {
   "cell_type": "code",
   "execution_count": 102,
   "id": "bdc9c0d8",
   "metadata": {},
   "outputs": [
    {
     "data": {
      "text/plain": [
       "array([[ 0.,  2.,  4.],\n",
       "       [ 6.,  8., 10.],\n",
       "       [12., 14., 16.],\n",
       "       [18., 20., 22.],\n",
       "       [24., 26., 28.]])"
      ]
     },
     "execution_count": 102,
     "metadata": {},
     "output_type": "execute_result"
    }
   ],
   "source": [
    "z2"
   ]
  },
  {
   "cell_type": "markdown",
   "id": "827ac094",
   "metadata": {},
   "source": [
    "### Swaping axes"
   ]
  },
  {
   "cell_type": "code",
   "execution_count": 103,
   "id": "10704659",
   "metadata": {},
   "outputs": [],
   "source": [
    "x = np.linspace(0, 132, 45)"
   ]
  },
  {
   "cell_type": "code",
   "execution_count": 104,
   "id": "fcbeeec6",
   "metadata": {},
   "outputs": [
    {
     "data": {
      "text/plain": [
       "array([  0.,   3.,   6.,   9.,  12.,  15.,  18.,  21.,  24.,  27.,  30.,\n",
       "        33.,  36.,  39.,  42.,  45.,  48.,  51.,  54.,  57.,  60.,  63.,\n",
       "        66.,  69.,  72.,  75.,  78.,  81.,  84.,  87.,  90.,  93.,  96.,\n",
       "        99., 102., 105., 108., 111., 114., 117., 120., 123., 126., 129.,\n",
       "       132.])"
      ]
     },
     "execution_count": 104,
     "metadata": {},
     "output_type": "execute_result"
    }
   ],
   "source": [
    "x"
   ]
  },
  {
   "cell_type": "code",
   "execution_count": 105,
   "id": "5165173a",
   "metadata": {},
   "outputs": [
    {
     "data": {
      "text/plain": [
       "(45,)"
      ]
     },
     "execution_count": 105,
     "metadata": {},
     "output_type": "execute_result"
    }
   ],
   "source": [
    "x.shape"
   ]
  },
  {
   "cell_type": "code",
   "execution_count": 106,
   "id": "566af738",
   "metadata": {},
   "outputs": [],
   "source": [
    "x3d = x.reshape(5,3,3)"
   ]
  },
  {
   "cell_type": "code",
   "execution_count": 107,
   "id": "3be7161c",
   "metadata": {},
   "outputs": [
    {
     "data": {
      "text/plain": [
       "(5, 3, 3)"
      ]
     },
     "execution_count": 107,
     "metadata": {},
     "output_type": "execute_result"
    }
   ],
   "source": [
    "x3d.shape"
   ]
  },
  {
   "cell_type": "code",
   "execution_count": 108,
   "id": "2e413edb",
   "metadata": {},
   "outputs": [
    {
     "data": {
      "text/plain": [
       "array([[[  0.,   3.,   6.],\n",
       "        [  9.,  12.,  15.],\n",
       "        [ 18.,  21.,  24.]],\n",
       "\n",
       "       [[ 27.,  30.,  33.],\n",
       "        [ 36.,  39.,  42.],\n",
       "        [ 45.,  48.,  51.]],\n",
       "\n",
       "       [[ 54.,  57.,  60.],\n",
       "        [ 63.,  66.,  69.],\n",
       "        [ 72.,  75.,  78.]],\n",
       "\n",
       "       [[ 81.,  84.,  87.],\n",
       "        [ 90.,  93.,  96.],\n",
       "        [ 99., 102., 105.]],\n",
       "\n",
       "       [[108., 111., 114.],\n",
       "        [117., 120., 123.],\n",
       "        [126., 129., 132.]]])"
      ]
     },
     "execution_count": 108,
     "metadata": {},
     "output_type": "execute_result"
    }
   ],
   "source": [
    "x3d"
   ]
  },
  {
   "cell_type": "code",
   "execution_count": 110,
   "id": "85576008",
   "metadata": {},
   "outputs": [],
   "source": [
    "x3d__ = x3d.swapaxes(0, 2)"
   ]
  },
  {
   "cell_type": "code",
   "execution_count": 111,
   "id": "b26a8bcb",
   "metadata": {},
   "outputs": [
    {
     "data": {
      "text/plain": [
       "(3, 3, 5)"
      ]
     },
     "execution_count": 111,
     "metadata": {},
     "output_type": "execute_result"
    }
   ],
   "source": [
    "x3d__.shape"
   ]
  },
  {
   "cell_type": "code",
   "execution_count": 112,
   "id": "58c932df",
   "metadata": {},
   "outputs": [
    {
     "data": {
      "text/plain": [
       "array([[[  0.,  27.,  54.,  81., 108.],\n",
       "        [  9.,  36.,  63.,  90., 117.],\n",
       "        [ 18.,  45.,  72.,  99., 126.]],\n",
       "\n",
       "       [[  3.,  30.,  57.,  84., 111.],\n",
       "        [ 12.,  39.,  66.,  93., 120.],\n",
       "        [ 21.,  48.,  75., 102., 129.]],\n",
       "\n",
       "       [[  6.,  33.,  60.,  87., 114.],\n",
       "        [ 15.,  42.,  69.,  96., 123.],\n",
       "        [ 24.,  51.,  78., 105., 132.]]])"
      ]
     },
     "execution_count": 112,
     "metadata": {},
     "output_type": "execute_result"
    }
   ],
   "source": [
    "x3d__"
   ]
  },
  {
   "cell_type": "code",
   "execution_count": 113,
   "id": "3825046a",
   "metadata": {},
   "outputs": [],
   "source": [
    "y = np.linspace(0,59,60)"
   ]
  },
  {
   "cell_type": "code",
   "execution_count": 114,
   "id": "726293d3",
   "metadata": {},
   "outputs": [
    {
     "data": {
      "text/plain": [
       "array([ 0.,  1.,  2.,  3.,  4.,  5.,  6.,  7.,  8.,  9., 10., 11., 12.,\n",
       "       13., 14., 15., 16., 17., 18., 19., 20., 21., 22., 23., 24., 25.,\n",
       "       26., 27., 28., 29., 30., 31., 32., 33., 34., 35., 36., 37., 38.,\n",
       "       39., 40., 41., 42., 43., 44., 45., 46., 47., 48., 49., 50., 51.,\n",
       "       52., 53., 54., 55., 56., 57., 58., 59.])"
      ]
     },
     "execution_count": 114,
     "metadata": {},
     "output_type": "execute_result"
    }
   ],
   "source": [
    "y"
   ]
  },
  {
   "cell_type": "code",
   "execution_count": 115,
   "id": "4f70ece1",
   "metadata": {},
   "outputs": [],
   "source": [
    "y3d = y.reshape(5,3,4)"
   ]
  },
  {
   "cell_type": "code",
   "execution_count": 116,
   "id": "87f56292",
   "metadata": {},
   "outputs": [
    {
     "data": {
      "text/plain": [
       "array([[[ 0.,  1.,  2.,  3.],\n",
       "        [ 4.,  5.,  6.,  7.],\n",
       "        [ 8.,  9., 10., 11.]],\n",
       "\n",
       "       [[12., 13., 14., 15.],\n",
       "        [16., 17., 18., 19.],\n",
       "        [20., 21., 22., 23.]],\n",
       "\n",
       "       [[24., 25., 26., 27.],\n",
       "        [28., 29., 30., 31.],\n",
       "        [32., 33., 34., 35.]],\n",
       "\n",
       "       [[36., 37., 38., 39.],\n",
       "        [40., 41., 42., 43.],\n",
       "        [44., 45., 46., 47.]],\n",
       "\n",
       "       [[48., 49., 50., 51.],\n",
       "        [52., 53., 54., 55.],\n",
       "        [56., 57., 58., 59.]]])"
      ]
     },
     "execution_count": 116,
     "metadata": {},
     "output_type": "execute_result"
    }
   ],
   "source": [
    "y3d"
   ]
  },
  {
   "cell_type": "code",
   "execution_count": 117,
   "id": "003fab00",
   "metadata": {},
   "outputs": [],
   "source": [
    "y3d1 = y3d.swapaxes(0,2)"
   ]
  },
  {
   "cell_type": "code",
   "execution_count": 118,
   "id": "6f1ec16d",
   "metadata": {},
   "outputs": [
    {
     "data": {
      "text/plain": [
       "array([[[ 0., 12., 24., 36., 48.],\n",
       "        [ 4., 16., 28., 40., 52.],\n",
       "        [ 8., 20., 32., 44., 56.]],\n",
       "\n",
       "       [[ 1., 13., 25., 37., 49.],\n",
       "        [ 5., 17., 29., 41., 53.],\n",
       "        [ 9., 21., 33., 45., 57.]],\n",
       "\n",
       "       [[ 2., 14., 26., 38., 50.],\n",
       "        [ 6., 18., 30., 42., 54.],\n",
       "        [10., 22., 34., 46., 58.]],\n",
       "\n",
       "       [[ 3., 15., 27., 39., 51.],\n",
       "        [ 7., 19., 31., 43., 55.],\n",
       "        [11., 23., 35., 47., 59.]]])"
      ]
     },
     "execution_count": 118,
     "metadata": {},
     "output_type": "execute_result"
    }
   ],
   "source": [
    "y3d1"
   ]
  },
  {
   "cell_type": "code",
   "execution_count": 119,
   "id": "89fcb1df",
   "metadata": {},
   "outputs": [
    {
     "data": {
      "text/plain": [
       "(4, 3, 5)"
      ]
     },
     "execution_count": 119,
     "metadata": {},
     "output_type": "execute_result"
    }
   ],
   "source": [
    "y3d1.shape"
   ]
  },
  {
   "cell_type": "code",
   "execution_count": 120,
   "id": "e104609b",
   "metadata": {},
   "outputs": [],
   "source": [
    "y3d2 = y3d.swapaxes(1,2)"
   ]
  },
  {
   "cell_type": "code",
   "execution_count": 121,
   "id": "73697e7c",
   "metadata": {},
   "outputs": [
    {
     "data": {
      "text/plain": [
       "array([[[ 0.,  4.,  8.],\n",
       "        [ 1.,  5.,  9.],\n",
       "        [ 2.,  6., 10.],\n",
       "        [ 3.,  7., 11.]],\n",
       "\n",
       "       [[12., 16., 20.],\n",
       "        [13., 17., 21.],\n",
       "        [14., 18., 22.],\n",
       "        [15., 19., 23.]],\n",
       "\n",
       "       [[24., 28., 32.],\n",
       "        [25., 29., 33.],\n",
       "        [26., 30., 34.],\n",
       "        [27., 31., 35.]],\n",
       "\n",
       "       [[36., 40., 44.],\n",
       "        [37., 41., 45.],\n",
       "        [38., 42., 46.],\n",
       "        [39., 43., 47.]],\n",
       "\n",
       "       [[48., 52., 56.],\n",
       "        [49., 53., 57.],\n",
       "        [50., 54., 58.],\n",
       "        [51., 55., 59.]]])"
      ]
     },
     "execution_count": 121,
     "metadata": {},
     "output_type": "execute_result"
    }
   ],
   "source": [
    "y3d2"
   ]
  },
  {
   "cell_type": "markdown",
   "id": "9b3b4ec5",
   "metadata": {},
   "source": [
    "### flatten\n",
    "\n",
    "flatten will convert any dimensional array to 1-D array"
   ]
  },
  {
   "cell_type": "code",
   "execution_count": 124,
   "id": "7fb5f45e",
   "metadata": {},
   "outputs": [
    {
     "data": {
      "text/plain": [
       "array([[[ 0.,  1.,  2.,  3.],\n",
       "        [ 4.,  5.,  6.,  7.],\n",
       "        [ 8.,  9., 10., 11.]],\n",
       "\n",
       "       [[12., 13., 14., 15.],\n",
       "        [16., 17., 18., 19.],\n",
       "        [20., 21., 22., 23.]],\n",
       "\n",
       "       [[24., 25., 26., 27.],\n",
       "        [28., 29., 30., 31.],\n",
       "        [32., 33., 34., 35.]],\n",
       "\n",
       "       [[36., 37., 38., 39.],\n",
       "        [40., 41., 42., 43.],\n",
       "        [44., 45., 46., 47.]],\n",
       "\n",
       "       [[48., 49., 50., 51.],\n",
       "        [52., 53., 54., 55.],\n",
       "        [56., 57., 58., 59.]]])"
      ]
     },
     "execution_count": 124,
     "metadata": {},
     "output_type": "execute_result"
    }
   ],
   "source": [
    "y3d"
   ]
  },
  {
   "cell_type": "code",
   "execution_count": 125,
   "id": "b95d79e3",
   "metadata": {},
   "outputs": [
    {
     "data": {
      "text/plain": [
       "(5, 3, 4)"
      ]
     },
     "execution_count": 125,
     "metadata": {},
     "output_type": "execute_result"
    }
   ],
   "source": [
    "y3d.shape"
   ]
  },
  {
   "cell_type": "code",
   "execution_count": 126,
   "id": "a18f547d",
   "metadata": {},
   "outputs": [],
   "source": [
    "y_flatten = y3d.flatten()"
   ]
  },
  {
   "cell_type": "code",
   "execution_count": 127,
   "id": "4e514fca",
   "metadata": {},
   "outputs": [
    {
     "data": {
      "text/plain": [
       "array([ 0.,  1.,  2.,  3.,  4.,  5.,  6.,  7.,  8.,  9., 10., 11., 12.,\n",
       "       13., 14., 15., 16., 17., 18., 19., 20., 21., 22., 23., 24., 25.,\n",
       "       26., 27., 28., 29., 30., 31., 32., 33., 34., 35., 36., 37., 38.,\n",
       "       39., 40., 41., 42., 43., 44., 45., 46., 47., 48., 49., 50., 51.,\n",
       "       52., 53., 54., 55., 56., 57., 58., 59.])"
      ]
     },
     "execution_count": 127,
     "metadata": {},
     "output_type": "execute_result"
    }
   ],
   "source": [
    "y_flatten"
   ]
  },
  {
   "cell_type": "code",
   "execution_count": 129,
   "id": "f902f846",
   "metadata": {},
   "outputs": [
    {
     "data": {
      "text/plain": [
       "array([ 0.,  1.,  2.,  3.,  4.,  5.,  6.,  7.,  8.,  9., 10., 11., 12.,\n",
       "       13., 14., 15., 16., 17., 18., 19., 20., 21., 22., 23., 24., 25.,\n",
       "       26., 27., 28., 29., 30., 31., 32., 33., 34., 35., 36., 37., 38.,\n",
       "       39., 40., 41., 42., 43., 44., 45., 46., 47., 48., 49., 50., 51.,\n",
       "       52., 53., 54., 55., 56., 57., 58., 59.])"
      ]
     },
     "execution_count": 129,
     "metadata": {},
     "output_type": "execute_result"
    }
   ],
   "source": [
    "y"
   ]
  },
  {
   "cell_type": "code",
   "execution_count": 134,
   "id": "4193acf3",
   "metadata": {},
   "outputs": [
    {
     "data": {
      "text/plain": [
       "array([[ 0.,  1.,  2.,  3.,  4.,  5.,  6.,  7.,  8.,  9., 10., 11.],\n",
       "       [12., 13., 14., 15., 16., 17., 18., 19., 20., 21., 22., 23.],\n",
       "       [24., 25., 26., 27., 28., 29., 30., 31., 32., 33., 34., 35.],\n",
       "       [36., 37., 38., 39., 40., 41., 42., 43., 44., 45., 46., 47.],\n",
       "       [48., 49., 50., 51., 52., 53., 54., 55., 56., 57., 58., 59.]])"
      ]
     },
     "execution_count": 134,
     "metadata": {},
     "output_type": "execute_result"
    }
   ],
   "source": [
    "y.reshape(-1,12)"
   ]
  },
  {
   "cell_type": "markdown",
   "id": "b458bdc2",
   "metadata": {},
   "source": [
    "## Indexing and Slicing"
   ]
  },
  {
   "cell_type": "markdown",
   "id": "9e929850",
   "metadata": {},
   "source": [
    "In native python list"
   ]
  },
  {
   "cell_type": "code",
   "execution_count": 135,
   "id": "0b8cb3b8",
   "metadata": {},
   "outputs": [],
   "source": [
    "L = [1, 4, 5, 7, 8, 10, -3]"
   ]
  },
  {
   "cell_type": "code",
   "execution_count": 136,
   "id": "d1fd2101",
   "metadata": {},
   "outputs": [
    {
     "data": {
      "text/plain": [
       "7"
      ]
     },
     "execution_count": 136,
     "metadata": {},
     "output_type": "execute_result"
    }
   ],
   "source": [
    "L[3]"
   ]
  },
  {
   "cell_type": "code",
   "execution_count": 137,
   "id": "cbb7db64",
   "metadata": {},
   "outputs": [
    {
     "data": {
      "text/plain": [
       "[1, 4, 5, 7, 8]"
      ]
     },
     "execution_count": 137,
     "metadata": {},
     "output_type": "execute_result"
    }
   ],
   "source": [
    "L[:5]"
   ]
  },
  {
   "cell_type": "code",
   "execution_count": 138,
   "id": "577c6317",
   "metadata": {},
   "outputs": [
    {
     "data": {
      "text/plain": [
       "[8, 10, -3]"
      ]
     },
     "execution_count": 138,
     "metadata": {},
     "output_type": "execute_result"
    }
   ],
   "source": [
    "L[4:]"
   ]
  },
  {
   "cell_type": "code",
   "execution_count": 139,
   "id": "6633b616",
   "metadata": {},
   "outputs": [
    {
     "data": {
      "text/plain": [
       "[7, 8, 10, -3]"
      ]
     },
     "execution_count": 139,
     "metadata": {},
     "output_type": "execute_result"
    }
   ],
   "source": [
    "L[3:7]"
   ]
  },
  {
   "cell_type": "code",
   "execution_count": 140,
   "id": "1c0076b9",
   "metadata": {},
   "outputs": [
    {
     "data": {
      "text/plain": [
       "-3"
      ]
     },
     "execution_count": 140,
     "metadata": {},
     "output_type": "execute_result"
    }
   ],
   "source": [
    "L[-1]"
   ]
  },
  {
   "cell_type": "code",
   "execution_count": 141,
   "id": "6a95b46b",
   "metadata": {},
   "outputs": [
    {
     "data": {
      "text/plain": [
       "7"
      ]
     },
     "execution_count": 141,
     "metadata": {},
     "output_type": "execute_result"
    }
   ],
   "source": [
    "L[-4]"
   ]
  },
  {
   "cell_type": "code",
   "execution_count": 146,
   "id": "df4510fb",
   "metadata": {},
   "outputs": [
    {
     "data": {
      "text/plain": [
       "[5, 8, -3]"
      ]
     },
     "execution_count": 146,
     "metadata": {},
     "output_type": "execute_result"
    }
   ],
   "source": [
    "L[2:7:2]"
   ]
  },
  {
   "cell_type": "code",
   "execution_count": 147,
   "id": "951a1014",
   "metadata": {},
   "outputs": [
    {
     "data": {
      "text/plain": [
       "[-3, 10, 8, 7, 5, 4, 1]"
      ]
     },
     "execution_count": 147,
     "metadata": {},
     "output_type": "execute_result"
    }
   ],
   "source": [
    "L[::-1]"
   ]
  },
  {
   "cell_type": "markdown",
   "id": "2f7aee4f",
   "metadata": {},
   "source": [
    "numpy"
   ]
  },
  {
   "cell_type": "code",
   "execution_count": 142,
   "id": "b806a4ca",
   "metadata": {},
   "outputs": [],
   "source": [
    "x = np.array(L)"
   ]
  },
  {
   "cell_type": "code",
   "execution_count": 144,
   "id": "8f3291fd",
   "metadata": {},
   "outputs": [
    {
     "name": "stdout",
     "output_type": "stream",
     "text": [
      "[ 1  4  5  7  8 10 -3]\n"
     ]
    }
   ],
   "source": [
    "print(x)"
   ]
  },
  {
   "cell_type": "code",
   "execution_count": 143,
   "id": "579ac58b",
   "metadata": {},
   "outputs": [
    {
     "data": {
      "text/plain": [
       "7"
      ]
     },
     "execution_count": 143,
     "metadata": {},
     "output_type": "execute_result"
    }
   ],
   "source": [
    "x[3]"
   ]
  },
  {
   "cell_type": "code",
   "execution_count": 145,
   "id": "1f0a739e",
   "metadata": {},
   "outputs": [
    {
     "data": {
      "text/plain": [
       "array([5, 7, 8])"
      ]
     },
     "execution_count": 145,
     "metadata": {},
     "output_type": "execute_result"
    }
   ],
   "source": [
    "x[2:5]"
   ]
  },
  {
   "cell_type": "code",
   "execution_count": 148,
   "id": "98130db3",
   "metadata": {},
   "outputs": [
    {
     "data": {
      "text/plain": [
       "array([ 8, 10, -3])"
      ]
     },
     "execution_count": 148,
     "metadata": {},
     "output_type": "execute_result"
    }
   ],
   "source": [
    "x[4:]"
   ]
  },
  {
   "cell_type": "code",
   "execution_count": 149,
   "id": "066c6dc1",
   "metadata": {},
   "outputs": [
    {
     "data": {
      "text/plain": [
       "array([1, 4, 5, 7, 8])"
      ]
     },
     "execution_count": 149,
     "metadata": {},
     "output_type": "execute_result"
    }
   ],
   "source": [
    "x[:5]"
   ]
  },
  {
   "cell_type": "code",
   "execution_count": 150,
   "id": "3fd1ed46",
   "metadata": {},
   "outputs": [
    {
     "data": {
      "text/plain": [
       "array([ 4,  7, 10])"
      ]
     },
     "execution_count": 150,
     "metadata": {},
     "output_type": "execute_result"
    }
   ],
   "source": [
    "x[1:6:2]"
   ]
  },
  {
   "cell_type": "code",
   "execution_count": 151,
   "id": "41513d3a",
   "metadata": {},
   "outputs": [
    {
     "data": {
      "text/plain": [
       "-3"
      ]
     },
     "execution_count": 151,
     "metadata": {},
     "output_type": "execute_result"
    }
   ],
   "source": [
    "x[-1]"
   ]
  },
  {
   "cell_type": "code",
   "execution_count": 152,
   "id": "3c2ac561",
   "metadata": {},
   "outputs": [
    {
     "data": {
      "text/plain": [
       "8"
      ]
     },
     "execution_count": 152,
     "metadata": {},
     "output_type": "execute_result"
    }
   ],
   "source": [
    "x[-3]"
   ]
  },
  {
   "cell_type": "code",
   "execution_count": 153,
   "id": "f831ad7b",
   "metadata": {},
   "outputs": [
    {
     "data": {
      "text/plain": [
       "array([-3, 10,  8,  7,  5,  4,  1])"
      ]
     },
     "execution_count": 153,
     "metadata": {},
     "output_type": "execute_result"
    }
   ],
   "source": [
    "x[::-1]"
   ]
  },
  {
   "cell_type": "code",
   "execution_count": 170,
   "id": "1f895690",
   "metadata": {},
   "outputs": [
    {
     "data": {
      "text/plain": [
       "array([ 1,  4,  5,  7,  8, 10, -3])"
      ]
     },
     "execution_count": 170,
     "metadata": {},
     "output_type": "execute_result"
    }
   ],
   "source": [
    "x[:]"
   ]
  },
  {
   "cell_type": "markdown",
   "id": "e36ef814",
   "metadata": {},
   "source": [
    "list of list"
   ]
  },
  {
   "cell_type": "code",
   "execution_count": 158,
   "id": "33856b55",
   "metadata": {},
   "outputs": [],
   "source": [
    "L2 = [[1,3,5],[6,8,9,7],[10,12]]"
   ]
  },
  {
   "cell_type": "code",
   "execution_count": 159,
   "id": "a545825e",
   "metadata": {},
   "outputs": [
    {
     "data": {
      "text/plain": [
       "[[1, 3, 5], [6, 8, 9, 7], [10, 12]]"
      ]
     },
     "execution_count": 159,
     "metadata": {},
     "output_type": "execute_result"
    }
   ],
   "source": [
    "L2"
   ]
  },
  {
   "cell_type": "code",
   "execution_count": 160,
   "id": "4f35712b",
   "metadata": {},
   "outputs": [
    {
     "data": {
      "text/plain": [
       "8"
      ]
     },
     "execution_count": 160,
     "metadata": {},
     "output_type": "execute_result"
    }
   ],
   "source": [
    "L2[1][1]"
   ]
  },
  {
   "cell_type": "markdown",
   "id": "0f306939",
   "metadata": {},
   "source": [
    "numpy"
   ]
  },
  {
   "cell_type": "code",
   "execution_count": 162,
   "id": "dd4d3884",
   "metadata": {},
   "outputs": [],
   "source": [
    "y = np.array([[1,2,3],[4,5,6],[7,8,9],[10,11,12]])"
   ]
  },
  {
   "cell_type": "code",
   "execution_count": 163,
   "id": "2ed6e5f9",
   "metadata": {},
   "outputs": [
    {
     "data": {
      "text/plain": [
       "array([[ 1,  2,  3],\n",
       "       [ 4,  5,  6],\n",
       "       [ 7,  8,  9],\n",
       "       [10, 11, 12]])"
      ]
     },
     "execution_count": 163,
     "metadata": {},
     "output_type": "execute_result"
    }
   ],
   "source": [
    "y"
   ]
  },
  {
   "cell_type": "code",
   "execution_count": 164,
   "id": "fb73a923",
   "metadata": {},
   "outputs": [
    {
     "data": {
      "text/plain": [
       "(4, 3)"
      ]
     },
     "execution_count": 164,
     "metadata": {},
     "output_type": "execute_result"
    }
   ],
   "source": [
    "y.shape"
   ]
  },
  {
   "cell_type": "code",
   "execution_count": 167,
   "id": "e8d3d95f",
   "metadata": {},
   "outputs": [
    {
     "data": {
      "text/plain": [
       "8"
      ]
     },
     "execution_count": 167,
     "metadata": {},
     "output_type": "execute_result"
    }
   ],
   "source": [
    "y[2,1]"
   ]
  },
  {
   "cell_type": "code",
   "execution_count": 169,
   "id": "aee2831b",
   "metadata": {},
   "outputs": [
    {
     "data": {
      "text/plain": [
       "8"
      ]
     },
     "execution_count": 169,
     "metadata": {},
     "output_type": "execute_result"
    }
   ],
   "source": [
    "y[2][1]"
   ]
  },
  {
   "cell_type": "code",
   "execution_count": 172,
   "id": "414ce01f",
   "metadata": {},
   "outputs": [
    {
     "data": {
      "text/plain": [
       "array([ 3,  6,  9, 12])"
      ]
     },
     "execution_count": 172,
     "metadata": {},
     "output_type": "execute_result"
    }
   ],
   "source": [
    "y[:,2] # -> y[0,2], y[1,2], y[2,2], y[3,2]"
   ]
  },
  {
   "cell_type": "code",
   "execution_count": 173,
   "id": "5c9dc5e7",
   "metadata": {},
   "outputs": [
    {
     "data": {
      "text/plain": [
       "array([1, 2, 3])"
      ]
     },
     "execution_count": 173,
     "metadata": {},
     "output_type": "execute_result"
    }
   ],
   "source": [
    "y[0,:]"
   ]
  },
  {
   "cell_type": "code",
   "execution_count": 174,
   "id": "766add66",
   "metadata": {},
   "outputs": [
    {
     "data": {
      "text/plain": [
       "12"
      ]
     },
     "execution_count": 174,
     "metadata": {},
     "output_type": "execute_result"
    }
   ],
   "source": [
    "y[-1,-1]"
   ]
  },
  {
   "cell_type": "code",
   "execution_count": 175,
   "id": "d586d124",
   "metadata": {},
   "outputs": [
    {
     "name": "stdout",
     "output_type": "stream",
     "text": [
      "[[ 1  2  3]\n",
      " [ 4  5  6]\n",
      " [ 7  8  9]\n",
      " [10 11 12]]\n"
     ]
    }
   ],
   "source": [
    "print(y)"
   ]
  },
  {
   "cell_type": "code",
   "execution_count": 176,
   "id": "c853c18d",
   "metadata": {},
   "outputs": [
    {
     "data": {
      "text/plain": [
       "array([6, 9])"
      ]
     },
     "execution_count": 176,
     "metadata": {},
     "output_type": "execute_result"
    }
   ],
   "source": [
    "y[1:3,2]"
   ]
  },
  {
   "cell_type": "code",
   "execution_count": 178,
   "id": "f3c5fa31",
   "metadata": {},
   "outputs": [
    {
     "data": {
      "text/plain": [
       "array([[1, 2],\n",
       "       [4, 5],\n",
       "       [7, 8]])"
      ]
     },
     "execution_count": 178,
     "metadata": {},
     "output_type": "execute_result"
    }
   ],
   "source": [
    "y[:3,:2]"
   ]
  },
  {
   "cell_type": "markdown",
   "id": "1ddd7479",
   "metadata": {},
   "source": [
    "### Boolean indexing"
   ]
  },
  {
   "cell_type": "code",
   "execution_count": 181,
   "id": "35363717",
   "metadata": {},
   "outputs": [],
   "source": [
    "X = np.arange(1,11,1)"
   ]
  },
  {
   "cell_type": "code",
   "execution_count": 182,
   "id": "4d61e410",
   "metadata": {},
   "outputs": [
    {
     "data": {
      "text/plain": [
       "array([ 1,  2,  3,  4,  5,  6,  7,  8,  9, 10])"
      ]
     },
     "execution_count": 182,
     "metadata": {},
     "output_type": "execute_result"
    }
   ],
   "source": [
    "X"
   ]
  },
  {
   "cell_type": "code",
   "execution_count": 183,
   "id": "01c6c06b",
   "metadata": {},
   "outputs": [],
   "source": [
    "index = np.array([1, 0, 1, 1, 0, 0, 1, 1, 1, 0], dtype=bool)"
   ]
  },
  {
   "cell_type": "code",
   "execution_count": 184,
   "id": "09185285",
   "metadata": {},
   "outputs": [
    {
     "data": {
      "text/plain": [
       "array([ True, False,  True,  True, False, False,  True,  True,  True,\n",
       "       False])"
      ]
     },
     "execution_count": 184,
     "metadata": {},
     "output_type": "execute_result"
    }
   ],
   "source": [
    "index"
   ]
  },
  {
   "cell_type": "code",
   "execution_count": 185,
   "id": "c082c7a8",
   "metadata": {},
   "outputs": [
    {
     "data": {
      "text/plain": [
       "True"
      ]
     },
     "execution_count": 185,
     "metadata": {},
     "output_type": "execute_result"
    }
   ],
   "source": [
    "X.shape == index.shape"
   ]
  },
  {
   "cell_type": "code",
   "execution_count": 186,
   "id": "3ee43273",
   "metadata": {},
   "outputs": [
    {
     "data": {
      "text/plain": [
       "array([1, 3, 4, 7, 8, 9])"
      ]
     },
     "execution_count": 186,
     "metadata": {},
     "output_type": "execute_result"
    }
   ],
   "source": [
    "X[index]"
   ]
  },
  {
   "cell_type": "code",
   "execution_count": 188,
   "id": "844aba2a",
   "metadata": {},
   "outputs": [
    {
     "data": {
      "text/plain": [
       "array([1, 2, 3, 4])"
      ]
     },
     "execution_count": 188,
     "metadata": {},
     "output_type": "execute_result"
    }
   ],
   "source": [
    "X[X < 5]"
   ]
  },
  {
   "cell_type": "code",
   "execution_count": 191,
   "id": "b493ec49",
   "metadata": {},
   "outputs": [],
   "source": [
    "Z = np.array([2, 1, -3, 6, 9, 10, 23, 24, 11, -12, 3.5, 7.8, 29.33, -45.3])"
   ]
  },
  {
   "cell_type": "code",
   "execution_count": 192,
   "id": "02b133b3",
   "metadata": {},
   "outputs": [
    {
     "data": {
      "text/plain": [
       "array([23.  , 24.  , 11.  , 29.33])"
      ]
     },
     "execution_count": 192,
     "metadata": {},
     "output_type": "execute_result"
    }
   ],
   "source": [
    "Z[Z > 10]"
   ]
  },
  {
   "cell_type": "code",
   "execution_count": 194,
   "id": "870236a2",
   "metadata": {},
   "outputs": [
    {
     "data": {
      "text/plain": [
       "array([ 6. ,  9. , 10. , 11. ,  7.8])"
      ]
     },
     "execution_count": 194,
     "metadata": {},
     "output_type": "execute_result"
    }
   ],
   "source": [
    "Z[(Z > 5) & (Z < 15)]"
   ]
  },
  {
   "cell_type": "code",
   "execution_count": 196,
   "id": "cfcf5530",
   "metadata": {},
   "outputs": [
    {
     "data": {
      "text/plain": [
       "array([  2.  ,   1.  ,  -3.  ,  23.  ,  24.  ,  11.  , -12.  ,   3.5 ,\n",
       "        29.33, -45.3 ])"
      ]
     },
     "execution_count": 196,
     "metadata": {},
     "output_type": "execute_result"
    }
   ],
   "source": [
    "Z[(Z < 5) | (Z > 10)]"
   ]
  },
  {
   "cell_type": "markdown",
   "id": "0e4420af",
   "metadata": {},
   "source": [
    "`&` is called bitwise and operator\n",
    "`|` is called bitwise or operator"
   ]
  },
  {
   "cell_type": "code",
   "execution_count": 201,
   "id": "6599f4e6",
   "metadata": {},
   "outputs": [],
   "source": [
    "a = np.array([False, True])\n",
    "b = np.array([True, True])"
   ]
  },
  {
   "cell_type": "code",
   "execution_count": 202,
   "id": "28d516c4",
   "metadata": {},
   "outputs": [
    {
     "data": {
      "text/plain": [
       "array([False,  True])"
      ]
     },
     "execution_count": 202,
     "metadata": {},
     "output_type": "execute_result"
    }
   ],
   "source": [
    "a & b"
   ]
  },
  {
   "cell_type": "code",
   "execution_count": 203,
   "id": "b814da11",
   "metadata": {},
   "outputs": [
    {
     "data": {
      "text/plain": [
       "array([ True,  True])"
      ]
     },
     "execution_count": 203,
     "metadata": {},
     "output_type": "execute_result"
    }
   ],
   "source": [
    "a | b"
   ]
  },
  {
   "cell_type": "code",
   "execution_count": null,
   "id": "b7117a8a",
   "metadata": {},
   "outputs": [],
   "source": []
  }
 ],
 "metadata": {
  "kernelspec": {
   "display_name": "Python 3 (ipykernel)",
   "language": "python",
   "name": "python3"
  },
  "language_info": {
   "codemirror_mode": {
    "name": "ipython",
    "version": 3
   },
   "file_extension": ".py",
   "mimetype": "text/x-python",
   "name": "python",
   "nbconvert_exporter": "python",
   "pygments_lexer": "ipython3",
   "version": "3.9.7"
  },
  "toc": {
   "base_numbering": 1,
   "nav_menu": {},
   "number_sections": true,
   "sideBar": true,
   "skip_h1_title": true,
   "title_cell": "Table of Contents",
   "title_sidebar": "Contents",
   "toc_cell": false,
   "toc_position": {},
   "toc_section_display": true,
   "toc_window_display": true
  }
 },
 "nbformat": 4,
 "nbformat_minor": 5
}
