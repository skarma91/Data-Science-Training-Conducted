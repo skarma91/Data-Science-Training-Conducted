{
 "cells": [
  {
   "cell_type": "markdown",
   "id": "86b20ffd",
   "metadata": {},
   "source": [
    "# MNIST digits data set classification using ANN"
   ]
  },
  {
   "cell_type": "markdown",
   "id": "d1c3407c",
   "metadata": {},
   "source": [
    "## Get the data"
   ]
  },
  {
   "cell_type": "markdown",
   "id": "5a4093c8",
   "metadata": {},
   "source": [
    "The dataset for MNIST can be downloaded from the [kaggle link](https://www.kaggle.com/datasets/oddrationale/mnist-in-csv?select=mnist_train.csv).\n",
    "\n",
    "Download both _mnist_train.csv_ and _mnist_test.csv_ files in zip format. Unzip them and store them in a folder."
   ]
  },
  {
   "cell_type": "code",
   "execution_count": 1,
   "id": "89201f5d",
   "metadata": {
    "ExecuteTime": {
     "end_time": "2022-10-30T07:04:01.961819Z",
     "start_time": "2022-10-30T07:04:00.880519Z"
    }
   },
   "outputs": [],
   "source": [
    "import pandas as pd\n",
    "import numpy as np\n",
    "import matplotlib.pyplot as plt"
   ]
  },
  {
   "cell_type": "code",
   "execution_count": 2,
   "id": "e62f2aa8",
   "metadata": {
    "ExecuteTime": {
     "end_time": "2022-10-30T07:04:05.661378Z",
     "start_time": "2022-10-30T07:04:01.962733Z"
    }
   },
   "outputs": [],
   "source": [
    "train_data = pd.read_csv(\"./MNIST_data/mnist_train.csv\")\n",
    "test_data = pd.read_csv(\"./MNIST_data/mnist_test.csv\")"
   ]
  },
  {
   "cell_type": "code",
   "execution_count": 3,
   "id": "740bac80",
   "metadata": {
    "ExecuteTime": {
     "end_time": "2022-10-30T07:04:05.692406Z",
     "start_time": "2022-10-30T07:04:05.663342Z"
    }
   },
   "outputs": [
    {
     "data": {
      "text/html": [
       "<div>\n",
       "<style scoped>\n",
       "    .dataframe tbody tr th:only-of-type {\n",
       "        vertical-align: middle;\n",
       "    }\n",
       "\n",
       "    .dataframe tbody tr th {\n",
       "        vertical-align: top;\n",
       "    }\n",
       "\n",
       "    .dataframe thead th {\n",
       "        text-align: right;\n",
       "    }\n",
       "</style>\n",
       "<table border=\"1\" class=\"dataframe\">\n",
       "  <thead>\n",
       "    <tr style=\"text-align: right;\">\n",
       "      <th></th>\n",
       "      <th>label</th>\n",
       "      <th>1x1</th>\n",
       "      <th>1x2</th>\n",
       "      <th>1x3</th>\n",
       "      <th>1x4</th>\n",
       "      <th>1x5</th>\n",
       "      <th>1x6</th>\n",
       "      <th>1x7</th>\n",
       "      <th>1x8</th>\n",
       "      <th>1x9</th>\n",
       "      <th>...</th>\n",
       "      <th>28x19</th>\n",
       "      <th>28x20</th>\n",
       "      <th>28x21</th>\n",
       "      <th>28x22</th>\n",
       "      <th>28x23</th>\n",
       "      <th>28x24</th>\n",
       "      <th>28x25</th>\n",
       "      <th>28x26</th>\n",
       "      <th>28x27</th>\n",
       "      <th>28x28</th>\n",
       "    </tr>\n",
       "  </thead>\n",
       "  <tbody>\n",
       "    <tr>\n",
       "      <th>0</th>\n",
       "      <td>5</td>\n",
       "      <td>0</td>\n",
       "      <td>0</td>\n",
       "      <td>0</td>\n",
       "      <td>0</td>\n",
       "      <td>0</td>\n",
       "      <td>0</td>\n",
       "      <td>0</td>\n",
       "      <td>0</td>\n",
       "      <td>0</td>\n",
       "      <td>...</td>\n",
       "      <td>0</td>\n",
       "      <td>0</td>\n",
       "      <td>0</td>\n",
       "      <td>0</td>\n",
       "      <td>0</td>\n",
       "      <td>0</td>\n",
       "      <td>0</td>\n",
       "      <td>0</td>\n",
       "      <td>0</td>\n",
       "      <td>0</td>\n",
       "    </tr>\n",
       "    <tr>\n",
       "      <th>1</th>\n",
       "      <td>0</td>\n",
       "      <td>0</td>\n",
       "      <td>0</td>\n",
       "      <td>0</td>\n",
       "      <td>0</td>\n",
       "      <td>0</td>\n",
       "      <td>0</td>\n",
       "      <td>0</td>\n",
       "      <td>0</td>\n",
       "      <td>0</td>\n",
       "      <td>...</td>\n",
       "      <td>0</td>\n",
       "      <td>0</td>\n",
       "      <td>0</td>\n",
       "      <td>0</td>\n",
       "      <td>0</td>\n",
       "      <td>0</td>\n",
       "      <td>0</td>\n",
       "      <td>0</td>\n",
       "      <td>0</td>\n",
       "      <td>0</td>\n",
       "    </tr>\n",
       "    <tr>\n",
       "      <th>2</th>\n",
       "      <td>4</td>\n",
       "      <td>0</td>\n",
       "      <td>0</td>\n",
       "      <td>0</td>\n",
       "      <td>0</td>\n",
       "      <td>0</td>\n",
       "      <td>0</td>\n",
       "      <td>0</td>\n",
       "      <td>0</td>\n",
       "      <td>0</td>\n",
       "      <td>...</td>\n",
       "      <td>0</td>\n",
       "      <td>0</td>\n",
       "      <td>0</td>\n",
       "      <td>0</td>\n",
       "      <td>0</td>\n",
       "      <td>0</td>\n",
       "      <td>0</td>\n",
       "      <td>0</td>\n",
       "      <td>0</td>\n",
       "      <td>0</td>\n",
       "    </tr>\n",
       "    <tr>\n",
       "      <th>3</th>\n",
       "      <td>1</td>\n",
       "      <td>0</td>\n",
       "      <td>0</td>\n",
       "      <td>0</td>\n",
       "      <td>0</td>\n",
       "      <td>0</td>\n",
       "      <td>0</td>\n",
       "      <td>0</td>\n",
       "      <td>0</td>\n",
       "      <td>0</td>\n",
       "      <td>...</td>\n",
       "      <td>0</td>\n",
       "      <td>0</td>\n",
       "      <td>0</td>\n",
       "      <td>0</td>\n",
       "      <td>0</td>\n",
       "      <td>0</td>\n",
       "      <td>0</td>\n",
       "      <td>0</td>\n",
       "      <td>0</td>\n",
       "      <td>0</td>\n",
       "    </tr>\n",
       "    <tr>\n",
       "      <th>4</th>\n",
       "      <td>9</td>\n",
       "      <td>0</td>\n",
       "      <td>0</td>\n",
       "      <td>0</td>\n",
       "      <td>0</td>\n",
       "      <td>0</td>\n",
       "      <td>0</td>\n",
       "      <td>0</td>\n",
       "      <td>0</td>\n",
       "      <td>0</td>\n",
       "      <td>...</td>\n",
       "      <td>0</td>\n",
       "      <td>0</td>\n",
       "      <td>0</td>\n",
       "      <td>0</td>\n",
       "      <td>0</td>\n",
       "      <td>0</td>\n",
       "      <td>0</td>\n",
       "      <td>0</td>\n",
       "      <td>0</td>\n",
       "      <td>0</td>\n",
       "    </tr>\n",
       "  </tbody>\n",
       "</table>\n",
       "<p>5 rows × 785 columns</p>\n",
       "</div>"
      ],
      "text/plain": [
       "   label  1x1  1x2  1x3  1x4  1x5  1x6  1x7  1x8  1x9  ...  28x19  28x20  \\\n",
       "0      5    0    0    0    0    0    0    0    0    0  ...      0      0   \n",
       "1      0    0    0    0    0    0    0    0    0    0  ...      0      0   \n",
       "2      4    0    0    0    0    0    0    0    0    0  ...      0      0   \n",
       "3      1    0    0    0    0    0    0    0    0    0  ...      0      0   \n",
       "4      9    0    0    0    0    0    0    0    0    0  ...      0      0   \n",
       "\n",
       "   28x21  28x22  28x23  28x24  28x25  28x26  28x27  28x28  \n",
       "0      0      0      0      0      0      0      0      0  \n",
       "1      0      0      0      0      0      0      0      0  \n",
       "2      0      0      0      0      0      0      0      0  \n",
       "3      0      0      0      0      0      0      0      0  \n",
       "4      0      0      0      0      0      0      0      0  \n",
       "\n",
       "[5 rows x 785 columns]"
      ]
     },
     "execution_count": 3,
     "metadata": {},
     "output_type": "execute_result"
    }
   ],
   "source": [
    "train_data.head()"
   ]
  },
  {
   "cell_type": "code",
   "execution_count": 4,
   "id": "387291ad",
   "metadata": {
    "ExecuteTime": {
     "end_time": "2022-10-30T07:04:05.724536Z",
     "start_time": "2022-10-30T07:04:05.694405Z"
    }
   },
   "outputs": [
    {
     "data": {
      "text/html": [
       "<div>\n",
       "<style scoped>\n",
       "    .dataframe tbody tr th:only-of-type {\n",
       "        vertical-align: middle;\n",
       "    }\n",
       "\n",
       "    .dataframe tbody tr th {\n",
       "        vertical-align: top;\n",
       "    }\n",
       "\n",
       "    .dataframe thead th {\n",
       "        text-align: right;\n",
       "    }\n",
       "</style>\n",
       "<table border=\"1\" class=\"dataframe\">\n",
       "  <thead>\n",
       "    <tr style=\"text-align: right;\">\n",
       "      <th></th>\n",
       "      <th>label</th>\n",
       "      <th>1x1</th>\n",
       "      <th>1x2</th>\n",
       "      <th>1x3</th>\n",
       "      <th>1x4</th>\n",
       "      <th>1x5</th>\n",
       "      <th>1x6</th>\n",
       "      <th>1x7</th>\n",
       "      <th>1x8</th>\n",
       "      <th>1x9</th>\n",
       "      <th>...</th>\n",
       "      <th>28x19</th>\n",
       "      <th>28x20</th>\n",
       "      <th>28x21</th>\n",
       "      <th>28x22</th>\n",
       "      <th>28x23</th>\n",
       "      <th>28x24</th>\n",
       "      <th>28x25</th>\n",
       "      <th>28x26</th>\n",
       "      <th>28x27</th>\n",
       "      <th>28x28</th>\n",
       "    </tr>\n",
       "  </thead>\n",
       "  <tbody>\n",
       "    <tr>\n",
       "      <th>0</th>\n",
       "      <td>7</td>\n",
       "      <td>0</td>\n",
       "      <td>0</td>\n",
       "      <td>0</td>\n",
       "      <td>0</td>\n",
       "      <td>0</td>\n",
       "      <td>0</td>\n",
       "      <td>0</td>\n",
       "      <td>0</td>\n",
       "      <td>0</td>\n",
       "      <td>...</td>\n",
       "      <td>0</td>\n",
       "      <td>0</td>\n",
       "      <td>0</td>\n",
       "      <td>0</td>\n",
       "      <td>0</td>\n",
       "      <td>0</td>\n",
       "      <td>0</td>\n",
       "      <td>0</td>\n",
       "      <td>0</td>\n",
       "      <td>0</td>\n",
       "    </tr>\n",
       "    <tr>\n",
       "      <th>1</th>\n",
       "      <td>2</td>\n",
       "      <td>0</td>\n",
       "      <td>0</td>\n",
       "      <td>0</td>\n",
       "      <td>0</td>\n",
       "      <td>0</td>\n",
       "      <td>0</td>\n",
       "      <td>0</td>\n",
       "      <td>0</td>\n",
       "      <td>0</td>\n",
       "      <td>...</td>\n",
       "      <td>0</td>\n",
       "      <td>0</td>\n",
       "      <td>0</td>\n",
       "      <td>0</td>\n",
       "      <td>0</td>\n",
       "      <td>0</td>\n",
       "      <td>0</td>\n",
       "      <td>0</td>\n",
       "      <td>0</td>\n",
       "      <td>0</td>\n",
       "    </tr>\n",
       "    <tr>\n",
       "      <th>2</th>\n",
       "      <td>1</td>\n",
       "      <td>0</td>\n",
       "      <td>0</td>\n",
       "      <td>0</td>\n",
       "      <td>0</td>\n",
       "      <td>0</td>\n",
       "      <td>0</td>\n",
       "      <td>0</td>\n",
       "      <td>0</td>\n",
       "      <td>0</td>\n",
       "      <td>...</td>\n",
       "      <td>0</td>\n",
       "      <td>0</td>\n",
       "      <td>0</td>\n",
       "      <td>0</td>\n",
       "      <td>0</td>\n",
       "      <td>0</td>\n",
       "      <td>0</td>\n",
       "      <td>0</td>\n",
       "      <td>0</td>\n",
       "      <td>0</td>\n",
       "    </tr>\n",
       "    <tr>\n",
       "      <th>3</th>\n",
       "      <td>0</td>\n",
       "      <td>0</td>\n",
       "      <td>0</td>\n",
       "      <td>0</td>\n",
       "      <td>0</td>\n",
       "      <td>0</td>\n",
       "      <td>0</td>\n",
       "      <td>0</td>\n",
       "      <td>0</td>\n",
       "      <td>0</td>\n",
       "      <td>...</td>\n",
       "      <td>0</td>\n",
       "      <td>0</td>\n",
       "      <td>0</td>\n",
       "      <td>0</td>\n",
       "      <td>0</td>\n",
       "      <td>0</td>\n",
       "      <td>0</td>\n",
       "      <td>0</td>\n",
       "      <td>0</td>\n",
       "      <td>0</td>\n",
       "    </tr>\n",
       "    <tr>\n",
       "      <th>4</th>\n",
       "      <td>4</td>\n",
       "      <td>0</td>\n",
       "      <td>0</td>\n",
       "      <td>0</td>\n",
       "      <td>0</td>\n",
       "      <td>0</td>\n",
       "      <td>0</td>\n",
       "      <td>0</td>\n",
       "      <td>0</td>\n",
       "      <td>0</td>\n",
       "      <td>...</td>\n",
       "      <td>0</td>\n",
       "      <td>0</td>\n",
       "      <td>0</td>\n",
       "      <td>0</td>\n",
       "      <td>0</td>\n",
       "      <td>0</td>\n",
       "      <td>0</td>\n",
       "      <td>0</td>\n",
       "      <td>0</td>\n",
       "      <td>0</td>\n",
       "    </tr>\n",
       "  </tbody>\n",
       "</table>\n",
       "<p>5 rows × 785 columns</p>\n",
       "</div>"
      ],
      "text/plain": [
       "   label  1x1  1x2  1x3  1x4  1x5  1x6  1x7  1x8  1x9  ...  28x19  28x20  \\\n",
       "0      7    0    0    0    0    0    0    0    0    0  ...      0      0   \n",
       "1      2    0    0    0    0    0    0    0    0    0  ...      0      0   \n",
       "2      1    0    0    0    0    0    0    0    0    0  ...      0      0   \n",
       "3      0    0    0    0    0    0    0    0    0    0  ...      0      0   \n",
       "4      4    0    0    0    0    0    0    0    0    0  ...      0      0   \n",
       "\n",
       "   28x21  28x22  28x23  28x24  28x25  28x26  28x27  28x28  \n",
       "0      0      0      0      0      0      0      0      0  \n",
       "1      0      0      0      0      0      0      0      0  \n",
       "2      0      0      0      0      0      0      0      0  \n",
       "3      0      0      0      0      0      0      0      0  \n",
       "4      0      0      0      0      0      0      0      0  \n",
       "\n",
       "[5 rows x 785 columns]"
      ]
     },
     "execution_count": 4,
     "metadata": {},
     "output_type": "execute_result"
    }
   ],
   "source": [
    "test_data.head()"
   ]
  },
  {
   "cell_type": "code",
   "execution_count": 5,
   "id": "b4f7e692",
   "metadata": {
    "ExecuteTime": {
     "end_time": "2022-10-30T07:04:05.739583Z",
     "start_time": "2022-10-30T07:04:05.727509Z"
    }
   },
   "outputs": [
    {
     "data": {
      "text/plain": [
       "(60000, 785)"
      ]
     },
     "execution_count": 5,
     "metadata": {},
     "output_type": "execute_result"
    }
   ],
   "source": [
    "train_data.shape"
   ]
  },
  {
   "cell_type": "code",
   "execution_count": 6,
   "id": "a0dae7b6",
   "metadata": {
    "ExecuteTime": {
     "end_time": "2022-10-30T07:04:05.770677Z",
     "start_time": "2022-10-30T07:04:05.748524Z"
    }
   },
   "outputs": [
    {
     "data": {
      "text/plain": [
       "(10000, 785)"
      ]
     },
     "execution_count": 6,
     "metadata": {},
     "output_type": "execute_result"
    }
   ],
   "source": [
    "test_data.shape"
   ]
  },
  {
   "cell_type": "markdown",
   "id": "a5922d7d",
   "metadata": {},
   "source": [
    "The data is already flattened. i.e. each image is now a flat array of 784 values. In order to visualize the images we need to convert the into $28\\times28$ matrix"
   ]
  },
  {
   "cell_type": "markdown",
   "id": "1a92a4c6",
   "metadata": {},
   "source": [
    "## Visualize the data"
   ]
  },
  {
   "cell_type": "code",
   "execution_count": 7,
   "id": "58edce61",
   "metadata": {
    "ExecuteTime": {
     "end_time": "2022-10-30T07:04:06.018375Z",
     "start_time": "2022-10-30T07:04:05.772644Z"
    }
   },
   "outputs": [
    {
     "data": {
      "image/png": "[encoded data removed]",
      "text/plain": [
       "<Figure size 432x432 with 1 Axes>"
      ]
     },
     "metadata": {
      "needs_background": "light"
     },
     "output_type": "display_data"
    }
   ],
   "source": [
    "image_no = 2434\n",
    "\n",
    "plt.figure(figsize=(6,6))\n",
    "plt.imshow(train_data.iloc[image_no, 1:].values.reshape(28,28), cmap='gray')\n",
    "plt.title(\"Label: \"+str(train_data.iloc[image_no, 0]), fontsize=14)\n",
    "plt.show()"
   ]
  },
  {
   "cell_type": "markdown",
   "id": "097a4112",
   "metadata": {},
   "source": [
    "## Data Preprocessing"
   ]
  },
  {
   "cell_type": "markdown",
   "id": "15dc85ea",
   "metadata": {},
   "source": [
    "### Target and the features"
   ]
  },
  {
   "cell_type": "code",
   "execution_count": 8,
   "id": "f9d71ea0",
   "metadata": {
    "ExecuteTime": {
     "end_time": "2022-10-30T07:04:06.982217Z",
     "start_time": "2022-10-30T07:04:06.967066Z"
    }
   },
   "outputs": [],
   "source": [
    "y_train = train_data.loc[:, 'label'].values"
   ]
  },
  {
   "cell_type": "code",
   "execution_count": 9,
   "id": "90269674",
   "metadata": {
    "ExecuteTime": {
     "end_time": "2022-10-30T07:04:08.144756Z",
     "start_time": "2022-10-30T07:04:08.131478Z"
    }
   },
   "outputs": [],
   "source": [
    "X_train = train_data.iloc[:, 1:].values"
   ]
  },
  {
   "cell_type": "code",
   "execution_count": 10,
   "id": "ffcea19e",
   "metadata": {
    "ExecuteTime": {
     "end_time": "2022-10-30T07:04:08.920395Z",
     "start_time": "2022-10-30T07:04:08.911384Z"
    }
   },
   "outputs": [
    {
     "data": {
      "text/plain": [
       "((60000,), (60000, 784))"
      ]
     },
     "execution_count": 10,
     "metadata": {},
     "output_type": "execute_result"
    }
   ],
   "source": [
    "y_train.shape, X_train.shape"
   ]
  },
  {
   "cell_type": "markdown",
   "id": "6527ad0f",
   "metadata": {},
   "source": [
    "### Scalling the features"
   ]
  },
  {
   "cell_type": "code",
   "execution_count": 11,
   "id": "71162b70",
   "metadata": {
    "ExecuteTime": {
     "end_time": "2022-10-30T07:04:12.706395Z",
     "start_time": "2022-10-30T07:04:12.403164Z"
    }
   },
   "outputs": [],
   "source": [
    "X_train = X_train.astype('float')/255.0"
   ]
  },
  {
   "cell_type": "code",
   "execution_count": 12,
   "id": "c2494f91",
   "metadata": {
    "ExecuteTime": {
     "end_time": "2022-10-30T07:04:14.197604Z",
     "start_time": "2022-10-30T07:04:14.119011Z"
    }
   },
   "outputs": [
    {
     "data": {
      "text/plain": [
       "1.0"
      ]
     },
     "execution_count": 12,
     "metadata": {},
     "output_type": "execute_result"
    }
   ],
   "source": [
    "X_train.max()"
   ]
  },
  {
   "cell_type": "code",
   "execution_count": 13,
   "id": "13cc5893",
   "metadata": {
    "ExecuteTime": {
     "end_time": "2022-10-30T07:04:15.076226Z",
     "start_time": "2022-10-30T07:04:14.904380Z"
    }
   },
   "outputs": [
    {
     "data": {
      "text/plain": [
       "<matplotlib.image.AxesImage at 0x2847d1014f0>"
      ]
     },
     "execution_count": 13,
     "metadata": {},
     "output_type": "execute_result"
    },
    {
     "data": {
      "image/png": "[encoded data removed]",
      "text/plain": [
       "<Figure size 432x288 with 1 Axes>"
      ]
     },
     "metadata": {
      "needs_background": "light"
     },
     "output_type": "display_data"
    }
   ],
   "source": [
    "plt.imshow(X_train[34,:].reshape(28,28), cmap='gray')"
   ]
  },
  {
   "cell_type": "markdown",
   "id": "2834f7d7",
   "metadata": {},
   "source": [
    "### One hot encoding the labels"
   ]
  },
  {
   "cell_type": "code",
   "execution_count": 14,
   "id": "321be75c",
   "metadata": {
    "ExecuteTime": {
     "end_time": "2022-10-30T07:04:21.299517Z",
     "start_time": "2022-10-30T07:04:18.214569Z"
    }
   },
   "outputs": [],
   "source": [
    "from keras.utils import np_utils"
   ]
  },
  {
   "cell_type": "code",
   "execution_count": 16,
   "id": "f3921035",
   "metadata": {
    "ExecuteTime": {
     "end_time": "2022-10-30T07:04:29.291428Z",
     "start_time": "2022-10-30T07:04:29.273950Z"
    }
   },
   "outputs": [],
   "source": [
    "y_train = np_utils.to_categorical(y_train)"
   ]
  },
  {
   "cell_type": "code",
   "execution_count": 17,
   "id": "9e4f8ec4",
   "metadata": {
    "ExecuteTime": {
     "end_time": "2022-10-30T07:04:32.858939Z",
     "start_time": "2022-10-30T07:04:32.851955Z"
    }
   },
   "outputs": [
    {
     "data": {
      "text/plain": [
       "(60000, 10)"
      ]
     },
     "execution_count": 17,
     "metadata": {},
     "output_type": "execute_result"
    }
   ],
   "source": [
    "y_train.shape"
   ]
  },
  {
   "cell_type": "markdown",
   "id": "b46774ea",
   "metadata": {},
   "source": [
    "## Building the MLP ANN"
   ]
  },
  {
   "cell_type": "code",
   "execution_count": 18,
   "id": "7716938c",
   "metadata": {
    "ExecuteTime": {
     "end_time": "2022-10-30T07:04:35.975588Z",
     "start_time": "2022-10-30T07:04:35.967752Z"
    }
   },
   "outputs": [],
   "source": [
    "import tensorflow as tf"
   ]
  },
  {
   "cell_type": "code",
   "execution_count": 19,
   "id": "7e5900e7",
   "metadata": {
    "ExecuteTime": {
     "end_time": "2022-10-30T07:04:37.055243Z",
     "start_time": "2022-10-30T07:04:36.637728Z"
    }
   },
   "outputs": [],
   "source": [
    "inp = tf.keras.Input(X_train[0].shape)\n",
    "h1 = tf.keras.layers.Dense(units=X_train.shape[1], activation='relu')(inp)\n",
    "op = tf.keras.layers.Dense(units=y_train.shape[1], activation='softmax')(h1)\n",
    "model = tf.keras.Model(inputs=inp, outputs=op)"
   ]
  },
  {
   "cell_type": "code",
   "execution_count": 20,
   "id": "8c9aaebb",
   "metadata": {
    "ExecuteTime": {
     "end_time": "2022-10-30T07:04:37.502779Z",
     "start_time": "2022-10-30T07:04:37.482780Z"
    }
   },
   "outputs": [
    {
     "name": "stdout",
     "output_type": "stream",
     "text": [
      "Model: \"model\"\n",
      "_________________________________________________________________\n",
      " Layer (type)                Output Shape              Param #   \n",
      "=================================================================\n",
      " input_1 (InputLayer)        [(None, 784)]             0         \n",
      "                                                                 \n",
      " dense (Dense)               (None, 784)               615440    \n",
      "                                                                 \n",
      " dense_1 (Dense)             (None, 10)                7850      \n",
      "                                                                 \n",
      "=================================================================\n",
      "Total params: 623,290\n",
      "Trainable params: 623,290\n",
      "Non-trainable params: 0\n",
      "_________________________________________________________________\n",
      "None\n"
     ]
    }
   ],
   "source": [
    "print(model.summary())"
   ]
  },
  {
   "cell_type": "markdown",
   "id": "83c3a3ba",
   "metadata": {},
   "source": [
    "## Compile and train the model"
   ]
  },
  {
   "cell_type": "code",
   "execution_count": 25,
   "id": "2772d06f",
   "metadata": {
    "ExecuteTime": {
     "end_time": "2022-10-30T07:12:26.526456Z",
     "start_time": "2022-10-30T07:12:26.507070Z"
    }
   },
   "outputs": [],
   "source": [
    "model.compile(optimizer='adam', loss='categorical_crossentropy', metrics=['accuracy'])"
   ]
  },
  {
   "cell_type": "code",
   "execution_count": 26,
   "id": "47c9008f",
   "metadata": {
    "ExecuteTime": {
     "end_time": "2022-10-30T07:13:50.841659Z",
     "start_time": "2022-10-30T07:12:27.143952Z"
    }
   },
   "outputs": [
    {
     "name": "stdout",
     "output_type": "stream",
     "text": [
      "Epoch 1/10\n",
      "1200/1200 [==============================] - 8s 6ms/step - loss: 0.0040 - accuracy: 0.9991\n",
      "Epoch 2/10\n",
      "1200/1200 [==============================] - 8s 6ms/step - loss: 0.0031 - accuracy: 0.9992\n",
      "Epoch 3/10\n",
      "1200/1200 [==============================] - 10s 8ms/step - loss: 0.0049 - accuracy: 0.9987\n",
      "Epoch 4/10\n",
      "1200/1200 [==============================] - 9s 8ms/step - loss: 0.0031 - accuracy: 0.9992\n",
      "Epoch 5/10\n",
      "1200/1200 [==============================] - 8s 7ms/step - loss: 0.0040 - accuracy: 0.9992\n",
      "Epoch 6/10\n",
      "1200/1200 [==============================] - 9s 7ms/step - loss: 0.0032 - accuracy: 0.9991\n",
      "Epoch 7/10\n",
      "1200/1200 [==============================] - 8s 7ms/step - loss: 0.0033 - accuracy: 0.9992\n",
      "Epoch 8/10\n",
      "1200/1200 [==============================] - 8s 7ms/step - loss: 0.0043 - accuracy: 0.9990\n",
      "Epoch 9/10\n",
      "1200/1200 [==============================] - 8s 7ms/step - loss: 0.0030 - accuracy: 0.9993\n",
      "Epoch 10/10\n",
      "1200/1200 [==============================] - 8s 7ms/step - loss: 0.0027 - accuracy: 0.9994\n"
     ]
    },
    {
     "data": {
      "text/plain": [
       "<keras.callbacks.History at 0x2843db20c70>"
      ]
     },
     "execution_count": 26,
     "metadata": {},
     "output_type": "execute_result"
    }
   ],
   "source": [
    "model.fit(X_train, y_train, batch_size=50, epochs=10)"
   ]
  },
  {
   "cell_type": "markdown",
   "id": "b9b13090",
   "metadata": {},
   "source": [
    "## Evaluate the model performance"
   ]
  },
  {
   "cell_type": "code",
   "execution_count": 27,
   "id": "024e49b8",
   "metadata": {
    "ExecuteTime": {
     "end_time": "2022-10-30T07:16:10.824981Z",
     "start_time": "2022-10-30T07:16:10.736432Z"
    }
   },
   "outputs": [],
   "source": [
    "X_test = test_data.iloc[:,1:].values\n",
    "X_test = X_test.astype('float')/255.0\n",
    "y_test = test_data.loc[:,'label'].values"
   ]
  },
  {
   "cell_type": "code",
   "execution_count": 28,
   "id": "9da83533",
   "metadata": {
    "ExecuteTime": {
     "end_time": "2022-10-30T07:16:36.442347Z",
     "start_time": "2022-10-30T07:16:35.288644Z"
    }
   },
   "outputs": [
    {
     "name": "stdout",
     "output_type": "stream",
     "text": [
      "313/313 [==============================] - 1s 3ms/step\n"
     ]
    }
   ],
   "source": [
    "y_pred_values = model.predict(X_test)"
   ]
  },
  {
   "cell_type": "code",
   "execution_count": 30,
   "id": "6fe200a3",
   "metadata": {
    "ExecuteTime": {
     "end_time": "2022-10-30T07:16:44.077367Z",
     "start_time": "2022-10-30T07:16:44.065119Z"
    }
   },
   "outputs": [
    {
     "data": {
      "text/plain": [
       "(10000, 10)"
      ]
     },
     "execution_count": 30,
     "metadata": {},
     "output_type": "execute_result"
    }
   ],
   "source": [
    "y_pred_values.shape"
   ]
  },
  {
   "cell_type": "code",
   "execution_count": 32,
   "id": "f1361835",
   "metadata": {
    "ExecuteTime": {
     "end_time": "2022-10-30T07:16:55.780130Z",
     "start_time": "2022-10-30T07:16:55.766862Z"
    }
   },
   "outputs": [
    {
     "data": {
      "text/plain": [
       "(10000,)"
      ]
     },
     "execution_count": 32,
     "metadata": {},
     "output_type": "execute_result"
    }
   ],
   "source": [
    "y_test.shape"
   ]
  },
  {
   "cell_type": "code",
   "execution_count": 35,
   "id": "f890b6e6",
   "metadata": {
    "ExecuteTime": {
     "end_time": "2022-10-30T07:18:29.127532Z",
     "start_time": "2022-10-30T07:18:29.003442Z"
    }
   },
   "outputs": [
    {
     "data": {
      "image/png": "[encoded data removed]",
      "text/plain": [
       "<Figure size 720x288 with 1 Axes>"
      ]
     },
     "metadata": {
      "needs_background": "light"
     },
     "output_type": "display_data"
    }
   ],
   "source": [
    "value = 0\n",
    "plt.figure(figsize=(10,4))\n",
    "plt.bar(x=np.arange(0,10), height=y_pred_values[value])\n",
    "plt.show()"
   ]
  },
  {
   "cell_type": "code",
   "execution_count": 34,
   "id": "fd90e82c",
   "metadata": {
    "ExecuteTime": {
     "end_time": "2022-10-30T07:18:18.501780Z",
     "start_time": "2022-10-30T07:18:18.483180Z"
    }
   },
   "outputs": [
    {
     "data": {
      "text/plain": [
       "7"
      ]
     },
     "execution_count": 34,
     "metadata": {},
     "output_type": "execute_result"
    }
   ],
   "source": [
    "y_test[0]"
   ]
  },
  {
   "cell_type": "code",
   "execution_count": 37,
   "id": "3ee8e20d",
   "metadata": {
    "ExecuteTime": {
     "end_time": "2022-10-30T07:19:33.242861Z",
     "start_time": "2022-10-30T07:19:33.229468Z"
    }
   },
   "outputs": [],
   "source": [
    "y_pred = y_pred_values.argmax(axis=1)"
   ]
  },
  {
   "cell_type": "code",
   "execution_count": 38,
   "id": "74827345",
   "metadata": {
    "ExecuteTime": {
     "end_time": "2022-10-30T07:19:45.198627Z",
     "start_time": "2022-10-30T07:19:45.183485Z"
    }
   },
   "outputs": [
    {
     "data": {
      "text/plain": [
       "array([7, 2, 1, ..., 4, 5, 6], dtype=int64)"
      ]
     },
     "execution_count": 38,
     "metadata": {},
     "output_type": "execute_result"
    }
   ],
   "source": [
    "y_pred"
   ]
  },
  {
   "cell_type": "code",
   "execution_count": 43,
   "id": "8823ad2a",
   "metadata": {
    "ExecuteTime": {
     "end_time": "2022-10-30T07:22:30.543248Z",
     "start_time": "2022-10-30T07:22:30.527968Z"
    }
   },
   "outputs": [],
   "source": [
    "from sklearn.metrics import accuracy_score"
   ]
  },
  {
   "cell_type": "code",
   "execution_count": 44,
   "id": "44ca884b",
   "metadata": {
    "ExecuteTime": {
     "end_time": "2022-10-30T07:22:31.035522Z",
     "start_time": "2022-10-30T07:22:31.028631Z"
    }
   },
   "outputs": [
    {
     "data": {
      "text/plain": [
       "0.9839"
      ]
     },
     "execution_count": 44,
     "metadata": {},
     "output_type": "execute_result"
    }
   ],
   "source": [
    "accuracy_score(y_true=y_test, y_pred=y_pred)"
   ]
  },
  {
   "cell_type": "markdown",
   "id": "16f66d5b",
   "metadata": {
    "ExecuteTime": {
     "end_time": "2022-10-30T07:21:53.580550Z",
     "start_time": "2022-10-30T07:21:53.549790Z"
    }
   },
   "source": [
    "**Confusion Matrix**"
   ]
  },
  {
   "cell_type": "code",
   "execution_count": 57,
   "id": "eeb770cc",
   "metadata": {
    "ExecuteTime": {
     "end_time": "2022-10-30T07:30:56.979161Z",
     "start_time": "2022-10-30T07:30:56.959200Z"
    }
   },
   "outputs": [],
   "source": [
    "def create_confusion_matrix(n_class, y_true, y_pred):\n",
    "    cm = np.zeros(shape=(n_class,n_class), dtype='int')\n",
    "    assert y_true.shape == y_pred.shape, \"Shape of y_true and y_pred should be same\"\n",
    "    for i in range(y_true.shape[0]):\n",
    "        r = y_true[i]\n",
    "        c = y_pred[i]\n",
    "        cm[r,c] += 1\n",
    "    rows = ['true-'+str(x) for x in range(n_class)]\n",
    "    cols = ['pred-'+str(x) for x in range(n_class)]\n",
    "    df = pd.DataFrame(cm, index=rows, columns=cols)\n",
    "    plt.figure(figsize=(7,7))\n",
    "    plt.imshow(cm, cmap='gray')\n",
    "    plt.show()\n",
    "    return df"
   ]
  },
  {
   "cell_type": "code",
   "execution_count": 58,
   "id": "9b92b86d",
   "metadata": {
    "ExecuteTime": {
     "end_time": "2022-10-30T07:31:08.495321Z",
     "start_time": "2022-10-30T07:31:08.349820Z"
    }
   },
   "outputs": [
    {
     "data": {
      "image/png": "[encoded data removed]",
      "text/plain": [
       "<Figure size 504x504 with 1 Axes>"
      ]
     },
     "metadata": {
      "needs_background": "light"
     },
     "output_type": "display_data"
    }
   ],
   "source": [
    "df = create_confusion_matrix(n_class=10, y_true=y_test, y_pred=y_pred)"
   ]
  },
  {
   "cell_type": "code",
   "execution_count": 59,
   "id": "c70510f1",
   "metadata": {
    "ExecuteTime": {
     "end_time": "2022-10-30T07:31:12.447805Z",
     "start_time": "2022-10-30T07:31:12.427810Z"
    }
   },
   "outputs": [
    {
     "data": {
      "text/html": [
       "<div>\n",
       "<style scoped>\n",
       "    .dataframe tbody tr th:only-of-type {\n",
       "        vertical-align: middle;\n",
       "    }\n",
       "\n",
       "    .dataframe tbody tr th {\n",
       "        vertical-align: top;\n",
       "    }\n",
       "\n",
       "    .dataframe thead th {\n",
       "        text-align: right;\n",
       "    }\n",
       "</style>\n",
       "<table border=\"1\" class=\"dataframe\">\n",
       "  <thead>\n",
       "    <tr style=\"text-align: right;\">\n",
       "      <th></th>\n",
       "      <th>pred-0</th>\n",
       "      <th>pred-1</th>\n",
       "      <th>pred-2</th>\n",
       "      <th>pred-3</th>\n",
       "      <th>pred-4</th>\n",
       "      <th>pred-5</th>\n",
       "      <th>pred-6</th>\n",
       "      <th>pred-7</th>\n",
       "      <th>pred-8</th>\n",
       "      <th>pred-9</th>\n",
       "    </tr>\n",
       "  </thead>\n",
       "  <tbody>\n",
       "    <tr>\n",
       "      <th>true-0</th>\n",
       "      <td>975</td>\n",
       "      <td>1</td>\n",
       "      <td>1</td>\n",
       "      <td>0</td>\n",
       "      <td>0</td>\n",
       "      <td>0</td>\n",
       "      <td>2</td>\n",
       "      <td>1</td>\n",
       "      <td>0</td>\n",
       "      <td>0</td>\n",
       "    </tr>\n",
       "    <tr>\n",
       "      <th>true-1</th>\n",
       "      <td>1</td>\n",
       "      <td>1123</td>\n",
       "      <td>2</td>\n",
       "      <td>2</td>\n",
       "      <td>0</td>\n",
       "      <td>0</td>\n",
       "      <td>2</td>\n",
       "      <td>0</td>\n",
       "      <td>4</td>\n",
       "      <td>1</td>\n",
       "    </tr>\n",
       "    <tr>\n",
       "      <th>true-2</th>\n",
       "      <td>1</td>\n",
       "      <td>0</td>\n",
       "      <td>1018</td>\n",
       "      <td>1</td>\n",
       "      <td>1</td>\n",
       "      <td>0</td>\n",
       "      <td>1</td>\n",
       "      <td>5</td>\n",
       "      <td>4</td>\n",
       "      <td>1</td>\n",
       "    </tr>\n",
       "    <tr>\n",
       "      <th>true-3</th>\n",
       "      <td>1</td>\n",
       "      <td>0</td>\n",
       "      <td>2</td>\n",
       "      <td>995</td>\n",
       "      <td>0</td>\n",
       "      <td>3</td>\n",
       "      <td>0</td>\n",
       "      <td>4</td>\n",
       "      <td>3</td>\n",
       "      <td>2</td>\n",
       "    </tr>\n",
       "    <tr>\n",
       "      <th>true-4</th>\n",
       "      <td>4</td>\n",
       "      <td>2</td>\n",
       "      <td>6</td>\n",
       "      <td>0</td>\n",
       "      <td>961</td>\n",
       "      <td>0</td>\n",
       "      <td>1</td>\n",
       "      <td>1</td>\n",
       "      <td>0</td>\n",
       "      <td>7</td>\n",
       "    </tr>\n",
       "    <tr>\n",
       "      <th>true-5</th>\n",
       "      <td>2</td>\n",
       "      <td>0</td>\n",
       "      <td>0</td>\n",
       "      <td>7</td>\n",
       "      <td>1</td>\n",
       "      <td>876</td>\n",
       "      <td>4</td>\n",
       "      <td>0</td>\n",
       "      <td>2</td>\n",
       "      <td>0</td>\n",
       "    </tr>\n",
       "    <tr>\n",
       "      <th>true-6</th>\n",
       "      <td>2</td>\n",
       "      <td>2</td>\n",
       "      <td>2</td>\n",
       "      <td>1</td>\n",
       "      <td>2</td>\n",
       "      <td>2</td>\n",
       "      <td>946</td>\n",
       "      <td>0</td>\n",
       "      <td>1</td>\n",
       "      <td>0</td>\n",
       "    </tr>\n",
       "    <tr>\n",
       "      <th>true-7</th>\n",
       "      <td>4</td>\n",
       "      <td>0</td>\n",
       "      <td>8</td>\n",
       "      <td>1</td>\n",
       "      <td>0</td>\n",
       "      <td>0</td>\n",
       "      <td>0</td>\n",
       "      <td>1010</td>\n",
       "      <td>3</td>\n",
       "      <td>2</td>\n",
       "    </tr>\n",
       "    <tr>\n",
       "      <th>true-8</th>\n",
       "      <td>1</td>\n",
       "      <td>0</td>\n",
       "      <td>4</td>\n",
       "      <td>3</td>\n",
       "      <td>0</td>\n",
       "      <td>1</td>\n",
       "      <td>0</td>\n",
       "      <td>2</td>\n",
       "      <td>960</td>\n",
       "      <td>3</td>\n",
       "    </tr>\n",
       "    <tr>\n",
       "      <th>true-9</th>\n",
       "      <td>6</td>\n",
       "      <td>4</td>\n",
       "      <td>3</td>\n",
       "      <td>2</td>\n",
       "      <td>5</td>\n",
       "      <td>4</td>\n",
       "      <td>1</td>\n",
       "      <td>5</td>\n",
       "      <td>4</td>\n",
       "      <td>975</td>\n",
       "    </tr>\n",
       "  </tbody>\n",
       "</table>\n",
       "</div>"
      ],
      "text/plain": [
       "        pred-0  pred-1  pred-2  pred-3  pred-4  pred-5  pred-6  pred-7  \\\n",
       "true-0     975       1       1       0       0       0       2       1   \n",
       "true-1       1    1123       2       2       0       0       2       0   \n",
       "true-2       1       0    1018       1       1       0       1       5   \n",
       "true-3       1       0       2     995       0       3       0       4   \n",
       "true-4       4       2       6       0     961       0       1       1   \n",
       "true-5       2       0       0       7       1     876       4       0   \n",
       "true-6       2       2       2       1       2       2     946       0   \n",
       "true-7       4       0       8       1       0       0       0    1010   \n",
       "true-8       1       0       4       3       0       1       0       2   \n",
       "true-9       6       4       3       2       5       4       1       5   \n",
       "\n",
       "        pred-8  pred-9  \n",
       "true-0       0       0  \n",
       "true-1       4       1  \n",
       "true-2       4       1  \n",
       "true-3       3       2  \n",
       "true-4       0       7  \n",
       "true-5       2       0  \n",
       "true-6       1       0  \n",
       "true-7       3       2  \n",
       "true-8     960       3  \n",
       "true-9       4     975  "
      ]
     },
     "execution_count": 59,
     "metadata": {},
     "output_type": "execute_result"
    }
   ],
   "source": [
    "df"
   ]
  },
  {
   "cell_type": "code",
   "execution_count": null,
   "id": "a6053856",
   "metadata": {},
   "outputs": [],
   "source": []
  }
 ],
 "metadata": {
  "kernelspec": {
   "display_name": "Python 3 (ipykernel)",
   "language": "python",
   "name": "python3"
  },
  "language_info": {
   "codemirror_mode": {
    "name": "ipython",
    "version": 3
   },
   "file_extension": ".py",
   "mimetype": "text/x-python",
   "name": "python",
   "nbconvert_exporter": "python",
   "pygments_lexer": "ipython3",
   "version": "3.9.7"
  },
  "toc": {
   "base_numbering": 1,
   "nav_menu": {},
   "number_sections": true,
   "sideBar": true,
   "skip_h1_title": true,
   "title_cell": "Table of Contents",
   "title_sidebar": "Contents",
   "toc_cell": false,
   "toc_position": {},
   "toc_section_display": true,
   "toc_window_display": true
  }
 },
 "nbformat": 4,
 "nbformat_minor": 5
}
