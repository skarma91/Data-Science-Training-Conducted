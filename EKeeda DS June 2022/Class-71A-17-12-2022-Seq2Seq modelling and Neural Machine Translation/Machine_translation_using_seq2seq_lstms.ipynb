{
 "cells": [
  {
   "cell_type": "markdown",
   "metadata": {
    "_cell_guid": "b1076dfc-b9ad-4769-8c92-a6c4dae69d19",
    "_uuid": "8f2839f25d086af736a60e9eeb907d3b93b6e0e5"
   },
   "source": [
    "# MACHINE TRANSLATION Using Seq2Seq Modelling"
   ]
  },
  {
   "cell_type": "markdown",
   "metadata": {},
   "source": [
    "The objective is to Explain How Seq 2 Seq and LSTMs are used for Machine Translations using an example dataset of converting a German sentence to its English counterpart. This code is greatly inspired from this [link](https://www.kaggle.com/code/harshjain123/machine-translation-seq2seq-lstms/notebook).\n",
    "\n",
    "## What is Seq2Seq Modelling ?\n",
    "\n",
    "Sequence-to-sequence learning (Seq2Seq) is about training models to convert sequences from one domain (e.g. sentences in English) to sequences in another domain (e.g. the same sentences translated to German). Our aim is to translate given sentences from German language to English.\n",
    "\n",
    "\n",
    "Sequence-to-Sequence (seq2seq) models are used for a variety of NLP tasks, such as text summarization, speech recognition, DNA sequence modeling, among others.\n",
    "\n",
    "Here, both the input and output are sentences. In other words, these sentences are a sequence of words going in and out of a model. This is the basic idea of Sequence-to-Sequence modeling. The figure below tries to explain this method.\n",
    "\n",
    "![](https://cdn.analyticsvidhya.com/wp-content/uploads/2019/01/enc_dec_simple.png)\n",
    "\n",
    "\n",
    "### Here's how it works:\n",
    "\n",
    "- Feed the embedding vectors for source sequences (German), to the encoder network, one word at a time.</li>\n",
    "\n",
    "- Encode the input sentences into fixed dimension state vectors. At this step, we get the hidden and cell states from the encoder LSTM, and feed it to the decoder LSTM.\n",
    "    \n",
    "- These states are regarded as initial states by decoder. Additionally, it also has the embedding vectors for target words (English).\n",
    "    \n",
    "- Decode and output the translated sentence, one word at a time. In this step, the output of the decoder is sent to a softmax layer over the entire target vocabulary."
   ]
  },
  {
   "cell_type": "markdown",
   "metadata": {},
   "source": [
    "## Import the Required Libraries"
   ]
  },
  {
   "cell_type": "code",
   "execution_count": 1,
   "metadata": {},
   "outputs": [],
   "source": [
    "# For string manipulation and data i/o\n",
    "import string\n",
    "import re\n",
    "import numpy as np\n",
    "from numpy import array, argmax, random, take\n",
    "import pandas as pd\n",
    "\n",
    "# Deep learning libraries\n",
    "import tensorflow as tf\n",
    "from tensorflow.keras.models import Sequential\n",
    "from tensorflow.keras.layers import Dense, LSTM, Embedding, RepeatVector\n",
    "from tensorflow.keras.preprocessing.text import Tokenizer\n",
    "from tensorflow.keras.callbacks import ModelCheckpoint\n",
    "from tensorflow.keras.preprocessing.sequence import pad_sequences\n",
    "from tensorflow.keras.models import load_model\n",
    "from tensorflow.keras import optimizers\n",
    "\n",
    "# For visualization and plotting\n",
    "import matplotlib.pyplot as plt\n",
    "pd.set_option('display.max_colwidth', 200)"
   ]
  },
  {
   "cell_type": "markdown",
   "metadata": {},
   "source": [
    "## Load the Data \n",
    "\n",
    "In this example we shall convert german(deutsche) to english. So loading the necessary files. "
   ]
  },
  {
   "cell_type": "code",
   "execution_count": 2,
   "metadata": {},
   "outputs": [],
   "source": [
    "# function to read raw text file\n",
    "def read_text(filename):\n",
    "    # open the file\n",
    "    file = open(filename, mode='rt', encoding='utf-8')\n",
    "        \n",
    "    # read all text\n",
    "    text = file.read()\n",
    "    file.close()\n",
    "    return text"
   ]
  },
  {
   "cell_type": "code",
   "execution_count": 3,
   "metadata": {},
   "outputs": [],
   "source": [
    "# split a text into sentences\n",
    "def to_lines(text):\n",
    "    sents = text.strip().split('\\n')\n",
    "    sents = [i.split('\\t') for i in sents]\n",
    "    return sents"
   ]
  },
  {
   "cell_type": "code",
   "execution_count": 4,
   "metadata": {},
   "outputs": [],
   "source": [
    "data = read_text(\"./deu.txt\")\n",
    "deu_eng = to_lines(data)\n",
    "deu_eng = array(deu_eng)"
   ]
  },
  {
   "cell_type": "code",
   "execution_count": 5,
   "metadata": {},
   "outputs": [],
   "source": [
    "deu_eng = deu_eng[:50000,:]"
   ]
  },
  {
   "cell_type": "markdown",
   "metadata": {},
   "source": [
    "**Note:**The actual data contains over 150,000 sentence-pairs. However, we will use only the first 50,000 sentence pairs to reduce the training time of the model."
   ]
  },
  {
   "cell_type": "markdown",
   "metadata": {},
   "source": [
    "## Text Cleaning / Preprocessing"
   ]
  },
  {
   "cell_type": "markdown",
   "metadata": {},
   "source": [
    "We will get rid of the punctuation marks and then convert all the text to lower case."
   ]
  },
  {
   "cell_type": "code",
   "execution_count": 6,
   "metadata": {},
   "outputs": [
    {
     "data": {
      "text/plain": [
       "array([['Go', 'Geh',\n",
       "        'CC-BY 2.0 (France) Attribution: tatoeba.org #2877272 (CM) & #8597805 (Roujin)'],\n",
       "       ['Hi', 'Hallo',\n",
       "        'CC-BY 2.0 (France) Attribution: tatoeba.org #538123 (CM) & #380701 (cburgmer)'],\n",
       "       ['Hi', 'Grüß Gott',\n",
       "        'CC-BY 2.0 (France) Attribution: tatoeba.org #538123 (CM) & #659813 (Esperantostern)'],\n",
       "       ...,\n",
       "       ['Im giving up smoking', 'Ich höre mit dem Rauchen auf',\n",
       "        'CC-BY 2.0 (France) Attribution: tatoeba.org #256952 (minshirui) & #407184 (MUIRIEL)'],\n",
       "       ['Im glad I was nearby', 'Ich bin froh dass ich in der Nähe war',\n",
       "        'CC-BY 2.0 (France) Attribution: tatoeba.org #2547219 (CK) & #3448316 (Pfirsichbaeumchen)'],\n",
       "       ['Im glad Tom has gone', 'Ich bin froh dass Tom weg ist',\n",
       "        'CC-BY 2.0 (France) Attribution: tatoeba.org #2547217 (CK) & #5299642 (Pfirsichbaeumchen)']],\n",
       "      dtype='<U537')"
      ]
     },
     "execution_count": 6,
     "metadata": {},
     "output_type": "execute_result"
    }
   ],
   "source": [
    "# Remove punctuation\n",
    "deu_eng[:,0] = [s.translate(str.maketrans('', '', string.punctuation)) for s in deu_eng[:,0]]\n",
    "deu_eng[:,1] = [s.translate(str.maketrans('', '', string.punctuation)) for s in deu_eng[:,1]]\n",
    "\n",
    "deu_eng"
   ]
  },
  {
   "cell_type": "code",
   "execution_count": 7,
   "metadata": {},
   "outputs": [],
   "source": [
    "# convert text to lowercase\n",
    "for i in range(len(deu_eng)):\n",
    "    deu_eng[i,0] = deu_eng[i,0].lower()\n",
    "    deu_eng[i,1] = deu_eng[i,1].lower()"
   ]
  },
  {
   "cell_type": "code",
   "execution_count": 8,
   "metadata": {},
   "outputs": [
    {
     "data": {
      "image/png": "[encoded data removed]",
      "text/plain": [
       "<Figure size 864x360 with 2 Axes>"
      ]
     },
     "metadata": {
      "needs_background": "light"
     },
     "output_type": "display_data"
    }
   ],
   "source": [
    "# empty lists\n",
    "eng_l = []\n",
    "deu_l = []\n",
    "\n",
    "# populate the lists with sentence lengths\n",
    "for i in deu_eng[:,0]:\n",
    "      eng_l.append(len(i.split()))\n",
    "\n",
    "for i in deu_eng[:,1]:\n",
    "      deu_l.append(len(i.split()))\n",
    "\n",
    "length_df = pd.DataFrame({'eng':eng_l, 'deu':deu_l})\n",
    "\n",
    "length_df.hist(bins = 30, edgecolor='k', figsize = (12,5))\n",
    "plt.show()"
   ]
  },
  {
   "cell_type": "markdown",
   "metadata": {},
   "source": [
    "- A Seq2Seq model requires that we convert both the input and the output sentences into integer sequences of fixed length.\n",
    "    \n",
    "- Now, vectorize our text data by using Keras’s Tokenizer() class. It will turn our sentences into sequences of integers. We can then pad those sequences with zeros to make all the sequences of the same length.\n",
    "    \n",
    "- Prepare tokenizers for both the German and English sentences."
   ]
  },
  {
   "cell_type": "code",
   "execution_count": 9,
   "metadata": {},
   "outputs": [],
   "source": [
    "# function to build a tokenizer\n",
    "def tokenization(lines):\n",
    "    tokenizer = Tokenizer()\n",
    "    tokenizer.fit_on_texts(lines)\n",
    "    return tokenizer"
   ]
  },
  {
   "cell_type": "code",
   "execution_count": 10,
   "metadata": {},
   "outputs": [
    {
     "name": "stdout",
     "output_type": "stream",
     "text": [
      "English Vocabulary Size: 6256\n"
     ]
    }
   ],
   "source": [
    "# prepare english tokenizer\n",
    "eng_tokenizer = tokenization(deu_eng[:, 0])\n",
    "eng_vocab_size = len(eng_tokenizer.word_index) + 1\n",
    "\n",
    "eng_length = 8\n",
    "print('English Vocabulary Size: %d' % eng_vocab_size)"
   ]
  },
  {
   "cell_type": "code",
   "execution_count": 11,
   "metadata": {},
   "outputs": [
    {
     "data": {
      "text/plain": [
       "{1: 'tom',\n",
       " 2: 'i',\n",
       " 3: 'you',\n",
       " 4: 'is',\n",
       " 5: 'a',\n",
       " 6: 'it',\n",
       " 7: 'the',\n",
       " 8: 'to',\n",
       " 9: 'me',\n",
       " 10: 'im',\n",
       " 11: 'he',\n",
       " 12: 'do',\n",
       " 13: 'that',\n",
       " 14: 'was',\n",
       " 15: 'this',\n",
       " 16: 'my',\n",
       " 17: 'are',\n",
       " 18: 'we',\n",
       " 19: 'dont',\n",
       " 20: 'have',\n",
       " 21: 'your',\n",
       " 22: 'did',\n",
       " 23: 'like',\n",
       " 24: 'its',\n",
       " 25: 'can',\n",
       " 26: 'youre',\n",
       " 27: 'not',\n",
       " 28: 'be',\n",
       " 29: 'go',\n",
       " 30: 'in',\n",
       " 31: 'what',\n",
       " 32: 'were',\n",
       " 33: 'here',\n",
       " 34: 'she',\n",
       " 35: 'know',\n",
       " 36: 'they',\n",
       " 37: 'ill',\n",
       " 38: 'want',\n",
       " 39: 'very',\n",
       " 40: 'now',\n",
       " 41: 'how',\n",
       " 42: 'on',\n",
       " 43: 'cant',\n",
       " 44: 'has',\n",
       " 45: 'up',\n",
       " 46: 'for',\n",
       " 47: 'get',\n",
       " 48: 'thats',\n",
       " 49: 'need',\n",
       " 50: 'no',\n",
       " 51: 'at',\n",
       " 52: 'toms',\n",
       " 53: 'come',\n",
       " 54: 'isnt',\n",
       " 55: 'of',\n",
       " 56: 'why',\n",
       " 57: 'him',\n",
       " 58: 'good',\n",
       " 59: 'who',\n",
       " 60: 'help',\n",
       " 61: 'one',\n",
       " 62: 'out',\n",
       " 63: 'will',\n",
       " 64: 'his',\n",
       " 65: 'us',\n",
       " 66: 'too',\n",
       " 67: 'all',\n",
       " 68: 'please',\n",
       " 69: 'just',\n",
       " 70: 'love',\n",
       " 71: 'there',\n",
       " 72: 'got',\n",
       " 73: 'home',\n",
       " 74: 'well',\n",
       " 75: 'with',\n",
       " 76: 'didnt',\n",
       " 77: 'see',\n",
       " 78: 'mary',\n",
       " 79: 'am',\n",
       " 80: 'stop',\n",
       " 81: 'hes',\n",
       " 82: 'look',\n",
       " 83: 'car',\n",
       " 84: 'take',\n",
       " 85: 'an',\n",
       " 86: 'never',\n",
       " 87: 'her',\n",
       " 88: 'think',\n",
       " 89: 'really',\n",
       " 90: 'where',\n",
       " 91: 'so',\n",
       " 92: 'give',\n",
       " 93: 'lets',\n",
       " 94: 'back',\n",
       " 95: 'let',\n",
       " 96: 'work',\n",
       " 97: 'may',\n",
       " 98: 'had',\n",
       " 99: 'made',\n",
       " 100: 'does',\n",
       " 101: 'eat',\n",
       " 102: 'must',\n",
       " 103: 'wont',\n",
       " 104: 'saw',\n",
       " 105: 'whats',\n",
       " 106: 'tell',\n",
       " 107: 'about',\n",
       " 108: 'try',\n",
       " 109: 'ive',\n",
       " 110: 'theyre',\n",
       " 111: 'money',\n",
       " 112: 'still',\n",
       " 113: 'again',\n",
       " 114: 'dog',\n",
       " 115: 'happy',\n",
       " 116: 'likes',\n",
       " 117: 'lost',\n",
       " 118: 'book',\n",
       " 119: 'wasnt',\n",
       " 120: 'right',\n",
       " 121: 'time',\n",
       " 122: 'leave',\n",
       " 123: 'off',\n",
       " 124: 'busy',\n",
       " 125: 'say',\n",
       " 126: 'away',\n",
       " 127: 'call',\n",
       " 128: 'down',\n",
       " 129: 'them',\n",
       " 130: 'going',\n",
       " 131: 'looks',\n",
       " 132: 'went',\n",
       " 133: 'keep',\n",
       " 134: 'lot',\n",
       " 135: 'bad',\n",
       " 136: 'and',\n",
       " 137: 'should',\n",
       " 138: 'today',\n",
       " 139: 'wheres',\n",
       " 140: 'make',\n",
       " 141: 'much',\n",
       " 142: 'wait',\n",
       " 143: 'came',\n",
       " 144: 'new',\n",
       " 145: 'some',\n",
       " 146: 'could',\n",
       " 147: 'big',\n",
       " 148: 'feel',\n",
       " 149: 'job',\n",
       " 150: 'alone',\n",
       " 151: 'our',\n",
       " 152: 'cold',\n",
       " 153: 'hate',\n",
       " 154: 'stay',\n",
       " 155: 'read',\n",
       " 156: 'ask',\n",
       " 157: 'old',\n",
       " 158: 'gave',\n",
       " 159: 'id',\n",
       " 160: 'always',\n",
       " 161: 'find',\n",
       " 162: 'said',\n",
       " 163: 'knew',\n",
       " 164: 'over',\n",
       " 165: 'talk',\n",
       " 166: 'arent',\n",
       " 167: 'tired',\n",
       " 168: 'nobody',\n",
       " 169: 'knows',\n",
       " 170: 'hope',\n",
       " 171: 'loves',\n",
       " 172: 'hurt',\n",
       " 173: 'man',\n",
       " 174: 'miss',\n",
       " 175: 'drink',\n",
       " 176: 'everyone',\n",
       " 177: 'ok',\n",
       " 178: 'room',\n",
       " 179: 'late',\n",
       " 180: 'open',\n",
       " 181: 'put',\n",
       " 182: 'play',\n",
       " 183: 'hard',\n",
       " 184: 'found',\n",
       " 185: 'live',\n",
       " 186: 'french',\n",
       " 187: 'fast',\n",
       " 188: 'boston',\n",
       " 189: 'watch',\n",
       " 190: 'ready',\n",
       " 191: 'looked',\n",
       " 192: 'nice',\n",
       " 193: 'left',\n",
       " 194: 'more',\n",
       " 195: 'when',\n",
       " 196: 'wrong',\n",
       " 197: 'coming',\n",
       " 198: 'seems',\n",
       " 199: 'day',\n",
       " 200: 'fun',\n",
       " 201: 'these',\n",
       " 202: 'wants',\n",
       " 203: 'took',\n",
       " 204: 'ran',\n",
       " 205: 'house',\n",
       " 206: 'shes',\n",
       " 207: 'hungry',\n",
       " 208: 'door',\n",
       " 209: 'yet',\n",
       " 210: 'way',\n",
       " 211: 'buy',\n",
       " 212: 'doing',\n",
       " 213: 'true',\n",
       " 214: 'great',\n",
       " 215: 'from',\n",
       " 216: 'would',\n",
       " 217: 'sick',\n",
       " 218: 'told',\n",
       " 219: 'already',\n",
       " 220: 'whos',\n",
       " 221: 'nothing',\n",
       " 222: 'doesnt',\n",
       " 223: 'yours',\n",
       " 224: 'only',\n",
       " 225: 'felt',\n",
       " 226: 'by',\n",
       " 227: 'speak',\n",
       " 228: 'angry',\n",
       " 229: 'turn',\n",
       " 230: 'bought',\n",
       " 231: 'use',\n",
       " 232: 'youll',\n",
       " 233: 'long',\n",
       " 234: 'heard',\n",
       " 235: 'everybody',\n",
       " 236: 'died',\n",
       " 237: 'life',\n",
       " 238: 'fine',\n",
       " 239: 'as',\n",
       " 240: 'cat',\n",
       " 241: 'hot',\n",
       " 242: 'tv',\n",
       " 243: 'better',\n",
       " 244: 'school',\n",
       " 245: 'been',\n",
       " 246: 'swim',\n",
       " 247: 'something',\n",
       " 248: 'hair',\n",
       " 249: 'sure',\n",
       " 250: 'early',\n",
       " 251: 'boy',\n",
       " 252: 'met',\n",
       " 253: 'mine',\n",
       " 254: 'youve',\n",
       " 255: 'father',\n",
       " 256: 'tried',\n",
       " 257: 'broke',\n",
       " 258: 'mean',\n",
       " 259: 'soon',\n",
       " 260: 'lie',\n",
       " 261: 'sing',\n",
       " 262: 'wanted',\n",
       " 263: 'bed',\n",
       " 264: 'almost',\n",
       " 265: 'water',\n",
       " 266: 'rich',\n",
       " 267: 'bit',\n",
       " 268: 'needs',\n",
       " 269: 'eyes',\n",
       " 270: 'pay',\n",
       " 271: 'beer',\n",
       " 272: 'win',\n",
       " 273: 'called',\n",
       " 274: 'believe',\n",
       " 275: 'listen',\n",
       " 276: 'walk',\n",
       " 277: 'kept',\n",
       " 278: 'run',\n",
       " 279: 'trust',\n",
       " 280: 'friend',\n",
       " 281: 'friends',\n",
       " 282: 'idea',\n",
       " 283: 'name',\n",
       " 284: 'show',\n",
       " 285: 'ate',\n",
       " 286: 'afraid',\n",
       " 287: 'sleep',\n",
       " 288: 'quite',\n",
       " 289: 'red',\n",
       " 290: 'everything',\n",
       " 291: 'drunk',\n",
       " 292: 'wish',\n",
       " 293: 'tomorrow',\n",
       " 294: 'hear',\n",
       " 295: 'fish',\n",
       " 296: 'two',\n",
       " 297: 'hit',\n",
       " 298: 'mad',\n",
       " 299: 'bring',\n",
       " 300: 'books',\n",
       " 301: 'any',\n",
       " 302: 'coffee',\n",
       " 303: 'lives',\n",
       " 304: 'hurry',\n",
       " 305: 'won',\n",
       " 306: 'gone',\n",
       " 307: 'study',\n",
       " 308: 'family',\n",
       " 309: 'drive',\n",
       " 310: 'works',\n",
       " 311: 'answer',\n",
       " 312: 'cry',\n",
       " 313: 'done',\n",
       " 314: 'hat',\n",
       " 315: 'those',\n",
       " 316: 'watching',\n",
       " 317: 'three',\n",
       " 318: 'safe',\n",
       " 319: 'yourself',\n",
       " 320: 'crying',\n",
       " 321: 'anything',\n",
       " 322: 'dead',\n",
       " 323: 'forget',\n",
       " 324: 'weve',\n",
       " 325: 'bus',\n",
       " 326: 'started',\n",
       " 327: 'food',\n",
       " 328: 'often',\n",
       " 329: 'plan',\n",
       " 330: 'stopped',\n",
       " 331: 'quiet',\n",
       " 332: 'owe',\n",
       " 333: 'stupid',\n",
       " 334: 'both',\n",
       " 335: 'getting',\n",
       " 336: 'whose',\n",
       " 337: 'phone',\n",
       " 338: 'sorry',\n",
       " 339: 'easy',\n",
       " 340: 'start',\n",
       " 341: 'married',\n",
       " 342: 'enough',\n",
       " 343: 'working',\n",
       " 344: 'wife',\n",
       " 345: 'sad',\n",
       " 346: 'tea',\n",
       " 347: 'sit',\n",
       " 348: 'crazy',\n",
       " 349: 'night',\n",
       " 350: 'next',\n",
       " 351: 'die',\n",
       " 352: 'lying',\n",
       " 353: 'sat',\n",
       " 354: 'might',\n",
       " 355: 'seen',\n",
       " 356: 'wrote',\n",
       " 357: 'follow',\n",
       " 358: 'changed',\n",
       " 359: 'cook',\n",
       " 360: 'upset',\n",
       " 361: 'asked',\n",
       " 362: 'hates',\n",
       " 363: 'enjoy',\n",
       " 364: 'understand',\n",
       " 365: 'people',\n",
       " 366: 'change',\n",
       " 367: 'little',\n",
       " 368: 'free',\n",
       " 369: 'first',\n",
       " 370: 'asleep',\n",
       " 371: 'milk',\n",
       " 372: 'became',\n",
       " 373: 'seemed',\n",
       " 374: 'kids',\n",
       " 375: 'outside',\n",
       " 376: 'happened',\n",
       " 377: 'shoes',\n",
       " 378: 'stand',\n",
       " 379: 'hands',\n",
       " 380: 'once',\n",
       " 381: 'meet',\n",
       " 382: 'pretty',\n",
       " 383: 'remember',\n",
       " 384: 'eating',\n",
       " 385: 'theres',\n",
       " 386: 'happen',\n",
       " 387: 'teacher',\n",
       " 388: 'kiss',\n",
       " 389: 'check',\n",
       " 390: 'loved',\n",
       " 391: 'problem',\n",
       " 392: 'joke',\n",
       " 393: 'key',\n",
       " 394: 'used',\n",
       " 395: 'kind',\n",
       " 396: 'hold',\n",
       " 397: 'tall',\n",
       " 398: 'touch',\n",
       " 399: 'heres',\n",
       " 400: 'young',\n",
       " 401: 'lunch',\n",
       " 402: 'doctor',\n",
       " 403: 'running',\n",
       " 404: 'fell',\n",
       " 405: 'agree',\n",
       " 406: 'shot',\n",
       " 407: 'scared',\n",
       " 408: 'mind',\n",
       " 409: 'even',\n",
       " 410: 'nervous',\n",
       " 411: 'many',\n",
       " 412: 'best',\n",
       " 413: 'reading',\n",
       " 414: 'caught',\n",
       " 415: 'couldnt',\n",
       " 416: 'lied',\n",
       " 417: 'began',\n",
       " 418: 'close',\n",
       " 419: 'cats',\n",
       " 420: 'hand',\n",
       " 421: 'looking',\n",
       " 422: 'thanks',\n",
       " 423: 'wine',\n",
       " 424: 'missed',\n",
       " 425: 'quickly',\n",
       " 426: 'singing',\n",
       " 427: 'son',\n",
       " 428: 'being',\n",
       " 429: 'quit',\n",
       " 430: 'kill',\n",
       " 431: 'dogs',\n",
       " 432: 'anyone',\n",
       " 433: 'liked',\n",
       " 434: 'brother',\n",
       " 435: 'sister',\n",
       " 436: 'fire',\n",
       " 437: 'helped',\n",
       " 438: 'dark',\n",
       " 439: 'break',\n",
       " 440: 'funny',\n",
       " 441: 'sweet',\n",
       " 442: 'dinner',\n",
       " 443: 'arrived',\n",
       " 444: 'move',\n",
       " 445: 'serious',\n",
       " 446: 'itll',\n",
       " 447: 'glad',\n",
       " 448: 'later',\n",
       " 449: 'which',\n",
       " 450: 'turned',\n",
       " 451: 'inside',\n",
       " 452: 'laughed',\n",
       " 453: 'lawyer',\n",
       " 454: 'rest',\n",
       " 455: 'shut',\n",
       " 456: 'around',\n",
       " 457: 'careful',\n",
       " 458: 'hows',\n",
       " 459: 'small',\n",
       " 460: 'else',\n",
       " 461: 'care',\n",
       " 462: 'paid',\n",
       " 463: 'hurts',\n",
       " 464: 'thank',\n",
       " 465: 'last',\n",
       " 466: 'mother',\n",
       " 467: 'yesterday',\n",
       " 468: 'awake',\n",
       " 469: 'seat',\n",
       " 470: 'black',\n",
       " 471: 'worried',\n",
       " 472: 'guys',\n",
       " 473: 'word',\n",
       " 474: 'maybe',\n",
       " 475: 'into',\n",
       " 476: 'keys',\n",
       " 477: 'born',\n",
       " 478: 'anybody',\n",
       " 479: 'bag',\n",
       " 480: 'talking',\n",
       " 481: 'dance',\n",
       " 482: 'after',\n",
       " 483: 'story',\n",
       " 484: 'cool',\n",
       " 485: 'fat',\n",
       " 486: 'write',\n",
       " 487: 'bored',\n",
       " 488: 'walked',\n",
       " 489: 'bet',\n",
       " 490: 'english',\n",
       " 491: 'ones',\n",
       " 492: 'youd',\n",
       " 493: 'perfect',\n",
       " 494: 'face',\n",
       " 495: 'myself',\n",
       " 496: 'thought',\n",
       " 497: 'horse',\n",
       " 498: 'yes',\n",
       " 499: 'guess',\n",
       " 500: 'cut',\n",
       " 501: 'hey',\n",
       " 502: 'dream',\n",
       " 503: 'fault',\n",
       " 504: 'truth',\n",
       " 505: 'cannot',\n",
       " 506: 'confused',\n",
       " 507: 'sounds',\n",
       " 508: 'killed',\n",
       " 509: 'real',\n",
       " 510: 'spoke',\n",
       " 511: 'far',\n",
       " 512: 'worked',\n",
       " 513: 'girl',\n",
       " 514: 'simple',\n",
       " 515: 'lose',\n",
       " 516: 'another',\n",
       " 517: 'short',\n",
       " 518: 'glasses',\n",
       " 519: 'head',\n",
       " 520: 'smart',\n",
       " 521: 'music',\n",
       " 522: 'own',\n",
       " 523: 'says',\n",
       " 524: 'heart',\n",
       " 525: 'beat',\n",
       " 526: 'clean',\n",
       " 527: 'smoke',\n",
       " 528: 'someone',\n",
       " 529: 'theyll',\n",
       " 530: 'closed',\n",
       " 531: 'dirty',\n",
       " 532: 'mom',\n",
       " 533: 'student',\n",
       " 534: 'news',\n",
       " 535: 'children',\n",
       " 536: 'smiled',\n",
       " 537: 'sign',\n",
       " 538: 'poor',\n",
       " 539: 'jealous',\n",
       " 540: 'thirsty',\n",
       " 541: 'joking',\n",
       " 542: 'makes',\n",
       " 543: 'stayed',\n",
       " 544: 'calm',\n",
       " 545: 'bread',\n",
       " 546: 'cake',\n",
       " 547: 'pen',\n",
       " 548: 'canadian',\n",
       " 549: 'finished',\n",
       " 550: 'order',\n",
       " 551: 'box',\n",
       " 552: 'every',\n",
       " 553: 'person',\n",
       " 554: 'fair',\n",
       " 555: 'cried',\n",
       " 556: 'shy',\n",
       " 557: 'cute',\n",
       " 558: 'meat',\n",
       " 559: 'lonely',\n",
       " 560: 'snow',\n",
       " 561: 'sleeping',\n",
       " 562: 'needed',\n",
       " 563: 'apple',\n",
       " 564: 'guy',\n",
       " 565: 'himself',\n",
       " 566: 'dying',\n",
       " 567: 'stood',\n",
       " 568: 'white',\n",
       " 569: 'kidding',\n",
       " 570: 'count',\n",
       " 571: 'blame',\n",
       " 572: 'lucky',\n",
       " 573: 'boss',\n",
       " 574: 'or',\n",
       " 575: 'tennis',\n",
       " 576: 'bike',\n",
       " 577: 'light',\n",
       " 578: 'than',\n",
       " 579: 'ever',\n",
       " 580: 'bicycle',\n",
       " 581: 'brave',\n",
       " 582: 'full',\n",
       " 583: 'slept',\n",
       " 584: 'fired',\n",
       " 585: 'alive',\n",
       " 586: 'strong',\n",
       " 587: 'broken',\n",
       " 588: 'secret',\n",
       " 589: 'pizza',\n",
       " 590: 'things',\n",
       " 591: 'throw',\n",
       " 592: 'seem',\n",
       " 593: 'fix',\n",
       " 594: 'lazy',\n",
       " 595: 'forgot',\n",
       " 596: 'men',\n",
       " 597: 'liar',\n",
       " 598: 'child',\n",
       " 599: 'monday',\n",
       " 600: 'writing',\n",
       " 601: 'honest',\n",
       " 602: 'knife',\n",
       " 603: 'somebody',\n",
       " 604: 'week',\n",
       " 605: 'thing',\n",
       " 606: 'ice',\n",
       " 607: 'sleepy',\n",
       " 608: 'opened',\n",
       " 609: 'table',\n",
       " 610: 'trouble',\n",
       " 611: 'wake',\n",
       " 612: 'catch',\n",
       " 613: 'waited',\n",
       " 614: 'ugly',\n",
       " 615: 'boring',\n",
       " 616: 'pick',\n",
       " 617: 'saved',\n",
       " 618: 'gets',\n",
       " 619: 'girls',\n",
       " 620: 'explain',\n",
       " 621: 'feet',\n",
       " 622: 'japanese',\n",
       " 623: 'laughing',\n",
       " 624: 'wear',\n",
       " 625: 'wouldnt',\n",
       " 626: 'fly',\n",
       " 627: 'talked',\n",
       " 628: 'drives',\n",
       " 629: 'age',\n",
       " 630: 'blue',\n",
       " 631: 'rain',\n",
       " 632: 'send',\n",
       " 633: 'kissed',\n",
       " 634: 'correct',\n",
       " 635: 'park',\n",
       " 636: 'song',\n",
       " 637: 'betrayed',\n",
       " 638: 'behind',\n",
       " 639: 'excited',\n",
       " 640: 'taking',\n",
       " 641: 'legs',\n",
       " 642: 'question',\n",
       " 643: 'shoot',\n",
       " 644: 'hug',\n",
       " 645: 'sang',\n",
       " 646: 'ahead',\n",
       " 647: 'weak',\n",
       " 648: 'failed',\n",
       " 649: 'harder',\n",
       " 650: 'war',\n",
       " 651: 'strange',\n",
       " 652: 'pain',\n",
       " 653: 'woman',\n",
       " 654: 'second',\n",
       " 655: 'rules',\n",
       " 656: 'picture',\n",
       " 657: 'train',\n",
       " 658: 'taxi',\n",
       " 659: 'decision',\n",
       " 660: 'longer',\n",
       " 661: 'boys',\n",
       " 662: 'laugh',\n",
       " 663: 'curious',\n",
       " 664: 'apples',\n",
       " 665: 'coat',\n",
       " 666: 'trusted',\n",
       " 667: 'whatll',\n",
       " 668: 'advice',\n",
       " 669: 'playing',\n",
       " 670: 'tie',\n",
       " 671: 'havent',\n",
       " 672: 'letter',\n",
       " 673: 'tonight',\n",
       " 674: 'voice',\n",
       " 675: 'wearing',\n",
       " 676: 'wet',\n",
       " 677: 'welcome',\n",
       " 678: 'warm',\n",
       " 679: 'patient',\n",
       " 680: 'drank',\n",
       " 681: 'thirty',\n",
       " 682: 'smell',\n",
       " 683: 'eggs',\n",
       " 684: 'leaving',\n",
       " 685: 'sent',\n",
       " 686: 'invited',\n",
       " 687: 'gun',\n",
       " 688: 'empty',\n",
       " 689: 'arm',\n",
       " 690: 'meant',\n",
       " 691: 'together',\n",
       " 692: 'normal',\n",
       " 693: 'parents',\n",
       " 694: 'fishing',\n",
       " 695: 'golf',\n",
       " 696: 'making',\n",
       " 697: 'such',\n",
       " 698: 'badly',\n",
       " 699: 'window',\n",
       " 700: '230',\n",
       " 701: 'speaks',\n",
       " 702: 'driver',\n",
       " 703: 'deep',\n",
       " 704: 'warn',\n",
       " 705: 'god',\n",
       " 706: 'dad',\n",
       " 707: 'upstairs',\n",
       " 708: 'smoking',\n",
       " 709: 'nose',\n",
       " 710: 'danger',\n",
       " 711: 'listening',\n",
       " 712: 'surprised',\n",
       " 713: 'six',\n",
       " 714: 'ball',\n",
       " 715: 'truck',\n",
       " 716: 'party',\n",
       " 717: 'movie',\n",
       " 718: 'sound',\n",
       " 719: 'shirt',\n",
       " 720: 'begin',\n",
       " 721: 'wash',\n",
       " 722: 'tomll',\n",
       " 723: 'fit',\n",
       " 724: 'worry',\n",
       " 725: 'watched',\n",
       " 726: 'map',\n",
       " 727: 'studying',\n",
       " 728: 'downstairs',\n",
       " 729: 'comes',\n",
       " 730: 'beautiful',\n",
       " 731: 'important',\n",
       " 732: 'worse',\n",
       " 733: 'believed',\n",
       " 734: 'pleased',\n",
       " 735: 'waiting',\n",
       " 736: 'if',\n",
       " 737: 'same',\n",
       " 738: 'place',\n",
       " 739: 'choice',\n",
       " 740: 'mistake',\n",
       " 741: 'before',\n",
       " 742: 'smile',\n",
       " 743: 'save',\n",
       " 744: 'blind',\n",
       " 745: 'step',\n",
       " 746: 'along',\n",
       " 747: 'eaten',\n",
       " 748: 'contact',\n",
       " 749: 'deny',\n",
       " 750: 'learn',\n",
       " 751: 'possible',\n",
       " 752: 'cup',\n",
       " 753: 'baby',\n",
       " 754: 'desk',\n",
       " 755: 'bill',\n",
       " 756: 'swimming',\n",
       " 757: 'believes',\n",
       " 758: 'drove',\n",
       " 759: 'game',\n",
       " 760: 'cheated',\n",
       " 761: 'tough',\n",
       " 762: 'ours',\n",
       " 763: 'moved',\n",
       " 764: 'slowly',\n",
       " 765: 'forgive',\n",
       " 766: 'vote',\n",
       " 767: 'winning',\n",
       " 768: 'dress',\n",
       " 769: 'kid',\n",
       " 770: 'expert',\n",
       " 771: 'cooking',\n",
       " 772: 'death',\n",
       " 773: 'worth',\n",
       " 774: 'brothers',\n",
       " 775: 'afford',\n",
       " 776: 'camera',\n",
       " 777: 'terrible',\n",
       " 778: 'pencil',\n",
       " 779: 'bank',\n",
       " 780: 'promise',\n",
       " 781: 'woke',\n",
       " 782: 'duty',\n",
       " 783: 'air',\n",
       " 784: 'famous',\n",
       " 785: 'math',\n",
       " 786: 'naive',\n",
       " 787: 'dancing',\n",
       " 788: 'talks',\n",
       " 789: 'shall',\n",
       " 790: 'stole',\n",
       " 791: 'half',\n",
       " 792: 'jokes',\n",
       " 793: 'rarely',\n",
       " 794: 'sell',\n",
       " 795: 'bird',\n",
       " 796: 'pale',\n",
       " 797: 'minute',\n",
       " 798: 'succeed',\n",
       " 799: 'enjoyed',\n",
       " 800: 'everyones',\n",
       " 801: 'feeling',\n",
       " 802: 'marys',\n",
       " 803: 'whatre',\n",
       " 804: 'other',\n",
       " 805: 'hi',\n",
       " 806: 'goodbye',\n",
       " 807: 'weird',\n",
       " 808: 'luck',\n",
       " 809: 'return',\n",
       " 810: 'bath',\n",
       " 811: 'slow',\n",
       " 812: 'prefer',\n",
       " 813: 'guilty',\n",
       " 814: 'boat',\n",
       " 815: 'horses',\n",
       " 816: 'artist',\n",
       " 817: 'missing',\n",
       " 818: 'enemy',\n",
       " 819: 'city',\n",
       " 820: 'their',\n",
       " 821: 'barely',\n",
       " 822: 'removed',\n",
       " 823: 'soccer',\n",
       " 824: 'expect',\n",
       " 825: 'cheap',\n",
       " 826: 'message',\n",
       " 827: 'breakfast',\n",
       " 828: 'hardly',\n",
       " 829: 'mood',\n",
       " 830: 'rude',\n",
       " 831: 'resign',\n",
       " 832: 'dry',\n",
       " 833: 'agreed',\n",
       " 834: 'clever',\n",
       " 835: 'rice',\n",
       " 836: 'hated',\n",
       " 837: 'cash',\n",
       " 838: 'hugged',\n",
       " 839: 'noticed',\n",
       " 840: 'seldom',\n",
       " 841: 'snowing',\n",
       " 842: 'chess',\n",
       " 843: 'smells',\n",
       " 844: 'hide',\n",
       " 845: 'warned',\n",
       " 846: 'diary',\n",
       " 847: 'plays',\n",
       " 848: 'trip',\n",
       " 849: 'weight',\n",
       " 850: 'drop',\n",
       " 851: 'then',\n",
       " 852: 'hero',\n",
       " 853: 'losing',\n",
       " 854: 'green',\n",
       " 855: 'thatll',\n",
       " 856: 'closer',\n",
       " 857: 'fight',\n",
       " 858: 'shocked',\n",
       " 859: 'locked',\n",
       " 860: 'team',\n",
       " 861: 'ten',\n",
       " 862: 'women',\n",
       " 863: 'piano',\n",
       " 864: 'coward',\n",
       " 865: 'raining',\n",
       " 866: 'answered',\n",
       " 867: 'few',\n",
       " 868: 'fed',\n",
       " 869: 'saying',\n",
       " 870: 'moment',\n",
       " 871: 'tree',\n",
       " 872: 'raised',\n",
       " 873: 'polite',\n",
       " 874: 'also',\n",
       " 875: 'accept',\n",
       " 876: 'bananas',\n",
       " 877: 'handle',\n",
       " 878: 'summer',\n",
       " 879: 'noise',\n",
       " 880: 'wore',\n",
       " 881: 'near',\n",
       " 882: 'brought',\n",
       " 883: 'computer',\n",
       " 884: 'under',\n",
       " 885: 'proud',\n",
       " 886: 'expensive',\n",
       " 887: 'relax',\n",
       " 888: 'runs',\n",
       " 889: 'helps',\n",
       " 890: 'approve',\n",
       " 891: 'jump',\n",
       " 892: 'scream',\n",
       " 893: 'trying',\n",
       " 894: 'list',\n",
       " 895: 'nuts',\n",
       " 896: 'admire',\n",
       " 897: 'deserve',\n",
       " 898: 'cab',\n",
       " 899: 'fool',\n",
       " 900: 'fighting',\n",
       " 901: 'driving',\n",
       " 902: 'set',\n",
       " 903: 'scare',\n",
       " 904: 'flowers',\n",
       " 905: 'impressed',\n",
       " 906: 'end',\n",
       " 907: 'cousins',\n",
       " 908: 'point',\n",
       " 909: 'high',\n",
       " 910: 'interested',\n",
       " 911: 'sense',\n",
       " 912: 'hour',\n",
       " 913: 'exam',\n",
       " 914: 'regret',\n",
       " 915: 'protect',\n",
       " 916: 'disappointed',\n",
       " 917: 'probably',\n",
       " 918: 'address',\n",
       " 919: 'clothes',\n",
       " 920: 'join',\n",
       " 921: 'retired',\n",
       " 922: 'ignore',\n",
       " 923: 'choose',\n",
       " 924: 'moving',\n",
       " 925: 'built',\n",
       " 926: 'gas',\n",
       " 927: 'wealthy',\n",
       " 928: 'bite',\n",
       " 929: 'older',\n",
       " 930: 'naked',\n",
       " 931: 'sugar',\n",
       " 932: 'heavy',\n",
       " 933: 'apologize',\n",
       " 934: 'feed',\n",
       " 935: 'cars',\n",
       " 936: 'annoying',\n",
       " 937: 'helping',\n",
       " 938: 'nobodys',\n",
       " 939: 'risk',\n",
       " 940: 'abroad',\n",
       " 941: 'amazing',\n",
       " 942: 'nonsense',\n",
       " 943: 'act',\n",
       " 944: 'notice',\n",
       " 945: 'having',\n",
       " 946: 'delicious',\n",
       " 947: 'line',\n",
       " 948: 'students',\n",
       " 949: 'carefully',\n",
       " 950: 'mouth',\n",
       " 951: 'each',\n",
       " 952: 'cousin',\n",
       " 953: 'chance',\n",
       " 954: 'umbrella',\n",
       " 955: 'headache',\n",
       " 956: 'office',\n",
       " 957: 'hello',\n",
       " 958: 'excuse',\n",
       " 959: 'fixed',\n",
       " 960: 'prepared',\n",
       " 961: 'class',\n",
       " 962: 'healthy',\n",
       " 963: 'law',\n",
       " 964: 'unlucky',\n",
       " 965: 'wounded',\n",
       " 966: 'mess',\n",
       " 967: 'ship',\n",
       " 968: 'proof',\n",
       " 969: 'innocent',\n",
       " 970: 'walking',\n",
       " 971: 'goes',\n",
       " 972: 'smiling',\n",
       " 973: 'yelling',\n",
       " 974: 'followed',\n",
       " 975: 'ring',\n",
       " 976: 'dangerous',\n",
       " 977: 'different',\n",
       " 978: 'suit',\n",
       " 979: 'shower',\n",
       " 980: 'brown',\n",
       " 981: 'skinny',\n",
       " 982: 'taught',\n",
       " 983: 'paper',\n",
       " 984: '30',\n",
       " 985: 'fever',\n",
       " 986: 'homesick',\n",
       " 987: 'rather',\n",
       " 988: 'drinking',\n",
       " 989: 'husband',\n",
       " 990: 'studied',\n",
       " 991: 'learned',\n",
       " 992: 'ago',\n",
       " 993: 'cap',\n",
       " 994: 'australia',\n",
       " 995: 'werent',\n",
       " 996: 'whatever',\n",
       " 997: 'lock',\n",
       " 998: 'cruel',\n",
       " 999: 'hiding',\n",
       " 1000: 'town',\n",
       " ...}"
      ]
     },
     "execution_count": 11,
     "metadata": {},
     "output_type": "execute_result"
    }
   ],
   "source": [
    "eng_tokenizer.index_word"
   ]
  },
  {
   "cell_type": "code",
   "execution_count": 12,
   "metadata": {},
   "outputs": [
    {
     "name": "stdout",
     "output_type": "stream",
     "text": [
      "Deutch Vocabulary Size: 10329\n"
     ]
    }
   ],
   "source": [
    "# prepare Deutch tokenizer\n",
    "deu_tokenizer = tokenization(deu_eng[:, 1])\n",
    "deu_vocab_size = len(deu_tokenizer.word_index) + 1\n",
    "\n",
    "deu_length = 8\n",
    "print('Deutch Vocabulary Size: %d' % deu_vocab_size)"
   ]
  },
  {
   "cell_type": "markdown",
   "metadata": {},
   "source": [
    "- We tokenized the data — i.e., converted the words to word index.\n",
    "- When we run the tokenizer, it creates a word index, which is then used to convert each sentence to a vector."
   ]
  },
  {
   "cell_type": "code",
   "execution_count": 13,
   "metadata": {},
   "outputs": [],
   "source": [
    "# encode and pad sequences\n",
    "def encode_sequences(tokenizer, length, lines):\n",
    "    seq = tokenizer.texts_to_sequences(lines)\n",
    "    # pad sequences with 0 values\n",
    "    seq = pad_sequences(seq, maxlen=length, padding='post')\n",
    "    return seq"
   ]
  },
  {
   "cell_type": "markdown",
   "metadata": {},
   "source": [
    "- When we feed our sequences of word IDs into the model, each sequence needs to be the same length. To achieve this, padding is added to any sequence that is shorter than the max length (i.e. shorter than the longest sentence).\n",
    "\n",
    "![](https://miro.medium.com/max/1728/0*6jZTOE0P7_i7N8pn.png)"
   ]
  },
  {
   "cell_type": "markdown",
   "metadata": {},
   "source": [
    "## Model Building"
   ]
  },
  {
   "cell_type": "markdown",
   "metadata": {},
   "source": [
    "**First, let’s breakdown the architecture of an RNN at a high level. Referring to the diagram above, there are a few parts of the model we to be aware of:**\n",
    "\n",
    "- **Inputs.** Input sequences are fed into the model with one word for every time step. Each word is encoded as a unique integer so that it maps to the German dataset vocabulary.</li>\n",
    "\n",
    "- **Embedding Layers.** Embeddings are used to convert each word to a vector. The size of the vector depends on the complexity of the vocabulary.\n",
    "\n",
    "\n",
    "- **LSTM Layer (Encoder).** This is where the context from word vectors in previous time steps is applied to the current word vector.\n",
    "\n",
    "\n",
    "- **Dense Layers (Decoder).** These are typical fully connected layers used to decode the encoded input into the correct translation sequence.\n",
    "\n",
    "- The outputs are returned as a sequence of integers or one-hot encoded vectors which can then be mapped to the English dataset vocabulary.\n",
    "    \n",
    "    \n",
    "### Model Architecture\n",
    "\n",
    "![](https://cdn.analyticsvidhya.com/wp-content/uploads/2019/01/architecture.png)"
   ]
  },
  {
   "cell_type": "code",
   "execution_count": 14,
   "metadata": {},
   "outputs": [],
   "source": [
    "from sklearn.model_selection import train_test_split\n",
    "\n",
    "# split data into train and test set\n",
    "train, test = train_test_split(deu_eng, test_size=0.2, random_state = 12)"
   ]
  },
  {
   "cell_type": "markdown",
   "metadata": {},
   "source": [
    "It’s time to encode the sentences. We will encode German sentences as the input sequences and English sentences as the target sequences. This has to be done for both the train and test datasets.\n",
    "\n",
    "- Input is deutsche\n",
    "- Output is english"
   ]
  },
  {
   "cell_type": "code",
   "execution_count": 15,
   "metadata": {},
   "outputs": [],
   "source": [
    "# prepare training data\n",
    "trainX = encode_sequences(deu_tokenizer, deu_length, train[:, 1])   \n",
    "trainY = encode_sequences(eng_tokenizer, eng_length, train[:, 0])   \n",
    "\n",
    "# prepare validation data\n",
    "testX = encode_sequences(deu_tokenizer, deu_length, test[:, 1])\n",
    "testY = encode_sequences(eng_tokenizer, eng_length, test[:, 0])"
   ]
  },
  {
   "cell_type": "code",
   "execution_count": 16,
   "metadata": {},
   "outputs": [
    {
     "data": {
      "text/plain": [
       "array([[   1,   44,    7,   46,   40,   79,    0,    0],\n",
       "       [  17, 1994,   69,  319,    0,    0,    0,    0],\n",
       "       [  59, 2577,    2,    0,    0,    0,    0,    0],\n",
       "       [ 581,   46,   16,   15,  726,    0,    0,    0],\n",
       "       [  11,   25,   26, 1379,    0,    0,    0,    0]], dtype=int32)"
      ]
     },
     "execution_count": 16,
     "metadata": {},
     "output_type": "execute_result"
    }
   ],
   "source": [
    "trainX[:5]"
   ]
  },
  {
   "cell_type": "markdown",
   "metadata": {},
   "source": [
    "## Define the Model"
   ]
  },
  {
   "cell_type": "code",
   "execution_count": 17,
   "metadata": {},
   "outputs": [],
   "source": [
    "# build NMT model\n",
    "def define_model(in_vocab,out_vocab, in_timesteps,out_timesteps,units):\n",
    "    # sequential model for seq2seq network\n",
    "    model = Sequential()\n",
    "    # add embedding layer\n",
    "    model.add(Embedding(in_vocab, units, input_length=in_timesteps, mask_zero=True))\n",
    "    # LSTM network\n",
    "    model.add(LSTM(units))\n",
    "    model.add(RepeatVector(out_timesteps))\n",
    "    model.add(LSTM(units, return_sequences=True))\n",
    "    model.add(Dense(out_vocab, activation='softmax'))\n",
    "    return model"
   ]
  },
  {
   "cell_type": "code",
   "execution_count": 18,
   "metadata": {},
   "outputs": [],
   "source": [
    "# model compilation\n",
    "model = define_model(deu_vocab_size, eng_vocab_size, deu_length, eng_length, 512)"
   ]
  },
  {
   "cell_type": "code",
   "execution_count": 19,
   "metadata": {},
   "outputs": [],
   "source": [
    "rms = optimizers.RMSprop(learning_rate=0.001)\n",
    "model.compile(optimizer=rms, loss='sparse_categorical_crossentropy')"
   ]
  },
  {
   "cell_type": "markdown",
   "metadata": {},
   "source": [
    "- We are using the RMSprop optimizer.\n",
    "        \n",
    "- Here I have used ‘sparse_categorical_crossentropy‘ as the loss function. This is because the function allows us to use the target sequence as is, instead of the one-hot encoded format. One-hot encoding the target sequences using such a huge vocabulary might consume our system’s entire memory."
   ]
  },
  {
   "cell_type": "markdown",
   "metadata": {},
   "source": [
    "## Fit the Model"
   ]
  },
  {
   "cell_type": "markdown",
   "metadata": {},
   "source": [
    "*ModelCheckpoint()* function to save the model with the lowest validation loss. \n",
    "\n",
    "We are training for 30 epochs only. But in practice we should run for higher number of epochs. More epochs $\\rightarrow$ more training time"
   ]
  },
  {
   "cell_type": "code",
   "execution_count": 20,
   "metadata": {},
   "outputs": [],
   "source": [
    "filename = 'seq_2_seq_model'"
   ]
  },
  {
   "cell_type": "code",
   "execution_count": 21,
   "metadata": {},
   "outputs": [
    {
     "name": "stdout",
     "output_type": "stream",
     "text": [
      "Epoch 1/30\n",
      "250/250 [==============================] - ETA: 0s - loss: 3.2558\n",
      "Epoch 1: val_loss improved from inf to 2.81682, saving model to seq_2_seq_model\n"
     ]
    },
    {
     "name": "stderr",
     "output_type": "stream",
     "text": [
      "WARNING:absl:Found untraced functions such as _update_step_xla, lstm_cell_layer_call_fn, lstm_cell_layer_call_and_return_conditional_losses, lstm_cell_1_layer_call_fn, lstm_cell_1_layer_call_and_return_conditional_losses while saving (showing 5 of 5). These functions will not be directly callable after loading.\n"
     ]
    },
    {
     "name": "stdout",
     "output_type": "stream",
     "text": [
      "INFO:tensorflow:Assets written to: seq_2_seq_model/assets\n"
     ]
    },
    {
     "name": "stderr",
     "output_type": "stream",
     "text": [
      "INFO:tensorflow:Assets written to: seq_2_seq_model/assets\n"
     ]
    },
    {
     "name": "stdout",
     "output_type": "stream",
     "text": [
      "250/250 [==============================] - 181s 699ms/step - loss: 3.2558 - val_loss: 2.8168\n",
      "Epoch 2/30\n",
      "250/250 [==============================] - ETA: 0s - loss: 2.7595\n",
      "Epoch 2: val_loss improved from 2.81682 to 2.74142, saving model to seq_2_seq_model\n"
     ]
    },
    {
     "name": "stderr",
     "output_type": "stream",
     "text": [
      "WARNING:absl:Found untraced functions such as _update_step_xla, lstm_cell_layer_call_fn, lstm_cell_layer_call_and_return_conditional_losses, lstm_cell_1_layer_call_fn, lstm_cell_1_layer_call_and_return_conditional_losses while saving (showing 5 of 5). These functions will not be directly callable after loading.\n"
     ]
    },
    {
     "name": "stdout",
     "output_type": "stream",
     "text": [
      "INFO:tensorflow:Assets written to: seq_2_seq_model/assets\n"
     ]
    },
    {
     "name": "stderr",
     "output_type": "stream",
     "text": [
      "INFO:tensorflow:Assets written to: seq_2_seq_model/assets\n"
     ]
    },
    {
     "name": "stdout",
     "output_type": "stream",
     "text": [
      "250/250 [==============================] - 174s 695ms/step - loss: 2.7595 - val_loss: 2.7414\n",
      "Epoch 3/30\n",
      "250/250 [==============================] - ETA: 0s - loss: 2.6953\n",
      "Epoch 3: val_loss improved from 2.74142 to 2.66906, saving model to seq_2_seq_model\n"
     ]
    },
    {
     "name": "stderr",
     "output_type": "stream",
     "text": [
      "WARNING:absl:Found untraced functions such as _update_step_xla, lstm_cell_layer_call_fn, lstm_cell_layer_call_and_return_conditional_losses, lstm_cell_1_layer_call_fn, lstm_cell_1_layer_call_and_return_conditional_losses while saving (showing 5 of 5). These functions will not be directly callable after loading.\n"
     ]
    },
    {
     "name": "stdout",
     "output_type": "stream",
     "text": [
      "INFO:tensorflow:Assets written to: seq_2_seq_model/assets\n"
     ]
    },
    {
     "name": "stderr",
     "output_type": "stream",
     "text": [
      "INFO:tensorflow:Assets written to: seq_2_seq_model/assets\n"
     ]
    },
    {
     "name": "stdout",
     "output_type": "stream",
     "text": [
      "250/250 [==============================] - 170s 682ms/step - loss: 2.6953 - val_loss: 2.6691\n",
      "Epoch 4/30\n",
      "250/250 [==============================] - ETA: 0s - loss: 2.6144\n",
      "Epoch 4: val_loss improved from 2.66906 to 2.60052, saving model to seq_2_seq_model\n"
     ]
    },
    {
     "name": "stderr",
     "output_type": "stream",
     "text": [
      "WARNING:absl:Found untraced functions such as _update_step_xla, lstm_cell_layer_call_fn, lstm_cell_layer_call_and_return_conditional_losses, lstm_cell_1_layer_call_fn, lstm_cell_1_layer_call_and_return_conditional_losses while saving (showing 5 of 5). These functions will not be directly callable after loading.\n"
     ]
    },
    {
     "name": "stdout",
     "output_type": "stream",
     "text": [
      "INFO:tensorflow:Assets written to: seq_2_seq_model/assets\n"
     ]
    },
    {
     "name": "stderr",
     "output_type": "stream",
     "text": [
      "INFO:tensorflow:Assets written to: seq_2_seq_model/assets\n"
     ]
    },
    {
     "name": "stdout",
     "output_type": "stream",
     "text": [
      "250/250 [==============================] - 171s 683ms/step - loss: 2.6144 - val_loss: 2.6005\n",
      "Epoch 5/30\n",
      "250/250 [==============================] - ETA: 0s - loss: 2.5429\n",
      "Epoch 5: val_loss improved from 2.60052 to 2.52888, saving model to seq_2_seq_model\n"
     ]
    },
    {
     "name": "stderr",
     "output_type": "stream",
     "text": [
      "WARNING:absl:Found untraced functions such as _update_step_xla, lstm_cell_layer_call_fn, lstm_cell_layer_call_and_return_conditional_losses, lstm_cell_1_layer_call_fn, lstm_cell_1_layer_call_and_return_conditional_losses while saving (showing 5 of 5). These functions will not be directly callable after loading.\n"
     ]
    },
    {
     "name": "stdout",
     "output_type": "stream",
     "text": [
      "INFO:tensorflow:Assets written to: seq_2_seq_model/assets\n"
     ]
    },
    {
     "name": "stderr",
     "output_type": "stream",
     "text": [
      "INFO:tensorflow:Assets written to: seq_2_seq_model/assets\n"
     ]
    },
    {
     "name": "stdout",
     "output_type": "stream",
     "text": [
      "250/250 [==============================] - 171s 683ms/step - loss: 2.5429 - val_loss: 2.5289\n",
      "Epoch 6/30\n",
      "250/250 [==============================] - ETA: 0s - loss: 2.4635\n",
      "Epoch 6: val_loss improved from 2.52888 to 2.45120, saving model to seq_2_seq_model\n"
     ]
    },
    {
     "name": "stderr",
     "output_type": "stream",
     "text": [
      "WARNING:absl:Found untraced functions such as _update_step_xla, lstm_cell_layer_call_fn, lstm_cell_layer_call_and_return_conditional_losses, lstm_cell_1_layer_call_fn, lstm_cell_1_layer_call_and_return_conditional_losses while saving (showing 5 of 5). These functions will not be directly callable after loading.\n"
     ]
    },
    {
     "name": "stdout",
     "output_type": "stream",
     "text": [
      "INFO:tensorflow:Assets written to: seq_2_seq_model/assets\n"
     ]
    },
    {
     "name": "stderr",
     "output_type": "stream",
     "text": [
      "INFO:tensorflow:Assets written to: seq_2_seq_model/assets\n"
     ]
    },
    {
     "name": "stdout",
     "output_type": "stream",
     "text": [
      "250/250 [==============================] - 174s 695ms/step - loss: 2.4635 - val_loss: 2.4512\n",
      "Epoch 7/30\n",
      "250/250 [==============================] - ETA: 0s - loss: 2.3883\n",
      "Epoch 7: val_loss improved from 2.45120 to 2.38503, saving model to seq_2_seq_model\n"
     ]
    },
    {
     "name": "stderr",
     "output_type": "stream",
     "text": [
      "WARNING:absl:Found untraced functions such as _update_step_xla, lstm_cell_layer_call_fn, lstm_cell_layer_call_and_return_conditional_losses, lstm_cell_1_layer_call_fn, lstm_cell_1_layer_call_and_return_conditional_losses while saving (showing 5 of 5). These functions will not be directly callable after loading.\n"
     ]
    },
    {
     "name": "stdout",
     "output_type": "stream",
     "text": [
      "INFO:tensorflow:Assets written to: seq_2_seq_model/assets\n"
     ]
    },
    {
     "name": "stderr",
     "output_type": "stream",
     "text": [
      "INFO:tensorflow:Assets written to: seq_2_seq_model/assets\n"
     ]
    },
    {
     "name": "stdout",
     "output_type": "stream",
     "text": [
      "250/250 [==============================] - 172s 690ms/step - loss: 2.3883 - val_loss: 2.3850\n",
      "Epoch 8/30\n",
      "250/250 [==============================] - ETA: 0s - loss: 2.3198\n",
      "Epoch 8: val_loss improved from 2.38503 to 2.33724, saving model to seq_2_seq_model\n"
     ]
    },
    {
     "name": "stderr",
     "output_type": "stream",
     "text": [
      "WARNING:absl:Found untraced functions such as _update_step_xla, lstm_cell_layer_call_fn, lstm_cell_layer_call_and_return_conditional_losses, lstm_cell_1_layer_call_fn, lstm_cell_1_layer_call_and_return_conditional_losses while saving (showing 5 of 5). These functions will not be directly callable after loading.\n"
     ]
    },
    {
     "name": "stdout",
     "output_type": "stream",
     "text": [
      "INFO:tensorflow:Assets written to: seq_2_seq_model/assets\n"
     ]
    },
    {
     "name": "stderr",
     "output_type": "stream",
     "text": [
      "INFO:tensorflow:Assets written to: seq_2_seq_model/assets\n"
     ]
    },
    {
     "name": "stdout",
     "output_type": "stream",
     "text": [
      "250/250 [==============================] - 171s 685ms/step - loss: 2.3198 - val_loss: 2.3372\n",
      "Epoch 9/30\n",
      "250/250 [==============================] - ETA: 0s - loss: 2.2504\n",
      "Epoch 9: val_loss improved from 2.33724 to 2.26903, saving model to seq_2_seq_model\n"
     ]
    },
    {
     "name": "stderr",
     "output_type": "stream",
     "text": [
      "WARNING:absl:Found untraced functions such as _update_step_xla, lstm_cell_layer_call_fn, lstm_cell_layer_call_and_return_conditional_losses, lstm_cell_1_layer_call_fn, lstm_cell_1_layer_call_and_return_conditional_losses while saving (showing 5 of 5). These functions will not be directly callable after loading.\n"
     ]
    },
    {
     "name": "stdout",
     "output_type": "stream",
     "text": [
      "INFO:tensorflow:Assets written to: seq_2_seq_model/assets\n"
     ]
    },
    {
     "name": "stderr",
     "output_type": "stream",
     "text": [
      "INFO:tensorflow:Assets written to: seq_2_seq_model/assets\n"
     ]
    },
    {
     "name": "stdout",
     "output_type": "stream",
     "text": [
      "250/250 [==============================] - 171s 685ms/step - loss: 2.2504 - val_loss: 2.2690\n",
      "Epoch 10/30\n",
      "250/250 [==============================] - ETA: 0s - loss: 2.1800\n",
      "Epoch 10: val_loss improved from 2.26903 to 2.20972, saving model to seq_2_seq_model\n"
     ]
    },
    {
     "name": "stderr",
     "output_type": "stream",
     "text": [
      "WARNING:absl:Found untraced functions such as _update_step_xla, lstm_cell_layer_call_fn, lstm_cell_layer_call_and_return_conditional_losses, lstm_cell_1_layer_call_fn, lstm_cell_1_layer_call_and_return_conditional_losses while saving (showing 5 of 5). These functions will not be directly callable after loading.\n"
     ]
    },
    {
     "name": "stdout",
     "output_type": "stream",
     "text": [
      "INFO:tensorflow:Assets written to: seq_2_seq_model/assets\n"
     ]
    },
    {
     "name": "stderr",
     "output_type": "stream",
     "text": [
      "INFO:tensorflow:Assets written to: seq_2_seq_model/assets\n"
     ]
    },
    {
     "name": "stdout",
     "output_type": "stream",
     "text": [
      "250/250 [==============================] - 172s 687ms/step - loss: 2.1800 - val_loss: 2.2097\n",
      "Epoch 11/30\n",
      "250/250 [==============================] - ETA: 0s - loss: 2.1114\n",
      "Epoch 11: val_loss improved from 2.20972 to 2.15509, saving model to seq_2_seq_model\n"
     ]
    },
    {
     "name": "stderr",
     "output_type": "stream",
     "text": [
      "WARNING:absl:Found untraced functions such as _update_step_xla, lstm_cell_layer_call_fn, lstm_cell_layer_call_and_return_conditional_losses, lstm_cell_1_layer_call_fn, lstm_cell_1_layer_call_and_return_conditional_losses while saving (showing 5 of 5). These functions will not be directly callable after loading.\n"
     ]
    },
    {
     "name": "stdout",
     "output_type": "stream",
     "text": [
      "INFO:tensorflow:Assets written to: seq_2_seq_model/assets\n"
     ]
    },
    {
     "name": "stderr",
     "output_type": "stream",
     "text": [
      "INFO:tensorflow:Assets written to: seq_2_seq_model/assets\n"
     ]
    },
    {
     "name": "stdout",
     "output_type": "stream",
     "text": [
      "250/250 [==============================] - 172s 689ms/step - loss: 2.1114 - val_loss: 2.1551\n",
      "Epoch 12/30\n",
      "250/250 [==============================] - ETA: 0s - loss: 2.0502\n",
      "Epoch 12: val_loss improved from 2.15509 to 2.10058, saving model to seq_2_seq_model\n"
     ]
    },
    {
     "name": "stderr",
     "output_type": "stream",
     "text": [
      "WARNING:absl:Found untraced functions such as _update_step_xla, lstm_cell_layer_call_fn, lstm_cell_layer_call_and_return_conditional_losses, lstm_cell_1_layer_call_fn, lstm_cell_1_layer_call_and_return_conditional_losses while saving (showing 5 of 5). These functions will not be directly callable after loading.\n"
     ]
    },
    {
     "name": "stdout",
     "output_type": "stream",
     "text": [
      "INFO:tensorflow:Assets written to: seq_2_seq_model/assets\n"
     ]
    },
    {
     "name": "stderr",
     "output_type": "stream",
     "text": [
      "INFO:tensorflow:Assets written to: seq_2_seq_model/assets\n"
     ]
    },
    {
     "name": "stdout",
     "output_type": "stream",
     "text": [
      "250/250 [==============================] - 173s 692ms/step - loss: 2.0502 - val_loss: 2.1006\n",
      "Epoch 13/30\n",
      "250/250 [==============================] - ETA: 0s - loss: 1.9880\n",
      "Epoch 13: val_loss improved from 2.10058 to 2.04826, saving model to seq_2_seq_model\n"
     ]
    },
    {
     "name": "stderr",
     "output_type": "stream",
     "text": [
      "WARNING:absl:Found untraced functions such as _update_step_xla, lstm_cell_layer_call_fn, lstm_cell_layer_call_and_return_conditional_losses, lstm_cell_1_layer_call_fn, lstm_cell_1_layer_call_and_return_conditional_losses while saving (showing 5 of 5). These functions will not be directly callable after loading.\n"
     ]
    },
    {
     "name": "stdout",
     "output_type": "stream",
     "text": [
      "INFO:tensorflow:Assets written to: seq_2_seq_model/assets\n"
     ]
    },
    {
     "name": "stderr",
     "output_type": "stream",
     "text": [
      "INFO:tensorflow:Assets written to: seq_2_seq_model/assets\n"
     ]
    },
    {
     "name": "stdout",
     "output_type": "stream",
     "text": [
      "250/250 [==============================] - 171s 686ms/step - loss: 1.9880 - val_loss: 2.0483\n",
      "Epoch 14/30\n",
      "250/250 [==============================] - ETA: 0s - loss: 1.9268\n",
      "Epoch 14: val_loss improved from 2.04826 to 1.99435, saving model to seq_2_seq_model\n"
     ]
    },
    {
     "name": "stderr",
     "output_type": "stream",
     "text": [
      "WARNING:absl:Found untraced functions such as _update_step_xla, lstm_cell_layer_call_fn, lstm_cell_layer_call_and_return_conditional_losses, lstm_cell_1_layer_call_fn, lstm_cell_1_layer_call_and_return_conditional_losses while saving (showing 5 of 5). These functions will not be directly callable after loading.\n"
     ]
    },
    {
     "name": "stdout",
     "output_type": "stream",
     "text": [
      "INFO:tensorflow:Assets written to: seq_2_seq_model/assets\n"
     ]
    },
    {
     "name": "stderr",
     "output_type": "stream",
     "text": [
      "INFO:tensorflow:Assets written to: seq_2_seq_model/assets\n"
     ]
    },
    {
     "name": "stdout",
     "output_type": "stream",
     "text": [
      "250/250 [==============================] - 173s 691ms/step - loss: 1.9268 - val_loss: 1.9944\n",
      "Epoch 15/30\n",
      "250/250 [==============================] - ETA: 0s - loss: 1.8630\n",
      "Epoch 15: val_loss improved from 1.99435 to 1.94469, saving model to seq_2_seq_model\n"
     ]
    },
    {
     "name": "stderr",
     "output_type": "stream",
     "text": [
      "WARNING:absl:Found untraced functions such as _update_step_xla, lstm_cell_layer_call_fn, lstm_cell_layer_call_and_return_conditional_losses, lstm_cell_1_layer_call_fn, lstm_cell_1_layer_call_and_return_conditional_losses while saving (showing 5 of 5). These functions will not be directly callable after loading.\n"
     ]
    },
    {
     "name": "stdout",
     "output_type": "stream",
     "text": [
      "INFO:tensorflow:Assets written to: seq_2_seq_model/assets\n"
     ]
    },
    {
     "name": "stderr",
     "output_type": "stream",
     "text": [
      "INFO:tensorflow:Assets written to: seq_2_seq_model/assets\n"
     ]
    },
    {
     "name": "stdout",
     "output_type": "stream",
     "text": [
      "250/250 [==============================] - 173s 693ms/step - loss: 1.8630 - val_loss: 1.9447\n",
      "Epoch 16/30\n",
      "250/250 [==============================] - ETA: 0s - loss: 1.8019\n",
      "Epoch 16: val_loss improved from 1.94469 to 1.90764, saving model to seq_2_seq_model\n"
     ]
    },
    {
     "name": "stderr",
     "output_type": "stream",
     "text": [
      "WARNING:absl:Found untraced functions such as _update_step_xla, lstm_cell_layer_call_fn, lstm_cell_layer_call_and_return_conditional_losses, lstm_cell_1_layer_call_fn, lstm_cell_1_layer_call_and_return_conditional_losses while saving (showing 5 of 5). These functions will not be directly callable after loading.\n"
     ]
    },
    {
     "name": "stdout",
     "output_type": "stream",
     "text": [
      "INFO:tensorflow:Assets written to: seq_2_seq_model/assets\n"
     ]
    },
    {
     "name": "stderr",
     "output_type": "stream",
     "text": [
      "INFO:tensorflow:Assets written to: seq_2_seq_model/assets\n"
     ]
    },
    {
     "name": "stdout",
     "output_type": "stream",
     "text": [
      "250/250 [==============================] - 173s 690ms/step - loss: 1.8019 - val_loss: 1.9076\n",
      "Epoch 17/30\n",
      "250/250 [==============================] - ETA: 0s - loss: 1.7394\n",
      "Epoch 17: val_loss improved from 1.90764 to 1.85782, saving model to seq_2_seq_model\n"
     ]
    },
    {
     "name": "stderr",
     "output_type": "stream",
     "text": [
      "WARNING:absl:Found untraced functions such as _update_step_xla, lstm_cell_layer_call_fn, lstm_cell_layer_call_and_return_conditional_losses, lstm_cell_1_layer_call_fn, lstm_cell_1_layer_call_and_return_conditional_losses while saving (showing 5 of 5). These functions will not be directly callable after loading.\n"
     ]
    },
    {
     "name": "stdout",
     "output_type": "stream",
     "text": [
      "INFO:tensorflow:Assets written to: seq_2_seq_model/assets\n"
     ]
    },
    {
     "name": "stderr",
     "output_type": "stream",
     "text": [
      "INFO:tensorflow:Assets written to: seq_2_seq_model/assets\n"
     ]
    },
    {
     "name": "stdout",
     "output_type": "stream",
     "text": [
      "250/250 [==============================] - 173s 692ms/step - loss: 1.7394 - val_loss: 1.8578\n",
      "Epoch 18/30\n",
      "250/250 [==============================] - ETA: 0s - loss: 1.6793\n",
      "Epoch 18: val_loss improved from 1.85782 to 1.79968, saving model to seq_2_seq_model\n"
     ]
    },
    {
     "name": "stderr",
     "output_type": "stream",
     "text": [
      "WARNING:absl:Found untraced functions such as _update_step_xla, lstm_cell_layer_call_fn, lstm_cell_layer_call_and_return_conditional_losses, lstm_cell_1_layer_call_fn, lstm_cell_1_layer_call_and_return_conditional_losses while saving (showing 5 of 5). These functions will not be directly callable after loading.\n"
     ]
    },
    {
     "name": "stdout",
     "output_type": "stream",
     "text": [
      "INFO:tensorflow:Assets written to: seq_2_seq_model/assets\n"
     ]
    },
    {
     "name": "stderr",
     "output_type": "stream",
     "text": [
      "INFO:tensorflow:Assets written to: seq_2_seq_model/assets\n"
     ]
    },
    {
     "name": "stdout",
     "output_type": "stream",
     "text": [
      "250/250 [==============================] - 172s 689ms/step - loss: 1.6793 - val_loss: 1.7997\n",
      "Epoch 19/30\n",
      "250/250 [==============================] - ETA: 0s - loss: 1.6230\n",
      "Epoch 19: val_loss improved from 1.79968 to 1.77021, saving model to seq_2_seq_model\n"
     ]
    },
    {
     "name": "stderr",
     "output_type": "stream",
     "text": [
      "WARNING:absl:Found untraced functions such as _update_step_xla, lstm_cell_layer_call_fn, lstm_cell_layer_call_and_return_conditional_losses, lstm_cell_1_layer_call_fn, lstm_cell_1_layer_call_and_return_conditional_losses while saving (showing 5 of 5). These functions will not be directly callable after loading.\n"
     ]
    },
    {
     "name": "stdout",
     "output_type": "stream",
     "text": [
      "INFO:tensorflow:Assets written to: seq_2_seq_model/assets\n"
     ]
    },
    {
     "name": "stderr",
     "output_type": "stream",
     "text": [
      "INFO:tensorflow:Assets written to: seq_2_seq_model/assets\n"
     ]
    },
    {
     "name": "stdout",
     "output_type": "stream",
     "text": [
      "250/250 [==============================] - 173s 693ms/step - loss: 1.6230 - val_loss: 1.7702\n",
      "Epoch 20/30\n",
      "250/250 [==============================] - ETA: 0s - loss: 1.5691\n",
      "Epoch 20: val_loss improved from 1.77021 to 1.72420, saving model to seq_2_seq_model\n"
     ]
    },
    {
     "name": "stderr",
     "output_type": "stream",
     "text": [
      "WARNING:absl:Found untraced functions such as _update_step_xla, lstm_cell_layer_call_fn, lstm_cell_layer_call_and_return_conditional_losses, lstm_cell_1_layer_call_fn, lstm_cell_1_layer_call_and_return_conditional_losses while saving (showing 5 of 5). These functions will not be directly callable after loading.\n"
     ]
    },
    {
     "name": "stdout",
     "output_type": "stream",
     "text": [
      "INFO:tensorflow:Assets written to: seq_2_seq_model/assets\n"
     ]
    },
    {
     "name": "stderr",
     "output_type": "stream",
     "text": [
      "INFO:tensorflow:Assets written to: seq_2_seq_model/assets\n"
     ]
    },
    {
     "name": "stdout",
     "output_type": "stream",
     "text": [
      "250/250 [==============================] - 173s 694ms/step - loss: 1.5691 - val_loss: 1.7242\n",
      "Epoch 21/30\n",
      "250/250 [==============================] - ETA: 0s - loss: 1.5182\n",
      "Epoch 21: val_loss improved from 1.72420 to 1.68791, saving model to seq_2_seq_model\n"
     ]
    },
    {
     "name": "stderr",
     "output_type": "stream",
     "text": [
      "WARNING:absl:Found untraced functions such as _update_step_xla, lstm_cell_layer_call_fn, lstm_cell_layer_call_and_return_conditional_losses, lstm_cell_1_layer_call_fn, lstm_cell_1_layer_call_and_return_conditional_losses while saving (showing 5 of 5). These functions will not be directly callable after loading.\n"
     ]
    },
    {
     "name": "stdout",
     "output_type": "stream",
     "text": [
      "INFO:tensorflow:Assets written to: seq_2_seq_model/assets\n"
     ]
    },
    {
     "name": "stderr",
     "output_type": "stream",
     "text": [
      "INFO:tensorflow:Assets written to: seq_2_seq_model/assets\n"
     ]
    },
    {
     "name": "stdout",
     "output_type": "stream",
     "text": [
      "250/250 [==============================] - 174s 697ms/step - loss: 1.5182 - val_loss: 1.6879\n",
      "Epoch 22/30\n",
      "250/250 [==============================] - ETA: 0s - loss: 1.4680\n",
      "Epoch 22: val_loss improved from 1.68791 to 1.66287, saving model to seq_2_seq_model\n"
     ]
    },
    {
     "name": "stderr",
     "output_type": "stream",
     "text": [
      "WARNING:absl:Found untraced functions such as _update_step_xla, lstm_cell_layer_call_fn, lstm_cell_layer_call_and_return_conditional_losses, lstm_cell_1_layer_call_fn, lstm_cell_1_layer_call_and_return_conditional_losses while saving (showing 5 of 5). These functions will not be directly callable after loading.\n"
     ]
    },
    {
     "name": "stdout",
     "output_type": "stream",
     "text": [
      "INFO:tensorflow:Assets written to: seq_2_seq_model/assets\n"
     ]
    },
    {
     "name": "stderr",
     "output_type": "stream",
     "text": [
      "INFO:tensorflow:Assets written to: seq_2_seq_model/assets\n"
     ]
    },
    {
     "name": "stdout",
     "output_type": "stream",
     "text": [
      "250/250 [==============================] - 173s 692ms/step - loss: 1.4680 - val_loss: 1.6629\n",
      "Epoch 23/30\n",
      "250/250 [==============================] - ETA: 0s - loss: 1.4207\n",
      "Epoch 23: val_loss improved from 1.66287 to 1.62860, saving model to seq_2_seq_model\n"
     ]
    },
    {
     "name": "stderr",
     "output_type": "stream",
     "text": [
      "WARNING:absl:Found untraced functions such as _update_step_xla, lstm_cell_layer_call_fn, lstm_cell_layer_call_and_return_conditional_losses, lstm_cell_1_layer_call_fn, lstm_cell_1_layer_call_and_return_conditional_losses while saving (showing 5 of 5). These functions will not be directly callable after loading.\n"
     ]
    },
    {
     "name": "stdout",
     "output_type": "stream",
     "text": [
      "INFO:tensorflow:Assets written to: seq_2_seq_model/assets\n"
     ]
    },
    {
     "name": "stderr",
     "output_type": "stream",
     "text": [
      "INFO:tensorflow:Assets written to: seq_2_seq_model/assets\n"
     ]
    },
    {
     "name": "stdout",
     "output_type": "stream",
     "text": [
      "250/250 [==============================] - 174s 695ms/step - loss: 1.4207 - val_loss: 1.6286\n",
      "Epoch 24/30\n",
      "250/250 [==============================] - ETA: 0s - loss: 1.3760\n",
      "Epoch 24: val_loss improved from 1.62860 to 1.59944, saving model to seq_2_seq_model\n"
     ]
    },
    {
     "name": "stderr",
     "output_type": "stream",
     "text": [
      "WARNING:absl:Found untraced functions such as _update_step_xla, lstm_cell_layer_call_fn, lstm_cell_layer_call_and_return_conditional_losses, lstm_cell_1_layer_call_fn, lstm_cell_1_layer_call_and_return_conditional_losses while saving (showing 5 of 5). These functions will not be directly callable after loading.\n"
     ]
    },
    {
     "name": "stdout",
     "output_type": "stream",
     "text": [
      "INFO:tensorflow:Assets written to: seq_2_seq_model/assets\n"
     ]
    },
    {
     "name": "stderr",
     "output_type": "stream",
     "text": [
      "INFO:tensorflow:Assets written to: seq_2_seq_model/assets\n"
     ]
    },
    {
     "name": "stdout",
     "output_type": "stream",
     "text": [
      "250/250 [==============================] - 174s 697ms/step - loss: 1.3760 - val_loss: 1.5994\n",
      "Epoch 25/30\n",
      "250/250 [==============================] - ETA: 0s - loss: 1.3309\n",
      "Epoch 25: val_loss improved from 1.59944 to 1.58616, saving model to seq_2_seq_model\n"
     ]
    },
    {
     "name": "stderr",
     "output_type": "stream",
     "text": [
      "WARNING:absl:Found untraced functions such as _update_step_xla, lstm_cell_layer_call_fn, lstm_cell_layer_call_and_return_conditional_losses, lstm_cell_1_layer_call_fn, lstm_cell_1_layer_call_and_return_conditional_losses while saving (showing 5 of 5). These functions will not be directly callable after loading.\n"
     ]
    },
    {
     "name": "stdout",
     "output_type": "stream",
     "text": [
      "INFO:tensorflow:Assets written to: seq_2_seq_model/assets\n"
     ]
    },
    {
     "name": "stderr",
     "output_type": "stream",
     "text": [
      "INFO:tensorflow:Assets written to: seq_2_seq_model/assets\n"
     ]
    },
    {
     "name": "stdout",
     "output_type": "stream",
     "text": [
      "250/250 [==============================] - 173s 694ms/step - loss: 1.3309 - val_loss: 1.5862\n",
      "Epoch 26/30\n",
      "250/250 [==============================] - ETA: 0s - loss: 1.2876\n",
      "Epoch 26: val_loss improved from 1.58616 to 1.55482, saving model to seq_2_seq_model\n"
     ]
    },
    {
     "name": "stderr",
     "output_type": "stream",
     "text": [
      "WARNING:absl:Found untraced functions such as _update_step_xla, lstm_cell_layer_call_fn, lstm_cell_layer_call_and_return_conditional_losses, lstm_cell_1_layer_call_fn, lstm_cell_1_layer_call_and_return_conditional_losses while saving (showing 5 of 5). These functions will not be directly callable after loading.\n"
     ]
    },
    {
     "name": "stdout",
     "output_type": "stream",
     "text": [
      "INFO:tensorflow:Assets written to: seq_2_seq_model/assets\n"
     ]
    },
    {
     "name": "stderr",
     "output_type": "stream",
     "text": [
      "INFO:tensorflow:Assets written to: seq_2_seq_model/assets\n"
     ]
    },
    {
     "name": "stdout",
     "output_type": "stream",
     "text": [
      "250/250 [==============================] - 173s 692ms/step - loss: 1.2876 - val_loss: 1.5548\n",
      "Epoch 27/30\n",
      "250/250 [==============================] - ETA: 0s - loss: 1.2469\n",
      "Epoch 27: val_loss improved from 1.55482 to 1.52435, saving model to seq_2_seq_model\n"
     ]
    },
    {
     "name": "stderr",
     "output_type": "stream",
     "text": [
      "WARNING:absl:Found untraced functions such as _update_step_xla, lstm_cell_layer_call_fn, lstm_cell_layer_call_and_return_conditional_losses, lstm_cell_1_layer_call_fn, lstm_cell_1_layer_call_and_return_conditional_losses while saving (showing 5 of 5). These functions will not be directly callable after loading.\n"
     ]
    },
    {
     "name": "stdout",
     "output_type": "stream",
     "text": [
      "INFO:tensorflow:Assets written to: seq_2_seq_model/assets\n"
     ]
    },
    {
     "name": "stderr",
     "output_type": "stream",
     "text": [
      "INFO:tensorflow:Assets written to: seq_2_seq_model/assets\n"
     ]
    },
    {
     "name": "stdout",
     "output_type": "stream",
     "text": [
      "250/250 [==============================] - 175s 699ms/step - loss: 1.2469 - val_loss: 1.5243\n",
      "Epoch 28/30\n",
      "250/250 [==============================] - ETA: 0s - loss: 1.2050\n",
      "Epoch 28: val_loss improved from 1.52435 to 1.51782, saving model to seq_2_seq_model\n"
     ]
    },
    {
     "name": "stderr",
     "output_type": "stream",
     "text": [
      "WARNING:absl:Found untraced functions such as _update_step_xla, lstm_cell_layer_call_fn, lstm_cell_layer_call_and_return_conditional_losses, lstm_cell_1_layer_call_fn, lstm_cell_1_layer_call_and_return_conditional_losses while saving (showing 5 of 5). These functions will not be directly callable after loading.\n"
     ]
    },
    {
     "name": "stdout",
     "output_type": "stream",
     "text": [
      "INFO:tensorflow:Assets written to: seq_2_seq_model/assets\n"
     ]
    },
    {
     "name": "stderr",
     "output_type": "stream",
     "text": [
      "INFO:tensorflow:Assets written to: seq_2_seq_model/assets\n"
     ]
    },
    {
     "name": "stdout",
     "output_type": "stream",
     "text": [
      "250/250 [==============================] - 175s 700ms/step - loss: 1.2050 - val_loss: 1.5178\n",
      "Epoch 29/30\n",
      "250/250 [==============================] - ETA: 0s - loss: 1.1647\n",
      "Epoch 29: val_loss improved from 1.51782 to 1.50140, saving model to seq_2_seq_model\n"
     ]
    },
    {
     "name": "stderr",
     "output_type": "stream",
     "text": [
      "WARNING:absl:Found untraced functions such as _update_step_xla, lstm_cell_layer_call_fn, lstm_cell_layer_call_and_return_conditional_losses, lstm_cell_1_layer_call_fn, lstm_cell_1_layer_call_and_return_conditional_losses while saving (showing 5 of 5). These functions will not be directly callable after loading.\n"
     ]
    },
    {
     "name": "stdout",
     "output_type": "stream",
     "text": [
      "INFO:tensorflow:Assets written to: seq_2_seq_model/assets\n"
     ]
    },
    {
     "name": "stderr",
     "output_type": "stream",
     "text": [
      "INFO:tensorflow:Assets written to: seq_2_seq_model/assets\n"
     ]
    },
    {
     "name": "stdout",
     "output_type": "stream",
     "text": [
      "250/250 [==============================] - 173s 692ms/step - loss: 1.1647 - val_loss: 1.5014\n",
      "Epoch 30/30\n",
      "250/250 [==============================] - ETA: 0s - loss: 1.1269\n",
      "Epoch 30: val_loss improved from 1.50140 to 1.46639, saving model to seq_2_seq_model\n"
     ]
    },
    {
     "name": "stderr",
     "output_type": "stream",
     "text": [
      "WARNING:absl:Found untraced functions such as _update_step_xla, lstm_cell_layer_call_fn, lstm_cell_layer_call_and_return_conditional_losses, lstm_cell_1_layer_call_fn, lstm_cell_1_layer_call_and_return_conditional_losses while saving (showing 5 of 5). These functions will not be directly callable after loading.\n"
     ]
    },
    {
     "name": "stdout",
     "output_type": "stream",
     "text": [
      "INFO:tensorflow:Assets written to: seq_2_seq_model/assets\n"
     ]
    },
    {
     "name": "stderr",
     "output_type": "stream",
     "text": [
      "INFO:tensorflow:Assets written to: seq_2_seq_model/assets\n"
     ]
    },
    {
     "name": "stdout",
     "output_type": "stream",
     "text": [
      "\b\b\b\b\b\b\b\b\b\b\b\b\b\b\b\b\b\b\b\b\b\b\b\b\b\b\b\b\b\b\b\b\b\b\b\b\b\b\b\b\b\b\b\b\b\b\b\b\b\b\b\b\b\b\b\b\b\b\b\b\b\b\b\b\b\r",
      "250/250 [==============================] - 173s 694ms/step - loss: 1.1269 - val_loss: 1.4664\n"
     ]
    }
   ],
   "source": [
    "checkpoint = ModelCheckpoint(filename, monitor='val_loss', verbose=1, save_best_only=True, mode='min')\n",
    "\n",
    "# train model\n",
    "history = model.fit(trainX, trainY.reshape(trainY.shape[0], trainY.shape[1], 1),\n",
    "                    epochs=30, batch_size=128, validation_split = 0.2,callbacks=[checkpoint], \n",
    "                    verbose=1)"
   ]
  },
  {
   "cell_type": "code",
   "execution_count": 22,
   "metadata": {},
   "outputs": [
    {
     "data": {
      "image/png": "[encoded data removed]",
      "text/plain": [
       "<Figure size 576x432 with 1 Axes>"
      ]
     },
     "metadata": {
      "needs_background": "light"
     },
     "output_type": "display_data"
    }
   ],
   "source": [
    "plt.figure(figsize=(8,6))\n",
    "plt.plot(history.history['loss'])\n",
    "plt.plot(history.history['val_loss'])\n",
    "plt.legend(['training loss','validation loss'])\n",
    "plt.grid()\n",
    "plt.title(\"Loss vs epochs\",fontsize=16)\n",
    "plt.show()"
   ]
  },
  {
   "cell_type": "markdown",
   "metadata": {},
   "source": [
    "## Prediction on unseen data"
   ]
  },
  {
   "cell_type": "markdown",
   "metadata": {},
   "source": [
    "As we have saved the model, we need not to train it again and we can load the saved model."
   ]
  },
  {
   "cell_type": "code",
   "execution_count": 23,
   "metadata": {},
   "outputs": [],
   "source": [
    "model = load_model(filename)"
   ]
  },
  {
   "cell_type": "code",
   "execution_count": 24,
   "metadata": {},
   "outputs": [
    {
     "name": "stdout",
     "output_type": "stream",
     "text": [
      "Model: \"sequential\"\n",
      "_________________________________________________________________\n",
      " Layer (type)                Output Shape              Param #   \n",
      "=================================================================\n",
      " embedding (Embedding)       (None, 8, 512)            5288448   \n",
      "                                                                 \n",
      " lstm (LSTM)                 (None, 512)               2099200   \n",
      "                                                                 \n",
      " repeat_vector (RepeatVector  (None, 8, 512)           0         \n",
      " )                                                               \n",
      "                                                                 \n",
      " lstm_1 (LSTM)               (None, 8, 512)            2099200   \n",
      "                                                                 \n",
      " dense (Dense)               (None, 8, 6256)           3209328   \n",
      "                                                                 \n",
      "=================================================================\n",
      "Total params: 12,696,176\n",
      "Trainable params: 12,696,176\n",
      "Non-trainable params: 0\n",
      "_________________________________________________________________\n"
     ]
    }
   ],
   "source": [
    "model.summary()"
   ]
  },
  {
   "cell_type": "markdown",
   "metadata": {},
   "source": [
    "**Generating predictions**"
   ]
  },
  {
   "cell_type": "code",
   "execution_count": 25,
   "metadata": {},
   "outputs": [
    {
     "name": "stdout",
     "output_type": "stream",
     "text": [
      "8/8 [==============================] - 4s 194ms/step\n"
     ]
    }
   ],
   "source": [
    "preds = model.predict(testX.reshape((testX.shape[0],testX.shape[1]))[:1024,:],batch_size=128)"
   ]
  },
  {
   "cell_type": "code",
   "execution_count": 26,
   "metadata": {},
   "outputs": [],
   "source": [
    "preds = preds.argmax(axis=2)"
   ]
  },
  {
   "cell_type": "code",
   "execution_count": 27,
   "metadata": {},
   "outputs": [],
   "source": [
    "def get_word(n, tokenizer):\n",
    "    for word, index in tokenizer.word_index.items():\n",
    "        if index == n:\n",
    "            return word\n",
    "    return None"
   ]
  },
  {
   "cell_type": "code",
   "execution_count": 28,
   "metadata": {},
   "outputs": [],
   "source": [
    "preds_text = []\n",
    "for i in preds:\n",
    "    temp = []\n",
    "    for j in range(len(i)):\n",
    "        t = get_word(i[j], eng_tokenizer)\n",
    "        if j > 0:\n",
    "            if (t == get_word(i[j-1], eng_tokenizer)) or (t == None):\n",
    "                temp.append('')\n",
    "            else:\n",
    "                temp.append(t)\n",
    "        else:\n",
    "            if(t == None):\n",
    "                temp.append('')\n",
    "            else:\n",
    "                temp.append(t) \n",
    "\n",
    "    preds_text.append(' '.join(temp))"
   ]
  },
  {
   "cell_type": "code",
   "execution_count": 29,
   "metadata": {},
   "outputs": [],
   "source": [
    "pred_df = pd.DataFrame({'actual' : test[:1024,0], 'predicted' : preds_text})"
   ]
  },
  {
   "cell_type": "code",
   "execution_count": 31,
   "metadata": {},
   "outputs": [
    {
     "data": {
      "text/html": [
       "<div>\n",
       "<style scoped>\n",
       "    .dataframe tbody tr th:only-of-type {\n",
       "        vertical-align: middle;\n",
       "    }\n",
       "\n",
       "    .dataframe tbody tr th {\n",
       "        vertical-align: top;\n",
       "    }\n",
       "\n",
       "    .dataframe thead th {\n",
       "        text-align: right;\n",
       "    }\n",
       "</style>\n",
       "<table border=\"1\" class=\"dataframe\">\n",
       "  <thead>\n",
       "    <tr style=\"text-align: right;\">\n",
       "      <th></th>\n",
       "      <th>actual</th>\n",
       "      <th>predicted</th>\n",
       "    </tr>\n",
       "  </thead>\n",
       "  <tbody>\n",
       "    <tr>\n",
       "      <th>0</th>\n",
       "      <td>i know that already</td>\n",
       "      <td>i know  that</td>\n",
       "    </tr>\n",
       "    <tr>\n",
       "      <th>1</th>\n",
       "      <td>whos she</td>\n",
       "      <td>who is</td>\n",
       "    </tr>\n",
       "    <tr>\n",
       "      <th>2</th>\n",
       "      <td>do you have it</td>\n",
       "      <td>did you</td>\n",
       "    </tr>\n",
       "    <tr>\n",
       "      <th>3</th>\n",
       "      <td>use your feet</td>\n",
       "      <td>put your</td>\n",
       "    </tr>\n",
       "    <tr>\n",
       "      <th>4</th>\n",
       "      <td>that was the trouble</td>\n",
       "      <td>tom came</td>\n",
       "    </tr>\n",
       "    <tr>\n",
       "      <th>5</th>\n",
       "      <td>he took off his coat</td>\n",
       "      <td>he took his</td>\n",
       "    </tr>\n",
       "    <tr>\n",
       "      <th>6</th>\n",
       "      <td>tom went sightseeing</td>\n",
       "      <td>tom took the</td>\n",
       "    </tr>\n",
       "    <tr>\n",
       "      <th>7</th>\n",
       "      <td>i tried on the shoes</td>\n",
       "      <td>i took the</td>\n",
       "    </tr>\n",
       "    <tr>\n",
       "      <th>8</th>\n",
       "      <td>open those doors</td>\n",
       "      <td>open the door</td>\n",
       "    </tr>\n",
       "    <tr>\n",
       "      <th>9</th>\n",
       "      <td>ive got to help tom</td>\n",
       "      <td>i have to help tom</td>\n",
       "    </tr>\n",
       "    <tr>\n",
       "      <th>10</th>\n",
       "      <td>its my money</td>\n",
       "      <td>its is money</td>\n",
       "    </tr>\n",
       "    <tr>\n",
       "      <th>11</th>\n",
       "      <td>is it time</td>\n",
       "      <td>is it time</td>\n",
       "    </tr>\n",
       "    <tr>\n",
       "      <th>12</th>\n",
       "      <td>i cant watch</td>\n",
       "      <td>i cant get</td>\n",
       "    </tr>\n",
       "    <tr>\n",
       "      <th>13</th>\n",
       "      <td>he wants more</td>\n",
       "      <td>he wants to</td>\n",
       "    </tr>\n",
       "    <tr>\n",
       "      <th>14</th>\n",
       "      <td>who did you see</td>\n",
       "      <td>who did you know</td>\n",
       "    </tr>\n",
       "    <tr>\n",
       "      <th>15</th>\n",
       "      <td>suit yourself</td>\n",
       "      <td>where did you want</td>\n",
       "    </tr>\n",
       "    <tr>\n",
       "      <th>16</th>\n",
       "      <td>how much does it cost</td>\n",
       "      <td>how much did it</td>\n",
       "    </tr>\n",
       "    <tr>\n",
       "      <th>17</th>\n",
       "      <td>youll miss me</td>\n",
       "      <td>you miss me</td>\n",
       "    </tr>\n",
       "    <tr>\n",
       "      <th>18</th>\n",
       "      <td>eat anything you like</td>\n",
       "      <td>do where you love</td>\n",
       "    </tr>\n",
       "    <tr>\n",
       "      <th>19</th>\n",
       "      <td>i am undressing</td>\n",
       "      <td>i remember</td>\n",
       "    </tr>\n",
       "  </tbody>\n",
       "</table>\n",
       "</div>"
      ],
      "text/plain": [
       "                   actual               predicted\n",
       "0     i know that already        i know  that    \n",
       "1                whos she            who is      \n",
       "2          do you have it           did you      \n",
       "3           use your feet          put your      \n",
       "4    that was the trouble          tom came      \n",
       "5    he took off his coat        he took his     \n",
       "6    tom went sightseeing       tom took the     \n",
       "7    i tried on the shoes         i took the     \n",
       "8        open those doors      open the door     \n",
       "9     ive got to help tom   i have to help tom   \n",
       "10           its my money       its is money     \n",
       "11             is it time         is it time     \n",
       "12           i cant watch         i cant get     \n",
       "13          he wants more        he wants to     \n",
       "14        who did you see    who did you know    \n",
       "15          suit yourself  where did you want    \n",
       "16  how much does it cost     how much did it    \n",
       "17          youll miss me        you miss me     \n",
       "18  eat anything you like   do where you love    \n",
       "19        i am undressing        i remember      "
      ]
     },
     "execution_count": 31,
     "metadata": {},
     "output_type": "execute_result"
    }
   ],
   "source": [
    "pred_df.head(20)"
   ]
  },
  {
   "cell_type": "markdown",
   "metadata": {},
   "source": [
    "## CONCLUSION\n",
    "\n",
    "- Our Seq2Seq model does a decent job. But there are several instances where it misses out on understanding the key words.\n",
    "- We can obtain better results by using more training data and building a better (or more complex) model."
   ]
  },
  {
   "cell_type": "code",
   "execution_count": null,
   "metadata": {},
   "outputs": [],
   "source": []
  }
 ],
 "metadata": {
  "kernelspec": {
   "display_name": "Python 3",
   "language": "python",
   "name": "python3"
  },
  "language_info": {
   "codemirror_mode": {
    "name": "ipython",
    "version": 3
   },
   "file_extension": ".py",
   "mimetype": "text/x-python",
   "name": "python",
   "nbconvert_exporter": "python",
   "pygments_lexer": "ipython3",
   "version": "3.8.5"
  }
 },
 "nbformat": 4,
 "nbformat_minor": 4
}
