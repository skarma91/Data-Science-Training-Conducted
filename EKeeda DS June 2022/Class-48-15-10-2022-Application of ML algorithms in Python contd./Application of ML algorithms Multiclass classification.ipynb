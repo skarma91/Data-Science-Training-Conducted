{
 "cells": [
  {
   "cell_type": "markdown",
   "id": "cf370599",
   "metadata": {},
   "source": [
    "# Wine quality prediction using machine learning"
   ]
  },
  {
   "cell_type": "markdown",
   "id": "056ff979",
   "metadata": {},
   "source": [
    "## Get the data"
   ]
  },
  {
   "cell_type": "code",
   "execution_count": 1,
   "id": "fa79d838",
   "metadata": {
    "ExecuteTime": {
     "end_time": "2022-10-15T14:10:56.257481Z",
     "start_time": "2022-10-15T14:10:53.485168Z"
    }
   },
   "outputs": [],
   "source": [
    "import pandas as pd\n",
    "import numpy as np\n",
    "import matplotlib.pyplot as plt"
   ]
  },
  {
   "cell_type": "code",
   "execution_count": 2,
   "id": "b765bd49",
   "metadata": {
    "ExecuteTime": {
     "end_time": "2022-10-15T14:11:13.481600Z",
     "start_time": "2022-10-15T14:11:13.421156Z"
    }
   },
   "outputs": [],
   "source": [
    "data = pd.read_csv(\"./winequality-red.csv\")"
   ]
  },
  {
   "cell_type": "code",
   "execution_count": 3,
   "id": "dcab3312",
   "metadata": {
    "ExecuteTime": {
     "end_time": "2022-10-15T14:11:18.578362Z",
     "start_time": "2022-10-15T14:11:18.521907Z"
    }
   },
   "outputs": [
    {
     "data": {
      "text/html": [
       "<div>\n",
       "<style scoped>\n",
       "    .dataframe tbody tr th:only-of-type {\n",
       "        vertical-align: middle;\n",
       "    }\n",
       "\n",
       "    .dataframe tbody tr th {\n",
       "        vertical-align: top;\n",
       "    }\n",
       "\n",
       "    .dataframe thead th {\n",
       "        text-align: right;\n",
       "    }\n",
       "</style>\n",
       "<table border=\"1\" class=\"dataframe\">\n",
       "  <thead>\n",
       "    <tr style=\"text-align: right;\">\n",
       "      <th></th>\n",
       "      <th>fixed acidity</th>\n",
       "      <th>volatile acidity</th>\n",
       "      <th>citric acid</th>\n",
       "      <th>residual sugar</th>\n",
       "      <th>chlorides</th>\n",
       "      <th>free sulfur dioxide</th>\n",
       "      <th>total sulfur dioxide</th>\n",
       "      <th>density</th>\n",
       "      <th>pH</th>\n",
       "      <th>sulphates</th>\n",
       "      <th>alcohol</th>\n",
       "      <th>quality</th>\n",
       "    </tr>\n",
       "  </thead>\n",
       "  <tbody>\n",
       "    <tr>\n",
       "      <th>0</th>\n",
       "      <td>7.4</td>\n",
       "      <td>0.70</td>\n",
       "      <td>0.00</td>\n",
       "      <td>1.9</td>\n",
       "      <td>0.076</td>\n",
       "      <td>11.0</td>\n",
       "      <td>34.0</td>\n",
       "      <td>0.9978</td>\n",
       "      <td>3.51</td>\n",
       "      <td>0.56</td>\n",
       "      <td>9.4</td>\n",
       "      <td>5</td>\n",
       "    </tr>\n",
       "    <tr>\n",
       "      <th>1</th>\n",
       "      <td>7.8</td>\n",
       "      <td>0.88</td>\n",
       "      <td>0.00</td>\n",
       "      <td>2.6</td>\n",
       "      <td>0.098</td>\n",
       "      <td>25.0</td>\n",
       "      <td>67.0</td>\n",
       "      <td>0.9968</td>\n",
       "      <td>3.20</td>\n",
       "      <td>0.68</td>\n",
       "      <td>9.8</td>\n",
       "      <td>5</td>\n",
       "    </tr>\n",
       "    <tr>\n",
       "      <th>2</th>\n",
       "      <td>7.8</td>\n",
       "      <td>0.76</td>\n",
       "      <td>0.04</td>\n",
       "      <td>2.3</td>\n",
       "      <td>0.092</td>\n",
       "      <td>15.0</td>\n",
       "      <td>54.0</td>\n",
       "      <td>0.9970</td>\n",
       "      <td>3.26</td>\n",
       "      <td>0.65</td>\n",
       "      <td>9.8</td>\n",
       "      <td>5</td>\n",
       "    </tr>\n",
       "    <tr>\n",
       "      <th>3</th>\n",
       "      <td>11.2</td>\n",
       "      <td>0.28</td>\n",
       "      <td>0.56</td>\n",
       "      <td>1.9</td>\n",
       "      <td>0.075</td>\n",
       "      <td>17.0</td>\n",
       "      <td>60.0</td>\n",
       "      <td>0.9980</td>\n",
       "      <td>3.16</td>\n",
       "      <td>0.58</td>\n",
       "      <td>9.8</td>\n",
       "      <td>6</td>\n",
       "    </tr>\n",
       "    <tr>\n",
       "      <th>4</th>\n",
       "      <td>7.4</td>\n",
       "      <td>0.70</td>\n",
       "      <td>0.00</td>\n",
       "      <td>1.9</td>\n",
       "      <td>0.076</td>\n",
       "      <td>11.0</td>\n",
       "      <td>34.0</td>\n",
       "      <td>0.9978</td>\n",
       "      <td>3.51</td>\n",
       "      <td>0.56</td>\n",
       "      <td>9.4</td>\n",
       "      <td>5</td>\n",
       "    </tr>\n",
       "    <tr>\n",
       "      <th>5</th>\n",
       "      <td>7.4</td>\n",
       "      <td>0.66</td>\n",
       "      <td>0.00</td>\n",
       "      <td>1.8</td>\n",
       "      <td>0.075</td>\n",
       "      <td>13.0</td>\n",
       "      <td>40.0</td>\n",
       "      <td>0.9978</td>\n",
       "      <td>3.51</td>\n",
       "      <td>0.56</td>\n",
       "      <td>9.4</td>\n",
       "      <td>5</td>\n",
       "    </tr>\n",
       "    <tr>\n",
       "      <th>6</th>\n",
       "      <td>7.9</td>\n",
       "      <td>0.60</td>\n",
       "      <td>0.06</td>\n",
       "      <td>1.6</td>\n",
       "      <td>0.069</td>\n",
       "      <td>15.0</td>\n",
       "      <td>59.0</td>\n",
       "      <td>0.9964</td>\n",
       "      <td>3.30</td>\n",
       "      <td>0.46</td>\n",
       "      <td>9.4</td>\n",
       "      <td>5</td>\n",
       "    </tr>\n",
       "    <tr>\n",
       "      <th>7</th>\n",
       "      <td>7.3</td>\n",
       "      <td>0.65</td>\n",
       "      <td>0.00</td>\n",
       "      <td>1.2</td>\n",
       "      <td>0.065</td>\n",
       "      <td>15.0</td>\n",
       "      <td>21.0</td>\n",
       "      <td>0.9946</td>\n",
       "      <td>3.39</td>\n",
       "      <td>0.47</td>\n",
       "      <td>10.0</td>\n",
       "      <td>7</td>\n",
       "    </tr>\n",
       "    <tr>\n",
       "      <th>8</th>\n",
       "      <td>7.8</td>\n",
       "      <td>0.58</td>\n",
       "      <td>0.02</td>\n",
       "      <td>2.0</td>\n",
       "      <td>0.073</td>\n",
       "      <td>9.0</td>\n",
       "      <td>18.0</td>\n",
       "      <td>0.9968</td>\n",
       "      <td>3.36</td>\n",
       "      <td>0.57</td>\n",
       "      <td>9.5</td>\n",
       "      <td>7</td>\n",
       "    </tr>\n",
       "    <tr>\n",
       "      <th>9</th>\n",
       "      <td>7.5</td>\n",
       "      <td>0.50</td>\n",
       "      <td>0.36</td>\n",
       "      <td>6.1</td>\n",
       "      <td>0.071</td>\n",
       "      <td>17.0</td>\n",
       "      <td>102.0</td>\n",
       "      <td>0.9978</td>\n",
       "      <td>3.35</td>\n",
       "      <td>0.80</td>\n",
       "      <td>10.5</td>\n",
       "      <td>5</td>\n",
       "    </tr>\n",
       "  </tbody>\n",
       "</table>\n",
       "</div>"
      ],
      "text/plain": [
       "   fixed acidity  volatile acidity  citric acid  residual sugar  chlorides  \\\n",
       "0            7.4              0.70         0.00             1.9      0.076   \n",
       "1            7.8              0.88         0.00             2.6      0.098   \n",
       "2            7.8              0.76         0.04             2.3      0.092   \n",
       "3           11.2              0.28         0.56             1.9      0.075   \n",
       "4            7.4              0.70         0.00             1.9      0.076   \n",
       "5            7.4              0.66         0.00             1.8      0.075   \n",
       "6            7.9              0.60         0.06             1.6      0.069   \n",
       "7            7.3              0.65         0.00             1.2      0.065   \n",
       "8            7.8              0.58         0.02             2.0      0.073   \n",
       "9            7.5              0.50         0.36             6.1      0.071   \n",
       "\n",
       "   free sulfur dioxide  total sulfur dioxide  density    pH  sulphates  \\\n",
       "0                 11.0                  34.0   0.9978  3.51       0.56   \n",
       "1                 25.0                  67.0   0.9968  3.20       0.68   \n",
       "2                 15.0                  54.0   0.9970  3.26       0.65   \n",
       "3                 17.0                  60.0   0.9980  3.16       0.58   \n",
       "4                 11.0                  34.0   0.9978  3.51       0.56   \n",
       "5                 13.0                  40.0   0.9978  3.51       0.56   \n",
       "6                 15.0                  59.0   0.9964  3.30       0.46   \n",
       "7                 15.0                  21.0   0.9946  3.39       0.47   \n",
       "8                  9.0                  18.0   0.9968  3.36       0.57   \n",
       "9                 17.0                 102.0   0.9978  3.35       0.80   \n",
       "\n",
       "   alcohol  quality  \n",
       "0      9.4        5  \n",
       "1      9.8        5  \n",
       "2      9.8        5  \n",
       "3      9.8        6  \n",
       "4      9.4        5  \n",
       "5      9.4        5  \n",
       "6      9.4        5  \n",
       "7     10.0        7  \n",
       "8      9.5        7  \n",
       "9     10.5        5  "
      ]
     },
     "execution_count": 3,
     "metadata": {},
     "output_type": "execute_result"
    }
   ],
   "source": [
    "data.head(10)"
   ]
  },
  {
   "cell_type": "code",
   "execution_count": 4,
   "id": "a5bd4aab",
   "metadata": {
    "ExecuteTime": {
     "end_time": "2022-10-15T14:11:26.847981Z",
     "start_time": "2022-10-15T14:11:26.795426Z"
    }
   },
   "outputs": [
    {
     "name": "stdout",
     "output_type": "stream",
     "text": [
      "<class 'pandas.core.frame.DataFrame'>\n",
      "RangeIndex: 1599 entries, 0 to 1598\n",
      "Data columns (total 12 columns):\n",
      " #   Column                Non-Null Count  Dtype  \n",
      "---  ------                --------------  -----  \n",
      " 0   fixed acidity         1599 non-null   float64\n",
      " 1   volatile acidity      1599 non-null   float64\n",
      " 2   citric acid           1599 non-null   float64\n",
      " 3   residual sugar        1599 non-null   float64\n",
      " 4   chlorides             1599 non-null   float64\n",
      " 5   free sulfur dioxide   1599 non-null   float64\n",
      " 6   total sulfur dioxide  1599 non-null   float64\n",
      " 7   density               1599 non-null   float64\n",
      " 8   pH                    1599 non-null   float64\n",
      " 9   sulphates             1599 non-null   float64\n",
      " 10  alcohol               1599 non-null   float64\n",
      " 11  quality               1599 non-null   int64  \n",
      "dtypes: float64(11), int64(1)\n",
      "memory usage: 150.0 KB\n"
     ]
    }
   ],
   "source": [
    "data.info()"
   ]
  },
  {
   "cell_type": "markdown",
   "id": "ba74018e",
   "metadata": {},
   "source": [
    "**There is no null values in the data**"
   ]
  },
  {
   "cell_type": "markdown",
   "id": "267c6a07",
   "metadata": {},
   "source": [
    "## Exploratory Data Analysis"
   ]
  },
  {
   "cell_type": "markdown",
   "id": "181d98ed",
   "metadata": {},
   "source": [
    "### fixed acidity"
   ]
  },
  {
   "cell_type": "code",
   "execution_count": 9,
   "id": "6e683c5a",
   "metadata": {
    "ExecuteTime": {
     "end_time": "2022-10-15T14:19:27.118777Z",
     "start_time": "2022-10-15T14:19:27.098179Z"
    }
   },
   "outputs": [],
   "source": [
    "def distribution_plot(values, nbins=20):\n",
    "    plt.figure(figsize=(10,8))\n",
    "    plt.hist(values, edgecolor='k', bins=nbins)\n",
    "    plt.xlabel(values.name)\n",
    "    plt.title(f\"Histogram of {values.name}\", fontsize=14)\n",
    "    plt.grid()\n",
    "    plt.show()"
   ]
  },
  {
   "cell_type": "code",
   "execution_count": 10,
   "id": "617d11a9",
   "metadata": {
    "ExecuteTime": {
     "end_time": "2022-10-15T14:19:27.898729Z",
     "start_time": "2022-10-15T14:19:27.550945Z"
    }
   },
   "outputs": [
    {
     "data": {
      "image/png": "[encoded data removed]",
      "text/plain": [
       "<Figure size 720x576 with 1 Axes>"
      ]
     },
     "metadata": {
      "needs_background": "light"
     },
     "output_type": "display_data"
    }
   ],
   "source": [
    "distribution_plot(data['fixed acidity'])"
   ]
  },
  {
   "cell_type": "code",
   "execution_count": 13,
   "id": "62c883f5",
   "metadata": {
    "ExecuteTime": {
     "end_time": "2022-10-15T14:21:55.848780Z",
     "start_time": "2022-10-15T14:21:55.834545Z"
    }
   },
   "outputs": [],
   "source": [
    "def min_max_scaling(values):\n",
    "    minimum = values.min()\n",
    "    maximum = values.max()\n",
    "    return ((values - minimum)/(maximum - minimum))"
   ]
  },
  {
   "cell_type": "code",
   "execution_count": 15,
   "id": "ce3ce536",
   "metadata": {
    "ExecuteTime": {
     "end_time": "2022-10-15T14:22:23.583452Z",
     "start_time": "2022-10-15T14:22:23.566302Z"
    }
   },
   "outputs": [],
   "source": [
    "data['fa_scaled'] = min_max_scaling(data['fixed acidity'])"
   ]
  },
  {
   "cell_type": "code",
   "execution_count": 19,
   "id": "8b909a21",
   "metadata": {
    "ExecuteTime": {
     "end_time": "2022-10-15T14:24:58.426187Z",
     "start_time": "2022-10-15T14:24:58.407621Z"
    }
   },
   "outputs": [],
   "source": [
    "feature_list = ['fa_scaled']"
   ]
  },
  {
   "cell_type": "markdown",
   "id": "a1c39da8",
   "metadata": {},
   "source": [
    "###  Volatile Acidity"
   ]
  },
  {
   "cell_type": "code",
   "execution_count": 16,
   "id": "dd026836",
   "metadata": {
    "ExecuteTime": {
     "end_time": "2022-10-15T14:23:06.850788Z",
     "start_time": "2022-10-15T14:23:06.386674Z"
    }
   },
   "outputs": [
    {
     "data": {
      "image/png": "[encoded data removed]",
      "text/plain": [
       "<Figure size 720x576 with 1 Axes>"
      ]
     },
     "metadata": {
      "needs_background": "light"
     },
     "output_type": "display_data"
    }
   ],
   "source": [
    "distribution_plot(data['volatile acidity'])"
   ]
  },
  {
   "cell_type": "code",
   "execution_count": 17,
   "id": "f060a7fb",
   "metadata": {
    "ExecuteTime": {
     "end_time": "2022-10-15T14:23:56.083163Z",
     "start_time": "2022-10-15T14:23:56.072376Z"
    }
   },
   "outputs": [],
   "source": [
    "data['va_scaled'] = min_max_scaling(data['volatile acidity'])"
   ]
  },
  {
   "cell_type": "code",
   "execution_count": 21,
   "id": "4aaa4b0b",
   "metadata": {
    "ExecuteTime": {
     "end_time": "2022-10-15T14:26:24.058842Z",
     "start_time": "2022-10-15T14:26:24.054317Z"
    }
   },
   "outputs": [],
   "source": [
    "feature_list += ['va_scaled']"
   ]
  },
  {
   "cell_type": "markdown",
   "id": "c772651b",
   "metadata": {},
   "source": [
    "### Citric acid"
   ]
  },
  {
   "cell_type": "code",
   "execution_count": 18,
   "id": "ecea5cb1",
   "metadata": {
    "ExecuteTime": {
     "end_time": "2022-10-15T14:24:30.332193Z",
     "start_time": "2022-10-15T14:24:30.000980Z"
    }
   },
   "outputs": [
    {
     "data": {
      "image/png": "[encoded data removed]",
      "text/plain": [
       "<Figure size 720x576 with 1 Axes>"
      ]
     },
     "metadata": {
      "needs_background": "light"
     },
     "output_type": "display_data"
    }
   ],
   "source": [
    "distribution_plot(data['citric acid'])"
   ]
  },
  {
   "cell_type": "code",
   "execution_count": 23,
   "id": "09915b5d",
   "metadata": {
    "ExecuteTime": {
     "end_time": "2022-10-15T14:27:00.250954Z",
     "start_time": "2022-10-15T14:27:00.246934Z"
    }
   },
   "outputs": [],
   "source": [
    "feature_list += ['citric acid']"
   ]
  },
  {
   "cell_type": "markdown",
   "id": "5dbb98b1",
   "metadata": {},
   "source": [
    "### Residual sugar"
   ]
  },
  {
   "cell_type": "code",
   "execution_count": 24,
   "id": "7a799ff5",
   "metadata": {
    "ExecuteTime": {
     "end_time": "2022-10-15T14:27:33.342107Z",
     "start_time": "2022-10-15T14:27:33.000248Z"
    }
   },
   "outputs": [
    {
     "data": {
      "image/png": "[encoded data removed]",
      "text/plain": [
       "<Figure size 720x576 with 1 Axes>"
      ]
     },
     "metadata": {
      "needs_background": "light"
     },
     "output_type": "display_data"
    }
   ],
   "source": [
    "distribution_plot(data['residual sugar'])"
   ]
  },
  {
   "cell_type": "code",
   "execution_count": 25,
   "id": "338e606a",
   "metadata": {
    "ExecuteTime": {
     "end_time": "2022-10-15T14:28:09.776426Z",
     "start_time": "2022-10-15T14:28:09.756836Z"
    }
   },
   "outputs": [],
   "source": [
    "data['rs_scaled'] = min_max_scaling(data['residual sugar'])"
   ]
  },
  {
   "cell_type": "code",
   "execution_count": 26,
   "id": "b83a1f37",
   "metadata": {
    "ExecuteTime": {
     "end_time": "2022-10-15T14:28:18.563041Z",
     "start_time": "2022-10-15T14:28:18.552661Z"
    }
   },
   "outputs": [],
   "source": [
    "feature_list += ['rs_scaled']"
   ]
  },
  {
   "cell_type": "markdown",
   "id": "b0de240d",
   "metadata": {},
   "source": [
    "### Chlorides"
   ]
  },
  {
   "cell_type": "code",
   "execution_count": 27,
   "id": "fd004ca1",
   "metadata": {
    "ExecuteTime": {
     "end_time": "2022-10-15T14:28:56.651092Z",
     "start_time": "2022-10-15T14:28:56.258280Z"
    }
   },
   "outputs": [
    {
     "data": {
      "image/png": "[encoded data removed]",
      "text/plain": [
       "<Figure size 720x576 with 1 Axes>"
      ]
     },
     "metadata": {
      "needs_background": "light"
     },
     "output_type": "display_data"
    }
   ],
   "source": [
    "distribution_plot(data['chlorides'])"
   ]
  },
  {
   "cell_type": "code",
   "execution_count": 28,
   "id": "f6826ebb",
   "metadata": {
    "ExecuteTime": {
     "end_time": "2022-10-15T14:29:18.810400Z",
     "start_time": "2022-10-15T14:29:18.791851Z"
    }
   },
   "outputs": [],
   "source": [
    "feature_list += ['chlorides']"
   ]
  },
  {
   "cell_type": "code",
   "execution_count": 29,
   "id": "e9796b81",
   "metadata": {
    "ExecuteTime": {
     "end_time": "2022-10-15T14:31:00.506422Z",
     "start_time": "2022-10-15T14:31:00.476485Z"
    }
   },
   "outputs": [
    {
     "name": "stdout",
     "output_type": "stream",
     "text": [
      "<class 'pandas.core.frame.DataFrame'>\n",
      "RangeIndex: 1599 entries, 0 to 1598\n",
      "Data columns (total 15 columns):\n",
      " #   Column                Non-Null Count  Dtype  \n",
      "---  ------                --------------  -----  \n",
      " 0   fixed acidity         1599 non-null   float64\n",
      " 1   volatile acidity      1599 non-null   float64\n",
      " 2   citric acid           1599 non-null   float64\n",
      " 3   residual sugar        1599 non-null   float64\n",
      " 4   chlorides             1599 non-null   float64\n",
      " 5   free sulfur dioxide   1599 non-null   float64\n",
      " 6   total sulfur dioxide  1599 non-null   float64\n",
      " 7   density               1599 non-null   float64\n",
      " 8   pH                    1599 non-null   float64\n",
      " 9   sulphates             1599 non-null   float64\n",
      " 10  alcohol               1599 non-null   float64\n",
      " 11  quality               1599 non-null   int64  \n",
      " 12  fa_scaled             1599 non-null   float64\n",
      " 13  va_scaled             1599 non-null   float64\n",
      " 14  rs_scaled             1599 non-null   float64\n",
      "dtypes: float64(14), int64(1)\n",
      "memory usage: 187.5 KB\n"
     ]
    }
   ],
   "source": [
    "data.info()"
   ]
  },
  {
   "cell_type": "markdown",
   "id": "0bb45798",
   "metadata": {},
   "source": [
    "### Free sulfur dioxide"
   ]
  },
  {
   "cell_type": "code",
   "execution_count": 30,
   "id": "269dee2b",
   "metadata": {
    "ExecuteTime": {
     "end_time": "2022-10-15T14:31:37.713942Z",
     "start_time": "2022-10-15T14:31:37.310413Z"
    }
   },
   "outputs": [
    {
     "data": {
      "image/png": "[encoded data removed]",
      "text/plain": [
       "<Figure size 720x576 with 1 Axes>"
      ]
     },
     "metadata": {
      "needs_background": "light"
     },
     "output_type": "display_data"
    }
   ],
   "source": [
    "distribution_plot(data['free sulfur dioxide'])"
   ]
  },
  {
   "cell_type": "code",
   "execution_count": 31,
   "id": "55d5b254",
   "metadata": {
    "ExecuteTime": {
     "end_time": "2022-10-15T14:32:07.359059Z",
     "start_time": "2022-10-15T14:32:07.350644Z"
    }
   },
   "outputs": [],
   "source": [
    "data['fsd_scaled'] = min_max_scaling(data['free sulfur dioxide'])"
   ]
  },
  {
   "cell_type": "code",
   "execution_count": 32,
   "id": "17d22f1a",
   "metadata": {
    "ExecuteTime": {
     "end_time": "2022-10-15T14:32:18.680805Z",
     "start_time": "2022-10-15T14:32:18.298177Z"
    }
   },
   "outputs": [
    {
     "data": {
      "image/png": "[encoded data removed]",
      "text/plain": [
       "<Figure size 720x576 with 1 Axes>"
      ]
     },
     "metadata": {
      "needs_background": "light"
     },
     "output_type": "display_data"
    }
   ],
   "source": [
    "distribution_plot(data['fsd_scaled'])"
   ]
  },
  {
   "cell_type": "code",
   "execution_count": 35,
   "id": "9331e5dc",
   "metadata": {
    "ExecuteTime": {
     "end_time": "2022-10-15T14:34:17.856255Z",
     "start_time": "2022-10-15T14:34:17.846198Z"
    }
   },
   "outputs": [],
   "source": [
    "feature_list += ['fsd_scaled']"
   ]
  },
  {
   "cell_type": "markdown",
   "id": "2fe3395f",
   "metadata": {},
   "source": [
    "### Total sulfur dioxide"
   ]
  },
  {
   "cell_type": "code",
   "execution_count": 33,
   "id": "dc21e460",
   "metadata": {
    "ExecuteTime": {
     "end_time": "2022-10-15T14:33:01.706713Z",
     "start_time": "2022-10-15T14:33:01.408107Z"
    }
   },
   "outputs": [
    {
     "data": {
      "image/png": "[encoded data removed]",
      "text/plain": [
       "<Figure size 720x576 with 1 Axes>"
      ]
     },
     "metadata": {
      "needs_background": "light"
     },
     "output_type": "display_data"
    }
   ],
   "source": [
    "distribution_plot(data['total sulfur dioxide'])"
   ]
  },
  {
   "cell_type": "code",
   "execution_count": 34,
   "id": "ccc7dfe0",
   "metadata": {
    "ExecuteTime": {
     "end_time": "2022-10-15T14:33:41.085377Z",
     "start_time": "2022-10-15T14:33:41.061865Z"
    }
   },
   "outputs": [],
   "source": [
    "data['tsd_scaled'] = min_max_scaling(data['total sulfur dioxide'])"
   ]
  },
  {
   "cell_type": "code",
   "execution_count": 36,
   "id": "6791a3d2",
   "metadata": {
    "ExecuteTime": {
     "end_time": "2022-10-15T14:34:32.989708Z",
     "start_time": "2022-10-15T14:34:32.980259Z"
    }
   },
   "outputs": [],
   "source": [
    "feature_list += ['tsd_scaled']"
   ]
  },
  {
   "cell_type": "markdown",
   "id": "c5759cae",
   "metadata": {},
   "source": [
    "### Density"
   ]
  },
  {
   "cell_type": "code",
   "execution_count": 37,
   "id": "08a777a2",
   "metadata": {
    "ExecuteTime": {
     "end_time": "2022-10-15T14:35:05.585370Z",
     "start_time": "2022-10-15T14:35:05.220357Z"
    }
   },
   "outputs": [
    {
     "data": {
      "image/png": "[encoded data removed]",
      "text/plain": [
       "<Figure size 720x576 with 1 Axes>"
      ]
     },
     "metadata": {
      "needs_background": "light"
     },
     "output_type": "display_data"
    }
   ],
   "source": [
    "distribution_plot(data['density'])"
   ]
  },
  {
   "cell_type": "code",
   "execution_count": 38,
   "id": "786b5642",
   "metadata": {
    "ExecuteTime": {
     "end_time": "2022-10-15T14:35:32.010360Z",
     "start_time": "2022-10-15T14:35:32.005218Z"
    }
   },
   "outputs": [],
   "source": [
    "feature_list += ['density']"
   ]
  },
  {
   "cell_type": "markdown",
   "id": "e01a0e02",
   "metadata": {},
   "source": [
    "### pH"
   ]
  },
  {
   "cell_type": "code",
   "execution_count": 39,
   "id": "199ef219",
   "metadata": {
    "ExecuteTime": {
     "end_time": "2022-10-15T14:36:02.763945Z",
     "start_time": "2022-10-15T14:36:02.458097Z"
    }
   },
   "outputs": [
    {
     "data": {
      "image/png": "[encoded data removed]",
      "text/plain": [
       "<Figure size 720x576 with 1 Axes>"
      ]
     },
     "metadata": {
      "needs_background": "light"
     },
     "output_type": "display_data"
    }
   ],
   "source": [
    "distribution_plot(data['pH'])"
   ]
  },
  {
   "cell_type": "code",
   "execution_count": 40,
   "id": "b728432a",
   "metadata": {
    "ExecuteTime": {
     "end_time": "2022-10-15T14:36:41.038398Z",
     "start_time": "2022-10-15T14:36:41.024794Z"
    }
   },
   "outputs": [],
   "source": [
    "data['pH_scaled'] = min_max_scaling(data['pH'])"
   ]
  },
  {
   "cell_type": "code",
   "execution_count": 41,
   "id": "ac09d75f",
   "metadata": {
    "ExecuteTime": {
     "end_time": "2022-10-15T14:36:56.200717Z",
     "start_time": "2022-10-15T14:36:56.187203Z"
    }
   },
   "outputs": [],
   "source": [
    "feature_list += ['pH_scaled']"
   ]
  },
  {
   "cell_type": "code",
   "execution_count": 42,
   "id": "da687243",
   "metadata": {
    "ExecuteTime": {
     "end_time": "2022-10-15T14:37:21.692284Z",
     "start_time": "2022-10-15T14:37:21.663374Z"
    }
   },
   "outputs": [
    {
     "name": "stdout",
     "output_type": "stream",
     "text": [
      "<class 'pandas.core.frame.DataFrame'>\n",
      "RangeIndex: 1599 entries, 0 to 1598\n",
      "Data columns (total 18 columns):\n",
      " #   Column                Non-Null Count  Dtype  \n",
      "---  ------                --------------  -----  \n",
      " 0   fixed acidity         1599 non-null   float64\n",
      " 1   volatile acidity      1599 non-null   float64\n",
      " 2   citric acid           1599 non-null   float64\n",
      " 3   residual sugar        1599 non-null   float64\n",
      " 4   chlorides             1599 non-null   float64\n",
      " 5   free sulfur dioxide   1599 non-null   float64\n",
      " 6   total sulfur dioxide  1599 non-null   float64\n",
      " 7   density               1599 non-null   float64\n",
      " 8   pH                    1599 non-null   float64\n",
      " 9   sulphates             1599 non-null   float64\n",
      " 10  alcohol               1599 non-null   float64\n",
      " 11  quality               1599 non-null   int64  \n",
      " 12  fa_scaled             1599 non-null   float64\n",
      " 13  va_scaled             1599 non-null   float64\n",
      " 14  rs_scaled             1599 non-null   float64\n",
      " 15  fsd_scaled            1599 non-null   float64\n",
      " 16  tsd_scaled            1599 non-null   float64\n",
      " 17  pH_scaled             1599 non-null   float64\n",
      "dtypes: float64(17), int64(1)\n",
      "memory usage: 225.0 KB\n"
     ]
    }
   ],
   "source": [
    "data.info()"
   ]
  },
  {
   "cell_type": "markdown",
   "id": "f5c0e9b4",
   "metadata": {},
   "source": [
    "### Sulphates"
   ]
  },
  {
   "cell_type": "code",
   "execution_count": 43,
   "id": "2b6b4fcf",
   "metadata": {
    "ExecuteTime": {
     "end_time": "2022-10-15T14:37:37.543503Z",
     "start_time": "2022-10-15T14:37:37.068809Z"
    }
   },
   "outputs": [
    {
     "data": {
      "image/png": "[encoded data removed]",
      "text/plain": [
       "<Figure size 720x576 with 1 Axes>"
      ]
     },
     "metadata": {
      "needs_background": "light"
     },
     "output_type": "display_data"
    }
   ],
   "source": [
    "distribution_plot(data['sulphates'])"
   ]
  },
  {
   "cell_type": "code",
   "execution_count": 44,
   "id": "c0f8b4fe",
   "metadata": {
    "ExecuteTime": {
     "end_time": "2022-10-15T14:38:03.886383Z",
     "start_time": "2022-10-15T14:38:03.871459Z"
    }
   },
   "outputs": [],
   "source": [
    "data['sul_scaled'] = min_max_scaling(data['sulphates'])"
   ]
  },
  {
   "cell_type": "code",
   "execution_count": 45,
   "id": "e20e5e2a",
   "metadata": {
    "ExecuteTime": {
     "end_time": "2022-10-15T14:38:18.183409Z",
     "start_time": "2022-10-15T14:38:18.178420Z"
    }
   },
   "outputs": [],
   "source": [
    "feature_list += ['sul_scaled']"
   ]
  },
  {
   "cell_type": "markdown",
   "id": "7ed161a2",
   "metadata": {},
   "source": [
    "### Alcohol"
   ]
  },
  {
   "cell_type": "code",
   "execution_count": 46,
   "id": "3cf1ffce",
   "metadata": {
    "ExecuteTime": {
     "end_time": "2022-10-15T14:38:46.906340Z",
     "start_time": "2022-10-15T14:38:46.558301Z"
    }
   },
   "outputs": [
    {
     "data": {
      "image/png": "[encoded data removed]",
      "text/plain": [
       "<Figure size 720x576 with 1 Axes>"
      ]
     },
     "metadata": {
      "needs_background": "light"
     },
     "output_type": "display_data"
    }
   ],
   "source": [
    "distribution_plot(data['alcohol'])"
   ]
  },
  {
   "cell_type": "code",
   "execution_count": 47,
   "id": "b4b134d6",
   "metadata": {
    "ExecuteTime": {
     "end_time": "2022-10-15T14:39:18.918206Z",
     "start_time": "2022-10-15T14:39:18.899166Z"
    }
   },
   "outputs": [],
   "source": [
    "data['alc_scaled'] = min_max_scaling(data['alcohol'])"
   ]
  },
  {
   "cell_type": "code",
   "execution_count": 48,
   "id": "e182ec08",
   "metadata": {
    "ExecuteTime": {
     "end_time": "2022-10-15T14:39:30.339818Z",
     "start_time": "2022-10-15T14:39:30.331555Z"
    }
   },
   "outputs": [],
   "source": [
    "feature_list += ['alc_scaled']"
   ]
  },
  {
   "cell_type": "markdown",
   "id": "3cc1eb9e",
   "metadata": {},
   "source": [
    "## Features"
   ]
  },
  {
   "cell_type": "code",
   "execution_count": 49,
   "id": "fb9e6343",
   "metadata": {
    "ExecuteTime": {
     "end_time": "2022-10-15T14:39:44.289428Z",
     "start_time": "2022-10-15T14:39:44.272190Z"
    }
   },
   "outputs": [
    {
     "data": {
      "text/plain": [
       "['fa_scaled',\n",
       " 'va_scaled',\n",
       " 'citric acid',\n",
       " 'rs_scaled',\n",
       " 'chlorides',\n",
       " 'fsd_scaled',\n",
       " 'tsd_scaled',\n",
       " 'density',\n",
       " 'pH_scaled',\n",
       " 'sul_scaled',\n",
       " 'alc_scaled']"
      ]
     },
     "execution_count": 49,
     "metadata": {},
     "output_type": "execute_result"
    }
   ],
   "source": [
    "feature_list"
   ]
  },
  {
   "cell_type": "code",
   "execution_count": 50,
   "id": "7530d40a",
   "metadata": {
    "ExecuteTime": {
     "end_time": "2022-10-15T14:40:07.808775Z",
     "start_time": "2022-10-15T14:40:07.778112Z"
    }
   },
   "outputs": [],
   "source": [
    "X = data[feature_list].values"
   ]
  },
  {
   "cell_type": "code",
   "execution_count": 51,
   "id": "669ec441",
   "metadata": {
    "ExecuteTime": {
     "end_time": "2022-10-15T14:40:10.102061Z",
     "start_time": "2022-10-15T14:40:10.082705Z"
    }
   },
   "outputs": [
    {
     "data": {
      "text/plain": [
       "(1599, 11)"
      ]
     },
     "execution_count": 51,
     "metadata": {},
     "output_type": "execute_result"
    }
   ],
   "source": [
    "X.shape"
   ]
  },
  {
   "cell_type": "markdown",
   "id": "3b30c286",
   "metadata": {},
   "source": [
    "## Target"
   ]
  },
  {
   "cell_type": "code",
   "execution_count": 52,
   "id": "496c5ba6",
   "metadata": {
    "ExecuteTime": {
     "end_time": "2022-10-15T14:40:31.189445Z",
     "start_time": "2022-10-15T14:40:31.167894Z"
    }
   },
   "outputs": [
    {
     "data": {
      "text/plain": [
       "0       5\n",
       "1       5\n",
       "2       5\n",
       "3       6\n",
       "4       5\n",
       "       ..\n",
       "1594    5\n",
       "1595    6\n",
       "1596    6\n",
       "1597    5\n",
       "1598    6\n",
       "Name: quality, Length: 1599, dtype: int64"
      ]
     },
     "execution_count": 52,
     "metadata": {},
     "output_type": "execute_result"
    }
   ],
   "source": [
    "data['quality']"
   ]
  },
  {
   "cell_type": "code",
   "execution_count": 53,
   "id": "3404ad7f",
   "metadata": {
    "ExecuteTime": {
     "end_time": "2022-10-15T14:40:57.595904Z",
     "start_time": "2022-10-15T14:40:57.575629Z"
    }
   },
   "outputs": [
    {
     "data": {
      "text/plain": [
       "array([5, 6, 7, 4, 8, 3], dtype=int64)"
      ]
     },
     "execution_count": 53,
     "metadata": {},
     "output_type": "execute_result"
    }
   ],
   "source": [
    "data['quality'].uniqueque()"
   ]
  },
  {
   "cell_type": "code",
   "execution_count": 55,
   "id": "692db9b9",
   "metadata": {
    "ExecuteTime": {
     "end_time": "2022-10-15T14:55:47.523087Z",
     "start_time": "2022-10-15T14:55:47.512508Z"
    }
   },
   "outputs": [],
   "source": [
    "y = data['quality'].values"
   ]
  },
  {
   "cell_type": "markdown",
   "id": "b5c109b1",
   "metadata": {},
   "source": [
    "**Distribution of target**"
   ]
  },
  {
   "cell_type": "code",
   "execution_count": 57,
   "id": "cb8a874d",
   "metadata": {
    "ExecuteTime": {
     "end_time": "2022-10-15T14:56:06.530447Z",
     "start_time": "2022-10-15T14:56:06.501789Z"
    }
   },
   "outputs": [
    {
     "data": {
      "text/plain": [
       "5    681\n",
       "6    638\n",
       "7    199\n",
       "4     53\n",
       "8     18\n",
       "3     10\n",
       "Name: quality, dtype: int64"
      ]
     },
     "execution_count": 57,
     "metadata": {},
     "output_type": "execute_result"
    }
   ],
   "source": [
    "data['quality'].value_counts()"
   ]
  },
  {
   "cell_type": "markdown",
   "id": "c14a1951",
   "metadata": {},
   "source": [
    "## Train test split"
   ]
  },
  {
   "cell_type": "code",
   "execution_count": 59,
   "id": "f4eec9d1",
   "metadata": {
    "ExecuteTime": {
     "end_time": "2022-10-15T15:07:16.886874Z",
     "start_time": "2022-10-15T15:07:16.876474Z"
    }
   },
   "outputs": [],
   "source": [
    "from sklearn.model_selection import train_test_split"
   ]
  },
  {
   "cell_type": "code",
   "execution_count": 60,
   "id": "ef05b37a",
   "metadata": {
    "ExecuteTime": {
     "end_time": "2022-10-15T15:07:40.041946Z",
     "start_time": "2022-10-15T15:07:40.008476Z"
    }
   },
   "outputs": [],
   "source": [
    "X_train, X_test, y_train, y_test = train_test_split(X, y, test_size=0.2)"
   ]
  },
  {
   "cell_type": "code",
   "execution_count": 61,
   "id": "2ce80c9e",
   "metadata": {
    "ExecuteTime": {
     "end_time": "2022-10-15T15:07:44.798929Z",
     "start_time": "2022-10-15T15:07:44.779727Z"
    }
   },
   "outputs": [
    {
     "data": {
      "text/plain": [
       "(1279, 11)"
      ]
     },
     "execution_count": 61,
     "metadata": {},
     "output_type": "execute_result"
    }
   ],
   "source": [
    "X_train.shape"
   ]
  },
  {
   "cell_type": "code",
   "execution_count": 62,
   "id": "5741ad3c",
   "metadata": {
    "ExecuteTime": {
     "end_time": "2022-10-15T15:07:54.055781Z",
     "start_time": "2022-10-15T15:07:54.038755Z"
    }
   },
   "outputs": [
    {
     "data": {
      "text/plain": [
       "(320, 11)"
      ]
     },
     "execution_count": 62,
     "metadata": {},
     "output_type": "execute_result"
    }
   ],
   "source": [
    "X_test.shape"
   ]
  },
  {
   "cell_type": "code",
   "execution_count": 63,
   "id": "12eeca1b",
   "metadata": {
    "ExecuteTime": {
     "end_time": "2022-10-15T15:08:05.371830Z",
     "start_time": "2022-10-15T15:08:05.355960Z"
    }
   },
   "outputs": [
    {
     "data": {
      "text/plain": [
       "(1279,)"
      ]
     },
     "execution_count": 63,
     "metadata": {},
     "output_type": "execute_result"
    }
   ],
   "source": [
    "y_train.shape"
   ]
  },
  {
   "cell_type": "code",
   "execution_count": 64,
   "id": "218f7b75",
   "metadata": {
    "ExecuteTime": {
     "end_time": "2022-10-15T15:08:12.399496Z",
     "start_time": "2022-10-15T15:08:12.379365Z"
    }
   },
   "outputs": [
    {
     "data": {
      "text/plain": [
       "(320,)"
      ]
     },
     "execution_count": 64,
     "metadata": {},
     "output_type": "execute_result"
    }
   ],
   "source": [
    "y_test.shape"
   ]
  },
  {
   "cell_type": "markdown",
   "id": "0da939fa",
   "metadata": {},
   "source": [
    "## Building ML models"
   ]
  },
  {
   "cell_type": "markdown",
   "id": "782dea9f",
   "metadata": {},
   "source": [
    "### Logistic Regression"
   ]
  },
  {
   "cell_type": "code",
   "execution_count": 54,
   "id": "0dee431c",
   "metadata": {
    "ExecuteTime": {
     "end_time": "2022-10-15T14:53:50.802245Z",
     "start_time": "2022-10-15T14:53:50.791523Z"
    }
   },
   "outputs": [],
   "source": [
    "from sklearn.linear_model import LogisticRegression"
   ]
  },
  {
   "cell_type": "code",
   "execution_count": 58,
   "id": "8844dcf3",
   "metadata": {
    "ExecuteTime": {
     "end_time": "2022-10-15T15:05:54.302647Z",
     "start_time": "2022-10-15T15:05:54.292070Z"
    }
   },
   "outputs": [],
   "source": [
    "lr_clf = LogisticRegression(multi_class='ovr')   # We are doing multiclass classification using One vs Rest (OVR) technique"
   ]
  },
  {
   "cell_type": "code",
   "execution_count": 65,
   "id": "b750e0fc",
   "metadata": {
    "ExecuteTime": {
     "end_time": "2022-10-15T15:09:19.567045Z",
     "start_time": "2022-10-15T15:09:19.208300Z"
    }
   },
   "outputs": [
    {
     "data": {
      "text/plain": [
       "LogisticRegression(multi_class='ovr')"
      ]
     },
     "execution_count": 65,
     "metadata": {},
     "output_type": "execute_result"
    }
   ],
   "source": [
    "lr_clf.fit(X_train, y_train)   # training the LR classifier"
   ]
  },
  {
   "cell_type": "markdown",
   "id": "bab1af94",
   "metadata": {},
   "source": [
    "**Evaluate the performance**"
   ]
  },
  {
   "cell_type": "code",
   "execution_count": 66,
   "id": "9a8a91c4",
   "metadata": {
    "ExecuteTime": {
     "end_time": "2022-10-15T15:09:58.479299Z",
     "start_time": "2022-10-15T15:09:58.471155Z"
    }
   },
   "outputs": [],
   "source": [
    "from sklearn.metrics import accuracy_score, classification_report, confusion_matrix"
   ]
  },
  {
   "cell_type": "code",
   "execution_count": 67,
   "id": "7490acb3",
   "metadata": {
    "ExecuteTime": {
     "end_time": "2022-10-15T15:10:28.308573Z",
     "start_time": "2022-10-15T15:10:28.287955Z"
    }
   },
   "outputs": [],
   "source": [
    "y_pred = lr_clf.predict(X_test)  # Predict on the test dataset"
   ]
  },
  {
   "cell_type": "code",
   "execution_count": 69,
   "id": "ebc51ef7",
   "metadata": {
    "ExecuteTime": {
     "end_time": "2022-10-15T15:10:57.735111Z",
     "start_time": "2022-10-15T15:10:57.709117Z"
    }
   },
   "outputs": [
    {
     "data": {
      "text/plain": [
       "0.603125"
      ]
     },
     "execution_count": 69,
     "metadata": {},
     "output_type": "execute_result"
    }
   ],
   "source": [
    "# accuracy\n",
    "\n",
    "accuracy_score(y_true=y_test, y_pred=y_pred)"
   ]
  },
  {
   "cell_type": "code",
   "execution_count": 71,
   "id": "694f730d",
   "metadata": {
    "ExecuteTime": {
     "end_time": "2022-10-15T15:11:39.291388Z",
     "start_time": "2022-10-15T15:11:39.260598Z"
    }
   },
   "outputs": [
    {
     "name": "stdout",
     "output_type": "stream",
     "text": [
      "              precision    recall  f1-score   support\n",
      "\n",
      "           3       0.00      0.00      0.00         1\n",
      "           4       0.00      0.00      0.00        11\n",
      "           5       0.65      0.79      0.71       135\n",
      "           6       0.56      0.67      0.61       130\n",
      "           7       0.00      0.00      0.00        37\n",
      "           8       0.00      0.00      0.00         6\n",
      "\n",
      "    accuracy                           0.60       320\n",
      "   macro avg       0.20      0.24      0.22       320\n",
      "weighted avg       0.50      0.60      0.55       320\n",
      "\n"
     ]
    },
    {
     "name": "stderr",
     "output_type": "stream",
     "text": [
      "C:\\Users\\SouravKarmakar\\anaconda3\\lib\\site-packages\\sklearn\\metrics\\_classification.py:1248: UndefinedMetricWarning: Precision and F-score are ill-defined and being set to 0.0 in labels with no predicted samples. Use `zero_division` parameter to control this behavior.\n",
      "  _warn_prf(average, modifier, msg_start, len(result))\n",
      "C:\\Users\\SouravKarmakar\\anaconda3\\lib\\site-packages\\sklearn\\metrics\\_classification.py:1248: UndefinedMetricWarning: Precision and F-score are ill-defined and being set to 0.0 in labels with no predicted samples. Use `zero_division` parameter to control this behavior.\n",
      "  _warn_prf(average, modifier, msg_start, len(result))\n",
      "C:\\Users\\SouravKarmakar\\anaconda3\\lib\\site-packages\\sklearn\\metrics\\_classification.py:1248: UndefinedMetricWarning: Precision and F-score are ill-defined and being set to 0.0 in labels with no predicted samples. Use `zero_division` parameter to control this behavior.\n",
      "  _warn_prf(average, modifier, msg_start, len(result))\n"
     ]
    }
   ],
   "source": [
    "# Classification report\n",
    "\n",
    "print(classification_report(y_true=y_test, y_pred=y_pred))"
   ]
  },
  {
   "cell_type": "code",
   "execution_count": 72,
   "id": "45deb17d",
   "metadata": {
    "ExecuteTime": {
     "end_time": "2022-10-15T15:12:07.791544Z",
     "start_time": "2022-10-15T15:12:07.774156Z"
    }
   },
   "outputs": [
    {
     "data": {
      "text/plain": [
       "array([[  0,   0,   1,   0,   0,   0],\n",
       "       [  0,   0,   9,   2,   0,   0],\n",
       "       [  0,   0, 106,  29,   0,   0],\n",
       "       [  0,   0,  43,  87,   0,   0],\n",
       "       [  0,   0,   4,  33,   0,   0],\n",
       "       [  0,   0,   0,   4,   2,   0]], dtype=int64)"
      ]
     },
     "execution_count": 72,
     "metadata": {},
     "output_type": "execute_result"
    }
   ],
   "source": [
    "confusion_matrix(y_true=y_test, y_pred=y_pred)"
   ]
  },
  {
   "cell_type": "code",
   "execution_count": 74,
   "id": "78c150c8",
   "metadata": {
    "ExecuteTime": {
     "end_time": "2022-10-15T15:52:50.025569Z",
     "start_time": "2022-10-15T15:52:50.013005Z"
    }
   },
   "outputs": [
    {
     "data": {
      "text/plain": [
       "0.7851851851851852"
      ]
     },
     "execution_count": 74,
     "metadata": {},
     "output_type": "execute_result"
    }
   ],
   "source": [
    "2 * pr * re / (pr + re)"
   ]
  },
  {
   "cell_type": "code",
   "execution_count": 75,
   "id": "3fb7923a",
   "metadata": {
    "ExecuteTime": {
     "end_time": "2022-10-15T15:53:31.115606Z",
     "start_time": "2022-10-15T15:53:31.110472Z"
    }
   },
   "outputs": [
    {
     "data": {
      "text/plain": [
       "0.7131944444444446"
      ]
     },
     "execution_count": 75,
     "metadata": {},
     "output_type": "execute_result"
    }
   ],
   "source": [
    "2 * 0.79 * 0.65 / (0.79 + 0.65)"
   ]
  },
  {
   "cell_type": "markdown",
   "id": "70ffdc73",
   "metadata": {},
   "source": [
    "### Decision Tree Classifier"
   ]
  },
  {
   "cell_type": "code",
   "execution_count": 76,
   "id": "812960de",
   "metadata": {
    "ExecuteTime": {
     "end_time": "2022-10-15T15:55:42.667171Z",
     "start_time": "2022-10-15T15:55:42.655840Z"
    }
   },
   "outputs": [],
   "source": [
    "from sklearn.tree import DecisionTreeClassifier"
   ]
  },
  {
   "cell_type": "code",
   "execution_count": 77,
   "id": "8f43a9ed",
   "metadata": {
    "ExecuteTime": {
     "end_time": "2022-10-15T15:56:09.871117Z",
     "start_time": "2022-10-15T15:56:09.865127Z"
    }
   },
   "outputs": [],
   "source": [
    "dt_clf = DecisionTreeClassifier(max_leaf_nodes=4)"
   ]
  },
  {
   "cell_type": "code",
   "execution_count": 78,
   "id": "4a7e5715",
   "metadata": {
    "ExecuteTime": {
     "end_time": "2022-10-15T15:56:19.430550Z",
     "start_time": "2022-10-15T15:56:19.401193Z"
    }
   },
   "outputs": [
    {
     "data": {
      "text/plain": [
       "DecisionTreeClassifier(max_leaf_nodes=4)"
      ]
     },
     "execution_count": 78,
     "metadata": {},
     "output_type": "execute_result"
    }
   ],
   "source": [
    "dt_clf.fit(X_train, y_train)"
   ]
  },
  {
   "cell_type": "code",
   "execution_count": 81,
   "id": "1a2612f8",
   "metadata": {
    "ExecuteTime": {
     "end_time": "2022-10-15T15:57:29.424269Z",
     "start_time": "2022-10-15T15:57:29.393495Z"
    }
   },
   "outputs": [
    {
     "data": {
      "text/plain": [
       "array([[0.00917431, 0.05963303, 0.32110092, 0.50229358, 0.10321101,\n",
       "        0.00458716]])"
      ]
     },
     "execution_count": 81,
     "metadata": {},
     "output_type": "execute_result"
    }
   ],
   "source": [
    "dt_clf.predict_proba(X_test[0,:].reshape(1,-1))"
   ]
  },
  {
   "cell_type": "code",
   "execution_count": 82,
   "id": "56518eea",
   "metadata": {
    "ExecuteTime": {
     "end_time": "2022-10-15T15:58:15.790825Z",
     "start_time": "2022-10-15T15:58:15.773228Z"
    }
   },
   "outputs": [
    {
     "data": {
      "text/plain": [
       "array([6], dtype=int64)"
      ]
     },
     "execution_count": 82,
     "metadata": {},
     "output_type": "execute_result"
    }
   ],
   "source": [
    "dt_clf.predict(X_test[0,:].reshape(1,-1))"
   ]
  },
  {
   "cell_type": "code",
   "execution_count": 83,
   "id": "8657c893",
   "metadata": {
    "ExecuteTime": {
     "end_time": "2022-10-15T15:58:58.405417Z",
     "start_time": "2022-10-15T15:58:58.386419Z"
    }
   },
   "outputs": [],
   "source": [
    "y_pred = dt_clf.predict(X_test)"
   ]
  },
  {
   "cell_type": "code",
   "execution_count": 84,
   "id": "3d8d5116",
   "metadata": {
    "ExecuteTime": {
     "end_time": "2022-10-15T15:59:08.068410Z",
     "start_time": "2022-10-15T15:59:08.047864Z"
    }
   },
   "outputs": [
    {
     "data": {
      "text/plain": [
       "0.55625"
      ]
     },
     "execution_count": 84,
     "metadata": {},
     "output_type": "execute_result"
    }
   ],
   "source": [
    "accuracy_score(y_test, y_pred)"
   ]
  },
  {
   "cell_type": "code",
   "execution_count": 86,
   "id": "338b267e",
   "metadata": {
    "ExecuteTime": {
     "end_time": "2022-10-15T15:59:40.167132Z",
     "start_time": "2022-10-15T15:59:40.143803Z"
    }
   },
   "outputs": [
    {
     "name": "stdout",
     "output_type": "stream",
     "text": [
      "              precision    recall  f1-score   support\n",
      "\n",
      "           3       0.00      0.00      0.00         1\n",
      "           4       0.00      0.00      0.00        11\n",
      "           5       0.64      0.63      0.64       135\n",
      "           6       0.49      0.72      0.58       130\n",
      "           7       0.00      0.00      0.00        37\n",
      "           8       0.00      0.00      0.00         6\n",
      "\n",
      "    accuracy                           0.56       320\n",
      "   macro avg       0.19      0.22      0.20       320\n",
      "weighted avg       0.47      0.56      0.51       320\n",
      "\n"
     ]
    },
    {
     "name": "stderr",
     "output_type": "stream",
     "text": [
      "C:\\Users\\SouravKarmakar\\anaconda3\\lib\\site-packages\\sklearn\\metrics\\_classification.py:1248: UndefinedMetricWarning: Precision and F-score are ill-defined and being set to 0.0 in labels with no predicted samples. Use `zero_division` parameter to control this behavior.\n",
      "  _warn_prf(average, modifier, msg_start, len(result))\n",
      "C:\\Users\\SouravKarmakar\\anaconda3\\lib\\site-packages\\sklearn\\metrics\\_classification.py:1248: UndefinedMetricWarning: Precision and F-score are ill-defined and being set to 0.0 in labels with no predicted samples. Use `zero_division` parameter to control this behavior.\n",
      "  _warn_prf(average, modifier, msg_start, len(result))\n",
      "C:\\Users\\SouravKarmakar\\anaconda3\\lib\\site-packages\\sklearn\\metrics\\_classification.py:1248: UndefinedMetricWarning: Precision and F-score are ill-defined and being set to 0.0 in labels with no predicted samples. Use `zero_division` parameter to control this behavior.\n",
      "  _warn_prf(average, modifier, msg_start, len(result))\n"
     ]
    }
   ],
   "source": [
    "print(classification_report(y_test, y_pred))"
   ]
  },
  {
   "cell_type": "markdown",
   "id": "b815a7dc",
   "metadata": {},
   "source": [
    "### Random Forest"
   ]
  },
  {
   "cell_type": "code",
   "execution_count": 87,
   "id": "8eaf4fe3",
   "metadata": {
    "ExecuteTime": {
     "end_time": "2022-10-15T16:00:27.289590Z",
     "start_time": "2022-10-15T16:00:27.272756Z"
    }
   },
   "outputs": [],
   "source": [
    "from sklearn.ensemble import RandomForestClassifier"
   ]
  },
  {
   "cell_type": "code",
   "execution_count": 88,
   "id": "79ef566c",
   "metadata": {
    "ExecuteTime": {
     "end_time": "2022-10-15T16:00:40.914024Z",
     "start_time": "2022-10-15T16:00:40.911234Z"
    }
   },
   "outputs": [],
   "source": [
    "rf_clf = RandomForestClassifier()"
   ]
  },
  {
   "cell_type": "code",
   "execution_count": 89,
   "id": "c3231074",
   "metadata": {
    "ExecuteTime": {
     "end_time": "2022-10-15T16:00:55.908987Z",
     "start_time": "2022-10-15T16:00:55.587967Z"
    }
   },
   "outputs": [
    {
     "data": {
      "text/plain": [
       "RandomForestClassifier()"
      ]
     },
     "execution_count": 89,
     "metadata": {},
     "output_type": "execute_result"
    }
   ],
   "source": [
    "rf_clf.fit(X_train, y_train)"
   ]
  },
  {
   "cell_type": "code",
   "execution_count": 90,
   "id": "c0f37bf2",
   "metadata": {
    "ExecuteTime": {
     "end_time": "2022-10-15T16:01:10.470759Z",
     "start_time": "2022-10-15T16:01:10.434721Z"
    }
   },
   "outputs": [],
   "source": [
    "y_pred = rf_clf.predict(X_test)"
   ]
  },
  {
   "cell_type": "code",
   "execution_count": 91,
   "id": "3bee2957",
   "metadata": {
    "ExecuteTime": {
     "end_time": "2022-10-15T16:01:23.291141Z",
     "start_time": "2022-10-15T16:01:23.284417Z"
    }
   },
   "outputs": [
    {
     "data": {
      "text/plain": [
       "0.69375"
      ]
     },
     "execution_count": 91,
     "metadata": {},
     "output_type": "execute_result"
    }
   ],
   "source": [
    "accuracy_score(y_test, y_pred)"
   ]
  },
  {
   "cell_type": "code",
   "execution_count": 92,
   "id": "d1b4d184",
   "metadata": {
    "ExecuteTime": {
     "end_time": "2022-10-15T16:01:47.791443Z",
     "start_time": "2022-10-15T16:01:47.768629Z"
    }
   },
   "outputs": [
    {
     "name": "stdout",
     "output_type": "stream",
     "text": [
      "              precision    recall  f1-score   support\n",
      "\n",
      "           3       0.00      0.00      0.00         1\n",
      "           4       0.00      0.00      0.00        11\n",
      "           5       0.75      0.79      0.77       135\n",
      "           6       0.66      0.76      0.71       130\n",
      "           7       0.61      0.46      0.52        37\n",
      "           8       0.00      0.00      0.00         6\n",
      "\n",
      "    accuracy                           0.69       320\n",
      "   macro avg       0.34      0.33      0.33       320\n",
      "weighted avg       0.66      0.69      0.67       320\n",
      "\n"
     ]
    },
    {
     "name": "stderr",
     "output_type": "stream",
     "text": [
      "C:\\Users\\SouravKarmakar\\anaconda3\\lib\\site-packages\\sklearn\\metrics\\_classification.py:1248: UndefinedMetricWarning: Precision and F-score are ill-defined and being set to 0.0 in labels with no predicted samples. Use `zero_division` parameter to control this behavior.\n",
      "  _warn_prf(average, modifier, msg_start, len(result))\n",
      "C:\\Users\\SouravKarmakar\\anaconda3\\lib\\site-packages\\sklearn\\metrics\\_classification.py:1248: UndefinedMetricWarning: Precision and F-score are ill-defined and being set to 0.0 in labels with no predicted samples. Use `zero_division` parameter to control this behavior.\n",
      "  _warn_prf(average, modifier, msg_start, len(result))\n",
      "C:\\Users\\SouravKarmakar\\anaconda3\\lib\\site-packages\\sklearn\\metrics\\_classification.py:1248: UndefinedMetricWarning: Precision and F-score are ill-defined and being set to 0.0 in labels with no predicted samples. Use `zero_division` parameter to control this behavior.\n",
      "  _warn_prf(average, modifier, msg_start, len(result))\n"
     ]
    }
   ],
   "source": [
    "print(classification_report(y_test, y_pred))"
   ]
  },
  {
   "cell_type": "code",
   "execution_count": 93,
   "id": "2d798da0",
   "metadata": {
    "ExecuteTime": {
     "end_time": "2022-10-15T16:02:35.915239Z",
     "start_time": "2022-10-15T16:02:35.903498Z"
    }
   },
   "outputs": [
    {
     "data": {
      "text/plain": [
       "array([[  0,   0,   1,   0,   0,   0],\n",
       "       [  0,   0,   7,   4,   0,   0],\n",
       "       [  0,   1, 106,  25,   3,   0],\n",
       "       [  0,   0,  26,  99,   5,   0],\n",
       "       [  0,   0,   2,  18,  17,   0],\n",
       "       [  0,   0,   0,   3,   3,   0]], dtype=int64)"
      ]
     },
     "execution_count": 93,
     "metadata": {},
     "output_type": "execute_result"
    }
   ],
   "source": [
    "confusion_matrix(y_test, y_pred)"
   ]
  },
  {
   "cell_type": "markdown",
   "id": "90343ad0",
   "metadata": {},
   "source": [
    "### Gradient boosted trees"
   ]
  },
  {
   "cell_type": "code",
   "execution_count": 94,
   "id": "f0702353",
   "metadata": {
    "ExecuteTime": {
     "end_time": "2022-10-15T16:23:09.065700Z",
     "start_time": "2022-10-15T16:23:09.047954Z"
    }
   },
   "outputs": [],
   "source": [
    "from sklearn.ensemble import GradientBoostingClassifier"
   ]
  },
  {
   "cell_type": "code",
   "execution_count": 95,
   "id": "9e92b8c8",
   "metadata": {
    "ExecuteTime": {
     "end_time": "2022-10-15T16:24:26.638428Z",
     "start_time": "2022-10-15T16:24:26.632145Z"
    }
   },
   "outputs": [],
   "source": [
    "gb_clf = GradientBoostingClassifier()"
   ]
  },
  {
   "cell_type": "code",
   "execution_count": 96,
   "id": "61e8db67",
   "metadata": {
    "ExecuteTime": {
     "end_time": "2022-10-15T16:24:41.039739Z",
     "start_time": "2022-10-15T16:24:39.063556Z"
    }
   },
   "outputs": [
    {
     "data": {
      "text/plain": [
       "GradientBoostingClassifier()"
      ]
     },
     "execution_count": 96,
     "metadata": {},
     "output_type": "execute_result"
    }
   ],
   "source": [
    "gb_clf.fit(X_train, y_train)"
   ]
  },
  {
   "cell_type": "code",
   "execution_count": 97,
   "id": "adf31644",
   "metadata": {
    "ExecuteTime": {
     "end_time": "2022-10-15T16:25:09.497739Z",
     "start_time": "2022-10-15T16:25:09.474734Z"
    }
   },
   "outputs": [],
   "source": [
    "y_pred = gb_clf.predict(X_test)"
   ]
  },
  {
   "cell_type": "code",
   "execution_count": 99,
   "id": "e5c5cd6b",
   "metadata": {
    "ExecuteTime": {
     "end_time": "2022-10-15T16:25:33.972643Z",
     "start_time": "2022-10-15T16:25:33.958922Z"
    }
   },
   "outputs": [
    {
     "data": {
      "text/plain": [
       "0.66875"
      ]
     },
     "execution_count": 99,
     "metadata": {},
     "output_type": "execute_result"
    }
   ],
   "source": [
    "accuracy_score(y_true=y_test, y_pred=y_pred)"
   ]
  },
  {
   "cell_type": "markdown",
   "id": "c7ae4765",
   "metadata": {},
   "source": [
    "### eXtreme Gradient Boosting (XGBoost)"
   ]
  },
  {
   "cell_type": "markdown",
   "id": "fac2e360",
   "metadata": {},
   "source": [
    "to use XGBoost library one need to install XGBoost using the command *pip install xgboost*"
   ]
  },
  {
   "cell_type": "code",
   "execution_count": 100,
   "id": "dd78e222",
   "metadata": {
    "ExecuteTime": {
     "end_time": "2022-10-15T16:42:39.168317Z",
     "start_time": "2022-10-15T16:42:39.057811Z"
    }
   },
   "outputs": [],
   "source": [
    "import xgboost as xgb"
   ]
  },
  {
   "cell_type": "code",
   "execution_count": 101,
   "id": "4f5004d0",
   "metadata": {
    "ExecuteTime": {
     "end_time": "2022-10-15T16:43:22.192786Z",
     "start_time": "2022-10-15T16:43:22.176122Z"
    }
   },
   "outputs": [],
   "source": [
    "xgb_clf = xgb.XGBClassifier()"
   ]
  },
  {
   "cell_type": "code",
   "execution_count": 103,
   "id": "2adb024a",
   "metadata": {
    "ExecuteTime": {
     "end_time": "2022-10-15T16:45:04.310516Z",
     "start_time": "2022-10-15T16:45:04.301124Z"
    }
   },
   "outputs": [],
   "source": [
    "y_train_mod = y_train - 3\n",
    "y_test_mod = y_test - 3"
   ]
  },
  {
   "cell_type": "code",
   "execution_count": 105,
   "id": "0ba0c317",
   "metadata": {
    "ExecuteTime": {
     "end_time": "2022-10-15T16:45:11.932801Z",
     "start_time": "2022-10-15T16:45:11.286852Z"
    }
   },
   "outputs": [
    {
     "data": {
      "text/plain": [
       "XGBClassifier(base_score=0.5, booster='gbtree', callbacks=None,\n",
       "              colsample_bylevel=1, colsample_bynode=1, colsample_bytree=1,\n",
       "              early_stopping_rounds=None, enable_categorical=False,\n",
       "              eval_metric=None, gamma=0, gpu_id=-1, grow_policy='depthwise',\n",
       "              importance_type=None, interaction_constraints='',\n",
       "              learning_rate=0.300000012, max_bin=256, max_cat_to_onehot=4,\n",
       "              max_delta_step=0, max_depth=6, max_leaves=0, min_child_weight=1,\n",
       "              missing=nan, monotone_constraints='()', n_estimators=100,\n",
       "              n_jobs=0, num_parallel_tree=1, objective='multi:softprob',\n",
       "              predictor='auto', random_state=0, reg_alpha=0, ...)"
      ]
     },
     "execution_count": 105,
     "metadata": {},
     "output_type": "execute_result"
    }
   ],
   "source": [
    "xgb_clf.fit(X_train, y_train_mod)"
   ]
  },
  {
   "cell_type": "code",
   "execution_count": 106,
   "id": "fa43f34a",
   "metadata": {
    "ExecuteTime": {
     "end_time": "2022-10-15T16:45:37.461041Z",
     "start_time": "2022-10-15T16:45:37.440119Z"
    }
   },
   "outputs": [],
   "source": [
    "y_pred = xgb_clf.predict(X_test)"
   ]
  },
  {
   "cell_type": "code",
   "execution_count": 107,
   "id": "b55219ac",
   "metadata": {
    "ExecuteTime": {
     "end_time": "2022-10-15T16:45:55.038939Z",
     "start_time": "2022-10-15T16:45:55.028920Z"
    }
   },
   "outputs": [
    {
     "data": {
      "text/plain": [
       "0.678125"
      ]
     },
     "execution_count": 107,
     "metadata": {},
     "output_type": "execute_result"
    }
   ],
   "source": [
    "accuracy_score(y_true = y_test_mod, y_pred = y_pred)"
   ]
  },
  {
   "cell_type": "code",
   "execution_count": 108,
   "id": "90753d3d",
   "metadata": {
    "ExecuteTime": {
     "end_time": "2022-10-15T16:46:25.428505Z",
     "start_time": "2022-10-15T16:46:25.416748Z"
    }
   },
   "outputs": [
    {
     "data": {
      "text/plain": [
       "array([[  0,   0,   1,   0,   0,   0],\n",
       "       [  0,   0,   7,   4,   0,   0],\n",
       "       [  0,   1, 105,  27,   2,   0],\n",
       "       [  0,   1,  26,  93,  10,   0],\n",
       "       [  0,   0,   3,  15,  19,   0],\n",
       "       [  0,   0,   0,   3,   3,   0]], dtype=int64)"
      ]
     },
     "execution_count": 108,
     "metadata": {},
     "output_type": "execute_result"
    }
   ],
   "source": [
    "confusion_matrix(y_test_mod , y_pred)"
   ]
  },
  {
   "cell_type": "code",
   "execution_count": 110,
   "id": "024b8163",
   "metadata": {
    "ExecuteTime": {
     "end_time": "2022-10-15T16:46:48.315911Z",
     "start_time": "2022-10-15T16:46:48.293648Z"
    }
   },
   "outputs": [
    {
     "name": "stdout",
     "output_type": "stream",
     "text": [
      "              precision    recall  f1-score   support\n",
      "\n",
      "           0       0.00      0.00      0.00         1\n",
      "           1       0.00      0.00      0.00        11\n",
      "           2       0.74      0.78      0.76       135\n",
      "           3       0.65      0.72      0.68       130\n",
      "           4       0.56      0.51      0.54        37\n",
      "           5       0.00      0.00      0.00         6\n",
      "\n",
      "    accuracy                           0.68       320\n",
      "   macro avg       0.33      0.33      0.33       320\n",
      "weighted avg       0.64      0.68      0.66       320\n",
      "\n"
     ]
    },
    {
     "name": "stderr",
     "output_type": "stream",
     "text": [
      "C:\\Users\\SouravKarmakar\\anaconda3\\lib\\site-packages\\sklearn\\metrics\\_classification.py:1248: UndefinedMetricWarning: Precision and F-score are ill-defined and being set to 0.0 in labels with no predicted samples. Use `zero_division` parameter to control this behavior.\n",
      "  _warn_prf(average, modifier, msg_start, len(result))\n",
      "C:\\Users\\SouravKarmakar\\anaconda3\\lib\\site-packages\\sklearn\\metrics\\_classification.py:1248: UndefinedMetricWarning: Precision and F-score are ill-defined and being set to 0.0 in labels with no predicted samples. Use `zero_division` parameter to control this behavior.\n",
      "  _warn_prf(average, modifier, msg_start, len(result))\n",
      "C:\\Users\\SouravKarmakar\\anaconda3\\lib\\site-packages\\sklearn\\metrics\\_classification.py:1248: UndefinedMetricWarning: Precision and F-score are ill-defined and being set to 0.0 in labels with no predicted samples. Use `zero_division` parameter to control this behavior.\n",
      "  _warn_prf(average, modifier, msg_start, len(result))\n"
     ]
    }
   ],
   "source": [
    "print(classification_report(y_test_mod, y_pred))"
   ]
  },
  {
   "cell_type": "code",
   "execution_count": null,
   "id": "71e94bec",
   "metadata": {},
   "outputs": [],
   "source": []
  }
 ],
 "metadata": {
  "kernelspec": {
   "display_name": "Python 3 (ipykernel)",
   "language": "python",
   "name": "python3"
  },
  "language_info": {
   "codemirror_mode": {
    "name": "ipython",
    "version": 3
   },
   "file_extension": ".py",
   "mimetype": "text/x-python",
   "name": "python",
   "nbconvert_exporter": "python",
   "pygments_lexer": "ipython3",
   "version": "3.9.7"
  },
  "toc": {
   "base_numbering": 1,
   "nav_menu": {},
   "number_sections": true,
   "sideBar": true,
   "skip_h1_title": true,
   "title_cell": "Table of Contents",
   "title_sidebar": "Contents",
   "toc_cell": false,
   "toc_position": {
    "height": "calc(100% - 180px)",
    "left": "10px",
    "top": "150px",
    "width": "228.475px"
   },
   "toc_section_display": true,
   "toc_window_display": true
  }
 },
 "nbformat": 4,
 "nbformat_minor": 5
}
