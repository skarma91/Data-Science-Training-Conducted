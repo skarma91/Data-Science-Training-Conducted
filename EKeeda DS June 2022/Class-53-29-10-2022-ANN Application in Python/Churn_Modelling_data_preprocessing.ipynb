{
 "cells": [
  {
   "cell_type": "markdown",
   "id": "9279d98a",
   "metadata": {},
   "source": [
    "# Churn Modelling data Preprocessing"
   ]
  },
  {
   "cell_type": "markdown",
   "id": "f5061f67",
   "metadata": {},
   "source": [
    "### Loading the dataset"
   ]
  },
  {
   "cell_type": "code",
   "execution_count": 1,
   "id": "9a69e1f1",
   "metadata": {
    "ExecuteTime": {
     "end_time": "2022-10-13T16:08:20.490658Z",
     "start_time": "2022-10-13T16:08:18.233482Z"
    }
   },
   "outputs": [],
   "source": [
    "import pandas as pd\n",
    "import numpy as np\n",
    "import matplotlib.pyplot as plt"
   ]
  },
  {
   "cell_type": "code",
   "execution_count": 2,
   "id": "1961b10b",
   "metadata": {
    "ExecuteTime": {
     "end_time": "2022-10-13T16:08:20.679256Z",
     "start_time": "2022-10-13T16:08:20.493799Z"
    }
   },
   "outputs": [],
   "source": [
    "data = pd.read_csv(\"./Churn_Modelling.csv\", sep=',')"
   ]
  },
  {
   "cell_type": "code",
   "execution_count": 3,
   "id": "2d8955a5",
   "metadata": {
    "ExecuteTime": {
     "end_time": "2022-10-13T16:08:20.740946Z",
     "start_time": "2022-10-13T16:08:20.683265Z"
    }
   },
   "outputs": [
    {
     "data": {
      "text/html": [
       "<div>\n",
       "<style scoped>\n",
       "    .dataframe tbody tr th:only-of-type {\n",
       "        vertical-align: middle;\n",
       "    }\n",
       "\n",
       "    .dataframe tbody tr th {\n",
       "        vertical-align: top;\n",
       "    }\n",
       "\n",
       "    .dataframe thead th {\n",
       "        text-align: right;\n",
       "    }\n",
       "</style>\n",
       "<table border=\"1\" class=\"dataframe\">\n",
       "  <thead>\n",
       "    <tr style=\"text-align: right;\">\n",
       "      <th></th>\n",
       "      <th>RowNumber</th>\n",
       "      <th>CustomerId</th>\n",
       "      <th>Surname</th>\n",
       "      <th>CreditScore</th>\n",
       "      <th>Geography</th>\n",
       "      <th>Gender</th>\n",
       "      <th>Age</th>\n",
       "      <th>Tenure</th>\n",
       "      <th>Balance</th>\n",
       "      <th>NumOfProducts</th>\n",
       "      <th>HasCrCard</th>\n",
       "      <th>IsActiveMember</th>\n",
       "      <th>EstimatedSalary</th>\n",
       "      <th>Exited</th>\n",
       "    </tr>\n",
       "  </thead>\n",
       "  <tbody>\n",
       "    <tr>\n",
       "      <th>0</th>\n",
       "      <td>1</td>\n",
       "      <td>15634602</td>\n",
       "      <td>Hargrave</td>\n",
       "      <td>619</td>\n",
       "      <td>France</td>\n",
       "      <td>Female</td>\n",
       "      <td>42</td>\n",
       "      <td>2</td>\n",
       "      <td>0.00</td>\n",
       "      <td>1</td>\n",
       "      <td>1</td>\n",
       "      <td>1</td>\n",
       "      <td>101348.88</td>\n",
       "      <td>1</td>\n",
       "    </tr>\n",
       "    <tr>\n",
       "      <th>1</th>\n",
       "      <td>2</td>\n",
       "      <td>15647311</td>\n",
       "      <td>Hill</td>\n",
       "      <td>608</td>\n",
       "      <td>Spain</td>\n",
       "      <td>Female</td>\n",
       "      <td>41</td>\n",
       "      <td>1</td>\n",
       "      <td>83807.86</td>\n",
       "      <td>1</td>\n",
       "      <td>0</td>\n",
       "      <td>1</td>\n",
       "      <td>112542.58</td>\n",
       "      <td>0</td>\n",
       "    </tr>\n",
       "    <tr>\n",
       "      <th>2</th>\n",
       "      <td>3</td>\n",
       "      <td>15619304</td>\n",
       "      <td>Onio</td>\n",
       "      <td>502</td>\n",
       "      <td>France</td>\n",
       "      <td>Female</td>\n",
       "      <td>42</td>\n",
       "      <td>8</td>\n",
       "      <td>159660.80</td>\n",
       "      <td>3</td>\n",
       "      <td>1</td>\n",
       "      <td>0</td>\n",
       "      <td>113931.57</td>\n",
       "      <td>1</td>\n",
       "    </tr>\n",
       "    <tr>\n",
       "      <th>3</th>\n",
       "      <td>4</td>\n",
       "      <td>15701354</td>\n",
       "      <td>Boni</td>\n",
       "      <td>699</td>\n",
       "      <td>France</td>\n",
       "      <td>Female</td>\n",
       "      <td>39</td>\n",
       "      <td>1</td>\n",
       "      <td>0.00</td>\n",
       "      <td>2</td>\n",
       "      <td>0</td>\n",
       "      <td>0</td>\n",
       "      <td>93826.63</td>\n",
       "      <td>0</td>\n",
       "    </tr>\n",
       "    <tr>\n",
       "      <th>4</th>\n",
       "      <td>5</td>\n",
       "      <td>15737888</td>\n",
       "      <td>Mitchell</td>\n",
       "      <td>850</td>\n",
       "      <td>Spain</td>\n",
       "      <td>Female</td>\n",
       "      <td>43</td>\n",
       "      <td>2</td>\n",
       "      <td>125510.82</td>\n",
       "      <td>1</td>\n",
       "      <td>1</td>\n",
       "      <td>1</td>\n",
       "      <td>79084.10</td>\n",
       "      <td>0</td>\n",
       "    </tr>\n",
       "  </tbody>\n",
       "</table>\n",
       "</div>"
      ],
      "text/plain": [
       "   RowNumber  CustomerId   Surname  CreditScore Geography  Gender  Age  \\\n",
       "0          1    15634602  Hargrave          619    France  Female   42   \n",
       "1          2    15647311      Hill          608     Spain  Female   41   \n",
       "2          3    15619304      Onio          502    France  Female   42   \n",
       "3          4    15701354      Boni          699    France  Female   39   \n",
       "4          5    15737888  Mitchell          850     Spain  Female   43   \n",
       "\n",
       "   Tenure    Balance  NumOfProducts  HasCrCard  IsActiveMember  \\\n",
       "0       2       0.00              1          1               1   \n",
       "1       1   83807.86              1          0               1   \n",
       "2       8  159660.80              3          1               0   \n",
       "3       1       0.00              2          0               0   \n",
       "4       2  125510.82              1          1               1   \n",
       "\n",
       "   EstimatedSalary  Exited  \n",
       "0        101348.88       1  \n",
       "1        112542.58       0  \n",
       "2        113931.57       1  \n",
       "3         93826.63       0  \n",
       "4         79084.10       0  "
      ]
     },
     "execution_count": 3,
     "metadata": {},
     "output_type": "execute_result"
    }
   ],
   "source": [
    "data.head()"
   ]
  },
  {
   "cell_type": "markdown",
   "id": "67da65e4",
   "metadata": {},
   "source": [
    "### Initial checking of the data"
   ]
  },
  {
   "cell_type": "code",
   "execution_count": 4,
   "id": "04143fda",
   "metadata": {
    "ExecuteTime": {
     "end_time": "2022-10-13T16:08:20.765391Z",
     "start_time": "2022-10-13T16:08:20.746629Z"
    }
   },
   "outputs": [
    {
     "data": {
      "text/plain": [
       "(10000, 14)"
      ]
     },
     "execution_count": 4,
     "metadata": {},
     "output_type": "execute_result"
    }
   ],
   "source": [
    "data.shape"
   ]
  },
  {
   "cell_type": "code",
   "execution_count": 5,
   "id": "0d39156d",
   "metadata": {
    "ExecuteTime": {
     "end_time": "2022-10-13T16:08:20.851066Z",
     "start_time": "2022-10-13T16:08:20.773414Z"
    }
   },
   "outputs": [
    {
     "name": "stdout",
     "output_type": "stream",
     "text": [
      "<class 'pandas.core.frame.DataFrame'>\n",
      "RangeIndex: 10000 entries, 0 to 9999\n",
      "Data columns (total 14 columns):\n",
      " #   Column           Non-Null Count  Dtype  \n",
      "---  ------           --------------  -----  \n",
      " 0   RowNumber        10000 non-null  int64  \n",
      " 1   CustomerId       10000 non-null  int64  \n",
      " 2   Surname          10000 non-null  object \n",
      " 3   CreditScore      10000 non-null  int64  \n",
      " 4   Geography        10000 non-null  object \n",
      " 5   Gender           10000 non-null  object \n",
      " 6   Age              10000 non-null  int64  \n",
      " 7   Tenure           10000 non-null  int64  \n",
      " 8   Balance          10000 non-null  float64\n",
      " 9   NumOfProducts    10000 non-null  int64  \n",
      " 10  HasCrCard        10000 non-null  int64  \n",
      " 11  IsActiveMember   10000 non-null  int64  \n",
      " 12  EstimatedSalary  10000 non-null  float64\n",
      " 13  Exited           10000 non-null  int64  \n",
      "dtypes: float64(2), int64(9), object(3)\n",
      "memory usage: 1.1+ MB\n"
     ]
    }
   ],
   "source": [
    "data.info()"
   ]
  },
  {
   "cell_type": "markdown",
   "id": "c7726ccb",
   "metadata": {},
   "source": [
    "There is no null values in the data"
   ]
  },
  {
   "cell_type": "markdown",
   "id": "6e6f4f31",
   "metadata": {},
   "source": [
    "### Identify the target column"
   ]
  },
  {
   "cell_type": "markdown",
   "id": "e01e634d",
   "metadata": {},
   "source": [
    "Here **Exited** column is the target column. "
   ]
  },
  {
   "cell_type": "markdown",
   "id": "01ae42e4",
   "metadata": {},
   "source": [
    "### Determining the predictors and Preprocess\n",
    "\n",
    "Predictors are nothing but explanatory variables which will be used to predict the class label of a particular instance."
   ]
  },
  {
   "cell_type": "code",
   "execution_count": 6,
   "id": "5ccc5a7a",
   "metadata": {
    "ExecuteTime": {
     "end_time": "2022-10-13T16:08:20.866502Z",
     "start_time": "2022-10-13T16:08:20.853926Z"
    }
   },
   "outputs": [
    {
     "data": {
      "text/plain": [
       "10000"
      ]
     },
     "execution_count": 6,
     "metadata": {},
     "output_type": "execute_result"
    }
   ],
   "source": [
    "data['RowNumber'].nunique()"
   ]
  },
  {
   "cell_type": "markdown",
   "id": "0d9fa7f0",
   "metadata": {},
   "source": [
    "**RowNumber:** It is just numbering of rows and has no significance in determining which instance will belong to wich class. Hence RowNumber is not a predictor."
   ]
  },
  {
   "cell_type": "code",
   "execution_count": 7,
   "id": "392c2a0e",
   "metadata": {
    "ExecuteTime": {
     "end_time": "2022-10-13T16:08:20.890811Z",
     "start_time": "2022-10-13T16:08:20.869674Z"
    }
   },
   "outputs": [
    {
     "data": {
      "text/plain": [
       "10000"
      ]
     },
     "execution_count": 7,
     "metadata": {},
     "output_type": "execute_result"
    }
   ],
   "source": [
    "data['CustomerId'].nunique()"
   ]
  },
  {
   "cell_type": "markdown",
   "id": "16bb919f",
   "metadata": {},
   "source": [
    "**CustomerID:** Like RowNumber, CustomerID is also different for different instances. Hence, we can't use CustomerID as our predictor."
   ]
  },
  {
   "cell_type": "code",
   "execution_count": 8,
   "id": "fd30992c",
   "metadata": {
    "ExecuteTime": {
     "end_time": "2022-10-13T16:08:20.916833Z",
     "start_time": "2022-10-13T16:08:20.893855Z"
    }
   },
   "outputs": [
    {
     "data": {
      "text/plain": [
       "2932"
      ]
     },
     "execution_count": 8,
     "metadata": {},
     "output_type": "execute_result"
    }
   ],
   "source": [
    "data['Surname'].nunique()"
   ]
  },
  {
   "cell_type": "markdown",
   "id": "87a1a9bb",
   "metadata": {},
   "source": [
    "**Surname:** For our usecase Surname will have little to no significance in determining the churn/attrition of the person from the company. So Surname is also not an useful predictor."
   ]
  },
  {
   "cell_type": "markdown",
   "id": "b7c49f90",
   "metadata": {},
   "source": [
    "**CreditScore**"
   ]
  },
  {
   "cell_type": "code",
   "execution_count": 9,
   "id": "3807d985",
   "metadata": {
    "ExecuteTime": {
     "end_time": "2022-10-13T16:08:21.349442Z",
     "start_time": "2022-10-13T16:08:20.921001Z"
    }
   },
   "outputs": [
    {
     "data": {
      "image/png": "[encoded data removed]",
      "text/plain": [
       "<Figure size 720x576 with 1 Axes>"
      ]
     },
     "metadata": {
      "needs_background": "light"
     },
     "output_type": "display_data"
    }
   ],
   "source": [
    "plt.figure(figsize=(10,8))\n",
    "plt.hist(data['CreditScore'].values, bins=20, edgecolor='k')\n",
    "plt.title(\"Histogram of Creditscore\")\n",
    "plt.show()"
   ]
  },
  {
   "cell_type": "markdown",
   "id": "607e5039",
   "metadata": {},
   "source": [
    "So we will use \"CreditScore\" as a predictor. But before that we need to scale it."
   ]
  },
  {
   "cell_type": "markdown",
   "id": "d25f69fb",
   "metadata": {},
   "source": [
    "**Scaling the CreditScore data:**"
   ]
  },
  {
   "cell_type": "code",
   "execution_count": 10,
   "id": "1b027edc",
   "metadata": {
    "ExecuteTime": {
     "end_time": "2022-10-13T16:08:21.364721Z",
     "start_time": "2022-10-13T16:08:21.355196Z"
    }
   },
   "outputs": [],
   "source": [
    "def min_max_scaling(values):\n",
    "    minimum = values.min()\n",
    "    maximum = values.max()\n",
    "    return ((values - minimum)/(maximum - minimum))"
   ]
  },
  {
   "cell_type": "code",
   "execution_count": 11,
   "id": "1bc5ad48",
   "metadata": {
    "ExecuteTime": {
     "end_time": "2022-10-13T16:08:21.397709Z",
     "start_time": "2022-10-13T16:08:21.368960Z"
    }
   },
   "outputs": [],
   "source": [
    "data['CreditScoreScaled'] = min_max_scaling(data['CreditScore'])"
   ]
  },
  {
   "cell_type": "code",
   "execution_count": 12,
   "id": "ae7f685e",
   "metadata": {
    "ExecuteTime": {
     "end_time": "2022-10-13T16:08:21.422856Z",
     "start_time": "2022-10-13T16:08:21.409338Z"
    }
   },
   "outputs": [],
   "source": [
    "feature_list = ['CreditScoreScaled']"
   ]
  },
  {
   "cell_type": "code",
   "execution_count": 13,
   "id": "81d2279d",
   "metadata": {
    "ExecuteTime": {
     "end_time": "2022-10-13T16:08:21.864271Z",
     "start_time": "2022-10-13T16:08:21.435858Z"
    }
   },
   "outputs": [
    {
     "data": {
      "image/png": "[encoded data removed]",
      "text/plain": [
       "<Figure size 720x576 with 1 Axes>"
      ]
     },
     "metadata": {
      "needs_background": "light"
     },
     "output_type": "display_data"
    }
   ],
   "source": [
    "plt.figure(figsize=(10,8))\n",
    "plt.hist(data['CreditScoreScaled'].values, bins=20, edgecolor='k')\n",
    "plt.title(\"Histogram of Scaled Creditscore\")\n",
    "plt.show()"
   ]
  },
  {
   "cell_type": "markdown",
   "id": "329a1bc4",
   "metadata": {},
   "source": [
    "**Geography**"
   ]
  },
  {
   "cell_type": "code",
   "execution_count": 14,
   "id": "2e0f7809",
   "metadata": {
    "ExecuteTime": {
     "end_time": "2022-10-13T16:08:21.888303Z",
     "start_time": "2022-10-13T16:08:21.866370Z"
    }
   },
   "outputs": [
    {
     "data": {
      "text/plain": [
       "array(['France', 'Spain', 'Germany'], dtype=object)"
      ]
     },
     "execution_count": 14,
     "metadata": {},
     "output_type": "execute_result"
    }
   ],
   "source": [
    "data['Geography'].unique()"
   ]
  },
  {
   "cell_type": "code",
   "execution_count": 15,
   "id": "901e7df2",
   "metadata": {
    "ExecuteTime": {
     "end_time": "2022-10-13T16:08:21.946470Z",
     "start_time": "2022-10-13T16:08:21.890306Z"
    }
   },
   "outputs": [
    {
     "data": {
      "text/html": [
       "<div>\n",
       "<style scoped>\n",
       "    .dataframe tbody tr th:only-of-type {\n",
       "        vertical-align: middle;\n",
       "    }\n",
       "\n",
       "    .dataframe tbody tr th {\n",
       "        vertical-align: top;\n",
       "    }\n",
       "\n",
       "    .dataframe thead th {\n",
       "        text-align: right;\n",
       "    }\n",
       "</style>\n",
       "<table border=\"1\" class=\"dataframe\">\n",
       "  <thead>\n",
       "    <tr style=\"text-align: right;\">\n",
       "      <th>Exited</th>\n",
       "      <th>0</th>\n",
       "      <th>1</th>\n",
       "    </tr>\n",
       "    <tr>\n",
       "      <th>Geography</th>\n",
       "      <th></th>\n",
       "      <th></th>\n",
       "    </tr>\n",
       "  </thead>\n",
       "  <tbody>\n",
       "    <tr>\n",
       "      <th>France</th>\n",
       "      <td>0.838452</td>\n",
       "      <td>0.161548</td>\n",
       "    </tr>\n",
       "    <tr>\n",
       "      <th>Germany</th>\n",
       "      <td>0.675568</td>\n",
       "      <td>0.324432</td>\n",
       "    </tr>\n",
       "    <tr>\n",
       "      <th>Spain</th>\n",
       "      <td>0.833266</td>\n",
       "      <td>0.166734</td>\n",
       "    </tr>\n",
       "  </tbody>\n",
       "</table>\n",
       "</div>"
      ],
      "text/plain": [
       "Exited            0         1\n",
       "Geography                    \n",
       "France     0.838452  0.161548\n",
       "Germany    0.675568  0.324432\n",
       "Spain      0.833266  0.166734"
      ]
     },
     "execution_count": 15,
     "metadata": {},
     "output_type": "execute_result"
    }
   ],
   "source": [
    "pd.crosstab(index=data['Geography'], columns=data['Exited'], normalize='index')"
   ]
  },
  {
   "cell_type": "markdown",
   "id": "bc1c8513",
   "metadata": {},
   "source": [
    "We need to consider \"Geography\" as a predictor. But as Geography is a categorical variable we need to convert it into suitable format. We will one-hot-encode them"
   ]
  },
  {
   "cell_type": "code",
   "execution_count": 16,
   "id": "85d54bb2",
   "metadata": {
    "ExecuteTime": {
     "end_time": "2022-10-13T16:08:21.970522Z",
     "start_time": "2022-10-13T16:08:21.951472Z"
    }
   },
   "outputs": [],
   "source": [
    "geography_encoded = pd.get_dummies(data['Geography'], drop_first=True)"
   ]
  },
  {
   "cell_type": "code",
   "execution_count": 17,
   "id": "1c86d906",
   "metadata": {
    "ExecuteTime": {
     "end_time": "2022-10-13T16:08:22.011049Z",
     "start_time": "2022-10-13T16:08:21.975067Z"
    }
   },
   "outputs": [],
   "source": [
    "data = pd.concat([data, geography_encoded], axis=1)"
   ]
  },
  {
   "cell_type": "code",
   "execution_count": 18,
   "id": "fc574e8e",
   "metadata": {
    "ExecuteTime": {
     "end_time": "2022-10-13T16:08:22.060834Z",
     "start_time": "2022-10-13T16:08:22.015057Z"
    }
   },
   "outputs": [
    {
     "data": {
      "text/html": [
       "<div>\n",
       "<style scoped>\n",
       "    .dataframe tbody tr th:only-of-type {\n",
       "        vertical-align: middle;\n",
       "    }\n",
       "\n",
       "    .dataframe tbody tr th {\n",
       "        vertical-align: top;\n",
       "    }\n",
       "\n",
       "    .dataframe thead th {\n",
       "        text-align: right;\n",
       "    }\n",
       "</style>\n",
       "<table border=\"1\" class=\"dataframe\">\n",
       "  <thead>\n",
       "    <tr style=\"text-align: right;\">\n",
       "      <th></th>\n",
       "      <th>RowNumber</th>\n",
       "      <th>CustomerId</th>\n",
       "      <th>Surname</th>\n",
       "      <th>CreditScore</th>\n",
       "      <th>Geography</th>\n",
       "      <th>Gender</th>\n",
       "      <th>Age</th>\n",
       "      <th>Tenure</th>\n",
       "      <th>Balance</th>\n",
       "      <th>NumOfProducts</th>\n",
       "      <th>HasCrCard</th>\n",
       "      <th>IsActiveMember</th>\n",
       "      <th>EstimatedSalary</th>\n",
       "      <th>Exited</th>\n",
       "      <th>CreditScoreScaled</th>\n",
       "      <th>Germany</th>\n",
       "      <th>Spain</th>\n",
       "    </tr>\n",
       "  </thead>\n",
       "  <tbody>\n",
       "    <tr>\n",
       "      <th>0</th>\n",
       "      <td>1</td>\n",
       "      <td>15634602</td>\n",
       "      <td>Hargrave</td>\n",
       "      <td>619</td>\n",
       "      <td>France</td>\n",
       "      <td>Female</td>\n",
       "      <td>42</td>\n",
       "      <td>2</td>\n",
       "      <td>0.00</td>\n",
       "      <td>1</td>\n",
       "      <td>1</td>\n",
       "      <td>1</td>\n",
       "      <td>101348.88</td>\n",
       "      <td>1</td>\n",
       "      <td>0.538</td>\n",
       "      <td>0</td>\n",
       "      <td>0</td>\n",
       "    </tr>\n",
       "    <tr>\n",
       "      <th>1</th>\n",
       "      <td>2</td>\n",
       "      <td>15647311</td>\n",
       "      <td>Hill</td>\n",
       "      <td>608</td>\n",
       "      <td>Spain</td>\n",
       "      <td>Female</td>\n",
       "      <td>41</td>\n",
       "      <td>1</td>\n",
       "      <td>83807.86</td>\n",
       "      <td>1</td>\n",
       "      <td>0</td>\n",
       "      <td>1</td>\n",
       "      <td>112542.58</td>\n",
       "      <td>0</td>\n",
       "      <td>0.516</td>\n",
       "      <td>0</td>\n",
       "      <td>1</td>\n",
       "    </tr>\n",
       "    <tr>\n",
       "      <th>2</th>\n",
       "      <td>3</td>\n",
       "      <td>15619304</td>\n",
       "      <td>Onio</td>\n",
       "      <td>502</td>\n",
       "      <td>France</td>\n",
       "      <td>Female</td>\n",
       "      <td>42</td>\n",
       "      <td>8</td>\n",
       "      <td>159660.80</td>\n",
       "      <td>3</td>\n",
       "      <td>1</td>\n",
       "      <td>0</td>\n",
       "      <td>113931.57</td>\n",
       "      <td>1</td>\n",
       "      <td>0.304</td>\n",
       "      <td>0</td>\n",
       "      <td>0</td>\n",
       "    </tr>\n",
       "    <tr>\n",
       "      <th>3</th>\n",
       "      <td>4</td>\n",
       "      <td>15701354</td>\n",
       "      <td>Boni</td>\n",
       "      <td>699</td>\n",
       "      <td>France</td>\n",
       "      <td>Female</td>\n",
       "      <td>39</td>\n",
       "      <td>1</td>\n",
       "      <td>0.00</td>\n",
       "      <td>2</td>\n",
       "      <td>0</td>\n",
       "      <td>0</td>\n",
       "      <td>93826.63</td>\n",
       "      <td>0</td>\n",
       "      <td>0.698</td>\n",
       "      <td>0</td>\n",
       "      <td>0</td>\n",
       "    </tr>\n",
       "    <tr>\n",
       "      <th>4</th>\n",
       "      <td>5</td>\n",
       "      <td>15737888</td>\n",
       "      <td>Mitchell</td>\n",
       "      <td>850</td>\n",
       "      <td>Spain</td>\n",
       "      <td>Female</td>\n",
       "      <td>43</td>\n",
       "      <td>2</td>\n",
       "      <td>125510.82</td>\n",
       "      <td>1</td>\n",
       "      <td>1</td>\n",
       "      <td>1</td>\n",
       "      <td>79084.10</td>\n",
       "      <td>0</td>\n",
       "      <td>1.000</td>\n",
       "      <td>0</td>\n",
       "      <td>1</td>\n",
       "    </tr>\n",
       "    <tr>\n",
       "      <th>5</th>\n",
       "      <td>6</td>\n",
       "      <td>15574012</td>\n",
       "      <td>Chu</td>\n",
       "      <td>645</td>\n",
       "      <td>Spain</td>\n",
       "      <td>Male</td>\n",
       "      <td>44</td>\n",
       "      <td>8</td>\n",
       "      <td>113755.78</td>\n",
       "      <td>2</td>\n",
       "      <td>1</td>\n",
       "      <td>0</td>\n",
       "      <td>149756.71</td>\n",
       "      <td>1</td>\n",
       "      <td>0.590</td>\n",
       "      <td>0</td>\n",
       "      <td>1</td>\n",
       "    </tr>\n",
       "    <tr>\n",
       "      <th>6</th>\n",
       "      <td>7</td>\n",
       "      <td>15592531</td>\n",
       "      <td>Bartlett</td>\n",
       "      <td>822</td>\n",
       "      <td>France</td>\n",
       "      <td>Male</td>\n",
       "      <td>50</td>\n",
       "      <td>7</td>\n",
       "      <td>0.00</td>\n",
       "      <td>2</td>\n",
       "      <td>1</td>\n",
       "      <td>1</td>\n",
       "      <td>10062.80</td>\n",
       "      <td>0</td>\n",
       "      <td>0.944</td>\n",
       "      <td>0</td>\n",
       "      <td>0</td>\n",
       "    </tr>\n",
       "    <tr>\n",
       "      <th>7</th>\n",
       "      <td>8</td>\n",
       "      <td>15656148</td>\n",
       "      <td>Obinna</td>\n",
       "      <td>376</td>\n",
       "      <td>Germany</td>\n",
       "      <td>Female</td>\n",
       "      <td>29</td>\n",
       "      <td>4</td>\n",
       "      <td>115046.74</td>\n",
       "      <td>4</td>\n",
       "      <td>1</td>\n",
       "      <td>0</td>\n",
       "      <td>119346.88</td>\n",
       "      <td>1</td>\n",
       "      <td>0.052</td>\n",
       "      <td>1</td>\n",
       "      <td>0</td>\n",
       "    </tr>\n",
       "    <tr>\n",
       "      <th>8</th>\n",
       "      <td>9</td>\n",
       "      <td>15792365</td>\n",
       "      <td>He</td>\n",
       "      <td>501</td>\n",
       "      <td>France</td>\n",
       "      <td>Male</td>\n",
       "      <td>44</td>\n",
       "      <td>4</td>\n",
       "      <td>142051.07</td>\n",
       "      <td>2</td>\n",
       "      <td>0</td>\n",
       "      <td>1</td>\n",
       "      <td>74940.50</td>\n",
       "      <td>0</td>\n",
       "      <td>0.302</td>\n",
       "      <td>0</td>\n",
       "      <td>0</td>\n",
       "    </tr>\n",
       "    <tr>\n",
       "      <th>9</th>\n",
       "      <td>10</td>\n",
       "      <td>15592389</td>\n",
       "      <td>H?</td>\n",
       "      <td>684</td>\n",
       "      <td>France</td>\n",
       "      <td>Male</td>\n",
       "      <td>27</td>\n",
       "      <td>2</td>\n",
       "      <td>134603.88</td>\n",
       "      <td>1</td>\n",
       "      <td>1</td>\n",
       "      <td>1</td>\n",
       "      <td>71725.73</td>\n",
       "      <td>0</td>\n",
       "      <td>0.668</td>\n",
       "      <td>0</td>\n",
       "      <td>0</td>\n",
       "    </tr>\n",
       "  </tbody>\n",
       "</table>\n",
       "</div>"
      ],
      "text/plain": [
       "   RowNumber  CustomerId   Surname  CreditScore Geography  Gender  Age  \\\n",
       "0          1    15634602  Hargrave          619    France  Female   42   \n",
       "1          2    15647311      Hill          608     Spain  Female   41   \n",
       "2          3    15619304      Onio          502    France  Female   42   \n",
       "3          4    15701354      Boni          699    France  Female   39   \n",
       "4          5    15737888  Mitchell          850     Spain  Female   43   \n",
       "5          6    15574012       Chu          645     Spain    Male   44   \n",
       "6          7    15592531  Bartlett          822    France    Male   50   \n",
       "7          8    15656148    Obinna          376   Germany  Female   29   \n",
       "8          9    15792365        He          501    France    Male   44   \n",
       "9         10    15592389        H?          684    France    Male   27   \n",
       "\n",
       "   Tenure    Balance  NumOfProducts  HasCrCard  IsActiveMember  \\\n",
       "0       2       0.00              1          1               1   \n",
       "1       1   83807.86              1          0               1   \n",
       "2       8  159660.80              3          1               0   \n",
       "3       1       0.00              2          0               0   \n",
       "4       2  125510.82              1          1               1   \n",
       "5       8  113755.78              2          1               0   \n",
       "6       7       0.00              2          1               1   \n",
       "7       4  115046.74              4          1               0   \n",
       "8       4  142051.07              2          0               1   \n",
       "9       2  134603.88              1          1               1   \n",
       "\n",
       "   EstimatedSalary  Exited  CreditScoreScaled  Germany  Spain  \n",
       "0        101348.88       1              0.538        0      0  \n",
       "1        112542.58       0              0.516        0      1  \n",
       "2        113931.57       1              0.304        0      0  \n",
       "3         93826.63       0              0.698        0      0  \n",
       "4         79084.10       0              1.000        0      1  \n",
       "5        149756.71       1              0.590        0      1  \n",
       "6         10062.80       0              0.944        0      0  \n",
       "7        119346.88       1              0.052        1      0  \n",
       "8         74940.50       0              0.302        0      0  \n",
       "9         71725.73       0              0.668        0      0  "
      ]
     },
     "execution_count": 18,
     "metadata": {},
     "output_type": "execute_result"
    }
   ],
   "source": [
    "data.head(10)"
   ]
  },
  {
   "cell_type": "code",
   "execution_count": 19,
   "id": "f36ae12a",
   "metadata": {
    "ExecuteTime": {
     "end_time": "2022-10-13T16:08:22.075908Z",
     "start_time": "2022-10-13T16:08:22.064873Z"
    }
   },
   "outputs": [],
   "source": [
    "feature_list += ['Germany', 'Spain']"
   ]
  },
  {
   "cell_type": "markdown",
   "id": "22bab587",
   "metadata": {},
   "source": [
    "**Gender**"
   ]
  },
  {
   "cell_type": "code",
   "execution_count": 20,
   "id": "85d40eb6",
   "metadata": {
    "ExecuteTime": {
     "end_time": "2022-10-13T16:08:22.123956Z",
     "start_time": "2022-10-13T16:08:22.080720Z"
    }
   },
   "outputs": [
    {
     "data": {
      "text/html": [
       "<div>\n",
       "<style scoped>\n",
       "    .dataframe tbody tr th:only-of-type {\n",
       "        vertical-align: middle;\n",
       "    }\n",
       "\n",
       "    .dataframe tbody tr th {\n",
       "        vertical-align: top;\n",
       "    }\n",
       "\n",
       "    .dataframe thead th {\n",
       "        text-align: right;\n",
       "    }\n",
       "</style>\n",
       "<table border=\"1\" class=\"dataframe\">\n",
       "  <thead>\n",
       "    <tr style=\"text-align: right;\">\n",
       "      <th>Exited</th>\n",
       "      <th>0</th>\n",
       "      <th>1</th>\n",
       "    </tr>\n",
       "    <tr>\n",
       "      <th>Gender</th>\n",
       "      <th></th>\n",
       "      <th></th>\n",
       "    </tr>\n",
       "  </thead>\n",
       "  <tbody>\n",
       "    <tr>\n",
       "      <th>Female</th>\n",
       "      <td>0.749285</td>\n",
       "      <td>0.250715</td>\n",
       "    </tr>\n",
       "    <tr>\n",
       "      <th>Male</th>\n",
       "      <td>0.835441</td>\n",
       "      <td>0.164559</td>\n",
       "    </tr>\n",
       "  </tbody>\n",
       "</table>\n",
       "</div>"
      ],
      "text/plain": [
       "Exited         0         1\n",
       "Gender                    \n",
       "Female  0.749285  0.250715\n",
       "Male    0.835441  0.164559"
      ]
     },
     "execution_count": 20,
     "metadata": {},
     "output_type": "execute_result"
    }
   ],
   "source": [
    "pd.crosstab(index=data['Gender'], columns=data['Exited'], normalize='index')"
   ]
  },
  {
   "cell_type": "markdown",
   "id": "9d9a12fb",
   "metadata": {},
   "source": [
    "Gender can also play a vital role in classification. We should consider gender as predictor, but we need to encode it first."
   ]
  },
  {
   "cell_type": "code",
   "execution_count": 21,
   "id": "2bfa1ff5",
   "metadata": {
    "ExecuteTime": {
     "end_time": "2022-10-13T16:08:22.139637Z",
     "start_time": "2022-10-13T16:08:22.125957Z"
    }
   },
   "outputs": [],
   "source": [
    "data['GenderCoded'] = [1 if x == 'Male' else 0 for x in data['Gender']]"
   ]
  },
  {
   "cell_type": "code",
   "execution_count": 22,
   "id": "98931e7d",
   "metadata": {
    "ExecuteTime": {
     "end_time": "2022-10-13T16:08:22.157208Z",
     "start_time": "2022-10-13T16:08:22.144392Z"
    }
   },
   "outputs": [],
   "source": [
    "feature_list += ['GenderCoded']"
   ]
  },
  {
   "cell_type": "markdown",
   "id": "097dd84c",
   "metadata": {},
   "source": [
    "**Age**"
   ]
  },
  {
   "cell_type": "code",
   "execution_count": 23,
   "id": "d744b7cb",
   "metadata": {
    "ExecuteTime": {
     "end_time": "2022-10-13T16:08:22.540700Z",
     "start_time": "2022-10-13T16:08:22.160650Z"
    }
   },
   "outputs": [
    {
     "data": {
      "image/png": "[encoded data removed]",
      "text/plain": [
       "<Figure size 720x576 with 1 Axes>"
      ]
     },
     "metadata": {
      "needs_background": "light"
     },
     "output_type": "display_data"
    }
   ],
   "source": [
    "plt.figure(figsize=(10,8))\n",
    "plt.hist(data['Age'],bins=20, edgecolor='k')\n",
    "plt.title(\"Histogram of Age\")\n",
    "plt.show()"
   ]
  },
  {
   "cell_type": "markdown",
   "id": "e119d09c",
   "metadata": {},
   "source": [
    "We shall consider \"Age\" as our predictor. But before that we need to scale it."
   ]
  },
  {
   "cell_type": "code",
   "execution_count": 24,
   "id": "7785c17d",
   "metadata": {
    "ExecuteTime": {
     "end_time": "2022-10-13T16:08:22.557189Z",
     "start_time": "2022-10-13T16:08:22.543739Z"
    }
   },
   "outputs": [],
   "source": [
    "data['AgeScaled'] = min_max_scaling(data['Age'])"
   ]
  },
  {
   "cell_type": "code",
   "execution_count": 25,
   "id": "2cac19c4",
   "metadata": {
    "ExecuteTime": {
     "end_time": "2022-10-13T16:08:22.582141Z",
     "start_time": "2022-10-13T16:08:22.560605Z"
    }
   },
   "outputs": [],
   "source": [
    "feature_list += ['AgeScaled']"
   ]
  },
  {
   "cell_type": "code",
   "execution_count": 26,
   "id": "642e4a4a",
   "metadata": {
    "ExecuteTime": {
     "end_time": "2022-10-13T16:08:22.987155Z",
     "start_time": "2022-10-13T16:08:22.589541Z"
    }
   },
   "outputs": [
    {
     "data": {
      "image/png": "[encoded data removed]",
      "text/plain": [
       "<Figure size 720x576 with 1 Axes>"
      ]
     },
     "metadata": {
      "needs_background": "light"
     },
     "output_type": "display_data"
    }
   ],
   "source": [
    "plt.figure(figsize=(10,8))\n",
    "plt.hist(data['AgeScaled'],bins=20, edgecolor='k')\n",
    "plt.title(\"Histogram of Age Scaled\")\n",
    "plt.show()"
   ]
  },
  {
   "cell_type": "markdown",
   "id": "91414560",
   "metadata": {},
   "source": [
    "**Tenure**"
   ]
  },
  {
   "cell_type": "code",
   "execution_count": 27,
   "id": "f9c50d0c",
   "metadata": {
    "ExecuteTime": {
     "end_time": "2022-10-13T16:08:23.011041Z",
     "start_time": "2022-10-13T16:08:22.990959Z"
    }
   },
   "outputs": [
    {
     "data": {
      "text/plain": [
       "array([ 2,  1,  8,  7,  4,  6,  3, 10,  5,  9,  0], dtype=int64)"
      ]
     },
     "execution_count": 27,
     "metadata": {},
     "output_type": "execute_result"
    }
   ],
   "source": [
    "data['Tenure'].unique()"
   ]
  },
  {
   "cell_type": "markdown",
   "id": "ca26e1cd",
   "metadata": {},
   "source": [
    "We will use Tenure as our predictor without any further modification."
   ]
  },
  {
   "cell_type": "code",
   "execution_count": 28,
   "id": "ed625de5",
   "metadata": {
    "ExecuteTime": {
     "end_time": "2022-10-13T16:08:23.042098Z",
     "start_time": "2022-10-13T16:08:23.017050Z"
    }
   },
   "outputs": [],
   "source": [
    "feature_list += ['Tenure']"
   ]
  },
  {
   "cell_type": "markdown",
   "id": "6f7a6a8e",
   "metadata": {},
   "source": [
    "**Balance**"
   ]
  },
  {
   "cell_type": "code",
   "execution_count": 29,
   "id": "b8a083f5",
   "metadata": {
    "ExecuteTime": {
     "end_time": "2022-10-13T16:08:23.517635Z",
     "start_time": "2022-10-13T16:08:23.047513Z"
    }
   },
   "outputs": [
    {
     "data": {
      "image/png": "[encoded data removed]",
      "text/plain": [
       "<Figure size 720x576 with 1 Axes>"
      ]
     },
     "metadata": {
      "needs_background": "light"
     },
     "output_type": "display_data"
    }
   ],
   "source": [
    "plt.figure(figsize=(10,8))\n",
    "plt.hist(data['Balance'],bins=20, edgecolor='k')\n",
    "plt.title(\"Histogram of Balance\")\n",
    "plt.show()"
   ]
  },
  {
   "cell_type": "code",
   "execution_count": 30,
   "id": "a4cd6015",
   "metadata": {
    "ExecuteTime": {
     "end_time": "2022-10-13T16:08:23.534528Z",
     "start_time": "2022-10-13T16:08:23.520638Z"
    }
   },
   "outputs": [],
   "source": [
    "data['BalanceScaled'] = min_max_scaling(data['Balance'])"
   ]
  },
  {
   "cell_type": "code",
   "execution_count": 31,
   "id": "ed841967",
   "metadata": {
    "ExecuteTime": {
     "end_time": "2022-10-13T16:08:23.940962Z",
     "start_time": "2022-10-13T16:08:23.538223Z"
    }
   },
   "outputs": [
    {
     "data": {
      "image/png": "[encoded data removed]",
      "text/plain": [
       "<Figure size 720x576 with 1 Axes>"
      ]
     },
     "metadata": {
      "needs_background": "light"
     },
     "output_type": "display_data"
    }
   ],
   "source": [
    "plt.figure(figsize=(10,8))\n",
    "plt.hist(data['BalanceScaled'],bins=20, edgecolor='k')\n",
    "plt.title(\"Histogram of Scaled Balance\")\n",
    "plt.show()"
   ]
  },
  {
   "cell_type": "code",
   "execution_count": 32,
   "id": "c6d3e8c7",
   "metadata": {
    "ExecuteTime": {
     "end_time": "2022-10-13T16:08:23.956272Z",
     "start_time": "2022-10-13T16:08:23.944237Z"
    }
   },
   "outputs": [
    {
     "data": {
      "text/plain": [
       "Index(['RowNumber', 'CustomerId', 'Surname', 'CreditScore', 'Geography',\n",
       "       'Gender', 'Age', 'Tenure', 'Balance', 'NumOfProducts', 'HasCrCard',\n",
       "       'IsActiveMember', 'EstimatedSalary', 'Exited', 'CreditScoreScaled',\n",
       "       'Germany', 'Spain', 'GenderCoded', 'AgeScaled', 'BalanceScaled'],\n",
       "      dtype='object')"
      ]
     },
     "execution_count": 32,
     "metadata": {},
     "output_type": "execute_result"
    }
   ],
   "source": [
    "data.columns"
   ]
  },
  {
   "cell_type": "code",
   "execution_count": 33,
   "id": "99fb0da7",
   "metadata": {
    "ExecuteTime": {
     "end_time": "2022-10-13T16:08:23.989338Z",
     "start_time": "2022-10-13T16:08:23.959134Z"
    }
   },
   "outputs": [],
   "source": [
    "feature_list += ['BalanceScaled', 'NumOfProducts', 'HasCrCard', 'IsActiveMember']"
   ]
  },
  {
   "cell_type": "markdown",
   "id": "daf68f3a",
   "metadata": {},
   "source": [
    "**EstimatedSalary**"
   ]
  },
  {
   "cell_type": "code",
   "execution_count": 34,
   "id": "e3443f62",
   "metadata": {
    "ExecuteTime": {
     "end_time": "2022-10-13T16:08:24.410930Z",
     "start_time": "2022-10-13T16:08:23.991356Z"
    }
   },
   "outputs": [
    {
     "data": {
      "image/png": "[encoded data removed]",
      "text/plain": [
       "<Figure size 720x576 with 1 Axes>"
      ]
     },
     "metadata": {
      "needs_background": "light"
     },
     "output_type": "display_data"
    }
   ],
   "source": [
    "plt.figure(figsize=(10,8))\n",
    "plt.hist(data['EstimatedSalary'],bins=20, edgecolor='k')\n",
    "plt.title(\"Histogram of Estimated Salary\")\n",
    "plt.show()"
   ]
  },
  {
   "cell_type": "code",
   "execution_count": 35,
   "id": "add33aa8",
   "metadata": {
    "ExecuteTime": {
     "end_time": "2022-10-13T16:08:24.426037Z",
     "start_time": "2022-10-13T16:08:24.413666Z"
    }
   },
   "outputs": [],
   "source": [
    "data['EstimatedSalaryScaled'] = min_max_scaling(data['EstimatedSalary'])"
   ]
  },
  {
   "cell_type": "code",
   "execution_count": 36,
   "id": "350ad291",
   "metadata": {
    "ExecuteTime": {
     "end_time": "2022-10-13T16:08:24.444423Z",
     "start_time": "2022-10-13T16:08:24.429349Z"
    }
   },
   "outputs": [],
   "source": [
    "feature_list += ['EstimatedSalaryScaled']"
   ]
  },
  {
   "cell_type": "markdown",
   "id": "3f2a1f8b",
   "metadata": {},
   "source": [
    "**The final feature list**"
   ]
  },
  {
   "cell_type": "code",
   "execution_count": 37,
   "id": "9e2ba8db",
   "metadata": {
    "ExecuteTime": {
     "end_time": "2022-10-13T16:08:24.475780Z",
     "start_time": "2022-10-13T16:08:24.449194Z"
    }
   },
   "outputs": [
    {
     "data": {
      "text/plain": [
       "['CreditScoreScaled',\n",
       " 'Germany',\n",
       " 'Spain',\n",
       " 'GenderCoded',\n",
       " 'AgeScaled',\n",
       " 'Tenure',\n",
       " 'BalanceScaled',\n",
       " 'NumOfProducts',\n",
       " 'HasCrCard',\n",
       " 'IsActiveMember',\n",
       " 'EstimatedSalaryScaled']"
      ]
     },
     "execution_count": 37,
     "metadata": {},
     "output_type": "execute_result"
    }
   ],
   "source": [
    "feature_list"
   ]
  },
  {
   "cell_type": "markdown",
   "id": "092a7d7e",
   "metadata": {},
   "source": [
    "### Save the preprocessed data along with target"
   ]
  },
  {
   "cell_type": "code",
   "execution_count": 38,
   "id": "edefd590",
   "metadata": {
    "ExecuteTime": {
     "end_time": "2022-10-13T16:08:24.499110Z",
     "start_time": "2022-10-13T16:08:24.482782Z"
    }
   },
   "outputs": [],
   "source": [
    "processed_data = data[feature_list + ['Exited']]"
   ]
  },
  {
   "cell_type": "code",
   "execution_count": 39,
   "id": "360a9f37",
   "metadata": {
    "ExecuteTime": {
     "end_time": "2022-10-13T16:08:24.549273Z",
     "start_time": "2022-10-13T16:08:24.506141Z"
    }
   },
   "outputs": [
    {
     "data": {
      "text/html": [
       "<div>\n",
       "<style scoped>\n",
       "    .dataframe tbody tr th:only-of-type {\n",
       "        vertical-align: middle;\n",
       "    }\n",
       "\n",
       "    .dataframe tbody tr th {\n",
       "        vertical-align: top;\n",
       "    }\n",
       "\n",
       "    .dataframe thead th {\n",
       "        text-align: right;\n",
       "    }\n",
       "</style>\n",
       "<table border=\"1\" class=\"dataframe\">\n",
       "  <thead>\n",
       "    <tr style=\"text-align: right;\">\n",
       "      <th></th>\n",
       "      <th>CreditScoreScaled</th>\n",
       "      <th>Germany</th>\n",
       "      <th>Spain</th>\n",
       "      <th>GenderCoded</th>\n",
       "      <th>AgeScaled</th>\n",
       "      <th>Tenure</th>\n",
       "      <th>BalanceScaled</th>\n",
       "      <th>NumOfProducts</th>\n",
       "      <th>HasCrCard</th>\n",
       "      <th>IsActiveMember</th>\n",
       "      <th>EstimatedSalaryScaled</th>\n",
       "      <th>Exited</th>\n",
       "    </tr>\n",
       "  </thead>\n",
       "  <tbody>\n",
       "    <tr>\n",
       "      <th>0</th>\n",
       "      <td>0.538</td>\n",
       "      <td>0</td>\n",
       "      <td>0</td>\n",
       "      <td>0</td>\n",
       "      <td>0.324324</td>\n",
       "      <td>2</td>\n",
       "      <td>0.000000</td>\n",
       "      <td>1</td>\n",
       "      <td>1</td>\n",
       "      <td>1</td>\n",
       "      <td>0.506735</td>\n",
       "      <td>1</td>\n",
       "    </tr>\n",
       "    <tr>\n",
       "      <th>1</th>\n",
       "      <td>0.516</td>\n",
       "      <td>0</td>\n",
       "      <td>1</td>\n",
       "      <td>0</td>\n",
       "      <td>0.310811</td>\n",
       "      <td>1</td>\n",
       "      <td>0.334031</td>\n",
       "      <td>1</td>\n",
       "      <td>0</td>\n",
       "      <td>1</td>\n",
       "      <td>0.562709</td>\n",
       "      <td>0</td>\n",
       "    </tr>\n",
       "    <tr>\n",
       "      <th>2</th>\n",
       "      <td>0.304</td>\n",
       "      <td>0</td>\n",
       "      <td>0</td>\n",
       "      <td>0</td>\n",
       "      <td>0.324324</td>\n",
       "      <td>8</td>\n",
       "      <td>0.636357</td>\n",
       "      <td>3</td>\n",
       "      <td>1</td>\n",
       "      <td>0</td>\n",
       "      <td>0.569654</td>\n",
       "      <td>1</td>\n",
       "    </tr>\n",
       "    <tr>\n",
       "      <th>3</th>\n",
       "      <td>0.698</td>\n",
       "      <td>0</td>\n",
       "      <td>0</td>\n",
       "      <td>0</td>\n",
       "      <td>0.283784</td>\n",
       "      <td>1</td>\n",
       "      <td>0.000000</td>\n",
       "      <td>2</td>\n",
       "      <td>0</td>\n",
       "      <td>0</td>\n",
       "      <td>0.469120</td>\n",
       "      <td>0</td>\n",
       "    </tr>\n",
       "    <tr>\n",
       "      <th>4</th>\n",
       "      <td>1.000</td>\n",
       "      <td>0</td>\n",
       "      <td>1</td>\n",
       "      <td>0</td>\n",
       "      <td>0.337838</td>\n",
       "      <td>2</td>\n",
       "      <td>0.500246</td>\n",
       "      <td>1</td>\n",
       "      <td>1</td>\n",
       "      <td>1</td>\n",
       "      <td>0.395400</td>\n",
       "      <td>0</td>\n",
       "    </tr>\n",
       "    <tr>\n",
       "      <th>5</th>\n",
       "      <td>0.590</td>\n",
       "      <td>0</td>\n",
       "      <td>1</td>\n",
       "      <td>1</td>\n",
       "      <td>0.351351</td>\n",
       "      <td>8</td>\n",
       "      <td>0.453394</td>\n",
       "      <td>2</td>\n",
       "      <td>1</td>\n",
       "      <td>0</td>\n",
       "      <td>0.748797</td>\n",
       "      <td>1</td>\n",
       "    </tr>\n",
       "    <tr>\n",
       "      <th>6</th>\n",
       "      <td>0.944</td>\n",
       "      <td>0</td>\n",
       "      <td>0</td>\n",
       "      <td>1</td>\n",
       "      <td>0.432432</td>\n",
       "      <td>7</td>\n",
       "      <td>0.000000</td>\n",
       "      <td>2</td>\n",
       "      <td>1</td>\n",
       "      <td>1</td>\n",
       "      <td>0.050261</td>\n",
       "      <td>0</td>\n",
       "    </tr>\n",
       "    <tr>\n",
       "      <th>7</th>\n",
       "      <td>0.052</td>\n",
       "      <td>1</td>\n",
       "      <td>0</td>\n",
       "      <td>0</td>\n",
       "      <td>0.148649</td>\n",
       "      <td>4</td>\n",
       "      <td>0.458540</td>\n",
       "      <td>4</td>\n",
       "      <td>1</td>\n",
       "      <td>0</td>\n",
       "      <td>0.596733</td>\n",
       "      <td>1</td>\n",
       "    </tr>\n",
       "    <tr>\n",
       "      <th>8</th>\n",
       "      <td>0.302</td>\n",
       "      <td>0</td>\n",
       "      <td>0</td>\n",
       "      <td>1</td>\n",
       "      <td>0.351351</td>\n",
       "      <td>4</td>\n",
       "      <td>0.566170</td>\n",
       "      <td>2</td>\n",
       "      <td>0</td>\n",
       "      <td>1</td>\n",
       "      <td>0.374680</td>\n",
       "      <td>0</td>\n",
       "    </tr>\n",
       "    <tr>\n",
       "      <th>9</th>\n",
       "      <td>0.668</td>\n",
       "      <td>0</td>\n",
       "      <td>0</td>\n",
       "      <td>1</td>\n",
       "      <td>0.121622</td>\n",
       "      <td>2</td>\n",
       "      <td>0.536488</td>\n",
       "      <td>1</td>\n",
       "      <td>1</td>\n",
       "      <td>1</td>\n",
       "      <td>0.358605</td>\n",
       "      <td>0</td>\n",
       "    </tr>\n",
       "  </tbody>\n",
       "</table>\n",
       "</div>"
      ],
      "text/plain": [
       "   CreditScoreScaled  Germany  Spain  GenderCoded  AgeScaled  Tenure  \\\n",
       "0              0.538        0      0            0   0.324324       2   \n",
       "1              0.516        0      1            0   0.310811       1   \n",
       "2              0.304        0      0            0   0.324324       8   \n",
       "3              0.698        0      0            0   0.283784       1   \n",
       "4              1.000        0      1            0   0.337838       2   \n",
       "5              0.590        0      1            1   0.351351       8   \n",
       "6              0.944        0      0            1   0.432432       7   \n",
       "7              0.052        1      0            0   0.148649       4   \n",
       "8              0.302        0      0            1   0.351351       4   \n",
       "9              0.668        0      0            1   0.121622       2   \n",
       "\n",
       "   BalanceScaled  NumOfProducts  HasCrCard  IsActiveMember  \\\n",
       "0       0.000000              1          1               1   \n",
       "1       0.334031              1          0               1   \n",
       "2       0.636357              3          1               0   \n",
       "3       0.000000              2          0               0   \n",
       "4       0.500246              1          1               1   \n",
       "5       0.453394              2          1               0   \n",
       "6       0.000000              2          1               1   \n",
       "7       0.458540              4          1               0   \n",
       "8       0.566170              2          0               1   \n",
       "9       0.536488              1          1               1   \n",
       "\n",
       "   EstimatedSalaryScaled  Exited  \n",
       "0               0.506735       1  \n",
       "1               0.562709       0  \n",
       "2               0.569654       1  \n",
       "3               0.469120       0  \n",
       "4               0.395400       0  \n",
       "5               0.748797       1  \n",
       "6               0.050261       0  \n",
       "7               0.596733       1  \n",
       "8               0.374680       0  \n",
       "9               0.358605       0  "
      ]
     },
     "execution_count": 39,
     "metadata": {},
     "output_type": "execute_result"
    }
   ],
   "source": [
    "processed_data.head(10)"
   ]
  },
  {
   "cell_type": "code",
   "execution_count": 40,
   "id": "5597180d",
   "metadata": {
    "ExecuteTime": {
     "end_time": "2022-10-13T16:08:24.752245Z",
     "start_time": "2022-10-13T16:08:24.561346Z"
    }
   },
   "outputs": [],
   "source": [
    "processed_data.to_csv(\"./Churn_modelling_processed_data.csv\", index=False)"
   ]
  },
  {
   "cell_type": "code",
   "execution_count": null,
   "id": "3d17d950",
   "metadata": {},
   "outputs": [],
   "source": []
  }
 ],
 "metadata": {
  "kernelspec": {
   "display_name": "Python 3 (ipykernel)",
   "language": "python",
   "name": "python3"
  },
  "language_info": {
   "codemirror_mode": {
    "name": "ipython",
    "version": 3
   },
   "file_extension": ".py",
   "mimetype": "text/x-python",
   "name": "python",
   "nbconvert_exporter": "python",
   "pygments_lexer": "ipython3",
   "version": "3.9.7"
  },
  "toc": {
   "base_numbering": 1,
   "nav_menu": {},
   "number_sections": true,
   "sideBar": true,
   "skip_h1_title": true,
   "title_cell": "Table of Contents",
   "title_sidebar": "Contents",
   "toc_cell": false,
   "toc_position": {},
   "toc_section_display": true,
   "toc_window_display": true
  }
 },
 "nbformat": 4,
 "nbformat_minor": 5
}
