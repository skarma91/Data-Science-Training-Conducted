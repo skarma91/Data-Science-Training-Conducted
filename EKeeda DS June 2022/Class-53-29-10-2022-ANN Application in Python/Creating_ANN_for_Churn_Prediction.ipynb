{
 "cells": [
  {
   "cell_type": "markdown",
   "id": "d8322bd0",
   "metadata": {},
   "source": [
    "# Building Artificial Neural Network for Churn Prediction\n",
    "\n",
    "So we will use processed churn data and we will build a Neural Network (ANN - MLP) using tensorflow-Keras for predicting the churn."
   ]
  },
  {
   "cell_type": "markdown",
   "id": "0118ac91",
   "metadata": {},
   "source": [
    "## Get the data"
   ]
  },
  {
   "cell_type": "code",
   "execution_count": 1,
   "id": "e34a0645",
   "metadata": {
    "ExecuteTime": {
     "end_time": "2022-10-29T15:50:09.705691Z",
     "start_time": "2022-10-29T15:50:07.911690Z"
    }
   },
   "outputs": [],
   "source": [
    "import pandas as pd\n",
    "import numpy as np\n",
    "import matplotlib.pyplot as plt"
   ]
  },
  {
   "cell_type": "code",
   "execution_count": 2,
   "id": "3f1fb3cd",
   "metadata": {
    "ExecuteTime": {
     "end_time": "2022-10-29T15:50:48.962543Z",
     "start_time": "2022-10-29T15:50:48.847553Z"
    }
   },
   "outputs": [],
   "source": [
    "data = pd.read_csv(\"./Churn_modelling_processed_data.csv\")"
   ]
  },
  {
   "cell_type": "code",
   "execution_count": 3,
   "id": "e3de0722",
   "metadata": {
    "ExecuteTime": {
     "end_time": "2022-10-29T15:50:52.365720Z",
     "start_time": "2022-10-29T15:50:52.339388Z"
    }
   },
   "outputs": [
    {
     "data": {
      "text/html": [
       "<div>\n",
       "<style scoped>\n",
       "    .dataframe tbody tr th:only-of-type {\n",
       "        vertical-align: middle;\n",
       "    }\n",
       "\n",
       "    .dataframe tbody tr th {\n",
       "        vertical-align: top;\n",
       "    }\n",
       "\n",
       "    .dataframe thead th {\n",
       "        text-align: right;\n",
       "    }\n",
       "</style>\n",
       "<table border=\"1\" class=\"dataframe\">\n",
       "  <thead>\n",
       "    <tr style=\"text-align: right;\">\n",
       "      <th></th>\n",
       "      <th>CreditScoreScaled</th>\n",
       "      <th>Germany</th>\n",
       "      <th>Spain</th>\n",
       "      <th>GenderCoded</th>\n",
       "      <th>AgeScaled</th>\n",
       "      <th>Tenure</th>\n",
       "      <th>BalanceScaled</th>\n",
       "      <th>NumOfProducts</th>\n",
       "      <th>HasCrCard</th>\n",
       "      <th>IsActiveMember</th>\n",
       "      <th>EstimatedSalaryScaled</th>\n",
       "      <th>Exited</th>\n",
       "    </tr>\n",
       "  </thead>\n",
       "  <tbody>\n",
       "    <tr>\n",
       "      <th>0</th>\n",
       "      <td>0.538</td>\n",
       "      <td>0</td>\n",
       "      <td>0</td>\n",
       "      <td>0</td>\n",
       "      <td>0.324324</td>\n",
       "      <td>2</td>\n",
       "      <td>0.000000</td>\n",
       "      <td>1</td>\n",
       "      <td>1</td>\n",
       "      <td>1</td>\n",
       "      <td>0.506735</td>\n",
       "      <td>1</td>\n",
       "    </tr>\n",
       "    <tr>\n",
       "      <th>1</th>\n",
       "      <td>0.516</td>\n",
       "      <td>0</td>\n",
       "      <td>1</td>\n",
       "      <td>0</td>\n",
       "      <td>0.310811</td>\n",
       "      <td>1</td>\n",
       "      <td>0.334031</td>\n",
       "      <td>1</td>\n",
       "      <td>0</td>\n",
       "      <td>1</td>\n",
       "      <td>0.562709</td>\n",
       "      <td>0</td>\n",
       "    </tr>\n",
       "    <tr>\n",
       "      <th>2</th>\n",
       "      <td>0.304</td>\n",
       "      <td>0</td>\n",
       "      <td>0</td>\n",
       "      <td>0</td>\n",
       "      <td>0.324324</td>\n",
       "      <td>8</td>\n",
       "      <td>0.636357</td>\n",
       "      <td>3</td>\n",
       "      <td>1</td>\n",
       "      <td>0</td>\n",
       "      <td>0.569654</td>\n",
       "      <td>1</td>\n",
       "    </tr>\n",
       "    <tr>\n",
       "      <th>3</th>\n",
       "      <td>0.698</td>\n",
       "      <td>0</td>\n",
       "      <td>0</td>\n",
       "      <td>0</td>\n",
       "      <td>0.283784</td>\n",
       "      <td>1</td>\n",
       "      <td>0.000000</td>\n",
       "      <td>2</td>\n",
       "      <td>0</td>\n",
       "      <td>0</td>\n",
       "      <td>0.469120</td>\n",
       "      <td>0</td>\n",
       "    </tr>\n",
       "    <tr>\n",
       "      <th>4</th>\n",
       "      <td>1.000</td>\n",
       "      <td>0</td>\n",
       "      <td>1</td>\n",
       "      <td>0</td>\n",
       "      <td>0.337838</td>\n",
       "      <td>2</td>\n",
       "      <td>0.500246</td>\n",
       "      <td>1</td>\n",
       "      <td>1</td>\n",
       "      <td>1</td>\n",
       "      <td>0.395400</td>\n",
       "      <td>0</td>\n",
       "    </tr>\n",
       "  </tbody>\n",
       "</table>\n",
       "</div>"
      ],
      "text/plain": [
       "   CreditScoreScaled  Germany  Spain  GenderCoded  AgeScaled  Tenure  \\\n",
       "0              0.538        0      0            0   0.324324       2   \n",
       "1              0.516        0      1            0   0.310811       1   \n",
       "2              0.304        0      0            0   0.324324       8   \n",
       "3              0.698        0      0            0   0.283784       1   \n",
       "4              1.000        0      1            0   0.337838       2   \n",
       "\n",
       "   BalanceScaled  NumOfProducts  HasCrCard  IsActiveMember  \\\n",
       "0       0.000000              1          1               1   \n",
       "1       0.334031              1          0               1   \n",
       "2       0.636357              3          1               0   \n",
       "3       0.000000              2          0               0   \n",
       "4       0.500246              1          1               1   \n",
       "\n",
       "   EstimatedSalaryScaled  Exited  \n",
       "0               0.506735       1  \n",
       "1               0.562709       0  \n",
       "2               0.569654       1  \n",
       "3               0.469120       0  \n",
       "4               0.395400       0  "
      ]
     },
     "execution_count": 3,
     "metadata": {},
     "output_type": "execute_result"
    }
   ],
   "source": [
    "data.head()"
   ]
  },
  {
   "cell_type": "code",
   "execution_count": 11,
   "id": "2d774643",
   "metadata": {
    "ExecuteTime": {
     "end_time": "2022-10-29T15:53:11.946036Z",
     "start_time": "2022-10-29T15:53:11.897038Z"
    }
   },
   "outputs": [
    {
     "name": "stdout",
     "output_type": "stream",
     "text": [
      "<class 'pandas.core.frame.DataFrame'>\n",
      "RangeIndex: 10000 entries, 0 to 9999\n",
      "Data columns (total 12 columns):\n",
      " #   Column                 Non-Null Count  Dtype  \n",
      "---  ------                 --------------  -----  \n",
      " 0   CreditScoreScaled      10000 non-null  float64\n",
      " 1   Germany                10000 non-null  int64  \n",
      " 2   Spain                  10000 non-null  int64  \n",
      " 3   GenderCoded            10000 non-null  int64  \n",
      " 4   AgeScaled              10000 non-null  float64\n",
      " 5   Tenure                 10000 non-null  int64  \n",
      " 6   BalanceScaled          10000 non-null  float64\n",
      " 7   NumOfProducts          10000 non-null  int64  \n",
      " 8   HasCrCard              10000 non-null  int64  \n",
      " 9   IsActiveMember         10000 non-null  int64  \n",
      " 10  EstimatedSalaryScaled  10000 non-null  float64\n",
      " 11  Exited                 10000 non-null  int64  \n",
      "dtypes: float64(4), int64(8)\n",
      "memory usage: 937.6 KB\n"
     ]
    }
   ],
   "source": [
    "data.info()"
   ]
  },
  {
   "cell_type": "markdown",
   "id": "7c85e1e8",
   "metadata": {},
   "source": [
    "## Features and Target"
   ]
  },
  {
   "cell_type": "code",
   "execution_count": 8,
   "id": "bde9c7f2",
   "metadata": {
    "ExecuteTime": {
     "end_time": "2022-10-29T15:52:45.566631Z",
     "start_time": "2022-10-29T15:52:45.556728Z"
    }
   },
   "outputs": [],
   "source": [
    "feature_list = data.columns.to_list()\n",
    "\n",
    "target = feature_list.pop()"
   ]
  },
  {
   "cell_type": "code",
   "execution_count": 9,
   "id": "aa08def8",
   "metadata": {
    "ExecuteTime": {
     "end_time": "2022-10-29T15:52:59.241578Z",
     "start_time": "2022-10-29T15:52:59.225340Z"
    }
   },
   "outputs": [],
   "source": [
    "X = data[feature_list].values\n",
    "\n",
    "y = data[target].values"
   ]
  },
  {
   "cell_type": "code",
   "execution_count": 10,
   "id": "62b06d0e",
   "metadata": {
    "ExecuteTime": {
     "end_time": "2022-10-29T15:53:01.964087Z",
     "start_time": "2022-10-29T15:53:01.953881Z"
    }
   },
   "outputs": [
    {
     "data": {
      "text/plain": [
       "(10000, 11)"
      ]
     },
     "execution_count": 10,
     "metadata": {},
     "output_type": "execute_result"
    }
   ],
   "source": [
    "X.shape"
   ]
  },
  {
   "cell_type": "code",
   "execution_count": 12,
   "id": "4be25090",
   "metadata": {
    "ExecuteTime": {
     "end_time": "2022-10-29T15:53:23.987432Z",
     "start_time": "2022-10-29T15:53:23.981508Z"
    }
   },
   "outputs": [
    {
     "data": {
      "text/plain": [
       "(10000,)"
      ]
     },
     "execution_count": 12,
     "metadata": {},
     "output_type": "execute_result"
    }
   ],
   "source": [
    "y.shape"
   ]
  },
  {
   "cell_type": "markdown",
   "id": "b3468496",
   "metadata": {},
   "source": [
    "## Split the data into train and test"
   ]
  },
  {
   "cell_type": "code",
   "execution_count": 13,
   "id": "f8f9ce54",
   "metadata": {
    "ExecuteTime": {
     "end_time": "2022-10-29T15:54:34.544289Z",
     "start_time": "2022-10-29T15:54:34.535972Z"
    }
   },
   "outputs": [],
   "source": [
    "from sklearn.model_selection import train_test_split"
   ]
  },
  {
   "cell_type": "code",
   "execution_count": 14,
   "id": "29140ce1",
   "metadata": {
    "ExecuteTime": {
     "end_time": "2022-10-29T15:56:14.248447Z",
     "start_time": "2022-10-29T15:56:14.232372Z"
    }
   },
   "outputs": [],
   "source": [
    "X_train, X_test, y_train, y_test = train_test_split(X, y, test_size=0.25, random_state=1923)"
   ]
  },
  {
   "cell_type": "code",
   "execution_count": 15,
   "id": "6080d804",
   "metadata": {
    "ExecuteTime": {
     "end_time": "2022-10-29T15:56:22.466561Z",
     "start_time": "2022-10-29T15:56:22.449670Z"
    }
   },
   "outputs": [
    {
     "data": {
      "text/plain": [
       "(7500, 11)"
      ]
     },
     "execution_count": 15,
     "metadata": {},
     "output_type": "execute_result"
    }
   ],
   "source": [
    "X_train.shape"
   ]
  },
  {
   "cell_type": "code",
   "execution_count": 16,
   "id": "d3a47e8c",
   "metadata": {
    "ExecuteTime": {
     "end_time": "2022-10-29T15:56:31.699557Z",
     "start_time": "2022-10-29T15:56:31.692296Z"
    }
   },
   "outputs": [
    {
     "data": {
      "text/plain": [
       "(2500, 11)"
      ]
     },
     "execution_count": 16,
     "metadata": {},
     "output_type": "execute_result"
    }
   ],
   "source": [
    "X_test.shape"
   ]
  },
  {
   "cell_type": "code",
   "execution_count": 17,
   "id": "c95c72fc",
   "metadata": {
    "ExecuteTime": {
     "end_time": "2022-10-29T15:56:40.462322Z",
     "start_time": "2022-10-29T15:56:40.453425Z"
    }
   },
   "outputs": [
    {
     "data": {
      "text/plain": [
       "(7500,)"
      ]
     },
     "execution_count": 17,
     "metadata": {},
     "output_type": "execute_result"
    }
   ],
   "source": [
    "y_train.shape"
   ]
  },
  {
   "cell_type": "code",
   "execution_count": 18,
   "id": "26194005",
   "metadata": {
    "ExecuteTime": {
     "end_time": "2022-10-29T15:56:44.703908Z",
     "start_time": "2022-10-29T15:56:44.684721Z"
    }
   },
   "outputs": [
    {
     "data": {
      "text/plain": [
       "(2500,)"
      ]
     },
     "execution_count": 18,
     "metadata": {},
     "output_type": "execute_result"
    }
   ],
   "source": [
    "y_test.shape"
   ]
  },
  {
   "cell_type": "code",
   "execution_count": 23,
   "id": "8ef7a466",
   "metadata": {
    "ExecuteTime": {
     "end_time": "2022-10-29T16:08:30.373806Z",
     "start_time": "2022-10-29T16:08:30.366836Z"
    }
   },
   "outputs": [
    {
     "data": {
      "text/plain": [
       "(11,)"
      ]
     },
     "execution_count": 23,
     "metadata": {},
     "output_type": "execute_result"
    }
   ],
   "source": [
    "X_train[0].shape"
   ]
  },
  {
   "cell_type": "markdown",
   "id": "f4857c9e",
   "metadata": {},
   "source": [
    "## Creating ANN-MLP model"
   ]
  },
  {
   "cell_type": "code",
   "execution_count": 24,
   "id": "140e9df8",
   "metadata": {
    "ExecuteTime": {
     "end_time": "2022-10-29T16:10:23.033009Z",
     "start_time": "2022-10-29T16:10:23.019693Z"
    }
   },
   "outputs": [],
   "source": [
    "import tensorflow as tf"
   ]
  },
  {
   "cell_type": "code",
   "execution_count": 22,
   "id": "eac65554",
   "metadata": {
    "ExecuteTime": {
     "end_time": "2022-10-29T16:07:24.452226Z",
     "start_time": "2022-10-29T16:07:24.448112Z"
    }
   },
   "outputs": [],
   "source": [
    "from tensorflow.keras import models\n",
    "from tensorflow.keras import layers, Input"
   ]
  },
  {
   "cell_type": "code",
   "execution_count": 25,
   "id": "1908ba67",
   "metadata": {
    "ExecuteTime": {
     "end_time": "2022-10-29T16:13:42.731970Z",
     "start_time": "2022-10-29T16:13:42.568480Z"
    }
   },
   "outputs": [],
   "source": [
    "# Create the input layer\n",
    "inputs = Input(shape=X_train[0].shape)\n",
    "\n",
    "# Create the first hidden layer\n",
    "# let's consider 12 nodes in the first hidden layer\n",
    "hidden_layer1 = layers.Dense(12, activation='relu')(inputs)\n",
    "\n",
    "# Create the second hidden layer\n",
    "# let's consider 8 nodes in the second hidden layer\n",
    "hidden_layer2 = layers.Dense(8, activation='relu')(hidden_layer1)\n",
    "\n",
    "# Create the output layer\n",
    "output = layers.Dense(1, activation='sigmoid')(hidden_layer2)"
   ]
  },
  {
   "cell_type": "code",
   "execution_count": 39,
   "id": "d336db01",
   "metadata": {
    "ExecuteTime": {
     "end_time": "2022-10-29T16:31:47.295113Z",
     "start_time": "2022-10-29T16:31:47.278049Z"
    }
   },
   "outputs": [],
   "source": [
    "# Create the model\n",
    "\n",
    "ann_model = tf.keras.Model(inputs=inputs, outputs=output, name=\"ANN_model_for_Churn_Prediction\")"
   ]
  },
  {
   "cell_type": "code",
   "execution_count": 40,
   "id": "1cc15656",
   "metadata": {
    "ExecuteTime": {
     "end_time": "2022-10-29T16:31:48.058760Z",
     "start_time": "2022-10-29T16:31:48.021393Z"
    }
   },
   "outputs": [
    {
     "name": "stdout",
     "output_type": "stream",
     "text": [
      "Model: \"ANN_model_for_Churn_Prediction\"\n",
      "_________________________________________________________________\n",
      " Layer (type)                Output Shape              Param #   \n",
      "=================================================================\n",
      " input_1 (InputLayer)        [(None, 11)]              0         \n",
      "                                                                 \n",
      " dense (Dense)               (None, 12)                144       \n",
      "                                                                 \n",
      " dense_1 (Dense)             (None, 8)                 104       \n",
      "                                                                 \n",
      " dense_2 (Dense)             (None, 1)                 9         \n",
      "                                                                 \n",
      "=================================================================\n",
      "Total params: 257\n",
      "Trainable params: 257\n",
      "Non-trainable params: 0\n",
      "_________________________________________________________________\n",
      "None\n"
     ]
    }
   ],
   "source": [
    "print(ann_model.summary())"
   ]
  },
  {
   "cell_type": "markdown",
   "id": "996af3b2",
   "metadata": {},
   "source": [
    "## Compile and train the model"
   ]
  },
  {
   "cell_type": "code",
   "execution_count": 43,
   "id": "cce23ea7",
   "metadata": {
    "ExecuteTime": {
     "end_time": "2022-10-29T16:32:37.176128Z",
     "start_time": "2022-10-29T16:32:37.151128Z"
    }
   },
   "outputs": [],
   "source": [
    "# compiling the model\n",
    "# While compiling you need to specify three things\n",
    "# 1. optimizer : We usually use 'adam'\n",
    "# 2. loss\n",
    "# 3. metrics\n",
    "\n",
    "ann_model.compile(optimizer='adam', loss='binary_crossentropy', metrics=[tf.keras.metrics.AUC()])"
   ]
  },
  {
   "cell_type": "code",
   "execution_count": 44,
   "id": "09824dd9",
   "metadata": {
    "ExecuteTime": {
     "end_time": "2022-10-29T16:33:16.693967Z",
     "start_time": "2022-10-29T16:32:38.640301Z"
    }
   },
   "outputs": [
    {
     "name": "stdout",
     "output_type": "stream",
     "text": [
      "Epoch 1/100\n",
      "235/235 [==============================] - 1s 1ms/step - loss: 0.3433 - auc_2: 0.8590\n",
      "Epoch 2/100\n",
      "235/235 [==============================] - 0s 1ms/step - loss: 0.3433 - auc_2: 0.8596\n",
      "Epoch 3/100\n",
      "235/235 [==============================] - 0s 1ms/step - loss: 0.3420 - auc_2: 0.8595\n",
      "Epoch 4/100\n",
      "235/235 [==============================] - 0s 1ms/step - loss: 0.3433 - auc_2: 0.8600\n",
      "Epoch 5/100\n",
      "235/235 [==============================] - 0s 1ms/step - loss: 0.3419 - auc_2: 0.8605\n",
      "Epoch 6/100\n",
      "235/235 [==============================] - 0s 1ms/step - loss: 0.3418 - auc_2: 0.8605\n",
      "Epoch 7/100\n",
      "235/235 [==============================] - 0s 1ms/step - loss: 0.3429 - auc_2: 0.8596\n",
      "Epoch 8/100\n",
      "235/235 [==============================] - 0s 1ms/step - loss: 0.3413 - auc_2: 0.8605\n",
      "Epoch 9/100\n",
      "235/235 [==============================] - 0s 1ms/step - loss: 0.3414 - auc_2: 0.8613\n",
      "Epoch 10/100\n",
      "235/235 [==============================] - 0s 1ms/step - loss: 0.3417 - auc_2: 0.8601\n",
      "Epoch 11/100\n",
      "235/235 [==============================] - 0s 1ms/step - loss: 0.3407 - auc_2: 0.8608\n",
      "Epoch 12/100\n",
      "235/235 [==============================] - 0s 1ms/step - loss: 0.3412 - auc_2: 0.8604\n",
      "Epoch 13/100\n",
      "235/235 [==============================] - 0s 1ms/step - loss: 0.3408 - auc_2: 0.8612\n",
      "Epoch 14/100\n",
      "235/235 [==============================] - 0s 1ms/step - loss: 0.3406 - auc_2: 0.8616\n",
      "Epoch 15/100\n",
      "235/235 [==============================] - 0s 1ms/step - loss: 0.3415 - auc_2: 0.8600\n",
      "Epoch 16/100\n",
      "235/235 [==============================] - 0s 1ms/step - loss: 0.3401 - auc_2: 0.8621\n",
      "Epoch 17/100\n",
      "235/235 [==============================] - 0s 1ms/step - loss: 0.3391 - auc_2: 0.8624\n",
      "Epoch 18/100\n",
      "235/235 [==============================] - 0s 1ms/step - loss: 0.3400 - auc_2: 0.8621\n",
      "Epoch 19/100\n",
      "235/235 [==============================] - 1s 2ms/step - loss: 0.3407 - auc_2: 0.8612\n",
      "Epoch 20/100\n",
      "235/235 [==============================] - 1s 3ms/step - loss: 0.3396 - auc_2: 0.8619\n",
      "Epoch 21/100\n",
      "235/235 [==============================] - 0s 2ms/step - loss: 0.3394 - auc_2: 0.8620\n",
      "Epoch 22/100\n",
      "235/235 [==============================] - 0s 1ms/step - loss: 0.3395 - auc_2: 0.8619\n",
      "Epoch 23/100\n",
      "235/235 [==============================] - 0s 2ms/step - loss: 0.3396 - auc_2: 0.8621\n",
      "Epoch 24/100\n",
      "235/235 [==============================] - 0s 1ms/step - loss: 0.3385 - auc_2: 0.8636\n",
      "Epoch 25/100\n",
      "235/235 [==============================] - 0s 1ms/step - loss: 0.3406 - auc_2: 0.8610\n",
      "Epoch 26/100\n",
      "235/235 [==============================] - 0s 2ms/step - loss: 0.3393 - auc_2: 0.8626\n",
      "Epoch 27/100\n",
      "235/235 [==============================] - 0s 1ms/step - loss: 0.3383 - auc_2: 0.8629\n",
      "Epoch 28/100\n",
      "235/235 [==============================] - 0s 1ms/step - loss: 0.3393 - auc_2: 0.8616\n",
      "Epoch 29/100\n",
      "235/235 [==============================] - 0s 1ms/step - loss: 0.3391 - auc_2: 0.8623\n",
      "Epoch 30/100\n",
      "235/235 [==============================] - 1s 2ms/step - loss: 0.3392 - auc_2: 0.8618\n",
      "Epoch 31/100\n",
      "235/235 [==============================] - 1s 2ms/step - loss: 0.3390 - auc_2: 0.8622\n",
      "Epoch 32/100\n",
      "235/235 [==============================] - 0s 2ms/step - loss: 0.3395 - auc_2: 0.8623\n",
      "Epoch 33/100\n",
      "235/235 [==============================] - 0s 1ms/step - loss: 0.3381 - auc_2: 0.8635\n",
      "Epoch 34/100\n",
      "235/235 [==============================] - 0s 1ms/step - loss: 0.3398 - auc_2: 0.8614\n",
      "Epoch 35/100\n",
      "235/235 [==============================] - 0s 1ms/step - loss: 0.3383 - auc_2: 0.8626\n",
      "Epoch 36/100\n",
      "235/235 [==============================] - 0s 2ms/step - loss: 0.3374 - auc_2: 0.8641\n",
      "Epoch 37/100\n",
      "235/235 [==============================] - 0s 1ms/step - loss: 0.3380 - auc_2: 0.8629\n",
      "Epoch 38/100\n",
      "235/235 [==============================] - 0s 1ms/step - loss: 0.3389 - auc_2: 0.8629\n",
      "Epoch 39/100\n",
      "235/235 [==============================] - 0s 2ms/step - loss: 0.3370 - auc_2: 0.8646\n",
      "Epoch 40/100\n",
      "235/235 [==============================] - 0s 1ms/step - loss: 0.3384 - auc_2: 0.8631\n",
      "Epoch 41/100\n",
      "235/235 [==============================] - 0s 2ms/step - loss: 0.3377 - auc_2: 0.8638\n",
      "Epoch 42/100\n",
      "235/235 [==============================] - 0s 1ms/step - loss: 0.3372 - auc_2: 0.8636\n",
      "Epoch 43/100\n",
      "235/235 [==============================] - 0s 1ms/step - loss: 0.3374 - auc_2: 0.8633\n",
      "Epoch 44/100\n",
      "235/235 [==============================] - 0s 1ms/step - loss: 0.3366 - auc_2: 0.8643\n",
      "Epoch 45/100\n",
      "235/235 [==============================] - 0s 2ms/step - loss: 0.3373 - auc_2: 0.8639\n",
      "Epoch 46/100\n",
      "235/235 [==============================] - 0s 1ms/step - loss: 0.3371 - auc_2: 0.8646\n",
      "Epoch 47/100\n",
      "235/235 [==============================] - 0s 2ms/step - loss: 0.3367 - auc_2: 0.8636\n",
      "Epoch 48/100\n",
      "235/235 [==============================] - 0s 2ms/step - loss: 0.3363 - auc_2: 0.8645\n",
      "Epoch 49/100\n",
      "235/235 [==============================] - 0s 2ms/step - loss: 0.3374 - auc_2: 0.8634\n",
      "Epoch 50/100\n",
      "235/235 [==============================] - 0s 1ms/step - loss: 0.3364 - auc_2: 0.8648\n",
      "Epoch 51/100\n",
      "235/235 [==============================] - 1s 2ms/step - loss: 0.3353 - auc_2: 0.8660\n",
      "Epoch 52/100\n",
      "235/235 [==============================] - 1s 3ms/step - loss: 0.3363 - auc_2: 0.8647\n",
      "Epoch 53/100\n",
      "235/235 [==============================] - 0s 2ms/step - loss: 0.3375 - auc_2: 0.8641\n",
      "Epoch 54/100\n",
      "235/235 [==============================] - 0s 1ms/step - loss: 0.3358 - auc_2: 0.8651\n",
      "Epoch 55/100\n",
      "235/235 [==============================] - 0s 1ms/step - loss: 0.3369 - auc_2: 0.8637\n",
      "Epoch 56/100\n",
      "235/235 [==============================] - 0s 1ms/step - loss: 0.3360 - auc_2: 0.8645\n",
      "Epoch 57/100\n",
      "235/235 [==============================] - 0s 1ms/step - loss: 0.3363 - auc_2: 0.8650\n",
      "Epoch 58/100\n",
      "235/235 [==============================] - 0s 2ms/step - loss: 0.3354 - auc_2: 0.8659\n",
      "Epoch 59/100\n",
      "235/235 [==============================] - 0s 2ms/step - loss: 0.3355 - auc_2: 0.8651\n",
      "Epoch 60/100\n",
      "235/235 [==============================] - 0s 2ms/step - loss: 0.3345 - auc_2: 0.8667\n",
      "Epoch 61/100\n",
      "235/235 [==============================] - 0s 2ms/step - loss: 0.3349 - auc_2: 0.8656\n",
      "Epoch 62/100\n",
      "235/235 [==============================] - 0s 2ms/step - loss: 0.3348 - auc_2: 0.8661\n",
      "Epoch 63/100\n",
      "235/235 [==============================] - 1s 2ms/step - loss: 0.3350 - auc_2: 0.8659\n",
      "Epoch 64/100\n",
      "235/235 [==============================] - 0s 1ms/step - loss: 0.3349 - auc_2: 0.8657\n",
      "Epoch 65/100\n",
      "235/235 [==============================] - 0s 2ms/step - loss: 0.3338 - auc_2: 0.8671\n",
      "Epoch 66/100\n",
      "235/235 [==============================] - 0s 1ms/step - loss: 0.3357 - auc_2: 0.8646\n",
      "Epoch 67/100\n",
      "235/235 [==============================] - 0s 2ms/step - loss: 0.3343 - auc_2: 0.8669\n",
      "Epoch 68/100\n",
      "235/235 [==============================] - 0s 1ms/step - loss: 0.3340 - auc_2: 0.8670\n",
      "Epoch 69/100\n",
      "235/235 [==============================] - 0s 1ms/step - loss: 0.3326 - auc_2: 0.8691\n",
      "Epoch 70/100\n",
      "235/235 [==============================] - 0s 1ms/step - loss: 0.3338 - auc_2: 0.8665\n",
      "Epoch 71/100\n",
      "235/235 [==============================] - 0s 1ms/step - loss: 0.3347 - auc_2: 0.8655\n",
      "Epoch 72/100\n",
      "235/235 [==============================] - 0s 1ms/step - loss: 0.3342 - auc_2: 0.8667\n",
      "Epoch 73/100\n",
      "235/235 [==============================] - 0s 1ms/step - loss: 0.3335 - auc_2: 0.8671\n",
      "Epoch 74/100\n",
      "235/235 [==============================] - 0s 1ms/step - loss: 0.3336 - auc_2: 0.8672\n",
      "Epoch 75/100\n",
      "235/235 [==============================] - 0s 1ms/step - loss: 0.3334 - auc_2: 0.8668\n",
      "Epoch 76/100\n",
      "235/235 [==============================] - 0s 1ms/step - loss: 0.3331 - auc_2: 0.8672\n",
      "Epoch 77/100\n",
      "235/235 [==============================] - 0s 2ms/step - loss: 0.3358 - auc_2: 0.8652\n",
      "Epoch 78/100\n",
      "235/235 [==============================] - 0s 1ms/step - loss: 0.3331 - auc_2: 0.8671\n",
      "Epoch 79/100\n",
      "235/235 [==============================] - 0s 1ms/step - loss: 0.3333 - auc_2: 0.8668\n",
      "Epoch 80/100\n",
      "235/235 [==============================] - 0s 1ms/step - loss: 0.3328 - auc_2: 0.8674\n",
      "Epoch 81/100\n",
      "235/235 [==============================] - 0s 1ms/step - loss: 0.3350 - auc_2: 0.8657\n",
      "Epoch 82/100\n",
      "235/235 [==============================] - 0s 2ms/step - loss: 0.3331 - auc_2: 0.8665\n",
      "Epoch 83/100\n"
     ]
    },
    {
     "name": "stdout",
     "output_type": "stream",
     "text": [
      "235/235 [==============================] - 0s 2ms/step - loss: 0.3336 - auc_2: 0.8666\n",
      "Epoch 84/100\n",
      "235/235 [==============================] - 0s 2ms/step - loss: 0.3351 - auc_2: 0.8652\n",
      "Epoch 85/100\n",
      "235/235 [==============================] - 0s 1ms/step - loss: 0.3324 - auc_2: 0.8679\n",
      "Epoch 86/100\n",
      "235/235 [==============================] - 0s 2ms/step - loss: 0.3322 - auc_2: 0.8673\n",
      "Epoch 87/100\n",
      "235/235 [==============================] - 0s 1ms/step - loss: 0.3320 - auc_2: 0.8682\n",
      "Epoch 88/100\n",
      "235/235 [==============================] - 1s 3ms/step - loss: 0.3328 - auc_2: 0.8672\n",
      "Epoch 89/100\n",
      "235/235 [==============================] - 1s 4ms/step - loss: 0.3325 - auc_2: 0.8683\n",
      "Epoch 90/100\n",
      "235/235 [==============================] - 0s 2ms/step - loss: 0.3332 - auc_2: 0.8675\n",
      "Epoch 91/100\n",
      "235/235 [==============================] - 0s 1ms/step - loss: 0.3330 - auc_2: 0.8671\n",
      "Epoch 92/100\n",
      "235/235 [==============================] - 1s 2ms/step - loss: 0.3323 - auc_2: 0.8679\n",
      "Epoch 93/100\n",
      "235/235 [==============================] - 0s 2ms/step - loss: 0.3321 - auc_2: 0.8680\n",
      "Epoch 94/100\n",
      "235/235 [==============================] - 0s 2ms/step - loss: 0.3331 - auc_2: 0.8670\n",
      "Epoch 95/100\n",
      "235/235 [==============================] - 0s 2ms/step - loss: 0.3327 - auc_2: 0.8677\n",
      "Epoch 96/100\n",
      "235/235 [==============================] - 0s 1ms/step - loss: 0.3315 - auc_2: 0.8688\n",
      "Epoch 97/100\n",
      "235/235 [==============================] - 0s 1ms/step - loss: 0.3322 - auc_2: 0.8680\n",
      "Epoch 98/100\n",
      "235/235 [==============================] - 0s 2ms/step - loss: 0.3315 - auc_2: 0.8685\n",
      "Epoch 99/100\n",
      "235/235 [==============================] - 0s 1ms/step - loss: 0.3324 - auc_2: 0.8679\n",
      "Epoch 100/100\n",
      "235/235 [==============================] - 0s 1ms/step - loss: 0.3323 - auc_2: 0.8682\n"
     ]
    },
    {
     "data": {
      "text/plain": [
       "<keras.callbacks.History at 0x2a10dc6c4f0>"
      ]
     },
     "execution_count": 44,
     "metadata": {},
     "output_type": "execute_result"
    }
   ],
   "source": [
    "ann_model.fit(X_train, y_train, batch_size=32, epochs=100)"
   ]
  },
  {
   "cell_type": "markdown",
   "id": "cf1556d3",
   "metadata": {},
   "source": [
    "## Model evaluation"
   ]
  },
  {
   "cell_type": "code",
   "execution_count": 56,
   "id": "0e6ea38e",
   "metadata": {
    "ExecuteTime": {
     "end_time": "2022-10-29T16:41:08.878896Z",
     "start_time": "2022-10-29T16:41:08.640421Z"
    }
   },
   "outputs": [
    {
     "name": "stdout",
     "output_type": "stream",
     "text": [
      "79/79 [==============================] - 0s 1ms/step\n"
     ]
    }
   ],
   "source": [
    "# Find the prediction of the model on the test dataset\n",
    "\n",
    "y_prob = ann_model.predict(X_test)"
   ]
  },
  {
   "cell_type": "code",
   "execution_count": 65,
   "id": "792192db",
   "metadata": {
    "ExecuteTime": {
     "end_time": "2022-10-29T16:43:19.288430Z",
     "start_time": "2022-10-29T16:43:19.269955Z"
    }
   },
   "outputs": [],
   "source": [
    "y_pred = y_prob.flatten() > 0.5"
   ]
  },
  {
   "cell_type": "code",
   "execution_count": 70,
   "id": "67ebdb2b",
   "metadata": {
    "ExecuteTime": {
     "end_time": "2022-10-29T16:45:57.982352Z",
     "start_time": "2022-10-29T16:45:57.965389Z"
    }
   },
   "outputs": [],
   "source": [
    "# Calculate Accuracy and the confusion matrix\n",
    "\n",
    "from sklearn.metrics import confusion_matrix, accuracy_score, f1_score, precision_score, recall_score, roc_auc_score"
   ]
  },
  {
   "cell_type": "code",
   "execution_count": 69,
   "id": "58ad1f15",
   "metadata": {
    "ExecuteTime": {
     "end_time": "2022-10-29T16:45:32.119729Z",
     "start_time": "2022-10-29T16:45:32.093305Z"
    }
   },
   "outputs": [
    {
     "data": {
      "text/plain": [
       "0.866"
      ]
     },
     "execution_count": 69,
     "metadata": {},
     "output_type": "execute_result"
    }
   ],
   "source": [
    "# accuracy \n",
    "\n",
    "accuracy_score(y_true=y_test, y_pred=y_pred)"
   ]
  },
  {
   "cell_type": "code",
   "execution_count": 71,
   "id": "ad241f70",
   "metadata": {
    "ExecuteTime": {
     "end_time": "2022-10-29T16:46:34.504128Z",
     "start_time": "2022-10-29T16:46:34.465499Z"
    }
   },
   "outputs": [
    {
     "data": {
      "text/plain": [
       "0.8521650233410626"
      ]
     },
     "execution_count": 71,
     "metadata": {},
     "output_type": "execute_result"
    }
   ],
   "source": [
    "# roc-auc\n",
    "\n",
    "roc_auc_score(y_true=y_test, y_score=y_prob.flatten())"
   ]
  },
  {
   "cell_type": "code",
   "execution_count": 72,
   "id": "cac8ec44",
   "metadata": {
    "ExecuteTime": {
     "end_time": "2022-10-29T16:46:52.779766Z",
     "start_time": "2022-10-29T16:46:52.760550Z"
    }
   },
   "outputs": [
    {
     "data": {
      "text/plain": [
       "0.6035502958579881"
      ]
     },
     "execution_count": 72,
     "metadata": {},
     "output_type": "execute_result"
    }
   ],
   "source": [
    "# f1-score\n",
    "\n",
    "f1_score(y_true=y_test, y_pred=y_pred)"
   ]
  },
  {
   "cell_type": "code",
   "execution_count": 73,
   "id": "669944bc",
   "metadata": {
    "ExecuteTime": {
     "end_time": "2022-10-29T16:47:12.229641Z",
     "start_time": "2022-10-29T16:47:12.215063Z"
    }
   },
   "outputs": [
    {
     "data": {
      "text/plain": [
       "0.7544378698224852"
      ]
     },
     "execution_count": 73,
     "metadata": {},
     "output_type": "execute_result"
    }
   ],
   "source": [
    "# precision\n",
    "\n",
    "precision_score(y_true=y_test, y_pred=y_pred)"
   ]
  },
  {
   "cell_type": "code",
   "execution_count": 74,
   "id": "be24912a",
   "metadata": {
    "ExecuteTime": {
     "end_time": "2022-10-29T16:47:30.548611Z",
     "start_time": "2022-10-29T16:47:30.531802Z"
    }
   },
   "outputs": [
    {
     "data": {
      "text/plain": [
       "0.5029585798816568"
      ]
     },
     "execution_count": 74,
     "metadata": {},
     "output_type": "execute_result"
    }
   ],
   "source": [
    "# recall\n",
    "\n",
    "recall_score(y_true=y_test, y_pred=y_pred)"
   ]
  },
  {
   "cell_type": "code",
   "execution_count": 77,
   "id": "58ca01f5",
   "metadata": {
    "ExecuteTime": {
     "end_time": "2022-10-29T16:51:04.867292Z",
     "start_time": "2022-10-29T16:51:04.837701Z"
    }
   },
   "outputs": [
    {
     "data": {
      "text/html": [
       "<div>\n",
       "<style scoped>\n",
       "    .dataframe tbody tr th:only-of-type {\n",
       "        vertical-align: middle;\n",
       "    }\n",
       "\n",
       "    .dataframe tbody tr th {\n",
       "        vertical-align: top;\n",
       "    }\n",
       "\n",
       "    .dataframe thead th {\n",
       "        text-align: right;\n",
       "    }\n",
       "</style>\n",
       "<table border=\"1\" class=\"dataframe\">\n",
       "  <thead>\n",
       "    <tr style=\"text-align: right;\">\n",
       "      <th></th>\n",
       "      <th>predicted-0</th>\n",
       "      <th>predicted-1</th>\n",
       "    </tr>\n",
       "  </thead>\n",
       "  <tbody>\n",
       "    <tr>\n",
       "      <th>actual-0</th>\n",
       "      <td>1910</td>\n",
       "      <td>83</td>\n",
       "    </tr>\n",
       "    <tr>\n",
       "      <th>actual-1</th>\n",
       "      <td>252</td>\n",
       "      <td>255</td>\n",
       "    </tr>\n",
       "  </tbody>\n",
       "</table>\n",
       "</div>"
      ],
      "text/plain": [
       "          predicted-0  predicted-1\n",
       "actual-0         1910           83\n",
       "actual-1          252          255"
      ]
     },
     "execution_count": 77,
     "metadata": {},
     "output_type": "execute_result"
    }
   ],
   "source": [
    "# confusion matrix\n",
    "\n",
    "pd.DataFrame(confusion_matrix(y_true=y_test, y_pred=y_pred), index=['actual-0', 'actual-1'], columns=['predicted-0', 'predicted-1'])"
   ]
  },
  {
   "cell_type": "code",
   "execution_count": null,
   "id": "dcda6b07",
   "metadata": {},
   "outputs": [],
   "source": []
  }
 ],
 "metadata": {
  "kernelspec": {
   "display_name": "Python 3 (ipykernel)",
   "language": "python",
   "name": "python3"
  },
  "language_info": {
   "codemirror_mode": {
    "name": "ipython",
    "version": 3
   },
   "file_extension": ".py",
   "mimetype": "text/x-python",
   "name": "python",
   "nbconvert_exporter": "python",
   "pygments_lexer": "ipython3",
   "version": "3.9.7"
  },
  "toc": {
   "base_numbering": 1,
   "nav_menu": {},
   "number_sections": true,
   "sideBar": true,
   "skip_h1_title": true,
   "title_cell": "Table of Contents",
   "title_sidebar": "Contents",
   "toc_cell": false,
   "toc_position": {},
   "toc_section_display": true,
   "toc_window_display": true
  }
 },
 "nbformat": 4,
 "nbformat_minor": 5
}
