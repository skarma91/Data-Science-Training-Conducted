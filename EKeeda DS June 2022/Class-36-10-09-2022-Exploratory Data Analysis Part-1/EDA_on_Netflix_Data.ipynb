{
 "cells": [
  {
   "cell_type": "markdown",
   "id": "7c4d1c8d",
   "metadata": {},
   "source": [
    "# Exploratory Data Analysis of Different Movies and TV Shows in Netflix"
   ]
  },
  {
   "cell_type": "markdown",
   "id": "c8d2ddb8",
   "metadata": {},
   "source": [
    "## Import necessary libraries"
   ]
  },
  {
   "cell_type": "code",
   "execution_count": 1,
   "id": "4857c8b0",
   "metadata": {
    "ExecuteTime": {
     "end_time": "2022-09-10T14:50:46.563473Z",
     "start_time": "2022-09-10T14:50:42.594560Z"
    }
   },
   "outputs": [
    {
     "name": "stdout",
     "output_type": "stream",
     "text": [
      "Requirement already satisfied: missingno in c:\\users\\souravkarmakar\\appdata\\roaming\\python\\python39\\site-packages (0.5.1)\n",
      "Requirement already satisfied: numpy in c:\\users\\souravkarmakar\\anaconda3\\lib\\site-packages (from missingno) (1.21.5)\n",
      "Requirement already satisfied: matplotlib in c:\\users\\souravkarmakar\\anaconda3\\lib\\site-packages (from missingno) (3.4.3)\n",
      "Requirement already satisfied: scipy in c:\\users\\souravkarmakar\\anaconda3\\lib\\site-packages (from missingno) (1.7.1)\n",
      "Requirement already satisfied: seaborn in c:\\users\\souravkarmakar\\anaconda3\\lib\\site-packages (from missingno) (0.11.2)\n",
      "Requirement already satisfied: python-dateutil>=2.7 in c:\\users\\souravkarmakar\\anaconda3\\lib\\site-packages (from matplotlib->missingno) (2.8.2)\n",
      "Requirement already satisfied: cycler>=0.10 in c:\\users\\souravkarmakar\\anaconda3\\lib\\site-packages (from matplotlib->missingno) (0.10.0)\n",
      "Requirement already satisfied: pyparsing>=2.2.1 in c:\\users\\souravkarmakar\\anaconda3\\lib\\site-packages (from matplotlib->missingno) (3.0.7)\n",
      "Requirement already satisfied: pillow>=6.2.0 in c:\\users\\souravkarmakar\\anaconda3\\lib\\site-packages (from matplotlib->missingno) (8.4.0)\n",
      "Requirement already satisfied: kiwisolver>=1.0.1 in c:\\users\\souravkarmakar\\anaconda3\\lib\\site-packages (from matplotlib->missingno) (1.3.1)\n",
      "Requirement already satisfied: six in c:\\users\\souravkarmakar\\anaconda3\\lib\\site-packages (from cycler>=0.10->matplotlib->missingno) (1.16.0)\n",
      "Requirement already satisfied: pandas>=0.23 in c:\\users\\souravkarmakar\\anaconda3\\lib\\site-packages (from seaborn->missingno) (1.3.4)\n",
      "Requirement already satisfied: pytz>=2017.3 in c:\\users\\souravkarmakar\\anaconda3\\lib\\site-packages (from pandas>=0.23->seaborn->missingno) (2021.3)\n"
     ]
    }
   ],
   "source": [
    "!pip install missingno"
   ]
  },
  {
   "cell_type": "code",
   "execution_count": 2,
   "id": "bc8077d0",
   "metadata": {
    "ExecuteTime": {
     "end_time": "2022-09-10T14:51:08.780148Z",
     "start_time": "2022-09-10T14:51:06.183809Z"
    }
   },
   "outputs": [],
   "source": [
    "import pandas as pd     # for tabular data reading and analysis\n",
    "import numpy as np      # for numerical computations\n",
    "import seaborn as sns   # data visualization\n",
    "import matplotlib.pyplot as plt # for data visualization\n",
    "import missingno        # for missing value treatment  (!pip install missingno)"
   ]
  },
  {
   "cell_type": "markdown",
   "id": "8bb47919",
   "metadata": {},
   "source": [
    "## Read the data"
   ]
  },
  {
   "cell_type": "code",
   "execution_count": 3,
   "id": "0d61fe6d",
   "metadata": {
    "ExecuteTime": {
     "end_time": "2022-09-10T14:51:57.969790Z",
     "start_time": "2022-09-10T14:51:57.835337Z"
    }
   },
   "outputs": [],
   "source": [
    "data = pd.read_csv(\"./netflix_titles.csv\")"
   ]
  },
  {
   "cell_type": "code",
   "execution_count": 4,
   "id": "9a24985e",
   "metadata": {
    "ExecuteTime": {
     "end_time": "2022-09-10T14:52:02.427719Z",
     "start_time": "2022-09-10T14:52:02.386934Z"
    }
   },
   "outputs": [
    {
     "data": {
      "text/html": [
       "<div>\n",
       "<style scoped>\n",
       "    .dataframe tbody tr th:only-of-type {\n",
       "        vertical-align: middle;\n",
       "    }\n",
       "\n",
       "    .dataframe tbody tr th {\n",
       "        vertical-align: top;\n",
       "    }\n",
       "\n",
       "    .dataframe thead th {\n",
       "        text-align: right;\n",
       "    }\n",
       "</style>\n",
       "<table border=\"1\" class=\"dataframe\">\n",
       "  <thead>\n",
       "    <tr style=\"text-align: right;\">\n",
       "      <th></th>\n",
       "      <th>show_id</th>\n",
       "      <th>type</th>\n",
       "      <th>title</th>\n",
       "      <th>director</th>\n",
       "      <th>cast</th>\n",
       "      <th>country</th>\n",
       "      <th>date_added</th>\n",
       "      <th>release_year</th>\n",
       "      <th>rating</th>\n",
       "      <th>duration</th>\n",
       "      <th>listed_in</th>\n",
       "      <th>description</th>\n",
       "    </tr>\n",
       "  </thead>\n",
       "  <tbody>\n",
       "    <tr>\n",
       "      <th>0</th>\n",
       "      <td>s1</td>\n",
       "      <td>Movie</td>\n",
       "      <td>Dick Johnson Is Dead</td>\n",
       "      <td>Kirsten Johnson</td>\n",
       "      <td>NaN</td>\n",
       "      <td>United States</td>\n",
       "      <td>September 25, 2021</td>\n",
       "      <td>2020</td>\n",
       "      <td>PG-13</td>\n",
       "      <td>90 min</td>\n",
       "      <td>Documentaries</td>\n",
       "      <td>As her father nears the end of his life, filmm...</td>\n",
       "    </tr>\n",
       "    <tr>\n",
       "      <th>1</th>\n",
       "      <td>s2</td>\n",
       "      <td>TV Show</td>\n",
       "      <td>Blood &amp; Water</td>\n",
       "      <td>NaN</td>\n",
       "      <td>Ama Qamata, Khosi Ngema, Gail Mabalane, Thaban...</td>\n",
       "      <td>South Africa</td>\n",
       "      <td>September 24, 2021</td>\n",
       "      <td>2021</td>\n",
       "      <td>TV-MA</td>\n",
       "      <td>2 Seasons</td>\n",
       "      <td>International TV Shows, TV Dramas, TV Mysteries</td>\n",
       "      <td>After crossing paths at a party, a Cape Town t...</td>\n",
       "    </tr>\n",
       "    <tr>\n",
       "      <th>2</th>\n",
       "      <td>s3</td>\n",
       "      <td>TV Show</td>\n",
       "      <td>Ganglands</td>\n",
       "      <td>Julien Leclercq</td>\n",
       "      <td>Sami Bouajila, Tracy Gotoas, Samuel Jouy, Nabi...</td>\n",
       "      <td>NaN</td>\n",
       "      <td>September 24, 2021</td>\n",
       "      <td>2021</td>\n",
       "      <td>TV-MA</td>\n",
       "      <td>1 Season</td>\n",
       "      <td>Crime TV Shows, International TV Shows, TV Act...</td>\n",
       "      <td>To protect his family from a powerful drug lor...</td>\n",
       "    </tr>\n",
       "    <tr>\n",
       "      <th>3</th>\n",
       "      <td>s4</td>\n",
       "      <td>TV Show</td>\n",
       "      <td>Jailbirds New Orleans</td>\n",
       "      <td>NaN</td>\n",
       "      <td>NaN</td>\n",
       "      <td>NaN</td>\n",
       "      <td>September 24, 2021</td>\n",
       "      <td>2021</td>\n",
       "      <td>TV-MA</td>\n",
       "      <td>1 Season</td>\n",
       "      <td>Docuseries, Reality TV</td>\n",
       "      <td>Feuds, flirtations and toilet talk go down amo...</td>\n",
       "    </tr>\n",
       "    <tr>\n",
       "      <th>4</th>\n",
       "      <td>s5</td>\n",
       "      <td>TV Show</td>\n",
       "      <td>Kota Factory</td>\n",
       "      <td>NaN</td>\n",
       "      <td>Mayur More, Jitendra Kumar, Ranjan Raj, Alam K...</td>\n",
       "      <td>India</td>\n",
       "      <td>September 24, 2021</td>\n",
       "      <td>2021</td>\n",
       "      <td>TV-MA</td>\n",
       "      <td>2 Seasons</td>\n",
       "      <td>International TV Shows, Romantic TV Shows, TV ...</td>\n",
       "      <td>In a city of coaching centers known to train I...</td>\n",
       "    </tr>\n",
       "  </tbody>\n",
       "</table>\n",
       "</div>"
      ],
      "text/plain": [
       "  show_id     type                  title         director  \\\n",
       "0      s1    Movie   Dick Johnson Is Dead  Kirsten Johnson   \n",
       "1      s2  TV Show          Blood & Water              NaN   \n",
       "2      s3  TV Show              Ganglands  Julien Leclercq   \n",
       "3      s4  TV Show  Jailbirds New Orleans              NaN   \n",
       "4      s5  TV Show           Kota Factory              NaN   \n",
       "\n",
       "                                                cast        country  \\\n",
       "0                                                NaN  United States   \n",
       "1  Ama Qamata, Khosi Ngema, Gail Mabalane, Thaban...   South Africa   \n",
       "2  Sami Bouajila, Tracy Gotoas, Samuel Jouy, Nabi...            NaN   \n",
       "3                                                NaN            NaN   \n",
       "4  Mayur More, Jitendra Kumar, Ranjan Raj, Alam K...          India   \n",
       "\n",
       "           date_added  release_year rating   duration  \\\n",
       "0  September 25, 2021          2020  PG-13     90 min   \n",
       "1  September 24, 2021          2021  TV-MA  2 Seasons   \n",
       "2  September 24, 2021          2021  TV-MA   1 Season   \n",
       "3  September 24, 2021          2021  TV-MA   1 Season   \n",
       "4  September 24, 2021          2021  TV-MA  2 Seasons   \n",
       "\n",
       "                                           listed_in  \\\n",
       "0                                      Documentaries   \n",
       "1    International TV Shows, TV Dramas, TV Mysteries   \n",
       "2  Crime TV Shows, International TV Shows, TV Act...   \n",
       "3                             Docuseries, Reality TV   \n",
       "4  International TV Shows, Romantic TV Shows, TV ...   \n",
       "\n",
       "                                         description  \n",
       "0  As her father nears the end of his life, filmm...  \n",
       "1  After crossing paths at a party, a Cape Town t...  \n",
       "2  To protect his family from a powerful drug lor...  \n",
       "3  Feuds, flirtations and toilet talk go down amo...  \n",
       "4  In a city of coaching centers known to train I...  "
      ]
     },
     "execution_count": 4,
     "metadata": {},
     "output_type": "execute_result"
    }
   ],
   "source": [
    "data.head()"
   ]
  },
  {
   "cell_type": "markdown",
   "id": "c7682be8",
   "metadata": {},
   "source": [
    "## Basic information about the data"
   ]
  },
  {
   "cell_type": "code",
   "execution_count": 5,
   "id": "bfa847ca",
   "metadata": {
    "ExecuteTime": {
     "end_time": "2022-09-10T14:52:28.433575Z",
     "start_time": "2022-09-10T14:52:28.370527Z"
    }
   },
   "outputs": [
    {
     "name": "stdout",
     "output_type": "stream",
     "text": [
      "<class 'pandas.core.frame.DataFrame'>\n",
      "RangeIndex: 8807 entries, 0 to 8806\n",
      "Data columns (total 12 columns):\n",
      " #   Column        Non-Null Count  Dtype \n",
      "---  ------        --------------  ----- \n",
      " 0   show_id       8807 non-null   object\n",
      " 1   type          8807 non-null   object\n",
      " 2   title         8807 non-null   object\n",
      " 3   director      6173 non-null   object\n",
      " 4   cast          7982 non-null   object\n",
      " 5   country       7976 non-null   object\n",
      " 6   date_added    8797 non-null   object\n",
      " 7   release_year  8807 non-null   int64 \n",
      " 8   rating        8803 non-null   object\n",
      " 9   duration      8804 non-null   object\n",
      " 10  listed_in     8807 non-null   object\n",
      " 11  description   8807 non-null   object\n",
      "dtypes: int64(1), object(11)\n",
      "memory usage: 825.8+ KB\n"
     ]
    }
   ],
   "source": [
    "data.info()"
   ]
  },
  {
   "cell_type": "markdown",
   "id": "81f230b6",
   "metadata": {},
   "source": [
    "The data has 8807 rows and 12 columns"
   ]
  },
  {
   "cell_type": "markdown",
   "id": "1899c2bf",
   "metadata": {},
   "source": [
    "## Find the missing values in the data"
   ]
  },
  {
   "cell_type": "code",
   "execution_count": 7,
   "id": "bf55f143",
   "metadata": {
    "ExecuteTime": {
     "end_time": "2022-09-10T14:54:15.949012Z",
     "start_time": "2022-09-10T14:54:15.922837Z"
    }
   },
   "outputs": [
    {
     "data": {
      "text/plain": [
       "show_id            0\n",
       "type               0\n",
       "title              0\n",
       "director        2634\n",
       "cast             825\n",
       "country          831\n",
       "date_added        10\n",
       "release_year       0\n",
       "rating             4\n",
       "duration           3\n",
       "listed_in          0\n",
       "description        0\n",
       "dtype: int64"
      ]
     },
     "execution_count": 7,
     "metadata": {},
     "output_type": "execute_result"
    }
   ],
   "source": [
    "data.isna().sum()"
   ]
  },
  {
   "cell_type": "code",
   "execution_count": 8,
   "id": "d1bbbcdf",
   "metadata": {
    "ExecuteTime": {
     "end_time": "2022-09-10T14:55:41.789076Z",
     "start_time": "2022-09-10T14:55:41.221141Z"
    }
   },
   "outputs": [
    {
     "data": {
      "image/png": "[encoded data removed]",
      "text/plain": [
       "<Figure size 864x432 with 3 Axes>"
      ]
     },
     "metadata": {
      "needs_background": "light"
     },
     "output_type": "display_data"
    }
   ],
   "source": [
    "missingno.bar(data, fontsize=16, sort='descending', figsize=(12,6))\n",
    "plt.title(\"Visualization of missing values\", fontsize=20)\n",
    "plt.show()"
   ]
  },
  {
   "cell_type": "markdown",
   "id": "62f9a2d2",
   "metadata": {},
   "source": [
    "Most of the values are missing in the `director` column and some of in the `cast`, `country` and `date_added` column."
   ]
  },
  {
   "cell_type": "markdown",
   "id": "8439dc5e",
   "metadata": {},
   "source": [
    "## Check for duplicates"
   ]
  },
  {
   "cell_type": "code",
   "execution_count": 12,
   "id": "e66a57d2",
   "metadata": {
    "ExecuteTime": {
     "end_time": "2022-09-10T15:01:02.372059Z",
     "start_time": "2022-09-10T15:01:02.344318Z"
    }
   },
   "outputs": [
    {
     "data": {
      "text/plain": [
       "0"
      ]
     },
     "execution_count": 12,
     "metadata": {},
     "output_type": "execute_result"
    }
   ],
   "source": [
    "data.duplicated().sum()"
   ]
  },
  {
   "cell_type": "markdown",
   "id": "ff460288",
   "metadata": {},
   "source": [
    "There is no duplicate values"
   ]
  },
  {
   "cell_type": "markdown",
   "id": "0e0cbbde",
   "metadata": {},
   "source": [
    "## Treating the date added column"
   ]
  },
  {
   "cell_type": "code",
   "execution_count": 13,
   "id": "69b8e0f2",
   "metadata": {
    "ExecuteTime": {
     "end_time": "2022-09-10T15:02:13.728454Z",
     "start_time": "2022-09-10T15:02:13.709467Z"
    }
   },
   "outputs": [
    {
     "data": {
      "text/plain": [
       "0       September 25, 2021\n",
       "1       September 24, 2021\n",
       "2       September 24, 2021\n",
       "3       September 24, 2021\n",
       "4       September 24, 2021\n",
       "               ...        \n",
       "8802     November 20, 2019\n",
       "8803          July 1, 2019\n",
       "8804      November 1, 2019\n",
       "8805      January 11, 2020\n",
       "8806         March 2, 2019\n",
       "Name: date_added, Length: 8807, dtype: object"
      ]
     },
     "execution_count": 13,
     "metadata": {},
     "output_type": "execute_result"
    }
   ],
   "source": [
    "data['date_added']"
   ]
  },
  {
   "cell_type": "markdown",
   "id": "3299b36f",
   "metadata": {},
   "source": [
    " We want the `date_added`column in date-time format"
   ]
  },
  {
   "cell_type": "code",
   "execution_count": 14,
   "id": "5a250ec5",
   "metadata": {
    "ExecuteTime": {
     "end_time": "2022-09-10T15:03:04.433392Z",
     "start_time": "2022-09-10T15:03:03.586235Z"
    }
   },
   "outputs": [
    {
     "data": {
      "text/plain": [
       "DatetimeIndex(['2021-09-25', '2021-09-24', '2021-09-24', '2021-09-24',\n",
       "               '2021-09-24', '2021-09-24', '2021-09-24', '2021-09-24',\n",
       "               '2021-09-24', '2021-09-24',\n",
       "               ...\n",
       "               '2018-09-13', '2019-12-31', '2018-02-15', '2016-12-15',\n",
       "               '2016-03-09', '2019-11-20', '2019-07-01', '2019-11-01',\n",
       "               '2020-01-11', '2019-03-02'],\n",
       "              dtype='datetime64[ns]', name='date_added', length=8807, freq=None)"
      ]
     },
     "execution_count": 14,
     "metadata": {},
     "output_type": "execute_result"
    }
   ],
   "source": [
    "pd.DatetimeIndex(data['date_added'])"
   ]
  },
  {
   "cell_type": "code",
   "execution_count": 19,
   "id": "a1516ae4",
   "metadata": {
    "ExecuteTime": {
     "end_time": "2022-09-10T15:06:57.845269Z",
     "start_time": "2022-09-10T15:06:57.829665Z"
    }
   },
   "outputs": [],
   "source": [
    "data['date_added'] = pd.DatetimeIndex(data['date_added'])\n",
    "\n",
    "data['year'] = pd.DatetimeIndex(data['date_added']).year\n",
    "\n",
    "data['month'] = pd.DatetimeIndex(data['date_added']).month"
   ]
  },
  {
   "cell_type": "code",
   "execution_count": 20,
   "id": "3ebe323d",
   "metadata": {
    "ExecuteTime": {
     "end_time": "2022-09-10T15:07:00.234276Z",
     "start_time": "2022-09-10T15:07:00.204209Z"
    }
   },
   "outputs": [
    {
     "data": {
      "text/html": [
       "<div>\n",
       "<style scoped>\n",
       "    .dataframe tbody tr th:only-of-type {\n",
       "        vertical-align: middle;\n",
       "    }\n",
       "\n",
       "    .dataframe tbody tr th {\n",
       "        vertical-align: top;\n",
       "    }\n",
       "\n",
       "    .dataframe thead th {\n",
       "        text-align: right;\n",
       "    }\n",
       "</style>\n",
       "<table border=\"1\" class=\"dataframe\">\n",
       "  <thead>\n",
       "    <tr style=\"text-align: right;\">\n",
       "      <th></th>\n",
       "      <th>date_added</th>\n",
       "      <th>year</th>\n",
       "      <th>month</th>\n",
       "    </tr>\n",
       "  </thead>\n",
       "  <tbody>\n",
       "    <tr>\n",
       "      <th>0</th>\n",
       "      <td>2021-09-25</td>\n",
       "      <td>2021.0</td>\n",
       "      <td>9.0</td>\n",
       "    </tr>\n",
       "    <tr>\n",
       "      <th>1</th>\n",
       "      <td>2021-09-24</td>\n",
       "      <td>2021.0</td>\n",
       "      <td>9.0</td>\n",
       "    </tr>\n",
       "    <tr>\n",
       "      <th>2</th>\n",
       "      <td>2021-09-24</td>\n",
       "      <td>2021.0</td>\n",
       "      <td>9.0</td>\n",
       "    </tr>\n",
       "    <tr>\n",
       "      <th>3</th>\n",
       "      <td>2021-09-24</td>\n",
       "      <td>2021.0</td>\n",
       "      <td>9.0</td>\n",
       "    </tr>\n",
       "    <tr>\n",
       "      <th>4</th>\n",
       "      <td>2021-09-24</td>\n",
       "      <td>2021.0</td>\n",
       "      <td>9.0</td>\n",
       "    </tr>\n",
       "    <tr>\n",
       "      <th>...</th>\n",
       "      <td>...</td>\n",
       "      <td>...</td>\n",
       "      <td>...</td>\n",
       "    </tr>\n",
       "    <tr>\n",
       "      <th>8802</th>\n",
       "      <td>2019-11-20</td>\n",
       "      <td>2019.0</td>\n",
       "      <td>11.0</td>\n",
       "    </tr>\n",
       "    <tr>\n",
       "      <th>8803</th>\n",
       "      <td>2019-07-01</td>\n",
       "      <td>2019.0</td>\n",
       "      <td>7.0</td>\n",
       "    </tr>\n",
       "    <tr>\n",
       "      <th>8804</th>\n",
       "      <td>2019-11-01</td>\n",
       "      <td>2019.0</td>\n",
       "      <td>11.0</td>\n",
       "    </tr>\n",
       "    <tr>\n",
       "      <th>8805</th>\n",
       "      <td>2020-01-11</td>\n",
       "      <td>2020.0</td>\n",
       "      <td>1.0</td>\n",
       "    </tr>\n",
       "    <tr>\n",
       "      <th>8806</th>\n",
       "      <td>2019-03-02</td>\n",
       "      <td>2019.0</td>\n",
       "      <td>3.0</td>\n",
       "    </tr>\n",
       "  </tbody>\n",
       "</table>\n",
       "<p>8807 rows × 3 columns</p>\n",
       "</div>"
      ],
      "text/plain": [
       "     date_added    year  month\n",
       "0    2021-09-25  2021.0    9.0\n",
       "1    2021-09-24  2021.0    9.0\n",
       "2    2021-09-24  2021.0    9.0\n",
       "3    2021-09-24  2021.0    9.0\n",
       "4    2021-09-24  2021.0    9.0\n",
       "...         ...     ...    ...\n",
       "8802 2019-11-20  2019.0   11.0\n",
       "8803 2019-07-01  2019.0    7.0\n",
       "8804 2019-11-01  2019.0   11.0\n",
       "8805 2020-01-11  2020.0    1.0\n",
       "8806 2019-03-02  2019.0    3.0\n",
       "\n",
       "[8807 rows x 3 columns]"
      ]
     },
     "execution_count": 20,
     "metadata": {},
     "output_type": "execute_result"
    }
   ],
   "source": [
    "data[['date_added', 'year', 'month']]"
   ]
  },
  {
   "cell_type": "code",
   "execution_count": 21,
   "id": "4f5bbd23",
   "metadata": {
    "ExecuteTime": {
     "end_time": "2022-09-10T15:07:22.194473Z",
     "start_time": "2022-09-10T15:07:22.186472Z"
    }
   },
   "outputs": [
    {
     "data": {
      "text/plain": [
       "show_id                 object\n",
       "type                    object\n",
       "title                   object\n",
       "director                object\n",
       "cast                    object\n",
       "country                 object\n",
       "date_added      datetime64[ns]\n",
       "release_year             int64\n",
       "rating                  object\n",
       "duration                object\n",
       "listed_in               object\n",
       "description             object\n",
       "year                   float64\n",
       "month                  float64\n",
       "dtype: object"
      ]
     },
     "execution_count": 21,
     "metadata": {},
     "output_type": "execute_result"
    }
   ],
   "source": [
    "data.dtypes"
   ]
  },
  {
   "cell_type": "markdown",
   "id": "5a3229f8",
   "metadata": {},
   "source": [
    "## Rating column"
   ]
  },
  {
   "cell_type": "code",
   "execution_count": 22,
   "id": "54138bf2",
   "metadata": {
    "ExecuteTime": {
     "end_time": "2022-09-10T15:08:46.223309Z",
     "start_time": "2022-09-10T15:08:46.205635Z"
    }
   },
   "outputs": [
    {
     "data": {
      "text/plain": [
       "0       PG-13\n",
       "1       TV-MA\n",
       "2       TV-MA\n",
       "3       TV-MA\n",
       "4       TV-MA\n",
       "        ...  \n",
       "8802        R\n",
       "8803    TV-Y7\n",
       "8804        R\n",
       "8805       PG\n",
       "8806    TV-14\n",
       "Name: rating, Length: 8807, dtype: object"
      ]
     },
     "execution_count": 22,
     "metadata": {},
     "output_type": "execute_result"
    }
   ],
   "source": [
    "data['rating']"
   ]
  },
  {
   "cell_type": "markdown",
   "id": "6c5210b4",
   "metadata": {},
   "source": [
    "How many unique types of rating do we have?"
   ]
  },
  {
   "cell_type": "code",
   "execution_count": 23,
   "id": "5676bd6b",
   "metadata": {
    "ExecuteTime": {
     "end_time": "2022-09-10T15:09:21.487839Z",
     "start_time": "2022-09-10T15:09:21.469951Z"
    }
   },
   "outputs": [
    {
     "data": {
      "text/plain": [
       "17"
      ]
     },
     "execution_count": 23,
     "metadata": {},
     "output_type": "execute_result"
    }
   ],
   "source": [
    "data['rating'].nunique()"
   ]
  },
  {
   "cell_type": "code",
   "execution_count": 24,
   "id": "937d5646",
   "metadata": {
    "ExecuteTime": {
     "end_time": "2022-09-10T15:09:56.355611Z",
     "start_time": "2022-09-10T15:09:56.343856Z"
    }
   },
   "outputs": [
    {
     "data": {
      "text/plain": [
       "array(['PG-13', 'TV-MA', 'PG', 'TV-14', 'TV-PG', 'TV-Y', 'TV-Y7', 'R',\n",
       "       'TV-G', 'G', 'NC-17', '74 min', '84 min', '66 min', 'NR', nan,\n",
       "       'TV-Y7-FV', 'UR'], dtype=object)"
      ]
     },
     "execution_count": 24,
     "metadata": {},
     "output_type": "execute_result"
    }
   ],
   "source": [
    "data['rating'].unique()"
   ]
  },
  {
   "cell_type": "code",
   "execution_count": 30,
   "id": "37a7bb0d",
   "metadata": {
    "ExecuteTime": {
     "end_time": "2022-09-10T15:12:37.253130Z",
     "start_time": "2022-09-10T15:12:37.216032Z"
    }
   },
   "outputs": [
    {
     "data": {
      "text/html": [
       "<div>\n",
       "<style scoped>\n",
       "    .dataframe tbody tr th:only-of-type {\n",
       "        vertical-align: middle;\n",
       "    }\n",
       "\n",
       "    .dataframe tbody tr th {\n",
       "        vertical-align: top;\n",
       "    }\n",
       "\n",
       "    .dataframe thead th {\n",
       "        text-align: right;\n",
       "    }\n",
       "</style>\n",
       "<table border=\"1\" class=\"dataframe\">\n",
       "  <thead>\n",
       "    <tr style=\"text-align: right;\">\n",
       "      <th></th>\n",
       "      <th>show_id</th>\n",
       "      <th>type</th>\n",
       "      <th>title</th>\n",
       "      <th>director</th>\n",
       "      <th>cast</th>\n",
       "      <th>country</th>\n",
       "      <th>date_added</th>\n",
       "      <th>release_year</th>\n",
       "      <th>rating</th>\n",
       "      <th>duration</th>\n",
       "      <th>listed_in</th>\n",
       "      <th>description</th>\n",
       "      <th>year</th>\n",
       "      <th>month</th>\n",
       "    </tr>\n",
       "  </thead>\n",
       "  <tbody>\n",
       "    <tr>\n",
       "      <th>5813</th>\n",
       "      <td>s5814</td>\n",
       "      <td>Movie</td>\n",
       "      <td>Louis C.K.: Live at the Comedy Store</td>\n",
       "      <td>Louis C.K.</td>\n",
       "      <td>Louis C.K.</td>\n",
       "      <td>United States</td>\n",
       "      <td>2016-08-15</td>\n",
       "      <td>2015</td>\n",
       "      <td>66 min</td>\n",
       "      <td>NaN</td>\n",
       "      <td>Movies</td>\n",
       "      <td>The comic puts his trademark hilarious/thought...</td>\n",
       "      <td>2016.0</td>\n",
       "      <td>8.0</td>\n",
       "    </tr>\n",
       "  </tbody>\n",
       "</table>\n",
       "</div>"
      ],
      "text/plain": [
       "     show_id   type                                 title    director  \\\n",
       "5813   s5814  Movie  Louis C.K.: Live at the Comedy Store  Louis C.K.   \n",
       "\n",
       "            cast        country date_added  release_year  rating duration  \\\n",
       "5813  Louis C.K.  United States 2016-08-15          2015  66 min      NaN   \n",
       "\n",
       "     listed_in                                        description    year  \\\n",
       "5813    Movies  The comic puts his trademark hilarious/thought...  2016.0   \n",
       "\n",
       "      month  \n",
       "5813    8.0  "
      ]
     },
     "execution_count": 30,
     "metadata": {},
     "output_type": "execute_result"
    }
   ],
   "source": [
    "data[data['rating']=='66 min']"
   ]
  },
  {
   "cell_type": "code",
   "execution_count": 31,
   "id": "fea8d71c",
   "metadata": {
    "ExecuteTime": {
     "end_time": "2022-09-10T15:12:52.204336Z",
     "start_time": "2022-09-10T15:12:52.177767Z"
    }
   },
   "outputs": [
    {
     "data": {
      "text/html": [
       "<div>\n",
       "<style scoped>\n",
       "    .dataframe tbody tr th:only-of-type {\n",
       "        vertical-align: middle;\n",
       "    }\n",
       "\n",
       "    .dataframe tbody tr th {\n",
       "        vertical-align: top;\n",
       "    }\n",
       "\n",
       "    .dataframe thead th {\n",
       "        text-align: right;\n",
       "    }\n",
       "</style>\n",
       "<table border=\"1\" class=\"dataframe\">\n",
       "  <thead>\n",
       "    <tr style=\"text-align: right;\">\n",
       "      <th></th>\n",
       "      <th>show_id</th>\n",
       "      <th>type</th>\n",
       "      <th>title</th>\n",
       "      <th>director</th>\n",
       "      <th>cast</th>\n",
       "      <th>country</th>\n",
       "      <th>date_added</th>\n",
       "      <th>release_year</th>\n",
       "      <th>rating</th>\n",
       "      <th>duration</th>\n",
       "      <th>listed_in</th>\n",
       "      <th>description</th>\n",
       "      <th>year</th>\n",
       "      <th>month</th>\n",
       "    </tr>\n",
       "  </thead>\n",
       "  <tbody>\n",
       "    <tr>\n",
       "      <th>5541</th>\n",
       "      <td>s5542</td>\n",
       "      <td>Movie</td>\n",
       "      <td>Louis C.K. 2017</td>\n",
       "      <td>Louis C.K.</td>\n",
       "      <td>Louis C.K.</td>\n",
       "      <td>United States</td>\n",
       "      <td>2017-04-04</td>\n",
       "      <td>2017</td>\n",
       "      <td>74 min</td>\n",
       "      <td>NaN</td>\n",
       "      <td>Movies</td>\n",
       "      <td>Louis C.K. muses on religion, eternal love, gi...</td>\n",
       "      <td>2017.0</td>\n",
       "      <td>4.0</td>\n",
       "    </tr>\n",
       "  </tbody>\n",
       "</table>\n",
       "</div>"
      ],
      "text/plain": [
       "     show_id   type            title    director        cast        country  \\\n",
       "5541   s5542  Movie  Louis C.K. 2017  Louis C.K.  Louis C.K.  United States   \n",
       "\n",
       "     date_added  release_year  rating duration listed_in  \\\n",
       "5541 2017-04-04          2017  74 min      NaN    Movies   \n",
       "\n",
       "                                            description    year  month  \n",
       "5541  Louis C.K. muses on religion, eternal love, gi...  2017.0    4.0  "
      ]
     },
     "execution_count": 31,
     "metadata": {},
     "output_type": "execute_result"
    }
   ],
   "source": [
    "data[data['rating']=='74 min']"
   ]
  },
  {
   "cell_type": "code",
   "execution_count": 50,
   "id": "5f757bce",
   "metadata": {
    "ExecuteTime": {
     "end_time": "2022-09-10T15:20:02.797391Z",
     "start_time": "2022-09-10T15:20:02.766945Z"
    }
   },
   "outputs": [
    {
     "data": {
      "text/html": [
       "<div>\n",
       "<style scoped>\n",
       "    .dataframe tbody tr th:only-of-type {\n",
       "        vertical-align: middle;\n",
       "    }\n",
       "\n",
       "    .dataframe tbody tr th {\n",
       "        vertical-align: top;\n",
       "    }\n",
       "\n",
       "    .dataframe thead th {\n",
       "        text-align: right;\n",
       "    }\n",
       "</style>\n",
       "<table border=\"1\" class=\"dataframe\">\n",
       "  <thead>\n",
       "    <tr style=\"text-align: right;\">\n",
       "      <th></th>\n",
       "      <th>show_id</th>\n",
       "      <th>type</th>\n",
       "      <th>title</th>\n",
       "      <th>director</th>\n",
       "      <th>cast</th>\n",
       "      <th>country</th>\n",
       "      <th>date_added</th>\n",
       "      <th>release_year</th>\n",
       "      <th>rating</th>\n",
       "      <th>duration</th>\n",
       "      <th>listed_in</th>\n",
       "      <th>description</th>\n",
       "      <th>year</th>\n",
       "      <th>month</th>\n",
       "    </tr>\n",
       "  </thead>\n",
       "  <tbody>\n",
       "    <tr>\n",
       "      <th>5794</th>\n",
       "      <td>s5795</td>\n",
       "      <td>Movie</td>\n",
       "      <td>Louis C.K.: Hilarious</td>\n",
       "      <td>Louis C.K.</td>\n",
       "      <td>Louis C.K.</td>\n",
       "      <td>United States</td>\n",
       "      <td>2016-09-16</td>\n",
       "      <td>2010</td>\n",
       "      <td>84 min</td>\n",
       "      <td>NaN</td>\n",
       "      <td>Movies</td>\n",
       "      <td>Emmy-winning comedy writer Louis C.K. brings h...</td>\n",
       "      <td>2016.0</td>\n",
       "      <td>9.0</td>\n",
       "    </tr>\n",
       "  </tbody>\n",
       "</table>\n",
       "</div>"
      ],
      "text/plain": [
       "     show_id   type                  title    director        cast  \\\n",
       "5794   s5795  Movie  Louis C.K.: Hilarious  Louis C.K.  Louis C.K.   \n",
       "\n",
       "            country date_added  release_year  rating duration listed_in  \\\n",
       "5794  United States 2016-09-16          2010  84 min      NaN    Movies   \n",
       "\n",
       "                                            description    year  month  \n",
       "5794  Emmy-winning comedy writer Louis C.K. brings h...  2016.0    9.0  "
      ]
     },
     "execution_count": 50,
     "metadata": {},
     "output_type": "execute_result"
    }
   ],
   "source": [
    "data[data['rating']=='84 min']"
   ]
  },
  {
   "cell_type": "code",
   "execution_count": 51,
   "id": "c82ed605",
   "metadata": {
    "ExecuteTime": {
     "end_time": "2022-09-10T15:20:23.353314Z",
     "start_time": "2022-09-10T15:20:23.331552Z"
    }
   },
   "outputs": [
    {
     "data": {
      "text/plain": [
       "TV-MA       3207\n",
       "TV-14       2160\n",
       "TV-PG        863\n",
       "R            799\n",
       "PG-13        490\n",
       "TV-Y7        334\n",
       "TV-Y         307\n",
       "PG           287\n",
       "TV-G         220\n",
       "NR            80\n",
       "G             41\n",
       "TV-Y7-FV       6\n",
       "NC-17          3\n",
       "UR             3\n",
       "74 min         1\n",
       "84 min         1\n",
       "66 min         1\n",
       "Name: rating, dtype: int64"
      ]
     },
     "execution_count": 51,
     "metadata": {},
     "output_type": "execute_result"
    }
   ],
   "source": [
    "data['rating'].value_counts()"
   ]
  },
  {
   "cell_type": "code",
   "execution_count": 58,
   "id": "d154ead5",
   "metadata": {
    "ExecuteTime": {
     "end_time": "2022-09-10T15:23:08.314444Z",
     "start_time": "2022-09-10T15:23:08.306377Z"
    }
   },
   "outputs": [],
   "source": [
    "idx = data[data['rating'].isna()].index"
   ]
  },
  {
   "cell_type": "code",
   "execution_count": 62,
   "id": "7cec51b8",
   "metadata": {
    "ExecuteTime": {
     "end_time": "2022-09-10T15:23:41.363771Z",
     "start_time": "2022-09-10T15:23:41.348129Z"
    }
   },
   "outputs": [],
   "source": [
    "data.loc[idx, 'rating'] = \"NA\""
   ]
  },
  {
   "cell_type": "code",
   "execution_count": 65,
   "id": "c6a2f31a",
   "metadata": {
    "ExecuteTime": {
     "end_time": "2022-09-10T15:24:18.416881Z",
     "start_time": "2022-09-10T15:24:18.405140Z"
    }
   },
   "outputs": [],
   "source": [
    "idx = data[data['rating'].str.contains('min')].index"
   ]
  },
  {
   "cell_type": "code",
   "execution_count": 66,
   "id": "b87f6daf",
   "metadata": {
    "ExecuteTime": {
     "end_time": "2022-09-10T15:24:23.596316Z",
     "start_time": "2022-09-10T15:24:23.578128Z"
    }
   },
   "outputs": [
    {
     "data": {
      "text/plain": [
       "Int64Index([5541, 5794, 5813], dtype='int64')"
      ]
     },
     "execution_count": 66,
     "metadata": {},
     "output_type": "execute_result"
    }
   ],
   "source": [
    "idx"
   ]
  },
  {
   "cell_type": "code",
   "execution_count": 67,
   "id": "f066bde2",
   "metadata": {
    "ExecuteTime": {
     "end_time": "2022-09-10T15:24:49.749040Z",
     "start_time": "2022-09-10T15:24:49.732795Z"
    }
   },
   "outputs": [],
   "source": [
    "data.loc[idx, 'duration'] = data.loc[idx, 'rating']"
   ]
  },
  {
   "cell_type": "code",
   "execution_count": 68,
   "id": "9f025e1d",
   "metadata": {
    "ExecuteTime": {
     "end_time": "2022-09-10T15:25:00.812927Z",
     "start_time": "2022-09-10T15:25:00.805704Z"
    }
   },
   "outputs": [],
   "source": [
    "data.loc[idx, 'rating'] = 'NA'"
   ]
  },
  {
   "cell_type": "code",
   "execution_count": 73,
   "id": "a8046364",
   "metadata": {
    "ExecuteTime": {
     "end_time": "2022-09-10T15:28:51.469778Z",
     "start_time": "2022-09-10T15:28:51.445847Z"
    }
   },
   "outputs": [
    {
     "data": {
      "text/plain": [
       "TV-MA       3207\n",
       "TV-14       2160\n",
       "TV-PG        863\n",
       "R            799\n",
       "PG-13        490\n",
       "TV-Y7        334\n",
       "TV-Y         307\n",
       "PG           287\n",
       "TV-G         220\n",
       "NR            80\n",
       "G             41\n",
       "NA             7\n",
       "TV-Y7-FV       6\n",
       "NC-17          3\n",
       "UR             3\n",
       "Name: rating, dtype: int64"
      ]
     },
     "execution_count": 73,
     "metadata": {},
     "output_type": "execute_result"
    }
   ],
   "source": [
    "data['rating'].value_counts()"
   ]
  },
  {
   "cell_type": "code",
   "execution_count": 76,
   "id": "307470b9",
   "metadata": {
    "ExecuteTime": {
     "end_time": "2022-09-10T15:30:27.363433Z",
     "start_time": "2022-09-10T15:30:27.165023Z"
    }
   },
   "outputs": [
    {
     "data": {
      "image/png": "[encoded data removed]",
      "text/plain": [
       "<Figure size 864x432 with 1 Axes>"
      ]
     },
     "metadata": {
      "needs_background": "light"
     },
     "output_type": "display_data"
    }
   ],
   "source": [
    "plt.figure(figsize=(12,6))\n",
    "sns.barplot(x = data['rating'].value_counts().index, y = data['rating'].value_counts().values)\n",
    "plt.grid()\n",
    "plt.title(\"Count of differnt rating types\", fontsize=16)\n",
    "plt.show()"
   ]
  },
  {
   "cell_type": "code",
   "execution_count": 70,
   "id": "512241d3",
   "metadata": {
    "ExecuteTime": {
     "end_time": "2022-09-10T15:27:36.641063Z",
     "start_time": "2022-09-10T15:27:36.110787Z"
    }
   },
   "outputs": [
    {
     "data": {
      "image/png": "[encoded data removed]",
      "text/plain": [
       "<Figure size 864x432 with 3 Axes>"
      ]
     },
     "metadata": {
      "needs_background": "light"
     },
     "output_type": "display_data"
    }
   ],
   "source": [
    "missingno.bar(data, fontsize=16, sort='descending', figsize=(12,6))\n",
    "plt.title(\"Visualization of missing values\", fontsize=20)\n",
    "plt.show()"
   ]
  },
  {
   "cell_type": "markdown",
   "id": "0520f111",
   "metadata": {},
   "source": [
    "## Content distribution"
   ]
  },
  {
   "cell_type": "code",
   "execution_count": 78,
   "id": "09bbf79c",
   "metadata": {
    "ExecuteTime": {
     "end_time": "2022-09-10T15:32:26.753423Z",
     "start_time": "2022-09-10T15:32:26.738014Z"
    }
   },
   "outputs": [
    {
     "data": {
      "text/plain": [
       "array(['Movie', 'TV Show'], dtype=object)"
      ]
     },
     "execution_count": 78,
     "metadata": {},
     "output_type": "execute_result"
    }
   ],
   "source": [
    "data['type'].unique()"
   ]
  },
  {
   "cell_type": "code",
   "execution_count": 79,
   "id": "4cf02d14",
   "metadata": {
    "ExecuteTime": {
     "end_time": "2022-09-10T15:32:53.264125Z",
     "start_time": "2022-09-10T15:32:53.259072Z"
    }
   },
   "outputs": [],
   "source": [
    "x = data['type'].value_counts()"
   ]
  },
  {
   "cell_type": "code",
   "execution_count": 80,
   "id": "320a36b9",
   "metadata": {
    "ExecuteTime": {
     "end_time": "2022-09-10T15:32:55.995371Z",
     "start_time": "2022-09-10T15:32:55.977138Z"
    }
   },
   "outputs": [
    {
     "data": {
      "text/plain": [
       "Movie      6131\n",
       "TV Show    2676\n",
       "Name: type, dtype: int64"
      ]
     },
     "execution_count": 80,
     "metadata": {},
     "output_type": "execute_result"
    }
   ],
   "source": [
    "x"
   ]
  },
  {
   "cell_type": "code",
   "execution_count": 95,
   "id": "22e749c2",
   "metadata": {
    "ExecuteTime": {
     "end_time": "2022-09-10T15:42:05.938331Z",
     "start_time": "2022-09-10T15:42:05.831203Z"
    }
   },
   "outputs": [
    {
     "data": {
      "image/png": "[encoded data removed]",
      "text/plain": [
       "<Figure size 576x576 with 1 Axes>"
      ]
     },
     "metadata": {},
     "output_type": "display_data"
    }
   ],
   "source": [
    "plt.figure(figsize=(8,8))\n",
    "wedges, titles, perc = plt.pie(x, normalize=True, labels=data['type'].unique(), autopct='%0.2f')\n",
    "for t in titles:\n",
    "    t.set_fontsize(\"18\")\n",
    "for p in perc:\n",
    "    p.set_fontsize(\"18\")\n",
    "plt.show()"
   ]
  },
  {
   "cell_type": "markdown",
   "id": "3edb8bb0",
   "metadata": {},
   "source": [
    "## Countries"
   ]
  },
  {
   "cell_type": "code",
   "execution_count": 96,
   "id": "162f1013",
   "metadata": {
    "ExecuteTime": {
     "end_time": "2022-09-10T15:43:40.123559Z",
     "start_time": "2022-09-10T15:43:40.103442Z"
    }
   },
   "outputs": [
    {
     "data": {
      "text/plain": [
       "0       United States\n",
       "1        South Africa\n",
       "2                 NaN\n",
       "3                 NaN\n",
       "4               India\n",
       "            ...      \n",
       "8802    United States\n",
       "8803              NaN\n",
       "8804    United States\n",
       "8805    United States\n",
       "8806            India\n",
       "Name: country, Length: 8807, dtype: object"
      ]
     },
     "execution_count": 96,
     "metadata": {},
     "output_type": "execute_result"
    }
   ],
   "source": [
    "data['country']"
   ]
  },
  {
   "cell_type": "code",
   "execution_count": 97,
   "id": "bf8ac94a",
   "metadata": {
    "ExecuteTime": {
     "end_time": "2022-09-10T15:43:58.408227Z",
     "start_time": "2022-09-10T15:43:58.398227Z"
    }
   },
   "outputs": [
    {
     "data": {
      "text/plain": [
       "United States                             2818\n",
       "India                                      972\n",
       "United Kingdom                             419\n",
       "Japan                                      245\n",
       "South Korea                                199\n",
       "                                          ... \n",
       "Romania, Bulgaria, Hungary                   1\n",
       "Uruguay, Guatemala                           1\n",
       "France, Senegal, Belgium                     1\n",
       "Mexico, United States, Spain, Colombia       1\n",
       "United Arab Emirates, Jordan                 1\n",
       "Name: country, Length: 748, dtype: int64"
      ]
     },
     "execution_count": 97,
     "metadata": {},
     "output_type": "execute_result"
    }
   ],
   "source": [
    "data['country'].value_counts()"
   ]
  },
  {
   "cell_type": "code",
   "execution_count": 98,
   "id": "ca25901c",
   "metadata": {
    "ExecuteTime": {
     "end_time": "2022-09-10T15:44:23.934946Z",
     "start_time": "2022-09-10T15:44:23.918936Z"
    }
   },
   "outputs": [
    {
     "data": {
      "text/plain": [
       "748"
      ]
     },
     "execution_count": 98,
     "metadata": {},
     "output_type": "execute_result"
    }
   ],
   "source": [
    "data['country'].nunique()"
   ]
  },
  {
   "cell_type": "code",
   "execution_count": 104,
   "id": "4104c4c6",
   "metadata": {
    "ExecuteTime": {
     "end_time": "2022-09-10T15:46:33.232074Z",
     "start_time": "2022-09-10T15:46:33.218370Z"
    }
   },
   "outputs": [],
   "source": [
    "top_10_country = data['country'].value_counts()[:10]"
   ]
  },
  {
   "cell_type": "code",
   "execution_count": 105,
   "id": "67d69c81",
   "metadata": {
    "ExecuteTime": {
     "end_time": "2022-09-10T15:46:34.792375Z",
     "start_time": "2022-09-10T15:46:34.602012Z"
    }
   },
   "outputs": [
    {
     "data": {
      "image/png": "[encoded data removed]",
      "text/plain": [
       "<Figure size 1440x576 with 1 Axes>"
      ]
     },
     "metadata": {
      "needs_background": "light"
     },
     "output_type": "display_data"
    }
   ],
   "source": [
    "plt.figure(figsize=(20,8))\n",
    "sns.barplot(x = top_10_country.index, y = top_10_country.values)\n",
    "plt.grid()\n",
    "plt.title(\"Top countries with highest number of contents\", fontsize=16)\n",
    "plt.show()"
   ]
  },
  {
   "cell_type": "markdown",
   "id": "76fe2f86",
   "metadata": {},
   "source": [
    "## Content added over years"
   ]
  },
  {
   "cell_type": "code",
   "execution_count": 107,
   "id": "500ae7ee",
   "metadata": {
    "ExecuteTime": {
     "end_time": "2022-09-10T15:53:47.012759Z",
     "start_time": "2022-09-10T15:53:46.749212Z"
    }
   },
   "outputs": [
    {
     "name": "stderr",
     "output_type": "stream",
     "text": [
      "C:\\Users\\SouravKarmakar\\anaconda3\\lib\\site-packages\\seaborn\\_decorators.py:36: FutureWarning: Pass the following variable as a keyword arg: x. From version 0.12, the only valid positional argument will be `data`, and passing other arguments without an explicit keyword will result in an error or misinterpretation.\n",
      "  warnings.warn(\n"
     ]
    },
    {
     "data": {
      "image/png": "[encoded data removed]",
      "text/plain": [
       "<Figure size 864x432 with 1 Axes>"
      ]
     },
     "metadata": {
      "needs_background": "light"
     },
     "output_type": "display_data"
    }
   ],
   "source": [
    "plt.figure(figsize=(12,6))\n",
    "sns.countplot(data['year'])\n",
    "plt.title(\"Content added over years\", fontsize=16)\n",
    "plt.show()"
   ]
  },
  {
   "cell_type": "code",
   "execution_count": 108,
   "id": "c06568e3",
   "metadata": {
    "ExecuteTime": {
     "end_time": "2022-09-10T15:56:00.717653Z",
     "start_time": "2022-09-10T15:56:00.701440Z"
    }
   },
   "outputs": [],
   "source": [
    "movies_data = data[data['type']==\"Movie\"]\n",
    "tv_shows_data = data[data['type']=='TV Show']"
   ]
  },
  {
   "cell_type": "code",
   "execution_count": 109,
   "id": "f47506d6",
   "metadata": {
    "ExecuteTime": {
     "end_time": "2022-09-10T15:56:21.519826Z",
     "start_time": "2022-09-10T15:56:21.280853Z"
    }
   },
   "outputs": [
    {
     "name": "stderr",
     "output_type": "stream",
     "text": [
      "C:\\Users\\SouravKarmakar\\anaconda3\\lib\\site-packages\\seaborn\\_decorators.py:36: FutureWarning: Pass the following variable as a keyword arg: x. From version 0.12, the only valid positional argument will be `data`, and passing other arguments without an explicit keyword will result in an error or misinterpretation.\n",
      "  warnings.warn(\n"
     ]
    },
    {
     "data": {
      "image/png": "[encoded data removed]",
      "text/plain": [
       "<Figure size 864x432 with 1 Axes>"
      ]
     },
     "metadata": {
      "needs_background": "light"
     },
     "output_type": "display_data"
    }
   ],
   "source": [
    "plt.figure(figsize=(12,6))\n",
    "sns.countplot(movies_data['year'])\n",
    "plt.title(\"Movies added over years\", fontsize=16)\n",
    "plt.show()"
   ]
  },
  {
   "cell_type": "code",
   "execution_count": 110,
   "id": "76fbb906",
   "metadata": {
    "ExecuteTime": {
     "end_time": "2022-09-10T15:56:49.782335Z",
     "start_time": "2022-09-10T15:56:49.625162Z"
    }
   },
   "outputs": [
    {
     "name": "stderr",
     "output_type": "stream",
     "text": [
      "C:\\Users\\SouravKarmakar\\anaconda3\\lib\\site-packages\\seaborn\\_decorators.py:36: FutureWarning: Pass the following variable as a keyword arg: x. From version 0.12, the only valid positional argument will be `data`, and passing other arguments without an explicit keyword will result in an error or misinterpretation.\n",
      "  warnings.warn(\n"
     ]
    },
    {
     "data": {
      "image/png": "[encoded data removed]",
      "text/plain": [
       "<Figure size 864x432 with 1 Axes>"
      ]
     },
     "metadata": {
      "needs_background": "light"
     },
     "output_type": "display_data"
    }
   ],
   "source": [
    "plt.figure(figsize=(12,6))\n",
    "sns.countplot(tv_shows_data['year'])\n",
    "plt.title(\"TV shows added over years\", fontsize=16)\n",
    "plt.show()"
   ]
  },
  {
   "cell_type": "code",
   "execution_count": 111,
   "id": "428847b3",
   "metadata": {
    "ExecuteTime": {
     "end_time": "2022-09-10T15:58:38.720419Z",
     "start_time": "2022-09-10T15:58:38.699484Z"
    }
   },
   "outputs": [
    {
     "data": {
      "text/plain": [
       "4528"
      ]
     },
     "execution_count": 111,
     "metadata": {},
     "output_type": "execute_result"
    }
   ],
   "source": [
    "data['director'].nunique()"
   ]
  },
  {
   "cell_type": "code",
   "execution_count": 112,
   "id": "6a3390b8",
   "metadata": {
    "ExecuteTime": {
     "end_time": "2022-09-10T15:58:51.093101Z",
     "start_time": "2022-09-10T15:58:51.070916Z"
    }
   },
   "outputs": [
    {
     "data": {
      "text/plain": [
       "Rajiv Chilaka                     19\n",
       "Raúl Campos, Jan Suter            18\n",
       "Marcus Raboy                      16\n",
       "Suhas Kadav                       16\n",
       "Jay Karas                         14\n",
       "                                  ..\n",
       "Raymie Muzquiz, Stu Livingston     1\n",
       "Joe Menendez                       1\n",
       "Eric Bross                         1\n",
       "Will Eisenberg                     1\n",
       "Mozez Singh                        1\n",
       "Name: director, Length: 4528, dtype: int64"
      ]
     },
     "execution_count": 112,
     "metadata": {},
     "output_type": "execute_result"
    }
   ],
   "source": [
    "data['director'].value_counts()"
   ]
  },
  {
   "cell_type": "code",
   "execution_count": 114,
   "id": "aed00661",
   "metadata": {
    "ExecuteTime": {
     "end_time": "2022-09-10T16:08:11.476763Z",
     "start_time": "2022-09-10T16:08:11.455994Z"
    }
   },
   "outputs": [
    {
     "data": {
      "text/plain": [
       "1 Season      1793\n",
       "2 Seasons      425\n",
       "3 Seasons      199\n",
       "4 Seasons       95\n",
       "5 Seasons       65\n",
       "6 Seasons       33\n",
       "7 Seasons       23\n",
       "8 Seasons       17\n",
       "9 Seasons        9\n",
       "10 Seasons       7\n",
       "13 Seasons       3\n",
       "15 Seasons       2\n",
       "12 Seasons       2\n",
       "11 Seasons       2\n",
       "17 Seasons       1\n",
       "Name: duration, dtype: int64"
      ]
     },
     "execution_count": 114,
     "metadata": {},
     "output_type": "execute_result"
    }
   ],
   "source": [
    "tv_shows_data['duration'].value_counts()"
   ]
  },
  {
   "cell_type": "code",
   "execution_count": 118,
   "id": "443d0a77",
   "metadata": {
    "ExecuteTime": {
     "end_time": "2022-09-10T16:10:13.013304Z",
     "start_time": "2022-09-10T16:10:12.984564Z"
    }
   },
   "outputs": [
    {
     "data": {
      "text/html": [
       "<div>\n",
       "<style scoped>\n",
       "    .dataframe tbody tr th:only-of-type {\n",
       "        vertical-align: middle;\n",
       "    }\n",
       "\n",
       "    .dataframe tbody tr th {\n",
       "        vertical-align: top;\n",
       "    }\n",
       "\n",
       "    .dataframe thead th {\n",
       "        text-align: right;\n",
       "    }\n",
       "</style>\n",
       "<table border=\"1\" class=\"dataframe\">\n",
       "  <thead>\n",
       "    <tr style=\"text-align: right;\">\n",
       "      <th></th>\n",
       "      <th>show_id</th>\n",
       "      <th>type</th>\n",
       "      <th>title</th>\n",
       "      <th>director</th>\n",
       "      <th>cast</th>\n",
       "      <th>country</th>\n",
       "      <th>date_added</th>\n",
       "      <th>release_year</th>\n",
       "      <th>rating</th>\n",
       "      <th>duration</th>\n",
       "      <th>listed_in</th>\n",
       "      <th>description</th>\n",
       "      <th>year</th>\n",
       "      <th>month</th>\n",
       "    </tr>\n",
       "  </thead>\n",
       "  <tbody>\n",
       "    <tr>\n",
       "      <th>390</th>\n",
       "      <td>s391</td>\n",
       "      <td>TV Show</td>\n",
       "      <td>The Walking Dead</td>\n",
       "      <td>NaN</td>\n",
       "      <td>Andrew Lincoln, Steven Yeun, Norman Reedus, Ch...</td>\n",
       "      <td>United States</td>\n",
       "      <td>2021-07-26</td>\n",
       "      <td>2019</td>\n",
       "      <td>TV-MA</td>\n",
       "      <td>10 Seasons</td>\n",
       "      <td>Classic &amp; Cult TV, TV Action &amp; Adventure, TV D...</td>\n",
       "      <td>In the wake of a zombie apocalypse, survivors ...</td>\n",
       "      <td>2021.0</td>\n",
       "      <td>7.0</td>\n",
       "    </tr>\n",
       "    <tr>\n",
       "      <th>1622</th>\n",
       "      <td>s1623</td>\n",
       "      <td>TV Show</td>\n",
       "      <td>Stargate SG-1</td>\n",
       "      <td>NaN</td>\n",
       "      <td>Richard Dean Anderson, Michael Shanks, Amanda ...</td>\n",
       "      <td>United States, Canada</td>\n",
       "      <td>2020-12-01</td>\n",
       "      <td>2006</td>\n",
       "      <td>TV-MA</td>\n",
       "      <td>10 Seasons</td>\n",
       "      <td>Classic &amp; Cult TV, TV Action &amp; Adventure, TV S...</td>\n",
       "      <td>Stargate Command roars into action when Jack O...</td>\n",
       "      <td>2020.0</td>\n",
       "      <td>12.0</td>\n",
       "    </tr>\n",
       "    <tr>\n",
       "      <th>1759</th>\n",
       "      <td>s1760</td>\n",
       "      <td>TV Show</td>\n",
       "      <td>LEGO Ninjago: Masters of Spinjitzu</td>\n",
       "      <td>NaN</td>\n",
       "      <td>Vincent Tong, Jillian Michaels, Ian James Corl...</td>\n",
       "      <td>Denmark, Singapore, Canada, United States</td>\n",
       "      <td>2020-11-01</td>\n",
       "      <td>2019</td>\n",
       "      <td>TV-Y7</td>\n",
       "      <td>10 Seasons</td>\n",
       "      <td>Kids' TV</td>\n",
       "      <td>Kai, Jay, Cole and Zane must master their elem...</td>\n",
       "      <td>2020.0</td>\n",
       "      <td>11.0</td>\n",
       "    </tr>\n",
       "    <tr>\n",
       "      <th>2203</th>\n",
       "      <td>s2204</td>\n",
       "      <td>TV Show</td>\n",
       "      <td>Shameless (U.S.)</td>\n",
       "      <td>NaN</td>\n",
       "      <td>William H. Macy, Emmy Rossum, Justin Chatwin, ...</td>\n",
       "      <td>United States</td>\n",
       "      <td>2020-07-26</td>\n",
       "      <td>2019</td>\n",
       "      <td>TV-MA</td>\n",
       "      <td>10 Seasons</td>\n",
       "      <td>TV Comedies, TV Dramas</td>\n",
       "      <td>This dramedy based on a British series centers...</td>\n",
       "      <td>2020.0</td>\n",
       "      <td>7.0</td>\n",
       "    </tr>\n",
       "    <tr>\n",
       "      <th>5908</th>\n",
       "      <td>s5909</td>\n",
       "      <td>TV Show</td>\n",
       "      <td>Danger Mouse: Classic Collection</td>\n",
       "      <td>NaN</td>\n",
       "      <td>David Jason, Terry Scott, Edward Kelsey, Brian...</td>\n",
       "      <td>United Kingdom</td>\n",
       "      <td>2015-06-15</td>\n",
       "      <td>1992</td>\n",
       "      <td>TV-Y</td>\n",
       "      <td>10 Seasons</td>\n",
       "      <td>British TV Shows, Kids' TV, TV Comedies</td>\n",
       "      <td>Follow the adventures of superspy Danger Mouse...</td>\n",
       "      <td>2015.0</td>\n",
       "      <td>6.0</td>\n",
       "    </tr>\n",
       "    <tr>\n",
       "      <th>6549</th>\n",
       "      <td>s6550</td>\n",
       "      <td>TV Show</td>\n",
       "      <td>Dad's Army</td>\n",
       "      <td>NaN</td>\n",
       "      <td>Arthur Lowe, John Le Mesurier, Clive Dunn, Joh...</td>\n",
       "      <td>United Kingdom</td>\n",
       "      <td>2018-03-31</td>\n",
       "      <td>1977</td>\n",
       "      <td>TV-PG</td>\n",
       "      <td>10 Seasons</td>\n",
       "      <td>British TV Shows, Classic &amp; Cult TV, TV Comedies</td>\n",
       "      <td>This beloved sitcom follows the unlikely heroe...</td>\n",
       "      <td>2018.0</td>\n",
       "      <td>3.0</td>\n",
       "    </tr>\n",
       "    <tr>\n",
       "      <th>6806</th>\n",
       "      <td>s6807</td>\n",
       "      <td>TV Show</td>\n",
       "      <td>Friends</td>\n",
       "      <td>NaN</td>\n",
       "      <td>Jennifer Aniston, Courteney Cox, Lisa Kudrow, ...</td>\n",
       "      <td>United States</td>\n",
       "      <td>NaT</td>\n",
       "      <td>2003</td>\n",
       "      <td>TV-14</td>\n",
       "      <td>10 Seasons</td>\n",
       "      <td>Classic &amp; Cult TV, TV Comedies</td>\n",
       "      <td>This hit sitcom follows the merry misadventure...</td>\n",
       "      <td>NaN</td>\n",
       "      <td>NaN</td>\n",
       "    </tr>\n",
       "  </tbody>\n",
       "</table>\n",
       "</div>"
      ],
      "text/plain": [
       "     show_id     type                               title director  \\\n",
       "390     s391  TV Show                    The Walking Dead      NaN   \n",
       "1622   s1623  TV Show                       Stargate SG-1      NaN   \n",
       "1759   s1760  TV Show  LEGO Ninjago: Masters of Spinjitzu      NaN   \n",
       "2203   s2204  TV Show                    Shameless (U.S.)      NaN   \n",
       "5908   s5909  TV Show    Danger Mouse: Classic Collection      NaN   \n",
       "6549   s6550  TV Show                          Dad's Army      NaN   \n",
       "6806   s6807  TV Show                             Friends      NaN   \n",
       "\n",
       "                                                   cast  \\\n",
       "390   Andrew Lincoln, Steven Yeun, Norman Reedus, Ch...   \n",
       "1622  Richard Dean Anderson, Michael Shanks, Amanda ...   \n",
       "1759  Vincent Tong, Jillian Michaels, Ian James Corl...   \n",
       "2203  William H. Macy, Emmy Rossum, Justin Chatwin, ...   \n",
       "5908  David Jason, Terry Scott, Edward Kelsey, Brian...   \n",
       "6549  Arthur Lowe, John Le Mesurier, Clive Dunn, Joh...   \n",
       "6806  Jennifer Aniston, Courteney Cox, Lisa Kudrow, ...   \n",
       "\n",
       "                                        country date_added  release_year  \\\n",
       "390                               United States 2021-07-26          2019   \n",
       "1622                      United States, Canada 2020-12-01          2006   \n",
       "1759  Denmark, Singapore, Canada, United States 2020-11-01          2019   \n",
       "2203                              United States 2020-07-26          2019   \n",
       "5908                             United Kingdom 2015-06-15          1992   \n",
       "6549                             United Kingdom 2018-03-31          1977   \n",
       "6806                              United States        NaT          2003   \n",
       "\n",
       "     rating    duration                                          listed_in  \\\n",
       "390   TV-MA  10 Seasons  Classic & Cult TV, TV Action & Adventure, TV D...   \n",
       "1622  TV-MA  10 Seasons  Classic & Cult TV, TV Action & Adventure, TV S...   \n",
       "1759  TV-Y7  10 Seasons                                           Kids' TV   \n",
       "2203  TV-MA  10 Seasons                             TV Comedies, TV Dramas   \n",
       "5908   TV-Y  10 Seasons            British TV Shows, Kids' TV, TV Comedies   \n",
       "6549  TV-PG  10 Seasons   British TV Shows, Classic & Cult TV, TV Comedies   \n",
       "6806  TV-14  10 Seasons                     Classic & Cult TV, TV Comedies   \n",
       "\n",
       "                                            description    year  month  \n",
       "390   In the wake of a zombie apocalypse, survivors ...  2021.0    7.0  \n",
       "1622  Stargate Command roars into action when Jack O...  2020.0   12.0  \n",
       "1759  Kai, Jay, Cole and Zane must master their elem...  2020.0   11.0  \n",
       "2203  This dramedy based on a British series centers...  2020.0    7.0  \n",
       "5908  Follow the adventures of superspy Danger Mouse...  2015.0    6.0  \n",
       "6549  This beloved sitcom follows the unlikely heroe...  2018.0    3.0  \n",
       "6806  This hit sitcom follows the merry misadventure...     NaN    NaN  "
      ]
     },
     "execution_count": 118,
     "metadata": {},
     "output_type": "execute_result"
    }
   ],
   "source": [
    "tv_shows_data[tv_shows_data['duration'] == '10 Seasons']"
   ]
  },
  {
   "cell_type": "code",
   "execution_count": 121,
   "id": "5a25fca9",
   "metadata": {
    "ExecuteTime": {
     "end_time": "2022-09-10T16:14:30.513850Z",
     "start_time": "2022-09-10T16:14:30.484760Z"
    }
   },
   "outputs": [
    {
     "data": {
      "text/html": [
       "<div>\n",
       "<style scoped>\n",
       "    .dataframe tbody tr th:only-of-type {\n",
       "        vertical-align: middle;\n",
       "    }\n",
       "\n",
       "    .dataframe tbody tr th {\n",
       "        vertical-align: top;\n",
       "    }\n",
       "\n",
       "    .dataframe thead th {\n",
       "        text-align: right;\n",
       "    }\n",
       "</style>\n",
       "<table border=\"1\" class=\"dataframe\">\n",
       "  <thead>\n",
       "    <tr style=\"text-align: right;\">\n",
       "      <th></th>\n",
       "      <th>director</th>\n",
       "    </tr>\n",
       "    <tr>\n",
       "      <th>country</th>\n",
       "      <th></th>\n",
       "    </tr>\n",
       "  </thead>\n",
       "  <tbody>\n",
       "    <tr>\n",
       "      <th>United States</th>\n",
       "      <td>2048</td>\n",
       "    </tr>\n",
       "    <tr>\n",
       "      <th>India</th>\n",
       "      <td>890</td>\n",
       "    </tr>\n",
       "    <tr>\n",
       "      <th>United Kingdom</th>\n",
       "      <td>212</td>\n",
       "    </tr>\n",
       "    <tr>\n",
       "      <th>Canada</th>\n",
       "      <td>119</td>\n",
       "    </tr>\n",
       "    <tr>\n",
       "      <th>Spain</th>\n",
       "      <td>106</td>\n",
       "    </tr>\n",
       "    <tr>\n",
       "      <th>...</th>\n",
       "      <td>...</td>\n",
       "    </tr>\n",
       "    <tr>\n",
       "      <th>United States, Colombia, Mexico</th>\n",
       "      <td>0</td>\n",
       "    </tr>\n",
       "    <tr>\n",
       "      <th>United States, Colombia</th>\n",
       "      <td>0</td>\n",
       "    </tr>\n",
       "    <tr>\n",
       "      <th>Ireland, United States, United Kingdom</th>\n",
       "      <td>0</td>\n",
       "    </tr>\n",
       "    <tr>\n",
       "      <th>Colombia, United States</th>\n",
       "      <td>0</td>\n",
       "    </tr>\n",
       "    <tr>\n",
       "      <th>Italy, Germany</th>\n",
       "      <td>0</td>\n",
       "    </tr>\n",
       "  </tbody>\n",
       "</table>\n",
       "<p>748 rows × 1 columns</p>\n",
       "</div>"
      ],
      "text/plain": [
       "                                        director\n",
       "country                                         \n",
       "United States                               2048\n",
       "India                                        890\n",
       "United Kingdom                               212\n",
       "Canada                                       119\n",
       "Spain                                        106\n",
       "...                                          ...\n",
       "United States, Colombia, Mexico                0\n",
       "United States, Colombia                        0\n",
       "Ireland, United States, United Kingdom         0\n",
       "Colombia, United States                        0\n",
       "Italy, Germany                                 0\n",
       "\n",
       "[748 rows x 1 columns]"
      ]
     },
     "execution_count": 121,
     "metadata": {},
     "output_type": "execute_result"
    }
   ],
   "source": [
    "data[['director','country']].groupby(by='country').count().sort_values('director',ascending=False)"
   ]
  },
  {
   "cell_type": "code",
   "execution_count": null,
   "id": "ae91fe48",
   "metadata": {},
   "outputs": [],
   "source": []
  }
 ],
 "metadata": {
  "kernelspec": {
   "display_name": "Python 3 (ipykernel)",
   "language": "python",
   "name": "python3"
  },
  "language_info": {
   "codemirror_mode": {
    "name": "ipython",
    "version": 3
   },
   "file_extension": ".py",
   "mimetype": "text/x-python",
   "name": "python",
   "nbconvert_exporter": "python",
   "pygments_lexer": "ipython3",
   "version": "3.9.7"
  },
  "toc": {
   "base_numbering": 1,
   "nav_menu": {},
   "number_sections": true,
   "sideBar": true,
   "skip_h1_title": true,
   "title_cell": "Table of Contents",
   "title_sidebar": "Contents",
   "toc_cell": false,
   "toc_position": {},
   "toc_section_display": true,
   "toc_window_display": true
  }
 },
 "nbformat": 4,
 "nbformat_minor": 5
}
