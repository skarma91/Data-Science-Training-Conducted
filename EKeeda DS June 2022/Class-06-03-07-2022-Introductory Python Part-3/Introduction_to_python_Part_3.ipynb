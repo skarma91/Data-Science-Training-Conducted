{
 "cells": [
  {
   "cell_type": "markdown",
   "id": "c5818b21",
   "metadata": {},
   "source": [
    "## Conditional operators\n",
    "\n",
    "They always returns boolean value.\n",
    "\n",
    "If the condition is true then they return `True` else they return `False`"
   ]
  },
  {
   "cell_type": "markdown",
   "id": "bc7da935",
   "metadata": {},
   "source": [
    "### == (Equality)"
   ]
  },
  {
   "cell_type": "code",
   "execution_count": 3,
   "id": "93318f1a",
   "metadata": {},
   "outputs": [
    {
     "data": {
      "text/plain": [
       "False"
      ]
     },
     "execution_count": 3,
     "metadata": {},
     "output_type": "execute_result"
    }
   ],
   "source": [
    "a = 5     # Here = means assignment, assigning value 5 to variable a\n",
    "\n",
    "a == 10   # Here == means equality conditional operator, it will check whether a is equal to 10, if a is 10 then it will return True, else it will return False"
   ]
  },
  {
   "cell_type": "markdown",
   "id": "258be3b2",
   "metadata": {},
   "source": [
    "### != (non-equality)"
   ]
  },
  {
   "cell_type": "code",
   "execution_count": 4,
   "id": "4bb772ec",
   "metadata": {},
   "outputs": [
    {
     "data": {
      "text/plain": [
       "True"
      ]
     },
     "execution_count": 4,
     "metadata": {},
     "output_type": "execute_result"
    }
   ],
   "source": [
    "a != 10"
   ]
  },
  {
   "cell_type": "markdown",
   "id": "902ad06a",
   "metadata": {},
   "source": [
    "### >= (greater than or equal to)"
   ]
  },
  {
   "cell_type": "code",
   "execution_count": 5,
   "id": "cbedf056",
   "metadata": {},
   "outputs": [
    {
     "name": "stdout",
     "output_type": "stream",
     "text": [
      "Enter the number: 6\n"
     ]
    }
   ],
   "source": [
    "b = int(input(\"Enter the number: \"))"
   ]
  },
  {
   "cell_type": "code",
   "execution_count": 6,
   "id": "a4eedd73",
   "metadata": {},
   "outputs": [
    {
     "data": {
      "text/plain": [
       "True"
      ]
     },
     "execution_count": 6,
     "metadata": {},
     "output_type": "execute_result"
    }
   ],
   "source": [
    "b >= 5"
   ]
  },
  {
   "cell_type": "markdown",
   "id": "f5f22632",
   "metadata": {},
   "source": [
    "### > (greater than)"
   ]
  },
  {
   "cell_type": "code",
   "execution_count": 7,
   "id": "7c608376",
   "metadata": {},
   "outputs": [
    {
     "data": {
      "text/plain": [
       "False"
      ]
     },
     "execution_count": 7,
     "metadata": {},
     "output_type": "execute_result"
    }
   ],
   "source": [
    "b > 6"
   ]
  },
  {
   "cell_type": "markdown",
   "id": "87b8cd9d",
   "metadata": {},
   "source": [
    "### <= (less than or equal to)"
   ]
  },
  {
   "cell_type": "code",
   "execution_count": 8,
   "id": "852af54e",
   "metadata": {},
   "outputs": [
    {
     "data": {
      "text/plain": [
       "True"
      ]
     },
     "execution_count": 8,
     "metadata": {},
     "output_type": "execute_result"
    }
   ],
   "source": [
    "b <= 10"
   ]
  },
  {
   "cell_type": "markdown",
   "id": "bbd4e4c2",
   "metadata": {},
   "source": [
    "### < (less than)"
   ]
  },
  {
   "cell_type": "code",
   "execution_count": 9,
   "id": "72b02e29",
   "metadata": {},
   "outputs": [
    {
     "data": {
      "text/plain": [
       "False"
      ]
     },
     "execution_count": 9,
     "metadata": {},
     "output_type": "execute_result"
    }
   ],
   "source": [
    "b < 6"
   ]
  },
  {
   "cell_type": "markdown",
   "id": "8d081ca3",
   "metadata": {},
   "source": [
    "## If - Else\n",
    "\n",
    "```python\n",
    "\n",
    "if (condition):\n",
    "    \n",
    "    run this code block when condition is met\n",
    "    \n",
    "else:\n",
    "    \n",
    "    run this code block when condition doesn't meet\n",
    "```"
   ]
  },
  {
   "cell_type": "markdown",
   "id": "a806c45d",
   "metadata": {},
   "source": [
    "### Take a number from user as input and check whether it is even or odd"
   ]
  },
  {
   "cell_type": "code",
   "execution_count": 10,
   "id": "c19e0faa",
   "metadata": {},
   "outputs": [
    {
     "name": "stdout",
     "output_type": "stream",
     "text": [
      "Enter an integer: 45\n"
     ]
    }
   ],
   "source": [
    "a = int(input(\"Enter an integer: \"))"
   ]
  },
  {
   "cell_type": "code",
   "execution_count": 11,
   "id": "0161889b",
   "metadata": {},
   "outputs": [
    {
     "name": "stdout",
     "output_type": "stream",
     "text": [
      "Odd\n"
     ]
    }
   ],
   "source": [
    "if a%2 == 0:\n",
    "    print(\"Even\")\n",
    "else:\n",
    "    print(\"Odd\")"
   ]
  },
  {
   "cell_type": "markdown",
   "id": "357bbfa9",
   "metadata": {},
   "source": [
    "### Take a number from user and check whether it is a perfect square or not"
   ]
  },
  {
   "cell_type": "code",
   "execution_count": 15,
   "id": "0e62b4b7",
   "metadata": {},
   "outputs": [
    {
     "data": {
      "text/plain": [
       "False"
      ]
     },
     "execution_count": 15,
     "metadata": {},
     "output_type": "execute_result"
    }
   ],
   "source": [
    "int(23**0.5) == 23**0.5   # 23**0.5 = 4.79  , int(23**0.5) = 4"
   ]
  },
  {
   "cell_type": "code",
   "execution_count": 16,
   "id": "6a55dabe",
   "metadata": {},
   "outputs": [
    {
     "data": {
      "text/plain": [
       "True"
      ]
     },
     "execution_count": 16,
     "metadata": {},
     "output_type": "execute_result"
    }
   ],
   "source": [
    "int(36**0.5) == 36**0.5   # 36**0.5 = 6.0, int(36**0.5) = 6"
   ]
  },
  {
   "cell_type": "code",
   "execution_count": 19,
   "id": "c2be21d2",
   "metadata": {},
   "outputs": [
    {
     "name": "stdout",
     "output_type": "stream",
     "text": [
      "Enter a positive integer: 100\n"
     ]
    }
   ],
   "source": [
    "a = int(input(\"Enter a positive integer: \"))"
   ]
  },
  {
   "cell_type": "code",
   "execution_count": 20,
   "id": "64ceb205",
   "metadata": {},
   "outputs": [
    {
     "name": "stdout",
     "output_type": "stream",
     "text": [
      "100 is a Perfect Square\n"
     ]
    }
   ],
   "source": [
    "if (int(a**0.5) == a**0.5):\n",
    "    print(f\"{a} is a Perfect Square\")\n",
    "else:\n",
    "    print(f\"{a} is Not a perfect square\")"
   ]
  },
  {
   "cell_type": "markdown",
   "id": "7e8bf025",
   "metadata": {},
   "source": [
    "## Nested if-else (if-elif-else)\n",
    "\n",
    "```python\n",
    "\n",
    "if (condition-1):\n",
    "    \n",
    "    run this code block\n",
    "    \n",
    "elif (condition-2) :\n",
    "        \n",
    "    run this code block\n",
    "        \n",
    "elif (condition-3):\n",
    "            \n",
    "    run this code block\n",
    "            \n",
    "else:\n",
    "            \n",
    "    run this code block\n",
    "\n",
    "```"
   ]
  },
  {
   "cell_type": "markdown",
   "id": "831062ce",
   "metadata": {},
   "source": [
    "### Write a program (WAP) to take input of a person's age and classify the person based on age as following:\n",
    "\n",
    "- If 0 <= age < 18 , -> Not Adult\n",
    "- If 18 <= age < 30, -> Young Adult\n",
    "- If 30 <= age < 45, -> Middle aged\n",
    "- If 45 <= age < 60, -> Upper middle aged\n",
    "- If age > 60, -> Senior Citizen"
   ]
  },
  {
   "cell_type": "code",
   "execution_count": 22,
   "id": "d6381bba",
   "metadata": {},
   "outputs": [
    {
     "name": "stdout",
     "output_type": "stream",
     "text": [
      "Enter the age: 35\n",
      "Middle aged\n"
     ]
    }
   ],
   "source": [
    "age = int(input(\"Enter the age: \"))\n",
    "\n",
    "if age >=0 and age < 18:\n",
    "    print(\"Not adult\")\n",
    "elif age >= 18 and age < 30:\n",
    "    print(\"Young adult\")\n",
    "elif age >= 30 and age < 45:\n",
    "    print(\"Middle aged\")\n",
    "elif age >= 45 and age < 60:\n",
    "    print(\"Upper middle aged\")\n",
    "else:\n",
    "    print(\"Senior citizen\")"
   ]
  },
  {
   "cell_type": "markdown",
   "id": "df64735e",
   "metadata": {},
   "source": [
    "### WAP that will take input of two numbers from user and a choice and will perform operation on those two numbers based on the choice\n",
    "\n",
    "- if choice = 1 then addition\n",
    "- if choice = 2 then subtraction\n",
    "- if choice = 3 then multiplication\n",
    "- if choice = 4 then division\n",
    "- if choice is not 1, 2, 3, 4 then will show an error message"
   ]
  },
  {
   "cell_type": "code",
   "execution_count": 25,
   "id": "439fc7dc",
   "metadata": {},
   "outputs": [
    {
     "name": "stdout",
     "output_type": "stream",
     "text": [
      "Enter first number: 84\n",
      "Enter second number: 34.5\n",
      "Enter your choice: 5\n",
      "The choice is not correct\n"
     ]
    }
   ],
   "source": [
    "num1 = float(input(\"Enter first number: \"))\n",
    "num2 = float(input(\"Enter second number: \"))\n",
    "\n",
    "choice = int(input(\"Enter your choice: \"))\n",
    "\n",
    "if choice == 1:\n",
    "    print(num1 + num2)\n",
    "elif choice == 2:\n",
    "    print(num1 - num2)\n",
    "elif choice == 3:\n",
    "    print(num1 * num2)\n",
    "elif choice == 4:\n",
    "    print(num1 / num2)\n",
    "else:\n",
    "    print(\"The choice is not correct\")"
   ]
  },
  {
   "cell_type": "markdown",
   "id": "d46c120c",
   "metadata": {},
   "source": [
    "## While loop\n",
    "\n",
    "```python\n",
    "\n",
    "while (condition):\n",
    "    \n",
    "    keep on running this code block, as long as the condition is met\n",
    "\n",
    "```"
   ]
  },
  {
   "cell_type": "markdown",
   "id": "563af69f",
   "metadata": {},
   "source": [
    "### Print all the numbers from 0 to 20"
   ]
  },
  {
   "cell_type": "code",
   "execution_count": 34,
   "id": "a1ac3eb0",
   "metadata": {},
   "outputs": [
    {
     "name": "stdout",
     "output_type": "stream",
     "text": [
      "0\n",
      "1\n",
      "2\n",
      "3\n",
      "4\n",
      "5\n",
      "6\n",
      "7\n",
      "8\n",
      "9\n",
      "10\n",
      "11\n",
      "12\n",
      "13\n",
      "14\n",
      "15\n",
      "16\n",
      "17\n",
      "18\n",
      "19\n",
      "20\n"
     ]
    }
   ],
   "source": [
    "counter = 0\n",
    "\n",
    "while(counter <= 20):\n",
    "    print(counter)\n",
    "    counter += 1  # we are incrementing the counter value by 1"
   ]
  },
  {
   "cell_type": "code",
   "execution_count": 30,
   "id": "6b4a706c",
   "metadata": {},
   "outputs": [
    {
     "name": "stdout",
     "output_type": "stream",
     "text": [
      "79\n"
     ]
    }
   ],
   "source": [
    "a = 45\n",
    "\n",
    "a += 34 # a = a+34\n",
    "\n",
    "print(a)"
   ]
  },
  {
   "cell_type": "code",
   "execution_count": 31,
   "id": "311266de",
   "metadata": {},
   "outputs": [
    {
     "name": "stdout",
     "output_type": "stream",
     "text": [
      "56\n"
     ]
    }
   ],
   "source": [
    "a -= 23  # a = a - 23\n",
    "\n",
    "print(a)"
   ]
  },
  {
   "cell_type": "code",
   "execution_count": 32,
   "id": "4df618c1",
   "metadata": {},
   "outputs": [
    {
     "name": "stdout",
     "output_type": "stream",
     "text": [
      "168\n"
     ]
    }
   ],
   "source": [
    "a *= 3  # a = a * 3\n",
    "\n",
    "print(a)"
   ]
  },
  {
   "cell_type": "markdown",
   "id": "31244f39",
   "metadata": {},
   "source": [
    "### WAP to print all the odd numbers between 0 and a number provided by user"
   ]
  },
  {
   "cell_type": "code",
   "execution_count": 35,
   "id": "60b9e86e",
   "metadata": {},
   "outputs": [
    {
     "name": "stdout",
     "output_type": "stream",
     "text": [
      "Enter the end number: 25\n",
      "1\n",
      "3\n",
      "5\n",
      "7\n",
      "9\n",
      "11\n",
      "13\n",
      "15\n",
      "17\n",
      "19\n",
      "21\n",
      "23\n",
      "25\n"
     ]
    }
   ],
   "source": [
    "n = int(input(\"Enter the end number: \"))\n",
    "\n",
    "counter = 0\n",
    "\n",
    "while (counter <= n):\n",
    "    if (counter % 2 != 0):\n",
    "        print(counter)\n",
    "    counter += 1"
   ]
  },
  {
   "cell_type": "markdown",
   "id": "3e3dba38",
   "metadata": {},
   "source": [
    "### WAP to take a postive integer from user and print the number of digits "
   ]
  },
  {
   "cell_type": "code",
   "execution_count": 39,
   "id": "4ffcd58e",
   "metadata": {},
   "outputs": [
    {
     "name": "stdout",
     "output_type": "stream",
     "text": [
      "Enter the number: 312632132\n",
      "There are 9 digits\n"
     ]
    }
   ],
   "source": [
    "n = int(input(\"Enter the number: \"))\n",
    "\n",
    "num_of_digits = 0\n",
    "\n",
    "while (n > 0):\n",
    "    n = n // 10\n",
    "    num_of_digits += 1\n",
    "    \n",
    "print(f\"There are {num_of_digits} digits\")"
   ]
  },
  {
   "cell_type": "markdown",
   "id": "c6242bea",
   "metadata": {},
   "source": [
    "### WAP to sum all the digits in a given positive integer"
   ]
  },
  {
   "cell_type": "code",
   "execution_count": 41,
   "id": "6a25a776",
   "metadata": {},
   "outputs": [
    {
     "name": "stdout",
     "output_type": "stream",
     "text": [
      "Enter the number: 63589\n",
      "The sum of digits = 31\n"
     ]
    }
   ],
   "source": [
    "n = int(input(\"Enter the number: \"))\n",
    "\n",
    "s = 0\n",
    "\n",
    "while (n > 0):\n",
    "    s += n%10\n",
    "    n = n // 10\n",
    "    \n",
    "print(f\"The sum of digits = {s}\")"
   ]
  },
  {
   "cell_type": "markdown",
   "id": "b9c0e60f",
   "metadata": {},
   "source": [
    "### Given a postive integer produce a number which is reverse of it\n",
    "\n",
    "For example: if the given number is 2356 then produce 6532"
   ]
  },
  {
   "cell_type": "code",
   "execution_count": 43,
   "id": "38a47268",
   "metadata": {},
   "outputs": [
    {
     "name": "stdout",
     "output_type": "stream",
     "text": [
      "Enter the number: 732283\n",
      "The reversed number is 382237\n"
     ]
    }
   ],
   "source": [
    "n = int(input(\"Enter the number: \"))\n",
    "\n",
    "m = 0\n",
    "\n",
    "while (n > 0):\n",
    "    m = 10 * m + n % 10\n",
    "    n = n // 10\n",
    "    \n",
    "print(f\"The reversed number is {m}\")"
   ]
  },
  {
   "cell_type": "code",
   "execution_count": null,
   "id": "4c763261",
   "metadata": {},
   "outputs": [],
   "source": []
  }
 ],
 "metadata": {
  "kernelspec": {
   "display_name": "Python 3 (ipykernel)",
   "language": "python",
   "name": "python3"
  },
  "language_info": {
   "codemirror_mode": {
    "name": "ipython",
    "version": 3
   },
   "file_extension": ".py",
   "mimetype": "text/x-python",
   "name": "python",
   "nbconvert_exporter": "python",
   "pygments_lexer": "ipython3",
   "version": "3.9.7"
  }
 },
 "nbformat": 4,
 "nbformat_minor": 5
}
