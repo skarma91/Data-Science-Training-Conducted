{
 "cells": [
  {
   "cell_type": "code",
   "execution_count": 7,
   "id": "4caca6c3",
   "metadata": {},
   "outputs": [],
   "source": [
    "def find_rows_and_columns(M):\n",
    "    return len(M), len(M[0])"
   ]
  },
  {
   "cell_type": "code",
   "execution_count": 8,
   "id": "a128fbd4",
   "metadata": {},
   "outputs": [],
   "source": [
    "def print_matrix(M):\n",
    "    rows, cols = find_rows_and_columns(M)\n",
    "    for r in range(rows):\n",
    "        for c in range(cols):\n",
    "            print(M[r][c],end=\" \")\n",
    "        print(\"\\n\")"
   ]
  },
  {
   "cell_type": "code",
   "execution_count": 1,
   "id": "ddc45a97",
   "metadata": {},
   "outputs": [],
   "source": [
    "def transpose(M):\n",
    "    rows, cols = find_rows_and_columns(M)\n",
    "    M_t = []\n",
    "    for i in range(cols):\n",
    "        r = []\n",
    "        for j in range(rows):\n",
    "            r.append(M[j][i])\n",
    "        M_t.append(r)\n",
    "    return M_t"
   ]
  },
  {
   "cell_type": "code",
   "execution_count": 2,
   "id": "fd895548",
   "metadata": {},
   "outputs": [],
   "source": [
    "def inner_product(x, y):\n",
    "    \"\"\"\n",
    "    x: list\n",
    "    y: list\n",
    "    result: inner product of vectors x and y\n",
    "    \"\"\"\n",
    "    if len(x) != len(y):\n",
    "        print(\"The dimensions of x and y are different.\")\n",
    "        return None\n",
    "    \n",
    "    S = 0\n",
    "    for i in range(len(x)):\n",
    "        S += (x[i]*y[i])\n",
    "        \n",
    "    return S"
   ]
  },
  {
   "cell_type": "code",
   "execution_count": 14,
   "id": "98e51445",
   "metadata": {},
   "outputs": [],
   "source": [
    "def matrix_multiplication(A, B):\n",
    "    ra, ca = len(A), len(A[0])\n",
    "    rb, cb = len(B), len(B[0])\n",
    "    # check whether the matrices are multiplicable or not\n",
    "    if ca == rb:\n",
    "        B_t = transpose(B)\n",
    "        C = []\n",
    "        for i in range(ra):\n",
    "            row = []\n",
    "            for j in range(cb):\n",
    "                v = inner_product(A[i],B_t[j])\n",
    "                row.append(v)\n",
    "            C.append(row)\n",
    "        return C\n",
    "    else:\n",
    "        print(\"The matrices are not multiplicable.\")\n",
    "        return None"
   ]
  },
  {
   "cell_type": "code",
   "execution_count": 5,
   "id": "de5220c6",
   "metadata": {},
   "outputs": [],
   "source": [
    "A = [[2, 3, 4, 5], [6, 7, 8, 9], [1, -1, 2, 3]]\n",
    "B = [[1, 3],[-1, 0], [0, -2], [2, 1]]"
   ]
  },
  {
   "cell_type": "code",
   "execution_count": 9,
   "id": "c8f01ebf",
   "metadata": {},
   "outputs": [
    {
     "name": "stdout",
     "output_type": "stream",
     "text": [
      "2 3 4 5 \n",
      "\n",
      "6 7 8 9 \n",
      "\n",
      "1 -1 2 3 \n",
      "\n"
     ]
    }
   ],
   "source": [
    "print_matrix(A)"
   ]
  },
  {
   "cell_type": "code",
   "execution_count": 10,
   "id": "79d1c207",
   "metadata": {},
   "outputs": [
    {
     "name": "stdout",
     "output_type": "stream",
     "text": [
      "1 3 \n",
      "\n",
      "-1 0 \n",
      "\n",
      "0 -2 \n",
      "\n",
      "2 1 \n",
      "\n"
     ]
    }
   ],
   "source": [
    "print_matrix(B)"
   ]
  },
  {
   "cell_type": "code",
   "execution_count": 11,
   "id": "b5c86887",
   "metadata": {},
   "outputs": [
    {
     "name": "stdout",
     "output_type": "stream",
     "text": [
      "1 -1 0 2 \n",
      "\n",
      "3 0 -2 1 \n",
      "\n"
     ]
    }
   ],
   "source": [
    "print_matrix(transpose(B))"
   ]
  },
  {
   "cell_type": "code",
   "execution_count": 15,
   "id": "2e4ad03c",
   "metadata": {},
   "outputs": [],
   "source": [
    "C = matrix_multiplication(A, B)"
   ]
  },
  {
   "cell_type": "code",
   "execution_count": 16,
   "id": "b746082e",
   "metadata": {},
   "outputs": [
    {
     "name": "stdout",
     "output_type": "stream",
     "text": [
      "9 3 \n",
      "\n",
      "17 11 \n",
      "\n",
      "8 2 \n",
      "\n"
     ]
    }
   ],
   "source": [
    "print_matrix(C)"
   ]
  },
  {
   "cell_type": "code",
   "execution_count": 19,
   "id": "ca6dab07",
   "metadata": {},
   "outputs": [],
   "source": [
    "v = [[1], [3], [4], [8]]"
   ]
  },
  {
   "cell_type": "code",
   "execution_count": 20,
   "id": "2e340e25",
   "metadata": {},
   "outputs": [],
   "source": [
    "c = [[-2], [0], [4]]"
   ]
  },
  {
   "cell_type": "code",
   "execution_count": 21,
   "id": "fa1bde08",
   "metadata": {},
   "outputs": [
    {
     "data": {
      "text/plain": [
       "(4, 1)"
      ]
     },
     "execution_count": 21,
     "metadata": {},
     "output_type": "execute_result"
    }
   ],
   "source": [
    "find_rows_and_columns(v)"
   ]
  },
  {
   "cell_type": "code",
   "execution_count": 22,
   "id": "7e8d2ea3",
   "metadata": {},
   "outputs": [
    {
     "data": {
      "text/plain": [
       "(3, 1)"
      ]
     },
     "execution_count": 22,
     "metadata": {},
     "output_type": "execute_result"
    }
   ],
   "source": [
    "find_rows_and_columns(c)"
   ]
  },
  {
   "cell_type": "code",
   "execution_count": 23,
   "id": "7816baa6",
   "metadata": {},
   "outputs": [
    {
     "data": {
      "text/plain": [
       "(3, 4)"
      ]
     },
     "execution_count": 23,
     "metadata": {},
     "output_type": "execute_result"
    }
   ],
   "source": [
    "find_rows_and_columns(A)"
   ]
  },
  {
   "cell_type": "code",
   "execution_count": 24,
   "id": "89d2e243",
   "metadata": {},
   "outputs": [
    {
     "data": {
      "text/plain": [
       "[[0, -10, 0, 2]]"
      ]
     },
     "execution_count": 24,
     "metadata": {},
     "output_type": "execute_result"
    }
   ],
   "source": [
    "matrix_multiplication(transpose(c),A)"
   ]
  },
  {
   "cell_type": "code",
   "execution_count": 25,
   "id": "c16da047",
   "metadata": {},
   "outputs": [
    {
     "data": {
      "text/plain": [
       "[[67], [131], [30]]"
      ]
     },
     "execution_count": 25,
     "metadata": {},
     "output_type": "execute_result"
    }
   ],
   "source": [
    "matrix_multiplication(A, v)"
   ]
  },
  {
   "cell_type": "code",
   "execution_count": 26,
   "id": "b47cfbc9",
   "metadata": {},
   "outputs": [],
   "source": [
    "A = [[7, 2, 1], [0, 3, -1], [-3, 4, -2]]"
   ]
  },
  {
   "cell_type": "code",
   "execution_count": 27,
   "id": "7f76c33d",
   "metadata": {},
   "outputs": [],
   "source": [
    "B = [[-2, 8, -5],[3, -11, 7],[9, -34, 21]]"
   ]
  },
  {
   "cell_type": "code",
   "execution_count": 28,
   "id": "79caeda1",
   "metadata": {},
   "outputs": [],
   "source": [
    "result = matrix_multiplication(A, B)"
   ]
  },
  {
   "cell_type": "code",
   "execution_count": 29,
   "id": "47ec03c4",
   "metadata": {},
   "outputs": [
    {
     "name": "stdout",
     "output_type": "stream",
     "text": [
      "1 0 0 \n",
      "\n",
      "0 1 0 \n",
      "\n",
      "0 0 1 \n",
      "\n"
     ]
    }
   ],
   "source": [
    "print_matrix(result)"
   ]
  },
  {
   "cell_type": "code",
   "execution_count": 30,
   "id": "7ed25c4f",
   "metadata": {},
   "outputs": [
    {
     "name": "stdout",
     "output_type": "stream",
     "text": [
      "1 0 0 \n",
      "\n",
      "0 1 0 \n",
      "\n",
      "0 0 1 \n",
      "\n"
     ]
    }
   ],
   "source": [
    "print_matrix(matrix_multiplication(B, A))"
   ]
  },
  {
   "cell_type": "code",
   "execution_count": 31,
   "id": "0df5c606",
   "metadata": {},
   "outputs": [],
   "source": [
    "A = [[3, 5],[1, 2]]"
   ]
  },
  {
   "cell_type": "code",
   "execution_count": 32,
   "id": "ca509d81",
   "metadata": {},
   "outputs": [],
   "source": [
    "B = [[2, -5], [-1, 3]]"
   ]
  },
  {
   "cell_type": "code",
   "execution_count": 33,
   "id": "0bdc8d4c",
   "metadata": {},
   "outputs": [
    {
     "name": "stdout",
     "output_type": "stream",
     "text": [
      "1 0 \n",
      "\n",
      "0 1 \n",
      "\n"
     ]
    }
   ],
   "source": [
    "print_matrix(matrix_multiplication(A, B))"
   ]
  },
  {
   "cell_type": "code",
   "execution_count": 34,
   "id": "13f4d481",
   "metadata": {},
   "outputs": [],
   "source": [
    "A = [[2, 4, 1], [1, 0, 3], [5, 7, 8]]"
   ]
  },
  {
   "cell_type": "code",
   "execution_count": 35,
   "id": "29429dbe",
   "metadata": {},
   "outputs": [
    {
     "name": "stdout",
     "output_type": "stream",
     "text": [
      "2 4 1 \n",
      "\n",
      "1 0 3 \n",
      "\n",
      "5 7 8 \n",
      "\n"
     ]
    }
   ],
   "source": [
    "print_matrix(A)"
   ]
  },
  {
   "cell_type": "code",
   "execution_count": 36,
   "id": "de576662",
   "metadata": {},
   "outputs": [],
   "source": [
    "I = [[1, 0, 0],[0, 1, 0],[0, 0, 1]]"
   ]
  },
  {
   "cell_type": "code",
   "execution_count": 37,
   "id": "0ad04fb5",
   "metadata": {},
   "outputs": [
    {
     "name": "stdout",
     "output_type": "stream",
     "text": [
      "1 0 0 \n",
      "\n",
      "0 1 0 \n",
      "\n",
      "0 0 1 \n",
      "\n"
     ]
    }
   ],
   "source": [
    "print_matrix(I)"
   ]
  },
  {
   "cell_type": "code",
   "execution_count": 40,
   "id": "0de851e6",
   "metadata": {},
   "outputs": [],
   "source": [
    "C = matrix_multiplication(I, A)"
   ]
  },
  {
   "cell_type": "code",
   "execution_count": 41,
   "id": "962378d2",
   "metadata": {},
   "outputs": [
    {
     "name": "stdout",
     "output_type": "stream",
     "text": [
      "2 4 1 \n",
      "\n",
      "1 0 3 \n",
      "\n",
      "5 7 8 \n",
      "\n"
     ]
    }
   ],
   "source": [
    "print_matrix(C)"
   ]
  },
  {
   "cell_type": "code",
   "execution_count": null,
   "id": "ab48d204",
   "metadata": {},
   "outputs": [],
   "source": []
  }
 ],
 "metadata": {
  "kernelspec": {
   "display_name": "Python 3 (ipykernel)",
   "language": "python",
   "name": "python3"
  },
  "language_info": {
   "codemirror_mode": {
    "name": "ipython",
    "version": 3
   },
   "file_extension": ".py",
   "mimetype": "text/x-python",
   "name": "python",
   "nbconvert_exporter": "python",
   "pygments_lexer": "ipython3",
   "version": "3.9.7"
  },
  "toc": {
   "base_numbering": 1,
   "nav_menu": {},
   "number_sections": true,
   "sideBar": true,
   "skip_h1_title": true,
   "title_cell": "Table of Contents",
   "title_sidebar": "Contents",
   "toc_cell": false,
   "toc_position": {},
   "toc_section_display": true,
   "toc_window_display": false
  }
 },
 "nbformat": 4,
 "nbformat_minor": 5
}
