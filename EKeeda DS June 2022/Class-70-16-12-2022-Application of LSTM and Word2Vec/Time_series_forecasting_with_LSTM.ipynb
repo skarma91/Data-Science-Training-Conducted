{
 "cells": [
  {
   "cell_type": "markdown",
   "metadata": {},
   "source": [
    "# Time series forecasting with LSTM\n",
    "\n",
    "In this notebook we shall see how we can use LSTM (Long Short Term Memory), a deep neural network architecture to forecast timeseries data.\n",
    "\n",
    "The example shown in this workbook is taken from this [link](https://machinelearningmastery.com/time-series-prediction-lstm-recurrent-neural-networks-python-keras/)."
   ]
  },
  {
   "cell_type": "markdown",
   "metadata": {},
   "source": [
    "## Read and preprocess the data"
   ]
  },
  {
   "cell_type": "markdown",
   "metadata": {},
   "source": [
    "### Importing necessary libraries"
   ]
  },
  {
   "cell_type": "code",
   "execution_count": 1,
   "metadata": {},
   "outputs": [],
   "source": [
    "import numpy as np\n",
    "import pandas as pd\n",
    "\n",
    "from matplotlib import pyplot as plt"
   ]
  },
  {
   "cell_type": "markdown",
   "metadata": {},
   "source": [
    "### Reading the dataset"
   ]
  },
  {
   "cell_type": "code",
   "execution_count": 2,
   "metadata": {},
   "outputs": [],
   "source": [
    "dataset = pd.read_csv(\"./airline_passengers.csv\", parse_dates=True)"
   ]
  },
  {
   "cell_type": "code",
   "execution_count": 3,
   "metadata": {},
   "outputs": [
    {
     "data": {
      "text/html": [
       "<div>\n",
       "<style scoped>\n",
       "    .dataframe tbody tr th:only-of-type {\n",
       "        vertical-align: middle;\n",
       "    }\n",
       "\n",
       "    .dataframe tbody tr th {\n",
       "        vertical-align: top;\n",
       "    }\n",
       "\n",
       "    .dataframe thead th {\n",
       "        text-align: right;\n",
       "    }\n",
       "</style>\n",
       "<table border=\"1\" class=\"dataframe\">\n",
       "  <thead>\n",
       "    <tr style=\"text-align: right;\">\n",
       "      <th></th>\n",
       "      <th>Month</th>\n",
       "      <th>Thousands of Passengers</th>\n",
       "    </tr>\n",
       "  </thead>\n",
       "  <tbody>\n",
       "    <tr>\n",
       "      <th>0</th>\n",
       "      <td>1949-01</td>\n",
       "      <td>112</td>\n",
       "    </tr>\n",
       "    <tr>\n",
       "      <th>1</th>\n",
       "      <td>1949-02</td>\n",
       "      <td>118</td>\n",
       "    </tr>\n",
       "    <tr>\n",
       "      <th>2</th>\n",
       "      <td>1949-03</td>\n",
       "      <td>132</td>\n",
       "    </tr>\n",
       "    <tr>\n",
       "      <th>3</th>\n",
       "      <td>1949-04</td>\n",
       "      <td>129</td>\n",
       "    </tr>\n",
       "    <tr>\n",
       "      <th>4</th>\n",
       "      <td>1949-05</td>\n",
       "      <td>121</td>\n",
       "    </tr>\n",
       "  </tbody>\n",
       "</table>\n",
       "</div>"
      ],
      "text/plain": [
       "     Month  Thousands of Passengers\n",
       "0  1949-01                      112\n",
       "1  1949-02                      118\n",
       "2  1949-03                      132\n",
       "3  1949-04                      129\n",
       "4  1949-05                      121"
      ]
     },
     "execution_count": 3,
     "metadata": {},
     "output_type": "execute_result"
    }
   ],
   "source": [
    "dataset.head()"
   ]
  },
  {
   "cell_type": "code",
   "execution_count": 4,
   "metadata": {},
   "outputs": [
    {
     "name": "stdout",
     "output_type": "stream",
     "text": [
      "<class 'pandas.core.frame.DataFrame'>\n",
      "RangeIndex: 144 entries, 0 to 143\n",
      "Data columns (total 2 columns):\n",
      " #   Column                   Non-Null Count  Dtype \n",
      "---  ------                   --------------  ----- \n",
      " 0   Month                    144 non-null    object\n",
      " 1   Thousands of Passengers  144 non-null    int64 \n",
      "dtypes: int64(1), object(1)\n",
      "memory usage: 2.4+ KB\n"
     ]
    }
   ],
   "source": [
    "dataset.info()"
   ]
  },
  {
   "cell_type": "markdown",
   "metadata": {},
   "source": [
    "### Converting the month column into pandas datetime format"
   ]
  },
  {
   "cell_type": "code",
   "execution_count": 5,
   "metadata": {},
   "outputs": [],
   "source": [
    "dataset['Month'] = pd.to_datetime(dataset['Month'])"
   ]
  },
  {
   "cell_type": "code",
   "execution_count": 6,
   "metadata": {},
   "outputs": [
    {
     "name": "stdout",
     "output_type": "stream",
     "text": [
      "<class 'pandas.core.frame.DataFrame'>\n",
      "RangeIndex: 144 entries, 0 to 143\n",
      "Data columns (total 2 columns):\n",
      " #   Column                   Non-Null Count  Dtype         \n",
      "---  ------                   --------------  -----         \n",
      " 0   Month                    144 non-null    datetime64[ns]\n",
      " 1   Thousands of Passengers  144 non-null    int64         \n",
      "dtypes: datetime64[ns](1), int64(1)\n",
      "memory usage: 2.4 KB\n"
     ]
    }
   ],
   "source": [
    "dataset.info()"
   ]
  },
  {
   "cell_type": "code",
   "execution_count": 7,
   "metadata": {},
   "outputs": [],
   "source": [
    "dataset.set_index(keys='Month',inplace=True) # reindex the dataframe with 'Month' columns"
   ]
  },
  {
   "cell_type": "markdown",
   "metadata": {},
   "source": [
    "### Plot the data"
   ]
  },
  {
   "cell_type": "code",
   "execution_count": 8,
   "metadata": {},
   "outputs": [
    {
     "data": {
      "image/png": "[encoded data removed]",
      "text/plain": [
       "<Figure size 864x432 with 1 Axes>"
      ]
     },
     "metadata": {
      "needs_background": "light"
     },
     "output_type": "display_data"
    }
   ],
   "source": [
    "dataset.plot(figsize=(12,6),title='Airline passenger data',legend=False)\n",
    "plt.grid()\n",
    "plt.show()"
   ]
  },
  {
   "cell_type": "markdown",
   "metadata": {},
   "source": [
    "### Normalize the dataset"
   ]
  },
  {
   "cell_type": "code",
   "execution_count": 9,
   "metadata": {},
   "outputs": [],
   "source": [
    "from sklearn.preprocessing import MinMaxScaler"
   ]
  },
  {
   "cell_type": "code",
   "execution_count": 10,
   "metadata": {},
   "outputs": [],
   "source": [
    "scaler = MinMaxScaler(feature_range=(0,1))\n",
    "dataset_normalized = scaler.fit_transform(dataset)"
   ]
  },
  {
   "cell_type": "code",
   "execution_count": 11,
   "metadata": {},
   "outputs": [
    {
     "data": {
      "text/plain": [
       "(144, 1)"
      ]
     },
     "execution_count": 11,
     "metadata": {},
     "output_type": "execute_result"
    }
   ],
   "source": [
    "dataset_normalized.shape"
   ]
  },
  {
   "cell_type": "markdown",
   "metadata": {},
   "source": [
    "## LSTM Network for Regression"
   ]
  },
  {
   "cell_type": "markdown",
   "metadata": {},
   "source": [
    "You can phrase the problem as a regression problem.\n",
    "\n",
    "That is, given the number of passengers (in units of thousands) this month, what is the number of passengers next month?\n",
    "\n",
    "You can write a simple function to convert the single column of data into a two-column dataset: the first column containing this month’s (t) passenger count and the second column containing next month’s (t+1) passenger count to be predicted.\n",
    "\n",
    "Before you start, let’s first import all the functions and classes you will use. This assumes a working SciPy environment with the Keras deep learning library installed."
   ]
  },
  {
   "cell_type": "code",
   "execution_count": 16,
   "metadata": {},
   "outputs": [],
   "source": [
    "import tensorflow as tf\n",
    "from tensorflow.keras.models import Sequential\n",
    "from tensorflow.keras.layers import Dense\n",
    "from tensorflow.keras.layers import LSTM\n",
    "from sklearn.metrics import mean_squared_error"
   ]
  },
  {
   "cell_type": "markdown",
   "metadata": {},
   "source": [
    "### Split the dataset into train and test"
   ]
  },
  {
   "cell_type": "code",
   "execution_count": 19,
   "metadata": {},
   "outputs": [],
   "source": [
    "train_ratio = 0.75\n",
    "train_size = int(len(dataset_normalized)*train_ratio)\n",
    "test_size = len(dataset_normalized) - train_size"
   ]
  },
  {
   "cell_type": "code",
   "execution_count": 20,
   "metadata": {},
   "outputs": [],
   "source": [
    "train, test = dataset_normalized[:train_size, :], dataset_normalized[train_size:, :]"
   ]
  },
  {
   "cell_type": "code",
   "execution_count": 21,
   "metadata": {},
   "outputs": [
    {
     "data": {
      "text/plain": [
       "((108, 1), (36, 1))"
      ]
     },
     "execution_count": 21,
     "metadata": {},
     "output_type": "execute_result"
    }
   ],
   "source": [
    "train.shape, test.shape"
   ]
  },
  {
   "cell_type": "markdown",
   "metadata": {},
   "source": [
    "Now, you can define a function to create a new dataset, as described above.\n",
    "\n",
    "The function takes two arguments: the dataset, which is a NumPy array you want to convert into a dataset, and the look_back, which is the number of previous time steps to use as input variables to predict the next time period—in this case, defaulted to 1.\n",
    "\n",
    "This default will create a dataset where X is the number of passengers at a given time (t), and Y is the number of passengers at the next time (t + 1).\n",
    "\n",
    "It can be configured by constructing a differently shaped dataset in the next section."
   ]
  },
  {
   "cell_type": "code",
   "execution_count": 22,
   "metadata": {},
   "outputs": [],
   "source": [
    "# convert an array of values into a dataset matrix\n",
    "def create_dataset(dataset, look_back=1):\n",
    "    dataX, dataY = [], []\n",
    "    for i in range(len(dataset)-look_back-1):\n",
    "        a = dataset[i:(i+look_back), 0]\n",
    "        dataX.append(a)\n",
    "        dataY.append(dataset[i + look_back, 0])\n",
    "    return np.array(dataX).reshape(-1,1), np.array(dataY).reshape(-1,1)"
   ]
  },
  {
   "cell_type": "markdown",
   "metadata": {},
   "source": [
    "Let’s take a look at the effect of this function on the first rows of the dataset (shown in the unnormalized form for clarity)."
   ]
  },
  {
   "cell_type": "code",
   "execution_count": 23,
   "metadata": {},
   "outputs": [],
   "source": [
    "X, Y = create_dataset(dataset.values)"
   ]
  },
  {
   "cell_type": "code",
   "execution_count": 24,
   "metadata": {},
   "outputs": [
    {
     "data": {
      "text/html": [
       "<div>\n",
       "<style scoped>\n",
       "    .dataframe tbody tr th:only-of-type {\n",
       "        vertical-align: middle;\n",
       "    }\n",
       "\n",
       "    .dataframe tbody tr th {\n",
       "        vertical-align: top;\n",
       "    }\n",
       "\n",
       "    .dataframe thead th {\n",
       "        text-align: right;\n",
       "    }\n",
       "</style>\n",
       "<table border=\"1\" class=\"dataframe\">\n",
       "  <thead>\n",
       "    <tr style=\"text-align: right;\">\n",
       "      <th></th>\n",
       "      <th>X</th>\n",
       "      <th>Y</th>\n",
       "    </tr>\n",
       "  </thead>\n",
       "  <tbody>\n",
       "    <tr>\n",
       "      <th>0</th>\n",
       "      <td>112</td>\n",
       "      <td>118</td>\n",
       "    </tr>\n",
       "    <tr>\n",
       "      <th>1</th>\n",
       "      <td>118</td>\n",
       "      <td>132</td>\n",
       "    </tr>\n",
       "    <tr>\n",
       "      <th>2</th>\n",
       "      <td>132</td>\n",
       "      <td>129</td>\n",
       "    </tr>\n",
       "    <tr>\n",
       "      <th>3</th>\n",
       "      <td>129</td>\n",
       "      <td>121</td>\n",
       "    </tr>\n",
       "    <tr>\n",
       "      <th>4</th>\n",
       "      <td>121</td>\n",
       "      <td>135</td>\n",
       "    </tr>\n",
       "    <tr>\n",
       "      <th>...</th>\n",
       "      <td>...</td>\n",
       "      <td>...</td>\n",
       "    </tr>\n",
       "    <tr>\n",
       "      <th>137</th>\n",
       "      <td>535</td>\n",
       "      <td>622</td>\n",
       "    </tr>\n",
       "    <tr>\n",
       "      <th>138</th>\n",
       "      <td>622</td>\n",
       "      <td>606</td>\n",
       "    </tr>\n",
       "    <tr>\n",
       "      <th>139</th>\n",
       "      <td>606</td>\n",
       "      <td>508</td>\n",
       "    </tr>\n",
       "    <tr>\n",
       "      <th>140</th>\n",
       "      <td>508</td>\n",
       "      <td>461</td>\n",
       "    </tr>\n",
       "    <tr>\n",
       "      <th>141</th>\n",
       "      <td>461</td>\n",
       "      <td>390</td>\n",
       "    </tr>\n",
       "  </tbody>\n",
       "</table>\n",
       "<p>142 rows × 2 columns</p>\n",
       "</div>"
      ],
      "text/plain": [
       "       X    Y\n",
       "0    112  118\n",
       "1    118  132\n",
       "2    132  129\n",
       "3    129  121\n",
       "4    121  135\n",
       "..   ...  ...\n",
       "137  535  622\n",
       "138  622  606\n",
       "139  606  508\n",
       "140  508  461\n",
       "141  461  390\n",
       "\n",
       "[142 rows x 2 columns]"
      ]
     },
     "execution_count": 24,
     "metadata": {},
     "output_type": "execute_result"
    }
   ],
   "source": [
    "pd.DataFrame(np.concatenate((X,Y), axis=1), columns=['X','Y'])"
   ]
  },
  {
   "cell_type": "markdown",
   "metadata": {},
   "source": [
    "Let’s use this function to prepare the train and test datasets for modeling."
   ]
  },
  {
   "cell_type": "code",
   "execution_count": 25,
   "metadata": {},
   "outputs": [],
   "source": [
    "# reshape into X=t and Y=t+1\n",
    "look_back = 1\n",
    "trainX, trainY = create_dataset(train, look_back)\n",
    "testX, testY = create_dataset(test, look_back)"
   ]
  },
  {
   "cell_type": "markdown",
   "metadata": {},
   "source": [
    "The LSTM network expects the input data (X) to be provided with a specific array structure in the form of [samples, time steps, features].\n",
    "\n",
    "Currently, the data is in the form of [samples, features], and you are framing the problem as one time step for each sample. You can transform the prepared train and test input data into the expected structure using numpy.reshape() as follows:"
   ]
  },
  {
   "cell_type": "code",
   "execution_count": 26,
   "metadata": {},
   "outputs": [],
   "source": [
    "# reshape input to be [samples, time steps, features]\n",
    "trainX = np.reshape(trainX, (trainX.shape[0], 1, trainX.shape[1]))\n",
    "testX = np.reshape(testX, (testX.shape[0], 1, testX.shape[1]))"
   ]
  },
  {
   "cell_type": "markdown",
   "metadata": {},
   "source": [
    "You are now ready to design and fit your LSTM network for this problem.\n",
    "\n",
    "The network has a visible layer with 1 input, a hidden layer with 4 LSTM blocks or neurons, and an output layer that makes a single value prediction. The default sigmoid activation function is used for the LSTM blocks. The network is trained for 100 epochs, and a batch size of 1 is used."
   ]
  },
  {
   "cell_type": "code",
   "execution_count": 27,
   "metadata": {},
   "outputs": [
    {
     "name": "stdout",
     "output_type": "stream",
     "text": [
      "Epoch 1/100\n",
      "106/106 - 3s - loss: 0.0597 - 3s/epoch - 28ms/step\n",
      "Epoch 2/100\n",
      "106/106 - 0s - loss: 0.0283 - 255ms/epoch - 2ms/step\n",
      "Epoch 3/100\n",
      "106/106 - 0s - loss: 0.0212 - 269ms/epoch - 3ms/step\n",
      "Epoch 4/100\n",
      "106/106 - 0s - loss: 0.0188 - 262ms/epoch - 2ms/step\n",
      "Epoch 5/100\n",
      "106/106 - 0s - loss: 0.0169 - 274ms/epoch - 3ms/step\n",
      "Epoch 6/100\n",
      "106/106 - 0s - loss: 0.0150 - 259ms/epoch - 2ms/step\n",
      "Epoch 7/100\n",
      "106/106 - 0s - loss: 0.0133 - 270ms/epoch - 3ms/step\n",
      "Epoch 8/100\n",
      "106/106 - 0s - loss: 0.0117 - 271ms/epoch - 3ms/step\n",
      "Epoch 9/100\n",
      "106/106 - 0s - loss: 0.0100 - 258ms/epoch - 2ms/step\n",
      "Epoch 10/100\n",
      "106/106 - 0s - loss: 0.0086 - 254ms/epoch - 2ms/step\n",
      "Epoch 11/100\n",
      "106/106 - 0s - loss: 0.0073 - 268ms/epoch - 3ms/step\n",
      "Epoch 12/100\n",
      "106/106 - 0s - loss: 0.0061 - 264ms/epoch - 2ms/step\n",
      "Epoch 13/100\n",
      "106/106 - 0s - loss: 0.0052 - 259ms/epoch - 2ms/step\n",
      "Epoch 14/100\n",
      "106/106 - 0s - loss: 0.0044 - 268ms/epoch - 3ms/step\n",
      "Epoch 15/100\n",
      "106/106 - 0s - loss: 0.0039 - 250ms/epoch - 2ms/step\n",
      "Epoch 16/100\n",
      "106/106 - 0s - loss: 0.0034 - 323ms/epoch - 3ms/step\n",
      "Epoch 17/100\n",
      "106/106 - 0s - loss: 0.0030 - 298ms/epoch - 3ms/step\n",
      "Epoch 18/100\n",
      "106/106 - 0s - loss: 0.0028 - 310ms/epoch - 3ms/step\n",
      "Epoch 19/100\n",
      "106/106 - 0s - loss: 0.0027 - 261ms/epoch - 2ms/step\n",
      "Epoch 20/100\n",
      "106/106 - 0s - loss: 0.0027 - 338ms/epoch - 3ms/step\n",
      "Epoch 21/100\n",
      "106/106 - 0s - loss: 0.0026 - 270ms/epoch - 3ms/step\n",
      "Epoch 22/100\n",
      "106/106 - 0s - loss: 0.0026 - 289ms/epoch - 3ms/step\n",
      "Epoch 23/100\n",
      "106/106 - 0s - loss: 0.0025 - 268ms/epoch - 3ms/step\n",
      "Epoch 24/100\n",
      "106/106 - 0s - loss: 0.0025 - 318ms/epoch - 3ms/step\n",
      "Epoch 25/100\n",
      "106/106 - 0s - loss: 0.0025 - 280ms/epoch - 3ms/step\n",
      "Epoch 26/100\n",
      "106/106 - 0s - loss: 0.0025 - 270ms/epoch - 3ms/step\n",
      "Epoch 27/100\n",
      "106/106 - 0s - loss: 0.0025 - 261ms/epoch - 2ms/step\n",
      "Epoch 28/100\n",
      "106/106 - 0s - loss: 0.0025 - 285ms/epoch - 3ms/step\n",
      "Epoch 29/100\n",
      "106/106 - 0s - loss: 0.0025 - 268ms/epoch - 3ms/step\n",
      "Epoch 30/100\n",
      "106/106 - 0s - loss: 0.0025 - 263ms/epoch - 2ms/step\n",
      "Epoch 31/100\n",
      "106/106 - 0s - loss: 0.0025 - 270ms/epoch - 3ms/step\n",
      "Epoch 32/100\n",
      "106/106 - 0s - loss: 0.0025 - 272ms/epoch - 3ms/step\n",
      "Epoch 33/100\n",
      "106/106 - 0s - loss: 0.0025 - 339ms/epoch - 3ms/step\n",
      "Epoch 34/100\n",
      "106/106 - 0s - loss: 0.0025 - 325ms/epoch - 3ms/step\n",
      "Epoch 35/100\n",
      "106/106 - 0s - loss: 0.0025 - 277ms/epoch - 3ms/step\n",
      "Epoch 36/100\n",
      "106/106 - 0s - loss: 0.0025 - 314ms/epoch - 3ms/step\n",
      "Epoch 37/100\n",
      "106/106 - 0s - loss: 0.0025 - 310ms/epoch - 3ms/step\n",
      "Epoch 38/100\n",
      "106/106 - 0s - loss: 0.0026 - 267ms/epoch - 3ms/step\n",
      "Epoch 39/100\n",
      "106/106 - 0s - loss: 0.0025 - 257ms/epoch - 2ms/step\n",
      "Epoch 40/100\n",
      "106/106 - 0s - loss: 0.0025 - 252ms/epoch - 2ms/step\n",
      "Epoch 41/100\n",
      "106/106 - 0s - loss: 0.0025 - 262ms/epoch - 2ms/step\n",
      "Epoch 42/100\n",
      "106/106 - 0s - loss: 0.0025 - 270ms/epoch - 3ms/step\n",
      "Epoch 43/100\n",
      "106/106 - 0s - loss: 0.0025 - 260ms/epoch - 2ms/step\n",
      "Epoch 44/100\n",
      "106/106 - 0s - loss: 0.0025 - 310ms/epoch - 3ms/step\n",
      "Epoch 45/100\n",
      "106/106 - 0s - loss: 0.0025 - 294ms/epoch - 3ms/step\n",
      "Epoch 46/100\n",
      "106/106 - 0s - loss: 0.0025 - 331ms/epoch - 3ms/step\n",
      "Epoch 47/100\n",
      "106/106 - 0s - loss: 0.0025 - 256ms/epoch - 2ms/step\n",
      "Epoch 48/100\n",
      "106/106 - 0s - loss: 0.0025 - 253ms/epoch - 2ms/step\n",
      "Epoch 49/100\n",
      "106/106 - 0s - loss: 0.0025 - 263ms/epoch - 2ms/step\n",
      "Epoch 50/100\n",
      "106/106 - 0s - loss: 0.0024 - 269ms/epoch - 3ms/step\n",
      "Epoch 51/100\n",
      "106/106 - 0s - loss: 0.0025 - 278ms/epoch - 3ms/step\n",
      "Epoch 52/100\n",
      "106/106 - 0s - loss: 0.0026 - 323ms/epoch - 3ms/step\n",
      "Epoch 53/100\n",
      "106/106 - 0s - loss: 0.0025 - 271ms/epoch - 3ms/step\n",
      "Epoch 54/100\n",
      "106/106 - 0s - loss: 0.0025 - 254ms/epoch - 2ms/step\n",
      "Epoch 55/100\n",
      "106/106 - 0s - loss: 0.0025 - 261ms/epoch - 2ms/step\n",
      "Epoch 56/100\n",
      "106/106 - 0s - loss: 0.0026 - 283ms/epoch - 3ms/step\n",
      "Epoch 57/100\n",
      "106/106 - 0s - loss: 0.0025 - 331ms/epoch - 3ms/step\n",
      "Epoch 58/100\n",
      "106/106 - 0s - loss: 0.0025 - 317ms/epoch - 3ms/step\n",
      "Epoch 59/100\n",
      "106/106 - 0s - loss: 0.0025 - 347ms/epoch - 3ms/step\n",
      "Epoch 60/100\n",
      "106/106 - 0s - loss: 0.0025 - 262ms/epoch - 2ms/step\n",
      "Epoch 61/100\n",
      "106/106 - 0s - loss: 0.0025 - 258ms/epoch - 2ms/step\n",
      "Epoch 62/100\n",
      "106/106 - 0s - loss: 0.0024 - 257ms/epoch - 2ms/step\n",
      "Epoch 63/100\n",
      "106/106 - 0s - loss: 0.0026 - 329ms/epoch - 3ms/step\n",
      "Epoch 64/100\n",
      "106/106 - 0s - loss: 0.0025 - 331ms/epoch - 3ms/step\n",
      "Epoch 65/100\n",
      "106/106 - 0s - loss: 0.0025 - 283ms/epoch - 3ms/step\n",
      "Epoch 66/100\n",
      "106/106 - 0s - loss: 0.0025 - 284ms/epoch - 3ms/step\n",
      "Epoch 67/100\n",
      "106/106 - 0s - loss: 0.0025 - 336ms/epoch - 3ms/step\n",
      "Epoch 68/100\n",
      "106/106 - 0s - loss: 0.0025 - 321ms/epoch - 3ms/step\n",
      "Epoch 69/100\n",
      "106/106 - 0s - loss: 0.0025 - 284ms/epoch - 3ms/step\n",
      "Epoch 70/100\n",
      "106/106 - 0s - loss: 0.0025 - 263ms/epoch - 2ms/step\n",
      "Epoch 71/100\n",
      "106/106 - 0s - loss: 0.0025 - 279ms/epoch - 3ms/step\n",
      "Epoch 72/100\n",
      "106/106 - 0s - loss: 0.0024 - 336ms/epoch - 3ms/step\n",
      "Epoch 73/100\n",
      "106/106 - 0s - loss: 0.0025 - 354ms/epoch - 3ms/step\n",
      "Epoch 74/100\n",
      "106/106 - 0s - loss: 0.0025 - 353ms/epoch - 3ms/step\n",
      "Epoch 75/100\n",
      "106/106 - 0s - loss: 0.0025 - 324ms/epoch - 3ms/step\n",
      "Epoch 76/100\n",
      "106/106 - 0s - loss: 0.0025 - 276ms/epoch - 3ms/step\n",
      "Epoch 77/100\n",
      "106/106 - 0s - loss: 0.0025 - 260ms/epoch - 2ms/step\n",
      "Epoch 78/100\n",
      "106/106 - 0s - loss: 0.0026 - 270ms/epoch - 3ms/step\n",
      "Epoch 79/100\n",
      "106/106 - 0s - loss: 0.0025 - 261ms/epoch - 2ms/step\n",
      "Epoch 80/100\n",
      "106/106 - 0s - loss: 0.0025 - 262ms/epoch - 2ms/step\n",
      "Epoch 81/100\n",
      "106/106 - 0s - loss: 0.0025 - 261ms/epoch - 2ms/step\n",
      "Epoch 82/100\n",
      "106/106 - 0s - loss: 0.0024 - 257ms/epoch - 2ms/step\n",
      "Epoch 83/100\n",
      "106/106 - 0s - loss: 0.0025 - 304ms/epoch - 3ms/step\n",
      "Epoch 84/100\n",
      "106/106 - 0s - loss: 0.0026 - 265ms/epoch - 2ms/step\n",
      "Epoch 85/100\n",
      "106/106 - 0s - loss: 0.0026 - 274ms/epoch - 3ms/step\n",
      "Epoch 86/100\n",
      "106/106 - 0s - loss: 0.0024 - 317ms/epoch - 3ms/step\n",
      "Epoch 87/100\n",
      "106/106 - 0s - loss: 0.0025 - 272ms/epoch - 3ms/step\n",
      "Epoch 88/100\n",
      "106/106 - 0s - loss: 0.0025 - 267ms/epoch - 3ms/step\n",
      "Epoch 89/100\n",
      "106/106 - 0s - loss: 0.0025 - 277ms/epoch - 3ms/step\n",
      "Epoch 90/100\n",
      "106/106 - 0s - loss: 0.0025 - 263ms/epoch - 2ms/step\n",
      "Epoch 91/100\n",
      "106/106 - 0s - loss: 0.0025 - 279ms/epoch - 3ms/step\n",
      "Epoch 92/100\n",
      "106/106 - 0s - loss: 0.0025 - 258ms/epoch - 2ms/step\n",
      "Epoch 93/100\n",
      "106/106 - 0s - loss: 0.0025 - 252ms/epoch - 2ms/step\n",
      "Epoch 94/100\n",
      "106/106 - 0s - loss: 0.0025 - 316ms/epoch - 3ms/step\n",
      "Epoch 95/100\n",
      "106/106 - 0s - loss: 0.0025 - 302ms/epoch - 3ms/step\n",
      "Epoch 96/100\n",
      "106/106 - 0s - loss: 0.0025 - 256ms/epoch - 2ms/step\n",
      "Epoch 97/100\n",
      "106/106 - 0s - loss: 0.0025 - 266ms/epoch - 3ms/step\n",
      "Epoch 98/100\n",
      "106/106 - 0s - loss: 0.0025 - 273ms/epoch - 3ms/step\n",
      "Epoch 99/100\n",
      "106/106 - 0s - loss: 0.0025 - 264ms/epoch - 2ms/step\n",
      "Epoch 100/100\n",
      "106/106 - 0s - loss: 0.0025 - 281ms/epoch - 3ms/step\n"
     ]
    },
    {
     "data": {
      "text/plain": [
       "<keras.callbacks.History at 0x7f3c4425f8b0>"
      ]
     },
     "execution_count": 27,
     "metadata": {},
     "output_type": "execute_result"
    }
   ],
   "source": [
    "# create and fit the LSTM network\n",
    "model = Sequential()\n",
    "model.add(LSTM(4, input_shape=(1, look_back)))\n",
    "model.add(Dense(1))\n",
    "model.compile(loss='mean_squared_error', optimizer='adam')\n",
    "model.fit(trainX, trainY, epochs=100, batch_size=1, verbose=2)"
   ]
  },
  {
   "cell_type": "markdown",
   "metadata": {},
   "source": [
    "Once the model is fit, you can estimate the performance of the model on the train and test datasets. This will give you a point of comparison for new models.\n",
    "\n",
    "Note that you will invert the predictions before calculating error scores to ensure that performance is reported in the same units as the original data (thousands of passengers per month)."
   ]
  },
  {
   "cell_type": "code",
   "execution_count": 28,
   "metadata": {},
   "outputs": [
    {
     "name": "stdout",
     "output_type": "stream",
     "text": [
      "4/4 [==============================] - 1s 3ms/step\n",
      "2/2 [==============================] - 0s 4ms/step\n"
     ]
    }
   ],
   "source": [
    "# make predictions\n",
    "trainPredict = model.predict(trainX)\n",
    "testPredict = model.predict(testX)"
   ]
  },
  {
   "cell_type": "code",
   "execution_count": 29,
   "metadata": {},
   "outputs": [],
   "source": [
    "# invert predictions\n",
    "trainPredict = scaler.inverse_transform(trainPredict)\n",
    "trainY = scaler.inverse_transform(trainY)\n",
    "testPredict = scaler.inverse_transform(testPredict)\n",
    "testY = scaler.inverse_transform(testY)"
   ]
  },
  {
   "cell_type": "code",
   "execution_count": 30,
   "metadata": {},
   "outputs": [
    {
     "name": "stdout",
     "output_type": "stream",
     "text": [
      "Train Score: 25.40 RMSE\n",
      "Test Score: 49.61 RMSE\n"
     ]
    }
   ],
   "source": [
    "# calculate root mean squared error\n",
    "trainScore = np.sqrt(mean_squared_error(trainY.flatten(), trainPredict.flatten()))\n",
    "print('Train Score: %.2f RMSE' % (trainScore))\n",
    "testScore = np.sqrt(mean_squared_error(testY.flatten(), testPredict.flatten()))\n",
    "print('Test Score: %.2f RMSE' % (testScore))"
   ]
  },
  {
   "cell_type": "markdown",
   "metadata": {},
   "source": [
    "Finally, you can generate predictions using the model for both the train and test dataset to get a visual indication of the skill of the model.\n",
    "\n",
    "Because of how the dataset was prepared, you must shift the predictions so that they align on the x-axis with the original dataset. Once prepared, the data is plotted, showing the original dataset, the predictions for the training dataset, and the predictions on the unseen test dataset."
   ]
  },
  {
   "cell_type": "code",
   "execution_count": 31,
   "metadata": {},
   "outputs": [
    {
     "data": {
      "image/png": "[encoded data removed]",
      "text/plain": [
       "<Figure size 864x360 with 1 Axes>"
      ]
     },
     "metadata": {
      "needs_background": "light"
     },
     "output_type": "display_data"
    }
   ],
   "source": [
    "# shift train predictions for plotting\n",
    "trainPredictPlot = np.empty_like(dataset, dtype='float')\n",
    "trainPredictPlot[:, :] = np.nan\n",
    "trainPredictPlot[look_back:len(trainPredict)+look_back, :] = trainPredict\n",
    "\n",
    "# shift test predictions for plotting\n",
    "testPredictPlot = np.empty_like(dataset, dtype='float')\n",
    "testPredictPlot[:, :] = np.nan\n",
    "testPredictPlot[len(trainPredict)+(look_back*2)+1:len(dataset)-1, :] = testPredict\n",
    "\n",
    "# plot baseline and predictions\n",
    "plt.figure(figsize=(12,5))\n",
    "plt.plot(dataset.values, label='Actual data',c='g')\n",
    "plt.plot(trainPredictPlot, label='Model prediction on train data',c='b')\n",
    "plt.plot(testPredictPlot, label='Model prediction on test data',c='r')\n",
    "plt.grid()\n",
    "plt.title(\"Airline passenger forecasting\", fontsize=14)\n",
    "plt.legend()\n",
    "plt.show()"
   ]
  },
  {
   "cell_type": "markdown",
   "metadata": {},
   "source": [
    "You can see that the model did an excellent job of fitting both the training dataset and performed well in the test datasets."
   ]
  },
  {
   "cell_type": "code",
   "execution_count": null,
   "metadata": {},
   "outputs": [],
   "source": []
  }
 ],
 "metadata": {
  "kernelspec": {
   "display_name": "Python 3",
   "language": "python",
   "name": "python3"
  },
  "language_info": {
   "codemirror_mode": {
    "name": "ipython",
    "version": 3
   },
   "file_extension": ".py",
   "mimetype": "text/x-python",
   "name": "python",
   "nbconvert_exporter": "python",
   "pygments_lexer": "ipython3",
   "version": "3.8.5"
  }
 },
 "nbformat": 4,
 "nbformat_minor": 4
}
