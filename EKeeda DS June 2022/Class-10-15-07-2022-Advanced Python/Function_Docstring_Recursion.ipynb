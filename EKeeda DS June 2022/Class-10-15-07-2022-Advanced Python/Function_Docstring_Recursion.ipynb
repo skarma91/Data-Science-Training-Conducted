{
 "cells": [
  {
   "cell_type": "markdown",
   "id": "286c6cc7",
   "metadata": {},
   "source": [
    "## Functions"
   ]
  },
  {
   "cell_type": "markdown",
   "id": "49b79365",
   "metadata": {},
   "source": [
    "### WAF to add two numbers"
   ]
  },
  {
   "cell_type": "code",
   "execution_count": 1,
   "id": "47639680",
   "metadata": {},
   "outputs": [],
   "source": [
    "def add_numbers(a, b):\n",
    "    \n",
    "    return a+b"
   ]
  },
  {
   "cell_type": "code",
   "execution_count": 2,
   "id": "2ce07f02",
   "metadata": {},
   "outputs": [
    {
     "data": {
      "text/plain": [
       "11"
      ]
     },
     "execution_count": 2,
     "metadata": {},
     "output_type": "execute_result"
    }
   ],
   "source": [
    "add_numbers(5, 6)"
   ]
  },
  {
   "cell_type": "code",
   "execution_count": 3,
   "id": "ddf691c7",
   "metadata": {},
   "outputs": [
    {
     "ename": "TypeError",
     "evalue": "unsupported operand type(s) for +: 'int' and 'str'",
     "output_type": "error",
     "traceback": [
      "\u001b[1;31m---------------------------------------------------------------------------\u001b[0m",
      "\u001b[1;31mTypeError\u001b[0m                                 Traceback (most recent call last)",
      "\u001b[1;32mC:\\Users\\SOURAV~1\\AppData\\Local\\Temp/ipykernel_5576/4222139809.py\u001b[0m in \u001b[0;36m<module>\u001b[1;34m\u001b[0m\n\u001b[1;32m----> 1\u001b[1;33m \u001b[0madd_numbers\u001b[0m\u001b[1;33m(\u001b[0m\u001b[1;36m6\u001b[0m\u001b[1;33m,\u001b[0m \u001b[1;34m'c'\u001b[0m\u001b[1;33m)\u001b[0m\u001b[1;33m\u001b[0m\u001b[1;33m\u001b[0m\u001b[0m\n\u001b[0m",
      "\u001b[1;32mC:\\Users\\SOURAV~1\\AppData\\Local\\Temp/ipykernel_5576/2937287550.py\u001b[0m in \u001b[0;36madd_numbers\u001b[1;34m(a, b)\u001b[0m\n\u001b[0;32m      1\u001b[0m \u001b[1;32mdef\u001b[0m \u001b[0madd_numbers\u001b[0m\u001b[1;33m(\u001b[0m\u001b[0ma\u001b[0m\u001b[1;33m,\u001b[0m \u001b[0mb\u001b[0m\u001b[1;33m)\u001b[0m\u001b[1;33m:\u001b[0m\u001b[1;33m\u001b[0m\u001b[1;33m\u001b[0m\u001b[0m\n\u001b[1;32m----> 2\u001b[1;33m     \u001b[1;32mreturn\u001b[0m \u001b[0ma\u001b[0m\u001b[1;33m+\u001b[0m\u001b[0mb\u001b[0m\u001b[1;33m\u001b[0m\u001b[1;33m\u001b[0m\u001b[0m\n\u001b[0m",
      "\u001b[1;31mTypeError\u001b[0m: unsupported operand type(s) for +: 'int' and 'str'"
     ]
    }
   ],
   "source": [
    "add_numbers(6, 'c')"
   ]
  },
  {
   "cell_type": "markdown",
   "id": "5dc78575",
   "metadata": {},
   "source": [
    "### DocString - Document String"
   ]
  },
  {
   "cell_type": "code",
   "execution_count": 57,
   "id": "18d8ea70",
   "metadata": {},
   "outputs": [],
   "source": [
    "def add_numbers(num1, num2):\n",
    "    \"\"\"\n",
    "    Description: This function will add two input numbers and return the result\n",
    "    \n",
    "    Inputs:\n",
    "        - num1 : number (float or int type)\n",
    "        - num2 : number (float or int type)\n",
    "        \n",
    "    Return:\n",
    "        - It returns a number (float ot int type)\n",
    "    \"\"\"\n",
    "    return num1 + num2"
   ]
  },
  {
   "cell_type": "code",
   "execution_count": 58,
   "id": "b8a08055",
   "metadata": {},
   "outputs": [
    {
     "data": {
      "text/plain": [
       "9"
      ]
     },
     "execution_count": 58,
     "metadata": {},
     "output_type": "execute_result"
    }
   ],
   "source": [
    "add_numbers(5, 4)"
   ]
  },
  {
   "cell_type": "markdown",
   "id": "aa0dc4b1",
   "metadata": {},
   "source": [
    "### WAF to calculate the factorial of a number\n",
    "\n",
    "$ n! = n \\times (n-1) \\times (n-2) \\times .... \\times 2 \\times 1 $\n",
    "\n",
    "$ 5! = 5 \\times 4 \\times 3 \\times 2 \\times 1 = 120 $\n",
    "\n",
    "$ 6! = 6 \\times (5 \\times 4 \\times 3 \\times 2 \\times 1) $\n",
    "\n",
    "$ 6! = 6 \\times 5!$\n",
    "\n",
    "$ n! = n \\times (n-1)!~~[n > 1]$ "
   ]
  },
  {
   "cell_type": "code",
   "execution_count": 20,
   "id": "50db9384",
   "metadata": {},
   "outputs": [],
   "source": [
    "def factorial(n):\n",
    "    \"\"\"\n",
    "    Description: This function will compute the factorial of a positive integer\n",
    "    \n",
    "    Input:\n",
    "        - n : The number whose factorial we want to compute (int)\n",
    "    \n",
    "    Return:\n",
    "        - It returns a number (int)\n",
    "    \"\"\"\n",
    "    if n < 0:\n",
    "        print(\"Please provide postive integer as input...\")\n",
    "        return None\n",
    "    \n",
    "    if type(n) != int:\n",
    "        print(\"Please provide integer type value...\")\n",
    "        return None\n",
    "    \n",
    "    result = 1\n",
    "    for i in range(2, n+1):\n",
    "        result = result * i\n",
    "    return result"
   ]
  },
  {
   "cell_type": "code",
   "execution_count": 7,
   "id": "e75c55e4",
   "metadata": {},
   "outputs": [
    {
     "data": {
      "text/plain": [
       "120"
      ]
     },
     "execution_count": 7,
     "metadata": {},
     "output_type": "execute_result"
    }
   ],
   "source": [
    "factorial(5)"
   ]
  },
  {
   "cell_type": "code",
   "execution_count": 8,
   "id": "1f875743",
   "metadata": {},
   "outputs": [
    {
     "data": {
      "text/plain": [
       "1"
      ]
     },
     "execution_count": 8,
     "metadata": {},
     "output_type": "execute_result"
    }
   ],
   "source": [
    "factorial(1)"
   ]
  },
  {
   "cell_type": "code",
   "execution_count": 9,
   "id": "641ead4a",
   "metadata": {},
   "outputs": [
    {
     "data": {
      "text/plain": [
       "3628800"
      ]
     },
     "execution_count": 9,
     "metadata": {},
     "output_type": "execute_result"
    }
   ],
   "source": [
    "factorial(10)"
   ]
  },
  {
   "cell_type": "code",
   "execution_count": 14,
   "id": "41b27c3d",
   "metadata": {},
   "outputs": [
    {
     "name": "stdout",
     "output_type": "stream",
     "text": [
      "Please provide postive integer as input...\n"
     ]
    }
   ],
   "source": [
    "factorial(-2)"
   ]
  },
  {
   "cell_type": "code",
   "execution_count": 21,
   "id": "9284f668",
   "metadata": {},
   "outputs": [
    {
     "name": "stdout",
     "output_type": "stream",
     "text": [
      "Please provide integer type value...\n"
     ]
    }
   ],
   "source": [
    "factorial(5.5)"
   ]
  },
  {
   "cell_type": "markdown",
   "id": "56e40689",
   "metadata": {},
   "source": [
    "## Recursion"
   ]
  },
  {
   "cell_type": "markdown",
   "id": "4e4cbc3d",
   "metadata": {},
   "source": [
    "In the factorial problem we saw an important relation\n",
    "\n",
    "$ n! = n \\times (n-1)! $\n",
    "\n",
    "$ factorial(n) = n \\times factorial(n-1) $\n",
    "\n",
    "$ factorial(n) = n \\times (n-1) \\times factorial(n-2) $\n",
    "\n",
    "$ factorial(n) = n \\times (n-1) \\times (n-2) \\times factorial(n-3) $"
   ]
  },
  {
   "cell_type": "code",
   "execution_count": 22,
   "id": "15c16eef",
   "metadata": {},
   "outputs": [],
   "source": [
    "def factorial_recursion(n):\n",
    "    \n",
    "    if n == 1 or n == 0:\n",
    "        return 1\n",
    "    \n",
    "    else:\n",
    "        return n * factorial_recursion(n-1)"
   ]
  },
  {
   "cell_type": "code",
   "execution_count": 23,
   "id": "5e779643",
   "metadata": {},
   "outputs": [
    {
     "data": {
      "text/plain": [
       "120"
      ]
     },
     "execution_count": 23,
     "metadata": {},
     "output_type": "execute_result"
    }
   ],
   "source": [
    "factorial_recursion(5)"
   ]
  },
  {
   "cell_type": "markdown",
   "id": "1b050069",
   "metadata": {},
   "source": [
    "### WAF to find a value in a list"
   ]
  },
  {
   "cell_type": "code",
   "execution_count": 25,
   "id": "3337ae4c",
   "metadata": {},
   "outputs": [],
   "source": [
    "def find_value(L, n):\n",
    "    if len(L) == 0:\n",
    "        print(\"Number not found\")\n",
    "        return None\n",
    "    if L[0] == n:\n",
    "        print(\"Number found\")\n",
    "        return None\n",
    "    else:\n",
    "        return find_value(L[1:], n)"
   ]
  },
  {
   "cell_type": "code",
   "execution_count": 28,
   "id": "2ace2aac",
   "metadata": {},
   "outputs": [
    {
     "name": "stdout",
     "output_type": "stream",
     "text": [
      "Number not found\n"
     ]
    }
   ],
   "source": [
    "find_value([1,2,3,4,5], 7)"
   ]
  },
  {
   "cell_type": "markdown",
   "id": "5bf7fd37",
   "metadata": {},
   "source": [
    "## WAF to print the binomial coefficient given (n,r)"
   ]
  },
  {
   "cell_type": "code",
   "execution_count": 30,
   "id": "464d4cfd",
   "metadata": {},
   "outputs": [],
   "source": [
    "def binom_coeff(n, r):\n",
    "    value = factorial(n) / (factorial(n-r) * factorial(r))\n",
    "    return value"
   ]
  },
  {
   "cell_type": "code",
   "execution_count": 31,
   "id": "8e79a5d9",
   "metadata": {},
   "outputs": [
    {
     "data": {
      "text/plain": [
       "10.0"
      ]
     },
     "execution_count": 31,
     "metadata": {},
     "output_type": "execute_result"
    }
   ],
   "source": [
    "binom_coeff(5,2)"
   ]
  },
  {
   "cell_type": "markdown",
   "id": "a4fcf8b6",
   "metadata": {},
   "source": [
    "### WAF to print Fibonacci Series upto nth term"
   ]
  },
  {
   "cell_type": "code",
   "execution_count": 42,
   "id": "71c889b3",
   "metadata": {},
   "outputs": [],
   "source": [
    "def print_fibonacci(n):\n",
    "    fibonaci_series = [0, 1]\n",
    "    if n == 1:\n",
    "        return fibonaci_series[0]\n",
    "    if n == 2:\n",
    "        return fibonaci_series\n",
    "    if n < 1:\n",
    "        print(\"Error in input....\")\n",
    "        return None\n",
    "    for i in range(2, n):\n",
    "        v = fibonaci_series[-1] + fibonaci_series[-2]\n",
    "        fibonaci_series.append(v)\n",
    "        \n",
    "    return fibonaci_series"
   ]
  },
  {
   "cell_type": "code",
   "execution_count": 54,
   "id": "c9cc8351",
   "metadata": {},
   "outputs": [
    {
     "data": {
      "text/plain": [
       "[0, 1, 1, 2, 3, 5, 8, 13, 21, 34]"
      ]
     },
     "execution_count": 54,
     "metadata": {},
     "output_type": "execute_result"
    }
   ],
   "source": [
    "print_fibonacci(10)"
   ]
  },
  {
   "cell_type": "markdown",
   "id": "7ca5a754",
   "metadata": {},
   "source": [
    "## HW : WAF to print Fibonacci Series using Recursion "
   ]
  },
  {
   "cell_type": "code",
   "execution_count": null,
   "id": "f9150319",
   "metadata": {},
   "outputs": [],
   "source": []
  }
 ],
 "metadata": {
  "kernelspec": {
   "display_name": "Python 3 (ipykernel)",
   "language": "python",
   "name": "python3"
  },
  "language_info": {
   "codemirror_mode": {
    "name": "ipython",
    "version": 3
   },
   "file_extension": ".py",
   "mimetype": "text/x-python",
   "name": "python",
   "nbconvert_exporter": "python",
   "pygments_lexer": "ipython3",
   "version": "3.9.7"
  }
 },
 "nbformat": 4,
 "nbformat_minor": 5
}
