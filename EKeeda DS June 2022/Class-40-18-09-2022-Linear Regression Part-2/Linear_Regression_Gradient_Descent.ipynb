{
 "cells": [
  {
   "cell_type": "markdown",
   "id": "77a97224",
   "metadata": {},
   "source": [
    "# Implement Gradient Descent Algorithm for Multiple Linear Regression"
   ]
  },
  {
   "cell_type": "markdown",
   "id": "cb2b54af",
   "metadata": {},
   "source": [
    "## Import necessary libraries"
   ]
  },
  {
   "cell_type": "code",
   "execution_count": 1,
   "id": "fe4b312b",
   "metadata": {
    "ExecuteTime": {
     "end_time": "2022-09-18T05:29:40.447502Z",
     "start_time": "2022-09-18T05:29:38.718584Z"
    }
   },
   "outputs": [],
   "source": [
    "import numpy as np\n",
    "import pandas as pd\n",
    "import matplotlib.pyplot as plt"
   ]
  },
  {
   "cell_type": "markdown",
   "id": "beac71fb",
   "metadata": {},
   "source": [
    "## Import data"
   ]
  },
  {
   "cell_type": "code",
   "execution_count": 2,
   "id": "3cfdd81f",
   "metadata": {
    "ExecuteTime": {
     "end_time": "2022-09-18T05:30:17.229196Z",
     "start_time": "2022-09-18T05:30:17.197061Z"
    }
   },
   "outputs": [],
   "source": [
    "data = pd.read_csv(\"auto_mpg.csv\")"
   ]
  },
  {
   "cell_type": "code",
   "execution_count": 3,
   "id": "3ddd239d",
   "metadata": {
    "ExecuteTime": {
     "end_time": "2022-09-18T05:30:20.523258Z",
     "start_time": "2022-09-18T05:30:20.473621Z"
    }
   },
   "outputs": [
    {
     "data": {
      "text/html": [
       "<div>\n",
       "<style scoped>\n",
       "    .dataframe tbody tr th:only-of-type {\n",
       "        vertical-align: middle;\n",
       "    }\n",
       "\n",
       "    .dataframe tbody tr th {\n",
       "        vertical-align: top;\n",
       "    }\n",
       "\n",
       "    .dataframe thead th {\n",
       "        text-align: right;\n",
       "    }\n",
       "</style>\n",
       "<table border=\"1\" class=\"dataframe\">\n",
       "  <thead>\n",
       "    <tr style=\"text-align: right;\">\n",
       "      <th></th>\n",
       "      <th>mpg</th>\n",
       "      <th>cylinders</th>\n",
       "      <th>displacement</th>\n",
       "      <th>horsepower</th>\n",
       "      <th>weight</th>\n",
       "      <th>acceleration</th>\n",
       "      <th>model year</th>\n",
       "      <th>origin</th>\n",
       "      <th>car_name</th>\n",
       "    </tr>\n",
       "  </thead>\n",
       "  <tbody>\n",
       "    <tr>\n",
       "      <th>0</th>\n",
       "      <td>18.0</td>\n",
       "      <td>8</td>\n",
       "      <td>307.0</td>\n",
       "      <td>130.0</td>\n",
       "      <td>3504.0</td>\n",
       "      <td>12.0</td>\n",
       "      <td>70</td>\n",
       "      <td>1</td>\n",
       "      <td>chevrolet chevelle malibu</td>\n",
       "    </tr>\n",
       "    <tr>\n",
       "      <th>1</th>\n",
       "      <td>15.0</td>\n",
       "      <td>8</td>\n",
       "      <td>350.0</td>\n",
       "      <td>165.0</td>\n",
       "      <td>3693.0</td>\n",
       "      <td>11.5</td>\n",
       "      <td>70</td>\n",
       "      <td>1</td>\n",
       "      <td>buick skylark 320</td>\n",
       "    </tr>\n",
       "    <tr>\n",
       "      <th>2</th>\n",
       "      <td>18.0</td>\n",
       "      <td>8</td>\n",
       "      <td>318.0</td>\n",
       "      <td>150.0</td>\n",
       "      <td>3436.0</td>\n",
       "      <td>11.0</td>\n",
       "      <td>70</td>\n",
       "      <td>1</td>\n",
       "      <td>plymouth satellite</td>\n",
       "    </tr>\n",
       "    <tr>\n",
       "      <th>3</th>\n",
       "      <td>16.0</td>\n",
       "      <td>8</td>\n",
       "      <td>304.0</td>\n",
       "      <td>150.0</td>\n",
       "      <td>3433.0</td>\n",
       "      <td>12.0</td>\n",
       "      <td>70</td>\n",
       "      <td>1</td>\n",
       "      <td>amc rebel sst</td>\n",
       "    </tr>\n",
       "    <tr>\n",
       "      <th>4</th>\n",
       "      <td>17.0</td>\n",
       "      <td>8</td>\n",
       "      <td>302.0</td>\n",
       "      <td>140.0</td>\n",
       "      <td>3449.0</td>\n",
       "      <td>10.5</td>\n",
       "      <td>70</td>\n",
       "      <td>1</td>\n",
       "      <td>ford torino</td>\n",
       "    </tr>\n",
       "  </tbody>\n",
       "</table>\n",
       "</div>"
      ],
      "text/plain": [
       "    mpg  cylinders  displacement horsepower  weight  acceleration  model year  \\\n",
       "0  18.0          8         307.0      130.0  3504.0          12.0          70   \n",
       "1  15.0          8         350.0      165.0  3693.0          11.5          70   \n",
       "2  18.0          8         318.0      150.0  3436.0          11.0          70   \n",
       "3  16.0          8         304.0      150.0  3433.0          12.0          70   \n",
       "4  17.0          8         302.0      140.0  3449.0          10.5          70   \n",
       "\n",
       "   origin                   car_name  \n",
       "0       1  chevrolet chevelle malibu  \n",
       "1       1          buick skylark 320  \n",
       "2       1         plymouth satellite  \n",
       "3       1              amc rebel sst  \n",
       "4       1                ford torino  "
      ]
     },
     "execution_count": 3,
     "metadata": {},
     "output_type": "execute_result"
    }
   ],
   "source": [
    "data.head()"
   ]
  },
  {
   "cell_type": "markdown",
   "id": "36c58fd3",
   "metadata": {},
   "source": [
    "**Explanation of the Data**\n",
    "\n",
    "This data tabulates \"miles per gallon (mpg)\" of different cars with different number of cylinders, displacement, power of the engine (in hp), weight of the car (in kg), accelaration of the car, model_year"
   ]
  },
  {
   "cell_type": "markdown",
   "id": "5748e907",
   "metadata": {},
   "source": [
    "For our exercise we shall choose the explanatory variables / predictors:\n",
    "\n",
    "- displacement\n",
    "- horsepower\n",
    "- weight\n",
    "- accelaration\n",
    "\n",
    "All of these variables are quantitative in nature.\n",
    "\n",
    "and our target variable is: mpg"
   ]
  },
  {
   "cell_type": "code",
   "execution_count": 4,
   "id": "188c0322",
   "metadata": {
    "ExecuteTime": {
     "end_time": "2022-09-18T05:35:08.079053Z",
     "start_time": "2022-09-18T05:35:08.069050Z"
    }
   },
   "outputs": [
    {
     "data": {
      "text/plain": [
       "(398, 9)"
      ]
     },
     "execution_count": 4,
     "metadata": {},
     "output_type": "execute_result"
    }
   ],
   "source": [
    "data.shape"
   ]
  },
  {
   "cell_type": "markdown",
   "id": "b2dad073",
   "metadata": {},
   "source": [
    "So we have 398 datapoints. \n",
    "\n",
    "We will consider 300 randomly chosen datapoints as our training samples and rest of the data as test samples."
   ]
  },
  {
   "cell_type": "code",
   "execution_count": 6,
   "id": "92a0a74f",
   "metadata": {
    "ExecuteTime": {
     "end_time": "2022-09-18T05:38:29.721828Z",
     "start_time": "2022-09-18T05:38:29.713334Z"
    }
   },
   "outputs": [],
   "source": [
    "features = ['displacement', 'horsepower', 'weight', 'acceleration']\n",
    "target = ['mpg']"
   ]
  },
  {
   "cell_type": "markdown",
   "id": "b99c5434",
   "metadata": {},
   "source": [
    "## Data Preprocessing"
   ]
  },
  {
   "cell_type": "code",
   "execution_count": 11,
   "id": "10bd6e5c",
   "metadata": {
    "ExecuteTime": {
     "end_time": "2022-09-18T05:40:14.759257Z",
     "start_time": "2022-09-18T05:40:14.723127Z"
    }
   },
   "outputs": [
    {
     "name": "stdout",
     "output_type": "stream",
     "text": [
      "<class 'pandas.core.frame.DataFrame'>\n",
      "RangeIndex: 398 entries, 0 to 397\n",
      "Data columns (total 4 columns):\n",
      " #   Column        Non-Null Count  Dtype  \n",
      "---  ------        --------------  -----  \n",
      " 0   displacement  398 non-null    float64\n",
      " 1   horsepower    398 non-null    object \n",
      " 2   weight        398 non-null    float64\n",
      " 3   acceleration  398 non-null    float64\n",
      "dtypes: float64(3), object(1)\n",
      "memory usage: 12.6+ KB\n"
     ]
    }
   ],
   "source": [
    "data[features].info()"
   ]
  },
  {
   "cell_type": "code",
   "execution_count": 13,
   "id": "c6450361",
   "metadata": {
    "ExecuteTime": {
     "end_time": "2022-09-18T05:41:10.260847Z",
     "start_time": "2022-09-18T05:41:10.227097Z"
    }
   },
   "outputs": [
    {
     "data": {
      "text/html": [
       "<div>\n",
       "<style scoped>\n",
       "    .dataframe tbody tr th:only-of-type {\n",
       "        vertical-align: middle;\n",
       "    }\n",
       "\n",
       "    .dataframe tbody tr th {\n",
       "        vertical-align: top;\n",
       "    }\n",
       "\n",
       "    .dataframe thead th {\n",
       "        text-align: right;\n",
       "    }\n",
       "</style>\n",
       "<table border=\"1\" class=\"dataframe\">\n",
       "  <thead>\n",
       "    <tr style=\"text-align: right;\">\n",
       "      <th></th>\n",
       "      <th>mpg</th>\n",
       "      <th>cylinders</th>\n",
       "      <th>displacement</th>\n",
       "      <th>horsepower</th>\n",
       "      <th>weight</th>\n",
       "      <th>acceleration</th>\n",
       "      <th>model year</th>\n",
       "      <th>origin</th>\n",
       "      <th>car_name</th>\n",
       "    </tr>\n",
       "  </thead>\n",
       "  <tbody>\n",
       "    <tr>\n",
       "      <th>32</th>\n",
       "      <td>25.0</td>\n",
       "      <td>4</td>\n",
       "      <td>98.0</td>\n",
       "      <td>?</td>\n",
       "      <td>2046.0</td>\n",
       "      <td>19.0</td>\n",
       "      <td>71</td>\n",
       "      <td>1</td>\n",
       "      <td>ford pinto</td>\n",
       "    </tr>\n",
       "    <tr>\n",
       "      <th>126</th>\n",
       "      <td>21.0</td>\n",
       "      <td>6</td>\n",
       "      <td>200.0</td>\n",
       "      <td>?</td>\n",
       "      <td>2875.0</td>\n",
       "      <td>17.0</td>\n",
       "      <td>74</td>\n",
       "      <td>1</td>\n",
       "      <td>ford maverick</td>\n",
       "    </tr>\n",
       "    <tr>\n",
       "      <th>330</th>\n",
       "      <td>40.9</td>\n",
       "      <td>4</td>\n",
       "      <td>85.0</td>\n",
       "      <td>?</td>\n",
       "      <td>1835.0</td>\n",
       "      <td>17.3</td>\n",
       "      <td>80</td>\n",
       "      <td>2</td>\n",
       "      <td>renault lecar deluxe</td>\n",
       "    </tr>\n",
       "    <tr>\n",
       "      <th>336</th>\n",
       "      <td>23.6</td>\n",
       "      <td>4</td>\n",
       "      <td>140.0</td>\n",
       "      <td>?</td>\n",
       "      <td>2905.0</td>\n",
       "      <td>14.3</td>\n",
       "      <td>80</td>\n",
       "      <td>1</td>\n",
       "      <td>ford mustang cobra</td>\n",
       "    </tr>\n",
       "    <tr>\n",
       "      <th>354</th>\n",
       "      <td>34.5</td>\n",
       "      <td>4</td>\n",
       "      <td>100.0</td>\n",
       "      <td>?</td>\n",
       "      <td>2320.0</td>\n",
       "      <td>15.8</td>\n",
       "      <td>81</td>\n",
       "      <td>2</td>\n",
       "      <td>renault 18i</td>\n",
       "    </tr>\n",
       "    <tr>\n",
       "      <th>374</th>\n",
       "      <td>23.0</td>\n",
       "      <td>4</td>\n",
       "      <td>151.0</td>\n",
       "      <td>?</td>\n",
       "      <td>3035.0</td>\n",
       "      <td>20.5</td>\n",
       "      <td>82</td>\n",
       "      <td>1</td>\n",
       "      <td>amc concord dl</td>\n",
       "    </tr>\n",
       "  </tbody>\n",
       "</table>\n",
       "</div>"
      ],
      "text/plain": [
       "      mpg  cylinders  displacement horsepower  weight  acceleration  \\\n",
       "32   25.0          4          98.0          ?  2046.0          19.0   \n",
       "126  21.0          6         200.0          ?  2875.0          17.0   \n",
       "330  40.9          4          85.0          ?  1835.0          17.3   \n",
       "336  23.6          4         140.0          ?  2905.0          14.3   \n",
       "354  34.5          4         100.0          ?  2320.0          15.8   \n",
       "374  23.0          4         151.0          ?  3035.0          20.5   \n",
       "\n",
       "     model year  origin              car_name  \n",
       "32           71       1            ford pinto  \n",
       "126          74       1         ford maverick  \n",
       "330          80       2  renault lecar deluxe  \n",
       "336          80       1    ford mustang cobra  \n",
       "354          81       2           renault 18i  \n",
       "374          82       1        amc concord dl  "
      ]
     },
     "execution_count": 13,
     "metadata": {},
     "output_type": "execute_result"
    }
   ],
   "source": [
    "data[data['horsepower']=='?']"
   ]
  },
  {
   "cell_type": "markdown",
   "id": "46adcf84",
   "metadata": {},
   "source": [
    "### drop the rows where horsepower is '?'"
   ]
  },
  {
   "cell_type": "code",
   "execution_count": 35,
   "id": "f3b89884",
   "metadata": {
    "ExecuteTime": {
     "end_time": "2022-09-18T05:50:47.848277Z",
     "start_time": "2022-09-18T05:50:47.842356Z"
    }
   },
   "outputs": [],
   "source": [
    "data = data.drop(data[data['horsepower']=='?'].index).reset_index(drop=True)"
   ]
  },
  {
   "cell_type": "code",
   "execution_count": 37,
   "id": "994756ba",
   "metadata": {
    "ExecuteTime": {
     "end_time": "2022-09-18T05:51:16.633813Z",
     "start_time": "2022-09-18T05:51:16.627287Z"
    }
   },
   "outputs": [],
   "source": [
    "data['horsepower'] = data['horsepower'].values.astype('float')"
   ]
  },
  {
   "cell_type": "code",
   "execution_count": 39,
   "id": "1940665c",
   "metadata": {
    "ExecuteTime": {
     "end_time": "2022-09-18T05:52:42.884417Z",
     "start_time": "2022-09-18T05:52:42.861934Z"
    }
   },
   "outputs": [
    {
     "name": "stdout",
     "output_type": "stream",
     "text": [
      "<class 'pandas.core.frame.DataFrame'>\n",
      "RangeIndex: 392 entries, 0 to 391\n",
      "Data columns (total 4 columns):\n",
      " #   Column        Non-Null Count  Dtype  \n",
      "---  ------        --------------  -----  \n",
      " 0   displacement  392 non-null    float64\n",
      " 1   horsepower    392 non-null    float64\n",
      " 2   weight        392 non-null    float64\n",
      " 3   acceleration  392 non-null    float64\n",
      "dtypes: float64(4)\n",
      "memory usage: 12.4 KB\n"
     ]
    }
   ],
   "source": [
    "data[features].info()"
   ]
  },
  {
   "cell_type": "markdown",
   "id": "6d091d82",
   "metadata": {},
   "source": [
    "## Choose X and y"
   ]
  },
  {
   "cell_type": "code",
   "execution_count": 38,
   "id": "3da15859",
   "metadata": {
    "ExecuteTime": {
     "end_time": "2022-09-18T05:52:17.774584Z",
     "start_time": "2022-09-18T05:52:17.762708Z"
    }
   },
   "outputs": [],
   "source": [
    "X = data[features].values\n",
    "y = data[target].values"
   ]
  },
  {
   "cell_type": "markdown",
   "id": "ab686fb4",
   "metadata": {},
   "source": [
    "### Split the data into train and test"
   ]
  },
  {
   "cell_type": "code",
   "execution_count": 40,
   "id": "195460ed",
   "metadata": {
    "ExecuteTime": {
     "end_time": "2022-09-18T05:53:43.552015Z",
     "start_time": "2022-09-18T05:53:43.537019Z"
    }
   },
   "outputs": [],
   "source": [
    "from sklearn.model_selection import train_test_split"
   ]
  },
  {
   "cell_type": "code",
   "execution_count": 67,
   "id": "cd708607",
   "metadata": {
    "ExecuteTime": {
     "end_time": "2022-09-18T06:32:34.249134Z",
     "start_time": "2022-09-18T06:32:34.240907Z"
    }
   },
   "outputs": [],
   "source": [
    "X_train, X_test, y_train, y_test = train_test_split(X, y, train_size=300)"
   ]
  },
  {
   "cell_type": "markdown",
   "id": "2eca33dd",
   "metadata": {},
   "source": [
    "## Univariate analysis"
   ]
  },
  {
   "cell_type": "markdown",
   "id": "dad1136f",
   "metadata": {},
   "source": [
    "### displacement"
   ]
  },
  {
   "cell_type": "code",
   "execution_count": 48,
   "id": "b1f00348",
   "metadata": {
    "ExecuteTime": {
     "end_time": "2022-09-18T06:00:31.408462Z",
     "start_time": "2022-09-18T06:00:31.252362Z"
    }
   },
   "outputs": [
    {
     "data": {
      "image/png": "[encoded data removed]",
      "text/plain": [
       "<Figure size 720x576 with 1 Axes>"
      ]
     },
     "metadata": {
      "needs_background": "light"
     },
     "output_type": "display_data"
    }
   ],
   "source": [
    "plt.figure(figsize=(10,8))\n",
    "plt.hist(data['displacement'], edgecolor='k')\n",
    "plt.grid()\n",
    "plt.title(\"Histogram of displacement\", fontsize=16)\n",
    "plt.show()"
   ]
  },
  {
   "cell_type": "markdown",
   "id": "95a7e67a",
   "metadata": {},
   "source": [
    "### horsepower"
   ]
  },
  {
   "cell_type": "code",
   "execution_count": 49,
   "id": "08a112ee",
   "metadata": {
    "ExecuteTime": {
     "end_time": "2022-09-18T06:01:21.429427Z",
     "start_time": "2022-09-18T06:01:21.255384Z"
    }
   },
   "outputs": [
    {
     "data": {
      "image/png": "[encoded data removed]",
      "text/plain": [
       "<Figure size 720x576 with 1 Axes>"
      ]
     },
     "metadata": {
      "needs_background": "light"
     },
     "output_type": "display_data"
    }
   ],
   "source": [
    "plt.figure(figsize=(10,8))\n",
    "plt.hist(data['horsepower'], edgecolor='k')\n",
    "plt.grid()\n",
    "plt.title(\"Histogram of horsepower\", fontsize=16)\n",
    "plt.show()"
   ]
  },
  {
   "cell_type": "markdown",
   "id": "5a5a789e",
   "metadata": {},
   "source": [
    "### weight"
   ]
  },
  {
   "cell_type": "code",
   "execution_count": 50,
   "id": "c33103e6",
   "metadata": {
    "ExecuteTime": {
     "end_time": "2022-09-18T06:02:06.473683Z",
     "start_time": "2022-09-18T06:02:06.332998Z"
    }
   },
   "outputs": [
    {
     "data": {
      "image/png": "[encoded data removed]",
      "text/plain": [
       "<Figure size 720x576 with 1 Axes>"
      ]
     },
     "metadata": {
      "needs_background": "light"
     },
     "output_type": "display_data"
    }
   ],
   "source": [
    "plt.figure(figsize=(10,8))\n",
    "plt.hist(data['weight'], edgecolor='k')\n",
    "plt.grid()\n",
    "plt.title(\"Histogram of weight\", fontsize=16)\n",
    "plt.show()"
   ]
  },
  {
   "cell_type": "markdown",
   "id": "16896c6a",
   "metadata": {},
   "source": [
    "### acceleration"
   ]
  },
  {
   "cell_type": "code",
   "execution_count": 51,
   "id": "41fb9a3e",
   "metadata": {
    "ExecuteTime": {
     "end_time": "2022-09-18T06:03:23.871543Z",
     "start_time": "2022-09-18T06:03:23.725219Z"
    }
   },
   "outputs": [
    {
     "data": {
      "image/png": "[encoded data removed]",
      "text/plain": [
       "<Figure size 720x576 with 1 Axes>"
      ]
     },
     "metadata": {
      "needs_background": "light"
     },
     "output_type": "display_data"
    }
   ],
   "source": [
    "plt.figure(figsize=(10,8))\n",
    "plt.hist(data['acceleration'], edgecolor='k')\n",
    "plt.grid()\n",
    "plt.title(\"Histogram of acceleration\", fontsize=16)\n",
    "plt.show()"
   ]
  },
  {
   "cell_type": "markdown",
   "id": "170a3aaa",
   "metadata": {},
   "source": [
    "## Feature Scaling\n",
    "\n",
    "For gradient descent to work better we need features to be within same scale. \n",
    "We need to perform feature scaling in order to make gradient descent work better."
   ]
  },
  {
   "cell_type": "code",
   "execution_count": 68,
   "id": "1128207d",
   "metadata": {
    "ExecuteTime": {
     "end_time": "2022-09-18T06:32:46.433962Z",
     "start_time": "2022-09-18T06:32:46.422855Z"
    }
   },
   "outputs": [],
   "source": [
    "for i in range(X_train.shape[1]):\n",
    "    minimum = X_train[:,i].min()\n",
    "    maximum = X_train[:,i].max()\n",
    "    X_train[:,i] = (X_train[:,i] - minimum)/(maximum - minimum)\n",
    "    X_test[:,i] = (X_test[:,i] - minimum)/(maximum - minimum)"
   ]
  },
  {
   "cell_type": "code",
   "execution_count": 69,
   "id": "5e83dae2",
   "metadata": {
    "ExecuteTime": {
     "end_time": "2022-09-18T06:32:48.799830Z",
     "start_time": "2022-09-18T06:32:48.784642Z"
    }
   },
   "outputs": [
    {
     "data": {
      "text/plain": [
       "array([[0.13953488, 0.18994413, 0.23759569, 0.51204819],\n",
       "       [0.93281654, 0.84916201, 0.77346187, 0.12048193],\n",
       "       [0.04392765, 0.13407821, 0.09413099, 0.53012048],\n",
       "       ...,\n",
       "       [0.17054264, 0.27374302, 0.26850014, 0.37349398],\n",
       "       [0.17054264, 0.24581006, 0.31131273, 0.45180723],\n",
       "       [0.47028424, 0.30167598, 0.48653246, 0.45180723]])"
      ]
     },
     "execution_count": 69,
     "metadata": {},
     "output_type": "execute_result"
    }
   ],
   "source": [
    "X_train"
   ]
  },
  {
   "cell_type": "markdown",
   "id": "1edf6baa",
   "metadata": {},
   "source": [
    "## Gradient Descent Algorithm\n",
    "\n",
    "### Step-1: initialize model parameters with random values\n",
    "\n",
    "We will have k+1 model parameters if we have k features"
   ]
  },
  {
   "cell_type": "code",
   "execution_count": 79,
   "id": "5ae5768d",
   "metadata": {
    "ExecuteTime": {
     "end_time": "2022-09-18T06:35:33.883492Z",
     "start_time": "2022-09-18T06:35:33.870136Z"
    }
   },
   "outputs": [],
   "source": [
    "k = len(features)"
   ]
  },
  {
   "cell_type": "code",
   "execution_count": 82,
   "id": "d84475cd",
   "metadata": {
    "ExecuteTime": {
     "end_time": "2022-09-18T06:36:50.773425Z",
     "start_time": "2022-09-18T06:36:50.751638Z"
    }
   },
   "outputs": [],
   "source": [
    "theta = np.random.rand(k+1)"
   ]
  },
  {
   "cell_type": "code",
   "execution_count": 83,
   "id": "ca998580",
   "metadata": {
    "ExecuteTime": {
     "end_time": "2022-09-18T06:36:54.589302Z",
     "start_time": "2022-09-18T06:36:54.567984Z"
    }
   },
   "outputs": [
    {
     "data": {
      "text/plain": [
       "array([0.56403541, 0.13511692, 0.76528868, 0.13994414, 0.54918837])"
      ]
     },
     "execution_count": 83,
     "metadata": {},
     "output_type": "execute_result"
    }
   ],
   "source": [
    "theta"
   ]
  },
  {
   "cell_type": "markdown",
   "id": "e012dbd9",
   "metadata": {},
   "source": [
    "### Step-2: add $x_0$ with all 1"
   ]
  },
  {
   "cell_type": "code",
   "execution_count": 84,
   "id": "d1b9fecd",
   "metadata": {
    "ExecuteTime": {
     "end_time": "2022-09-18T06:39:09.185959Z",
     "start_time": "2022-09-18T06:39:09.170478Z"
    }
   },
   "outputs": [],
   "source": [
    "x_0_train = np.ones(shape=X_train.shape[0])"
   ]
  },
  {
   "cell_type": "code",
   "execution_count": 86,
   "id": "a8d832d0",
   "metadata": {
    "ExecuteTime": {
     "end_time": "2022-09-18T06:39:17.208838Z",
     "start_time": "2022-09-18T06:39:17.188727Z"
    }
   },
   "outputs": [
    {
     "data": {
      "text/plain": [
       "(300,)"
      ]
     },
     "execution_count": 86,
     "metadata": {},
     "output_type": "execute_result"
    }
   ],
   "source": [
    "x_0_train.shape"
   ]
  },
  {
   "cell_type": "code",
   "execution_count": 89,
   "id": "b2f7ddf0",
   "metadata": {
    "ExecuteTime": {
     "end_time": "2022-09-18T06:40:57.371786Z",
     "start_time": "2022-09-18T06:40:57.360158Z"
    }
   },
   "outputs": [],
   "source": [
    "X_train = np.hstack((x_0_train.reshape(-1,1), X_train))"
   ]
  },
  {
   "cell_type": "code",
   "execution_count": 90,
   "id": "28e39956",
   "metadata": {
    "ExecuteTime": {
     "end_time": "2022-09-18T06:41:44.307693Z",
     "start_time": "2022-09-18T06:41:44.294375Z"
    }
   },
   "outputs": [],
   "source": [
    "x_0_test = np.ones(shape=X_test.shape[0])\n",
    "X_test = np.hstack((x_0_test.reshape(-1,1), X_test))"
   ]
  },
  {
   "cell_type": "code",
   "execution_count": 92,
   "id": "a14e0c48",
   "metadata": {
    "ExecuteTime": {
     "end_time": "2022-09-18T06:41:57.524751Z",
     "start_time": "2022-09-18T06:41:57.512835Z"
    }
   },
   "outputs": [
    {
     "data": {
      "text/plain": [
       "(300, 5)"
      ]
     },
     "execution_count": 92,
     "metadata": {},
     "output_type": "execute_result"
    }
   ],
   "source": [
    "X_train.shape"
   ]
  },
  {
   "cell_type": "code",
   "execution_count": 93,
   "id": "e9019c91",
   "metadata": {
    "ExecuteTime": {
     "end_time": "2022-09-18T06:42:04.608029Z",
     "start_time": "2022-09-18T06:42:04.594774Z"
    }
   },
   "outputs": [
    {
     "data": {
      "text/plain": [
       "(92, 5)"
      ]
     },
     "execution_count": 93,
     "metadata": {},
     "output_type": "execute_result"
    }
   ],
   "source": [
    "X_test.shape"
   ]
  },
  {
   "cell_type": "markdown",
   "id": "34d6a301",
   "metadata": {},
   "source": [
    "### Create a function that predicts the target variable"
   ]
  },
  {
   "cell_type": "code",
   "execution_count": 109,
   "id": "86c022b4",
   "metadata": {
    "ExecuteTime": {
     "end_time": "2022-09-18T06:50:29.985037Z",
     "start_time": "2022-09-18T06:50:29.970938Z"
    }
   },
   "outputs": [],
   "source": [
    "def predict(params, X):\n",
    "    return (params.reshape(1,-1) @ X.T).T"
   ]
  },
  {
   "cell_type": "code",
   "execution_count": 114,
   "id": "0e2ade82",
   "metadata": {
    "ExecuteTime": {
     "end_time": "2022-09-18T06:52:25.127995Z",
     "start_time": "2022-09-18T06:52:25.118289Z"
    }
   },
   "outputs": [],
   "source": [
    "y_pred = predict(theta, X_train)"
   ]
  },
  {
   "cell_type": "code",
   "execution_count": 118,
   "id": "c5fc1b4a",
   "metadata": {
    "ExecuteTime": {
     "end_time": "2022-09-18T06:53:03.083808Z",
     "start_time": "2022-09-18T06:53:03.075457Z"
    }
   },
   "outputs": [
    {
     "data": {
      "text/plain": [
       "((300, 1), (300, 1), (300, 5), (5,))"
      ]
     },
     "execution_count": 118,
     "metadata": {},
     "output_type": "execute_result"
    }
   ],
   "source": [
    "y_pred.shape, y_train.shape, X_train.shape, theta.shape"
   ]
  },
  {
   "cell_type": "markdown",
   "id": "33ef550a",
   "metadata": {},
   "source": [
    "### Cost function"
   ]
  },
  {
   "cell_type": "code",
   "execution_count": 156,
   "id": "d06a0ab5",
   "metadata": {
    "ExecuteTime": {
     "end_time": "2022-09-18T07:18:23.058498Z",
     "start_time": "2022-09-18T07:18:23.038414Z"
    }
   },
   "outputs": [],
   "source": [
    "def cost_function(y_pred, y_actual):\n",
    "    errors = y_pred - y_actual\n",
    "    return np.square(errors).sum()/(2*y_pred.shape[0])"
   ]
  },
  {
   "cell_type": "markdown",
   "id": "c32f4dd1",
   "metadata": {},
   "source": [
    "### Gradient descent update rule"
   ]
  },
  {
   "cell_type": "code",
   "execution_count": 204,
   "id": "e76743c0",
   "metadata": {
    "ExecuteTime": {
     "end_time": "2022-09-18T07:31:27.053909Z",
     "start_time": "2022-09-18T07:31:27.046091Z"
    }
   },
   "outputs": [],
   "source": [
    "def gradient_descent(X_values, y_values, theta_init, tolerance = 0.0001, iterations = 1000, alpha = 0.01, alpha_scaling = False):\n",
    "    \"\"\"\n",
    "    inputs:\n",
    "    -------\n",
    "    X_values : training samples of features\n",
    "    y_values : values of target varaible\n",
    "    theta_init : initial values of model parameters\n",
    "    tolerance : the minimum change in theta required\n",
    "    iterations : total number of iterations\n",
    "    alpha : learning rate\n",
    "    alpha_scaling : moderate the value of learning rate\n",
    "    \n",
    "    output:\n",
    "    -------\n",
    "    theta : model parameter optmized\n",
    "    cost_values : array of cost values\n",
    "    \"\"\"\n",
    "    cost_values = []\n",
    "    theta = theta_init\n",
    "    it = 0\n",
    "    m = X_values.shape[0]\n",
    "    alpha_max = alpha\n",
    "    alpha_min = alpha/100\n",
    "    while(it < iterations):\n",
    "        y_pred = predict(theta, X_values)\n",
    "        cost = cost_function(y_pred, y_values)\n",
    "        cost_values.append(cost)\n",
    "        # alpha scaling\n",
    "        if alpha_scaling:\n",
    "            alpha = alpha_min + ((alpha_max - alpha_min)/(iterations))*it\n",
    "        del_theta = ((-1*alpha / m) * (X_values.T @ (y_pred - y_values)).flatten())\n",
    "        theta = theta + del_theta\n",
    "        it += 1\n",
    "        ## stopping criteria\n",
    "        del_theta_mag = np.linalg.norm(del_theta)\n",
    "        if del_theta_mag < tolerance:\n",
    "            break\n",
    "    return theta, cost_values"
   ]
  },
  {
   "cell_type": "code",
   "execution_count": 205,
   "id": "50a2f235",
   "metadata": {
    "ExecuteTime": {
     "end_time": "2022-09-18T07:31:32.665466Z",
     "start_time": "2022-09-18T07:31:31.958786Z"
    }
   },
   "outputs": [],
   "source": [
    "model_params, costs = gradient_descent(X_train, y_train, theta, iterations=10000, alpha=0.1, tolerance=0.0001)"
   ]
  },
  {
   "cell_type": "code",
   "execution_count": 206,
   "id": "d7a7df06",
   "metadata": {
    "ExecuteTime": {
     "end_time": "2022-09-18T07:31:33.084093Z",
     "start_time": "2022-09-18T07:31:33.072599Z"
    }
   },
   "outputs": [
    {
     "data": {
      "text/plain": [
       "array([ 35.50287664,  -4.49292553,  -9.20209906, -16.63557513,\n",
       "        -2.62898083])"
      ]
     },
     "execution_count": 206,
     "metadata": {},
     "output_type": "execute_result"
    }
   ],
   "source": [
    "model_params"
   ]
  },
  {
   "cell_type": "code",
   "execution_count": 207,
   "id": "8e5469f8",
   "metadata": {
    "ExecuteTime": {
     "end_time": "2022-09-18T07:31:34.725259Z",
     "start_time": "2022-09-18T07:31:34.416768Z"
    }
   },
   "outputs": [
    {
     "data": {
      "image/png": "[encoded data removed]",
      "text/plain": [
       "<Figure size 864x720 with 1 Axes>"
      ]
     },
     "metadata": {
      "needs_background": "light"
     },
     "output_type": "display_data"
    }
   ],
   "source": [
    "plt.figure(figsize=(12,10))\n",
    "plt.plot(costs)\n",
    "plt.grid()\n",
    "plt.title(\"Cost vs iterations\", fontsize=16)\n",
    "plt.show()"
   ]
  },
  {
   "cell_type": "markdown",
   "id": "58b4885b",
   "metadata": {},
   "source": [
    "## Evaluation"
   ]
  },
  {
   "cell_type": "markdown",
   "id": "ae14a05a",
   "metadata": {},
   "source": [
    "### On the training dataset"
   ]
  },
  {
   "cell_type": "code",
   "execution_count": 208,
   "id": "19b94cff",
   "metadata": {
    "ExecuteTime": {
     "end_time": "2022-09-18T07:31:37.858995Z",
     "start_time": "2022-09-18T07:31:37.845270Z"
    }
   },
   "outputs": [],
   "source": [
    "model_output = predict(model_params, X_train)"
   ]
  },
  {
   "cell_type": "code",
   "execution_count": 209,
   "id": "35ca0b39",
   "metadata": {
    "ExecuteTime": {
     "end_time": "2022-09-18T07:31:38.318089Z",
     "start_time": "2022-09-18T07:31:38.289878Z"
    }
   },
   "outputs": [
    {
     "data": {
      "text/html": [
       "<div>\n",
       "<style scoped>\n",
       "    .dataframe tbody tr th:only-of-type {\n",
       "        vertical-align: middle;\n",
       "    }\n",
       "\n",
       "    .dataframe tbody tr th {\n",
       "        vertical-align: top;\n",
       "    }\n",
       "\n",
       "    .dataframe thead th {\n",
       "        text-align: right;\n",
       "    }\n",
       "</style>\n",
       "<table border=\"1\" class=\"dataframe\">\n",
       "  <thead>\n",
       "    <tr style=\"text-align: right;\">\n",
       "      <th></th>\n",
       "      <th>Predicted values</th>\n",
       "      <th>Actual values</th>\n",
       "      <th>Errors</th>\n",
       "    </tr>\n",
       "  </thead>\n",
       "  <tbody>\n",
       "    <tr>\n",
       "      <th>0</th>\n",
       "      <td>27.829366</td>\n",
       "      <td>26.0</td>\n",
       "      <td>1.829366</td>\n",
       "    </tr>\n",
       "    <tr>\n",
       "      <th>1</th>\n",
       "      <td>10.314001</td>\n",
       "      <td>15.0</td>\n",
       "      <td>-4.685999</td>\n",
       "    </tr>\n",
       "    <tr>\n",
       "      <th>2</th>\n",
       "      <td>31.112112</td>\n",
       "      <td>33.5</td>\n",
       "      <td>-2.387888</td>\n",
       "    </tr>\n",
       "    <tr>\n",
       "      <th>3</th>\n",
       "      <td>8.639821</td>\n",
       "      <td>12.0</td>\n",
       "      <td>-3.360179</td>\n",
       "    </tr>\n",
       "    <tr>\n",
       "      <th>4</th>\n",
       "      <td>23.316872</td>\n",
       "      <td>28.1</td>\n",
       "      <td>-4.783128</td>\n",
       "    </tr>\n",
       "    <tr>\n",
       "      <th>...</th>\n",
       "      <td>...</td>\n",
       "      <td>...</td>\n",
       "      <td>...</td>\n",
       "    </tr>\n",
       "    <tr>\n",
       "      <th>295</th>\n",
       "      <td>29.738943</td>\n",
       "      <td>25.0</td>\n",
       "      <td>4.738943</td>\n",
       "    </tr>\n",
       "    <tr>\n",
       "      <th>296</th>\n",
       "      <td>27.792116</td>\n",
       "      <td>28.0</td>\n",
       "      <td>-0.207884</td>\n",
       "    </tr>\n",
       "    <tr>\n",
       "      <th>297</th>\n",
       "      <td>26.769068</td>\n",
       "      <td>27.5</td>\n",
       "      <td>-0.730932</td>\n",
       "    </tr>\n",
       "    <tr>\n",
       "      <th>298</th>\n",
       "      <td>26.108014</td>\n",
       "      <td>29.8</td>\n",
       "      <td>-3.691986</td>\n",
       "    </tr>\n",
       "    <tr>\n",
       "      <th>299</th>\n",
       "      <td>21.332332</td>\n",
       "      <td>17.0</td>\n",
       "      <td>4.332332</td>\n",
       "    </tr>\n",
       "  </tbody>\n",
       "</table>\n",
       "<p>300 rows × 3 columns</p>\n",
       "</div>"
      ],
      "text/plain": [
       "     Predicted values  Actual values    Errors\n",
       "0           27.829366           26.0  1.829366\n",
       "1           10.314001           15.0 -4.685999\n",
       "2           31.112112           33.5 -2.387888\n",
       "3            8.639821           12.0 -3.360179\n",
       "4           23.316872           28.1 -4.783128\n",
       "..                ...            ...       ...\n",
       "295         29.738943           25.0  4.738943\n",
       "296         27.792116           28.0 -0.207884\n",
       "297         26.769068           27.5 -0.730932\n",
       "298         26.108014           29.8 -3.691986\n",
       "299         21.332332           17.0  4.332332\n",
       "\n",
       "[300 rows x 3 columns]"
      ]
     },
     "execution_count": 209,
     "metadata": {},
     "output_type": "execute_result"
    }
   ],
   "source": [
    "pd.DataFrame(np.hstack((model_output, y_train, model_output-y_train)), columns=['Predicted values', 'Actual values', 'Errors'])"
   ]
  },
  {
   "cell_type": "code",
   "execution_count": 210,
   "id": "4ea8c473",
   "metadata": {
    "ExecuteTime": {
     "end_time": "2022-09-18T07:31:39.370606Z",
     "start_time": "2022-09-18T07:31:39.351721Z"
    }
   },
   "outputs": [
    {
     "data": {
      "text/plain": [
       "8.567975182274044"
      ]
     },
     "execution_count": 210,
     "metadata": {},
     "output_type": "execute_result"
    }
   ],
   "source": [
    "cost_function(model_output, y_train)"
   ]
  },
  {
   "cell_type": "markdown",
   "id": "fbd1cb1f",
   "metadata": {},
   "source": [
    "### Evaluation on test dataset"
   ]
  },
  {
   "cell_type": "code",
   "execution_count": 213,
   "id": "568df24a",
   "metadata": {
    "ExecuteTime": {
     "end_time": "2022-09-18T07:32:14.072244Z",
     "start_time": "2022-09-18T07:32:14.060038Z"
    }
   },
   "outputs": [],
   "source": [
    "model_output = predict(model_params, X_test)"
   ]
  },
  {
   "cell_type": "code",
   "execution_count": 214,
   "id": "3f463e87",
   "metadata": {
    "ExecuteTime": {
     "end_time": "2022-09-18T07:32:14.332834Z",
     "start_time": "2022-09-18T07:32:14.310220Z"
    }
   },
   "outputs": [
    {
     "data": {
      "text/html": [
       "<div>\n",
       "<style scoped>\n",
       "    .dataframe tbody tr th:only-of-type {\n",
       "        vertical-align: middle;\n",
       "    }\n",
       "\n",
       "    .dataframe tbody tr th {\n",
       "        vertical-align: top;\n",
       "    }\n",
       "\n",
       "    .dataframe thead th {\n",
       "        text-align: right;\n",
       "    }\n",
       "</style>\n",
       "<table border=\"1\" class=\"dataframe\">\n",
       "  <thead>\n",
       "    <tr style=\"text-align: right;\">\n",
       "      <th></th>\n",
       "      <th>Predicted values</th>\n",
       "      <th>Actual values</th>\n",
       "      <th>Errors</th>\n",
       "    </tr>\n",
       "  </thead>\n",
       "  <tbody>\n",
       "    <tr>\n",
       "      <th>0</th>\n",
       "      <td>31.552041</td>\n",
       "      <td>31.9</td>\n",
       "      <td>-0.347959</td>\n",
       "    </tr>\n",
       "    <tr>\n",
       "      <th>1</th>\n",
       "      <td>23.287966</td>\n",
       "      <td>25.0</td>\n",
       "      <td>-1.712034</td>\n",
       "    </tr>\n",
       "    <tr>\n",
       "      <th>2</th>\n",
       "      <td>31.276556</td>\n",
       "      <td>32.0</td>\n",
       "      <td>-0.723444</td>\n",
       "    </tr>\n",
       "    <tr>\n",
       "      <th>3</th>\n",
       "      <td>12.697004</td>\n",
       "      <td>13.0</td>\n",
       "      <td>-0.302996</td>\n",
       "    </tr>\n",
       "    <tr>\n",
       "      <th>4</th>\n",
       "      <td>27.987535</td>\n",
       "      <td>27.2</td>\n",
       "      <td>0.787535</td>\n",
       "    </tr>\n",
       "    <tr>\n",
       "      <th>...</th>\n",
       "      <td>...</td>\n",
       "      <td>...</td>\n",
       "      <td>...</td>\n",
       "    </tr>\n",
       "    <tr>\n",
       "      <th>87</th>\n",
       "      <td>27.877417</td>\n",
       "      <td>25.5</td>\n",
       "      <td>2.377417</td>\n",
       "    </tr>\n",
       "    <tr>\n",
       "      <th>88</th>\n",
       "      <td>9.183509</td>\n",
       "      <td>12.0</td>\n",
       "      <td>-2.816491</td>\n",
       "    </tr>\n",
       "    <tr>\n",
       "      <th>89</th>\n",
       "      <td>12.419034</td>\n",
       "      <td>14.0</td>\n",
       "      <td>-1.580966</td>\n",
       "    </tr>\n",
       "    <tr>\n",
       "      <th>90</th>\n",
       "      <td>27.045591</td>\n",
       "      <td>27.4</td>\n",
       "      <td>-0.354409</td>\n",
       "    </tr>\n",
       "    <tr>\n",
       "      <th>91</th>\n",
       "      <td>21.120464</td>\n",
       "      <td>22.0</td>\n",
       "      <td>-0.879536</td>\n",
       "    </tr>\n",
       "  </tbody>\n",
       "</table>\n",
       "<p>92 rows × 3 columns</p>\n",
       "</div>"
      ],
      "text/plain": [
       "    Predicted values  Actual values    Errors\n",
       "0          31.552041           31.9 -0.347959\n",
       "1          23.287966           25.0 -1.712034\n",
       "2          31.276556           32.0 -0.723444\n",
       "3          12.697004           13.0 -0.302996\n",
       "4          27.987535           27.2  0.787535\n",
       "..               ...            ...       ...\n",
       "87         27.877417           25.5  2.377417\n",
       "88          9.183509           12.0 -2.816491\n",
       "89         12.419034           14.0 -1.580966\n",
       "90         27.045591           27.4 -0.354409\n",
       "91         21.120464           22.0 -0.879536\n",
       "\n",
       "[92 rows x 3 columns]"
      ]
     },
     "execution_count": 214,
     "metadata": {},
     "output_type": "execute_result"
    }
   ],
   "source": [
    "pd.DataFrame(np.hstack((model_output, y_test, model_output-y_test)), columns=['Predicted values', 'Actual values', 'Errors'])"
   ]
  },
  {
   "cell_type": "code",
   "execution_count": 215,
   "id": "18bcbd1f",
   "metadata": {
    "ExecuteTime": {
     "end_time": "2022-09-18T07:32:14.900535Z",
     "start_time": "2022-09-18T07:32:14.878373Z"
    }
   },
   "outputs": [
    {
     "data": {
      "text/plain": [
       "10.215423578091139"
      ]
     },
     "execution_count": 215,
     "metadata": {},
     "output_type": "execute_result"
    }
   ],
   "source": [
    "cost_function(model_output, y_test)"
   ]
  },
  {
   "cell_type": "markdown",
   "id": "09df5a74",
   "metadata": {},
   "source": [
    "## Using sklearn library to perform linear regression"
   ]
  },
  {
   "cell_type": "code",
   "execution_count": 222,
   "id": "c1b2978c",
   "metadata": {
    "ExecuteTime": {
     "end_time": "2022-09-18T07:38:06.474344Z",
     "start_time": "2022-09-18T07:38:06.466224Z"
    }
   },
   "outputs": [],
   "source": [
    "from sklearn.linear_model import LinearRegression"
   ]
  },
  {
   "cell_type": "code",
   "execution_count": 223,
   "id": "bc46d1a0",
   "metadata": {
    "ExecuteTime": {
     "end_time": "2022-09-18T07:38:06.951298Z",
     "start_time": "2022-09-18T07:38:06.940071Z"
    }
   },
   "outputs": [],
   "source": [
    "model = LinearRegression()"
   ]
  },
  {
   "cell_type": "code",
   "execution_count": 225,
   "id": "fd42499e",
   "metadata": {
    "ExecuteTime": {
     "end_time": "2022-09-18T07:38:21.087022Z",
     "start_time": "2022-09-18T07:38:21.074809Z"
    }
   },
   "outputs": [
    {
     "data": {
      "text/plain": [
       "LinearRegression()"
      ]
     },
     "execution_count": 225,
     "metadata": {},
     "output_type": "execute_result"
    }
   ],
   "source": [
    "model.fit(X_train[:,1:], y_train)"
   ]
  },
  {
   "cell_type": "markdown",
   "id": "8d9da0a5",
   "metadata": {},
   "source": [
    "### evaluation"
   ]
  },
  {
   "cell_type": "code",
   "execution_count": 226,
   "id": "f48a355f",
   "metadata": {
    "ExecuteTime": {
     "end_time": "2022-09-18T07:38:30.506373Z",
     "start_time": "2022-09-18T07:38:30.492180Z"
    }
   },
   "outputs": [],
   "source": [
    "y_pred_train = model.predict(X_train[:,1:])"
   ]
  },
  {
   "cell_type": "code",
   "execution_count": 227,
   "id": "05924ef1",
   "metadata": {
    "ExecuteTime": {
     "end_time": "2022-09-18T07:38:32.909388Z",
     "start_time": "2022-09-18T07:38:32.877093Z"
    }
   },
   "outputs": [
    {
     "data": {
      "text/html": [
       "<div>\n",
       "<style scoped>\n",
       "    .dataframe tbody tr th:only-of-type {\n",
       "        vertical-align: middle;\n",
       "    }\n",
       "\n",
       "    .dataframe tbody tr th {\n",
       "        vertical-align: top;\n",
       "    }\n",
       "\n",
       "    .dataframe thead th {\n",
       "        text-align: right;\n",
       "    }\n",
       "</style>\n",
       "<table border=\"1\" class=\"dataframe\">\n",
       "  <thead>\n",
       "    <tr style=\"text-align: right;\">\n",
       "      <th></th>\n",
       "      <th>Predicted values</th>\n",
       "      <th>Actual values</th>\n",
       "      <th>Errors</th>\n",
       "    </tr>\n",
       "  </thead>\n",
       "  <tbody>\n",
       "    <tr>\n",
       "      <th>0</th>\n",
       "      <td>27.832379</td>\n",
       "      <td>26.0</td>\n",
       "      <td>1.832379</td>\n",
       "    </tr>\n",
       "    <tr>\n",
       "      <th>1</th>\n",
       "      <td>10.284609</td>\n",
       "      <td>15.0</td>\n",
       "      <td>-4.715391</td>\n",
       "    </tr>\n",
       "    <tr>\n",
       "      <th>2</th>\n",
       "      <td>31.102148</td>\n",
       "      <td>33.5</td>\n",
       "      <td>-2.397852</td>\n",
       "    </tr>\n",
       "    <tr>\n",
       "      <th>3</th>\n",
       "      <td>8.651680</td>\n",
       "      <td>12.0</td>\n",
       "      <td>-3.348320</td>\n",
       "    </tr>\n",
       "    <tr>\n",
       "      <th>4</th>\n",
       "      <td>23.303387</td>\n",
       "      <td>28.1</td>\n",
       "      <td>-4.796613</td>\n",
       "    </tr>\n",
       "    <tr>\n",
       "      <th>...</th>\n",
       "      <td>...</td>\n",
       "      <td>...</td>\n",
       "      <td>...</td>\n",
       "    </tr>\n",
       "    <tr>\n",
       "      <th>295</th>\n",
       "      <td>29.745725</td>\n",
       "      <td>25.0</td>\n",
       "      <td>4.745725</td>\n",
       "    </tr>\n",
       "    <tr>\n",
       "      <th>296</th>\n",
       "      <td>27.791963</td>\n",
       "      <td>28.0</td>\n",
       "      <td>-0.208037</td>\n",
       "    </tr>\n",
       "    <tr>\n",
       "      <th>297</th>\n",
       "      <td>26.777173</td>\n",
       "      <td>27.5</td>\n",
       "      <td>-0.722827</td>\n",
       "    </tr>\n",
       "    <tr>\n",
       "      <th>298</th>\n",
       "      <td>26.116437</td>\n",
       "      <td>29.8</td>\n",
       "      <td>-3.683563</td>\n",
       "    </tr>\n",
       "    <tr>\n",
       "      <th>299</th>\n",
       "      <td>21.374294</td>\n",
       "      <td>17.0</td>\n",
       "      <td>4.374294</td>\n",
       "    </tr>\n",
       "  </tbody>\n",
       "</table>\n",
       "<p>300 rows × 3 columns</p>\n",
       "</div>"
      ],
      "text/plain": [
       "     Predicted values  Actual values    Errors\n",
       "0           27.832379           26.0  1.832379\n",
       "1           10.284609           15.0 -4.715391\n",
       "2           31.102148           33.5 -2.397852\n",
       "3            8.651680           12.0 -3.348320\n",
       "4           23.303387           28.1 -4.796613\n",
       "..                ...            ...       ...\n",
       "295         29.745725           25.0  4.745725\n",
       "296         27.791963           28.0 -0.208037\n",
       "297         26.777173           27.5 -0.722827\n",
       "298         26.116437           29.8 -3.683563\n",
       "299         21.374294           17.0  4.374294\n",
       "\n",
       "[300 rows x 3 columns]"
      ]
     },
     "execution_count": 227,
     "metadata": {},
     "output_type": "execute_result"
    }
   ],
   "source": [
    "pd.DataFrame(np.hstack((y_pred_train, y_train, y_pred_train-y_train)), columns=['Predicted values', 'Actual values', 'Errors'])"
   ]
  },
  {
   "cell_type": "code",
   "execution_count": 228,
   "id": "f9a08264",
   "metadata": {
    "ExecuteTime": {
     "end_time": "2022-09-18T07:38:38.116446Z",
     "start_time": "2022-09-18T07:38:38.098567Z"
    }
   },
   "outputs": [
    {
     "data": {
      "text/plain": [
       "8.567467058849285"
      ]
     },
     "execution_count": 228,
     "metadata": {},
     "output_type": "execute_result"
    }
   ],
   "source": [
    "cost_function(y_pred_train, y_train)"
   ]
  },
  {
   "cell_type": "code",
   "execution_count": 230,
   "id": "8c480827",
   "metadata": {
    "ExecuteTime": {
     "end_time": "2022-09-18T07:38:45.124496Z",
     "start_time": "2022-09-18T07:38:45.105344Z"
    }
   },
   "outputs": [],
   "source": [
    "y_pred_test = model.predict(X_test[:,1:])"
   ]
  },
  {
   "cell_type": "code",
   "execution_count": 231,
   "id": "fe8489f3",
   "metadata": {
    "ExecuteTime": {
     "end_time": "2022-09-18T07:38:48.092280Z",
     "start_time": "2022-09-18T07:38:48.067508Z"
    }
   },
   "outputs": [
    {
     "data": {
      "text/html": [
       "<div>\n",
       "<style scoped>\n",
       "    .dataframe tbody tr th:only-of-type {\n",
       "        vertical-align: middle;\n",
       "    }\n",
       "\n",
       "    .dataframe tbody tr th {\n",
       "        vertical-align: top;\n",
       "    }\n",
       "\n",
       "    .dataframe thead th {\n",
       "        text-align: right;\n",
       "    }\n",
       "</style>\n",
       "<table border=\"1\" class=\"dataframe\">\n",
       "  <thead>\n",
       "    <tr style=\"text-align: right;\">\n",
       "      <th></th>\n",
       "      <th>Predicted values</th>\n",
       "      <th>Actual values</th>\n",
       "      <th>Errors</th>\n",
       "    </tr>\n",
       "  </thead>\n",
       "  <tbody>\n",
       "    <tr>\n",
       "      <th>0</th>\n",
       "      <td>31.581956</td>\n",
       "      <td>31.9</td>\n",
       "      <td>-0.318044</td>\n",
       "    </tr>\n",
       "    <tr>\n",
       "      <th>1</th>\n",
       "      <td>23.255149</td>\n",
       "      <td>25.0</td>\n",
       "      <td>-1.744851</td>\n",
       "    </tr>\n",
       "    <tr>\n",
       "      <th>2</th>\n",
       "      <td>31.293310</td>\n",
       "      <td>32.0</td>\n",
       "      <td>-0.706690</td>\n",
       "    </tr>\n",
       "    <tr>\n",
       "      <th>3</th>\n",
       "      <td>12.705193</td>\n",
       "      <td>13.0</td>\n",
       "      <td>-0.294807</td>\n",
       "    </tr>\n",
       "    <tr>\n",
       "      <th>4</th>\n",
       "      <td>27.966649</td>\n",
       "      <td>27.2</td>\n",
       "      <td>0.766649</td>\n",
       "    </tr>\n",
       "    <tr>\n",
       "      <th>...</th>\n",
       "      <td>...</td>\n",
       "      <td>...</td>\n",
       "      <td>...</td>\n",
       "    </tr>\n",
       "    <tr>\n",
       "      <th>87</th>\n",
       "      <td>27.847700</td>\n",
       "      <td>25.5</td>\n",
       "      <td>2.347700</td>\n",
       "    </tr>\n",
       "    <tr>\n",
       "      <th>88</th>\n",
       "      <td>9.215021</td>\n",
       "      <td>12.0</td>\n",
       "      <td>-2.784979</td>\n",
       "    </tr>\n",
       "    <tr>\n",
       "      <th>89</th>\n",
       "      <td>12.428564</td>\n",
       "      <td>14.0</td>\n",
       "      <td>-1.571436</td>\n",
       "    </tr>\n",
       "    <tr>\n",
       "      <th>90</th>\n",
       "      <td>27.081693</td>\n",
       "      <td>27.4</td>\n",
       "      <td>-0.318307</td>\n",
       "    </tr>\n",
       "    <tr>\n",
       "      <th>91</th>\n",
       "      <td>21.166061</td>\n",
       "      <td>22.0</td>\n",
       "      <td>-0.833939</td>\n",
       "    </tr>\n",
       "  </tbody>\n",
       "</table>\n",
       "<p>92 rows × 3 columns</p>\n",
       "</div>"
      ],
      "text/plain": [
       "    Predicted values  Actual values    Errors\n",
       "0          31.581956           31.9 -0.318044\n",
       "1          23.255149           25.0 -1.744851\n",
       "2          31.293310           32.0 -0.706690\n",
       "3          12.705193           13.0 -0.294807\n",
       "4          27.966649           27.2  0.766649\n",
       "..               ...            ...       ...\n",
       "87         27.847700           25.5  2.347700\n",
       "88          9.215021           12.0 -2.784979\n",
       "89         12.428564           14.0 -1.571436\n",
       "90         27.081693           27.4 -0.318307\n",
       "91         21.166061           22.0 -0.833939\n",
       "\n",
       "[92 rows x 3 columns]"
      ]
     },
     "execution_count": 231,
     "metadata": {},
     "output_type": "execute_result"
    }
   ],
   "source": [
    "pd.DataFrame(np.hstack((y_pred_test, y_test, y_pred_test-y_test)), columns=['Predicted values', 'Actual values', 'Errors'])"
   ]
  },
  {
   "cell_type": "code",
   "execution_count": 232,
   "id": "7369c52c",
   "metadata": {
    "ExecuteTime": {
     "end_time": "2022-09-18T07:38:49.111641Z",
     "start_time": "2022-09-18T07:38:49.087667Z"
    }
   },
   "outputs": [
    {
     "data": {
      "text/plain": [
       "10.239326747386452"
      ]
     },
     "execution_count": 232,
     "metadata": {},
     "output_type": "execute_result"
    }
   ],
   "source": [
    "cost_function(y_pred_test, y_test)"
   ]
  },
  {
   "cell_type": "code",
   "execution_count": 233,
   "id": "b168ece4",
   "metadata": {
    "ExecuteTime": {
     "end_time": "2022-09-18T07:38:50.678956Z",
     "start_time": "2022-09-18T07:38:50.656132Z"
    }
   },
   "outputs": [
    {
     "data": {
      "text/plain": [
       "array([35.66659343])"
      ]
     },
     "execution_count": 233,
     "metadata": {},
     "output_type": "execute_result"
    }
   ],
   "source": [
    "model.intercept_"
   ]
  },
  {
   "cell_type": "code",
   "execution_count": 234,
   "id": "aa1d6325",
   "metadata": {
    "ExecuteTime": {
     "end_time": "2022-09-18T07:38:51.945991Z",
     "start_time": "2022-09-18T07:38:51.925511Z"
    }
   },
   "outputs": [
    {
     "data": {
      "text/plain": [
       "array([[ -4.39658128,  -9.65562831, -16.46437418,  -2.88028245]])"
      ]
     },
     "execution_count": 234,
     "metadata": {},
     "output_type": "execute_result"
    }
   ],
   "source": [
    "model.coef_"
   ]
  },
  {
   "cell_type": "code",
   "execution_count": 235,
   "id": "f9db9069",
   "metadata": {
    "ExecuteTime": {
     "end_time": "2022-09-18T07:38:53.927783Z",
     "start_time": "2022-09-18T07:38:53.913347Z"
    }
   },
   "outputs": [
    {
     "data": {
      "text/plain": [
       "array([ 35.50287664,  -4.49292553,  -9.20209906, -16.63557513,\n",
       "        -2.62898083])"
      ]
     },
     "execution_count": 235,
     "metadata": {},
     "output_type": "execute_result"
    }
   ],
   "source": [
    "model_params"
   ]
  },
  {
   "cell_type": "code",
   "execution_count": null,
   "id": "cf692b1f",
   "metadata": {},
   "outputs": [],
   "source": []
  }
 ],
 "metadata": {
  "kernelspec": {
   "display_name": "Python 3 (ipykernel)",
   "language": "python",
   "name": "python3"
  },
  "language_info": {
   "codemirror_mode": {
    "name": "ipython",
    "version": 3
   },
   "file_extension": ".py",
   "mimetype": "text/x-python",
   "name": "python",
   "nbconvert_exporter": "python",
   "pygments_lexer": "ipython3",
   "version": "3.9.7"
  },
  "toc": {
   "base_numbering": 1,
   "nav_menu": {},
   "number_sections": true,
   "sideBar": true,
   "skip_h1_title": true,
   "title_cell": "Table of Contents",
   "title_sidebar": "Contents",
   "toc_cell": false,
   "toc_position": {},
   "toc_section_display": true,
   "toc_window_display": true
  }
 },
 "nbformat": 4,
 "nbformat_minor": 5
}
